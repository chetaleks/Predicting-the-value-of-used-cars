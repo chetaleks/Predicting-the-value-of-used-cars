{
  "cells": [
    {
      "cell_type": "markdown",
      "id": "iIKi8pgJzjYs",
      "metadata": {
        "id": "iIKi8pgJzjYs"
      },
      "source": [
        "# Загружаем данные"
      ]
    },
    {
      "cell_type": "code",
      "execution_count": 4,
      "id": "3919afad",
      "metadata": {
        "id": "3919afad"
      },
      "outputs": [],
      "source": [
        "import pandas as pd\n",
        "import numpy as np\n",
        "import matplotlib.pyplot as plt\n",
        "import random\n",
        "import seaborn as sns"
      ]
    },
    {
      "cell_type": "code",
      "execution_count": null,
      "id": "7aea64cf",
      "metadata": {
        "colab": {
          "base_uri": "https://localhost:8080/"
        },
        "id": "7aea64cf",
        "outputId": "d8d5fa34-1024-4a20-e8b6-7e368618e8c3"
      },
      "outputs": [],
      "source": [
        "%pip install gdown"
      ]
    },
    {
      "cell_type": "code",
      "execution_count": 6,
      "id": "EFj1Gm1-zbUX",
      "metadata": {
        "colab": {
          "base_uri": "https://localhost:8080/"
        },
        "id": "EFj1Gm1-zbUX",
        "outputId": "77de804a-ee44-4514-96ae-d0520a2898dd"
      },
      "outputs": [],
      "source": [
        "CARS_FILE_ID = '1liFEe1-yFISPSpRSvbv1wIH_avYNGmBI'\n",
        "RANDOM_STATE = 42\n",
        "\n",
        "random.seed(RANDOM_STATE)\n",
        "np.random.seed(RANDOM_STATE)\n",
        "\n",
        "# !gdown --id {CARS_FILE_ID}"
      ]
    },
    {
      "cell_type": "code",
      "execution_count": 7,
      "id": "2c76bda4",
      "metadata": {
        "colab": {
          "base_uri": "https://localhost:8080/"
        },
        "id": "2c76bda4",
        "outputId": "52002ba1-8fc5-4099-b848-9c56a2af5e63"
      },
      "outputs": [
        {
          "name": "stdout",
          "output_type": "stream",
          "text": [
            "(604047, 24)\n"
          ]
        }
      ],
      "source": [
        "df = pd.read_csv('dataset.csv')\n",
        "print(df.shape)"
      ]
    },
    {
      "cell_type": "code",
      "execution_count": 8,
      "id": "02cc8a6e",
      "metadata": {
        "colab": {
          "base_uri": "https://localhost:8080/",
          "height": 638
        },
        "id": "02cc8a6e",
        "outputId": "5242db2a-0f19-44af-cee8-0c5337c63d1d"
      },
      "outputs": [
        {
          "data": {
            "text/html": [
              "<div>\n",
              "<style scoped>\n",
              "    .dataframe tbody tr th:only-of-type {\n",
              "        vertical-align: middle;\n",
              "    }\n",
              "\n",
              "    .dataframe tbody tr th {\n",
              "        vertical-align: top;\n",
              "    }\n",
              "\n",
              "    .dataframe thead th {\n",
              "        text-align: right;\n",
              "    }\n",
              "</style>\n",
              "<table border=\"1\" class=\"dataframe\">\n",
              "  <thead>\n",
              "    <tr style=\"text-align: right;\">\n",
              "      <th></th>\n",
              "      <th>production_year</th>\n",
              "      <th>mileage</th>\n",
              "      <th>condition</th>\n",
              "      <th>owners_number</th>\n",
              "      <th>pts_original</th>\n",
              "      <th>horse_power</th>\n",
              "      <th>accidents_resolution</th>\n",
              "      <th>region</th>\n",
              "      <th>seller_type</th>\n",
              "      <th>brand</th>\n",
              "      <th>...</th>\n",
              "      <th>engine_displacement</th>\n",
              "      <th>engine_power</th>\n",
              "      <th>fuel_rate</th>\n",
              "      <th>steering_wheel</th>\n",
              "      <th>price</th>\n",
              "      <th>price_segment</th>\n",
              "      <th>tags</th>\n",
              "      <th>auto_class</th>\n",
              "      <th>equipment</th>\n",
              "      <th>complectation_available_options</th>\n",
              "    </tr>\n",
              "  </thead>\n",
              "  <tbody>\n",
              "    <tr>\n",
              "      <th>436946</th>\n",
              "      <td>2024</td>\n",
              "      <td>0</td>\n",
              "      <td>CONDITION_OK</td>\n",
              "      <td>0</td>\n",
              "      <td>True</td>\n",
              "      <td>150.0</td>\n",
              "      <td>NaN</td>\n",
              "      <td>Санкт-Петербург</td>\n",
              "      <td>COMMERCIAL</td>\n",
              "      <td>Skoda</td>\n",
              "      <td>...</td>\n",
              "      <td>1395.0</td>\n",
              "      <td>150.0</td>\n",
              "      <td>7.2</td>\n",
              "      <td>LEFT</td>\n",
              "      <td>4600000</td>\n",
              "      <td>MEDIUM</td>\n",
              "      <td>all-terrain;big-trunk;dealer_quarantine_calls;...</td>\n",
              "      <td>C</td>\n",
              "      <td>tyre-pressure;start-stop-function;roof-rails;w...</td>\n",
              "      <td>cruise-control;multi-wheel;auto-park;heated-wa...</td>\n",
              "    </tr>\n",
              "    <tr>\n",
              "      <th>329728</th>\n",
              "      <td>2018</td>\n",
              "      <td>220000</td>\n",
              "      <td>CONDITION_OK</td>\n",
              "      <td>0</td>\n",
              "      <td>NaN</td>\n",
              "      <td>NaN</td>\n",
              "      <td>OK</td>\n",
              "      <td>Минск</td>\n",
              "      <td>PRIVATE</td>\n",
              "      <td>Mercedes-Benz</td>\n",
              "      <td>...</td>\n",
              "      <td>1950.0</td>\n",
              "      <td>194.0</td>\n",
              "      <td>4.6</td>\n",
              "      <td>LEFT</td>\n",
              "      <td>2500000</td>\n",
              "      <td>PREMIUM</td>\n",
              "      <td>allowed_for_credit;autoru_exclusive;available_...</td>\n",
              "      <td>E</td>\n",
              "      <td>electro-trunk;voice-recognition;android-auto;g...</td>\n",
              "      <td>NaN</td>\n",
              "    </tr>\n",
              "    <tr>\n",
              "      <th>343496</th>\n",
              "      <td>2006</td>\n",
              "      <td>326000</td>\n",
              "      <td>CONDITION_OK</td>\n",
              "      <td>4</td>\n",
              "      <td>NaN</td>\n",
              "      <td>224.0</td>\n",
              "      <td>OK</td>\n",
              "      <td>Санкт-Петербург</td>\n",
              "      <td>PRIVATE</td>\n",
              "      <td>Mercedes-Benz</td>\n",
              "      <td>...</td>\n",
              "      <td>2987.0</td>\n",
              "      <td>224.0</td>\n",
              "      <td>9.3</td>\n",
              "      <td>LEFT</td>\n",
              "      <td>999999</td>\n",
              "      <td>PREMIUM</td>\n",
              "      <td>all-terrain;allowed_for_credit;auction_call_fr...</td>\n",
              "      <td>E</td>\n",
              "      <td>wheel-power;lock;light-sensor;seats-5;electro-...</td>\n",
              "      <td>NaN</td>\n",
              "    </tr>\n",
              "    <tr>\n",
              "      <th>439783</th>\n",
              "      <td>2008</td>\n",
              "      <td>164233</td>\n",
              "      <td>CONDITION_OK</td>\n",
              "      <td>4</td>\n",
              "      <td>NaN</td>\n",
              "      <td>102.0</td>\n",
              "      <td>ERROR</td>\n",
              "      <td>Тверь</td>\n",
              "      <td>PRIVATE</td>\n",
              "      <td>Skoda</td>\n",
              "      <td>...</td>\n",
              "      <td>1595.0</td>\n",
              "      <td>102.0</td>\n",
              "      <td>7.1</td>\n",
              "      <td>LEFT</td>\n",
              "      <td>650000</td>\n",
              "      <td>MEDIUM</td>\n",
              "      <td>allowed_for_credit;auction_call_free_report;au...</td>\n",
              "      <td>C</td>\n",
              "      <td>seats-5</td>\n",
              "      <td>NaN</td>\n",
              "    </tr>\n",
              "    <tr>\n",
              "      <th>550845</th>\n",
              "      <td>2023</td>\n",
              "      <td>107</td>\n",
              "      <td>CONDITION_OK</td>\n",
              "      <td>1</td>\n",
              "      <td>True</td>\n",
              "      <td>89.0</td>\n",
              "      <td>OK</td>\n",
              "      <td>Краснодар</td>\n",
              "      <td>PRIVATE</td>\n",
              "      <td>Lada (ВАЗ)</td>\n",
              "      <td>...</td>\n",
              "      <td>1596.0</td>\n",
              "      <td>90.0</td>\n",
              "      <td>7.5</td>\n",
              "      <td>LEFT</td>\n",
              "      <td>1800000</td>\n",
              "      <td>ECONOMY</td>\n",
              "      <td>allowed_for_credit;almost_new;auction_call_fre...</td>\n",
              "      <td>C</td>\n",
              "      <td>audiosystem-cd;front-seats-heat;driver-seat-up...</td>\n",
              "      <td>cruise-control;multi-wheel;airbag-passenger;ro...</td>\n",
              "    </tr>\n",
              "    <tr>\n",
              "      <th>431807</th>\n",
              "      <td>2015</td>\n",
              "      <td>44450</td>\n",
              "      <td>CONDITION_OK</td>\n",
              "      <td>1</td>\n",
              "      <td>True</td>\n",
              "      <td>102.0</td>\n",
              "      <td>ERROR</td>\n",
              "      <td>Екатеринбург</td>\n",
              "      <td>PRIVATE</td>\n",
              "      <td>Renault</td>\n",
              "      <td>...</td>\n",
              "      <td>1598.0</td>\n",
              "      <td>102.0</td>\n",
              "      <td>8.3</td>\n",
              "      <td>LEFT</td>\n",
              "      <td>1044000</td>\n",
              "      <td>ECONOMY</td>\n",
              "      <td>affordable;allowed_for_credit;auction_call_fre...</td>\n",
              "      <td>B</td>\n",
              "      <td>cruise-control;wheel-power;wheel-configuration...</td>\n",
              "      <td>cruise-control;airbag-passenger;lock;seat-tran...</td>\n",
              "    </tr>\n",
              "    <tr>\n",
              "      <th>167063</th>\n",
              "      <td>2024</td>\n",
              "      <td>0</td>\n",
              "      <td>CONDITION_OK</td>\n",
              "      <td>0</td>\n",
              "      <td>True</td>\n",
              "      <td>304.0</td>\n",
              "      <td>NaN</td>\n",
              "      <td>Химки</td>\n",
              "      <td>COMMERCIAL</td>\n",
              "      <td>Genesis</td>\n",
              "      <td>...</td>\n",
              "      <td>2497.0</td>\n",
              "      <td>304.0</td>\n",
              "      <td>12.2</td>\n",
              "      <td>LEFT</td>\n",
              "      <td>15840000</td>\n",
              "      <td>PREMIUM</td>\n",
              "      <td>big;dealer_quarantine_calls;discount_options;f...</td>\n",
              "      <td>E</td>\n",
              "      <td>projection-display;audiosystem-cd;airbag-side;...</td>\n",
              "      <td>e-adjustment-wheel;multi-wheel;airbag-passenge...</td>\n",
              "    </tr>\n",
              "    <tr>\n",
              "      <th>391522</th>\n",
              "      <td>2021</td>\n",
              "      <td>43000</td>\n",
              "      <td>CONDITION_OK</td>\n",
              "      <td>0</td>\n",
              "      <td>NaN</td>\n",
              "      <td>204.0</td>\n",
              "      <td>OK</td>\n",
              "      <td>Владивосток</td>\n",
              "      <td>COMMERCIAL</td>\n",
              "      <td>Nissan</td>\n",
              "      <td>...</td>\n",
              "      <td>1497.0</td>\n",
              "      <td>204.0</td>\n",
              "      <td>7.3</td>\n",
              "      <td>LEFT</td>\n",
              "      <td>2843000</td>\n",
              "      <td>MEDIUM</td>\n",
              "      <td>allowed_for_credit;autoru_exclusive;big-trunk;...</td>\n",
              "      <td>D</td>\n",
              "      <td>seats-5</td>\n",
              "      <td>NaN</td>\n",
              "    </tr>\n",
              "    <tr>\n",
              "      <th>210052</th>\n",
              "      <td>2024</td>\n",
              "      <td>100</td>\n",
              "      <td>CONDITION_OK</td>\n",
              "      <td>1</td>\n",
              "      <td>True</td>\n",
              "      <td>115.0</td>\n",
              "      <td>OK</td>\n",
              "      <td>Новосибирск</td>\n",
              "      <td>PRIVATE</td>\n",
              "      <td>Hyundai</td>\n",
              "      <td>...</td>\n",
              "      <td>1497.0</td>\n",
              "      <td>115.0</td>\n",
              "      <td>5.3</td>\n",
              "      <td>LEFT</td>\n",
              "      <td>2530000</td>\n",
              "      <td>MEDIUM</td>\n",
              "      <td>allowed_for_credit;almost_new;auction_call_fre...</td>\n",
              "      <td>C</td>\n",
              "      <td>seats-5</td>\n",
              "      <td>NaN</td>\n",
              "    </tr>\n",
              "    <tr>\n",
              "      <th>46816</th>\n",
              "      <td>2024</td>\n",
              "      <td>34</td>\n",
              "      <td>CONDITION_OK</td>\n",
              "      <td>1</td>\n",
              "      <td>True</td>\n",
              "      <td>286.0</td>\n",
              "      <td>OK</td>\n",
              "      <td>Москва</td>\n",
              "      <td>COMMERCIAL</td>\n",
              "      <td>BMW</td>\n",
              "      <td>...</td>\n",
              "      <td>2993.0</td>\n",
              "      <td>286.0</td>\n",
              "      <td>8.2</td>\n",
              "      <td>LEFT</td>\n",
              "      <td>16150000</td>\n",
              "      <td>PREMIUM</td>\n",
              "      <td>allowed_for_credit;almost_new;auction_call_fre...</td>\n",
              "      <td>E</td>\n",
              "      <td>seats-5</td>\n",
              "      <td>NaN</td>\n",
              "    </tr>\n",
              "  </tbody>\n",
              "</table>\n",
              "<p>10 rows × 24 columns</p>\n",
              "</div>"
            ],
            "text/plain": [
              "        production_year  mileage     condition  owners_number pts_original  \\\n",
              "436946             2024        0  CONDITION_OK              0         True   \n",
              "329728             2018   220000  CONDITION_OK              0          NaN   \n",
              "343496             2006   326000  CONDITION_OK              4          NaN   \n",
              "439783             2008   164233  CONDITION_OK              4          NaN   \n",
              "550845             2023      107  CONDITION_OK              1         True   \n",
              "431807             2015    44450  CONDITION_OK              1         True   \n",
              "167063             2024        0  CONDITION_OK              0         True   \n",
              "391522             2021    43000  CONDITION_OK              0          NaN   \n",
              "210052             2024      100  CONDITION_OK              1         True   \n",
              "46816              2024       34  CONDITION_OK              1         True   \n",
              "\n",
              "        horse_power accidents_resolution           region seller_type  \\\n",
              "436946        150.0                  NaN  Санкт-Петербург  COMMERCIAL   \n",
              "329728          NaN                   OK            Минск     PRIVATE   \n",
              "343496        224.0                   OK  Санкт-Петербург     PRIVATE   \n",
              "439783        102.0                ERROR            Тверь     PRIVATE   \n",
              "550845         89.0                   OK        Краснодар     PRIVATE   \n",
              "431807        102.0                ERROR     Екатеринбург     PRIVATE   \n",
              "167063        304.0                  NaN            Химки  COMMERCIAL   \n",
              "391522        204.0                   OK      Владивосток  COMMERCIAL   \n",
              "210052        115.0                   OK      Новосибирск     PRIVATE   \n",
              "46816         286.0                   OK           Москва  COMMERCIAL   \n",
              "\n",
              "                brand  ... engine_displacement engine_power  fuel_rate  \\\n",
              "436946          Skoda  ...              1395.0        150.0        7.2   \n",
              "329728  Mercedes-Benz  ...              1950.0        194.0        4.6   \n",
              "343496  Mercedes-Benz  ...              2987.0        224.0        9.3   \n",
              "439783          Skoda  ...              1595.0        102.0        7.1   \n",
              "550845     Lada (ВАЗ)  ...              1596.0         90.0        7.5   \n",
              "431807        Renault  ...              1598.0        102.0        8.3   \n",
              "167063        Genesis  ...              2497.0        304.0       12.2   \n",
              "391522         Nissan  ...              1497.0        204.0        7.3   \n",
              "210052        Hyundai  ...              1497.0        115.0        5.3   \n",
              "46816             BMW  ...              2993.0        286.0        8.2   \n",
              "\n",
              "       steering_wheel     price  price_segment  \\\n",
              "436946           LEFT   4600000         MEDIUM   \n",
              "329728           LEFT   2500000        PREMIUM   \n",
              "343496           LEFT    999999        PREMIUM   \n",
              "439783           LEFT    650000         MEDIUM   \n",
              "550845           LEFT   1800000        ECONOMY   \n",
              "431807           LEFT   1044000        ECONOMY   \n",
              "167063           LEFT  15840000        PREMIUM   \n",
              "391522           LEFT   2843000         MEDIUM   \n",
              "210052           LEFT   2530000         MEDIUM   \n",
              "46816            LEFT  16150000        PREMIUM   \n",
              "\n",
              "                                                     tags auto_class  \\\n",
              "436946  all-terrain;big-trunk;dealer_quarantine_calls;...          C   \n",
              "329728  allowed_for_credit;autoru_exclusive;available_...          E   \n",
              "343496  all-terrain;allowed_for_credit;auction_call_fr...          E   \n",
              "439783  allowed_for_credit;auction_call_free_report;au...          C   \n",
              "550845  allowed_for_credit;almost_new;auction_call_fre...          C   \n",
              "431807  affordable;allowed_for_credit;auction_call_fre...          B   \n",
              "167063  big;dealer_quarantine_calls;discount_options;f...          E   \n",
              "391522  allowed_for_credit;autoru_exclusive;big-trunk;...          D   \n",
              "210052  allowed_for_credit;almost_new;auction_call_fre...          C   \n",
              "46816   allowed_for_credit;almost_new;auction_call_fre...          E   \n",
              "\n",
              "                                                equipment  \\\n",
              "436946  tyre-pressure;start-stop-function;roof-rails;w...   \n",
              "329728  electro-trunk;voice-recognition;android-auto;g...   \n",
              "343496  wheel-power;lock;light-sensor;seats-5;electro-...   \n",
              "439783                                            seats-5   \n",
              "550845  audiosystem-cd;front-seats-heat;driver-seat-up...   \n",
              "431807  cruise-control;wheel-power;wheel-configuration...   \n",
              "167063  projection-display;audiosystem-cd;airbag-side;...   \n",
              "391522                                            seats-5   \n",
              "210052                                            seats-5   \n",
              "46816                                             seats-5   \n",
              "\n",
              "                          complectation_available_options  \n",
              "436946  cruise-control;multi-wheel;auto-park;heated-wa...  \n",
              "329728                                                NaN  \n",
              "343496                                                NaN  \n",
              "439783                                                NaN  \n",
              "550845  cruise-control;multi-wheel;airbag-passenger;ro...  \n",
              "431807  cruise-control;airbag-passenger;lock;seat-tran...  \n",
              "167063  e-adjustment-wheel;multi-wheel;airbag-passenge...  \n",
              "391522                                                NaN  \n",
              "210052                                                NaN  \n",
              "46816                                                 NaN  \n",
              "\n",
              "[10 rows x 24 columns]"
            ]
          },
          "execution_count": 8,
          "metadata": {},
          "output_type": "execute_result"
        }
      ],
      "source": [
        "df.sample(10)"
      ]
    },
    {
      "cell_type": "markdown",
      "id": "OzLK06L-znOW",
      "metadata": {
        "id": "OzLK06L-znOW"
      },
      "source": [
        "# Делаем предобработку"
      ]
    },
    {
      "cell_type": "code",
      "execution_count": 9,
      "id": "b566ccb4",
      "metadata": {
        "colab": {
          "base_uri": "https://localhost:8080/",
          "height": 130
        },
        "id": "b566ccb4",
        "outputId": "9d9186fa-7c31-4c6b-be96-a5ce032fa684"
      },
      "outputs": [
        {
          "data": {
            "text/html": [
              "<div>\n",
              "<style scoped>\n",
              "    .dataframe tbody tr th:only-of-type {\n",
              "        vertical-align: middle;\n",
              "    }\n",
              "\n",
              "    .dataframe tbody tr th {\n",
              "        vertical-align: top;\n",
              "    }\n",
              "\n",
              "    .dataframe thead th {\n",
              "        text-align: right;\n",
              "    }\n",
              "</style>\n",
              "<table border=\"1\" class=\"dataframe\">\n",
              "  <thead>\n",
              "    <tr style=\"text-align: right;\">\n",
              "      <th></th>\n",
              "      <th>production_year</th>\n",
              "      <th>mileage</th>\n",
              "      <th>condition</th>\n",
              "      <th>owners_number</th>\n",
              "      <th>pts_original</th>\n",
              "      <th>horse_power</th>\n",
              "      <th>accidents_resolution</th>\n",
              "      <th>region</th>\n",
              "      <th>seller_type</th>\n",
              "      <th>brand</th>\n",
              "      <th>...</th>\n",
              "      <th>engine_displacement</th>\n",
              "      <th>engine_power</th>\n",
              "      <th>fuel_rate</th>\n",
              "      <th>steering_wheel</th>\n",
              "      <th>price</th>\n",
              "      <th>price_segment</th>\n",
              "      <th>tags</th>\n",
              "      <th>auto_class</th>\n",
              "      <th>equipment</th>\n",
              "      <th>complectation_available_options</th>\n",
              "    </tr>\n",
              "  </thead>\n",
              "  <tbody>\n",
              "    <tr>\n",
              "      <th>210905</th>\n",
              "      <td>2003</td>\n",
              "      <td>175000</td>\n",
              "      <td>CONDITION_OK</td>\n",
              "      <td>0</td>\n",
              "      <td>True</td>\n",
              "      <td>NaN</td>\n",
              "      <td>NaN</td>\n",
              "      <td>Чебаркуль</td>\n",
              "      <td>PRIVATE</td>\n",
              "      <td>Hyundai</td>\n",
              "      <td>...</td>\n",
              "      <td>NaN</td>\n",
              "      <td>NaN</td>\n",
              "      <td>NaN</td>\n",
              "      <td>LEFT</td>\n",
              "      <td>380000</td>\n",
              "      <td>MEDIUM</td>\n",
              "      <td>available_for_checkup;pts_original;real_photo;...</td>\n",
              "      <td>NaN</td>\n",
              "      <td>seats-5</td>\n",
              "      <td>NaN</td>\n",
              "    </tr>\n",
              "  </tbody>\n",
              "</table>\n",
              "<p>1 rows × 24 columns</p>\n",
              "</div>"
            ],
            "text/plain": [
              "        production_year  mileage     condition  owners_number pts_original  \\\n",
              "210905             2003   175000  CONDITION_OK              0         True   \n",
              "\n",
              "        horse_power accidents_resolution     region seller_type    brand  ...  \\\n",
              "210905          NaN                  NaN  Чебаркуль     PRIVATE  Hyundai  ...   \n",
              "\n",
              "       engine_displacement engine_power  fuel_rate steering_wheel   price  \\\n",
              "210905                 NaN          NaN        NaN           LEFT  380000   \n",
              "\n",
              "        price_segment                                               tags  \\\n",
              "210905         MEDIUM  available_for_checkup;pts_original;real_photo;...   \n",
              "\n",
              "       auto_class  equipment complectation_available_options  \n",
              "210905        NaN    seats-5                             NaN  \n",
              "\n",
              "[1 rows x 24 columns]"
            ]
          },
          "execution_count": 9,
          "metadata": {},
          "output_type": "execute_result"
        }
      ],
      "source": [
        "df_with_na_column = df[df['engine_displacement'].isna()]\n",
        "df_with_na_column"
      ]
    },
    {
      "cell_type": "code",
      "execution_count": 10,
      "id": "b3b83006",
      "metadata": {
        "id": "b3b83006"
      },
      "outputs": [],
      "source": [
        "df.drop(210905, inplace=True)"
      ]
    },
    {
      "cell_type": "code",
      "execution_count": null,
      "id": "2fcf2514",
      "metadata": {
        "colab": {
          "base_uri": "https://localhost:8080/"
        },
        "id": "2fcf2514",
        "outputId": "c856b0c0-f06a-4acc-a879-02fa991a7b6e"
      },
      "outputs": [],
      "source": [
        "df['fuel_rate'].fillna(df['fuel_rate'].median(), inplace=True)"
      ]
    },
    {
      "cell_type": "code",
      "execution_count": null,
      "id": "bc2edfc2",
      "metadata": {
        "colab": {
          "base_uri": "https://localhost:8080/"
        },
        "id": "bc2edfc2",
        "outputId": "cf71ac63-b579-43f3-d618-2687c6aa996e"
      },
      "outputs": [],
      "source": [
        "df['pts_original'].fillna(True, inplace=True)\n",
        "df['accidents_resolution'].fillna('OK', inplace=True)\n",
        "df['auto_class'].fillna('NOT SPECIFIED', inplace=True)"
      ]
    },
    {
      "cell_type": "code",
      "execution_count": 13,
      "id": "6b7c0979",
      "metadata": {
        "id": "6b7c0979"
      },
      "outputs": [],
      "source": [
        "columns = ['production_year', 'mileage', 'condition', 'owners_number', 'pts_original', 'accidents_resolution', 'region', 'seller_type', 'brand', 'model', 'body_type', 'doors_count', 'seats', 'engine_displacement', 'engine_power', 'fuel_rate', 'steering_wheel', 'price', 'price_segment', 'auto_class']\n",
        "features = ['production_year', 'mileage', 'condition', 'owners_number', 'pts_original', 'accidents_resolution', 'region', 'seller_type', 'brand', 'model', 'body_type', 'doors_count', 'seats', 'engine_displacement', 'engine_power', 'fuel_rate', 'steering_wheel', 'price_segment', 'auto_class']"
      ]
    },
    {
      "cell_type": "code",
      "execution_count": 14,
      "id": "ac3e9f5e",
      "metadata": {
        "colab": {
          "base_uri": "https://localhost:8080/",
          "height": 711
        },
        "id": "ac3e9f5e",
        "outputId": "afb242dd-d40a-435b-b8ce-e4e3c1acc1e8"
      },
      "outputs": [
        {
          "data": {
            "text/plain": [
              "production_year         0\n",
              "mileage                 0\n",
              "condition               0\n",
              "owners_number           0\n",
              "pts_original            0\n",
              "accidents_resolution    0\n",
              "region                  0\n",
              "seller_type             0\n",
              "brand                   0\n",
              "model                   0\n",
              "body_type               0\n",
              "doors_count             0\n",
              "seats                   0\n",
              "engine_displacement     0\n",
              "engine_power            0\n",
              "fuel_rate               0\n",
              "steering_wheel          0\n",
              "price                   0\n",
              "price_segment           0\n",
              "auto_class              0\n",
              "dtype: int64"
            ]
          },
          "execution_count": 14,
          "metadata": {},
          "output_type": "execute_result"
        }
      ],
      "source": [
        "df[columns].isnull().sum()"
      ]
    },
    {
      "cell_type": "code",
      "execution_count": 15,
      "id": "9f7527ca",
      "metadata": {
        "id": "9f7527ca"
      },
      "outputs": [],
      "source": [
        "df.drop('horse_power', axis=1, inplace=True)"
      ]
    },
    {
      "cell_type": "code",
      "execution_count": 16,
      "id": "5fc9698d",
      "metadata": {
        "id": "5fc9698d"
      },
      "outputs": [],
      "source": [
        "df.drop(columns=[\"tags\", \"complectation_available_options\", \"equipment\"], inplace=True)"
      ]
    },
    {
      "cell_type": "code",
      "execution_count": 17,
      "id": "e715d874",
      "metadata": {
        "id": "e715d874"
      },
      "outputs": [],
      "source": [
        "import numpy as np\n",
        "\n",
        "def convert_seats(seats_str):\n",
        "    # Разбиваем строку по разделителю \";\" и преобразуем каждую часть в целое число\n",
        "    try:\n",
        "        numbers = list(map(int, seats_str.split(';')))\n",
        "    except Exception as e:\n",
        "        # Если не удалось преобразовать, возвращаем NaN\n",
        "        return np.nan\n",
        "    # Возвращаем среднее значение (можно выбрать max, min или другое агрегирующее значение)\n",
        "    return np.max(numbers)\n",
        "\n",
        "# Применяем функцию к столбцу и создаём новый числовой признак\n",
        "df[\"seats_numeric\"] = df[\"seats\"].apply(convert_seats)\n"
      ]
    },
    {
      "cell_type": "code",
      "execution_count": 18,
      "id": "8f5596f6",
      "metadata": {
        "id": "8f5596f6"
      },
      "outputs": [],
      "source": [
        "df.drop(columns=[\"seats\"], inplace=True)"
      ]
    },
    {
      "cell_type": "code",
      "execution_count": 19,
      "id": "79d35a7c",
      "metadata": {
        "id": "79d35a7c"
      },
      "outputs": [],
      "source": [
        "categorical_features = ['condition',\n",
        " 'accidents_resolution',\n",
        " 'region',\n",
        " 'seller_type',\n",
        " 'brand',\n",
        " 'model',\n",
        " 'body_type',\n",
        " 'steering_wheel',\n",
        " 'price_segment',\n",
        " 'auto_class']"
      ]
    },
    {
      "cell_type": "code",
      "execution_count": null,
      "id": "6d81fa20",
      "metadata": {
        "colab": {
          "base_uri": "https://localhost:8080/"
        },
        "id": "6d81fa20",
        "outputId": "cdd344c8-e8b4-4988-f481-be9c4ddcaf3e"
      },
      "outputs": [],
      "source": [
        "!pip install category-encoders"
      ]
    },
    {
      "cell_type": "code",
      "execution_count": 21,
      "id": "f206c93d",
      "metadata": {
        "id": "f206c93d"
      },
      "outputs": [],
      "source": [
        "for col in df.select_dtypes(include=['int64']):\n",
        "    df[col] = df[col].astype('int32')\n",
        "\n",
        "for col in df.select_dtypes(include=['float64']):\n",
        "    df[col] = df[col].astype('float32')\n",
        "\n",
        "for col in categorical_features:\n",
        "    df[col] = df[col].astype('category')"
      ]
    },
    {
      "cell_type": "code",
      "execution_count": 22,
      "id": "888bde07",
      "metadata": {
        "id": "888bde07"
      },
      "outputs": [],
      "source": [
        "y = df[\"price\"]\n",
        "X = df.drop(columns=[\"price\"])"
      ]
    },
    {
      "cell_type": "code",
      "execution_count": 23,
      "id": "0f2b559b",
      "metadata": {
        "id": "0f2b559b"
      },
      "outputs": [],
      "source": [
        "numeric_features = X.select_dtypes(include=['int64', 'float64']).columns.tolist()\n",
        "categorical_features = X.select_dtypes(include=['object', 'category']).columns.tolist()\n",
        "auto_ohe_features = [col for col in categorical_features if X[col].nunique() <= 30]\n",
        "auto_cb_features  = [col for col in categorical_features if X[col].nunique() > 30]\n",
        "auto_te_features = [col for col in categorical_features if X[col].nunique() > 30]\n",
        "\n",
        "low_cardinality_features = [col for col in categorical_features if X[col].nunique() <= 30]\n",
        "high_cardinality_features = [col for col in categorical_features if X[col].nunique() > 30]"
      ]
    },
    {
      "cell_type": "code",
      "execution_count": 24,
      "id": "88385401",
      "metadata": {
        "colab": {
          "base_uri": "https://localhost:8080/"
        },
        "id": "88385401",
        "outputId": "1239262b-dbb1-47b5-dea0-2e4093673dbf"
      },
      "outputs": [
        {
          "data": {
            "text/plain": [
              "2575"
            ]
          },
          "execution_count": 24,
          "metadata": {},
          "output_type": "execute_result"
        }
      ],
      "source": [
        "len(df[\"model\"].value_counts())"
      ]
    },
    {
      "cell_type": "markdown",
      "id": "xU_tXWtjzybA",
      "metadata": {
        "id": "xU_tXWtjzybA"
      },
      "source": [
        "# Делим данные на обучающую и тестовую выборки"
      ]
    },
    {
      "cell_type": "code",
      "execution_count": 25,
      "id": "02cdb4d7",
      "metadata": {
        "id": "02cdb4d7"
      },
      "outputs": [],
      "source": [
        "from sklearn.model_selection import train_test_split\n",
        "X_train, X_test, y_train, y_test = train_test_split(X, y, test_size=0.1, random_state=42)"
      ]
    },
    {
      "cell_type": "code",
      "execution_count": null,
      "id": "f79d34dd",
      "metadata": {
        "id": "f79d34dd"
      },
      "outputs": [],
      "source": [
        "pd.concat([X_train, y_train], axis=1).to_csv(\"train_data.csv\", index=False)\n"
      ]
    },
    {
      "cell_type": "markdown",
      "id": "M2qpf-FN0BII",
      "metadata": {
        "id": "M2qpf-FN0BII"
      },
      "source": [
        "# Начинаем обучать модели\n",
        "\n",
        "#### Предобработка данных:\n",
        "   - OneHot для категориальных\n",
        "   - StandardScaler() для числовых"
      ]
    },
    {
      "cell_type": "markdown",
      "id": "W7O5yj0p0Fcs",
      "metadata": {
        "id": "W7O5yj0p0Fcs"
      },
      "source": [
        "## SGD Regression"
      ]
    },
    {
      "cell_type": "code",
      "execution_count": null,
      "id": "96e9b0ab",
      "metadata": {
        "id": "96e9b0ab"
      },
      "outputs": [],
      "source": [
        "from sklearn.pipeline import Pipeline\n",
        "from sklearn.compose import ColumnTransformer\n",
        "from sklearn.preprocessing import StandardScaler, OneHotEncoder\n",
        "from sklearn.decomposition import TruncatedSVD"
      ]
    },
    {
      "cell_type": "code",
      "execution_count": null,
      "id": "c3537a2d",
      "metadata": {},
      "outputs": [],
      "source": [
        "preprocessor = ColumnTransformer([\n",
        "    ('num', StandardScaler(), numeric_features),\n",
        "    ('cat', OneHotEncoder(handle_unknown='ignore'), categorical_features)\n",
        "])"
      ]
    },
    {
      "cell_type": "code",
      "execution_count": null,
      "id": "0b794065",
      "metadata": {},
      "outputs": [],
      "source": [
        "full_pipeline = Pipeline([\n",
        "    ('preprocessor', preprocessor)\n",
        "])\n",
        "\n",
        "full_pipeline.fit(X_train)"
      ]
    },
    {
      "cell_type": "code",
      "execution_count": null,
      "id": "7454fe57",
      "metadata": {},
      "outputs": [],
      "source": [
        "X_transformed = full_pipeline.transform(X_train)"
      ]
    },
    {
      "cell_type": "code",
      "execution_count": 27,
      "id": "903f0be9",
      "metadata": {
        "colab": {
          "base_uri": "https://localhost:8080/",
          "height": 80
        },
        "id": "903f0be9",
        "outputId": "d592818a-e7b0-4683-d1a3-7cfa0dd3171b"
      },
      "outputs": [
        {
          "data": {
            "text/html": [
              "<style>#sk-container-id-1 {\n",
              "  /* Definition of color scheme common for light and dark mode */\n",
              "  --sklearn-color-text: #000;\n",
              "  --sklearn-color-text-muted: #666;\n",
              "  --sklearn-color-line: gray;\n",
              "  /* Definition of color scheme for unfitted estimators */\n",
              "  --sklearn-color-unfitted-level-0: #fff5e6;\n",
              "  --sklearn-color-unfitted-level-1: #f6e4d2;\n",
              "  --sklearn-color-unfitted-level-2: #ffe0b3;\n",
              "  --sklearn-color-unfitted-level-3: chocolate;\n",
              "  /* Definition of color scheme for fitted estimators */\n",
              "  --sklearn-color-fitted-level-0: #f0f8ff;\n",
              "  --sklearn-color-fitted-level-1: #d4ebff;\n",
              "  --sklearn-color-fitted-level-2: #b3dbfd;\n",
              "  --sklearn-color-fitted-level-3: cornflowerblue;\n",
              "\n",
              "  /* Specific color for light theme */\n",
              "  --sklearn-color-text-on-default-background: var(--sg-text-color, var(--theme-code-foreground, var(--jp-content-font-color1, black)));\n",
              "  --sklearn-color-background: var(--sg-background-color, var(--theme-background, var(--jp-layout-color0, white)));\n",
              "  --sklearn-color-border-box: var(--sg-text-color, var(--theme-code-foreground, var(--jp-content-font-color1, black)));\n",
              "  --sklearn-color-icon: #696969;\n",
              "\n",
              "  @media (prefers-color-scheme: dark) {\n",
              "    /* Redefinition of color scheme for dark theme */\n",
              "    --sklearn-color-text-on-default-background: var(--sg-text-color, var(--theme-code-foreground, var(--jp-content-font-color1, white)));\n",
              "    --sklearn-color-background: var(--sg-background-color, var(--theme-background, var(--jp-layout-color0, #111)));\n",
              "    --sklearn-color-border-box: var(--sg-text-color, var(--theme-code-foreground, var(--jp-content-font-color1, white)));\n",
              "    --sklearn-color-icon: #878787;\n",
              "  }\n",
              "}\n",
              "\n",
              "#sk-container-id-1 {\n",
              "  color: var(--sklearn-color-text);\n",
              "}\n",
              "\n",
              "#sk-container-id-1 pre {\n",
              "  padding: 0;\n",
              "}\n",
              "\n",
              "#sk-container-id-1 input.sk-hidden--visually {\n",
              "  border: 0;\n",
              "  clip: rect(1px 1px 1px 1px);\n",
              "  clip: rect(1px, 1px, 1px, 1px);\n",
              "  height: 1px;\n",
              "  margin: -1px;\n",
              "  overflow: hidden;\n",
              "  padding: 0;\n",
              "  position: absolute;\n",
              "  width: 1px;\n",
              "}\n",
              "\n",
              "#sk-container-id-1 div.sk-dashed-wrapped {\n",
              "  border: 1px dashed var(--sklearn-color-line);\n",
              "  margin: 0 0.4em 0.5em 0.4em;\n",
              "  box-sizing: border-box;\n",
              "  padding-bottom: 0.4em;\n",
              "  background-color: var(--sklearn-color-background);\n",
              "}\n",
              "\n",
              "#sk-container-id-1 div.sk-container {\n",
              "  /* jupyter's `normalize.less` sets `[hidden] { display: none; }`\n",
              "     but bootstrap.min.css set `[hidden] { display: none !important; }`\n",
              "     so we also need the `!important` here to be able to override the\n",
              "     default hidden behavior on the sphinx rendered scikit-learn.org.\n",
              "     See: https://github.com/scikit-learn/scikit-learn/issues/21755 */\n",
              "  display: inline-block !important;\n",
              "  position: relative;\n",
              "}\n",
              "\n",
              "#sk-container-id-1 div.sk-text-repr-fallback {\n",
              "  display: none;\n",
              "}\n",
              "\n",
              "div.sk-parallel-item,\n",
              "div.sk-serial,\n",
              "div.sk-item {\n",
              "  /* draw centered vertical line to link estimators */\n",
              "  background-image: linear-gradient(var(--sklearn-color-text-on-default-background), var(--sklearn-color-text-on-default-background));\n",
              "  background-size: 2px 100%;\n",
              "  background-repeat: no-repeat;\n",
              "  background-position: center center;\n",
              "}\n",
              "\n",
              "/* Parallel-specific style estimator block */\n",
              "\n",
              "#sk-container-id-1 div.sk-parallel-item::after {\n",
              "  content: \"\";\n",
              "  width: 100%;\n",
              "  border-bottom: 2px solid var(--sklearn-color-text-on-default-background);\n",
              "  flex-grow: 1;\n",
              "}\n",
              "\n",
              "#sk-container-id-1 div.sk-parallel {\n",
              "  display: flex;\n",
              "  align-items: stretch;\n",
              "  justify-content: center;\n",
              "  background-color: var(--sklearn-color-background);\n",
              "  position: relative;\n",
              "}\n",
              "\n",
              "#sk-container-id-1 div.sk-parallel-item {\n",
              "  display: flex;\n",
              "  flex-direction: column;\n",
              "}\n",
              "\n",
              "#sk-container-id-1 div.sk-parallel-item:first-child::after {\n",
              "  align-self: flex-end;\n",
              "  width: 50%;\n",
              "}\n",
              "\n",
              "#sk-container-id-1 div.sk-parallel-item:last-child::after {\n",
              "  align-self: flex-start;\n",
              "  width: 50%;\n",
              "}\n",
              "\n",
              "#sk-container-id-1 div.sk-parallel-item:only-child::after {\n",
              "  width: 0;\n",
              "}\n",
              "\n",
              "/* Serial-specific style estimator block */\n",
              "\n",
              "#sk-container-id-1 div.sk-serial {\n",
              "  display: flex;\n",
              "  flex-direction: column;\n",
              "  align-items: center;\n",
              "  background-color: var(--sklearn-color-background);\n",
              "  padding-right: 1em;\n",
              "  padding-left: 1em;\n",
              "}\n",
              "\n",
              "\n",
              "/* Toggleable style: style used for estimator/Pipeline/ColumnTransformer box that is\n",
              "clickable and can be expanded/collapsed.\n",
              "- Pipeline and ColumnTransformer use this feature and define the default style\n",
              "- Estimators will overwrite some part of the style using the `sk-estimator` class\n",
              "*/\n",
              "\n",
              "/* Pipeline and ColumnTransformer style (default) */\n",
              "\n",
              "#sk-container-id-1 div.sk-toggleable {\n",
              "  /* Default theme specific background. It is overwritten whether we have a\n",
              "  specific estimator or a Pipeline/ColumnTransformer */\n",
              "  background-color: var(--sklearn-color-background);\n",
              "}\n",
              "\n",
              "/* Toggleable label */\n",
              "#sk-container-id-1 label.sk-toggleable__label {\n",
              "  cursor: pointer;\n",
              "  display: flex;\n",
              "  width: 100%;\n",
              "  margin-bottom: 0;\n",
              "  padding: 0.5em;\n",
              "  box-sizing: border-box;\n",
              "  text-align: center;\n",
              "  align-items: start;\n",
              "  justify-content: space-between;\n",
              "  gap: 0.5em;\n",
              "}\n",
              "\n",
              "#sk-container-id-1 label.sk-toggleable__label .caption {\n",
              "  font-size: 0.6rem;\n",
              "  font-weight: lighter;\n",
              "  color: var(--sklearn-color-text-muted);\n",
              "}\n",
              "\n",
              "#sk-container-id-1 label.sk-toggleable__label-arrow:before {\n",
              "  /* Arrow on the left of the label */\n",
              "  content: \"▸\";\n",
              "  float: left;\n",
              "  margin-right: 0.25em;\n",
              "  color: var(--sklearn-color-icon);\n",
              "}\n",
              "\n",
              "#sk-container-id-1 label.sk-toggleable__label-arrow:hover:before {\n",
              "  color: var(--sklearn-color-text);\n",
              "}\n",
              "\n",
              "/* Toggleable content - dropdown */\n",
              "\n",
              "#sk-container-id-1 div.sk-toggleable__content {\n",
              "  max-height: 0;\n",
              "  max-width: 0;\n",
              "  overflow: hidden;\n",
              "  text-align: left;\n",
              "  /* unfitted */\n",
              "  background-color: var(--sklearn-color-unfitted-level-0);\n",
              "}\n",
              "\n",
              "#sk-container-id-1 div.sk-toggleable__content.fitted {\n",
              "  /* fitted */\n",
              "  background-color: var(--sklearn-color-fitted-level-0);\n",
              "}\n",
              "\n",
              "#sk-container-id-1 div.sk-toggleable__content pre {\n",
              "  margin: 0.2em;\n",
              "  border-radius: 0.25em;\n",
              "  color: var(--sklearn-color-text);\n",
              "  /* unfitted */\n",
              "  background-color: var(--sklearn-color-unfitted-level-0);\n",
              "}\n",
              "\n",
              "#sk-container-id-1 div.sk-toggleable__content.fitted pre {\n",
              "  /* unfitted */\n",
              "  background-color: var(--sklearn-color-fitted-level-0);\n",
              "}\n",
              "\n",
              "#sk-container-id-1 input.sk-toggleable__control:checked~div.sk-toggleable__content {\n",
              "  /* Expand drop-down */\n",
              "  max-height: 200px;\n",
              "  max-width: 100%;\n",
              "  overflow: auto;\n",
              "}\n",
              "\n",
              "#sk-container-id-1 input.sk-toggleable__control:checked~label.sk-toggleable__label-arrow:before {\n",
              "  content: \"▾\";\n",
              "}\n",
              "\n",
              "/* Pipeline/ColumnTransformer-specific style */\n",
              "\n",
              "#sk-container-id-1 div.sk-label input.sk-toggleable__control:checked~label.sk-toggleable__label {\n",
              "  color: var(--sklearn-color-text);\n",
              "  background-color: var(--sklearn-color-unfitted-level-2);\n",
              "}\n",
              "\n",
              "#sk-container-id-1 div.sk-label.fitted input.sk-toggleable__control:checked~label.sk-toggleable__label {\n",
              "  background-color: var(--sklearn-color-fitted-level-2);\n",
              "}\n",
              "\n",
              "/* Estimator-specific style */\n",
              "\n",
              "/* Colorize estimator box */\n",
              "#sk-container-id-1 div.sk-estimator input.sk-toggleable__control:checked~label.sk-toggleable__label {\n",
              "  /* unfitted */\n",
              "  background-color: var(--sklearn-color-unfitted-level-2);\n",
              "}\n",
              "\n",
              "#sk-container-id-1 div.sk-estimator.fitted input.sk-toggleable__control:checked~label.sk-toggleable__label {\n",
              "  /* fitted */\n",
              "  background-color: var(--sklearn-color-fitted-level-2);\n",
              "}\n",
              "\n",
              "#sk-container-id-1 div.sk-label label.sk-toggleable__label,\n",
              "#sk-container-id-1 div.sk-label label {\n",
              "  /* The background is the default theme color */\n",
              "  color: var(--sklearn-color-text-on-default-background);\n",
              "}\n",
              "\n",
              "/* On hover, darken the color of the background */\n",
              "#sk-container-id-1 div.sk-label:hover label.sk-toggleable__label {\n",
              "  color: var(--sklearn-color-text);\n",
              "  background-color: var(--sklearn-color-unfitted-level-2);\n",
              "}\n",
              "\n",
              "/* Label box, darken color on hover, fitted */\n",
              "#sk-container-id-1 div.sk-label.fitted:hover label.sk-toggleable__label.fitted {\n",
              "  color: var(--sklearn-color-text);\n",
              "  background-color: var(--sklearn-color-fitted-level-2);\n",
              "}\n",
              "\n",
              "/* Estimator label */\n",
              "\n",
              "#sk-container-id-1 div.sk-label label {\n",
              "  font-family: monospace;\n",
              "  font-weight: bold;\n",
              "  display: inline-block;\n",
              "  line-height: 1.2em;\n",
              "}\n",
              "\n",
              "#sk-container-id-1 div.sk-label-container {\n",
              "  text-align: center;\n",
              "}\n",
              "\n",
              "/* Estimator-specific */\n",
              "#sk-container-id-1 div.sk-estimator {\n",
              "  font-family: monospace;\n",
              "  border: 1px dotted var(--sklearn-color-border-box);\n",
              "  border-radius: 0.25em;\n",
              "  box-sizing: border-box;\n",
              "  margin-bottom: 0.5em;\n",
              "  /* unfitted */\n",
              "  background-color: var(--sklearn-color-unfitted-level-0);\n",
              "}\n",
              "\n",
              "#sk-container-id-1 div.sk-estimator.fitted {\n",
              "  /* fitted */\n",
              "  background-color: var(--sklearn-color-fitted-level-0);\n",
              "}\n",
              "\n",
              "/* on hover */\n",
              "#sk-container-id-1 div.sk-estimator:hover {\n",
              "  /* unfitted */\n",
              "  background-color: var(--sklearn-color-unfitted-level-2);\n",
              "}\n",
              "\n",
              "#sk-container-id-1 div.sk-estimator.fitted:hover {\n",
              "  /* fitted */\n",
              "  background-color: var(--sklearn-color-fitted-level-2);\n",
              "}\n",
              "\n",
              "/* Specification for estimator info (e.g. \"i\" and \"?\") */\n",
              "\n",
              "/* Common style for \"i\" and \"?\" */\n",
              "\n",
              ".sk-estimator-doc-link,\n",
              "a:link.sk-estimator-doc-link,\n",
              "a:visited.sk-estimator-doc-link {\n",
              "  float: right;\n",
              "  font-size: smaller;\n",
              "  line-height: 1em;\n",
              "  font-family: monospace;\n",
              "  background-color: var(--sklearn-color-background);\n",
              "  border-radius: 1em;\n",
              "  height: 1em;\n",
              "  width: 1em;\n",
              "  text-decoration: none !important;\n",
              "  margin-left: 0.5em;\n",
              "  text-align: center;\n",
              "  /* unfitted */\n",
              "  border: var(--sklearn-color-unfitted-level-1) 1pt solid;\n",
              "  color: var(--sklearn-color-unfitted-level-1);\n",
              "}\n",
              "\n",
              ".sk-estimator-doc-link.fitted,\n",
              "a:link.sk-estimator-doc-link.fitted,\n",
              "a:visited.sk-estimator-doc-link.fitted {\n",
              "  /* fitted */\n",
              "  border: var(--sklearn-color-fitted-level-1) 1pt solid;\n",
              "  color: var(--sklearn-color-fitted-level-1);\n",
              "}\n",
              "\n",
              "/* On hover */\n",
              "div.sk-estimator:hover .sk-estimator-doc-link:hover,\n",
              ".sk-estimator-doc-link:hover,\n",
              "div.sk-label-container:hover .sk-estimator-doc-link:hover,\n",
              ".sk-estimator-doc-link:hover {\n",
              "  /* unfitted */\n",
              "  background-color: var(--sklearn-color-unfitted-level-3);\n",
              "  color: var(--sklearn-color-background);\n",
              "  text-decoration: none;\n",
              "}\n",
              "\n",
              "div.sk-estimator.fitted:hover .sk-estimator-doc-link.fitted:hover,\n",
              ".sk-estimator-doc-link.fitted:hover,\n",
              "div.sk-label-container:hover .sk-estimator-doc-link.fitted:hover,\n",
              ".sk-estimator-doc-link.fitted:hover {\n",
              "  /* fitted */\n",
              "  background-color: var(--sklearn-color-fitted-level-3);\n",
              "  color: var(--sklearn-color-background);\n",
              "  text-decoration: none;\n",
              "}\n",
              "\n",
              "/* Span, style for the box shown on hovering the info icon */\n",
              ".sk-estimator-doc-link span {\n",
              "  display: none;\n",
              "  z-index: 9999;\n",
              "  position: relative;\n",
              "  font-weight: normal;\n",
              "  right: .2ex;\n",
              "  padding: .5ex;\n",
              "  margin: .5ex;\n",
              "  width: min-content;\n",
              "  min-width: 20ex;\n",
              "  max-width: 50ex;\n",
              "  color: var(--sklearn-color-text);\n",
              "  box-shadow: 2pt 2pt 4pt #999;\n",
              "  /* unfitted */\n",
              "  background: var(--sklearn-color-unfitted-level-0);\n",
              "  border: .5pt solid var(--sklearn-color-unfitted-level-3);\n",
              "}\n",
              "\n",
              ".sk-estimator-doc-link.fitted span {\n",
              "  /* fitted */\n",
              "  background: var(--sklearn-color-fitted-level-0);\n",
              "  border: var(--sklearn-color-fitted-level-3);\n",
              "}\n",
              "\n",
              ".sk-estimator-doc-link:hover span {\n",
              "  display: block;\n",
              "}\n",
              "\n",
              "/* \"?\"-specific style due to the `<a>` HTML tag */\n",
              "\n",
              "#sk-container-id-1 a.estimator_doc_link {\n",
              "  float: right;\n",
              "  font-size: 1rem;\n",
              "  line-height: 1em;\n",
              "  font-family: monospace;\n",
              "  background-color: var(--sklearn-color-background);\n",
              "  border-radius: 1rem;\n",
              "  height: 1rem;\n",
              "  width: 1rem;\n",
              "  text-decoration: none;\n",
              "  /* unfitted */\n",
              "  color: var(--sklearn-color-unfitted-level-1);\n",
              "  border: var(--sklearn-color-unfitted-level-1) 1pt solid;\n",
              "}\n",
              "\n",
              "#sk-container-id-1 a.estimator_doc_link.fitted {\n",
              "  /* fitted */\n",
              "  border: var(--sklearn-color-fitted-level-1) 1pt solid;\n",
              "  color: var(--sklearn-color-fitted-level-1);\n",
              "}\n",
              "\n",
              "/* On hover */\n",
              "#sk-container-id-1 a.estimator_doc_link:hover {\n",
              "  /* unfitted */\n",
              "  background-color: var(--sklearn-color-unfitted-level-3);\n",
              "  color: var(--sklearn-color-background);\n",
              "  text-decoration: none;\n",
              "}\n",
              "\n",
              "#sk-container-id-1 a.estimator_doc_link.fitted:hover {\n",
              "  /* fitted */\n",
              "  background-color: var(--sklearn-color-fitted-level-3);\n",
              "}\n",
              "</style><div id=\"sk-container-id-1\" class=\"sk-top-container\"><div class=\"sk-text-repr-fallback\"><pre>SGDRegressor(max_iter=3000)</pre><b>In a Jupyter environment, please rerun this cell to show the HTML representation or trust the notebook. <br />On GitHub, the HTML representation is unable to render, please try loading this page with nbviewer.org.</b></div><div class=\"sk-container\" hidden><div class=\"sk-item\"><div class=\"sk-estimator fitted sk-toggleable\"><input class=\"sk-toggleable__control sk-hidden--visually\" id=\"sk-estimator-id-1\" type=\"checkbox\" checked><label for=\"sk-estimator-id-1\" class=\"sk-toggleable__label fitted sk-toggleable__label-arrow\"><div><div>SGDRegressor</div></div><div><a class=\"sk-estimator-doc-link fitted\" rel=\"noreferrer\" target=\"_blank\" href=\"https://scikit-learn.org/1.6/modules/generated/sklearn.linear_model.SGDRegressor.html\">?<span>Documentation for SGDRegressor</span></a><span class=\"sk-estimator-doc-link fitted\">i<span>Fitted</span></span></div></label><div class=\"sk-toggleable__content fitted\"><pre>SGDRegressor(max_iter=3000)</pre></div> </div></div></div></div>"
            ],
            "text/plain": [
              "SGDRegressor(max_iter=3000)"
            ]
          },
          "execution_count": 27,
          "metadata": {},
          "output_type": "execute_result"
        }
      ],
      "source": [
        "from sklearn.decomposition import TruncatedSVD\n",
        "from sklearn.pipeline import Pipeline\n",
        "from sklearn.linear_model import SGDRegressor\n",
        "from sklearn.compose import ColumnTransformer\n",
        "from sklearn.preprocessing import StandardScaler, OneHotEncoder\n",
        "from sklearn.impute import SimpleImputer\n",
        "import pandas as pd\n",
        "\n",
        "model = SGDRegressor(max_iter=3000, tol=1e-3)\n",
        "model.fit(X_transformed, y_train)"
      ]
    },
    {
      "cell_type": "code",
      "execution_count": null,
      "id": "b9f5cb65",
      "metadata": {},
      "outputs": [],
      "source": [
        "y_pred = model.predict(full_pipeline.transform(X_test))"
      ]
    },
    {
      "cell_type": "code",
      "execution_count": null,
      "id": "0e14ca99",
      "metadata": {
        "colab": {
          "base_uri": "https://localhost:8080/"
        },
        "id": "0e14ca99",
        "outputId": "a7095332-d647-462e-feef-9925ecca413f"
      },
      "outputs": [
        {
          "name": "stdout",
          "output_type": "stream",
          "text": [
            "MAE: 1088447.63 руб.\n",
            "R²: 0.49\n"
          ]
        }
      ],
      "source": [
        "from sklearn.metrics import mean_absolute_error, r2_score\n",
        "\n",
        "print(f\"MAE: {mean_absolute_error(y_test, y_pred):.2f}\")\n",
        "print(f\"R²: {r2_score(y_test, y_pred):.2f}\")"
      ]
    },
    {
      "cell_type": "markdown",
      "id": "QjAmQOpx0iGz",
      "metadata": {
        "id": "QjAmQOpx0iGz"
      },
      "source": [
        "## Lasso Regression (L1-регуляризация)"
      ]
    },
    {
      "cell_type": "code",
      "execution_count": 29,
      "id": "tMLta1WW6DSd",
      "metadata": {
        "id": "tMLta1WW6DSd"
      },
      "outputs": [],
      "source": [
        "from sklearn.model_selection import train_test_split, GridSearchCV\n",
        "from sklearn.pipeline import Pipeline\n",
        "from sklearn.compose import ColumnTransformer\n",
        "from sklearn.preprocessing import StandardScaler, OneHotEncoder, OrdinalEncoder\n",
        "from sklearn.linear_model import Lasso"
      ]
    },
    {
      "cell_type": "markdown",
      "id": "082953c4",
      "metadata": {},
      "source": [
        "Было принято решение кодировать высококардинальные признаки с помощью `OrdinalEncoder` вместо `OneHotEncoder`, чтобы уменьшить размерность данных и сэкономить оперативную память"
      ]
    },
    {
      "cell_type": "code",
      "execution_count": 30,
      "id": "JzmV89N40ivK",
      "metadata": {
        "id": "JzmV89N40ivK"
      },
      "outputs": [],
      "source": [
        "preprocessor = ColumnTransformer([\n",
        "    ('num', StandardScaler(), numeric_features),\n",
        "    ('onehot', OneHotEncoder(handle_unknown='ignore', sparse_output=False), low_cardinality_features),\n",
        "    ('ordinal', OrdinalEncoder(handle_unknown='use_encoded_value', unknown_value=-1), high_cardinality_features)\n",
        "])"
      ]
    },
    {
      "cell_type": "code",
      "execution_count": 31,
      "id": "cb54fb40",
      "metadata": {},
      "outputs": [],
      "source": [
        "pipeline = Pipeline([\n",
        "    ('preprocessor', preprocessor),\n",
        "    ('model', Lasso(random_state=RANDOM_STATE, max_iter=10000, tol=1e-4))\n",
        "])"
      ]
    },
    {
      "cell_type": "code",
      "execution_count": 32,
      "id": "6Su2zj4_2Bs2",
      "metadata": {
        "id": "6Su2zj4_2Bs2"
      },
      "outputs": [],
      "source": [
        "param_grid = {\n",
        "    'model__alpha': np.logspace(-3, 1, num=8)\n",
        "}\n",
        "\n",
        "grid_search = GridSearchCV(pipeline, param_grid, cv=3, n_jobs=-1, scoring='neg_mean_absolute_error', verbose=1)"
      ]
    },
    {
      "cell_type": "code",
      "execution_count": 33,
      "id": "4gsHJsld7w_a",
      "metadata": {
        "id": "4gsHJsld7w_a"
      },
      "outputs": [
        {
          "name": "stdout",
          "output_type": "stream",
          "text": [
            "Fitting 3 folds for each of 8 candidates, totalling 24 fits\n"
          ]
        },
        {
          "name": "stderr",
          "output_type": "stream",
          "text": [
            "/Users/ilolss/anaconda3/envs/ml-project-2-course/lib/python3.10/site-packages/sklearn/linear_model/_coordinate_descent.py:695: ConvergenceWarning: Objective did not converge. You might want to increase the number of iterations, check the scale of the features or consider increasing regularisation. Duality gap: 3.260e+16, tolerance: 9.781e+14\n",
            "  model = cd_fast.enet_coordinate_descent(\n",
            "/Users/ilolss/anaconda3/envs/ml-project-2-course/lib/python3.10/site-packages/sklearn/linear_model/_coordinate_descent.py:695: ConvergenceWarning: Objective did not converge. You might want to increase the number of iterations, check the scale of the features or consider increasing regularisation. Duality gap: 2.076e+17, tolerance: 1.021e+15\n",
            "  model = cd_fast.enet_coordinate_descent(\n",
            "/Users/ilolss/anaconda3/envs/ml-project-2-course/lib/python3.10/site-packages/sklearn/linear_model/_coordinate_descent.py:695: ConvergenceWarning: Objective did not converge. You might want to increase the number of iterations, check the scale of the features or consider increasing regularisation. Duality gap: 1.794e+17, tolerance: 9.105e+14\n",
            "  model = cd_fast.enet_coordinate_descent(\n",
            "/Users/ilolss/anaconda3/envs/ml-project-2-course/lib/python3.10/site-packages/sklearn/linear_model/_coordinate_descent.py:695: ConvergenceWarning: Objective did not converge. You might want to increase the number of iterations, check the scale of the features or consider increasing regularisation. Duality gap: 3.260e+16, tolerance: 9.781e+14\n",
            "  model = cd_fast.enet_coordinate_descent(\n",
            "/Users/ilolss/anaconda3/envs/ml-project-2-course/lib/python3.10/site-packages/sklearn/linear_model/_coordinate_descent.py:695: ConvergenceWarning: Objective did not converge. You might want to increase the number of iterations, check the scale of the features or consider increasing regularisation. Duality gap: 1.794e+17, tolerance: 9.105e+14\n",
            "  model = cd_fast.enet_coordinate_descent(\n",
            "/Users/ilolss/anaconda3/envs/ml-project-2-course/lib/python3.10/site-packages/sklearn/linear_model/_coordinate_descent.py:695: ConvergenceWarning: Objective did not converge. You might want to increase the number of iterations, check the scale of the features or consider increasing regularisation. Duality gap: 1.794e+17, tolerance: 9.105e+14\n",
            "  model = cd_fast.enet_coordinate_descent(\n",
            "/Users/ilolss/anaconda3/envs/ml-project-2-course/lib/python3.10/site-packages/sklearn/linear_model/_coordinate_descent.py:695: ConvergenceWarning: Objective did not converge. You might want to increase the number of iterations, check the scale of the features or consider increasing regularisation. Duality gap: 2.076e+17, tolerance: 1.021e+15\n",
            "  model = cd_fast.enet_coordinate_descent(\n",
            "/Users/ilolss/anaconda3/envs/ml-project-2-course/lib/python3.10/site-packages/sklearn/linear_model/_coordinate_descent.py:695: ConvergenceWarning: Objective did not converge. You might want to increase the number of iterations, check the scale of the features or consider increasing regularisation. Duality gap: 2.076e+17, tolerance: 1.021e+15\n",
            "  model = cd_fast.enet_coordinate_descent(\n",
            "/Users/ilolss/anaconda3/envs/ml-project-2-course/lib/python3.10/site-packages/sklearn/linear_model/_coordinate_descent.py:695: ConvergenceWarning: Objective did not converge. You might want to increase the number of iterations, check the scale of the features or consider increasing regularisation. Duality gap: 3.260e+16, tolerance: 9.781e+14\n",
            "  model = cd_fast.enet_coordinate_descent(\n",
            "/Users/ilolss/anaconda3/envs/ml-project-2-course/lib/python3.10/site-packages/sklearn/linear_model/_coordinate_descent.py:695: ConvergenceWarning: Objective did not converge. You might want to increase the number of iterations, check the scale of the features or consider increasing regularisation. Duality gap: 2.076e+17, tolerance: 1.021e+15\n",
            "  model = cd_fast.enet_coordinate_descent(\n",
            "/Users/ilolss/anaconda3/envs/ml-project-2-course/lib/python3.10/site-packages/sklearn/linear_model/_coordinate_descent.py:695: ConvergenceWarning: Objective did not converge. You might want to increase the number of iterations, check the scale of the features or consider increasing regularisation. Duality gap: 3.260e+16, tolerance: 9.781e+14\n",
            "  model = cd_fast.enet_coordinate_descent(\n",
            "/Users/ilolss/anaconda3/envs/ml-project-2-course/lib/python3.10/site-packages/sklearn/linear_model/_coordinate_descent.py:695: ConvergenceWarning: Objective did not converge. You might want to increase the number of iterations, check the scale of the features or consider increasing regularisation. Duality gap: 1.794e+17, tolerance: 9.105e+14\n",
            "  model = cd_fast.enet_coordinate_descent(\n",
            "/Users/ilolss/anaconda3/envs/ml-project-2-course/lib/python3.10/site-packages/sklearn/linear_model/_coordinate_descent.py:695: ConvergenceWarning: Objective did not converge. You might want to increase the number of iterations, check the scale of the features or consider increasing regularisation. Duality gap: 3.260e+16, tolerance: 9.781e+14\n",
            "  model = cd_fast.enet_coordinate_descent(\n",
            "/Users/ilolss/anaconda3/envs/ml-project-2-course/lib/python3.10/site-packages/sklearn/linear_model/_coordinate_descent.py:695: ConvergenceWarning: Objective did not converge. You might want to increase the number of iterations, check the scale of the features or consider increasing regularisation. Duality gap: 2.076e+17, tolerance: 1.021e+15\n",
            "  model = cd_fast.enet_coordinate_descent(\n",
            "/Users/ilolss/anaconda3/envs/ml-project-2-course/lib/python3.10/site-packages/sklearn/linear_model/_coordinate_descent.py:695: ConvergenceWarning: Objective did not converge. You might want to increase the number of iterations, check the scale of the features or consider increasing regularisation. Duality gap: 3.263e+16, tolerance: 9.781e+14\n",
            "  model = cd_fast.enet_coordinate_descent(\n",
            "/Users/ilolss/anaconda3/envs/ml-project-2-course/lib/python3.10/site-packages/sklearn/linear_model/_coordinate_descent.py:695: ConvergenceWarning: Objective did not converge. You might want to increase the number of iterations, check the scale of the features or consider increasing regularisation. Duality gap: 3.260e+16, tolerance: 9.781e+14\n",
            "  model = cd_fast.enet_coordinate_descent(\n",
            "/Users/ilolss/anaconda3/envs/ml-project-2-course/lib/python3.10/site-packages/sklearn/linear_model/_coordinate_descent.py:695: ConvergenceWarning: Objective did not converge. You might want to increase the number of iterations, check the scale of the features or consider increasing regularisation. Duality gap: 1.794e+17, tolerance: 9.105e+14\n",
            "  model = cd_fast.enet_coordinate_descent(\n",
            "/Users/ilolss/anaconda3/envs/ml-project-2-course/lib/python3.10/site-packages/sklearn/linear_model/_coordinate_descent.py:695: ConvergenceWarning: Objective did not converge. You might want to increase the number of iterations, check the scale of the features or consider increasing regularisation. Duality gap: 2.975e+16, tolerance: 9.105e+14\n",
            "  model = cd_fast.enet_coordinate_descent(\n",
            "/Users/ilolss/anaconda3/envs/ml-project-2-course/lib/python3.10/site-packages/sklearn/linear_model/_coordinate_descent.py:695: ConvergenceWarning: Objective did not converge. You might want to increase the number of iterations, check the scale of the features or consider increasing regularisation. Duality gap: 3.878e+16, tolerance: 9.781e+14\n",
            "  model = cd_fast.enet_coordinate_descent(\n",
            "/Users/ilolss/anaconda3/envs/ml-project-2-course/lib/python3.10/site-packages/sklearn/linear_model/_coordinate_descent.py:695: ConvergenceWarning: Objective did not converge. You might want to increase the number of iterations, check the scale of the features or consider increasing regularisation. Duality gap: 3.450e+16, tolerance: 1.021e+15\n",
            "  model = cd_fast.enet_coordinate_descent(\n",
            "/Users/ilolss/anaconda3/envs/ml-project-2-course/lib/python3.10/site-packages/sklearn/linear_model/_coordinate_descent.py:695: ConvergenceWarning: Objective did not converge. You might want to increase the number of iterations, check the scale of the features or consider increasing regularisation. Duality gap: 3.445e+16, tolerance: 1.021e+15\n",
            "  model = cd_fast.enet_coordinate_descent(\n",
            "/Users/ilolss/anaconda3/envs/ml-project-2-course/lib/python3.10/site-packages/sklearn/linear_model/_coordinate_descent.py:695: ConvergenceWarning: Objective did not converge. You might want to increase the number of iterations, check the scale of the features or consider increasing regularisation. Duality gap: 2.986e+16, tolerance: 9.105e+14\n",
            "  model = cd_fast.enet_coordinate_descent(\n",
            "/Users/ilolss/anaconda3/envs/ml-project-2-course/lib/python3.10/site-packages/sklearn/linear_model/_coordinate_descent.py:695: ConvergenceWarning: Objective did not converge. You might want to increase the number of iterations, check the scale of the features or consider increasing regularisation. Duality gap: 3.443e+16, tolerance: 1.021e+15\n",
            "  model = cd_fast.enet_coordinate_descent(\n",
            "/Users/ilolss/anaconda3/envs/ml-project-2-course/lib/python3.10/site-packages/sklearn/linear_model/_coordinate_descent.py:695: ConvergenceWarning: Objective did not converge. You might want to increase the number of iterations, check the scale of the features or consider increasing regularisation. Duality gap: 1.522e+17, tolerance: 9.105e+14\n",
            "  model = cd_fast.enet_coordinate_descent(\n"
          ]
        },
        {
          "name": "stdout",
          "output_type": "stream",
          "text": [
            "Лучшие параметры:  {'model__alpha': 10.0}\n"
          ]
        },
        {
          "name": "stderr",
          "output_type": "stream",
          "text": [
            "/Users/ilolss/anaconda3/envs/ml-project-2-course/lib/python3.10/site-packages/sklearn/linear_model/_coordinate_descent.py:695: ConvergenceWarning: Objective did not converge. You might want to increase the number of iterations, check the scale of the features or consider increasing regularisation. Duality gap: 4.853e+16, tolerance: 1.455e+15\n",
            "  model = cd_fast.enet_coordinate_descent(\n"
          ]
        }
      ],
      "source": [
        "grid_search.fit(X_train, y_train)\n",
        "print(\"Лучшие параметры: \", grid_search.best_params_)"
      ]
    },
    {
      "cell_type": "code",
      "execution_count": 34,
      "id": "919b4585",
      "metadata": {},
      "outputs": [],
      "source": [
        "import pickle\n",
        "\n",
        "with open('model_l1_regression.pkl', 'wb') as f:\n",
        "    pickle.dump(grid_search, f)"
      ]
    },
    {
      "cell_type": "code",
      "execution_count": 35,
      "id": "Fghs4VgH2Q60",
      "metadata": {
        "id": "Fghs4VgH2Q60"
      },
      "outputs": [],
      "source": [
        "y_pred = grid_search.predict(X_test)"
      ]
    },
    {
      "cell_type": "code",
      "execution_count": null,
      "id": "66gaGC-42Tcy",
      "metadata": {
        "id": "66gaGC-42Tcy"
      },
      "outputs": [
        {
          "name": "stdout",
          "output_type": "stream",
          "text": [
            "MAE: 1521742.21 руб.\n",
            "R²: 0.25\n"
          ]
        }
      ],
      "source": [
        "from sklearn.metrics import mean_absolute_error, r2_score\n",
        "\n",
        "print(f\"MAE: {mean_absolute_error(y_test, y_pred):.2f} руб.\")\n",
        "print(f\"R²: {r2_score(y_test, y_pred):.2f}\")"
      ]
    },
    {
      "cell_type": "markdown",
      "id": "b0f479ef",
      "metadata": {},
      "source": [
        "**Вывод**: \\\n",
        "Метрики довольно плачевные даже для baseline. Данная модель с текущей предобработкой данных явно не справляется с нашей задачей. Скорее всего, нужно улучшить качественную проработку признаков, возможно, попробовать другие кодировщики или попробовать более мощные модели для повышения точности прогнозирования."
      ]
    },
    {
      "cell_type": "markdown",
      "id": "-T4yRDoa0mZj",
      "metadata": {
        "id": "-T4yRDoa0mZj"
      },
      "source": [
        "## Decision Tree Regression"
      ]
    },
    {
      "cell_type": "code",
      "execution_count": 59,
      "id": "KaYbErFo0msS",
      "metadata": {
        "id": "KaYbErFo0msS"
      },
      "outputs": [],
      "source": [
        "from sklearn.pipeline import Pipeline\n",
        "from sklearn.compose import ColumnTransformer\n",
        "from sklearn.preprocessing import StandardScaler, OneHotEncoder\n",
        "from sklearn.tree import DecisionTreeRegressor\n",
        "from sklearn.model_selection import GridSearchCV"
      ]
    },
    {
      "cell_type": "code",
      "execution_count": 60,
      "id": "c90g3H0K1D5a",
      "metadata": {
        "id": "c90g3H0K1D5a"
      },
      "outputs": [],
      "source": [
        "preprocessor = ColumnTransformer([\n",
        "    ('num', StandardScaler(), numeric_features),\n",
        "    ('cat', OneHotEncoder(handle_unknown='ignore'), categorical_features)\n",
        "])"
      ]
    },
    {
      "cell_type": "code",
      "execution_count": 61,
      "id": "guHrNYgn1L2H",
      "metadata": {
        "id": "guHrNYgn1L2H"
      },
      "outputs": [],
      "source": [
        "model_pipeline = Pipeline([\n",
        "    ('preprocessor', preprocessor),\n",
        "    ('regressor', DecisionTreeRegressor(random_state=RANDOM_STATE))\n",
        "])"
      ]
    },
    {
      "cell_type": "code",
      "execution_count": 62,
      "id": "9asVBrwPwCX-",
      "metadata": {
        "id": "9asVBrwPwCX-"
      },
      "outputs": [],
      "source": [
        "param_grid = {\n",
        "    'regressor__max_depth': [None, 5, 10, 20],\n",
        "    'regressor__min_samples_split': [2, 5, 10],\n",
        "    'regressor__min_samples_leaf': [1, 2, 4]\n",
        "}\n",
        "\n",
        "grid_search = GridSearchCV(model_pipeline, param_grid, cv=5, scoring='r2', n_jobs=-1, verbose=1)"
      ]
    },
    {
      "cell_type": "code",
      "execution_count": 63,
      "id": "jiqI6vsmwFGo",
      "metadata": {
        "colab": {
          "base_uri": "https://localhost:8080/"
        },
        "id": "jiqI6vsmwFGo",
        "outputId": "910f9fe8-b914-421e-b02d-70c34e7887b5"
      },
      "outputs": [
        {
          "name": "stdout",
          "output_type": "stream",
          "text": [
            "Fitting 5 folds for each of 36 candidates, totalling 180 fits\n",
            "Лучшие параметры: {'regressor__max_depth': None, 'regressor__min_samples_leaf': 1, 'regressor__min_samples_split': 2}\n"
          ]
        }
      ],
      "source": [
        "grid_search.fit(X_train, y_train)\n",
        "print(\"Лучшие параметры:\", grid_search.best_params_)"
      ]
    },
    {
      "cell_type": "code",
      "execution_count": 64,
      "id": "x7QG_A-z1T90",
      "metadata": {
        "id": "x7QG_A-z1T90"
      },
      "outputs": [],
      "source": [
        "y_pred = grid_search.predict(X_test)"
      ]
    },
    {
      "cell_type": "code",
      "execution_count": 65,
      "id": "4fXxlEHJ1UcI",
      "metadata": {
        "colab": {
          "base_uri": "https://localhost:8080/"
        },
        "id": "4fXxlEHJ1UcI",
        "outputId": "debbf6c0-11a8-4bcc-83eb-537c764c15d5"
      },
      "outputs": [
        {
          "name": "stdout",
          "output_type": "stream",
          "text": [
            "MAE: 616943.20 руб.\n",
            "R²: 0.48\n"
          ]
        }
      ],
      "source": [
        "from sklearn.metrics import mean_absolute_error, r2_score\n",
        "\n",
        "print(f\"MAE: {mean_absolute_error(y_test, y_pred):.2f} руб.\")\n",
        "print(f\"R²: {r2_score(y_test, y_pred):.2f}\")"
      ]
    },
    {
      "cell_type": "code",
      "execution_count": 66,
      "id": "4775fa8d",
      "metadata": {},
      "outputs": [],
      "source": [
        "import pickle\n",
        "\n",
        "with open('model_tree_1_version.pkl', 'wb') as f:\n",
        "    pickle.dump(grid_search, f)"
      ]
    },
    {
      "cell_type": "markdown",
      "id": "klxlYfi09CPr",
      "metadata": {
        "id": "klxlYfi09CPr"
      },
      "source": [
        "Как мы видим r2_score особо не улучшился, поэтому попробуем немного поменять гиперпараметры:"
      ]
    },
    {
      "cell_type": "code",
      "execution_count": 32,
      "id": "pDAIg6TX82iu",
      "metadata": {
        "id": "pDAIg6TX82iu"
      },
      "outputs": [],
      "source": [
        "param_grid_2 = {\n",
        "    'regressor__max_depth': [5, 10, 15],\n",
        "    'regressor__min_samples_split': [5, 10, 15],\n",
        "    'regressor__min_samples_leaf': [3, 5, 7],\n",
        "    'regressor__max_features': ['sqrt', 'log2', None],\n",
        "    'regressor__ccp_alpha': [0.0, 0.001, 0.01, 0.1]\n",
        "}\n",
        "\n",
        "grid_search_2 = GridSearchCV(model_pipeline, param_grid_2, cv=5, scoring='r2', n_jobs=-1, verbose=1)"
      ]
    },
    {
      "cell_type": "code",
      "execution_count": null,
      "id": "u3llA8_7886R",
      "metadata": {
        "colab": {
          "base_uri": "https://localhost:8080/"
        },
        "id": "u3llA8_7886R",
        "outputId": "91d2acda-574b-4c5b-93f8-2a720747cbc1"
      },
      "outputs": [],
      "source": [
        "grid_search_2.fit(X_train, y_train)\n",
        "print(\"Лучшие параметры:\", grid_search_2.best_params_)"
      ]
    },
    {
      "cell_type": "code",
      "execution_count": null,
      "id": "b101cfbd",
      "metadata": {},
      "outputs": [],
      "source": [
        "import pickle\n",
        "\n",
        "with open('model_tree_2_version.pkl', 'wb') as f:\n",
        "    pickle.dump(grid_search_2, f)"
      ]
    },
    {
      "cell_type": "code",
      "execution_count": 35,
      "id": "wLdLIhu68-9g",
      "metadata": {
        "colab": {
          "base_uri": "https://localhost:8080/",
          "height": 293
        },
        "id": "wLdLIhu68-9g",
        "outputId": "94f774ce-e067-46a0-de84-4fea41438062"
      },
      "outputs": [],
      "source": [
        "y_pred = grid_search_2.predict(X_test)"
      ]
    },
    {
      "cell_type": "code",
      "execution_count": null,
      "id": "6tfXMtIE9A6Q",
      "metadata": {
        "id": "6tfXMtIE9A6Q"
      },
      "outputs": [
        {
          "name": "stdout",
          "output_type": "stream",
          "text": [
            "MAE: 970054.78 руб.\n",
            "R²: 0.57\n"
          ]
        }
      ],
      "source": [
        "from sklearn.metrics import mean_absolute_error, r2_score\n",
        "\n",
        "print(f\"MAE: {mean_absolute_error(y_test, y_pred):.2f} руб.\")\n",
        "print(f\"R²: {r2_score(y_test, y_pred):.2f}\")"
      ]
    },
    {
      "cell_type": "markdown",
      "id": "772ca580",
      "metadata": {},
      "source": [
        "**Выводы**: \\\n",
        "Мы смогли добиться некоторого прироста качества предсказаний по сравнению с базовой моделью.\n",
        "Это подтверждает, что гиперпараметрическая настройка повысила качество, но остаётся значительная доля дисперсии, которую модель не объясняет. \\\n",
        "Я думаю, что это неплохой резльтат для `baseline`, который можно будет еще улучшить с помощью дополнительного фичер инжиниринга или перехода на более мощные модели."
      ]
    }
  ],
  "metadata": {
    "colab": {
      "provenance": []
    },
    "kernelspec": {
      "display_name": "ml-project-2-course",
      "language": "python",
      "name": "python3"
    },
    "language_info": {
      "codemirror_mode": {
        "name": "ipython",
        "version": 3
      },
      "file_extension": ".py",
      "mimetype": "text/x-python",
      "name": "python",
      "nbconvert_exporter": "python",
      "pygments_lexer": "ipython3",
      "version": "3.10.16"
    }
  },
  "nbformat": 4,
  "nbformat_minor": 5
}
