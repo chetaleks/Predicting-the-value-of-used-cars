{
  "cells": [
    {
      "cell_type": "markdown",
      "id": "iIKi8pgJzjYs",
      "metadata": {
        "id": "iIKi8pgJzjYs"
      },
      "source": [
        "# Загружаем данные"
      ]
    },
    {
      "cell_type": "code",
      "execution_count": 1,
      "id": "3919afad",
      "metadata": {
        "id": "3919afad"
      },
      "outputs": [],
      "source": [
        "import pandas as pd\n",
        "import numpy as np\n",
        "import matplotlib.pyplot as plt\n",
        "import random\n",
        "import seaborn as sns"
      ]
    },
    {
      "cell_type": "code",
      "execution_count": null,
      "id": "7aea64cf",
      "metadata": {
        "colab": {
          "base_uri": "https://localhost:8080/"
        },
        "id": "7aea64cf",
        "outputId": "961e106f-ea23-4ae0-d021-894dc8439094"
      },
      "outputs": [],
      "source": [
        "%pip install gdown"
      ]
    },
    {
      "cell_type": "code",
      "execution_count": null,
      "id": "EFj1Gm1-zbUX",
      "metadata": {
        "colab": {
          "base_uri": "https://localhost:8080/"
        },
        "id": "EFj1Gm1-zbUX",
        "outputId": "b0203445-ccaa-4b0b-804b-1096aaf5862d"
      },
      "outputs": [],
      "source": [
        "CARS_FILE_ID = '1liFEe1-yFISPSpRSvbv1wIH_avYNGmBI'\n",
        "RANDOM_STATE = 42\n",
        "\n",
        "random.seed(RANDOM_STATE)\n",
        "np.random.seed(RANDOM_STATE)\n",
        "\n",
        "!gdown --id {CARS_FILE_ID}"
      ]
    },
    {
      "cell_type": "code",
      "execution_count": 4,
      "id": "2c76bda4",
      "metadata": {
        "colab": {
          "base_uri": "https://localhost:8080/"
        },
        "id": "2c76bda4",
        "outputId": "8a83461d-bb98-4d7d-9897-20b8af2f6367"
      },
      "outputs": [
        {
          "name": "stdout",
          "output_type": "stream",
          "text": [
            "(604047, 24)\n"
          ]
        }
      ],
      "source": [
        "df = pd.read_csv('dataset.csv')\n",
        "print(df.shape)"
      ]
    },
    {
      "cell_type": "code",
      "execution_count": null,
      "id": "02cc8a6e",
      "metadata": {
        "colab": {
          "base_uri": "https://localhost:8080/",
          "height": 638
        },
        "id": "02cc8a6e",
        "outputId": "5242db2a-0f19-44af-cee8-0c5337c63d1d"
      },
      "outputs": [
        {
          "data": {
            "application/vnd.google.colaboratory.intrinsic+json": {
              "type": "dataframe"
            },
            "text/html": [
              "\n",
              "  <div id=\"df-7cef7e6d-8ffb-454d-8a5f-e9cccf9f75bc\" class=\"colab-df-container\">\n",
              "    <div>\n",
              "<style scoped>\n",
              "    .dataframe tbody tr th:only-of-type {\n",
              "        vertical-align: middle;\n",
              "    }\n",
              "\n",
              "    .dataframe tbody tr th {\n",
              "        vertical-align: top;\n",
              "    }\n",
              "\n",
              "    .dataframe thead th {\n",
              "        text-align: right;\n",
              "    }\n",
              "</style>\n",
              "<table border=\"1\" class=\"dataframe\">\n",
              "  <thead>\n",
              "    <tr style=\"text-align: right;\">\n",
              "      <th></th>\n",
              "      <th>production_year</th>\n",
              "      <th>mileage</th>\n",
              "      <th>condition</th>\n",
              "      <th>owners_number</th>\n",
              "      <th>pts_original</th>\n",
              "      <th>horse_power</th>\n",
              "      <th>accidents_resolution</th>\n",
              "      <th>region</th>\n",
              "      <th>seller_type</th>\n",
              "      <th>brand</th>\n",
              "      <th>...</th>\n",
              "      <th>engine_displacement</th>\n",
              "      <th>engine_power</th>\n",
              "      <th>fuel_rate</th>\n",
              "      <th>steering_wheel</th>\n",
              "      <th>price</th>\n",
              "      <th>price_segment</th>\n",
              "      <th>tags</th>\n",
              "      <th>auto_class</th>\n",
              "      <th>equipment</th>\n",
              "      <th>complectation_available_options</th>\n",
              "    </tr>\n",
              "  </thead>\n",
              "  <tbody>\n",
              "    <tr>\n",
              "      <th>436946</th>\n",
              "      <td>2024</td>\n",
              "      <td>0</td>\n",
              "      <td>CONDITION_OK</td>\n",
              "      <td>0</td>\n",
              "      <td>True</td>\n",
              "      <td>150.0</td>\n",
              "      <td>NaN</td>\n",
              "      <td>Санкт-Петербург</td>\n",
              "      <td>COMMERCIAL</td>\n",
              "      <td>Skoda</td>\n",
              "      <td>...</td>\n",
              "      <td>1395.0</td>\n",
              "      <td>150.0</td>\n",
              "      <td>7.2</td>\n",
              "      <td>LEFT</td>\n",
              "      <td>4600000</td>\n",
              "      <td>MEDIUM</td>\n",
              "      <td>all-terrain;big-trunk;dealer_quarantine_calls;...</td>\n",
              "      <td>C</td>\n",
              "      <td>tyre-pressure;start-stop-function;roof-rails;w...</td>\n",
              "      <td>cruise-control;multi-wheel;auto-park;heated-wa...</td>\n",
              "    </tr>\n",
              "    <tr>\n",
              "      <th>329728</th>\n",
              "      <td>2018</td>\n",
              "      <td>220000</td>\n",
              "      <td>CONDITION_OK</td>\n",
              "      <td>0</td>\n",
              "      <td>NaN</td>\n",
              "      <td>NaN</td>\n",
              "      <td>OK</td>\n",
              "      <td>Минск</td>\n",
              "      <td>PRIVATE</td>\n",
              "      <td>Mercedes-Benz</td>\n",
              "      <td>...</td>\n",
              "      <td>1950.0</td>\n",
              "      <td>194.0</td>\n",
              "      <td>4.6</td>\n",
              "      <td>LEFT</td>\n",
              "      <td>2500000</td>\n",
              "      <td>PREMIUM</td>\n",
              "      <td>allowed_for_credit;autoru_exclusive;available_...</td>\n",
              "      <td>E</td>\n",
              "      <td>electro-trunk;voice-recognition;android-auto;g...</td>\n",
              "      <td>NaN</td>\n",
              "    </tr>\n",
              "    <tr>\n",
              "      <th>343496</th>\n",
              "      <td>2006</td>\n",
              "      <td>326000</td>\n",
              "      <td>CONDITION_OK</td>\n",
              "      <td>4</td>\n",
              "      <td>NaN</td>\n",
              "      <td>224.0</td>\n",
              "      <td>OK</td>\n",
              "      <td>Санкт-Петербург</td>\n",
              "      <td>PRIVATE</td>\n",
              "      <td>Mercedes-Benz</td>\n",
              "      <td>...</td>\n",
              "      <td>2987.0</td>\n",
              "      <td>224.0</td>\n",
              "      <td>9.3</td>\n",
              "      <td>LEFT</td>\n",
              "      <td>999999</td>\n",
              "      <td>PREMIUM</td>\n",
              "      <td>all-terrain;allowed_for_credit;auction_call_fr...</td>\n",
              "      <td>E</td>\n",
              "      <td>wheel-power;lock;light-sensor;seats-5;electro-...</td>\n",
              "      <td>NaN</td>\n",
              "    </tr>\n",
              "    <tr>\n",
              "      <th>439783</th>\n",
              "      <td>2008</td>\n",
              "      <td>164233</td>\n",
              "      <td>CONDITION_OK</td>\n",
              "      <td>4</td>\n",
              "      <td>NaN</td>\n",
              "      <td>102.0</td>\n",
              "      <td>ERROR</td>\n",
              "      <td>Тверь</td>\n",
              "      <td>PRIVATE</td>\n",
              "      <td>Skoda</td>\n",
              "      <td>...</td>\n",
              "      <td>1595.0</td>\n",
              "      <td>102.0</td>\n",
              "      <td>7.1</td>\n",
              "      <td>LEFT</td>\n",
              "      <td>650000</td>\n",
              "      <td>MEDIUM</td>\n",
              "      <td>allowed_for_credit;auction_call_free_report;au...</td>\n",
              "      <td>C</td>\n",
              "      <td>seats-5</td>\n",
              "      <td>NaN</td>\n",
              "    </tr>\n",
              "    <tr>\n",
              "      <th>550845</th>\n",
              "      <td>2023</td>\n",
              "      <td>107</td>\n",
              "      <td>CONDITION_OK</td>\n",
              "      <td>1</td>\n",
              "      <td>True</td>\n",
              "      <td>89.0</td>\n",
              "      <td>OK</td>\n",
              "      <td>Краснодар</td>\n",
              "      <td>PRIVATE</td>\n",
              "      <td>Lada (ВАЗ)</td>\n",
              "      <td>...</td>\n",
              "      <td>1596.0</td>\n",
              "      <td>90.0</td>\n",
              "      <td>7.5</td>\n",
              "      <td>LEFT</td>\n",
              "      <td>1800000</td>\n",
              "      <td>ECONOMY</td>\n",
              "      <td>allowed_for_credit;almost_new;auction_call_fre...</td>\n",
              "      <td>C</td>\n",
              "      <td>audiosystem-cd;front-seats-heat;driver-seat-up...</td>\n",
              "      <td>cruise-control;multi-wheel;airbag-passenger;ro...</td>\n",
              "    </tr>\n",
              "    <tr>\n",
              "      <th>431807</th>\n",
              "      <td>2015</td>\n",
              "      <td>44450</td>\n",
              "      <td>CONDITION_OK</td>\n",
              "      <td>1</td>\n",
              "      <td>True</td>\n",
              "      <td>102.0</td>\n",
              "      <td>ERROR</td>\n",
              "      <td>Екатеринбург</td>\n",
              "      <td>PRIVATE</td>\n",
              "      <td>Renault</td>\n",
              "      <td>...</td>\n",
              "      <td>1598.0</td>\n",
              "      <td>102.0</td>\n",
              "      <td>8.3</td>\n",
              "      <td>LEFT</td>\n",
              "      <td>1044000</td>\n",
              "      <td>ECONOMY</td>\n",
              "      <td>affordable;allowed_for_credit;auction_call_fre...</td>\n",
              "      <td>B</td>\n",
              "      <td>cruise-control;wheel-power;wheel-configuration...</td>\n",
              "      <td>cruise-control;airbag-passenger;lock;seat-tran...</td>\n",
              "    </tr>\n",
              "    <tr>\n",
              "      <th>167063</th>\n",
              "      <td>2024</td>\n",
              "      <td>0</td>\n",
              "      <td>CONDITION_OK</td>\n",
              "      <td>0</td>\n",
              "      <td>True</td>\n",
              "      <td>304.0</td>\n",
              "      <td>NaN</td>\n",
              "      <td>Химки</td>\n",
              "      <td>COMMERCIAL</td>\n",
              "      <td>Genesis</td>\n",
              "      <td>...</td>\n",
              "      <td>2497.0</td>\n",
              "      <td>304.0</td>\n",
              "      <td>12.2</td>\n",
              "      <td>LEFT</td>\n",
              "      <td>15840000</td>\n",
              "      <td>PREMIUM</td>\n",
              "      <td>big;dealer_quarantine_calls;discount_options;f...</td>\n",
              "      <td>E</td>\n",
              "      <td>projection-display;audiosystem-cd;airbag-side;...</td>\n",
              "      <td>e-adjustment-wheel;multi-wheel;airbag-passenge...</td>\n",
              "    </tr>\n",
              "    <tr>\n",
              "      <th>391522</th>\n",
              "      <td>2021</td>\n",
              "      <td>43000</td>\n",
              "      <td>CONDITION_OK</td>\n",
              "      <td>0</td>\n",
              "      <td>NaN</td>\n",
              "      <td>204.0</td>\n",
              "      <td>OK</td>\n",
              "      <td>Владивосток</td>\n",
              "      <td>COMMERCIAL</td>\n",
              "      <td>Nissan</td>\n",
              "      <td>...</td>\n",
              "      <td>1497.0</td>\n",
              "      <td>204.0</td>\n",
              "      <td>7.3</td>\n",
              "      <td>LEFT</td>\n",
              "      <td>2843000</td>\n",
              "      <td>MEDIUM</td>\n",
              "      <td>allowed_for_credit;autoru_exclusive;big-trunk;...</td>\n",
              "      <td>D</td>\n",
              "      <td>seats-5</td>\n",
              "      <td>NaN</td>\n",
              "    </tr>\n",
              "    <tr>\n",
              "      <th>210052</th>\n",
              "      <td>2024</td>\n",
              "      <td>100</td>\n",
              "      <td>CONDITION_OK</td>\n",
              "      <td>1</td>\n",
              "      <td>True</td>\n",
              "      <td>115.0</td>\n",
              "      <td>OK</td>\n",
              "      <td>Новосибирск</td>\n",
              "      <td>PRIVATE</td>\n",
              "      <td>Hyundai</td>\n",
              "      <td>...</td>\n",
              "      <td>1497.0</td>\n",
              "      <td>115.0</td>\n",
              "      <td>5.3</td>\n",
              "      <td>LEFT</td>\n",
              "      <td>2530000</td>\n",
              "      <td>MEDIUM</td>\n",
              "      <td>allowed_for_credit;almost_new;auction_call_fre...</td>\n",
              "      <td>C</td>\n",
              "      <td>seats-5</td>\n",
              "      <td>NaN</td>\n",
              "    </tr>\n",
              "    <tr>\n",
              "      <th>46816</th>\n",
              "      <td>2024</td>\n",
              "      <td>34</td>\n",
              "      <td>CONDITION_OK</td>\n",
              "      <td>1</td>\n",
              "      <td>True</td>\n",
              "      <td>286.0</td>\n",
              "      <td>OK</td>\n",
              "      <td>Москва</td>\n",
              "      <td>COMMERCIAL</td>\n",
              "      <td>BMW</td>\n",
              "      <td>...</td>\n",
              "      <td>2993.0</td>\n",
              "      <td>286.0</td>\n",
              "      <td>8.2</td>\n",
              "      <td>LEFT</td>\n",
              "      <td>16150000</td>\n",
              "      <td>PREMIUM</td>\n",
              "      <td>allowed_for_credit;almost_new;auction_call_fre...</td>\n",
              "      <td>E</td>\n",
              "      <td>seats-5</td>\n",
              "      <td>NaN</td>\n",
              "    </tr>\n",
              "  </tbody>\n",
              "</table>\n",
              "<p>10 rows × 24 columns</p>\n",
              "</div>\n",
              "    <div class=\"colab-df-buttons\">\n",
              "\n",
              "  <div class=\"colab-df-container\">\n",
              "    <button class=\"colab-df-convert\" onclick=\"convertToInteractive('df-7cef7e6d-8ffb-454d-8a5f-e9cccf9f75bc')\"\n",
              "            title=\"Convert this dataframe to an interactive table.\"\n",
              "            style=\"display:none;\">\n",
              "\n",
              "  <svg xmlns=\"http://www.w3.org/2000/svg\" height=\"24px\" viewBox=\"0 -960 960 960\">\n",
              "    <path d=\"M120-120v-720h720v720H120Zm60-500h600v-160H180v160Zm220 220h160v-160H400v160Zm0 220h160v-160H400v160ZM180-400h160v-160H180v160Zm440 0h160v-160H620v160ZM180-180h160v-160H180v160Zm440 0h160v-160H620v160Z\"/>\n",
              "  </svg>\n",
              "    </button>\n",
              "\n",
              "  <style>\n",
              "    .colab-df-container {\n",
              "      display:flex;\n",
              "      gap: 12px;\n",
              "    }\n",
              "\n",
              "    .colab-df-convert {\n",
              "      background-color: #E8F0FE;\n",
              "      border: none;\n",
              "      border-radius: 50%;\n",
              "      cursor: pointer;\n",
              "      display: none;\n",
              "      fill: #1967D2;\n",
              "      height: 32px;\n",
              "      padding: 0 0 0 0;\n",
              "      width: 32px;\n",
              "    }\n",
              "\n",
              "    .colab-df-convert:hover {\n",
              "      background-color: #E2EBFA;\n",
              "      box-shadow: 0px 1px 2px rgba(60, 64, 67, 0.3), 0px 1px 3px 1px rgba(60, 64, 67, 0.15);\n",
              "      fill: #174EA6;\n",
              "    }\n",
              "\n",
              "    .colab-df-buttons div {\n",
              "      margin-bottom: 4px;\n",
              "    }\n",
              "\n",
              "    [theme=dark] .colab-df-convert {\n",
              "      background-color: #3B4455;\n",
              "      fill: #D2E3FC;\n",
              "    }\n",
              "\n",
              "    [theme=dark] .colab-df-convert:hover {\n",
              "      background-color: #434B5C;\n",
              "      box-shadow: 0px 1px 3px 1px rgba(0, 0, 0, 0.15);\n",
              "      filter: drop-shadow(0px 1px 2px rgba(0, 0, 0, 0.3));\n",
              "      fill: #FFFFFF;\n",
              "    }\n",
              "  </style>\n",
              "\n",
              "    <script>\n",
              "      const buttonEl =\n",
              "        document.querySelector('#df-7cef7e6d-8ffb-454d-8a5f-e9cccf9f75bc button.colab-df-convert');\n",
              "      buttonEl.style.display =\n",
              "        google.colab.kernel.accessAllowed ? 'block' : 'none';\n",
              "\n",
              "      async function convertToInteractive(key) {\n",
              "        const element = document.querySelector('#df-7cef7e6d-8ffb-454d-8a5f-e9cccf9f75bc');\n",
              "        const dataTable =\n",
              "          await google.colab.kernel.invokeFunction('convertToInteractive',\n",
              "                                                    [key], {});\n",
              "        if (!dataTable) return;\n",
              "\n",
              "        const docLinkHtml = 'Like what you see? Visit the ' +\n",
              "          '<a target=\"_blank\" href=https://colab.research.google.com/notebooks/data_table.ipynb>data table notebook</a>'\n",
              "          + ' to learn more about interactive tables.';\n",
              "        element.innerHTML = '';\n",
              "        dataTable['output_type'] = 'display_data';\n",
              "        await google.colab.output.renderOutput(dataTable, element);\n",
              "        const docLink = document.createElement('div');\n",
              "        docLink.innerHTML = docLinkHtml;\n",
              "        element.appendChild(docLink);\n",
              "      }\n",
              "    </script>\n",
              "  </div>\n",
              "\n",
              "\n",
              "<div id=\"df-21398a61-64e7-4b95-9183-dff3b6a40524\">\n",
              "  <button class=\"colab-df-quickchart\" onclick=\"quickchart('df-21398a61-64e7-4b95-9183-dff3b6a40524')\"\n",
              "            title=\"Suggest charts\"\n",
              "            style=\"display:none;\">\n",
              "\n",
              "<svg xmlns=\"http://www.w3.org/2000/svg\" height=\"24px\"viewBox=\"0 0 24 24\"\n",
              "     width=\"24px\">\n",
              "    <g>\n",
              "        <path d=\"M19 3H5c-1.1 0-2 .9-2 2v14c0 1.1.9 2 2 2h14c1.1 0 2-.9 2-2V5c0-1.1-.9-2-2-2zM9 17H7v-7h2v7zm4 0h-2V7h2v10zm4 0h-2v-4h2v4z\"/>\n",
              "    </g>\n",
              "</svg>\n",
              "  </button>\n",
              "\n",
              "<style>\n",
              "  .colab-df-quickchart {\n",
              "      --bg-color: #E8F0FE;\n",
              "      --fill-color: #1967D2;\n",
              "      --hover-bg-color: #E2EBFA;\n",
              "      --hover-fill-color: #174EA6;\n",
              "      --disabled-fill-color: #AAA;\n",
              "      --disabled-bg-color: #DDD;\n",
              "  }\n",
              "\n",
              "  [theme=dark] .colab-df-quickchart {\n",
              "      --bg-color: #3B4455;\n",
              "      --fill-color: #D2E3FC;\n",
              "      --hover-bg-color: #434B5C;\n",
              "      --hover-fill-color: #FFFFFF;\n",
              "      --disabled-bg-color: #3B4455;\n",
              "      --disabled-fill-color: #666;\n",
              "  }\n",
              "\n",
              "  .colab-df-quickchart {\n",
              "    background-color: var(--bg-color);\n",
              "    border: none;\n",
              "    border-radius: 50%;\n",
              "    cursor: pointer;\n",
              "    display: none;\n",
              "    fill: var(--fill-color);\n",
              "    height: 32px;\n",
              "    padding: 0;\n",
              "    width: 32px;\n",
              "  }\n",
              "\n",
              "  .colab-df-quickchart:hover {\n",
              "    background-color: var(--hover-bg-color);\n",
              "    box-shadow: 0 1px 2px rgba(60, 64, 67, 0.3), 0 1px 3px 1px rgba(60, 64, 67, 0.15);\n",
              "    fill: var(--button-hover-fill-color);\n",
              "  }\n",
              "\n",
              "  .colab-df-quickchart-complete:disabled,\n",
              "  .colab-df-quickchart-complete:disabled:hover {\n",
              "    background-color: var(--disabled-bg-color);\n",
              "    fill: var(--disabled-fill-color);\n",
              "    box-shadow: none;\n",
              "  }\n",
              "\n",
              "  .colab-df-spinner {\n",
              "    border: 2px solid var(--fill-color);\n",
              "    border-color: transparent;\n",
              "    border-bottom-color: var(--fill-color);\n",
              "    animation:\n",
              "      spin 1s steps(1) infinite;\n",
              "  }\n",
              "\n",
              "  @keyframes spin {\n",
              "    0% {\n",
              "      border-color: transparent;\n",
              "      border-bottom-color: var(--fill-color);\n",
              "      border-left-color: var(--fill-color);\n",
              "    }\n",
              "    20% {\n",
              "      border-color: transparent;\n",
              "      border-left-color: var(--fill-color);\n",
              "      border-top-color: var(--fill-color);\n",
              "    }\n",
              "    30% {\n",
              "      border-color: transparent;\n",
              "      border-left-color: var(--fill-color);\n",
              "      border-top-color: var(--fill-color);\n",
              "      border-right-color: var(--fill-color);\n",
              "    }\n",
              "    40% {\n",
              "      border-color: transparent;\n",
              "      border-right-color: var(--fill-color);\n",
              "      border-top-color: var(--fill-color);\n",
              "    }\n",
              "    60% {\n",
              "      border-color: transparent;\n",
              "      border-right-color: var(--fill-color);\n",
              "    }\n",
              "    80% {\n",
              "      border-color: transparent;\n",
              "      border-right-color: var(--fill-color);\n",
              "      border-bottom-color: var(--fill-color);\n",
              "    }\n",
              "    90% {\n",
              "      border-color: transparent;\n",
              "      border-bottom-color: var(--fill-color);\n",
              "    }\n",
              "  }\n",
              "</style>\n",
              "\n",
              "  <script>\n",
              "    async function quickchart(key) {\n",
              "      const quickchartButtonEl =\n",
              "        document.querySelector('#' + key + ' button');\n",
              "      quickchartButtonEl.disabled = true;  // To prevent multiple clicks.\n",
              "      quickchartButtonEl.classList.add('colab-df-spinner');\n",
              "      try {\n",
              "        const charts = await google.colab.kernel.invokeFunction(\n",
              "            'suggestCharts', [key], {});\n",
              "      } catch (error) {\n",
              "        console.error('Error during call to suggestCharts:', error);\n",
              "      }\n",
              "      quickchartButtonEl.classList.remove('colab-df-spinner');\n",
              "      quickchartButtonEl.classList.add('colab-df-quickchart-complete');\n",
              "    }\n",
              "    (() => {\n",
              "      let quickchartButtonEl =\n",
              "        document.querySelector('#df-21398a61-64e7-4b95-9183-dff3b6a40524 button');\n",
              "      quickchartButtonEl.style.display =\n",
              "        google.colab.kernel.accessAllowed ? 'block' : 'none';\n",
              "    })();\n",
              "  </script>\n",
              "</div>\n",
              "    </div>\n",
              "  </div>\n"
            ],
            "text/plain": [
              "        production_year  mileage     condition  owners_number pts_original  \\\n",
              "436946             2024        0  CONDITION_OK              0         True   \n",
              "329728             2018   220000  CONDITION_OK              0          NaN   \n",
              "343496             2006   326000  CONDITION_OK              4          NaN   \n",
              "439783             2008   164233  CONDITION_OK              4          NaN   \n",
              "550845             2023      107  CONDITION_OK              1         True   \n",
              "431807             2015    44450  CONDITION_OK              1         True   \n",
              "167063             2024        0  CONDITION_OK              0         True   \n",
              "391522             2021    43000  CONDITION_OK              0          NaN   \n",
              "210052             2024      100  CONDITION_OK              1         True   \n",
              "46816              2024       34  CONDITION_OK              1         True   \n",
              "\n",
              "        horse_power accidents_resolution           region seller_type  \\\n",
              "436946        150.0                  NaN  Санкт-Петербург  COMMERCIAL   \n",
              "329728          NaN                   OK            Минск     PRIVATE   \n",
              "343496        224.0                   OK  Санкт-Петербург     PRIVATE   \n",
              "439783        102.0                ERROR            Тверь     PRIVATE   \n",
              "550845         89.0                   OK        Краснодар     PRIVATE   \n",
              "431807        102.0                ERROR     Екатеринбург     PRIVATE   \n",
              "167063        304.0                  NaN            Химки  COMMERCIAL   \n",
              "391522        204.0                   OK      Владивосток  COMMERCIAL   \n",
              "210052        115.0                   OK      Новосибирск     PRIVATE   \n",
              "46816         286.0                   OK           Москва  COMMERCIAL   \n",
              "\n",
              "                brand  ... engine_displacement engine_power  fuel_rate  \\\n",
              "436946          Skoda  ...              1395.0        150.0        7.2   \n",
              "329728  Mercedes-Benz  ...              1950.0        194.0        4.6   \n",
              "343496  Mercedes-Benz  ...              2987.0        224.0        9.3   \n",
              "439783          Skoda  ...              1595.0        102.0        7.1   \n",
              "550845     Lada (ВАЗ)  ...              1596.0         90.0        7.5   \n",
              "431807        Renault  ...              1598.0        102.0        8.3   \n",
              "167063        Genesis  ...              2497.0        304.0       12.2   \n",
              "391522         Nissan  ...              1497.0        204.0        7.3   \n",
              "210052        Hyundai  ...              1497.0        115.0        5.3   \n",
              "46816             BMW  ...              2993.0        286.0        8.2   \n",
              "\n",
              "       steering_wheel     price  price_segment  \\\n",
              "436946           LEFT   4600000         MEDIUM   \n",
              "329728           LEFT   2500000        PREMIUM   \n",
              "343496           LEFT    999999        PREMIUM   \n",
              "439783           LEFT    650000         MEDIUM   \n",
              "550845           LEFT   1800000        ECONOMY   \n",
              "431807           LEFT   1044000        ECONOMY   \n",
              "167063           LEFT  15840000        PREMIUM   \n",
              "391522           LEFT   2843000         MEDIUM   \n",
              "210052           LEFT   2530000         MEDIUM   \n",
              "46816            LEFT  16150000        PREMIUM   \n",
              "\n",
              "                                                     tags auto_class  \\\n",
              "436946  all-terrain;big-trunk;dealer_quarantine_calls;...          C   \n",
              "329728  allowed_for_credit;autoru_exclusive;available_...          E   \n",
              "343496  all-terrain;allowed_for_credit;auction_call_fr...          E   \n",
              "439783  allowed_for_credit;auction_call_free_report;au...          C   \n",
              "550845  allowed_for_credit;almost_new;auction_call_fre...          C   \n",
              "431807  affordable;allowed_for_credit;auction_call_fre...          B   \n",
              "167063  big;dealer_quarantine_calls;discount_options;f...          E   \n",
              "391522  allowed_for_credit;autoru_exclusive;big-trunk;...          D   \n",
              "210052  allowed_for_credit;almost_new;auction_call_fre...          C   \n",
              "46816   allowed_for_credit;almost_new;auction_call_fre...          E   \n",
              "\n",
              "                                                equipment  \\\n",
              "436946  tyre-pressure;start-stop-function;roof-rails;w...   \n",
              "329728  electro-trunk;voice-recognition;android-auto;g...   \n",
              "343496  wheel-power;lock;light-sensor;seats-5;electro-...   \n",
              "439783                                            seats-5   \n",
              "550845  audiosystem-cd;front-seats-heat;driver-seat-up...   \n",
              "431807  cruise-control;wheel-power;wheel-configuration...   \n",
              "167063  projection-display;audiosystem-cd;airbag-side;...   \n",
              "391522                                            seats-5   \n",
              "210052                                            seats-5   \n",
              "46816                                             seats-5   \n",
              "\n",
              "                          complectation_available_options  \n",
              "436946  cruise-control;multi-wheel;auto-park;heated-wa...  \n",
              "329728                                                NaN  \n",
              "343496                                                NaN  \n",
              "439783                                                NaN  \n",
              "550845  cruise-control;multi-wheel;airbag-passenger;ro...  \n",
              "431807  cruise-control;airbag-passenger;lock;seat-tran...  \n",
              "167063  e-adjustment-wheel;multi-wheel;airbag-passenge...  \n",
              "391522                                                NaN  \n",
              "210052                                                NaN  \n",
              "46816                                                 NaN  \n",
              "\n",
              "[10 rows x 24 columns]"
            ]
          },
          "execution_count": 5,
          "metadata": {},
          "output_type": "execute_result"
        }
      ],
      "source": [
        "df.sample(10)"
      ]
    },
    {
      "cell_type": "markdown",
      "id": "OzLK06L-znOW",
      "metadata": {
        "id": "OzLK06L-znOW"
      },
      "source": [
        "# Делаем предобработку"
      ]
    },
    {
      "cell_type": "code",
      "execution_count": 5,
      "id": "b566ccb4",
      "metadata": {
        "colab": {
          "base_uri": "https://localhost:8080/",
          "height": 130
        },
        "id": "b566ccb4",
        "outputId": "57da1025-dd19-4096-ff18-78d882473f6b"
      },
      "outputs": [
        {
          "data": {
            "application/vnd.google.colaboratory.intrinsic+json": {
              "type": "dataframe",
              "variable_name": "df_with_na_column"
            },
            "text/html": [
              "\n",
              "  <div id=\"df-28e6addf-92cf-4eac-a292-272e718df19c\" class=\"colab-df-container\">\n",
              "    <div>\n",
              "<style scoped>\n",
              "    .dataframe tbody tr th:only-of-type {\n",
              "        vertical-align: middle;\n",
              "    }\n",
              "\n",
              "    .dataframe tbody tr th {\n",
              "        vertical-align: top;\n",
              "    }\n",
              "\n",
              "    .dataframe thead th {\n",
              "        text-align: right;\n",
              "    }\n",
              "</style>\n",
              "<table border=\"1\" class=\"dataframe\">\n",
              "  <thead>\n",
              "    <tr style=\"text-align: right;\">\n",
              "      <th></th>\n",
              "      <th>production_year</th>\n",
              "      <th>mileage</th>\n",
              "      <th>condition</th>\n",
              "      <th>owners_number</th>\n",
              "      <th>pts_original</th>\n",
              "      <th>horse_power</th>\n",
              "      <th>accidents_resolution</th>\n",
              "      <th>region</th>\n",
              "      <th>seller_type</th>\n",
              "      <th>brand</th>\n",
              "      <th>...</th>\n",
              "      <th>engine_displacement</th>\n",
              "      <th>engine_power</th>\n",
              "      <th>fuel_rate</th>\n",
              "      <th>steering_wheel</th>\n",
              "      <th>price</th>\n",
              "      <th>price_segment</th>\n",
              "      <th>tags</th>\n",
              "      <th>auto_class</th>\n",
              "      <th>equipment</th>\n",
              "      <th>complectation_available_options</th>\n",
              "    </tr>\n",
              "  </thead>\n",
              "  <tbody>\n",
              "    <tr>\n",
              "      <th>210905</th>\n",
              "      <td>2003</td>\n",
              "      <td>175000</td>\n",
              "      <td>CONDITION_OK</td>\n",
              "      <td>0</td>\n",
              "      <td>True</td>\n",
              "      <td>NaN</td>\n",
              "      <td>NaN</td>\n",
              "      <td>Чебаркуль</td>\n",
              "      <td>PRIVATE</td>\n",
              "      <td>Hyundai</td>\n",
              "      <td>...</td>\n",
              "      <td>NaN</td>\n",
              "      <td>NaN</td>\n",
              "      <td>NaN</td>\n",
              "      <td>LEFT</td>\n",
              "      <td>380000</td>\n",
              "      <td>MEDIUM</td>\n",
              "      <td>available_for_checkup;pts_original;real_photo;...</td>\n",
              "      <td>NaN</td>\n",
              "      <td>seats-5</td>\n",
              "      <td>NaN</td>\n",
              "    </tr>\n",
              "  </tbody>\n",
              "</table>\n",
              "<p>1 rows × 24 columns</p>\n",
              "</div>\n",
              "    <div class=\"colab-df-buttons\">\n",
              "\n",
              "  <div class=\"colab-df-container\">\n",
              "    <button class=\"colab-df-convert\" onclick=\"convertToInteractive('df-28e6addf-92cf-4eac-a292-272e718df19c')\"\n",
              "            title=\"Convert this dataframe to an interactive table.\"\n",
              "            style=\"display:none;\">\n",
              "\n",
              "  <svg xmlns=\"http://www.w3.org/2000/svg\" height=\"24px\" viewBox=\"0 -960 960 960\">\n",
              "    <path d=\"M120-120v-720h720v720H120Zm60-500h600v-160H180v160Zm220 220h160v-160H400v160Zm0 220h160v-160H400v160ZM180-400h160v-160H180v160Zm440 0h160v-160H620v160ZM180-180h160v-160H180v160Zm440 0h160v-160H620v160Z\"/>\n",
              "  </svg>\n",
              "    </button>\n",
              "\n",
              "  <style>\n",
              "    .colab-df-container {\n",
              "      display:flex;\n",
              "      gap: 12px;\n",
              "    }\n",
              "\n",
              "    .colab-df-convert {\n",
              "      background-color: #E8F0FE;\n",
              "      border: none;\n",
              "      border-radius: 50%;\n",
              "      cursor: pointer;\n",
              "      display: none;\n",
              "      fill: #1967D2;\n",
              "      height: 32px;\n",
              "      padding: 0 0 0 0;\n",
              "      width: 32px;\n",
              "    }\n",
              "\n",
              "    .colab-df-convert:hover {\n",
              "      background-color: #E2EBFA;\n",
              "      box-shadow: 0px 1px 2px rgba(60, 64, 67, 0.3), 0px 1px 3px 1px rgba(60, 64, 67, 0.15);\n",
              "      fill: #174EA6;\n",
              "    }\n",
              "\n",
              "    .colab-df-buttons div {\n",
              "      margin-bottom: 4px;\n",
              "    }\n",
              "\n",
              "    [theme=dark] .colab-df-convert {\n",
              "      background-color: #3B4455;\n",
              "      fill: #D2E3FC;\n",
              "    }\n",
              "\n",
              "    [theme=dark] .colab-df-convert:hover {\n",
              "      background-color: #434B5C;\n",
              "      box-shadow: 0px 1px 3px 1px rgba(0, 0, 0, 0.15);\n",
              "      filter: drop-shadow(0px 1px 2px rgba(0, 0, 0, 0.3));\n",
              "      fill: #FFFFFF;\n",
              "    }\n",
              "  </style>\n",
              "\n",
              "    <script>\n",
              "      const buttonEl =\n",
              "        document.querySelector('#df-28e6addf-92cf-4eac-a292-272e718df19c button.colab-df-convert');\n",
              "      buttonEl.style.display =\n",
              "        google.colab.kernel.accessAllowed ? 'block' : 'none';\n",
              "\n",
              "      async function convertToInteractive(key) {\n",
              "        const element = document.querySelector('#df-28e6addf-92cf-4eac-a292-272e718df19c');\n",
              "        const dataTable =\n",
              "          await google.colab.kernel.invokeFunction('convertToInteractive',\n",
              "                                                    [key], {});\n",
              "        if (!dataTable) return;\n",
              "\n",
              "        const docLinkHtml = 'Like what you see? Visit the ' +\n",
              "          '<a target=\"_blank\" href=https://colab.research.google.com/notebooks/data_table.ipynb>data table notebook</a>'\n",
              "          + ' to learn more about interactive tables.';\n",
              "        element.innerHTML = '';\n",
              "        dataTable['output_type'] = 'display_data';\n",
              "        await google.colab.output.renderOutput(dataTable, element);\n",
              "        const docLink = document.createElement('div');\n",
              "        docLink.innerHTML = docLinkHtml;\n",
              "        element.appendChild(docLink);\n",
              "      }\n",
              "    </script>\n",
              "  </div>\n",
              "\n",
              "    </div>\n",
              "  </div>\n"
            ],
            "text/plain": [
              "        production_year  mileage     condition  owners_number pts_original  \\\n",
              "210905             2003   175000  CONDITION_OK              0         True   \n",
              "\n",
              "        horse_power accidents_resolution     region seller_type    brand  ...  \\\n",
              "210905          NaN                  NaN  Чебаркуль     PRIVATE  Hyundai  ...   \n",
              "\n",
              "       engine_displacement engine_power  fuel_rate steering_wheel   price  \\\n",
              "210905                 NaN          NaN        NaN           LEFT  380000   \n",
              "\n",
              "        price_segment                                               tags  \\\n",
              "210905         MEDIUM  available_for_checkup;pts_original;real_photo;...   \n",
              "\n",
              "       auto_class  equipment complectation_available_options  \n",
              "210905        NaN    seats-5                             NaN  \n",
              "\n",
              "[1 rows x 24 columns]"
            ]
          },
          "execution_count": 5,
          "metadata": {},
          "output_type": "execute_result"
        }
      ],
      "source": [
        "df_with_na_column = df[df['engine_displacement'].isna()]\n",
        "df_with_na_column"
      ]
    },
    {
      "cell_type": "code",
      "execution_count": 6,
      "id": "b3b83006",
      "metadata": {
        "id": "b3b83006"
      },
      "outputs": [],
      "source": [
        "df.drop(210905, inplace=True)"
      ]
    },
    {
      "cell_type": "code",
      "execution_count": null,
      "id": "2fcf2514",
      "metadata": {
        "colab": {
          "base_uri": "https://localhost:8080/"
        },
        "id": "2fcf2514",
        "outputId": "4ef6103a-c2c5-469a-d600-d2dca195908c"
      },
      "outputs": [],
      "source": [
        "df['fuel_rate'].fillna(df['fuel_rate'].median(), inplace=True)"
      ]
    },
    {
      "cell_type": "code",
      "execution_count": null,
      "id": "bc2edfc2",
      "metadata": {
        "colab": {
          "base_uri": "https://localhost:8080/"
        },
        "id": "bc2edfc2",
        "outputId": "0f3adbf2-2697-40cd-cb39-18cd7b5bb720"
      },
      "outputs": [],
      "source": [
        "df['pts_original'].fillna(True, inplace=True)\n",
        "df['accidents_resolution'].fillna('OK', inplace=True)\n",
        "df['auto_class'].fillna('NOT SPECIFIED', inplace=True)"
      ]
    },
    {
      "cell_type": "code",
      "execution_count": 9,
      "id": "6b7c0979",
      "metadata": {
        "id": "6b7c0979"
      },
      "outputs": [],
      "source": [
        "columns = ['production_year', 'mileage', 'condition', 'owners_number', 'pts_original', 'accidents_resolution', 'region', 'seller_type', 'brand', 'model', 'body_type', 'doors_count', 'seats', 'engine_displacement', 'engine_power', 'fuel_rate', 'steering_wheel', 'price', 'price_segment', 'auto_class']\n",
        "features = ['production_year', 'mileage', 'condition', 'owners_number', 'pts_original', 'accidents_resolution', 'region', 'seller_type', 'brand', 'model', 'body_type', 'doors_count', 'seats', 'engine_displacement', 'engine_power', 'fuel_rate', 'steering_wheel', 'price_segment', 'auto_class']"
      ]
    },
    {
      "cell_type": "code",
      "execution_count": 10,
      "id": "ac3e9f5e",
      "metadata": {
        "colab": {
          "base_uri": "https://localhost:8080/",
          "height": 711
        },
        "id": "ac3e9f5e",
        "outputId": "2f4cff54-ed54-429f-e3b2-38923cb9a9cb"
      },
      "outputs": [
        {
          "data": {
            "text/html": [
              "<div>\n",
              "<style scoped>\n",
              "    .dataframe tbody tr th:only-of-type {\n",
              "        vertical-align: middle;\n",
              "    }\n",
              "\n",
              "    .dataframe tbody tr th {\n",
              "        vertical-align: top;\n",
              "    }\n",
              "\n",
              "    .dataframe thead th {\n",
              "        text-align: right;\n",
              "    }\n",
              "</style>\n",
              "<table border=\"1\" class=\"dataframe\">\n",
              "  <thead>\n",
              "    <tr style=\"text-align: right;\">\n",
              "      <th></th>\n",
              "      <th>0</th>\n",
              "    </tr>\n",
              "  </thead>\n",
              "  <tbody>\n",
              "    <tr>\n",
              "      <th>production_year</th>\n",
              "      <td>0</td>\n",
              "    </tr>\n",
              "    <tr>\n",
              "      <th>mileage</th>\n",
              "      <td>0</td>\n",
              "    </tr>\n",
              "    <tr>\n",
              "      <th>condition</th>\n",
              "      <td>0</td>\n",
              "    </tr>\n",
              "    <tr>\n",
              "      <th>owners_number</th>\n",
              "      <td>0</td>\n",
              "    </tr>\n",
              "    <tr>\n",
              "      <th>pts_original</th>\n",
              "      <td>0</td>\n",
              "    </tr>\n",
              "    <tr>\n",
              "      <th>accidents_resolution</th>\n",
              "      <td>0</td>\n",
              "    </tr>\n",
              "    <tr>\n",
              "      <th>region</th>\n",
              "      <td>0</td>\n",
              "    </tr>\n",
              "    <tr>\n",
              "      <th>seller_type</th>\n",
              "      <td>0</td>\n",
              "    </tr>\n",
              "    <tr>\n",
              "      <th>brand</th>\n",
              "      <td>0</td>\n",
              "    </tr>\n",
              "    <tr>\n",
              "      <th>model</th>\n",
              "      <td>0</td>\n",
              "    </tr>\n",
              "    <tr>\n",
              "      <th>body_type</th>\n",
              "      <td>0</td>\n",
              "    </tr>\n",
              "    <tr>\n",
              "      <th>doors_count</th>\n",
              "      <td>0</td>\n",
              "    </tr>\n",
              "    <tr>\n",
              "      <th>seats</th>\n",
              "      <td>0</td>\n",
              "    </tr>\n",
              "    <tr>\n",
              "      <th>engine_displacement</th>\n",
              "      <td>0</td>\n",
              "    </tr>\n",
              "    <tr>\n",
              "      <th>engine_power</th>\n",
              "      <td>0</td>\n",
              "    </tr>\n",
              "    <tr>\n",
              "      <th>fuel_rate</th>\n",
              "      <td>0</td>\n",
              "    </tr>\n",
              "    <tr>\n",
              "      <th>steering_wheel</th>\n",
              "      <td>0</td>\n",
              "    </tr>\n",
              "    <tr>\n",
              "      <th>price</th>\n",
              "      <td>0</td>\n",
              "    </tr>\n",
              "    <tr>\n",
              "      <th>price_segment</th>\n",
              "      <td>0</td>\n",
              "    </tr>\n",
              "    <tr>\n",
              "      <th>auto_class</th>\n",
              "      <td>0</td>\n",
              "    </tr>\n",
              "  </tbody>\n",
              "</table>\n",
              "</div><br><label><b>dtype:</b> int64</label>"
            ],
            "text/plain": [
              "production_year         0\n",
              "mileage                 0\n",
              "condition               0\n",
              "owners_number           0\n",
              "pts_original            0\n",
              "accidents_resolution    0\n",
              "region                  0\n",
              "seller_type             0\n",
              "brand                   0\n",
              "model                   0\n",
              "body_type               0\n",
              "doors_count             0\n",
              "seats                   0\n",
              "engine_displacement     0\n",
              "engine_power            0\n",
              "fuel_rate               0\n",
              "steering_wheel          0\n",
              "price                   0\n",
              "price_segment           0\n",
              "auto_class              0\n",
              "dtype: int64"
            ]
          },
          "execution_count": 10,
          "metadata": {},
          "output_type": "execute_result"
        }
      ],
      "source": [
        "df[columns].isnull().sum()"
      ]
    },
    {
      "cell_type": "code",
      "execution_count": 11,
      "id": "9f7527ca",
      "metadata": {
        "id": "9f7527ca"
      },
      "outputs": [],
      "source": [
        "df.drop('horse_power', axis=1, inplace=True)"
      ]
    },
    {
      "cell_type": "code",
      "execution_count": 12,
      "id": "5fc9698d",
      "metadata": {
        "id": "5fc9698d"
      },
      "outputs": [],
      "source": [
        "df.drop(columns=[\"tags\", \"complectation_available_options\", \"equipment\"], inplace=True)"
      ]
    },
    {
      "cell_type": "code",
      "execution_count": 13,
      "id": "e715d874",
      "metadata": {
        "id": "e715d874"
      },
      "outputs": [],
      "source": [
        "import numpy as np\n",
        "\n",
        "def convert_seats(seats_str):\n",
        "    # Разбиваем строку по разделителю \";\" и преобразуем каждую часть в целое число\n",
        "    try:\n",
        "        numbers = list(map(int, seats_str.split(';')))\n",
        "    except Exception as e:\n",
        "        # Если не удалось преобразовать, возвращаем NaN\n",
        "        return np.nan\n",
        "    # Возвращаем среднее значение (можно выбрать max, min или другое агрегирующее значение)\n",
        "    return np.max(numbers)\n",
        "\n",
        "# Применяем функцию к столбцу и создаём новый числовой признак\n",
        "df[\"seats_numeric\"] = df[\"seats\"].apply(convert_seats)\n"
      ]
    },
    {
      "cell_type": "code",
      "execution_count": 14,
      "id": "8f5596f6",
      "metadata": {
        "id": "8f5596f6"
      },
      "outputs": [],
      "source": [
        "df.drop(columns=[\"seats\"], inplace=True)"
      ]
    },
    {
      "cell_type": "code",
      "execution_count": 15,
      "id": "79d35a7c",
      "metadata": {
        "id": "79d35a7c"
      },
      "outputs": [],
      "source": [
        "categorical_features = ['condition',\n",
        " 'accidents_resolution',\n",
        " 'region',\n",
        " 'seller_type',\n",
        " 'brand',\n",
        " 'model',\n",
        " 'body_type',\n",
        " 'steering_wheel',\n",
        " 'price_segment',\n",
        " 'auto_class']"
      ]
    },
    {
      "cell_type": "code",
      "execution_count": null,
      "id": "6d81fa20",
      "metadata": {
        "colab": {
          "base_uri": "https://localhost:8080/"
        },
        "id": "6d81fa20",
        "outputId": "1ecc5768-e4b5-416e-a37e-64f2340984d3"
      },
      "outputs": [],
      "source": [
        "!pip install category-encoders"
      ]
    },
    {
      "cell_type": "code",
      "execution_count": 17,
      "id": "f206c93d",
      "metadata": {
        "id": "f206c93d"
      },
      "outputs": [],
      "source": [
        "for col in df.select_dtypes(include=['int64']):\n",
        "    df[col] = df[col].astype('int32')\n",
        "\n",
        "for col in df.select_dtypes(include=['float64']):\n",
        "    df[col] = df[col].astype('float32')\n",
        "\n",
        "for col in categorical_features:\n",
        "    df[col] = df[col].astype('category')"
      ]
    },
    {
      "cell_type": "code",
      "execution_count": 18,
      "id": "888bde07",
      "metadata": {
        "id": "888bde07"
      },
      "outputs": [],
      "source": [
        "y = df[\"price\"]\n",
        "X = df.drop(columns=[\"price\"])"
      ]
    },
    {
      "cell_type": "code",
      "execution_count": 19,
      "id": "0f2b559b",
      "metadata": {
        "id": "0f2b559b"
      },
      "outputs": [],
      "source": [
        "numeric_features = X.select_dtypes(include=['int64', 'float64']).columns.tolist()\n",
        "categorical_features = X.select_dtypes(include=['object', 'category']).columns.tolist()\n",
        "auto_ohe_features = [col for col in categorical_features if X[col].nunique() <= 30]\n",
        "auto_cb_features  = [col for col in categorical_features if X[col].nunique() > 30]\n",
        "auto_te_features = [col for col in categorical_features if X[col].nunique() > 30]\n",
        "\n",
        "low_cardinality_features = [col for col in categorical_features if X[col].nunique() <= 30]\n",
        "high_cardinality_features = [col for col in categorical_features if X[col].nunique() > 30]"
      ]
    },
    {
      "cell_type": "code",
      "execution_count": null,
      "id": "88385401",
      "metadata": {
        "colab": {
          "base_uri": "https://localhost:8080/"
        },
        "id": "88385401",
        "outputId": "4070c890-51c2-4c68-f379-261e9f680976"
      },
      "outputs": [
        {
          "data": {
            "text/plain": [
              "2575"
            ]
          },
          "execution_count": 20,
          "metadata": {},
          "output_type": "execute_result"
        }
      ],
      "source": [
        "len(df[\"model\"].value_counts())"
      ]
    },
    {
      "cell_type": "markdown",
      "id": "xU_tXWtjzybA",
      "metadata": {
        "id": "xU_tXWtjzybA"
      },
      "source": [
        "# Делим данные на обучающую и тестовую выборки"
      ]
    },
    {
      "cell_type": "code",
      "execution_count": 20,
      "id": "02cdb4d7",
      "metadata": {
        "id": "02cdb4d7"
      },
      "outputs": [],
      "source": [
        "from sklearn.model_selection import train_test_split\n",
        "X_train, X_test, y_train, y_test = train_test_split(X, y, test_size=0.1, random_state=42)"
      ]
    },
    {
      "cell_type": "code",
      "execution_count": 21,
      "id": "f79d34dd",
      "metadata": {
        "id": "f79d34dd"
      },
      "outputs": [],
      "source": [
        "pd.concat([X_train, y_train], axis=1).to_csv(\"train_data.csv\", index=False)\n"
      ]
    },
    {
      "cell_type": "markdown",
      "id": "M2qpf-FN0BII",
      "metadata": {
        "id": "M2qpf-FN0BII"
      },
      "source": [
        "# Начинаем обучать модели"
      ]
    },
    {
      "cell_type": "markdown",
      "id": "tOiIJrRq0ksb",
      "metadata": {
        "id": "tOiIJrRq0ksb"
      },
      "source": [
        "## ElasticNet"
      ]
    },
    {
      "cell_type": "code",
      "execution_count": 25,
      "id": "F4X8ZwNhJbbT",
      "metadata": {
        "id": "F4X8ZwNhJbbT"
      },
      "outputs": [],
      "source": [
        "from sklearn.linear_model import ElasticNet\n",
        "from sklearn.model_selection import GridSearchCV\n",
        "from category_encoders import TargetEncoder\n",
        "from sklearn.model_selection import RandomizedSearchCV"
      ]
    },
    {
      "cell_type": "code",
      "execution_count": 26,
      "id": "cVATaLfkJcp5",
      "metadata": {
        "id": "cVATaLfkJcp5"
      },
      "outputs": [],
      "source": [
        "preprocessor = ColumnTransformer([\n",
        "    ('num', StandardScaler(), numeric_features),\n",
        "    ('te', TargetEncoder(), high_cardinality_features),\n",
        "    ('ohe', OneHotEncoder(handle_unknown='ignore', sparse_output=True), low_cardinality_features)\n",
        "])"
      ]
    },
    {
      "cell_type": "code",
      "execution_count": 38,
      "id": "rxWLpC3e-TJz",
      "metadata": {
        "id": "rxWLpC3e-TJz"
      },
      "outputs": [],
      "source": [
        "elastic_pipeline = Pipeline([\n",
        "    ('preprocessor', preprocessor),\n",
        "    ('regressor', ElasticNet(max_iter=3000, tol=1e-3, random_state=42))\n",
        "])\n"
      ]
    },
    {
      "cell_type": "code",
      "execution_count": 45,
      "id": "B4WSB7NA-VmO",
      "metadata": {
        "id": "B4WSB7NA-VmO"
      },
      "outputs": [],
      "source": [
        "param_dist = {\n",
        "    'regressor__alpha': [0.89, 0.9, 0.91, 0.93, 100000],\n",
        "    'regressor__l1_ratio': [0.79, 0.8, 0.81, 0.83]\n",
        "}\n"
      ]
    },
    {
      "cell_type": "code",
      "execution_count": 47,
      "id": "Jpv0fW5DJgEg",
      "metadata": {
        "id": "Jpv0fW5DJgEg"
      },
      "outputs": [],
      "source": [
        "elastic_search = RandomizedSearchCV(\n",
        "    elastic_pipeline,\n",
        "    param_dist,\n",
        "    n_iter=20,\n",
        "    cv=3,\n",
        "    scoring='neg_mean_absolute_error',\n",
        "    n_jobs=-1,\n",
        "    verbose=1\n",
        ")"
      ]
    },
    {
      "cell_type": "code",
      "execution_count": 48,
      "id": "_4s9jFg4-eES",
      "metadata": {
        "id": "_4s9jFg4-eES"
      },
      "outputs": [],
      "source": [
        "X_sample, _, y_sample, _ = train_test_split(X_train, y_train, train_size=0.5, random_state=42)"
      ]
    },
    {
      "cell_type": "code",
      "execution_count": null,
      "id": "o2S9Hb5i9iXv",
      "metadata": {
        "colab": {
          "base_uri": "https://localhost:8080/"
        },
        "id": "o2S9Hb5i9iXv",
        "outputId": "88ab2cc6-b1dc-4107-9f63-50cbd9da501c"
      },
      "outputs": [
        {
          "name": "stdout",
          "output_type": "stream",
          "text": [
            "Fitting 3 folds for each of 20 candidates, totalling 60 fits\n"
          ]
        }
      ],
      "source": [
        "elastic_search.fit(X_sample, y_sample)"
      ]
    },
    {
      "cell_type": "code",
      "execution_count": 43,
      "id": "6IgKUcTwJkNi",
      "metadata": {
        "colab": {
          "base_uri": "https://localhost:8080/"
        },
        "id": "6IgKUcTwJkNi",
        "outputId": "75323142-3e8b-4358-f9af-876e96aaa7b8"
      },
      "outputs": [
        {
          "name": "stdout",
          "output_type": "stream",
          "text": [
            "Лучшие параметры: {'regressor__l1_ratio': 0.8, 'regressor__alpha': 0.9}\n"
          ]
        }
      ],
      "source": [
        "print(\"Лучшие параметры:\", elastic_search.best_params_)\n",
        "#Лучшие параметры: {'regressor__l1_ratio': 0.8, 'regressor__alpha': 0.9}"
      ]
    },
    {
      "cell_type": "code",
      "execution_count": null,
      "id": "7zmv76RuJoVI",
      "metadata": {
        "colab": {
          "base_uri": "https://localhost:8080/"
        },
        "id": "7zmv76RuJoVI",
        "outputId": "0ae928f9-4c6f-4ca9-de81-4aa95dbe07df"
      },
      "outputs": [
        {
          "name": "stdout",
          "output_type": "stream",
          "text": [
            "ElasticNet MAE: 1135296.80 руб.\n",
            "ElasticNet R²: 0.44\n"
          ]
        }
      ],
      "source": [
        "y_pred_elastic = elastic_search.predict(X_test)\n",
        "print(f\"ElasticNet MAE: {mean_absolute_error(y_test, y_pred_elastic):.2f} руб.\")\n",
        "print(f\"ElasticNet R²: {r2_score(y_test, y_pred_elastic):.2f}\")"
      ]
    }
  ],
  "metadata": {
    "colab": {
      "provenance": []
    },
    "kernelspec": {
      "display_name": "ml-project-2-course",
      "language": "python",
      "name": "python3"
    },
    "language_info": {
      "codemirror_mode": {
        "name": "ipython",
        "version": 3
      },
      "file_extension": ".py",
      "mimetype": "text/x-python",
      "name": "python",
      "nbconvert_exporter": "python",
      "pygments_lexer": "ipython3",
      "version": "3.10.16"
    }
  },
  "nbformat": 4,
  "nbformat_minor": 5
}
