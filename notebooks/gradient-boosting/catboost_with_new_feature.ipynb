{
  "cells": [
    {
      "cell_type": "code",
      "execution_count": null,
      "metadata": {
        "id": "OZPj0RQ06-eq"
      },
      "outputs": [],
      "source": [
        "import pandas as pd\n",
        "import numpy as np\n",
        "import matplotlib.pyplot as plt\n",
        "import random\n",
        "import seaborn as sns"
      ]
    },
    {
      "cell_type": "code",
      "execution_count": null,
      "metadata": {
        "colab": {
          "base_uri": "https://localhost:8080/"
        },
        "collapsed": true,
        "id": "BI6CrTfd7G92",
        "outputId": "c2167f39-c723-4f31-880f-d81a3794b563"
      },
      "outputs": [
        {
          "name": "stdout",
          "output_type": "stream",
          "text": [
            "Requirement already satisfied: gdown in /usr/local/lib/python3.11/dist-packages (5.2.0)\n",
            "Requirement already satisfied: beautifulsoup4 in /usr/local/lib/python3.11/dist-packages (from gdown) (4.13.4)\n",
            "Requirement already satisfied: filelock in /usr/local/lib/python3.11/dist-packages (from gdown) (3.18.0)\n",
            "Requirement already satisfied: requests[socks] in /usr/local/lib/python3.11/dist-packages (from gdown) (2.32.3)\n",
            "Requirement already satisfied: tqdm in /usr/local/lib/python3.11/dist-packages (from gdown) (4.67.1)\n",
            "Requirement already satisfied: soupsieve>1.2 in /usr/local/lib/python3.11/dist-packages (from beautifulsoup4->gdown) (2.7)\n",
            "Requirement already satisfied: typing-extensions>=4.0.0 in /usr/local/lib/python3.11/dist-packages (from beautifulsoup4->gdown) (4.14.0)\n",
            "Requirement already satisfied: charset-normalizer<4,>=2 in /usr/local/lib/python3.11/dist-packages (from requests[socks]->gdown) (3.4.2)\n",
            "Requirement already satisfied: idna<4,>=2.5 in /usr/local/lib/python3.11/dist-packages (from requests[socks]->gdown) (3.10)\n",
            "Requirement already satisfied: urllib3<3,>=1.21.1 in /usr/local/lib/python3.11/dist-packages (from requests[socks]->gdown) (2.4.0)\n",
            "Requirement already satisfied: certifi>=2017.4.17 in /usr/local/lib/python3.11/dist-packages (from requests[socks]->gdown) (2025.4.26)\n",
            "Requirement already satisfied: PySocks!=1.5.7,>=1.5.6 in /usr/local/lib/python3.11/dist-packages (from requests[socks]->gdown) (1.7.1)\n"
          ]
        }
      ],
      "source": [
        "%pip install gdown"
      ]
    },
    {
      "cell_type": "code",
      "execution_count": null,
      "metadata": {
        "id": "orEekTuyKp2I"
      },
      "outputs": [],
      "source": [
        "RANDOM_STATE = 42"
      ]
    },
    {
      "cell_type": "code",
      "execution_count": null,
      "metadata": {
        "colab": {
          "base_uri": "https://localhost:8080/"
        },
        "id": "8fvc5WE87JiG",
        "outputId": "1de61f2c-e2bf-4399-a7a5-e8e4c2f2951e"
      },
      "outputs": [
        {
          "name": "stdout",
          "output_type": "stream",
          "text": [
            "/usr/local/lib/python3.11/dist-packages/gdown/__main__.py:140: FutureWarning: Option `--id` was deprecated in version 4.3.1 and will be removed in 5.0. You don't need to pass it anymore to use a file ID.\n",
            "  warnings.warn(\n",
            "Downloading...\n",
            "From (original): https://drive.google.com/uc?id=1liFEe1-yFISPSpRSvbv1wIH_avYNGmBI\n",
            "From (redirected): https://drive.google.com/uc?id=1liFEe1-yFISPSpRSvbv1wIH_avYNGmBI&confirm=t&uuid=bc5e8c51-6f64-4694-846a-ecbed982bc2a\n",
            "To: /content/dataset.csv\n",
            "100% 1.01G/1.01G [00:06<00:00, 146MB/s]\n"
          ]
        }
      ],
      "source": [
        "CARS_FILE_ID = '1liFEe1-yFISPSpRSvbv1wIH_avYNGmBI'\n",
        "\n",
        "random.seed(RANDOM_STATE)\n",
        "np.random.seed(RANDOM_STATE)\n",
        "\n",
        "!gdown --id {CARS_FILE_ID}"
      ]
    },
    {
      "cell_type": "code",
      "execution_count": null,
      "metadata": {
        "colab": {
          "base_uri": "https://localhost:8080/"
        },
        "id": "xthQgOiL7LN6",
        "outputId": "db7e470d-2edb-4619-a436-4b43b2d327fa"
      },
      "outputs": [
        {
          "name": "stdout",
          "output_type": "stream",
          "text": [
            "(604047, 24)\n"
          ]
        }
      ],
      "source": [
        "df = pd.read_csv('dataset.csv')\n",
        "print(df.shape)"
      ]
    },
    {
      "cell_type": "code",
      "execution_count": null,
      "metadata": {
        "colab": {
          "base_uri": "https://localhost:8080/",
          "height": 130
        },
        "id": "EBAWJKD_7MlL",
        "outputId": "1d0883c9-6c4d-42aa-da1c-2de841a7b911"
      },
      "outputs": [
        {
          "data": {
            "application/vnd.google.colaboratory.intrinsic+json": {
              "type": "dataframe",
              "variable_name": "df_with_na_column"
            },
            "text/html": [
              "\n",
              "  <div id=\"df-c152a576-abb0-47f2-aea5-6c00e6fe774a\" class=\"colab-df-container\">\n",
              "    <div>\n",
              "<style scoped>\n",
              "    .dataframe tbody tr th:only-of-type {\n",
              "        vertical-align: middle;\n",
              "    }\n",
              "\n",
              "    .dataframe tbody tr th {\n",
              "        vertical-align: top;\n",
              "    }\n",
              "\n",
              "    .dataframe thead th {\n",
              "        text-align: right;\n",
              "    }\n",
              "</style>\n",
              "<table border=\"1\" class=\"dataframe\">\n",
              "  <thead>\n",
              "    <tr style=\"text-align: right;\">\n",
              "      <th></th>\n",
              "      <th>production_year</th>\n",
              "      <th>mileage</th>\n",
              "      <th>condition</th>\n",
              "      <th>owners_number</th>\n",
              "      <th>pts_original</th>\n",
              "      <th>horse_power</th>\n",
              "      <th>accidents_resolution</th>\n",
              "      <th>region</th>\n",
              "      <th>seller_type</th>\n",
              "      <th>brand</th>\n",
              "      <th>...</th>\n",
              "      <th>engine_displacement</th>\n",
              "      <th>engine_power</th>\n",
              "      <th>fuel_rate</th>\n",
              "      <th>steering_wheel</th>\n",
              "      <th>price</th>\n",
              "      <th>price_segment</th>\n",
              "      <th>tags</th>\n",
              "      <th>auto_class</th>\n",
              "      <th>equipment</th>\n",
              "      <th>complectation_available_options</th>\n",
              "    </tr>\n",
              "  </thead>\n",
              "  <tbody>\n",
              "    <tr>\n",
              "      <th>210905</th>\n",
              "      <td>2003</td>\n",
              "      <td>175000</td>\n",
              "      <td>CONDITION_OK</td>\n",
              "      <td>0</td>\n",
              "      <td>True</td>\n",
              "      <td>NaN</td>\n",
              "      <td>NaN</td>\n",
              "      <td>Чебаркуль</td>\n",
              "      <td>PRIVATE</td>\n",
              "      <td>Hyundai</td>\n",
              "      <td>...</td>\n",
              "      <td>NaN</td>\n",
              "      <td>NaN</td>\n",
              "      <td>NaN</td>\n",
              "      <td>LEFT</td>\n",
              "      <td>380000</td>\n",
              "      <td>MEDIUM</td>\n",
              "      <td>available_for_checkup;pts_original;real_photo;...</td>\n",
              "      <td>NaN</td>\n",
              "      <td>seats-5</td>\n",
              "      <td>NaN</td>\n",
              "    </tr>\n",
              "  </tbody>\n",
              "</table>\n",
              "<p>1 rows × 24 columns</p>\n",
              "</div>\n",
              "    <div class=\"colab-df-buttons\">\n",
              "\n",
              "  <div class=\"colab-df-container\">\n",
              "    <button class=\"colab-df-convert\" onclick=\"convertToInteractive('df-c152a576-abb0-47f2-aea5-6c00e6fe774a')\"\n",
              "            title=\"Convert this dataframe to an interactive table.\"\n",
              "            style=\"display:none;\">\n",
              "\n",
              "  <svg xmlns=\"http://www.w3.org/2000/svg\" height=\"24px\" viewBox=\"0 -960 960 960\">\n",
              "    <path d=\"M120-120v-720h720v720H120Zm60-500h600v-160H180v160Zm220 220h160v-160H400v160Zm0 220h160v-160H400v160ZM180-400h160v-160H180v160Zm440 0h160v-160H620v160ZM180-180h160v-160H180v160Zm440 0h160v-160H620v160Z\"/>\n",
              "  </svg>\n",
              "    </button>\n",
              "\n",
              "  <style>\n",
              "    .colab-df-container {\n",
              "      display:flex;\n",
              "      gap: 12px;\n",
              "    }\n",
              "\n",
              "    .colab-df-convert {\n",
              "      background-color: #E8F0FE;\n",
              "      border: none;\n",
              "      border-radius: 50%;\n",
              "      cursor: pointer;\n",
              "      display: none;\n",
              "      fill: #1967D2;\n",
              "      height: 32px;\n",
              "      padding: 0 0 0 0;\n",
              "      width: 32px;\n",
              "    }\n",
              "\n",
              "    .colab-df-convert:hover {\n",
              "      background-color: #E2EBFA;\n",
              "      box-shadow: 0px 1px 2px rgba(60, 64, 67, 0.3), 0px 1px 3px 1px rgba(60, 64, 67, 0.15);\n",
              "      fill: #174EA6;\n",
              "    }\n",
              "\n",
              "    .colab-df-buttons div {\n",
              "      margin-bottom: 4px;\n",
              "    }\n",
              "\n",
              "    [theme=dark] .colab-df-convert {\n",
              "      background-color: #3B4455;\n",
              "      fill: #D2E3FC;\n",
              "    }\n",
              "\n",
              "    [theme=dark] .colab-df-convert:hover {\n",
              "      background-color: #434B5C;\n",
              "      box-shadow: 0px 1px 3px 1px rgba(0, 0, 0, 0.15);\n",
              "      filter: drop-shadow(0px 1px 2px rgba(0, 0, 0, 0.3));\n",
              "      fill: #FFFFFF;\n",
              "    }\n",
              "  </style>\n",
              "\n",
              "    <script>\n",
              "      const buttonEl =\n",
              "        document.querySelector('#df-c152a576-abb0-47f2-aea5-6c00e6fe774a button.colab-df-convert');\n",
              "      buttonEl.style.display =\n",
              "        google.colab.kernel.accessAllowed ? 'block' : 'none';\n",
              "\n",
              "      async function convertToInteractive(key) {\n",
              "        const element = document.querySelector('#df-c152a576-abb0-47f2-aea5-6c00e6fe774a');\n",
              "        const dataTable =\n",
              "          await google.colab.kernel.invokeFunction('convertToInteractive',\n",
              "                                                    [key], {});\n",
              "        if (!dataTable) return;\n",
              "\n",
              "        const docLinkHtml = 'Like what you see? Visit the ' +\n",
              "          '<a target=\"_blank\" href=https://colab.research.google.com/notebooks/data_table.ipynb>data table notebook</a>'\n",
              "          + ' to learn more about interactive tables.';\n",
              "        element.innerHTML = '';\n",
              "        dataTable['output_type'] = 'display_data';\n",
              "        await google.colab.output.renderOutput(dataTable, element);\n",
              "        const docLink = document.createElement('div');\n",
              "        docLink.innerHTML = docLinkHtml;\n",
              "        element.appendChild(docLink);\n",
              "      }\n",
              "    </script>\n",
              "  </div>\n",
              "\n",
              "\n",
              "  <div id=\"id_4338d232-e4dd-4cd0-8d90-f98b11d714ac\">\n",
              "    <style>\n",
              "      .colab-df-generate {\n",
              "        background-color: #E8F0FE;\n",
              "        border: none;\n",
              "        border-radius: 50%;\n",
              "        cursor: pointer;\n",
              "        display: none;\n",
              "        fill: #1967D2;\n",
              "        height: 32px;\n",
              "        padding: 0 0 0 0;\n",
              "        width: 32px;\n",
              "      }\n",
              "\n",
              "      .colab-df-generate:hover {\n",
              "        background-color: #E2EBFA;\n",
              "        box-shadow: 0px 1px 2px rgba(60, 64, 67, 0.3), 0px 1px 3px 1px rgba(60, 64, 67, 0.15);\n",
              "        fill: #174EA6;\n",
              "      }\n",
              "\n",
              "      [theme=dark] .colab-df-generate {\n",
              "        background-color: #3B4455;\n",
              "        fill: #D2E3FC;\n",
              "      }\n",
              "\n",
              "      [theme=dark] .colab-df-generate:hover {\n",
              "        background-color: #434B5C;\n",
              "        box-shadow: 0px 1px 3px 1px rgba(0, 0, 0, 0.15);\n",
              "        filter: drop-shadow(0px 1px 2px rgba(0, 0, 0, 0.3));\n",
              "        fill: #FFFFFF;\n",
              "      }\n",
              "    </style>\n",
              "    <button class=\"colab-df-generate\" onclick=\"generateWithVariable('df_with_na_column')\"\n",
              "            title=\"Generate code using this dataframe.\"\n",
              "            style=\"display:none;\">\n",
              "\n",
              "  <svg xmlns=\"http://www.w3.org/2000/svg\" height=\"24px\"viewBox=\"0 0 24 24\"\n",
              "       width=\"24px\">\n",
              "    <path d=\"M7,19H8.4L18.45,9,17,7.55,7,17.6ZM5,21V16.75L18.45,3.32a2,2,0,0,1,2.83,0l1.4,1.43a1.91,1.91,0,0,1,.58,1.4,1.91,1.91,0,0,1-.58,1.4L9.25,21ZM18.45,9,17,7.55Zm-12,3A5.31,5.31,0,0,0,4.9,8.1,5.31,5.31,0,0,0,1,6.5,5.31,5.31,0,0,0,4.9,4.9,5.31,5.31,0,0,0,6.5,1,5.31,5.31,0,0,0,8.1,4.9,5.31,5.31,0,0,0,12,6.5,5.46,5.46,0,0,0,6.5,12Z\"/>\n",
              "  </svg>\n",
              "    </button>\n",
              "    <script>\n",
              "      (() => {\n",
              "      const buttonEl =\n",
              "        document.querySelector('#id_4338d232-e4dd-4cd0-8d90-f98b11d714ac button.colab-df-generate');\n",
              "      buttonEl.style.display =\n",
              "        google.colab.kernel.accessAllowed ? 'block' : 'none';\n",
              "\n",
              "      buttonEl.onclick = () => {\n",
              "        google.colab.notebook.generateWithVariable('df_with_na_column');\n",
              "      }\n",
              "      })();\n",
              "    </script>\n",
              "  </div>\n",
              "\n",
              "    </div>\n",
              "  </div>\n"
            ],
            "text/plain": [
              "        production_year  mileage     condition  owners_number pts_original  \\\n",
              "210905             2003   175000  CONDITION_OK              0         True   \n",
              "\n",
              "        horse_power accidents_resolution     region seller_type    brand  ...  \\\n",
              "210905          NaN                  NaN  Чебаркуль     PRIVATE  Hyundai  ...   \n",
              "\n",
              "       engine_displacement engine_power  fuel_rate steering_wheel   price  \\\n",
              "210905                 NaN          NaN        NaN           LEFT  380000   \n",
              "\n",
              "        price_segment                                               tags  \\\n",
              "210905         MEDIUM  available_for_checkup;pts_original;real_photo;...   \n",
              "\n",
              "       auto_class  equipment complectation_available_options  \n",
              "210905        NaN    seats-5                             NaN  \n",
              "\n",
              "[1 rows x 24 columns]"
            ]
          },
          "execution_count": 8,
          "metadata": {},
          "output_type": "execute_result"
        }
      ],
      "source": [
        "df_with_na_column = df[df['engine_displacement'].isna()]\n",
        "df_with_na_column"
      ]
    },
    {
      "cell_type": "code",
      "execution_count": null,
      "metadata": {
        "id": "TVmTESm67OJQ"
      },
      "outputs": [],
      "source": [
        "df.drop(210905, inplace=True)"
      ]
    },
    {
      "cell_type": "code",
      "execution_count": null,
      "metadata": {
        "colab": {
          "base_uri": "https://localhost:8080/"
        },
        "id": "JIe3WNSl7Pya",
        "outputId": "3b029263-6a81-403e-efbf-ea06a94149cf"
      },
      "outputs": [
        {
          "name": "stderr",
          "output_type": "stream",
          "text": [
            "<ipython-input-10-b50b155cf67a>:1: FutureWarning: A value is trying to be set on a copy of a DataFrame or Series through chained assignment using an inplace method.\n",
            "The behavior will change in pandas 3.0. This inplace method will never work because the intermediate object on which we are setting values always behaves as a copy.\n",
            "\n",
            "For example, when doing 'df[col].method(value, inplace=True)', try using 'df.method({col: value}, inplace=True)' or df[col] = df[col].method(value) instead, to perform the operation inplace on the original object.\n",
            "\n",
            "\n",
            "  df['fuel_rate'].fillna(df['fuel_rate'].median(), inplace=True)\n"
          ]
        }
      ],
      "source": [
        "df['fuel_rate'].fillna(df['fuel_rate'].median(), inplace=True)"
      ]
    },
    {
      "cell_type": "code",
      "execution_count": null,
      "metadata": {
        "colab": {
          "base_uri": "https://localhost:8080/"
        },
        "collapsed": true,
        "id": "kSF0XFe97RXO",
        "outputId": "0d09dd9d-5402-4a57-de93-e8ac50098d73"
      },
      "outputs": [
        {
          "name": "stderr",
          "output_type": "stream",
          "text": [
            "<ipython-input-11-f268849e3c66>:1: FutureWarning: A value is trying to be set on a copy of a DataFrame or Series through chained assignment using an inplace method.\n",
            "The behavior will change in pandas 3.0. This inplace method will never work because the intermediate object on which we are setting values always behaves as a copy.\n",
            "\n",
            "For example, when doing 'df[col].method(value, inplace=True)', try using 'df.method({col: value}, inplace=True)' or df[col] = df[col].method(value) instead, to perform the operation inplace on the original object.\n",
            "\n",
            "\n",
            "  df['pts_original'].fillna(True, inplace=True)\n",
            "<ipython-input-11-f268849e3c66>:1: FutureWarning: Downcasting object dtype arrays on .fillna, .ffill, .bfill is deprecated and will change in a future version. Call result.infer_objects(copy=False) instead. To opt-in to the future behavior, set `pd.set_option('future.no_silent_downcasting', True)`\n",
            "  df['pts_original'].fillna(True, inplace=True)\n",
            "<ipython-input-11-f268849e3c66>:2: FutureWarning: A value is trying to be set on a copy of a DataFrame or Series through chained assignment using an inplace method.\n",
            "The behavior will change in pandas 3.0. This inplace method will never work because the intermediate object on which we are setting values always behaves as a copy.\n",
            "\n",
            "For example, when doing 'df[col].method(value, inplace=True)', try using 'df.method({col: value}, inplace=True)' or df[col] = df[col].method(value) instead, to perform the operation inplace on the original object.\n",
            "\n",
            "\n",
            "  df['accidents_resolution'].fillna('OK', inplace=True)\n",
            "<ipython-input-11-f268849e3c66>:3: FutureWarning: A value is trying to be set on a copy of a DataFrame or Series through chained assignment using an inplace method.\n",
            "The behavior will change in pandas 3.0. This inplace method will never work because the intermediate object on which we are setting values always behaves as a copy.\n",
            "\n",
            "For example, when doing 'df[col].method(value, inplace=True)', try using 'df.method({col: value}, inplace=True)' or df[col] = df[col].method(value) instead, to perform the operation inplace on the original object.\n",
            "\n",
            "\n",
            "  df['auto_class'].fillna('NOT SPECIFIED', inplace=True)\n"
          ]
        }
      ],
      "source": [
        "df['pts_original'].fillna(True, inplace=True)\n",
        "df['accidents_resolution'].fillna('OK', inplace=True)\n",
        "df['auto_class'].fillna('NOT SPECIFIED', inplace=True)"
      ]
    },
    {
      "cell_type": "code",
      "execution_count": null,
      "metadata": {
        "id": "5jzvXaY07TZp"
      },
      "outputs": [],
      "source": [
        "df.drop('horse_power', axis=1, inplace=True)"
      ]
    },
    {
      "cell_type": "code",
      "execution_count": null,
      "metadata": {
        "id": "2iBQT-vq7U6R"
      },
      "outputs": [],
      "source": [
        "def get_unique_values(series, sep=';'):\n",
        "    uniq = set()\n",
        "    for cell in series.dropna():\n",
        "        for piece in cell.split(sep):\n",
        "            s = piece.strip()\n",
        "            if s:\n",
        "                uniq.add(s)\n",
        "    return np.array(list(uniq))\n",
        "\n",
        "all_tags = get_unique_values(df['tags'])\n",
        "all_options = get_unique_values(df['complectation_available_options'])\n",
        "all_equipments = get_unique_values(df['equipment'])"
      ]
    },
    {
      "cell_type": "code",
      "execution_count": null,
      "metadata": {
        "id": "igXWgVth7WX-"
      },
      "outputs": [],
      "source": [
        "def create_binary_features(df, column, unique_values, sep=';'):\n",
        "    return (\n",
        "        df[column]\n",
        "        .str.get_dummies(sep=sep)\n",
        "        .reindex(columns=unique_values, fill_value=0)\n",
        "        .astype('int8')\n",
        "    )\n",
        "\n",
        "tags_dummies = create_binary_features(df, 'tags', all_tags)\n",
        "options_dummies = create_binary_features(df, 'complectation_available_options', all_options)\n",
        "equipment_dummies = create_binary_features(df, 'equipment', all_equipments)"
      ]
    },
    {
      "cell_type": "code",
      "execution_count": null,
      "metadata": {
        "id": "f0vWObtp7XZb"
      },
      "outputs": [],
      "source": [
        "tags_dummies = tags_dummies.astype('Sparse[int]')\n",
        "options_dummies = options_dummies.astype('Sparse[int]')\n",
        "equipment_dummies = equipment_dummies.astype('Sparse[int]')"
      ]
    },
    {
      "cell_type": "code",
      "execution_count": null,
      "metadata": {
        "id": "XyPHNOe67ZZF"
      },
      "outputs": [],
      "source": [
        "full_df = pd.concat([\n",
        "    df.drop(columns=['tags', 'complectation_available_options', 'equipment']),\n",
        "    tags_dummies,\n",
        "    options_dummies.drop(columns=['condition']),\n",
        "    equipment_dummies.drop(columns=['condition'])\n",
        "], axis=1)"
      ]
    },
    {
      "cell_type": "code",
      "execution_count": null,
      "metadata": {
        "id": "avXRhM_J7cfu"
      },
      "outputs": [],
      "source": [
        "duplicated_cols = full_df.columns[full_df.columns.duplicated()].unique()\n",
        "for col in duplicated_cols:\n",
        "    full_df[col] = full_df[col].astype(\"int8\")"
      ]
    },
    {
      "cell_type": "code",
      "execution_count": null,
      "metadata": {
        "colab": {
          "base_uri": "https://localhost:8080/"
        },
        "collapsed": true,
        "id": "9186-mYE7eRL",
        "outputId": "b7d5f014-9f6c-4fa3-a61c-891e0de7ae77"
      },
      "outputs": [
        {
          "name": "stderr",
          "output_type": "stream",
          "text": [
            "<ipython-input-18-65bc9051fcec>:20: PerformanceWarning: DataFrame is highly fragmented.  This is usually the result of calling `frame.insert` many times, which has poor performance.  Consider joining all columns at once using pd.concat(axis=1) instead. To get a de-fragmented frame, use `newframe = frame.copy()`\n",
            "  full_df[name] = s\n",
            "<ipython-input-18-65bc9051fcec>:20: PerformanceWarning: DataFrame is highly fragmented.  This is usually the result of calling `frame.insert` many times, which has poor performance.  Consider joining all columns at once using pd.concat(axis=1) instead. To get a de-fragmented frame, use `newframe = frame.copy()`\n",
            "  full_df[name] = s\n",
            "<ipython-input-18-65bc9051fcec>:20: PerformanceWarning: DataFrame is highly fragmented.  This is usually the result of calling `frame.insert` many times, which has poor performance.  Consider joining all columns at once using pd.concat(axis=1) instead. To get a de-fragmented frame, use `newframe = frame.copy()`\n",
            "  full_df[name] = s\n",
            "<ipython-input-18-65bc9051fcec>:20: PerformanceWarning: DataFrame is highly fragmented.  This is usually the result of calling `frame.insert` many times, which has poor performance.  Consider joining all columns at once using pd.concat(axis=1) instead. To get a de-fragmented frame, use `newframe = frame.copy()`\n",
            "  full_df[name] = s\n",
            "<ipython-input-18-65bc9051fcec>:20: PerformanceWarning: DataFrame is highly fragmented.  This is usually the result of calling `frame.insert` many times, which has poor performance.  Consider joining all columns at once using pd.concat(axis=1) instead. To get a de-fragmented frame, use `newframe = frame.copy()`\n",
            "  full_df[name] = s\n",
            "<ipython-input-18-65bc9051fcec>:20: PerformanceWarning: DataFrame is highly fragmented.  This is usually the result of calling `frame.insert` many times, which has poor performance.  Consider joining all columns at once using pd.concat(axis=1) instead. To get a de-fragmented frame, use `newframe = frame.copy()`\n",
            "  full_df[name] = s\n",
            "<ipython-input-18-65bc9051fcec>:20: PerformanceWarning: DataFrame is highly fragmented.  This is usually the result of calling `frame.insert` many times, which has poor performance.  Consider joining all columns at once using pd.concat(axis=1) instead. To get a de-fragmented frame, use `newframe = frame.copy()`\n",
            "  full_df[name] = s\n",
            "<ipython-input-18-65bc9051fcec>:20: PerformanceWarning: DataFrame is highly fragmented.  This is usually the result of calling `frame.insert` many times, which has poor performance.  Consider joining all columns at once using pd.concat(axis=1) instead. To get a de-fragmented frame, use `newframe = frame.copy()`\n",
            "  full_df[name] = s\n",
            "<ipython-input-18-65bc9051fcec>:20: PerformanceWarning: DataFrame is highly fragmented.  This is usually the result of calling `frame.insert` many times, which has poor performance.  Consider joining all columns at once using pd.concat(axis=1) instead. To get a de-fragmented frame, use `newframe = frame.copy()`\n",
            "  full_df[name] = s\n",
            "<ipython-input-18-65bc9051fcec>:20: PerformanceWarning: DataFrame is highly fragmented.  This is usually the result of calling `frame.insert` many times, which has poor performance.  Consider joining all columns at once using pd.concat(axis=1) instead. To get a de-fragmented frame, use `newframe = frame.copy()`\n",
            "  full_df[name] = s\n",
            "<ipython-input-18-65bc9051fcec>:20: PerformanceWarning: DataFrame is highly fragmented.  This is usually the result of calling `frame.insert` many times, which has poor performance.  Consider joining all columns at once using pd.concat(axis=1) instead. To get a de-fragmented frame, use `newframe = frame.copy()`\n",
            "  full_df[name] = s\n",
            "<ipython-input-18-65bc9051fcec>:20: PerformanceWarning: DataFrame is highly fragmented.  This is usually the result of calling `frame.insert` many times, which has poor performance.  Consider joining all columns at once using pd.concat(axis=1) instead. To get a de-fragmented frame, use `newframe = frame.copy()`\n",
            "  full_df[name] = s\n",
            "<ipython-input-18-65bc9051fcec>:20: PerformanceWarning: DataFrame is highly fragmented.  This is usually the result of calling `frame.insert` many times, which has poor performance.  Consider joining all columns at once using pd.concat(axis=1) instead. To get a de-fragmented frame, use `newframe = frame.copy()`\n",
            "  full_df[name] = s\n",
            "<ipython-input-18-65bc9051fcec>:20: PerformanceWarning: DataFrame is highly fragmented.  This is usually the result of calling `frame.insert` many times, which has poor performance.  Consider joining all columns at once using pd.concat(axis=1) instead. To get a de-fragmented frame, use `newframe = frame.copy()`\n",
            "  full_df[name] = s\n",
            "<ipython-input-18-65bc9051fcec>:20: PerformanceWarning: DataFrame is highly fragmented.  This is usually the result of calling `frame.insert` many times, which has poor performance.  Consider joining all columns at once using pd.concat(axis=1) instead. To get a de-fragmented frame, use `newframe = frame.copy()`\n",
            "  full_df[name] = s\n",
            "<ipython-input-18-65bc9051fcec>:20: PerformanceWarning: DataFrame is highly fragmented.  This is usually the result of calling `frame.insert` many times, which has poor performance.  Consider joining all columns at once using pd.concat(axis=1) instead. To get a de-fragmented frame, use `newframe = frame.copy()`\n",
            "  full_df[name] = s\n",
            "<ipython-input-18-65bc9051fcec>:20: PerformanceWarning: DataFrame is highly fragmented.  This is usually the result of calling `frame.insert` many times, which has poor performance.  Consider joining all columns at once using pd.concat(axis=1) instead. To get a de-fragmented frame, use `newframe = frame.copy()`\n",
            "  full_df[name] = s\n",
            "<ipython-input-18-65bc9051fcec>:20: PerformanceWarning: DataFrame is highly fragmented.  This is usually the result of calling `frame.insert` many times, which has poor performance.  Consider joining all columns at once using pd.concat(axis=1) instead. To get a de-fragmented frame, use `newframe = frame.copy()`\n",
            "  full_df[name] = s\n",
            "<ipython-input-18-65bc9051fcec>:20: PerformanceWarning: DataFrame is highly fragmented.  This is usually the result of calling `frame.insert` many times, which has poor performance.  Consider joining all columns at once using pd.concat(axis=1) instead. To get a de-fragmented frame, use `newframe = frame.copy()`\n",
            "  full_df[name] = s\n",
            "<ipython-input-18-65bc9051fcec>:20: PerformanceWarning: DataFrame is highly fragmented.  This is usually the result of calling `frame.insert` many times, which has poor performance.  Consider joining all columns at once using pd.concat(axis=1) instead. To get a de-fragmented frame, use `newframe = frame.copy()`\n",
            "  full_df[name] = s\n",
            "<ipython-input-18-65bc9051fcec>:20: PerformanceWarning: DataFrame is highly fragmented.  This is usually the result of calling `frame.insert` many times, which has poor performance.  Consider joining all columns at once using pd.concat(axis=1) instead. To get a de-fragmented frame, use `newframe = frame.copy()`\n",
            "  full_df[name] = s\n",
            "<ipython-input-18-65bc9051fcec>:20: PerformanceWarning: DataFrame is highly fragmented.  This is usually the result of calling `frame.insert` many times, which has poor performance.  Consider joining all columns at once using pd.concat(axis=1) instead. To get a de-fragmented frame, use `newframe = frame.copy()`\n",
            "  full_df[name] = s\n",
            "<ipython-input-18-65bc9051fcec>:20: PerformanceWarning: DataFrame is highly fragmented.  This is usually the result of calling `frame.insert` many times, which has poor performance.  Consider joining all columns at once using pd.concat(axis=1) instead. To get a de-fragmented frame, use `newframe = frame.copy()`\n",
            "  full_df[name] = s\n",
            "<ipython-input-18-65bc9051fcec>:20: PerformanceWarning: DataFrame is highly fragmented.  This is usually the result of calling `frame.insert` many times, which has poor performance.  Consider joining all columns at once using pd.concat(axis=1) instead. To get a de-fragmented frame, use `newframe = frame.copy()`\n",
            "  full_df[name] = s\n",
            "<ipython-input-18-65bc9051fcec>:20: PerformanceWarning: DataFrame is highly fragmented.  This is usually the result of calling `frame.insert` many times, which has poor performance.  Consider joining all columns at once using pd.concat(axis=1) instead. To get a de-fragmented frame, use `newframe = frame.copy()`\n",
            "  full_df[name] = s\n",
            "<ipython-input-18-65bc9051fcec>:20: PerformanceWarning: DataFrame is highly fragmented.  This is usually the result of calling `frame.insert` many times, which has poor performance.  Consider joining all columns at once using pd.concat(axis=1) instead. To get a de-fragmented frame, use `newframe = frame.copy()`\n",
            "  full_df[name] = s\n",
            "<ipython-input-18-65bc9051fcec>:20: PerformanceWarning: DataFrame is highly fragmented.  This is usually the result of calling `frame.insert` many times, which has poor performance.  Consider joining all columns at once using pd.concat(axis=1) instead. To get a de-fragmented frame, use `newframe = frame.copy()`\n",
            "  full_df[name] = s\n",
            "<ipython-input-18-65bc9051fcec>:20: PerformanceWarning: DataFrame is highly fragmented.  This is usually the result of calling `frame.insert` many times, which has poor performance.  Consider joining all columns at once using pd.concat(axis=1) instead. To get a de-fragmented frame, use `newframe = frame.copy()`\n",
            "  full_df[name] = s\n",
            "<ipython-input-18-65bc9051fcec>:20: PerformanceWarning: DataFrame is highly fragmented.  This is usually the result of calling `frame.insert` many times, which has poor performance.  Consider joining all columns at once using pd.concat(axis=1) instead. To get a de-fragmented frame, use `newframe = frame.copy()`\n",
            "  full_df[name] = s\n",
            "<ipython-input-18-65bc9051fcec>:20: PerformanceWarning: DataFrame is highly fragmented.  This is usually the result of calling `frame.insert` many times, which has poor performance.  Consider joining all columns at once using pd.concat(axis=1) instead. To get a de-fragmented frame, use `newframe = frame.copy()`\n",
            "  full_df[name] = s\n",
            "<ipython-input-18-65bc9051fcec>:20: PerformanceWarning: DataFrame is highly fragmented.  This is usually the result of calling `frame.insert` many times, which has poor performance.  Consider joining all columns at once using pd.concat(axis=1) instead. To get a de-fragmented frame, use `newframe = frame.copy()`\n",
            "  full_df[name] = s\n",
            "<ipython-input-18-65bc9051fcec>:20: PerformanceWarning: DataFrame is highly fragmented.  This is usually the result of calling `frame.insert` many times, which has poor performance.  Consider joining all columns at once using pd.concat(axis=1) instead. To get a de-fragmented frame, use `newframe = frame.copy()`\n",
            "  full_df[name] = s\n",
            "<ipython-input-18-65bc9051fcec>:20: PerformanceWarning: DataFrame is highly fragmented.  This is usually the result of calling `frame.insert` many times, which has poor performance.  Consider joining all columns at once using pd.concat(axis=1) instead. To get a de-fragmented frame, use `newframe = frame.copy()`\n",
            "  full_df[name] = s\n",
            "<ipython-input-18-65bc9051fcec>:20: PerformanceWarning: DataFrame is highly fragmented.  This is usually the result of calling `frame.insert` many times, which has poor performance.  Consider joining all columns at once using pd.concat(axis=1) instead. To get a de-fragmented frame, use `newframe = frame.copy()`\n",
            "  full_df[name] = s\n",
            "<ipython-input-18-65bc9051fcec>:20: PerformanceWarning: DataFrame is highly fragmented.  This is usually the result of calling `frame.insert` many times, which has poor performance.  Consider joining all columns at once using pd.concat(axis=1) instead. To get a de-fragmented frame, use `newframe = frame.copy()`\n",
            "  full_df[name] = s\n",
            "<ipython-input-18-65bc9051fcec>:20: PerformanceWarning: DataFrame is highly fragmented.  This is usually the result of calling `frame.insert` many times, which has poor performance.  Consider joining all columns at once using pd.concat(axis=1) instead. To get a de-fragmented frame, use `newframe = frame.copy()`\n",
            "  full_df[name] = s\n",
            "<ipython-input-18-65bc9051fcec>:20: PerformanceWarning: DataFrame is highly fragmented.  This is usually the result of calling `frame.insert` many times, which has poor performance.  Consider joining all columns at once using pd.concat(axis=1) instead. To get a de-fragmented frame, use `newframe = frame.copy()`\n",
            "  full_df[name] = s\n",
            "<ipython-input-18-65bc9051fcec>:20: PerformanceWarning: DataFrame is highly fragmented.  This is usually the result of calling `frame.insert` many times, which has poor performance.  Consider joining all columns at once using pd.concat(axis=1) instead. To get a de-fragmented frame, use `newframe = frame.copy()`\n",
            "  full_df[name] = s\n",
            "<ipython-input-18-65bc9051fcec>:20: PerformanceWarning: DataFrame is highly fragmented.  This is usually the result of calling `frame.insert` many times, which has poor performance.  Consider joining all columns at once using pd.concat(axis=1) instead. To get a de-fragmented frame, use `newframe = frame.copy()`\n",
            "  full_df[name] = s\n",
            "<ipython-input-18-65bc9051fcec>:20: PerformanceWarning: DataFrame is highly fragmented.  This is usually the result of calling `frame.insert` many times, which has poor performance.  Consider joining all columns at once using pd.concat(axis=1) instead. To get a de-fragmented frame, use `newframe = frame.copy()`\n",
            "  full_df[name] = s\n",
            "<ipython-input-18-65bc9051fcec>:20: PerformanceWarning: DataFrame is highly fragmented.  This is usually the result of calling `frame.insert` many times, which has poor performance.  Consider joining all columns at once using pd.concat(axis=1) instead. To get a de-fragmented frame, use `newframe = frame.copy()`\n",
            "  full_df[name] = s\n",
            "<ipython-input-18-65bc9051fcec>:20: PerformanceWarning: DataFrame is highly fragmented.  This is usually the result of calling `frame.insert` many times, which has poor performance.  Consider joining all columns at once using pd.concat(axis=1) instead. To get a de-fragmented frame, use `newframe = frame.copy()`\n",
            "  full_df[name] = s\n",
            "<ipython-input-18-65bc9051fcec>:20: PerformanceWarning: DataFrame is highly fragmented.  This is usually the result of calling `frame.insert` many times, which has poor performance.  Consider joining all columns at once using pd.concat(axis=1) instead. To get a de-fragmented frame, use `newframe = frame.copy()`\n",
            "  full_df[name] = s\n",
            "<ipython-input-18-65bc9051fcec>:20: PerformanceWarning: DataFrame is highly fragmented.  This is usually the result of calling `frame.insert` many times, which has poor performance.  Consider joining all columns at once using pd.concat(axis=1) instead. To get a de-fragmented frame, use `newframe = frame.copy()`\n",
            "  full_df[name] = s\n",
            "<ipython-input-18-65bc9051fcec>:20: PerformanceWarning: DataFrame is highly fragmented.  This is usually the result of calling `frame.insert` many times, which has poor performance.  Consider joining all columns at once using pd.concat(axis=1) instead. To get a de-fragmented frame, use `newframe = frame.copy()`\n",
            "  full_df[name] = s\n",
            "<ipython-input-18-65bc9051fcec>:20: PerformanceWarning: DataFrame is highly fragmented.  This is usually the result of calling `frame.insert` many times, which has poor performance.  Consider joining all columns at once using pd.concat(axis=1) instead. To get a de-fragmented frame, use `newframe = frame.copy()`\n",
            "  full_df[name] = s\n",
            "<ipython-input-18-65bc9051fcec>:20: PerformanceWarning: DataFrame is highly fragmented.  This is usually the result of calling `frame.insert` many times, which has poor performance.  Consider joining all columns at once using pd.concat(axis=1) instead. To get a de-fragmented frame, use `newframe = frame.copy()`\n",
            "  full_df[name] = s\n",
            "<ipython-input-18-65bc9051fcec>:20: PerformanceWarning: DataFrame is highly fragmented.  This is usually the result of calling `frame.insert` many times, which has poor performance.  Consider joining all columns at once using pd.concat(axis=1) instead. To get a de-fragmented frame, use `newframe = frame.copy()`\n",
            "  full_df[name] = s\n",
            "<ipython-input-18-65bc9051fcec>:20: PerformanceWarning: DataFrame is highly fragmented.  This is usually the result of calling `frame.insert` many times, which has poor performance.  Consider joining all columns at once using pd.concat(axis=1) instead. To get a de-fragmented frame, use `newframe = frame.copy()`\n",
            "  full_df[name] = s\n",
            "<ipython-input-18-65bc9051fcec>:20: PerformanceWarning: DataFrame is highly fragmented.  This is usually the result of calling `frame.insert` many times, which has poor performance.  Consider joining all columns at once using pd.concat(axis=1) instead. To get a de-fragmented frame, use `newframe = frame.copy()`\n",
            "  full_df[name] = s\n",
            "<ipython-input-18-65bc9051fcec>:20: PerformanceWarning: DataFrame is highly fragmented.  This is usually the result of calling `frame.insert` many times, which has poor performance.  Consider joining all columns at once using pd.concat(axis=1) instead. To get a de-fragmented frame, use `newframe = frame.copy()`\n",
            "  full_df[name] = s\n",
            "<ipython-input-18-65bc9051fcec>:20: PerformanceWarning: DataFrame is highly fragmented.  This is usually the result of calling `frame.insert` many times, which has poor performance.  Consider joining all columns at once using pd.concat(axis=1) instead. To get a de-fragmented frame, use `newframe = frame.copy()`\n",
            "  full_df[name] = s\n",
            "<ipython-input-18-65bc9051fcec>:20: PerformanceWarning: DataFrame is highly fragmented.  This is usually the result of calling `frame.insert` many times, which has poor performance.  Consider joining all columns at once using pd.concat(axis=1) instead. To get a de-fragmented frame, use `newframe = frame.copy()`\n",
            "  full_df[name] = s\n",
            "<ipython-input-18-65bc9051fcec>:20: PerformanceWarning: DataFrame is highly fragmented.  This is usually the result of calling `frame.insert` many times, which has poor performance.  Consider joining all columns at once using pd.concat(axis=1) instead. To get a de-fragmented frame, use `newframe = frame.copy()`\n",
            "  full_df[name] = s\n",
            "<ipython-input-18-65bc9051fcec>:20: PerformanceWarning: DataFrame is highly fragmented.  This is usually the result of calling `frame.insert` many times, which has poor performance.  Consider joining all columns at once using pd.concat(axis=1) instead. To get a de-fragmented frame, use `newframe = frame.copy()`\n",
            "  full_df[name] = s\n",
            "<ipython-input-18-65bc9051fcec>:20: PerformanceWarning: DataFrame is highly fragmented.  This is usually the result of calling `frame.insert` many times, which has poor performance.  Consider joining all columns at once using pd.concat(axis=1) instead. To get a de-fragmented frame, use `newframe = frame.copy()`\n",
            "  full_df[name] = s\n",
            "<ipython-input-18-65bc9051fcec>:20: PerformanceWarning: DataFrame is highly fragmented.  This is usually the result of calling `frame.insert` many times, which has poor performance.  Consider joining all columns at once using pd.concat(axis=1) instead. To get a de-fragmented frame, use `newframe = frame.copy()`\n",
            "  full_df[name] = s\n",
            "<ipython-input-18-65bc9051fcec>:20: PerformanceWarning: DataFrame is highly fragmented.  This is usually the result of calling `frame.insert` many times, which has poor performance.  Consider joining all columns at once using pd.concat(axis=1) instead. To get a de-fragmented frame, use `newframe = frame.copy()`\n",
            "  full_df[name] = s\n",
            "<ipython-input-18-65bc9051fcec>:20: PerformanceWarning: DataFrame is highly fragmented.  This is usually the result of calling `frame.insert` many times, which has poor performance.  Consider joining all columns at once using pd.concat(axis=1) instead. To get a de-fragmented frame, use `newframe = frame.copy()`\n",
            "  full_df[name] = s\n",
            "<ipython-input-18-65bc9051fcec>:20: PerformanceWarning: DataFrame is highly fragmented.  This is usually the result of calling `frame.insert` many times, which has poor performance.  Consider joining all columns at once using pd.concat(axis=1) instead. To get a de-fragmented frame, use `newframe = frame.copy()`\n",
            "  full_df[name] = s\n",
            "<ipython-input-18-65bc9051fcec>:20: PerformanceWarning: DataFrame is highly fragmented.  This is usually the result of calling `frame.insert` many times, which has poor performance.  Consider joining all columns at once using pd.concat(axis=1) instead. To get a de-fragmented frame, use `newframe = frame.copy()`\n",
            "  full_df[name] = s\n",
            "<ipython-input-18-65bc9051fcec>:20: PerformanceWarning: DataFrame is highly fragmented.  This is usually the result of calling `frame.insert` many times, which has poor performance.  Consider joining all columns at once using pd.concat(axis=1) instead. To get a de-fragmented frame, use `newframe = frame.copy()`\n",
            "  full_df[name] = s\n",
            "<ipython-input-18-65bc9051fcec>:20: PerformanceWarning: DataFrame is highly fragmented.  This is usually the result of calling `frame.insert` many times, which has poor performance.  Consider joining all columns at once using pd.concat(axis=1) instead. To get a de-fragmented frame, use `newframe = frame.copy()`\n",
            "  full_df[name] = s\n",
            "<ipython-input-18-65bc9051fcec>:20: PerformanceWarning: DataFrame is highly fragmented.  This is usually the result of calling `frame.insert` many times, which has poor performance.  Consider joining all columns at once using pd.concat(axis=1) instead. To get a de-fragmented frame, use `newframe = frame.copy()`\n",
            "  full_df[name] = s\n",
            "<ipython-input-18-65bc9051fcec>:20: PerformanceWarning: DataFrame is highly fragmented.  This is usually the result of calling `frame.insert` many times, which has poor performance.  Consider joining all columns at once using pd.concat(axis=1) instead. To get a de-fragmented frame, use `newframe = frame.copy()`\n",
            "  full_df[name] = s\n",
            "<ipython-input-18-65bc9051fcec>:20: PerformanceWarning: DataFrame is highly fragmented.  This is usually the result of calling `frame.insert` many times, which has poor performance.  Consider joining all columns at once using pd.concat(axis=1) instead. To get a de-fragmented frame, use `newframe = frame.copy()`\n",
            "  full_df[name] = s\n",
            "<ipython-input-18-65bc9051fcec>:20: PerformanceWarning: DataFrame is highly fragmented.  This is usually the result of calling `frame.insert` many times, which has poor performance.  Consider joining all columns at once using pd.concat(axis=1) instead. To get a de-fragmented frame, use `newframe = frame.copy()`\n",
            "  full_df[name] = s\n",
            "<ipython-input-18-65bc9051fcec>:20: PerformanceWarning: DataFrame is highly fragmented.  This is usually the result of calling `frame.insert` many times, which has poor performance.  Consider joining all columns at once using pd.concat(axis=1) instead. To get a de-fragmented frame, use `newframe = frame.copy()`\n",
            "  full_df[name] = s\n",
            "<ipython-input-18-65bc9051fcec>:20: PerformanceWarning: DataFrame is highly fragmented.  This is usually the result of calling `frame.insert` many times, which has poor performance.  Consider joining all columns at once using pd.concat(axis=1) instead. To get a de-fragmented frame, use `newframe = frame.copy()`\n",
            "  full_df[name] = s\n",
            "<ipython-input-18-65bc9051fcec>:20: PerformanceWarning: DataFrame is highly fragmented.  This is usually the result of calling `frame.insert` many times, which has poor performance.  Consider joining all columns at once using pd.concat(axis=1) instead. To get a de-fragmented frame, use `newframe = frame.copy()`\n",
            "  full_df[name] = s\n",
            "<ipython-input-18-65bc9051fcec>:20: PerformanceWarning: DataFrame is highly fragmented.  This is usually the result of calling `frame.insert` many times, which has poor performance.  Consider joining all columns at once using pd.concat(axis=1) instead. To get a de-fragmented frame, use `newframe = frame.copy()`\n",
            "  full_df[name] = s\n",
            "<ipython-input-18-65bc9051fcec>:20: PerformanceWarning: DataFrame is highly fragmented.  This is usually the result of calling `frame.insert` many times, which has poor performance.  Consider joining all columns at once using pd.concat(axis=1) instead. To get a de-fragmented frame, use `newframe = frame.copy()`\n",
            "  full_df[name] = s\n",
            "<ipython-input-18-65bc9051fcec>:20: PerformanceWarning: DataFrame is highly fragmented.  This is usually the result of calling `frame.insert` many times, which has poor performance.  Consider joining all columns at once using pd.concat(axis=1) instead. To get a de-fragmented frame, use `newframe = frame.copy()`\n",
            "  full_df[name] = s\n",
            "<ipython-input-18-65bc9051fcec>:20: PerformanceWarning: DataFrame is highly fragmented.  This is usually the result of calling `frame.insert` many times, which has poor performance.  Consider joining all columns at once using pd.concat(axis=1) instead. To get a de-fragmented frame, use `newframe = frame.copy()`\n",
            "  full_df[name] = s\n"
          ]
        }
      ],
      "source": [
        "import numpy as np\n",
        "\n",
        "names = full_df.columns[full_df.columns.duplicated()].unique()\n",
        "new_cols = {}\n",
        "\n",
        "for name in names:\n",
        "    cols_i = [col for col in full_df.columns if col == name]\n",
        "    sub_df = full_df.loc[:, cols_i].astype('int8')   # DataFrame shape (n_rows, k)\n",
        "\n",
        "    # берём максимум по строкам → Series shape (n_rows,)\n",
        "    max_series = sub_df.max(axis=1).astype('int8')\n",
        "\n",
        "    new_cols[name] = max_series\n",
        "\n",
        "    # удаляем *все* старые колонки с этим именем\n",
        "    full_df.drop(columns=cols_i, inplace=True)\n",
        "\n",
        "# теперь присваиваем новые колонки–Series (они одномерны!)\n",
        "for name, s in new_cols.items():\n",
        "    full_df[name] = s\n"
      ]
    },
    {
      "cell_type": "code",
      "execution_count": null,
      "metadata": {
        "colab": {
          "base_uri": "https://localhost:8080/",
          "height": 534
        },
        "id": "GRbt1FsY7fzD",
        "outputId": "92d89266-884e-4cf3-b29e-692dad2c8abb"
      },
      "outputs": [
        {
          "data": {
            "application/vnd.google.colaboratory.intrinsic+json": {
              "type": "dataframe"
            },
            "text/html": [
              "\n",
              "  <div id=\"df-d469fce8-c301-4ce1-8e4f-bc9da479509a\" class=\"colab-df-container\">\n",
              "    <div>\n",
              "<style scoped>\n",
              "    .dataframe tbody tr th:only-of-type {\n",
              "        vertical-align: middle;\n",
              "    }\n",
              "\n",
              "    .dataframe tbody tr th {\n",
              "        vertical-align: top;\n",
              "    }\n",
              "\n",
              "    .dataframe thead th {\n",
              "        text-align: right;\n",
              "    }\n",
              "</style>\n",
              "<table border=\"1\" class=\"dataframe\">\n",
              "  <thead>\n",
              "    <tr style=\"text-align: right;\">\n",
              "      <th></th>\n",
              "      <th>production_year</th>\n",
              "      <th>mileage</th>\n",
              "      <th>condition</th>\n",
              "      <th>owners_number</th>\n",
              "      <th>accidents_resolution</th>\n",
              "      <th>region</th>\n",
              "      <th>seller_type</th>\n",
              "      <th>brand</th>\n",
              "      <th>model</th>\n",
              "      <th>body_type</th>\n",
              "      <th>...</th>\n",
              "      <th>reduce-spare-wheel</th>\n",
              "      <th>multizone-climate-control</th>\n",
              "      <th>isofix-front</th>\n",
              "      <th>roof-rails</th>\n",
              "      <th>19-inch-wheels</th>\n",
              "      <th>voice-recognition</th>\n",
              "      <th>asr</th>\n",
              "      <th>collision-prevention-assist</th>\n",
              "      <th>heated-wash-system</th>\n",
              "      <th>volume-sensor</th>\n",
              "    </tr>\n",
              "  </thead>\n",
              "  <tbody>\n",
              "    <tr>\n",
              "      <th>436947</th>\n",
              "      <td>2024</td>\n",
              "      <td>0</td>\n",
              "      <td>CONDITION_OK</td>\n",
              "      <td>0</td>\n",
              "      <td>OK</td>\n",
              "      <td>Санкт-Петербург</td>\n",
              "      <td>COMMERCIAL</td>\n",
              "      <td>Skoda</td>\n",
              "      <td>Karoq</td>\n",
              "      <td>ALLROAD_5_DOORS</td>\n",
              "      <td>...</td>\n",
              "      <td>0</td>\n",
              "      <td>0</td>\n",
              "      <td>0</td>\n",
              "      <td>1</td>\n",
              "      <td>0</td>\n",
              "      <td>0</td>\n",
              "      <td>0</td>\n",
              "      <td>0</td>\n",
              "      <td>0</td>\n",
              "      <td>0</td>\n",
              "    </tr>\n",
              "    <tr>\n",
              "      <th>329729</th>\n",
              "      <td>2020</td>\n",
              "      <td>40460</td>\n",
              "      <td>CONDITION_OK</td>\n",
              "      <td>1</td>\n",
              "      <td>ERROR</td>\n",
              "      <td>Москва</td>\n",
              "      <td>PRIVATE</td>\n",
              "      <td>Mercedes-Benz</td>\n",
              "      <td>E-Класс</td>\n",
              "      <td>COUPE_HARDTOP</td>\n",
              "      <td>...</td>\n",
              "      <td>0</td>\n",
              "      <td>0</td>\n",
              "      <td>0</td>\n",
              "      <td>0</td>\n",
              "      <td>0</td>\n",
              "      <td>0</td>\n",
              "      <td>0</td>\n",
              "      <td>0</td>\n",
              "      <td>1</td>\n",
              "      <td>1</td>\n",
              "    </tr>\n",
              "    <tr>\n",
              "      <th>343497</th>\n",
              "      <td>2000</td>\n",
              "      <td>380000</td>\n",
              "      <td>CONDITION_OK</td>\n",
              "      <td>4</td>\n",
              "      <td>OK</td>\n",
              "      <td>Москва</td>\n",
              "      <td>PRIVATE</td>\n",
              "      <td>Mercedes-Benz</td>\n",
              "      <td>M-Класс</td>\n",
              "      <td>ALLROAD_5_DOORS</td>\n",
              "      <td>...</td>\n",
              "      <td>0</td>\n",
              "      <td>0</td>\n",
              "      <td>0</td>\n",
              "      <td>0</td>\n",
              "      <td>0</td>\n",
              "      <td>0</td>\n",
              "      <td>0</td>\n",
              "      <td>0</td>\n",
              "      <td>0</td>\n",
              "      <td>0</td>\n",
              "    </tr>\n",
              "    <tr>\n",
              "      <th>439784</th>\n",
              "      <td>2019</td>\n",
              "      <td>170000</td>\n",
              "      <td>CONDITION_OK</td>\n",
              "      <td>1</td>\n",
              "      <td>ERROR</td>\n",
              "      <td>Москва</td>\n",
              "      <td>PRIVATE</td>\n",
              "      <td>Skoda</td>\n",
              "      <td>Octavia</td>\n",
              "      <td>LIFTBACK</td>\n",
              "      <td>...</td>\n",
              "      <td>0</td>\n",
              "      <td>0</td>\n",
              "      <td>0</td>\n",
              "      <td>0</td>\n",
              "      <td>0</td>\n",
              "      <td>1</td>\n",
              "      <td>0</td>\n",
              "      <td>0</td>\n",
              "      <td>0</td>\n",
              "      <td>1</td>\n",
              "    </tr>\n",
              "    <tr>\n",
              "      <th>550845</th>\n",
              "      <td>2023</td>\n",
              "      <td>107</td>\n",
              "      <td>CONDITION_OK</td>\n",
              "      <td>1</td>\n",
              "      <td>OK</td>\n",
              "      <td>Краснодар</td>\n",
              "      <td>PRIVATE</td>\n",
              "      <td>Lada (ВАЗ)</td>\n",
              "      <td>Largus</td>\n",
              "      <td>WAGON_5_DOORS</td>\n",
              "      <td>...</td>\n",
              "      <td>0</td>\n",
              "      <td>0</td>\n",
              "      <td>0</td>\n",
              "      <td>1</td>\n",
              "      <td>0</td>\n",
              "      <td>0</td>\n",
              "      <td>0</td>\n",
              "      <td>0</td>\n",
              "      <td>0</td>\n",
              "      <td>0</td>\n",
              "    </tr>\n",
              "    <tr>\n",
              "      <th>431808</th>\n",
              "      <td>2015</td>\n",
              "      <td>110727</td>\n",
              "      <td>CONDITION_OK</td>\n",
              "      <td>1</td>\n",
              "      <td>OK</td>\n",
              "      <td>Уфа</td>\n",
              "      <td>COMMERCIAL</td>\n",
              "      <td>Renault</td>\n",
              "      <td>Sandero</td>\n",
              "      <td>HATCHBACK_5_DOORS</td>\n",
              "      <td>...</td>\n",
              "      <td>0</td>\n",
              "      <td>0</td>\n",
              "      <td>0</td>\n",
              "      <td>1</td>\n",
              "      <td>0</td>\n",
              "      <td>0</td>\n",
              "      <td>0</td>\n",
              "      <td>0</td>\n",
              "      <td>0</td>\n",
              "      <td>0</td>\n",
              "    </tr>\n",
              "    <tr>\n",
              "      <th>167063</th>\n",
              "      <td>2024</td>\n",
              "      <td>0</td>\n",
              "      <td>CONDITION_OK</td>\n",
              "      <td>0</td>\n",
              "      <td>OK</td>\n",
              "      <td>Химки</td>\n",
              "      <td>COMMERCIAL</td>\n",
              "      <td>Genesis</td>\n",
              "      <td>GV80 Coupe</td>\n",
              "      <td>ALLROAD_5_DOORS</td>\n",
              "      <td>...</td>\n",
              "      <td>0</td>\n",
              "      <td>1</td>\n",
              "      <td>0</td>\n",
              "      <td>1</td>\n",
              "      <td>0</td>\n",
              "      <td>0</td>\n",
              "      <td>1</td>\n",
              "      <td>1</td>\n",
              "      <td>0</td>\n",
              "      <td>0</td>\n",
              "    </tr>\n",
              "    <tr>\n",
              "      <th>391523</th>\n",
              "      <td>2022</td>\n",
              "      <td>13000</td>\n",
              "      <td>CONDITION_OK</td>\n",
              "      <td>0</td>\n",
              "      <td>OK</td>\n",
              "      <td>Владивосток</td>\n",
              "      <td>COMMERCIAL</td>\n",
              "      <td>Nissan</td>\n",
              "      <td>X-Trail</td>\n",
              "      <td>ALLROAD_5_DOORS</td>\n",
              "      <td>...</td>\n",
              "      <td>0</td>\n",
              "      <td>0</td>\n",
              "      <td>0</td>\n",
              "      <td>0</td>\n",
              "      <td>0</td>\n",
              "      <td>0</td>\n",
              "      <td>0</td>\n",
              "      <td>0</td>\n",
              "      <td>0</td>\n",
              "      <td>0</td>\n",
              "    </tr>\n",
              "    <tr>\n",
              "      <th>210052</th>\n",
              "      <td>2024</td>\n",
              "      <td>100</td>\n",
              "      <td>CONDITION_OK</td>\n",
              "      <td>1</td>\n",
              "      <td>OK</td>\n",
              "      <td>Новосибирск</td>\n",
              "      <td>PRIVATE</td>\n",
              "      <td>Hyundai</td>\n",
              "      <td>Elantra</td>\n",
              "      <td>SEDAN</td>\n",
              "      <td>...</td>\n",
              "      <td>0</td>\n",
              "      <td>0</td>\n",
              "      <td>0</td>\n",
              "      <td>0</td>\n",
              "      <td>0</td>\n",
              "      <td>0</td>\n",
              "      <td>0</td>\n",
              "      <td>0</td>\n",
              "      <td>0</td>\n",
              "      <td>0</td>\n",
              "    </tr>\n",
              "    <tr>\n",
              "      <th>46816</th>\n",
              "      <td>2024</td>\n",
              "      <td>34</td>\n",
              "      <td>CONDITION_OK</td>\n",
              "      <td>1</td>\n",
              "      <td>OK</td>\n",
              "      <td>Москва</td>\n",
              "      <td>COMMERCIAL</td>\n",
              "      <td>BMW</td>\n",
              "      <td>X5</td>\n",
              "      <td>ALLROAD_5_DOORS</td>\n",
              "      <td>...</td>\n",
              "      <td>0</td>\n",
              "      <td>0</td>\n",
              "      <td>0</td>\n",
              "      <td>0</td>\n",
              "      <td>0</td>\n",
              "      <td>0</td>\n",
              "      <td>0</td>\n",
              "      <td>0</td>\n",
              "      <td>0</td>\n",
              "      <td>0</td>\n",
              "    </tr>\n",
              "  </tbody>\n",
              "</table>\n",
              "<p>10 rows × 416 columns</p>\n",
              "</div>\n",
              "    <div class=\"colab-df-buttons\">\n",
              "\n",
              "  <div class=\"colab-df-container\">\n",
              "    <button class=\"colab-df-convert\" onclick=\"convertToInteractive('df-d469fce8-c301-4ce1-8e4f-bc9da479509a')\"\n",
              "            title=\"Convert this dataframe to an interactive table.\"\n",
              "            style=\"display:none;\">\n",
              "\n",
              "  <svg xmlns=\"http://www.w3.org/2000/svg\" height=\"24px\" viewBox=\"0 -960 960 960\">\n",
              "    <path d=\"M120-120v-720h720v720H120Zm60-500h600v-160H180v160Zm220 220h160v-160H400v160Zm0 220h160v-160H400v160ZM180-400h160v-160H180v160Zm440 0h160v-160H620v160ZM180-180h160v-160H180v160Zm440 0h160v-160H620v160Z\"/>\n",
              "  </svg>\n",
              "    </button>\n",
              "\n",
              "  <style>\n",
              "    .colab-df-container {\n",
              "      display:flex;\n",
              "      gap: 12px;\n",
              "    }\n",
              "\n",
              "    .colab-df-convert {\n",
              "      background-color: #E8F0FE;\n",
              "      border: none;\n",
              "      border-radius: 50%;\n",
              "      cursor: pointer;\n",
              "      display: none;\n",
              "      fill: #1967D2;\n",
              "      height: 32px;\n",
              "      padding: 0 0 0 0;\n",
              "      width: 32px;\n",
              "    }\n",
              "\n",
              "    .colab-df-convert:hover {\n",
              "      background-color: #E2EBFA;\n",
              "      box-shadow: 0px 1px 2px rgba(60, 64, 67, 0.3), 0px 1px 3px 1px rgba(60, 64, 67, 0.15);\n",
              "      fill: #174EA6;\n",
              "    }\n",
              "\n",
              "    .colab-df-buttons div {\n",
              "      margin-bottom: 4px;\n",
              "    }\n",
              "\n",
              "    [theme=dark] .colab-df-convert {\n",
              "      background-color: #3B4455;\n",
              "      fill: #D2E3FC;\n",
              "    }\n",
              "\n",
              "    [theme=dark] .colab-df-convert:hover {\n",
              "      background-color: #434B5C;\n",
              "      box-shadow: 0px 1px 3px 1px rgba(0, 0, 0, 0.15);\n",
              "      filter: drop-shadow(0px 1px 2px rgba(0, 0, 0, 0.3));\n",
              "      fill: #FFFFFF;\n",
              "    }\n",
              "  </style>\n",
              "\n",
              "    <script>\n",
              "      const buttonEl =\n",
              "        document.querySelector('#df-d469fce8-c301-4ce1-8e4f-bc9da479509a button.colab-df-convert');\n",
              "      buttonEl.style.display =\n",
              "        google.colab.kernel.accessAllowed ? 'block' : 'none';\n",
              "\n",
              "      async function convertToInteractive(key) {\n",
              "        const element = document.querySelector('#df-d469fce8-c301-4ce1-8e4f-bc9da479509a');\n",
              "        const dataTable =\n",
              "          await google.colab.kernel.invokeFunction('convertToInteractive',\n",
              "                                                    [key], {});\n",
              "        if (!dataTable) return;\n",
              "\n",
              "        const docLinkHtml = 'Like what you see? Visit the ' +\n",
              "          '<a target=\"_blank\" href=https://colab.research.google.com/notebooks/data_table.ipynb>data table notebook</a>'\n",
              "          + ' to learn more about interactive tables.';\n",
              "        element.innerHTML = '';\n",
              "        dataTable['output_type'] = 'display_data';\n",
              "        await google.colab.output.renderOutput(dataTable, element);\n",
              "        const docLink = document.createElement('div');\n",
              "        docLink.innerHTML = docLinkHtml;\n",
              "        element.appendChild(docLink);\n",
              "      }\n",
              "    </script>\n",
              "  </div>\n",
              "\n",
              "\n",
              "    <div id=\"df-cbfff9fd-5ca2-47a6-b217-c70af8a51989\">\n",
              "      <button class=\"colab-df-quickchart\" onclick=\"quickchart('df-cbfff9fd-5ca2-47a6-b217-c70af8a51989')\"\n",
              "                title=\"Suggest charts\"\n",
              "                style=\"display:none;\">\n",
              "\n",
              "<svg xmlns=\"http://www.w3.org/2000/svg\" height=\"24px\"viewBox=\"0 0 24 24\"\n",
              "     width=\"24px\">\n",
              "    <g>\n",
              "        <path d=\"M19 3H5c-1.1 0-2 .9-2 2v14c0 1.1.9 2 2 2h14c1.1 0 2-.9 2-2V5c0-1.1-.9-2-2-2zM9 17H7v-7h2v7zm4 0h-2V7h2v10zm4 0h-2v-4h2v4z\"/>\n",
              "    </g>\n",
              "</svg>\n",
              "      </button>\n",
              "\n",
              "<style>\n",
              "  .colab-df-quickchart {\n",
              "      --bg-color: #E8F0FE;\n",
              "      --fill-color: #1967D2;\n",
              "      --hover-bg-color: #E2EBFA;\n",
              "      --hover-fill-color: #174EA6;\n",
              "      --disabled-fill-color: #AAA;\n",
              "      --disabled-bg-color: #DDD;\n",
              "  }\n",
              "\n",
              "  [theme=dark] .colab-df-quickchart {\n",
              "      --bg-color: #3B4455;\n",
              "      --fill-color: #D2E3FC;\n",
              "      --hover-bg-color: #434B5C;\n",
              "      --hover-fill-color: #FFFFFF;\n",
              "      --disabled-bg-color: #3B4455;\n",
              "      --disabled-fill-color: #666;\n",
              "  }\n",
              "\n",
              "  .colab-df-quickchart {\n",
              "    background-color: var(--bg-color);\n",
              "    border: none;\n",
              "    border-radius: 50%;\n",
              "    cursor: pointer;\n",
              "    display: none;\n",
              "    fill: var(--fill-color);\n",
              "    height: 32px;\n",
              "    padding: 0;\n",
              "    width: 32px;\n",
              "  }\n",
              "\n",
              "  .colab-df-quickchart:hover {\n",
              "    background-color: var(--hover-bg-color);\n",
              "    box-shadow: 0 1px 2px rgba(60, 64, 67, 0.3), 0 1px 3px 1px rgba(60, 64, 67, 0.15);\n",
              "    fill: var(--button-hover-fill-color);\n",
              "  }\n",
              "\n",
              "  .colab-df-quickchart-complete:disabled,\n",
              "  .colab-df-quickchart-complete:disabled:hover {\n",
              "    background-color: var(--disabled-bg-color);\n",
              "    fill: var(--disabled-fill-color);\n",
              "    box-shadow: none;\n",
              "  }\n",
              "\n",
              "  .colab-df-spinner {\n",
              "    border: 2px solid var(--fill-color);\n",
              "    border-color: transparent;\n",
              "    border-bottom-color: var(--fill-color);\n",
              "    animation:\n",
              "      spin 1s steps(1) infinite;\n",
              "  }\n",
              "\n",
              "  @keyframes spin {\n",
              "    0% {\n",
              "      border-color: transparent;\n",
              "      border-bottom-color: var(--fill-color);\n",
              "      border-left-color: var(--fill-color);\n",
              "    }\n",
              "    20% {\n",
              "      border-color: transparent;\n",
              "      border-left-color: var(--fill-color);\n",
              "      border-top-color: var(--fill-color);\n",
              "    }\n",
              "    30% {\n",
              "      border-color: transparent;\n",
              "      border-left-color: var(--fill-color);\n",
              "      border-top-color: var(--fill-color);\n",
              "      border-right-color: var(--fill-color);\n",
              "    }\n",
              "    40% {\n",
              "      border-color: transparent;\n",
              "      border-right-color: var(--fill-color);\n",
              "      border-top-color: var(--fill-color);\n",
              "    }\n",
              "    60% {\n",
              "      border-color: transparent;\n",
              "      border-right-color: var(--fill-color);\n",
              "    }\n",
              "    80% {\n",
              "      border-color: transparent;\n",
              "      border-right-color: var(--fill-color);\n",
              "      border-bottom-color: var(--fill-color);\n",
              "    }\n",
              "    90% {\n",
              "      border-color: transparent;\n",
              "      border-bottom-color: var(--fill-color);\n",
              "    }\n",
              "  }\n",
              "</style>\n",
              "\n",
              "      <script>\n",
              "        async function quickchart(key) {\n",
              "          const quickchartButtonEl =\n",
              "            document.querySelector('#' + key + ' button');\n",
              "          quickchartButtonEl.disabled = true;  // To prevent multiple clicks.\n",
              "          quickchartButtonEl.classList.add('colab-df-spinner');\n",
              "          try {\n",
              "            const charts = await google.colab.kernel.invokeFunction(\n",
              "                'suggestCharts', [key], {});\n",
              "          } catch (error) {\n",
              "            console.error('Error during call to suggestCharts:', error);\n",
              "          }\n",
              "          quickchartButtonEl.classList.remove('colab-df-spinner');\n",
              "          quickchartButtonEl.classList.add('colab-df-quickchart-complete');\n",
              "        }\n",
              "        (() => {\n",
              "          let quickchartButtonEl =\n",
              "            document.querySelector('#df-cbfff9fd-5ca2-47a6-b217-c70af8a51989 button');\n",
              "          quickchartButtonEl.style.display =\n",
              "            google.colab.kernel.accessAllowed ? 'block' : 'none';\n",
              "        })();\n",
              "      </script>\n",
              "    </div>\n",
              "\n",
              "    </div>\n",
              "  </div>\n"
            ],
            "text/plain": [
              "        production_year  mileage     condition  owners_number  \\\n",
              "436947             2024        0  CONDITION_OK              0   \n",
              "329729             2020    40460  CONDITION_OK              1   \n",
              "343497             2000   380000  CONDITION_OK              4   \n",
              "439784             2019   170000  CONDITION_OK              1   \n",
              "550845             2023      107  CONDITION_OK              1   \n",
              "431808             2015   110727  CONDITION_OK              1   \n",
              "167063             2024        0  CONDITION_OK              0   \n",
              "391523             2022    13000  CONDITION_OK              0   \n",
              "210052             2024      100  CONDITION_OK              1   \n",
              "46816              2024       34  CONDITION_OK              1   \n",
              "\n",
              "       accidents_resolution           region seller_type          brand  \\\n",
              "436947                   OK  Санкт-Петербург  COMMERCIAL          Skoda   \n",
              "329729                ERROR           Москва     PRIVATE  Mercedes-Benz   \n",
              "343497                   OK           Москва     PRIVATE  Mercedes-Benz   \n",
              "439784                ERROR           Москва     PRIVATE          Skoda   \n",
              "550845                   OK        Краснодар     PRIVATE     Lada (ВАЗ)   \n",
              "431808                   OK              Уфа  COMMERCIAL        Renault   \n",
              "167063                   OK            Химки  COMMERCIAL        Genesis   \n",
              "391523                   OK      Владивосток  COMMERCIAL         Nissan   \n",
              "210052                   OK      Новосибирск     PRIVATE        Hyundai   \n",
              "46816                    OK           Москва  COMMERCIAL            BMW   \n",
              "\n",
              "             model          body_type  ...  reduce-spare-wheel  \\\n",
              "436947       Karoq    ALLROAD_5_DOORS  ...                   0   \n",
              "329729     E-Класс      COUPE_HARDTOP  ...                   0   \n",
              "343497     M-Класс    ALLROAD_5_DOORS  ...                   0   \n",
              "439784     Octavia           LIFTBACK  ...                   0   \n",
              "550845      Largus      WAGON_5_DOORS  ...                   0   \n",
              "431808     Sandero  HATCHBACK_5_DOORS  ...                   0   \n",
              "167063  GV80 Coupe    ALLROAD_5_DOORS  ...                   0   \n",
              "391523     X-Trail    ALLROAD_5_DOORS  ...                   0   \n",
              "210052     Elantra              SEDAN  ...                   0   \n",
              "46816           X5    ALLROAD_5_DOORS  ...                   0   \n",
              "\n",
              "       multizone-climate-control  isofix-front  roof-rails  19-inch-wheels  \\\n",
              "436947                         0             0           1               0   \n",
              "329729                         0             0           0               0   \n",
              "343497                         0             0           0               0   \n",
              "439784                         0             0           0               0   \n",
              "550845                         0             0           1               0   \n",
              "431808                         0             0           1               0   \n",
              "167063                         1             0           1               0   \n",
              "391523                         0             0           0               0   \n",
              "210052                         0             0           0               0   \n",
              "46816                          0             0           0               0   \n",
              "\n",
              "       voice-recognition  asr collision-prevention-assist heated-wash-system  \\\n",
              "436947                 0    0                           0                  0   \n",
              "329729                 0    0                           0                  1   \n",
              "343497                 0    0                           0                  0   \n",
              "439784                 1    0                           0                  0   \n",
              "550845                 0    0                           0                  0   \n",
              "431808                 0    0                           0                  0   \n",
              "167063                 0    1                           1                  0   \n",
              "391523                 0    0                           0                  0   \n",
              "210052                 0    0                           0                  0   \n",
              "46816                  0    0                           0                  0   \n",
              "\n",
              "        volume-sensor  \n",
              "436947              0  \n",
              "329729              1  \n",
              "343497              0  \n",
              "439784              1  \n",
              "550845              0  \n",
              "431808              0  \n",
              "167063              0  \n",
              "391523              0  \n",
              "210052              0  \n",
              "46816               0  \n",
              "\n",
              "[10 rows x 416 columns]"
            ]
          },
          "execution_count": 19,
          "metadata": {},
          "output_type": "execute_result"
        }
      ],
      "source": [
        "full_df.sample(10)"
      ]
    },
    {
      "cell_type": "code",
      "execution_count": null,
      "metadata": {
        "colab": {
          "base_uri": "https://localhost:8080/"
        },
        "id": "6bGYYYAR7hS8",
        "outputId": "3dbf7fed-91f0-44dd-d3fc-a6d10009d608"
      },
      "outputs": [
        {
          "name": "stdout",
          "output_type": "stream",
          "text": [
            "Удалено числовых коррелирующих признаков: 115\n",
            "Осталось признаков в df_reduced: 301 из 416\n"
          ]
        }
      ],
      "source": [
        "import pandas as pd\n",
        "import numpy as np\n",
        "from scipy.cluster import hierarchy\n",
        "from scipy.spatial.distance import squareform\n",
        "\n",
        "numeric_df = full_df.select_dtypes(include=[np.number])\n",
        "numeric_df = numeric_df.loc[:, numeric_df.nunique() > 1]\n",
        "\n",
        "corr = numeric_df.corr().abs().fillna(0)\n",
        "\n",
        "dist = 1 - corr\n",
        "\n",
        "dist = (dist + dist.T) / 2\n",
        "np.fill_diagonal(dist.values, 0)\n",
        "\n",
        "dist = dist.clip(lower=0)\n",
        "\n",
        "dist_vect = squareform(dist)\n",
        "Z = hierarchy.linkage(dist_vect, method='average')\n",
        "\n",
        "max_d = 0.4\n",
        "clusters = hierarchy.fcluster(Z, t=max_d, criterion='distance')\n",
        "\n",
        "cluster_df = pd.DataFrame({'feature': numeric_df.columns, 'cluster': clusters})\n",
        "to_keep = []\n",
        "for c in cluster_df['cluster'].unique():\n",
        "    members = cluster_df.loc[cluster_df['cluster'] == c, 'feature']\n",
        "    avg_corr = corr.loc[members, members].mean().sort_values(ascending=False)\n",
        "    to_keep.append(avg_corr.index[0])\n",
        "to_keep = list(dict.fromkeys(to_keep))\n",
        "\n",
        "to_drop = [col for col in numeric_df.columns if col not in to_keep]\n",
        "df_reduced = full_df.drop(columns=to_drop)\n",
        "\n",
        "print(f\"Удалено числовых коррелирующих признаков: {len(to_drop)}\")\n",
        "print(f\"Осталось признаков в df_reduced: {df_reduced.shape[1]} из {full_df.shape[1]}\")"
      ]
    },
    {
      "cell_type": "code",
      "execution_count": null,
      "metadata": {
        "colab": {
          "base_uri": "https://localhost:8080/",
          "height": 499
        },
        "id": "-YPBiAzJ7jNI",
        "outputId": "774d3168-2511-4c30-dde0-46621048e23f"
      },
      "outputs": [
        {
          "data": {
            "application/vnd.google.colaboratory.intrinsic+json": {
              "type": "dataframe"
            },
            "text/html": [
              "\n",
              "  <div id=\"df-e70363ce-17ee-4a77-920e-3b9b2ec398de\" class=\"colab-df-container\">\n",
              "    <div>\n",
              "<style scoped>\n",
              "    .dataframe tbody tr th:only-of-type {\n",
              "        vertical-align: middle;\n",
              "    }\n",
              "\n",
              "    .dataframe tbody tr th {\n",
              "        vertical-align: top;\n",
              "    }\n",
              "\n",
              "    .dataframe thead th {\n",
              "        text-align: right;\n",
              "    }\n",
              "</style>\n",
              "<table border=\"1\" class=\"dataframe\">\n",
              "  <thead>\n",
              "    <tr style=\"text-align: right;\">\n",
              "      <th></th>\n",
              "      <th>mileage</th>\n",
              "      <th>condition</th>\n",
              "      <th>accidents_resolution</th>\n",
              "      <th>region</th>\n",
              "      <th>seller_type</th>\n",
              "      <th>brand</th>\n",
              "      <th>model</th>\n",
              "      <th>body_type</th>\n",
              "      <th>doors_count</th>\n",
              "      <th>seats</th>\n",
              "      <th>...</th>\n",
              "      <th>18-inch-wheels</th>\n",
              "      <th>driver-seat-electric</th>\n",
              "      <th>front-seats-heat-vent</th>\n",
              "      <th>reduce-spare-wheel</th>\n",
              "      <th>multizone-climate-control</th>\n",
              "      <th>isofix-front</th>\n",
              "      <th>roof-rails</th>\n",
              "      <th>19-inch-wheels</th>\n",
              "      <th>voice-recognition</th>\n",
              "      <th>volume-sensor</th>\n",
              "    </tr>\n",
              "  </thead>\n",
              "  <tbody>\n",
              "    <tr>\n",
              "      <th>518746</th>\n",
              "      <td>33000</td>\n",
              "      <td>CONDITION_OK</td>\n",
              "      <td>ERROR</td>\n",
              "      <td>Аксай</td>\n",
              "      <td>PRIVATE</td>\n",
              "      <td>Lada (ВАЗ)</td>\n",
              "      <td>2107</td>\n",
              "      <td>SEDAN</td>\n",
              "      <td>4</td>\n",
              "      <td>5</td>\n",
              "      <td>...</td>\n",
              "      <td>0</td>\n",
              "      <td>0</td>\n",
              "      <td>0</td>\n",
              "      <td>0</td>\n",
              "      <td>0</td>\n",
              "      <td>0</td>\n",
              "      <td>0</td>\n",
              "      <td>0</td>\n",
              "      <td>0</td>\n",
              "      <td>0</td>\n",
              "    </tr>\n",
              "    <tr>\n",
              "      <th>224119</th>\n",
              "      <td>23211</td>\n",
              "      <td>CONDITION_OK</td>\n",
              "      <td>OK</td>\n",
              "      <td>Москва</td>\n",
              "      <td>PRIVATE</td>\n",
              "      <td>Hyundai</td>\n",
              "      <td>Solaris</td>\n",
              "      <td>SEDAN</td>\n",
              "      <td>4</td>\n",
              "      <td>5</td>\n",
              "      <td>...</td>\n",
              "      <td>0</td>\n",
              "      <td>0</td>\n",
              "      <td>0</td>\n",
              "      <td>0</td>\n",
              "      <td>0</td>\n",
              "      <td>0</td>\n",
              "      <td>0</td>\n",
              "      <td>0</td>\n",
              "      <td>0</td>\n",
              "      <td>0</td>\n",
              "    </tr>\n",
              "    <tr>\n",
              "      <th>351020</th>\n",
              "      <td>6122</td>\n",
              "      <td>CONDITION_OK</td>\n",
              "      <td>OK</td>\n",
              "      <td>Уссурийск</td>\n",
              "      <td>COMMERCIAL</td>\n",
              "      <td>Mini</td>\n",
              "      <td>Countryman</td>\n",
              "      <td>ALLROAD_5_DOORS</td>\n",
              "      <td>5</td>\n",
              "      <td>5</td>\n",
              "      <td>...</td>\n",
              "      <td>0</td>\n",
              "      <td>0</td>\n",
              "      <td>0</td>\n",
              "      <td>0</td>\n",
              "      <td>0</td>\n",
              "      <td>0</td>\n",
              "      <td>0</td>\n",
              "      <td>0</td>\n",
              "      <td>0</td>\n",
              "      <td>0</td>\n",
              "    </tr>\n",
              "    <tr>\n",
              "      <th>424138</th>\n",
              "      <td>4500</td>\n",
              "      <td>CONDITION_OK</td>\n",
              "      <td>ERROR</td>\n",
              "      <td>Погар</td>\n",
              "      <td>PRIVATE</td>\n",
              "      <td>Renault</td>\n",
              "      <td>Kaptur</td>\n",
              "      <td>ALLROAD_5_DOORS</td>\n",
              "      <td>5</td>\n",
              "      <td>5</td>\n",
              "      <td>...</td>\n",
              "      <td>0</td>\n",
              "      <td>0</td>\n",
              "      <td>0</td>\n",
              "      <td>0</td>\n",
              "      <td>0</td>\n",
              "      <td>0</td>\n",
              "      <td>0</td>\n",
              "      <td>0</td>\n",
              "      <td>0</td>\n",
              "      <td>0</td>\n",
              "    </tr>\n",
              "    <tr>\n",
              "      <th>89776</th>\n",
              "      <td>245600</td>\n",
              "      <td>CONDITION_OK</td>\n",
              "      <td>OK</td>\n",
              "      <td>Тверь</td>\n",
              "      <td>PRIVATE</td>\n",
              "      <td>Chevrolet</td>\n",
              "      <td>Aveo</td>\n",
              "      <td>SEDAN</td>\n",
              "      <td>4</td>\n",
              "      <td>5</td>\n",
              "      <td>...</td>\n",
              "      <td>0</td>\n",
              "      <td>0</td>\n",
              "      <td>0</td>\n",
              "      <td>0</td>\n",
              "      <td>0</td>\n",
              "      <td>0</td>\n",
              "      <td>0</td>\n",
              "      <td>0</td>\n",
              "      <td>0</td>\n",
              "      <td>0</td>\n",
              "    </tr>\n",
              "    <tr>\n",
              "      <th>297634</th>\n",
              "      <td>18300</td>\n",
              "      <td>CONDITION_OK</td>\n",
              "      <td>OK</td>\n",
              "      <td>Москва</td>\n",
              "      <td>PRIVATE</td>\n",
              "      <td>Lexus</td>\n",
              "      <td>RX</td>\n",
              "      <td>ALLROAD_5_DOORS</td>\n",
              "      <td>5</td>\n",
              "      <td>5</td>\n",
              "      <td>...</td>\n",
              "      <td>0</td>\n",
              "      <td>1</td>\n",
              "      <td>1</td>\n",
              "      <td>0</td>\n",
              "      <td>1</td>\n",
              "      <td>0</td>\n",
              "      <td>1</td>\n",
              "      <td>0</td>\n",
              "      <td>0</td>\n",
              "      <td>0</td>\n",
              "    </tr>\n",
              "    <tr>\n",
              "      <th>449720</th>\n",
              "      <td>0</td>\n",
              "      <td>CONDITION_OK</td>\n",
              "      <td>OK</td>\n",
              "      <td>Москва</td>\n",
              "      <td>COMMERCIAL</td>\n",
              "      <td>Soueast</td>\n",
              "      <td>S07</td>\n",
              "      <td>ALLROAD_5_DOORS</td>\n",
              "      <td>5</td>\n",
              "      <td>5;7</td>\n",
              "      <td>...</td>\n",
              "      <td>0</td>\n",
              "      <td>1</td>\n",
              "      <td>1</td>\n",
              "      <td>0</td>\n",
              "      <td>1</td>\n",
              "      <td>0</td>\n",
              "      <td>1</td>\n",
              "      <td>1</td>\n",
              "      <td>1</td>\n",
              "      <td>0</td>\n",
              "    </tr>\n",
              "    <tr>\n",
              "      <th>49847</th>\n",
              "      <td>121000</td>\n",
              "      <td>CONDITION_OK</td>\n",
              "      <td>OK</td>\n",
              "      <td>Москва</td>\n",
              "      <td>PRIVATE</td>\n",
              "      <td>BMW</td>\n",
              "      <td>X6</td>\n",
              "      <td>ALLROAD_5_DOORS</td>\n",
              "      <td>5</td>\n",
              "      <td>5</td>\n",
              "      <td>...</td>\n",
              "      <td>0</td>\n",
              "      <td>1</td>\n",
              "      <td>0</td>\n",
              "      <td>0</td>\n",
              "      <td>0</td>\n",
              "      <td>0</td>\n",
              "      <td>0</td>\n",
              "      <td>1</td>\n",
              "      <td>1</td>\n",
              "      <td>1</td>\n",
              "    </tr>\n",
              "    <tr>\n",
              "      <th>48872</th>\n",
              "      <td>0</td>\n",
              "      <td>CONDITION_OK</td>\n",
              "      <td>OK</td>\n",
              "      <td>Краснодар</td>\n",
              "      <td>COMMERCIAL</td>\n",
              "      <td>BMW</td>\n",
              "      <td>X6</td>\n",
              "      <td>ALLROAD_5_DOORS</td>\n",
              "      <td>5</td>\n",
              "      <td>5</td>\n",
              "      <td>...</td>\n",
              "      <td>0</td>\n",
              "      <td>0</td>\n",
              "      <td>0</td>\n",
              "      <td>0</td>\n",
              "      <td>0</td>\n",
              "      <td>0</td>\n",
              "      <td>0</td>\n",
              "      <td>0</td>\n",
              "      <td>0</td>\n",
              "      <td>0</td>\n",
              "    </tr>\n",
              "    <tr>\n",
              "      <th>846</th>\n",
              "      <td>363500</td>\n",
              "      <td>CONDITION_OK</td>\n",
              "      <td>OK</td>\n",
              "      <td>Уфа</td>\n",
              "      <td>PRIVATE</td>\n",
              "      <td>Alfa Romeo</td>\n",
              "      <td>166</td>\n",
              "      <td>SEDAN</td>\n",
              "      <td>4</td>\n",
              "      <td>5</td>\n",
              "      <td>...</td>\n",
              "      <td>0</td>\n",
              "      <td>1</td>\n",
              "      <td>0</td>\n",
              "      <td>0</td>\n",
              "      <td>0</td>\n",
              "      <td>0</td>\n",
              "      <td>0</td>\n",
              "      <td>0</td>\n",
              "      <td>0</td>\n",
              "      <td>0</td>\n",
              "    </tr>\n",
              "  </tbody>\n",
              "</table>\n",
              "<p>10 rows × 301 columns</p>\n",
              "</div>\n",
              "    <div class=\"colab-df-buttons\">\n",
              "\n",
              "  <div class=\"colab-df-container\">\n",
              "    <button class=\"colab-df-convert\" onclick=\"convertToInteractive('df-e70363ce-17ee-4a77-920e-3b9b2ec398de')\"\n",
              "            title=\"Convert this dataframe to an interactive table.\"\n",
              "            style=\"display:none;\">\n",
              "\n",
              "  <svg xmlns=\"http://www.w3.org/2000/svg\" height=\"24px\" viewBox=\"0 -960 960 960\">\n",
              "    <path d=\"M120-120v-720h720v720H120Zm60-500h600v-160H180v160Zm220 220h160v-160H400v160Zm0 220h160v-160H400v160ZM180-400h160v-160H180v160Zm440 0h160v-160H620v160ZM180-180h160v-160H180v160Zm440 0h160v-160H620v160Z\"/>\n",
              "  </svg>\n",
              "    </button>\n",
              "\n",
              "  <style>\n",
              "    .colab-df-container {\n",
              "      display:flex;\n",
              "      gap: 12px;\n",
              "    }\n",
              "\n",
              "    .colab-df-convert {\n",
              "      background-color: #E8F0FE;\n",
              "      border: none;\n",
              "      border-radius: 50%;\n",
              "      cursor: pointer;\n",
              "      display: none;\n",
              "      fill: #1967D2;\n",
              "      height: 32px;\n",
              "      padding: 0 0 0 0;\n",
              "      width: 32px;\n",
              "    }\n",
              "\n",
              "    .colab-df-convert:hover {\n",
              "      background-color: #E2EBFA;\n",
              "      box-shadow: 0px 1px 2px rgba(60, 64, 67, 0.3), 0px 1px 3px 1px rgba(60, 64, 67, 0.15);\n",
              "      fill: #174EA6;\n",
              "    }\n",
              "\n",
              "    .colab-df-buttons div {\n",
              "      margin-bottom: 4px;\n",
              "    }\n",
              "\n",
              "    [theme=dark] .colab-df-convert {\n",
              "      background-color: #3B4455;\n",
              "      fill: #D2E3FC;\n",
              "    }\n",
              "\n",
              "    [theme=dark] .colab-df-convert:hover {\n",
              "      background-color: #434B5C;\n",
              "      box-shadow: 0px 1px 3px 1px rgba(0, 0, 0, 0.15);\n",
              "      filter: drop-shadow(0px 1px 2px rgba(0, 0, 0, 0.3));\n",
              "      fill: #FFFFFF;\n",
              "    }\n",
              "  </style>\n",
              "\n",
              "    <script>\n",
              "      const buttonEl =\n",
              "        document.querySelector('#df-e70363ce-17ee-4a77-920e-3b9b2ec398de button.colab-df-convert');\n",
              "      buttonEl.style.display =\n",
              "        google.colab.kernel.accessAllowed ? 'block' : 'none';\n",
              "\n",
              "      async function convertToInteractive(key) {\n",
              "        const element = document.querySelector('#df-e70363ce-17ee-4a77-920e-3b9b2ec398de');\n",
              "        const dataTable =\n",
              "          await google.colab.kernel.invokeFunction('convertToInteractive',\n",
              "                                                    [key], {});\n",
              "        if (!dataTable) return;\n",
              "\n",
              "        const docLinkHtml = 'Like what you see? Visit the ' +\n",
              "          '<a target=\"_blank\" href=https://colab.research.google.com/notebooks/data_table.ipynb>data table notebook</a>'\n",
              "          + ' to learn more about interactive tables.';\n",
              "        element.innerHTML = '';\n",
              "        dataTable['output_type'] = 'display_data';\n",
              "        await google.colab.output.renderOutput(dataTable, element);\n",
              "        const docLink = document.createElement('div');\n",
              "        docLink.innerHTML = docLinkHtml;\n",
              "        element.appendChild(docLink);\n",
              "      }\n",
              "    </script>\n",
              "  </div>\n",
              "\n",
              "\n",
              "    <div id=\"df-a44f13e6-7c46-4a1f-9f0d-3605a39563c8\">\n",
              "      <button class=\"colab-df-quickchart\" onclick=\"quickchart('df-a44f13e6-7c46-4a1f-9f0d-3605a39563c8')\"\n",
              "                title=\"Suggest charts\"\n",
              "                style=\"display:none;\">\n",
              "\n",
              "<svg xmlns=\"http://www.w3.org/2000/svg\" height=\"24px\"viewBox=\"0 0 24 24\"\n",
              "     width=\"24px\">\n",
              "    <g>\n",
              "        <path d=\"M19 3H5c-1.1 0-2 .9-2 2v14c0 1.1.9 2 2 2h14c1.1 0 2-.9 2-2V5c0-1.1-.9-2-2-2zM9 17H7v-7h2v7zm4 0h-2V7h2v10zm4 0h-2v-4h2v4z\"/>\n",
              "    </g>\n",
              "</svg>\n",
              "      </button>\n",
              "\n",
              "<style>\n",
              "  .colab-df-quickchart {\n",
              "      --bg-color: #E8F0FE;\n",
              "      --fill-color: #1967D2;\n",
              "      --hover-bg-color: #E2EBFA;\n",
              "      --hover-fill-color: #174EA6;\n",
              "      --disabled-fill-color: #AAA;\n",
              "      --disabled-bg-color: #DDD;\n",
              "  }\n",
              "\n",
              "  [theme=dark] .colab-df-quickchart {\n",
              "      --bg-color: #3B4455;\n",
              "      --fill-color: #D2E3FC;\n",
              "      --hover-bg-color: #434B5C;\n",
              "      --hover-fill-color: #FFFFFF;\n",
              "      --disabled-bg-color: #3B4455;\n",
              "      --disabled-fill-color: #666;\n",
              "  }\n",
              "\n",
              "  .colab-df-quickchart {\n",
              "    background-color: var(--bg-color);\n",
              "    border: none;\n",
              "    border-radius: 50%;\n",
              "    cursor: pointer;\n",
              "    display: none;\n",
              "    fill: var(--fill-color);\n",
              "    height: 32px;\n",
              "    padding: 0;\n",
              "    width: 32px;\n",
              "  }\n",
              "\n",
              "  .colab-df-quickchart:hover {\n",
              "    background-color: var(--hover-bg-color);\n",
              "    box-shadow: 0 1px 2px rgba(60, 64, 67, 0.3), 0 1px 3px 1px rgba(60, 64, 67, 0.15);\n",
              "    fill: var(--button-hover-fill-color);\n",
              "  }\n",
              "\n",
              "  .colab-df-quickchart-complete:disabled,\n",
              "  .colab-df-quickchart-complete:disabled:hover {\n",
              "    background-color: var(--disabled-bg-color);\n",
              "    fill: var(--disabled-fill-color);\n",
              "    box-shadow: none;\n",
              "  }\n",
              "\n",
              "  .colab-df-spinner {\n",
              "    border: 2px solid var(--fill-color);\n",
              "    border-color: transparent;\n",
              "    border-bottom-color: var(--fill-color);\n",
              "    animation:\n",
              "      spin 1s steps(1) infinite;\n",
              "  }\n",
              "\n",
              "  @keyframes spin {\n",
              "    0% {\n",
              "      border-color: transparent;\n",
              "      border-bottom-color: var(--fill-color);\n",
              "      border-left-color: var(--fill-color);\n",
              "    }\n",
              "    20% {\n",
              "      border-color: transparent;\n",
              "      border-left-color: var(--fill-color);\n",
              "      border-top-color: var(--fill-color);\n",
              "    }\n",
              "    30% {\n",
              "      border-color: transparent;\n",
              "      border-left-color: var(--fill-color);\n",
              "      border-top-color: var(--fill-color);\n",
              "      border-right-color: var(--fill-color);\n",
              "    }\n",
              "    40% {\n",
              "      border-color: transparent;\n",
              "      border-right-color: var(--fill-color);\n",
              "      border-top-color: var(--fill-color);\n",
              "    }\n",
              "    60% {\n",
              "      border-color: transparent;\n",
              "      border-right-color: var(--fill-color);\n",
              "    }\n",
              "    80% {\n",
              "      border-color: transparent;\n",
              "      border-right-color: var(--fill-color);\n",
              "      border-bottom-color: var(--fill-color);\n",
              "    }\n",
              "    90% {\n",
              "      border-color: transparent;\n",
              "      border-bottom-color: var(--fill-color);\n",
              "    }\n",
              "  }\n",
              "</style>\n",
              "\n",
              "      <script>\n",
              "        async function quickchart(key) {\n",
              "          const quickchartButtonEl =\n",
              "            document.querySelector('#' + key + ' button');\n",
              "          quickchartButtonEl.disabled = true;  // To prevent multiple clicks.\n",
              "          quickchartButtonEl.classList.add('colab-df-spinner');\n",
              "          try {\n",
              "            const charts = await google.colab.kernel.invokeFunction(\n",
              "                'suggestCharts', [key], {});\n",
              "          } catch (error) {\n",
              "            console.error('Error during call to suggestCharts:', error);\n",
              "          }\n",
              "          quickchartButtonEl.classList.remove('colab-df-spinner');\n",
              "          quickchartButtonEl.classList.add('colab-df-quickchart-complete');\n",
              "        }\n",
              "        (() => {\n",
              "          let quickchartButtonEl =\n",
              "            document.querySelector('#df-a44f13e6-7c46-4a1f-9f0d-3605a39563c8 button');\n",
              "          quickchartButtonEl.style.display =\n",
              "            google.colab.kernel.accessAllowed ? 'block' : 'none';\n",
              "        })();\n",
              "      </script>\n",
              "    </div>\n",
              "\n",
              "    </div>\n",
              "  </div>\n"
            ],
            "text/plain": [
              "        mileage     condition accidents_resolution     region seller_type  \\\n",
              "518746    33000  CONDITION_OK                ERROR      Аксай     PRIVATE   \n",
              "224119    23211  CONDITION_OK                   OK     Москва     PRIVATE   \n",
              "351020     6122  CONDITION_OK                   OK  Уссурийск  COMMERCIAL   \n",
              "424138     4500  CONDITION_OK                ERROR      Погар     PRIVATE   \n",
              "89776    245600  CONDITION_OK                   OK      Тверь     PRIVATE   \n",
              "297634    18300  CONDITION_OK                   OK     Москва     PRIVATE   \n",
              "449720        0  CONDITION_OK                   OK     Москва  COMMERCIAL   \n",
              "49847    121000  CONDITION_OK                   OK     Москва     PRIVATE   \n",
              "48872         0  CONDITION_OK                   OK  Краснодар  COMMERCIAL   \n",
              "846      363500  CONDITION_OK                   OK        Уфа     PRIVATE   \n",
              "\n",
              "             brand       model        body_type  doors_count seats  ...  \\\n",
              "518746  Lada (ВАЗ)        2107            SEDAN            4     5  ...   \n",
              "224119     Hyundai     Solaris            SEDAN            4     5  ...   \n",
              "351020        Mini  Countryman  ALLROAD_5_DOORS            5     5  ...   \n",
              "424138     Renault      Kaptur  ALLROAD_5_DOORS            5     5  ...   \n",
              "89776    Chevrolet        Aveo            SEDAN            4     5  ...   \n",
              "297634       Lexus          RX  ALLROAD_5_DOORS            5     5  ...   \n",
              "449720     Soueast         S07  ALLROAD_5_DOORS            5   5;7  ...   \n",
              "49847          BMW          X6  ALLROAD_5_DOORS            5     5  ...   \n",
              "48872          BMW          X6  ALLROAD_5_DOORS            5     5  ...   \n",
              "846     Alfa Romeo         166            SEDAN            4     5  ...   \n",
              "\n",
              "        18-inch-wheels  driver-seat-electric front-seats-heat-vent  \\\n",
              "518746               0                     0                     0   \n",
              "224119               0                     0                     0   \n",
              "351020               0                     0                     0   \n",
              "424138               0                     0                     0   \n",
              "89776                0                     0                     0   \n",
              "297634               0                     1                     1   \n",
              "449720               0                     1                     1   \n",
              "49847                0                     1                     0   \n",
              "48872                0                     0                     0   \n",
              "846                  0                     1                     0   \n",
              "\n",
              "        reduce-spare-wheel multizone-climate-control isofix-front  roof-rails  \\\n",
              "518746                   0                         0            0           0   \n",
              "224119                   0                         0            0           0   \n",
              "351020                   0                         0            0           0   \n",
              "424138                   0                         0            0           0   \n",
              "89776                    0                         0            0           0   \n",
              "297634                   0                         1            0           1   \n",
              "449720                   0                         1            0           1   \n",
              "49847                    0                         0            0           0   \n",
              "48872                    0                         0            0           0   \n",
              "846                      0                         0            0           0   \n",
              "\n",
              "        19-inch-wheels  voice-recognition  volume-sensor  \n",
              "518746               0                  0              0  \n",
              "224119               0                  0              0  \n",
              "351020               0                  0              0  \n",
              "424138               0                  0              0  \n",
              "89776                0                  0              0  \n",
              "297634               0                  0              0  \n",
              "449720               1                  1              0  \n",
              "49847                1                  1              1  \n",
              "48872                0                  0              0  \n",
              "846                  0                  0              0  \n",
              "\n",
              "[10 rows x 301 columns]"
            ]
          },
          "execution_count": 21,
          "metadata": {},
          "output_type": "execute_result"
        }
      ],
      "source": [
        "df_reduced.sample(10)"
      ]
    },
    {
      "cell_type": "markdown",
      "metadata": {
        "id": "WAn1uD5S7jhw"
      },
      "source": [
        "### Добавим новые признаки"
      ]
    },
    {
      "cell_type": "code",
      "execution_count": null,
      "metadata": {
        "id": "pc1FERNY7pls"
      },
      "outputs": [],
      "source": [
        "from sklearn.preprocessing import PolynomialFeatures"
      ]
    },
    {
      "cell_type": "code",
      "execution_count": null,
      "metadata": {
        "id": "Yv_CiJxf_Tws"
      },
      "outputs": [],
      "source": [
        "df_mod = df_reduced.copy()"
      ]
    },
    {
      "cell_type": "code",
      "execution_count": null,
      "metadata": {
        "id": "H9A0cNU7EKuw"
      },
      "outputs": [],
      "source": [
        "df_mod[\"age\"] = 2025 - df[\"production_year\"]"
      ]
    },
    {
      "cell_type": "code",
      "execution_count": null,
      "metadata": {
        "id": "J16I4vCf_0mi"
      },
      "outputs": [],
      "source": [
        "numeric_cols = ['mileage', 'engine_displacement', 'engine_power', 'age']"
      ]
    },
    {
      "cell_type": "code",
      "execution_count": null,
      "metadata": {
        "id": "P6O5wwYwB4de"
      },
      "outputs": [],
      "source": [
        "df_mod['log_price'] = np.log1p(df['price'])"
      ]
    },
    {
      "cell_type": "code",
      "execution_count": null,
      "metadata": {
        "id": "F1KfzH_0B86n"
      },
      "outputs": [],
      "source": [
        "df_mod.drop(columns=['price'], inplace=True)"
      ]
    },
    {
      "cell_type": "markdown",
      "metadata": {
        "id": "nZ-hVB9A_X_z"
      },
      "source": [
        "Прологарифмируем некоторые признаки"
      ]
    },
    {
      "cell_type": "code",
      "execution_count": null,
      "metadata": {
        "id": "W3GFiT35_Xw9"
      },
      "outputs": [],
      "source": [
        "for col in numeric_cols:\n",
        "    df_mod[f'log_{col}'] = np.log1p(df_mod[col])"
      ]
    },
    {
      "cell_type": "markdown",
      "metadata": {
        "id": "hJm7tG1EEWA8"
      },
      "source": [
        "Возьмем корни от числовых признаков"
      ]
    },
    {
      "cell_type": "code",
      "execution_count": null,
      "metadata": {
        "id": "dCH7rCfXEPi2"
      },
      "outputs": [],
      "source": [
        "for col in numeric_cols:\n",
        "    df_mod[f'square_{col}'] = df_mod[col]**2"
      ]
    },
    {
      "cell_type": "markdown",
      "metadata": {
        "id": "Y-D287mF_dYY"
      },
      "source": [
        "Полиномиальные преобразования"
      ]
    },
    {
      "cell_type": "code",
      "execution_count": null,
      "metadata": {
        "id": "kFQWW5XQ_cx7"
      },
      "outputs": [],
      "source": [
        "poly = PolynomialFeatures(degree=2, include_bias=False)\n",
        "poly_array = poly.fit_transform(df_mod[numeric_cols].fillna(0))\n",
        "poly_feature_names = poly.get_feature_names_out(numeric_cols)\n",
        "poly_df = pd.DataFrame(poly_array, columns=poly_feature_names, index=df_mod.index)"
      ]
    },
    {
      "cell_type": "code",
      "execution_count": null,
      "metadata": {
        "id": "pX_FOjJoAJs0"
      },
      "outputs": [],
      "source": [
        "poly_new = poly_df.drop(columns=[c for c in poly_df.columns if c in numeric_cols])\n",
        "df_mod = pd.concat([df_mod, poly_new.add_prefix('poly_')], axis=1)"
      ]
    },
    {
      "cell_type": "markdown",
      "metadata": {
        "id": "9Zd8orNrAQcE"
      },
      "source": [
        "Базовые отношения двигателя"
      ]
    },
    {
      "cell_type": "code",
      "execution_count": null,
      "metadata": {
        "id": "a_lDEEqUAPGq"
      },
      "outputs": [],
      "source": [
        "df_mod['power_to_disp'] = df['engine_power'] / df['engine_displacement'].clip(lower=0.01)"
      ]
    },
    {
      "cell_type": "markdown",
      "metadata": {
        "id": "A9XHaNUsASmH"
      },
      "source": [
        "Арифметичесике преобразования"
      ]
    },
    {
      "cell_type": "code",
      "execution_count": null,
      "metadata": {
        "id": "mTjqaxSoASV8"
      },
      "outputs": [],
      "source": [
        "# Произведения признаков\n",
        "df_mod['mileage_x_power'] = df['mileage'] * df['engine_power']\n",
        "df_mod['disp_x_power'] = df['engine_displacement'] * df['engine_power']\n",
        "df_mod['owners_x_power'] = df['owners_number'] * df['engine_power']\n",
        "df_mod[\"age_x_power\"]    = df_mod[\"age\"] * df[\"engine_power\"]\n",
        "df_mod[\"age_x_mileage\"]  = df_mod[\"age\"] * df[\"mileage\"]\n",
        "\n",
        "# Частные признаков\n",
        "df_mod['power_div_mileage'] = df['engine_power'] / df['mileage'].clip(lower=0.01)\n",
        "df_mod['disp_per_mile'] = df['engine_displacement'] / df['mileage'].clip(lower=0.01)\n",
        "df_mod['mileage_per_hp'] = df['mileage'] / df['engine_power'].clip(lower=0.01)\n",
        "df_mod['milage_per_year'] = df['mileage'] / df_mod['age'].clip(lower=0.01)\n",
        "df_mod['power_div_owners'] = df['engine_power'] / df['owners_number'].clip(lower=0.01)\n",
        "df_mod['disp_div_owners'] = df['engine_displacement'] / df['owners_number'].clip(lower=0.01)\n",
        "\n",
        "# Лог-взаимодействие\n",
        "df_mod['log_mileage_x_log_power'] = df_mod['log_mileage'] * df_mod['log_engine_power']\n",
        "df_mod['log_age_x_log_power'] = df_mod['log_age'] * df_mod['log_engine_power']\n",
        "\n",
        "# Разности признаков\n",
        "df_mod['power_minus_disp'] = df['engine_power'] - df['engine_displacement']"
      ]
    },
    {
      "cell_type": "code",
      "execution_count": null,
      "metadata": {
        "id": "GFDfP9V3Arod"
      },
      "outputs": [],
      "source": [
        "from pandas.api.types import is_numeric_dtype\n",
        "\n",
        "# Отношение дверей к местам\n",
        "df_mod['seats_num'] = df['seats'].str.extract(r'(\\d+)').astype(float)\n",
        "df_mod['doors_to_seats_ratio'] = df['doors_count'] / df_mod['seats_num'].clip(lower=0.01)\n",
        "\n",
        "# Индикатор аварий\n",
        "df_mod['has_accident'] = (\n",
        "    ~df['accidents_resolution'].fillna('none').str.lower().isin(['none', 'no', 'unknown'])\n",
        ").astype(int)\n",
        "\n",
        "# Сумма бинарных признаков\n",
        "binary_cols = [\n",
        "    col for col in df.columns\n",
        "    if is_numeric_dtype(df[col]) and\n",
        "       set(df[col].dropna().unique()).issubset({0, 1})\n",
        "]\n",
        "df_mod['num_binary_features'] = df[binary_cols].sum(axis=1)\n",
        "\n",
        "# Счетчики безопасности и комфорта\n",
        "safety_keywords = ['airbag', 'detection', 'vsm', 'ldw', 'tja', 'rcta', 'ptf']\n",
        "safety_cols = [c for c in df.columns if any(k in c.lower() for k in safety_keywords)]\n",
        "df_mod['safety_feature_count'] = df[safety_cols].sum(axis=1)\n",
        "\n",
        "comfort_keywords = ['heat', 'leather', 'massage', 'climate', 'vent', 'seat']\n",
        "comfort_cols = [c for c in df.columns if any(k in c.lower() for k in comfort_keywords)]\n",
        "df_mod['comfort_feature_count'] = df[comfort_cols].sum(axis=1)\n",
        "\n",
        "# Количество preset-тегов\n",
        "preset_cols = [c for c in df.columns if c.startswith('preset')]\n",
        "df_mod['num_presets'] = df[preset_cols].sum(axis=1)\n",
        "\n",
        "# Является ли машина новой\n",
        "df_mod['is_new'] = ((df['mileage'] < 1000) & (df['owners_number'] <= 1)).astype(int)\n",
        "df_mod['is_very_old'] = (df_mod['age'] > 20).astype(int)\n",
        "\n",
        "df_mod['is_one_owner'] = (df['owners_number'] == 1).astype(int)"
      ]
    },
    {
      "cell_type": "markdown",
      "metadata": {
        "id": "jxou3EtsA3Gn"
      },
      "source": [
        "Проверим, что нет дубликатов"
      ]
    },
    {
      "cell_type": "code",
      "execution_count": null,
      "metadata": {
        "colab": {
          "base_uri": "https://localhost:8080/"
        },
        "id": "EkxzyQ2BBJN_",
        "outputId": "e66511e8-d474-43f5-a43d-93f442d4a9a4"
      },
      "outputs": [
        {
          "data": {
            "text/plain": [
              "np.int64(0)"
            ]
          },
          "execution_count": 67,
          "metadata": {},
          "output_type": "execute_result"
        }
      ],
      "source": [
        "df_mod.columns.duplicated().sum()"
      ]
    },
    {
      "cell_type": "markdown",
      "metadata": {
        "id": "j3mwQy3GFmOF"
      },
      "source": [
        "Проверим, что не появилось пустых значений"
      ]
    },
    {
      "cell_type": "code",
      "execution_count": null,
      "metadata": {
        "colab": {
          "base_uri": "https://localhost:8080/"
        },
        "id": "0Y6cUFSLFqBk",
        "outputId": "abffa543-c6bc-460b-aa6f-fdf1ca6f588a"
      },
      "outputs": [
        {
          "name": "stdout",
          "output_type": "stream",
          "text": [
            "Колонки с пропусками: []\n"
          ]
        }
      ],
      "source": [
        "cols_with_na = df_mod.columns[df_mod.isna().any()].tolist()\n",
        "print(\"Колонки с пропусками:\", cols_with_na)"
      ]
    },
    {
      "cell_type": "markdown",
      "metadata": {
        "id": "VGmZ6ZlW7mTA"
      },
      "source": [
        "### Обучим CatBoost"
      ]
    },
    {
      "cell_type": "code",
      "execution_count": null,
      "metadata": {
        "colab": {
          "base_uri": "https://localhost:8080/"
        },
        "id": "EXXv8UuQCMXM",
        "outputId": "8472d50f-adba-4e0c-aec0-ceb0118853a3"
      },
      "outputs": [
        {
          "name": "stdout",
          "output_type": "stream",
          "text": [
            "Collecting catboost\n",
            "  Downloading catboost-1.2.8-cp311-cp311-manylinux2014_x86_64.whl.metadata (1.2 kB)\n",
            "Requirement already satisfied: graphviz in /usr/local/lib/python3.11/dist-packages (from catboost) (0.20.3)\n",
            "Requirement already satisfied: matplotlib in /usr/local/lib/python3.11/dist-packages (from catboost) (3.10.0)\n",
            "Requirement already satisfied: numpy<3.0,>=1.16.0 in /usr/local/lib/python3.11/dist-packages (from catboost) (2.0.2)\n",
            "Requirement already satisfied: pandas>=0.24 in /usr/local/lib/python3.11/dist-packages (from catboost) (2.2.2)\n",
            "Requirement already satisfied: scipy in /usr/local/lib/python3.11/dist-packages (from catboost) (1.15.3)\n",
            "Requirement already satisfied: plotly in /usr/local/lib/python3.11/dist-packages (from catboost) (5.24.1)\n",
            "Requirement already satisfied: six in /usr/local/lib/python3.11/dist-packages (from catboost) (1.17.0)\n",
            "Requirement already satisfied: python-dateutil>=2.8.2 in /usr/local/lib/python3.11/dist-packages (from pandas>=0.24->catboost) (2.9.0.post0)\n",
            "Requirement already satisfied: pytz>=2020.1 in /usr/local/lib/python3.11/dist-packages (from pandas>=0.24->catboost) (2025.2)\n",
            "Requirement already satisfied: tzdata>=2022.7 in /usr/local/lib/python3.11/dist-packages (from pandas>=0.24->catboost) (2025.2)\n",
            "Requirement already satisfied: contourpy>=1.0.1 in /usr/local/lib/python3.11/dist-packages (from matplotlib->catboost) (1.3.2)\n",
            "Requirement already satisfied: cycler>=0.10 in /usr/local/lib/python3.11/dist-packages (from matplotlib->catboost) (0.12.1)\n",
            "Requirement already satisfied: fonttools>=4.22.0 in /usr/local/lib/python3.11/dist-packages (from matplotlib->catboost) (4.58.1)\n",
            "Requirement already satisfied: kiwisolver>=1.3.1 in /usr/local/lib/python3.11/dist-packages (from matplotlib->catboost) (1.4.8)\n",
            "Requirement already satisfied: packaging>=20.0 in /usr/local/lib/python3.11/dist-packages (from matplotlib->catboost) (24.2)\n",
            "Requirement already satisfied: pillow>=8 in /usr/local/lib/python3.11/dist-packages (from matplotlib->catboost) (11.2.1)\n",
            "Requirement already satisfied: pyparsing>=2.3.1 in /usr/local/lib/python3.11/dist-packages (from matplotlib->catboost) (3.2.3)\n",
            "Requirement already satisfied: tenacity>=6.2.0 in /usr/local/lib/python3.11/dist-packages (from plotly->catboost) (9.1.2)\n",
            "Downloading catboost-1.2.8-cp311-cp311-manylinux2014_x86_64.whl (99.2 MB)\n",
            "\u001b[2K   \u001b[90m━━━━━━━━━━━━━━━━━━━━━━━━━━━━━━━━━━━━━━━━\u001b[0m \u001b[32m99.2/99.2 MB\u001b[0m \u001b[31m11.3 MB/s\u001b[0m eta \u001b[36m0:00:00\u001b[0m\n",
            "\u001b[?25hInstalling collected packages: catboost\n",
            "Successfully installed catboost-1.2.8\n"
          ]
        }
      ],
      "source": [
        "!pip install catboost"
      ]
    },
    {
      "cell_type": "code",
      "execution_count": null,
      "metadata": {
        "colab": {
          "base_uri": "https://localhost:8080/"
        },
        "id": "16p0OOovCOWi",
        "outputId": "7a009805-d9d1-41be-b005-50f3c8f7714c"
      },
      "outputs": [
        {
          "name": "stdout",
          "output_type": "stream",
          "text": [
            "Collecting optuna\n",
            "  Downloading optuna-4.3.0-py3-none-any.whl.metadata (17 kB)\n",
            "Collecting alembic>=1.5.0 (from optuna)\n",
            "  Downloading alembic-1.16.1-py3-none-any.whl.metadata (7.3 kB)\n",
            "Collecting colorlog (from optuna)\n",
            "  Downloading colorlog-6.9.0-py3-none-any.whl.metadata (10 kB)\n",
            "Requirement already satisfied: numpy in /usr/local/lib/python3.11/dist-packages (from optuna) (2.0.2)\n",
            "Requirement already satisfied: packaging>=20.0 in /usr/local/lib/python3.11/dist-packages (from optuna) (24.2)\n",
            "Requirement already satisfied: sqlalchemy>=1.4.2 in /usr/local/lib/python3.11/dist-packages (from optuna) (2.0.41)\n",
            "Requirement already satisfied: tqdm in /usr/local/lib/python3.11/dist-packages (from optuna) (4.67.1)\n",
            "Requirement already satisfied: PyYAML in /usr/local/lib/python3.11/dist-packages (from optuna) (6.0.2)\n",
            "Requirement already satisfied: Mako in /usr/lib/python3/dist-packages (from alembic>=1.5.0->optuna) (1.1.3)\n",
            "Requirement already satisfied: typing-extensions>=4.12 in /usr/local/lib/python3.11/dist-packages (from alembic>=1.5.0->optuna) (4.14.0)\n",
            "Requirement already satisfied: greenlet>=1 in /usr/local/lib/python3.11/dist-packages (from sqlalchemy>=1.4.2->optuna) (3.2.2)\n",
            "Downloading optuna-4.3.0-py3-none-any.whl (386 kB)\n",
            "\u001b[2K   \u001b[90m━━━━━━━━━━━━━━━━━━━━━━━━━━━━━━━━━━━━━━━━\u001b[0m \u001b[32m386.6/386.6 kB\u001b[0m \u001b[31m14.2 MB/s\u001b[0m eta \u001b[36m0:00:00\u001b[0m\n",
            "\u001b[?25hDownloading alembic-1.16.1-py3-none-any.whl (242 kB)\n",
            "\u001b[2K   \u001b[90m━━━━━━━━━━━━━━━━━━━━━━━━━━━━━━━━━━━━━━━━\u001b[0m \u001b[32m242.5/242.5 kB\u001b[0m \u001b[31m19.7 MB/s\u001b[0m eta \u001b[36m0:00:00\u001b[0m\n",
            "\u001b[?25hDownloading colorlog-6.9.0-py3-none-any.whl (11 kB)\n",
            "Installing collected packages: colorlog, alembic, optuna\n",
            "Successfully installed alembic-1.16.1 colorlog-6.9.0 optuna-4.3.0\n"
          ]
        }
      ],
      "source": [
        "!pip install optuna"
      ]
    },
    {
      "cell_type": "code",
      "execution_count": null,
      "metadata": {
        "id": "UHbQ-snf8iUz"
      },
      "outputs": [],
      "source": [
        "import optuna\n",
        "from optuna.trial import TrialState\n",
        "from catboost import CatBoostRegressor, utils as cb_utils\n",
        "from sklearn.model_selection import train_test_split\n",
        "from sklearn.compose import ColumnTransformer\n",
        "from sklearn.preprocessing import StandardScaler, OrdinalEncoder\n",
        "from sklearn.metrics import r2_score\n",
        "import joblib"
      ]
    },
    {
      "cell_type": "code",
      "execution_count": null,
      "metadata": {
        "id": "0bETH_yj8kJt"
      },
      "outputs": [],
      "source": [
        "X = df_mod.drop('log_price', axis=1)\n",
        "y = df_mod['log_price']\n",
        "\n",
        "X_train, X_valid, y_train, y_valid = train_test_split(\n",
        "    X, y, test_size=0.2, random_state=RANDOM_STATE\n",
        ")"
      ]
    },
    {
      "cell_type": "code",
      "execution_count": null,
      "metadata": {
        "id": "LtJGonwi8l8y"
      },
      "outputs": [],
      "source": [
        "num_features = X.select_dtypes(include=['int64','float64','int8']).columns.tolist()\n",
        "cat_features = X.select_dtypes(include=['object']).columns.tolist()\n",
        "\n",
        "preprocessor = ColumnTransformer([\n",
        "    ('num', StandardScaler(), num_features),\n",
        "    ('cat', OrdinalEncoder(handle_unknown='use_encoded_value', unknown_value=-1), cat_features),\n",
        "])"
      ]
    },
    {
      "cell_type": "code",
      "execution_count": null,
      "metadata": {
        "colab": {
          "base_uri": "https://localhost:8080/"
        },
        "id": "Qxn2o_oc8ngf",
        "outputId": "9c92b668-2398-45b8-be99-a59ca3dfc645"
      },
      "outputs": [
        {
          "name": "stderr",
          "output_type": "stream",
          "text": [
            "/usr/local/lib/python3.11/dist-packages/sklearn/utils/validation.py:921: UserWarning: pandas.DataFrame with sparse columns found.It will be converted to a dense numpy array.\n",
            "  warnings.warn(\n",
            "/usr/local/lib/python3.11/dist-packages/sklearn/utils/validation.py:921: UserWarning: pandas.DataFrame with sparse columns found.It will be converted to a dense numpy array.\n",
            "  warnings.warn(\n",
            "/usr/local/lib/python3.11/dist-packages/sklearn/utils/validation.py:921: UserWarning: pandas.DataFrame with sparse columns found.It will be converted to a dense numpy array.\n",
            "  warnings.warn(\n"
          ]
        }
      ],
      "source": [
        "X_train_proc = preprocessor.fit_transform(X_train)\n",
        "X_valid_proc = preprocessor.transform(X_valid)"
      ]
    },
    {
      "cell_type": "code",
      "execution_count": null,
      "metadata": {
        "id": "FqwIR9E68pRC"
      },
      "outputs": [],
      "source": [
        "n_gpus = cb_utils.get_gpu_device_count()\n",
        "if n_gpus == 0:\n",
        "    raise RuntimeError(\"GPU не найдена!\")\n",
        "devices = \",\".join(str(i) for i in range(n_gpus))"
      ]
    },
    {
      "cell_type": "code",
      "execution_count": null,
      "metadata": {
        "id": "zztKWO268qiR"
      },
      "outputs": [],
      "source": [
        "N_TRIALS = 50\n",
        "\n",
        "def objective(trial):\n",
        "    params = {\n",
        "        'task_type':     'GPU',\n",
        "        'devices':       devices,\n",
        "        'gpu_ram_part':  0.8,\n",
        "        'iterations':    trial.suggest_int('iterations',   200, 2000),\n",
        "        'learning_rate': trial.suggest_loguniform('learning_rate', 1e-3, 1e-1),\n",
        "        'depth':         trial.suggest_int('depth',        4,  10),\n",
        "        'l2_leaf_reg':   trial.suggest_loguniform('l2_leaf_reg',  1e-1, 10.0),\n",
        "        'border_count':  trial.suggest_int('border_count', 32, 255),\n",
        "        'random_seed':   RANDOM_STATE,\n",
        "        'verbose':       False,\n",
        "    }\n",
        "    model = CatBoostRegressor(**params)\n",
        "    model.fit(\n",
        "        X_train_proc, y_train,\n",
        "        eval_set=(X_valid_proc, y_valid),\n",
        "        early_stopping_rounds=50\n",
        "    )\n",
        "    preds = model.predict(X_valid_proc)\n",
        "    return r2_score(y_valid, preds)\n",
        "\n",
        "def progress_cb(study, trial):\n",
        "    done = len([t for t in study.trials if t.state == TrialState.COMPLETE])\n",
        "    print(f\"Completed {done}/{N_TRIALS} trials\")"
      ]
    },
    {
      "cell_type": "code",
      "execution_count": null,
      "metadata": {
        "colab": {
          "base_uri": "https://localhost:8080/",
          "height": 1000,
          "referenced_widgets": [
            "a80de14adbab4d8ca4aa0a9d1dfea2c6",
            "4c86c77c9d0c4044a852f527b87fb5e2",
            "45c834b113df403cbb876413115b965a",
            "60e109d3e35949bb8baf74af1a2f5f47",
            "ddf01534534642e2969189210124639f",
            "b7aeb22b9e0741c4a6713c176fc8b29f",
            "94b332dbc2ab41ae8a8e833f5380d6dd",
            "a7a16fff8b3d4a76a1c3085622f94968",
            "43da6ebbebd544b481d22d524f989213",
            "839cb2872348474a8fb08a2d7d735351",
            "0ecb3f03ac214eaeb263de5309d877d2"
          ]
        },
        "id": "RbUpj8_H8sNC",
        "outputId": "f413dea3-e091-4192-d11a-f3d2d9d03639"
      },
      "outputs": [
        {
          "name": "stderr",
          "output_type": "stream",
          "text": [
            "[I 2025-06-09 20:02:59,038] A new study created in memory with name: no-name-064eb0c3-3b37-44a6-ab2f-6b16a1a6feaf\n"
          ]
        },
        {
          "data": {
            "application/vnd.jupyter.widget-view+json": {
              "model_id": "a80de14adbab4d8ca4aa0a9d1dfea2c6",
              "version_major": 2,
              "version_minor": 0
            },
            "text/plain": [
              "  0%|          | 0/50 [00:00<?, ?it/s]"
            ]
          },
          "metadata": {},
          "output_type": "display_data"
        },
        {
          "name": "stderr",
          "output_type": "stream",
          "text": [
            "<ipython-input-76-fd98ef0c2749>:9: FutureWarning: suggest_loguniform has been deprecated in v3.0.0. This feature will be removed in v6.0.0. See https://github.com/optuna/optuna/releases/tag/v3.0.0. Use suggest_float(..., log=True) instead.\n",
            "  'learning_rate': trial.suggest_loguniform('learning_rate', 1e-3, 1e-1),\n",
            "<ipython-input-76-fd98ef0c2749>:11: FutureWarning: suggest_loguniform has been deprecated in v3.0.0. This feature will be removed in v6.0.0. See https://github.com/optuna/optuna/releases/tag/v3.0.0. Use suggest_float(..., log=True) instead.\n",
            "  'l2_leaf_reg':   trial.suggest_loguniform('l2_leaf_reg',  1e-1, 10.0),\n"
          ]
        },
        {
          "name": "stdout",
          "output_type": "stream",
          "text": [
            "[I 2025-06-09 20:05:03,273] Trial 0 finished with value: 0.972180266062258 and parameters: {'iterations': 1125, 'learning_rate': 0.07794437236465629, 'depth': 8, 'l2_leaf_reg': 3.917501811933218, 'border_count': 150}. Best is trial 0 with value: 0.972180266062258.\n",
            "Completed 1/50 trials\n"
          ]
        },
        {
          "name": "stderr",
          "output_type": "stream",
          "text": [
            "<ipython-input-76-fd98ef0c2749>:9: FutureWarning: suggest_loguniform has been deprecated in v3.0.0. This feature will be removed in v6.0.0. See https://github.com/optuna/optuna/releases/tag/v3.0.0. Use suggest_float(..., log=True) instead.\n",
            "  'learning_rate': trial.suggest_loguniform('learning_rate', 1e-3, 1e-1),\n",
            "<ipython-input-76-fd98ef0c2749>:11: FutureWarning: suggest_loguniform has been deprecated in v3.0.0. This feature will be removed in v6.0.0. See https://github.com/optuna/optuna/releases/tag/v3.0.0. Use suggest_float(..., log=True) instead.\n",
            "  'l2_leaf_reg':   trial.suggest_loguniform('l2_leaf_reg',  1e-1, 10.0),\n"
          ]
        },
        {
          "name": "stdout",
          "output_type": "stream",
          "text": [
            "[I 2025-06-09 20:07:03,000] Trial 1 finished with value: 0.9731493681979729 and parameters: {'iterations': 669, 'learning_rate': 0.06477033859403573, 'depth': 10, 'l2_leaf_reg': 0.27130572234470207, 'border_count': 195}. Best is trial 1 with value: 0.9731493681979729.\n",
            "Completed 2/50 trials\n"
          ]
        },
        {
          "name": "stderr",
          "output_type": "stream",
          "text": [
            "<ipython-input-76-fd98ef0c2749>:9: FutureWarning: suggest_loguniform has been deprecated in v3.0.0. This feature will be removed in v6.0.0. See https://github.com/optuna/optuna/releases/tag/v3.0.0. Use suggest_float(..., log=True) instead.\n",
            "  'learning_rate': trial.suggest_loguniform('learning_rate', 1e-3, 1e-1),\n",
            "<ipython-input-76-fd98ef0c2749>:11: FutureWarning: suggest_loguniform has been deprecated in v3.0.0. This feature will be removed in v6.0.0. See https://github.com/optuna/optuna/releases/tag/v3.0.0. Use suggest_float(..., log=True) instead.\n",
            "  'l2_leaf_reg':   trial.suggest_loguniform('l2_leaf_reg',  1e-1, 10.0),\n"
          ]
        },
        {
          "name": "stdout",
          "output_type": "stream",
          "text": [
            "[I 2025-06-09 20:08:53,768] Trial 2 finished with value: 0.9632169932921048 and parameters: {'iterations': 1089, 'learning_rate': 0.048488865009547986, 'depth': 5, 'l2_leaf_reg': 0.165778137750049, 'border_count': 223}. Best is trial 1 with value: 0.9731493681979729.\n",
            "Completed 3/50 trials\n"
          ]
        },
        {
          "name": "stderr",
          "output_type": "stream",
          "text": [
            "<ipython-input-76-fd98ef0c2749>:9: FutureWarning: suggest_loguniform has been deprecated in v3.0.0. This feature will be removed in v6.0.0. See https://github.com/optuna/optuna/releases/tag/v3.0.0. Use suggest_float(..., log=True) instead.\n",
            "  'learning_rate': trial.suggest_loguniform('learning_rate', 1e-3, 1e-1),\n",
            "<ipython-input-76-fd98ef0c2749>:11: FutureWarning: suggest_loguniform has been deprecated in v3.0.0. This feature will be removed in v6.0.0. See https://github.com/optuna/optuna/releases/tag/v3.0.0. Use suggest_float(..., log=True) instead.\n",
            "  'l2_leaf_reg':   trial.suggest_loguniform('l2_leaf_reg',  1e-1, 10.0),\n"
          ]
        },
        {
          "name": "stdout",
          "output_type": "stream",
          "text": [
            "[I 2025-06-09 20:10:44,415] Trial 3 finished with value: 0.9386074848513986 and parameters: {'iterations': 538, 'learning_rate': 0.012746437845477746, 'depth': 5, 'l2_leaf_reg': 2.415166341272708, 'border_count': 93}. Best is trial 1 with value: 0.9731493681979729.\n",
            "Completed 4/50 trials\n"
          ]
        },
        {
          "name": "stderr",
          "output_type": "stream",
          "text": [
            "<ipython-input-76-fd98ef0c2749>:9: FutureWarning: suggest_loguniform has been deprecated in v3.0.0. This feature will be removed in v6.0.0. See https://github.com/optuna/optuna/releases/tag/v3.0.0. Use suggest_float(..., log=True) instead.\n",
            "  'learning_rate': trial.suggest_loguniform('learning_rate', 1e-3, 1e-1),\n",
            "<ipython-input-76-fd98ef0c2749>:11: FutureWarning: suggest_loguniform has been deprecated in v3.0.0. This feature will be removed in v6.0.0. See https://github.com/optuna/optuna/releases/tag/v3.0.0. Use suggest_float(..., log=True) instead.\n",
            "  'l2_leaf_reg':   trial.suggest_loguniform('l2_leaf_reg',  1e-1, 10.0),\n"
          ]
        },
        {
          "name": "stdout",
          "output_type": "stream",
          "text": [
            "[I 2025-06-09 20:12:45,504] Trial 4 finished with value: 0.8201974111261411 and parameters: {'iterations': 623, 'learning_rate': 0.001858520886037547, 'depth': 10, 'l2_leaf_reg': 2.67111711036522, 'border_count': 203}. Best is trial 1 with value: 0.9731493681979729.\n",
            "Completed 5/50 trials\n"
          ]
        },
        {
          "name": "stderr",
          "output_type": "stream",
          "text": [
            "<ipython-input-76-fd98ef0c2749>:9: FutureWarning: suggest_loguniform has been deprecated in v3.0.0. This feature will be removed in v6.0.0. See https://github.com/optuna/optuna/releases/tag/v3.0.0. Use suggest_float(..., log=True) instead.\n",
            "  'learning_rate': trial.suggest_loguniform('learning_rate', 1e-3, 1e-1),\n",
            "<ipython-input-76-fd98ef0c2749>:11: FutureWarning: suggest_loguniform has been deprecated in v3.0.0. This feature will be removed in v6.0.0. See https://github.com/optuna/optuna/releases/tag/v3.0.0. Use suggest_float(..., log=True) instead.\n",
            "  'l2_leaf_reg':   trial.suggest_loguniform('l2_leaf_reg',  1e-1, 10.0),\n"
          ]
        },
        {
          "name": "stdout",
          "output_type": "stream",
          "text": [
            "[I 2025-06-09 20:14:32,671] Trial 5 finished with value: 0.9256400877861668 and parameters: {'iterations': 464, 'learning_rate': 0.008672092679863047, 'depth': 5, 'l2_leaf_reg': 0.44136789302368074, 'border_count': 89}. Best is trial 1 with value: 0.9731493681979729.\n",
            "Completed 6/50 trials\n"
          ]
        },
        {
          "name": "stderr",
          "output_type": "stream",
          "text": [
            "<ipython-input-76-fd98ef0c2749>:9: FutureWarning: suggest_loguniform has been deprecated in v3.0.0. This feature will be removed in v6.0.0. See https://github.com/optuna/optuna/releases/tag/v3.0.0. Use suggest_float(..., log=True) instead.\n",
            "  'learning_rate': trial.suggest_loguniform('learning_rate', 1e-3, 1e-1),\n",
            "<ipython-input-76-fd98ef0c2749>:11: FutureWarning: suggest_loguniform has been deprecated in v3.0.0. This feature will be removed in v6.0.0. See https://github.com/optuna/optuna/releases/tag/v3.0.0. Use suggest_float(..., log=True) instead.\n",
            "  'l2_leaf_reg':   trial.suggest_loguniform('l2_leaf_reg',  1e-1, 10.0),\n"
          ]
        },
        {
          "name": "stdout",
          "output_type": "stream",
          "text": [
            "[I 2025-06-09 20:16:30,111] Trial 6 finished with value: 0.9702769472289043 and parameters: {'iterations': 982, 'learning_rate': 0.061868252932534964, 'depth': 8, 'l2_leaf_reg': 8.30264860039305, 'border_count': 209}. Best is trial 1 with value: 0.9731493681979729.\n",
            "Completed 7/50 trials\n"
          ]
        },
        {
          "name": "stderr",
          "output_type": "stream",
          "text": [
            "<ipython-input-76-fd98ef0c2749>:9: FutureWarning: suggest_loguniform has been deprecated in v3.0.0. This feature will be removed in v6.0.0. See https://github.com/optuna/optuna/releases/tag/v3.0.0. Use suggest_float(..., log=True) instead.\n",
            "  'learning_rate': trial.suggest_loguniform('learning_rate', 1e-3, 1e-1),\n",
            "<ipython-input-76-fd98ef0c2749>:11: FutureWarning: suggest_loguniform has been deprecated in v3.0.0. This feature will be removed in v6.0.0. See https://github.com/optuna/optuna/releases/tag/v3.0.0. Use suggest_float(..., log=True) instead.\n",
            "  'l2_leaf_reg':   trial.suggest_loguniform('l2_leaf_reg',  1e-1, 10.0),\n"
          ]
        },
        {
          "name": "stdout",
          "output_type": "stream",
          "text": [
            "[I 2025-06-09 20:18:34,788] Trial 7 finished with value: 0.8578823016654236 and parameters: {'iterations': 1470, 'learning_rate': 0.0010005379131438898, 'depth': 8, 'l2_leaf_reg': 5.448822699267552, 'border_count': 53}. Best is trial 1 with value: 0.9731493681979729.\n",
            "Completed 8/50 trials\n"
          ]
        },
        {
          "name": "stderr",
          "output_type": "stream",
          "text": [
            "<ipython-input-76-fd98ef0c2749>:9: FutureWarning: suggest_loguniform has been deprecated in v3.0.0. This feature will be removed in v6.0.0. See https://github.com/optuna/optuna/releases/tag/v3.0.0. Use suggest_float(..., log=True) instead.\n",
            "  'learning_rate': trial.suggest_loguniform('learning_rate', 1e-3, 1e-1),\n",
            "<ipython-input-76-fd98ef0c2749>:11: FutureWarning: suggest_loguniform has been deprecated in v3.0.0. This feature will be removed in v6.0.0. See https://github.com/optuna/optuna/releases/tag/v3.0.0. Use suggest_float(..., log=True) instead.\n",
            "  'l2_leaf_reg':   trial.suggest_loguniform('l2_leaf_reg',  1e-1, 10.0),\n"
          ]
        },
        {
          "name": "stdout",
          "output_type": "stream",
          "text": [
            "[I 2025-06-09 20:20:29,591] Trial 8 finished with value: 0.960401017167982 and parameters: {'iterations': 912, 'learning_rate': 0.021984079997240304, 'depth': 7, 'l2_leaf_reg': 9.07518644595831, 'border_count': 128}. Best is trial 1 with value: 0.9731493681979729.\n",
            "Completed 9/50 trials\n"
          ]
        },
        {
          "name": "stderr",
          "output_type": "stream",
          "text": [
            "<ipython-input-76-fd98ef0c2749>:9: FutureWarning: suggest_loguniform has been deprecated in v3.0.0. This feature will be removed in v6.0.0. See https://github.com/optuna/optuna/releases/tag/v3.0.0. Use suggest_float(..., log=True) instead.\n",
            "  'learning_rate': trial.suggest_loguniform('learning_rate', 1e-3, 1e-1),\n",
            "<ipython-input-76-fd98ef0c2749>:11: FutureWarning: suggest_loguniform has been deprecated in v3.0.0. This feature will be removed in v6.0.0. See https://github.com/optuna/optuna/releases/tag/v3.0.0. Use suggest_float(..., log=True) instead.\n",
            "  'l2_leaf_reg':   trial.suggest_loguniform('l2_leaf_reg',  1e-1, 10.0),\n"
          ]
        },
        {
          "name": "stdout",
          "output_type": "stream",
          "text": [
            "[I 2025-06-09 20:22:42,438] Trial 9 finished with value: 0.9238651364535029 and parameters: {'iterations': 1792, 'learning_rate': 0.0015922489415796776, 'depth': 7, 'l2_leaf_reg': 0.9358258516031683, 'border_count': 227}. Best is trial 1 with value: 0.9731493681979729.\n",
            "Completed 10/50 trials\n"
          ]
        },
        {
          "name": "stderr",
          "output_type": "stream",
          "text": [
            "<ipython-input-76-fd98ef0c2749>:9: FutureWarning: suggest_loguniform has been deprecated in v3.0.0. This feature will be removed in v6.0.0. See https://github.com/optuna/optuna/releases/tag/v3.0.0. Use suggest_float(..., log=True) instead.\n",
            "  'learning_rate': trial.suggest_loguniform('learning_rate', 1e-3, 1e-1),\n",
            "<ipython-input-76-fd98ef0c2749>:11: FutureWarning: suggest_loguniform has been deprecated in v3.0.0. This feature will be removed in v6.0.0. See https://github.com/optuna/optuna/releases/tag/v3.0.0. Use suggest_float(..., log=True) instead.\n",
            "  'l2_leaf_reg':   trial.suggest_loguniform('l2_leaf_reg',  1e-1, 10.0),\n"
          ]
        },
        {
          "name": "stdout",
          "output_type": "stream",
          "text": [
            "[I 2025-06-09 20:24:36,007] Trial 10 finished with value: 0.8677226793843463 and parameters: {'iterations': 287, 'learning_rate': 0.00505140527786175, 'depth': 10, 'l2_leaf_reg': 0.1298821787215254, 'border_count': 163}. Best is trial 1 with value: 0.9731493681979729.\n",
            "Completed 11/50 trials\n"
          ]
        },
        {
          "name": "stderr",
          "output_type": "stream",
          "text": [
            "<ipython-input-76-fd98ef0c2749>:9: FutureWarning: suggest_loguniform has been deprecated in v3.0.0. This feature will be removed in v6.0.0. See https://github.com/optuna/optuna/releases/tag/v3.0.0. Use suggest_float(..., log=True) instead.\n",
            "  'learning_rate': trial.suggest_loguniform('learning_rate', 1e-3, 1e-1),\n",
            "<ipython-input-76-fd98ef0c2749>:11: FutureWarning: suggest_loguniform has been deprecated in v3.0.0. This feature will be removed in v6.0.0. See https://github.com/optuna/optuna/releases/tag/v3.0.0. Use suggest_float(..., log=True) instead.\n",
            "  'l2_leaf_reg':   trial.suggest_loguniform('l2_leaf_reg',  1e-1, 10.0),\n"
          ]
        },
        {
          "name": "stdout",
          "output_type": "stream",
          "text": [
            "[I 2025-06-09 20:26:48,216] Trial 11 finished with value: 0.9753105768352747 and parameters: {'iterations': 1409, 'learning_rate': 0.07507748096019781, 'depth': 9, 'l2_leaf_reg': 0.4384973286352567, 'border_count': 163}. Best is trial 11 with value: 0.9753105768352747.\n",
            "Completed 12/50 trials\n"
          ]
        },
        {
          "name": "stderr",
          "output_type": "stream",
          "text": [
            "<ipython-input-76-fd98ef0c2749>:9: FutureWarning: suggest_loguniform has been deprecated in v3.0.0. This feature will be removed in v6.0.0. See https://github.com/optuna/optuna/releases/tag/v3.0.0. Use suggest_float(..., log=True) instead.\n",
            "  'learning_rate': trial.suggest_loguniform('learning_rate', 1e-3, 1e-1),\n",
            "<ipython-input-76-fd98ef0c2749>:11: FutureWarning: suggest_loguniform has been deprecated in v3.0.0. This feature will be removed in v6.0.0. See https://github.com/optuna/optuna/releases/tag/v3.0.0. Use suggest_float(..., log=True) instead.\n",
            "  'l2_leaf_reg':   trial.suggest_loguniform('l2_leaf_reg',  1e-1, 10.0),\n"
          ]
        },
        {
          "name": "stdout",
          "output_type": "stream",
          "text": [
            "[I 2025-06-09 20:29:11,737] Trial 12 finished with value: 0.9734869408570316 and parameters: {'iterations': 1482, 'learning_rate': 0.029838837863391938, 'depth': 10, 'l2_leaf_reg': 0.3206651606720674, 'border_count': 255}. Best is trial 11 with value: 0.9753105768352747.\n",
            "Completed 13/50 trials\n"
          ]
        },
        {
          "name": "stderr",
          "output_type": "stream",
          "text": [
            "<ipython-input-76-fd98ef0c2749>:9: FutureWarning: suggest_loguniform has been deprecated in v3.0.0. This feature will be removed in v6.0.0. See https://github.com/optuna/optuna/releases/tag/v3.0.0. Use suggest_float(..., log=True) instead.\n",
            "  'learning_rate': trial.suggest_loguniform('learning_rate', 1e-3, 1e-1),\n",
            "<ipython-input-76-fd98ef0c2749>:11: FutureWarning: suggest_loguniform has been deprecated in v3.0.0. This feature will be removed in v6.0.0. See https://github.com/optuna/optuna/releases/tag/v3.0.0. Use suggest_float(..., log=True) instead.\n",
            "  'l2_leaf_reg':   trial.suggest_loguniform('l2_leaf_reg',  1e-1, 10.0),\n"
          ]
        },
        {
          "name": "stdout",
          "output_type": "stream",
          "text": [
            "[I 2025-06-09 20:31:26,913] Trial 13 finished with value: 0.970599470521169 and parameters: {'iterations': 1433, 'learning_rate': 0.02609448711677762, 'depth': 9, 'l2_leaf_reg': 0.6211807402138035, 'border_count': 254}. Best is trial 11 with value: 0.9753105768352747.\n",
            "Completed 14/50 trials\n"
          ]
        },
        {
          "name": "stderr",
          "output_type": "stream",
          "text": [
            "<ipython-input-76-fd98ef0c2749>:9: FutureWarning: suggest_loguniform has been deprecated in v3.0.0. This feature will be removed in v6.0.0. See https://github.com/optuna/optuna/releases/tag/v3.0.0. Use suggest_float(..., log=True) instead.\n",
            "  'learning_rate': trial.suggest_loguniform('learning_rate', 1e-3, 1e-1),\n",
            "<ipython-input-76-fd98ef0c2749>:11: FutureWarning: suggest_loguniform has been deprecated in v3.0.0. This feature will be removed in v6.0.0. See https://github.com/optuna/optuna/releases/tag/v3.0.0. Use suggest_float(..., log=True) instead.\n",
            "  'l2_leaf_reg':   trial.suggest_loguniform('l2_leaf_reg',  1e-1, 10.0),\n"
          ]
        },
        {
          "name": "stdout",
          "output_type": "stream",
          "text": [
            "[I 2025-06-09 20:33:44,938] Trial 14 finished with value: 0.9721425024965091 and parameters: {'iterations': 1813, 'learning_rate': 0.026195195281592698, 'depth': 9, 'l2_leaf_reg': 0.33479885798844344, 'border_count': 167}. Best is trial 11 with value: 0.9753105768352747.\n",
            "Completed 15/50 trials\n"
          ]
        },
        {
          "name": "stderr",
          "output_type": "stream",
          "text": [
            "<ipython-input-76-fd98ef0c2749>:9: FutureWarning: suggest_loguniform has been deprecated in v3.0.0. This feature will be removed in v6.0.0. See https://github.com/optuna/optuna/releases/tag/v3.0.0. Use suggest_float(..., log=True) instead.\n",
            "  'learning_rate': trial.suggest_loguniform('learning_rate', 1e-3, 1e-1),\n",
            "<ipython-input-76-fd98ef0c2749>:11: FutureWarning: suggest_loguniform has been deprecated in v3.0.0. This feature will be removed in v6.0.0. See https://github.com/optuna/optuna/releases/tag/v3.0.0. Use suggest_float(..., log=True) instead.\n",
            "  'l2_leaf_reg':   trial.suggest_loguniform('l2_leaf_reg',  1e-1, 10.0),\n"
          ]
        },
        {
          "name": "stdout",
          "output_type": "stream",
          "text": [
            "[I 2025-06-09 20:35:57,070] Trial 15 finished with value: 0.9725487709529811 and parameters: {'iterations': 1485, 'learning_rate': 0.03853774061073394, 'depth': 9, 'l2_leaf_reg': 1.269391642799333, 'border_count': 251}. Best is trial 11 with value: 0.9753105768352747.\n",
            "Completed 16/50 trials\n"
          ]
        },
        {
          "name": "stderr",
          "output_type": "stream",
          "text": [
            "<ipython-input-76-fd98ef0c2749>:9: FutureWarning: suggest_loguniform has been deprecated in v3.0.0. This feature will be removed in v6.0.0. See https://github.com/optuna/optuna/releases/tag/v3.0.0. Use suggest_float(..., log=True) instead.\n",
            "  'learning_rate': trial.suggest_loguniform('learning_rate', 1e-3, 1e-1),\n",
            "<ipython-input-76-fd98ef0c2749>:11: FutureWarning: suggest_loguniform has been deprecated in v3.0.0. This feature will be removed in v6.0.0. See https://github.com/optuna/optuna/releases/tag/v3.0.0. Use suggest_float(..., log=True) instead.\n",
            "  'l2_leaf_reg':   trial.suggest_loguniform('l2_leaf_reg',  1e-1, 10.0),\n"
          ]
        },
        {
          "name": "stdout",
          "output_type": "stream",
          "text": [
            "[I 2025-06-09 20:38:02,963] Trial 16 finished with value: 0.9721244177280112 and parameters: {'iterations': 1966, 'learning_rate': 0.09067100954159787, 'depth': 6, 'l2_leaf_reg': 0.10184798013153286, 'border_count': 116}. Best is trial 11 with value: 0.9753105768352747.\n",
            "Completed 17/50 trials\n"
          ]
        },
        {
          "name": "stderr",
          "output_type": "stream",
          "text": [
            "<ipython-input-76-fd98ef0c2749>:9: FutureWarning: suggest_loguniform has been deprecated in v3.0.0. This feature will be removed in v6.0.0. See https://github.com/optuna/optuna/releases/tag/v3.0.0. Use suggest_float(..., log=True) instead.\n",
            "  'learning_rate': trial.suggest_loguniform('learning_rate', 1e-3, 1e-1),\n",
            "<ipython-input-76-fd98ef0c2749>:11: FutureWarning: suggest_loguniform has been deprecated in v3.0.0. This feature will be removed in v6.0.0. See https://github.com/optuna/optuna/releases/tag/v3.0.0. Use suggest_float(..., log=True) instead.\n",
            "  'l2_leaf_reg':   trial.suggest_loguniform('l2_leaf_reg',  1e-1, 10.0),\n"
          ]
        },
        {
          "name": "stdout",
          "output_type": "stream",
          "text": [
            "[I 2025-06-09 20:40:07,880] Trial 17 finished with value: 0.9653429964704282 and parameters: {'iterations': 1298, 'learning_rate': 0.01385417924494549, 'depth': 9, 'l2_leaf_reg': 0.24383479406440461, 'border_count': 34}. Best is trial 11 with value: 0.9753105768352747.\n",
            "Completed 18/50 trials\n"
          ]
        },
        {
          "name": "stderr",
          "output_type": "stream",
          "text": [
            "<ipython-input-76-fd98ef0c2749>:9: FutureWarning: suggest_loguniform has been deprecated in v3.0.0. This feature will be removed in v6.0.0. See https://github.com/optuna/optuna/releases/tag/v3.0.0. Use suggest_float(..., log=True) instead.\n",
            "  'learning_rate': trial.suggest_loguniform('learning_rate', 1e-3, 1e-1),\n",
            "<ipython-input-76-fd98ef0c2749>:11: FutureWarning: suggest_loguniform has been deprecated in v3.0.0. This feature will be removed in v6.0.0. See https://github.com/optuna/optuna/releases/tag/v3.0.0. Use suggest_float(..., log=True) instead.\n",
            "  'l2_leaf_reg':   trial.suggest_loguniform('l2_leaf_reg',  1e-1, 10.0),\n"
          ]
        },
        {
          "name": "stdout",
          "output_type": "stream",
          "text": [
            "[I 2025-06-09 20:42:06,786] Trial 18 finished with value: 0.9388686385958526 and parameters: {'iterations': 1652, 'learning_rate': 0.005771784401360377, 'depth': 4, 'l2_leaf_reg': 0.6675842217226533, 'border_count': 177}. Best is trial 11 with value: 0.9753105768352747.\n",
            "Completed 19/50 trials\n"
          ]
        },
        {
          "name": "stderr",
          "output_type": "stream",
          "text": [
            "<ipython-input-76-fd98ef0c2749>:9: FutureWarning: suggest_loguniform has been deprecated in v3.0.0. This feature will be removed in v6.0.0. See https://github.com/optuna/optuna/releases/tag/v3.0.0. Use suggest_float(..., log=True) instead.\n",
            "  'learning_rate': trial.suggest_loguniform('learning_rate', 1e-3, 1e-1),\n",
            "<ipython-input-76-fd98ef0c2749>:11: FutureWarning: suggest_loguniform has been deprecated in v3.0.0. This feature will be removed in v6.0.0. See https://github.com/optuna/optuna/releases/tag/v3.0.0. Use suggest_float(..., log=True) instead.\n",
            "  'l2_leaf_reg':   trial.suggest_loguniform('l2_leaf_reg',  1e-1, 10.0),\n"
          ]
        },
        {
          "name": "stdout",
          "output_type": "stream",
          "text": [
            "[I 2025-06-09 20:44:15,525] Trial 19 finished with value: 0.9730904816935674 and parameters: {'iterations': 1260, 'learning_rate': 0.032373504845066826, 'depth': 10, 'l2_leaf_reg': 0.19100601212807106, 'border_count': 88}. Best is trial 11 with value: 0.9753105768352747.\n",
            "Completed 20/50 trials\n"
          ]
        },
        {
          "name": "stderr",
          "output_type": "stream",
          "text": [
            "<ipython-input-76-fd98ef0c2749>:9: FutureWarning: suggest_loguniform has been deprecated in v3.0.0. This feature will be removed in v6.0.0. See https://github.com/optuna/optuna/releases/tag/v3.0.0. Use suggest_float(..., log=True) instead.\n",
            "  'learning_rate': trial.suggest_loguniform('learning_rate', 1e-3, 1e-1),\n",
            "<ipython-input-76-fd98ef0c2749>:11: FutureWarning: suggest_loguniform has been deprecated in v3.0.0. This feature will be removed in v6.0.0. See https://github.com/optuna/optuna/releases/tag/v3.0.0. Use suggest_float(..., log=True) instead.\n",
            "  'l2_leaf_reg':   trial.suggest_loguniform('l2_leaf_reg',  1e-1, 10.0),\n"
          ]
        },
        {
          "name": "stdout",
          "output_type": "stream",
          "text": [
            "[I 2025-06-09 20:46:20,678] Trial 20 finished with value: 0.9731619520487023 and parameters: {'iterations': 1640, 'learning_rate': 0.09584154923542924, 'depth': 7, 'l2_leaf_reg': 1.5585592815893763, 'border_count': 186}. Best is trial 11 with value: 0.9753105768352747.\n",
            "Completed 21/50 trials\n"
          ]
        },
        {
          "name": "stderr",
          "output_type": "stream",
          "text": [
            "<ipython-input-76-fd98ef0c2749>:9: FutureWarning: suggest_loguniform has been deprecated in v3.0.0. This feature will be removed in v6.0.0. See https://github.com/optuna/optuna/releases/tag/v3.0.0. Use suggest_float(..., log=True) instead.\n",
            "  'learning_rate': trial.suggest_loguniform('learning_rate', 1e-3, 1e-1),\n",
            "<ipython-input-76-fd98ef0c2749>:11: FutureWarning: suggest_loguniform has been deprecated in v3.0.0. This feature will be removed in v6.0.0. See https://github.com/optuna/optuna/releases/tag/v3.0.0. Use suggest_float(..., log=True) instead.\n",
            "  'l2_leaf_reg':   trial.suggest_loguniform('l2_leaf_reg',  1e-1, 10.0),\n"
          ]
        },
        {
          "name": "stdout",
          "output_type": "stream",
          "text": [
            "[I 2025-06-09 20:48:27,045] Trial 21 finished with value: 0.9732374070240217 and parameters: {'iterations': 1620, 'learning_rate': 0.09547871001640416, 'depth': 7, 'l2_leaf_reg': 1.4571768207001883, 'border_count': 134}. Best is trial 11 with value: 0.9753105768352747.\n",
            "Completed 22/50 trials\n"
          ]
        },
        {
          "name": "stderr",
          "output_type": "stream",
          "text": [
            "<ipython-input-76-fd98ef0c2749>:9: FutureWarning: suggest_loguniform has been deprecated in v3.0.0. This feature will be removed in v6.0.0. See https://github.com/optuna/optuna/releases/tag/v3.0.0. Use suggest_float(..., log=True) instead.\n",
            "  'learning_rate': trial.suggest_loguniform('learning_rate', 1e-3, 1e-1),\n",
            "<ipython-input-76-fd98ef0c2749>:11: FutureWarning: suggest_loguniform has been deprecated in v3.0.0. This feature will be removed in v6.0.0. See https://github.com/optuna/optuna/releases/tag/v3.0.0. Use suggest_float(..., log=True) instead.\n",
            "  'l2_leaf_reg':   trial.suggest_loguniform('l2_leaf_reg',  1e-1, 10.0),\n"
          ]
        },
        {
          "name": "stdout",
          "output_type": "stream",
          "text": [
            "[I 2025-06-09 20:50:24,562] Trial 22 finished with value: 0.9687785603145761 and parameters: {'iterations': 1630, 'learning_rate': 0.04975375012425441, 'depth': 6, 'l2_leaf_reg': 0.44839096506872017, 'border_count': 122}. Best is trial 11 with value: 0.9753105768352747.\n",
            "Completed 23/50 trials\n"
          ]
        },
        {
          "name": "stderr",
          "output_type": "stream",
          "text": [
            "<ipython-input-76-fd98ef0c2749>:9: FutureWarning: suggest_loguniform has been deprecated in v3.0.0. This feature will be removed in v6.0.0. See https://github.com/optuna/optuna/releases/tag/v3.0.0. Use suggest_float(..., log=True) instead.\n",
            "  'learning_rate': trial.suggest_loguniform('learning_rate', 1e-3, 1e-1),\n",
            "<ipython-input-76-fd98ef0c2749>:11: FutureWarning: suggest_loguniform has been deprecated in v3.0.0. This feature will be removed in v6.0.0. See https://github.com/optuna/optuna/releases/tag/v3.0.0. Use suggest_float(..., log=True) instead.\n",
            "  'l2_leaf_reg':   trial.suggest_loguniform('l2_leaf_reg',  1e-1, 10.0),\n"
          ]
        },
        {
          "name": "stdout",
          "output_type": "stream",
          "text": [
            "[I 2025-06-09 20:52:30,917] Trial 23 finished with value: 0.9712682079684622 and parameters: {'iterations': 1374, 'learning_rate': 0.04405446375618561, 'depth': 8, 'l2_leaf_reg': 0.790591886550012, 'border_count': 145}. Best is trial 11 with value: 0.9753105768352747.\n",
            "Completed 24/50 trials\n"
          ]
        },
        {
          "name": "stderr",
          "output_type": "stream",
          "text": [
            "<ipython-input-76-fd98ef0c2749>:9: FutureWarning: suggest_loguniform has been deprecated in v3.0.0. This feature will be removed in v6.0.0. See https://github.com/optuna/optuna/releases/tag/v3.0.0. Use suggest_float(..., log=True) instead.\n",
            "  'learning_rate': trial.suggest_loguniform('learning_rate', 1e-3, 1e-1),\n",
            "<ipython-input-76-fd98ef0c2749>:11: FutureWarning: suggest_loguniform has been deprecated in v3.0.0. This feature will be removed in v6.0.0. See https://github.com/optuna/optuna/releases/tag/v3.0.0. Use suggest_float(..., log=True) instead.\n",
            "  'l2_leaf_reg':   trial.suggest_loguniform('l2_leaf_reg',  1e-1, 10.0),\n"
          ]
        },
        {
          "name": "stdout",
          "output_type": "stream",
          "text": [
            "[I 2025-06-09 20:54:49,899] Trial 24 finished with value: 0.9707825235335188 and parameters: {'iterations': 1975, 'learning_rate': 0.01903246088385196, 'depth': 9, 'l2_leaf_reg': 0.4342761008102991, 'border_count': 105}. Best is trial 11 with value: 0.9753105768352747.\n",
            "Completed 25/50 trials\n"
          ]
        },
        {
          "name": "stderr",
          "output_type": "stream",
          "text": [
            "<ipython-input-76-fd98ef0c2749>:9: FutureWarning: suggest_loguniform has been deprecated in v3.0.0. This feature will be removed in v6.0.0. See https://github.com/optuna/optuna/releases/tag/v3.0.0. Use suggest_float(..., log=True) instead.\n",
            "  'learning_rate': trial.suggest_loguniform('learning_rate', 1e-3, 1e-1),\n",
            "<ipython-input-76-fd98ef0c2749>:11: FutureWarning: suggest_loguniform has been deprecated in v3.0.0. This feature will be removed in v6.0.0. See https://github.com/optuna/optuna/releases/tag/v3.0.0. Use suggest_float(..., log=True) instead.\n",
            "  'l2_leaf_reg':   trial.suggest_loguniform('l2_leaf_reg',  1e-1, 10.0),\n"
          ]
        },
        {
          "name": "stdout",
          "output_type": "stream",
          "text": [
            "[I 2025-06-09 20:56:59,751] Trial 25 finished with value: 0.9752447899125669 and parameters: {'iterations': 1228, 'learning_rate': 0.060834192089691166, 'depth': 10, 'l2_leaf_reg': 1.656688131759572, 'border_count': 71}. Best is trial 11 with value: 0.9753105768352747.\n",
            "Completed 26/50 trials\n"
          ]
        },
        {
          "name": "stderr",
          "output_type": "stream",
          "text": [
            "<ipython-input-76-fd98ef0c2749>:9: FutureWarning: suggest_loguniform has been deprecated in v3.0.0. This feature will be removed in v6.0.0. See https://github.com/optuna/optuna/releases/tag/v3.0.0. Use suggest_float(..., log=True) instead.\n",
            "  'learning_rate': trial.suggest_loguniform('learning_rate', 1e-3, 1e-1),\n",
            "<ipython-input-76-fd98ef0c2749>:11: FutureWarning: suggest_loguniform has been deprecated in v3.0.0. This feature will be removed in v6.0.0. See https://github.com/optuna/optuna/releases/tag/v3.0.0. Use suggest_float(..., log=True) instead.\n",
            "  'l2_leaf_reg':   trial.suggest_loguniform('l2_leaf_reg',  1e-1, 10.0),\n"
          ]
        },
        {
          "name": "stdout",
          "output_type": "stream",
          "text": [
            "[I 2025-06-09 20:59:06,233] Trial 26 finished with value: 0.9724765878048635 and parameters: {'iterations': 1193, 'learning_rate': 0.03374828207135106, 'depth': 10, 'l2_leaf_reg': 1.9329833726608279, 'border_count': 56}. Best is trial 11 with value: 0.9753105768352747.\n",
            "Completed 27/50 trials\n"
          ]
        },
        {
          "name": "stderr",
          "output_type": "stream",
          "text": [
            "<ipython-input-76-fd98ef0c2749>:9: FutureWarning: suggest_loguniform has been deprecated in v3.0.0. This feature will be removed in v6.0.0. See https://github.com/optuna/optuna/releases/tag/v3.0.0. Use suggest_float(..., log=True) instead.\n",
            "  'learning_rate': trial.suggest_loguniform('learning_rate', 1e-3, 1e-1),\n",
            "<ipython-input-76-fd98ef0c2749>:11: FutureWarning: suggest_loguniform has been deprecated in v3.0.0. This feature will be removed in v6.0.0. See https://github.com/optuna/optuna/releases/tag/v3.0.0. Use suggest_float(..., log=True) instead.\n",
            "  'l2_leaf_reg':   trial.suggest_loguniform('l2_leaf_reg',  1e-1, 10.0),\n"
          ]
        },
        {
          "name": "stdout",
          "output_type": "stream",
          "text": [
            "[I 2025-06-09 21:01:04,130] Trial 27 finished with value: 0.9739560452381384 and parameters: {'iterations': 804, 'learning_rate': 0.06436711718894453, 'depth': 10, 'l2_leaf_reg': 0.550370366785674, 'border_count': 64}. Best is trial 11 with value: 0.9753105768352747.\n",
            "Completed 28/50 trials\n"
          ]
        },
        {
          "name": "stderr",
          "output_type": "stream",
          "text": [
            "<ipython-input-76-fd98ef0c2749>:9: FutureWarning: suggest_loguniform has been deprecated in v3.0.0. This feature will be removed in v6.0.0. See https://github.com/optuna/optuna/releases/tag/v3.0.0. Use suggest_float(..., log=True) instead.\n",
            "  'learning_rate': trial.suggest_loguniform('learning_rate', 1e-3, 1e-1),\n",
            "<ipython-input-76-fd98ef0c2749>:11: FutureWarning: suggest_loguniform has been deprecated in v3.0.0. This feature will be removed in v6.0.0. See https://github.com/optuna/optuna/releases/tag/v3.0.0. Use suggest_float(..., log=True) instead.\n",
            "  'l2_leaf_reg':   trial.suggest_loguniform('l2_leaf_reg',  1e-1, 10.0),\n"
          ]
        },
        {
          "name": "stdout",
          "output_type": "stream",
          "text": [
            "[I 2025-06-09 21:03:04,898] Trial 28 finished with value: 0.9721115506788972 and parameters: {'iterations': 851, 'learning_rate': 0.06111847298169338, 'depth': 9, 'l2_leaf_reg': 1.1379974404281454, 'border_count': 71}. Best is trial 11 with value: 0.9753105768352747.\n",
            "Completed 29/50 trials\n"
          ]
        },
        {
          "name": "stderr",
          "output_type": "stream",
          "text": [
            "<ipython-input-76-fd98ef0c2749>:9: FutureWarning: suggest_loguniform has been deprecated in v3.0.0. This feature will be removed in v6.0.0. See https://github.com/optuna/optuna/releases/tag/v3.0.0. Use suggest_float(..., log=True) instead.\n",
            "  'learning_rate': trial.suggest_loguniform('learning_rate', 1e-3, 1e-1),\n",
            "<ipython-input-76-fd98ef0c2749>:11: FutureWarning: suggest_loguniform has been deprecated in v3.0.0. This feature will be removed in v6.0.0. See https://github.com/optuna/optuna/releases/tag/v3.0.0. Use suggest_float(..., log=True) instead.\n",
            "  'l2_leaf_reg':   trial.suggest_loguniform('l2_leaf_reg',  1e-1, 10.0),\n"
          ]
        },
        {
          "name": "stdout",
          "output_type": "stream",
          "text": [
            "[I 2025-06-09 21:05:00,572] Trial 29 finished with value: 0.9701483032571169 and parameters: {'iterations': 804, 'learning_rate': 0.06536006944515255, 'depth': 8, 'l2_leaf_reg': 3.2250355532255286, 'border_count': 35}. Best is trial 11 with value: 0.9753105768352747.\n",
            "Completed 30/50 trials\n"
          ]
        },
        {
          "name": "stderr",
          "output_type": "stream",
          "text": [
            "<ipython-input-76-fd98ef0c2749>:9: FutureWarning: suggest_loguniform has been deprecated in v3.0.0. This feature will be removed in v6.0.0. See https://github.com/optuna/optuna/releases/tag/v3.0.0. Use suggest_float(..., log=True) instead.\n",
            "  'learning_rate': trial.suggest_loguniform('learning_rate', 1e-3, 1e-1),\n",
            "<ipython-input-76-fd98ef0c2749>:11: FutureWarning: suggest_loguniform has been deprecated in v3.0.0. This feature will be removed in v6.0.0. See https://github.com/optuna/optuna/releases/tag/v3.0.0. Use suggest_float(..., log=True) instead.\n",
            "  'l2_leaf_reg':   trial.suggest_loguniform('l2_leaf_reg',  1e-1, 10.0),\n"
          ]
        },
        {
          "name": "stdout",
          "output_type": "stream",
          "text": [
            "[I 2025-06-09 21:07:08,034] Trial 30 finished with value: 0.9757117358337396 and parameters: {'iterations': 1095, 'learning_rate': 0.07266657130093704, 'depth': 10, 'l2_leaf_reg': 0.6019354473842541, 'border_count': 64}. Best is trial 30 with value: 0.9757117358337396.\n",
            "Completed 31/50 trials\n"
          ]
        },
        {
          "name": "stderr",
          "output_type": "stream",
          "text": [
            "<ipython-input-76-fd98ef0c2749>:9: FutureWarning: suggest_loguniform has been deprecated in v3.0.0. This feature will be removed in v6.0.0. See https://github.com/optuna/optuna/releases/tag/v3.0.0. Use suggest_float(..., log=True) instead.\n",
            "  'learning_rate': trial.suggest_loguniform('learning_rate', 1e-3, 1e-1),\n",
            "<ipython-input-76-fd98ef0c2749>:11: FutureWarning: suggest_loguniform has been deprecated in v3.0.0. This feature will be removed in v6.0.0. See https://github.com/optuna/optuna/releases/tag/v3.0.0. Use suggest_float(..., log=True) instead.\n",
            "  'l2_leaf_reg':   trial.suggest_loguniform('l2_leaf_reg',  1e-1, 10.0),\n"
          ]
        },
        {
          "name": "stdout",
          "output_type": "stream",
          "text": [
            "[I 2025-06-09 21:09:14,316] Trial 31 finished with value: 0.9757774863329696 and parameters: {'iterations': 1070, 'learning_rate': 0.07735234848463282, 'depth': 10, 'l2_leaf_reg': 0.6838839971187296, 'border_count': 68}. Best is trial 31 with value: 0.9757774863329696.\n",
            "Completed 32/50 trials\n"
          ]
        },
        {
          "name": "stderr",
          "output_type": "stream",
          "text": [
            "<ipython-input-76-fd98ef0c2749>:9: FutureWarning: suggest_loguniform has been deprecated in v3.0.0. This feature will be removed in v6.0.0. See https://github.com/optuna/optuna/releases/tag/v3.0.0. Use suggest_float(..., log=True) instead.\n",
            "  'learning_rate': trial.suggest_loguniform('learning_rate', 1e-3, 1e-1),\n",
            "<ipython-input-76-fd98ef0c2749>:11: FutureWarning: suggest_loguniform has been deprecated in v3.0.0. This feature will be removed in v6.0.0. See https://github.com/optuna/optuna/releases/tag/v3.0.0. Use suggest_float(..., log=True) instead.\n",
            "  'l2_leaf_reg':   trial.suggest_loguniform('l2_leaf_reg',  1e-1, 10.0),\n"
          ]
        },
        {
          "name": "stdout",
          "output_type": "stream",
          "text": [
            "[I 2025-06-09 21:11:22,594] Trial 32 finished with value: 0.9757192636393406 and parameters: {'iterations': 1067, 'learning_rate': 0.07922260579224072, 'depth': 10, 'l2_leaf_reg': 0.915836000607512, 'border_count': 70}. Best is trial 31 with value: 0.9757774863329696.\n",
            "Completed 33/50 trials\n"
          ]
        },
        {
          "name": "stderr",
          "output_type": "stream",
          "text": [
            "<ipython-input-76-fd98ef0c2749>:9: FutureWarning: suggest_loguniform has been deprecated in v3.0.0. This feature will be removed in v6.0.0. See https://github.com/optuna/optuna/releases/tag/v3.0.0. Use suggest_float(..., log=True) instead.\n",
            "  'learning_rate': trial.suggest_loguniform('learning_rate', 1e-3, 1e-1),\n",
            "<ipython-input-76-fd98ef0c2749>:11: FutureWarning: suggest_loguniform has been deprecated in v3.0.0. This feature will be removed in v6.0.0. See https://github.com/optuna/optuna/releases/tag/v3.0.0. Use suggest_float(..., log=True) instead.\n",
            "  'l2_leaf_reg':   trial.suggest_loguniform('l2_leaf_reg',  1e-1, 10.0),\n"
          ]
        },
        {
          "name": "stdout",
          "output_type": "stream",
          "text": [
            "[I 2025-06-09 21:13:23,709] Trial 33 finished with value: 0.9744417849348082 and parameters: {'iterations': 1063, 'learning_rate': 0.08230420640908635, 'depth': 9, 'l2_leaf_reg': 0.9508332084077011, 'border_count': 46}. Best is trial 31 with value: 0.9757774863329696.\n",
            "Completed 34/50 trials\n"
          ]
        },
        {
          "name": "stderr",
          "output_type": "stream",
          "text": [
            "<ipython-input-76-fd98ef0c2749>:9: FutureWarning: suggest_loguniform has been deprecated in v3.0.0. This feature will be removed in v6.0.0. See https://github.com/optuna/optuna/releases/tag/v3.0.0. Use suggest_float(..., log=True) instead.\n",
            "  'learning_rate': trial.suggest_loguniform('learning_rate', 1e-3, 1e-1),\n",
            "<ipython-input-76-fd98ef0c2749>:11: FutureWarning: suggest_loguniform has been deprecated in v3.0.0. This feature will be removed in v6.0.0. See https://github.com/optuna/optuna/releases/tag/v3.0.0. Use suggest_float(..., log=True) instead.\n",
            "  'l2_leaf_reg':   trial.suggest_loguniform('l2_leaf_reg',  1e-1, 10.0),\n"
          ]
        },
        {
          "name": "stdout",
          "output_type": "stream",
          "text": [
            "[I 2025-06-09 21:15:31,316] Trial 34 finished with value: 0.9738587224380378 and parameters: {'iterations': 1087, 'learning_rate': 0.04633856464636195, 'depth': 10, 'l2_leaf_reg': 0.7729606149625253, 'border_count': 79}. Best is trial 31 with value: 0.9757774863329696.\n",
            "Completed 35/50 trials\n"
          ]
        },
        {
          "name": "stderr",
          "output_type": "stream",
          "text": [
            "<ipython-input-76-fd98ef0c2749>:9: FutureWarning: suggest_loguniform has been deprecated in v3.0.0. This feature will be removed in v6.0.0. See https://github.com/optuna/optuna/releases/tag/v3.0.0. Use suggest_float(..., log=True) instead.\n",
            "  'learning_rate': trial.suggest_loguniform('learning_rate', 1e-3, 1e-1),\n",
            "<ipython-input-76-fd98ef0c2749>:11: FutureWarning: suggest_loguniform has been deprecated in v3.0.0. This feature will be removed in v6.0.0. See https://github.com/optuna/optuna/releases/tag/v3.0.0. Use suggest_float(..., log=True) instead.\n",
            "  'l2_leaf_reg':   trial.suggest_loguniform('l2_leaf_reg',  1e-1, 10.0),\n"
          ]
        },
        {
          "name": "stdout",
          "output_type": "stream",
          "text": [
            "[I 2025-06-09 21:17:37,665] Trial 35 finished with value: 0.9753660535736218 and parameters: {'iterations': 972, 'learning_rate': 0.07270379675851085, 'depth': 10, 'l2_leaf_reg': 0.2388970859944317, 'border_count': 101}. Best is trial 31 with value: 0.9757774863329696.\n",
            "Completed 36/50 trials\n"
          ]
        },
        {
          "name": "stderr",
          "output_type": "stream",
          "text": [
            "<ipython-input-76-fd98ef0c2749>:9: FutureWarning: suggest_loguniform has been deprecated in v3.0.0. This feature will be removed in v6.0.0. See https://github.com/optuna/optuna/releases/tag/v3.0.0. Use suggest_float(..., log=True) instead.\n",
            "  'learning_rate': trial.suggest_loguniform('learning_rate', 1e-3, 1e-1),\n",
            "<ipython-input-76-fd98ef0c2749>:11: FutureWarning: suggest_loguniform has been deprecated in v3.0.0. This feature will be removed in v6.0.0. See https://github.com/optuna/optuna/releases/tag/v3.0.0. Use suggest_float(..., log=True) instead.\n",
            "  'l2_leaf_reg':   trial.suggest_loguniform('l2_leaf_reg',  1e-1, 10.0),\n"
          ]
        },
        {
          "name": "stdout",
          "output_type": "stream",
          "text": [
            "[I 2025-06-09 21:19:41,280] Trial 36 finished with value: 0.9735662207725391 and parameters: {'iterations': 972, 'learning_rate': 0.047031409401739714, 'depth': 10, 'l2_leaf_reg': 0.21314355335430682, 'border_count': 102}. Best is trial 31 with value: 0.9757774863329696.\n",
            "Completed 37/50 trials\n"
          ]
        },
        {
          "name": "stderr",
          "output_type": "stream",
          "text": [
            "<ipython-input-76-fd98ef0c2749>:9: FutureWarning: suggest_loguniform has been deprecated in v3.0.0. This feature will be removed in v6.0.0. See https://github.com/optuna/optuna/releases/tag/v3.0.0. Use suggest_float(..., log=True) instead.\n",
            "  'learning_rate': trial.suggest_loguniform('learning_rate', 1e-3, 1e-1),\n",
            "<ipython-input-76-fd98ef0c2749>:11: FutureWarning: suggest_loguniform has been deprecated in v3.0.0. This feature will be removed in v6.0.0. See https://github.com/optuna/optuna/releases/tag/v3.0.0. Use suggest_float(..., log=True) instead.\n",
            "  'l2_leaf_reg':   trial.suggest_loguniform('l2_leaf_reg',  1e-1, 10.0),\n"
          ]
        },
        {
          "name": "stdout",
          "output_type": "stream",
          "text": [
            "[I 2025-06-09 21:21:42,253] Trial 37 finished with value: 0.9627096504893334 and parameters: {'iterations': 694, 'learning_rate': 0.015451981263015415, 'depth': 10, 'l2_leaf_reg': 0.3576463111902233, 'border_count': 81}. Best is trial 31 with value: 0.9757774863329696.\n",
            "Completed 38/50 trials\n"
          ]
        },
        {
          "name": "stderr",
          "output_type": "stream",
          "text": [
            "<ipython-input-76-fd98ef0c2749>:9: FutureWarning: suggest_loguniform has been deprecated in v3.0.0. This feature will be removed in v6.0.0. See https://github.com/optuna/optuna/releases/tag/v3.0.0. Use suggest_float(..., log=True) instead.\n",
            "  'learning_rate': trial.suggest_loguniform('learning_rate', 1e-3, 1e-1),\n",
            "<ipython-input-76-fd98ef0c2749>:11: FutureWarning: suggest_loguniform has been deprecated in v3.0.0. This feature will be removed in v6.0.0. See https://github.com/optuna/optuna/releases/tag/v3.0.0. Use suggest_float(..., log=True) instead.\n",
            "  'l2_leaf_reg':   trial.suggest_loguniform('l2_leaf_reg',  1e-1, 10.0),\n"
          ]
        },
        {
          "name": "stdout",
          "output_type": "stream",
          "text": [
            "[I 2025-06-09 21:23:40,050] Trial 38 finished with value: 0.9565265273613036 and parameters: {'iterations': 1164, 'learning_rate': 0.00866364982342215, 'depth': 8, 'l2_leaf_reg': 0.27233715399068165, 'border_count': 101}. Best is trial 31 with value: 0.9757774863329696.\n",
            "Completed 39/50 trials\n"
          ]
        },
        {
          "name": "stderr",
          "output_type": "stream",
          "text": [
            "<ipython-input-76-fd98ef0c2749>:9: FutureWarning: suggest_loguniform has been deprecated in v3.0.0. This feature will be removed in v6.0.0. See https://github.com/optuna/optuna/releases/tag/v3.0.0. Use suggest_float(..., log=True) instead.\n",
            "  'learning_rate': trial.suggest_loguniform('learning_rate', 1e-3, 1e-1),\n",
            "<ipython-input-76-fd98ef0c2749>:11: FutureWarning: suggest_loguniform has been deprecated in v3.0.0. This feature will be removed in v6.0.0. See https://github.com/optuna/optuna/releases/tag/v3.0.0. Use suggest_float(..., log=True) instead.\n",
            "  'l2_leaf_reg':   trial.suggest_loguniform('l2_leaf_reg',  1e-1, 10.0),\n"
          ]
        },
        {
          "name": "stdout",
          "output_type": "stream",
          "text": [
            "[I 2025-06-09 21:25:44,534] Trial 39 finished with value: 0.975910626376604 and parameters: {'iterations': 1024, 'learning_rate': 0.0775568966086865, 'depth': 10, 'l2_leaf_reg': 0.14950683898144593, 'border_count': 51}. Best is trial 39 with value: 0.975910626376604.\n",
            "Completed 40/50 trials\n"
          ]
        },
        {
          "name": "stderr",
          "output_type": "stream",
          "text": [
            "<ipython-input-76-fd98ef0c2749>:9: FutureWarning: suggest_loguniform has been deprecated in v3.0.0. This feature will be removed in v6.0.0. See https://github.com/optuna/optuna/releases/tag/v3.0.0. Use suggest_float(..., log=True) instead.\n",
            "  'learning_rate': trial.suggest_loguniform('learning_rate', 1e-3, 1e-1),\n",
            "<ipython-input-76-fd98ef0c2749>:11: FutureWarning: suggest_loguniform has been deprecated in v3.0.0. This feature will be removed in v6.0.0. See https://github.com/optuna/optuna/releases/tag/v3.0.0. Use suggest_float(..., log=True) instead.\n",
            "  'l2_leaf_reg':   trial.suggest_loguniform('l2_leaf_reg',  1e-1, 10.0),\n"
          ]
        },
        {
          "name": "stdout",
          "output_type": "stream",
          "text": [
            "[I 2025-06-09 21:27:37,461] Trial 40 finished with value: 0.9704901704968244 and parameters: {'iterations': 700, 'learning_rate': 0.05104210866994258, 'depth': 9, 'l2_leaf_reg': 0.14377330858890325, 'border_count': 51}. Best is trial 39 with value: 0.975910626376604.\n",
            "Completed 41/50 trials\n"
          ]
        },
        {
          "name": "stderr",
          "output_type": "stream",
          "text": [
            "<ipython-input-76-fd98ef0c2749>:9: FutureWarning: suggest_loguniform has been deprecated in v3.0.0. This feature will be removed in v6.0.0. See https://github.com/optuna/optuna/releases/tag/v3.0.0. Use suggest_float(..., log=True) instead.\n",
            "  'learning_rate': trial.suggest_loguniform('learning_rate', 1e-3, 1e-1),\n",
            "<ipython-input-76-fd98ef0c2749>:11: FutureWarning: suggest_loguniform has been deprecated in v3.0.0. This feature will be removed in v6.0.0. See https://github.com/optuna/optuna/releases/tag/v3.0.0. Use suggest_float(..., log=True) instead.\n",
            "  'l2_leaf_reg':   trial.suggest_loguniform('l2_leaf_reg',  1e-1, 10.0),\n"
          ]
        },
        {
          "name": "stdout",
          "output_type": "stream",
          "text": [
            "[I 2025-06-09 21:29:39,756] Trial 41 finished with value: 0.9758613995404795 and parameters: {'iterations': 1006, 'learning_rate': 0.07999278491193983, 'depth': 10, 'l2_leaf_reg': 0.10815230577894899, 'border_count': 62}. Best is trial 39 with value: 0.975910626376604.\n",
            "Completed 42/50 trials\n"
          ]
        },
        {
          "name": "stderr",
          "output_type": "stream",
          "text": [
            "<ipython-input-76-fd98ef0c2749>:9: FutureWarning: suggest_loguniform has been deprecated in v3.0.0. This feature will be removed in v6.0.0. See https://github.com/optuna/optuna/releases/tag/v3.0.0. Use suggest_float(..., log=True) instead.\n",
            "  'learning_rate': trial.suggest_loguniform('learning_rate', 1e-3, 1e-1),\n",
            "<ipython-input-76-fd98ef0c2749>:11: FutureWarning: suggest_loguniform has been deprecated in v3.0.0. This feature will be removed in v6.0.0. See https://github.com/optuna/optuna/releases/tag/v3.0.0. Use suggest_float(..., log=True) instead.\n",
            "  'l2_leaf_reg':   trial.suggest_loguniform('l2_leaf_reg',  1e-1, 10.0),\n"
          ]
        },
        {
          "name": "stdout",
          "output_type": "stream",
          "text": [
            "[I 2025-06-09 21:31:42,965] Trial 42 finished with value: 0.976332418021412 and parameters: {'iterations': 1003, 'learning_rate': 0.09702603811009403, 'depth': 10, 'l2_leaf_reg': 0.11642963038174498, 'border_count': 62}. Best is trial 42 with value: 0.976332418021412.\n",
            "Completed 43/50 trials\n"
          ]
        },
        {
          "name": "stderr",
          "output_type": "stream",
          "text": [
            "<ipython-input-76-fd98ef0c2749>:9: FutureWarning: suggest_loguniform has been deprecated in v3.0.0. This feature will be removed in v6.0.0. See https://github.com/optuna/optuna/releases/tag/v3.0.0. Use suggest_float(..., log=True) instead.\n",
            "  'learning_rate': trial.suggest_loguniform('learning_rate', 1e-3, 1e-1),\n",
            "<ipython-input-76-fd98ef0c2749>:11: FutureWarning: suggest_loguniform has been deprecated in v3.0.0. This feature will be removed in v6.0.0. See https://github.com/optuna/optuna/releases/tag/v3.0.0. Use suggest_float(..., log=True) instead.\n",
            "  'l2_leaf_reg':   trial.suggest_loguniform('l2_leaf_reg',  1e-1, 10.0),\n"
          ]
        },
        {
          "name": "stdout",
          "output_type": "stream",
          "text": [
            "[I 2025-06-09 21:33:49,593] Trial 43 finished with value: 0.9404726539012225 and parameters: {'iterations': 1000, 'learning_rate': 0.003051827904549804, 'depth': 10, 'l2_leaf_reg': 0.10863770464012197, 'border_count': 47}. Best is trial 42 with value: 0.976332418021412.\n",
            "Completed 44/50 trials\n"
          ]
        },
        {
          "name": "stderr",
          "output_type": "stream",
          "text": [
            "<ipython-input-76-fd98ef0c2749>:9: FutureWarning: suggest_loguniform has been deprecated in v3.0.0. This feature will be removed in v6.0.0. See https://github.com/optuna/optuna/releases/tag/v3.0.0. Use suggest_float(..., log=True) instead.\n",
            "  'learning_rate': trial.suggest_loguniform('learning_rate', 1e-3, 1e-1),\n",
            "<ipython-input-76-fd98ef0c2749>:11: FutureWarning: suggest_loguniform has been deprecated in v3.0.0. This feature will be removed in v6.0.0. See https://github.com/optuna/optuna/releases/tag/v3.0.0. Use suggest_float(..., log=True) instead.\n",
            "  'l2_leaf_reg':   trial.suggest_loguniform('l2_leaf_reg',  1e-1, 10.0),\n"
          ]
        },
        {
          "name": "stdout",
          "output_type": "stream",
          "text": [
            "[I 2025-06-09 21:35:49,135] Trial 44 finished with value: 0.9757866961468815 and parameters: {'iterations': 902, 'learning_rate': 0.09640605750885138, 'depth': 10, 'l2_leaf_reg': 0.15618398526118735, 'border_count': 41}. Best is trial 42 with value: 0.976332418021412.\n",
            "Completed 45/50 trials\n"
          ]
        },
        {
          "name": "stderr",
          "output_type": "stream",
          "text": [
            "<ipython-input-76-fd98ef0c2749>:9: FutureWarning: suggest_loguniform has been deprecated in v3.0.0. This feature will be removed in v6.0.0. See https://github.com/optuna/optuna/releases/tag/v3.0.0. Use suggest_float(..., log=True) instead.\n",
            "  'learning_rate': trial.suggest_loguniform('learning_rate', 1e-3, 1e-1),\n",
            "<ipython-input-76-fd98ef0c2749>:11: FutureWarning: suggest_loguniform has been deprecated in v3.0.0. This feature will be removed in v6.0.0. See https://github.com/optuna/optuna/releases/tag/v3.0.0. Use suggest_float(..., log=True) instead.\n",
            "  'l2_leaf_reg':   trial.suggest_loguniform('l2_leaf_reg',  1e-1, 10.0),\n"
          ]
        },
        {
          "name": "stdout",
          "output_type": "stream",
          "text": [
            "[I 2025-06-09 21:37:38,797] Trial 45 finished with value: 0.9725168636160896 and parameters: {'iterations': 558, 'learning_rate': 0.0971356026781586, 'depth': 9, 'l2_leaf_reg': 0.17492916468984393, 'border_count': 33}. Best is trial 42 with value: 0.976332418021412.\n",
            "Completed 46/50 trials\n"
          ]
        },
        {
          "name": "stderr",
          "output_type": "stream",
          "text": [
            "<ipython-input-76-fd98ef0c2749>:9: FutureWarning: suggest_loguniform has been deprecated in v3.0.0. This feature will be removed in v6.0.0. See https://github.com/optuna/optuna/releases/tag/v3.0.0. Use suggest_float(..., log=True) instead.\n",
            "  'learning_rate': trial.suggest_loguniform('learning_rate', 1e-3, 1e-1),\n",
            "<ipython-input-76-fd98ef0c2749>:11: FutureWarning: suggest_loguniform has been deprecated in v3.0.0. This feature will be removed in v6.0.0. See https://github.com/optuna/optuna/releases/tag/v3.0.0. Use suggest_float(..., log=True) instead.\n",
            "  'l2_leaf_reg':   trial.suggest_loguniform('l2_leaf_reg',  1e-1, 10.0),\n"
          ]
        },
        {
          "name": "stdout",
          "output_type": "stream",
          "text": [
            "[I 2025-06-09 21:39:39,010] Trial 46 finished with value: 0.9736242939545555 and parameters: {'iterations': 862, 'learning_rate': 0.05366271987029253, 'depth': 10, 'l2_leaf_reg': 0.13840732554558305, 'border_count': 44}. Best is trial 42 with value: 0.976332418021412.\n",
            "Completed 47/50 trials\n"
          ]
        },
        {
          "name": "stderr",
          "output_type": "stream",
          "text": [
            "<ipython-input-76-fd98ef0c2749>:9: FutureWarning: suggest_loguniform has been deprecated in v3.0.0. This feature will be removed in v6.0.0. See https://github.com/optuna/optuna/releases/tag/v3.0.0. Use suggest_float(..., log=True) instead.\n",
            "  'learning_rate': trial.suggest_loguniform('learning_rate', 1e-3, 1e-1),\n",
            "<ipython-input-76-fd98ef0c2749>:11: FutureWarning: suggest_loguniform has been deprecated in v3.0.0. This feature will be removed in v6.0.0. See https://github.com/optuna/optuna/releases/tag/v3.0.0. Use suggest_float(..., log=True) instead.\n",
            "  'l2_leaf_reg':   trial.suggest_loguniform('l2_leaf_reg',  1e-1, 10.0),\n"
          ]
        },
        {
          "name": "stdout",
          "output_type": "stream",
          "text": [
            "[I 2025-06-09 21:41:32,931] Trial 47 finished with value: 0.9690879279036624 and parameters: {'iterations': 758, 'learning_rate': 0.03786686059686224, 'depth': 9, 'l2_leaf_reg': 0.12196983446485835, 'border_count': 54}. Best is trial 42 with value: 0.976332418021412.\n",
            "Completed 48/50 trials\n"
          ]
        },
        {
          "name": "stderr",
          "output_type": "stream",
          "text": [
            "<ipython-input-76-fd98ef0c2749>:9: FutureWarning: suggest_loguniform has been deprecated in v3.0.0. This feature will be removed in v6.0.0. See https://github.com/optuna/optuna/releases/tag/v3.0.0. Use suggest_float(..., log=True) instead.\n",
            "  'learning_rate': trial.suggest_loguniform('learning_rate', 1e-3, 1e-1),\n",
            "<ipython-input-76-fd98ef0c2749>:11: FutureWarning: suggest_loguniform has been deprecated in v3.0.0. This feature will be removed in v6.0.0. See https://github.com/optuna/optuna/releases/tag/v3.0.0. Use suggest_float(..., log=True) instead.\n",
            "  'l2_leaf_reg':   trial.suggest_loguniform('l2_leaf_reg',  1e-1, 10.0),\n"
          ]
        },
        {
          "name": "stdout",
          "output_type": "stream",
          "text": [
            "[I 2025-06-09 21:43:28,537] Trial 48 finished with value: 0.972501394130703 and parameters: {'iterations': 937, 'learning_rate': 0.08290389506989934, 'depth': 8, 'l2_leaf_reg': 0.15953870764500563, 'border_count': 80}. Best is trial 42 with value: 0.976332418021412.\n",
            "Completed 49/50 trials\n"
          ]
        },
        {
          "name": "stderr",
          "output_type": "stream",
          "text": [
            "<ipython-input-76-fd98ef0c2749>:9: FutureWarning: suggest_loguniform has been deprecated in v3.0.0. This feature will be removed in v6.0.0. See https://github.com/optuna/optuna/releases/tag/v3.0.0. Use suggest_float(..., log=True) instead.\n",
            "  'learning_rate': trial.suggest_loguniform('learning_rate', 1e-3, 1e-1),\n",
            "<ipython-input-76-fd98ef0c2749>:11: FutureWarning: suggest_loguniform has been deprecated in v3.0.0. This feature will be removed in v6.0.0. See https://github.com/optuna/optuna/releases/tag/v3.0.0. Use suggest_float(..., log=True) instead.\n",
            "  'l2_leaf_reg':   trial.suggest_loguniform('l2_leaf_reg',  1e-1, 10.0),\n"
          ]
        },
        {
          "name": "stdout",
          "output_type": "stream",
          "text": [
            "[I 2025-06-09 21:45:17,829] Trial 49 finished with value: 0.9659567978166884 and parameters: {'iterations': 890, 'learning_rate': 0.058065791489605396, 'depth': 6, 'l2_leaf_reg': 0.10120059493400048, 'border_count': 60}. Best is trial 42 with value: 0.976332418021412.\n",
            "Completed 50/50 trials\n",
            "Models saved to best_catboost_model.pkl and preprocessor.pkl\n",
            "Best R²: 0.976332418021412\n",
            "Best params: {'iterations': 1003, 'learning_rate': 0.09702603811009403, 'depth': 10, 'l2_leaf_reg': 0.11642963038174498, 'border_count': 62}\n"
          ]
        }
      ],
      "source": [
        "study = optuna.create_study(direction='maximize')\n",
        "study.optimize(\n",
        "    objective,\n",
        "    n_trials=N_TRIALS,\n",
        "    n_jobs=1,\n",
        "    show_progress_bar=True,\n",
        "    callbacks=[progress_cb]\n",
        ")\n",
        "\n",
        "best = study.best_params\n",
        "best.update({'task_type':'GPU','devices':devices,'gpu_ram_part':0.8,'random_seed':RANDOM_STATE,'verbose':False})\n",
        "final_model = CatBoostRegressor(**best)\n",
        "final_model.fit(X_train_proc, y_train, eval_set=(X_valid_proc, y_valid), early_stopping_rounds=N_TRIALS)\n",
        "\n",
        "joblib.dump(final_model, 'drive/MyDrive/ML_project/best_catboost_model_with_new_feature.pkl')\n",
        "joblib.dump(preprocessor, 'drive/MyDrive/ML_project/preprocessor_with_new_feature.pkl')\n",
        "print(\"Models saved to best_catboost_model.pkl and preprocessor.pkl\")\n",
        "\n",
        "print(\"Best R²:\", study.best_value)\n",
        "print(\"Best params:\", study.best_params)"
      ]
    },
    {
      "cell_type": "code",
      "execution_count": null,
      "metadata": {
        "colab": {
          "base_uri": "https://localhost:8080/"
        },
        "id": "Jy0NhhsksLYo",
        "outputId": "0b7f145c-ae34-43e8-a3a3-c2a43606adc2"
      },
      "outputs": [
        {
          "name": "stdout",
          "output_type": "stream",
          "text": [
            "                                  feature  importance\n",
            "0                           price_segment    7.623152\n",
            "1                              square_age    7.122948\n",
            "2                                     age    5.937525\n",
            "3                              auto_class    4.855481\n",
            "4                                   brand    4.328177\n",
            "5                                 log_age    4.168560\n",
            "6                            engine_power    4.054285\n",
            "7                              poly_age^2    3.746949\n",
            "8                       power_div_mileage    3.378812\n",
            "9                         increased_price    3.152598\n",
            "10                                  model    3.041229\n",
            "11                    square_engine_power    3.003338\n",
            "12                         mileage_per_hp    2.856217\n",
            "13                          power_to_disp    2.604378\n",
            "14                       log_engine_power    2.431910\n",
            "15                          disp_per_mile    2.376797\n",
            "16             square_engine_displacement    1.802366\n",
            "17                       power_minus_disp    1.739105\n",
            "18                              body_type    1.562055\n",
            "19  poly_engine_displacement engine_power    1.397439\n"
          ]
        }
      ],
      "source": [
        "num_feats = num_features\n",
        "ohe = preprocessor.named_transformers_['cat']\n",
        "cat_ohe_feats = list(ohe.get_feature_names_out(cat_features))\n",
        "\n",
        "feature_names = num_feats + cat_ohe_feats\n",
        "\n",
        "importances = final_model.get_feature_importance(type='FeatureImportance')\n",
        "\n",
        "imp_df = pd.DataFrame({\n",
        "    'feature':    feature_names,\n",
        "    'importance': importances\n",
        "})\n",
        "imp_df = imp_df.sort_values('importance', ascending=False).reset_index(drop=True)\n",
        "\n",
        "print(imp_df.head(20))"
      ]
    },
    {
      "cell_type": "code",
      "execution_count": null,
      "metadata": {
        "colab": {
          "base_uri": "https://localhost:8080/",
          "height": 607
        },
        "id": "FqsPbNMesiAV",
        "outputId": "4a490acc-ef15-4f96-8fb7-2c4c5053a6c7"
      },
      "outputs": [
        {
          "data": {
            "image/png": "[encoded data removed]",
            "text/plain": [
              "<Figure size 800x600 with 1 Axes>"
            ]
          },
          "metadata": {},
          "output_type": "display_data"
        }
      ],
      "source": [
        "import matplotlib.pyplot as plt\n",
        "\n",
        "top = imp_df.head(20)\n",
        "plt.figure(figsize=(8,6))\n",
        "plt.barh(top['feature'][::-1], top['importance'][::-1])\n",
        "plt.xlabel('Importance')\n",
        "plt.title('Top 20 Features')\n",
        "plt.tight_layout()\n",
        "plt.show()"
      ]
    },
    {
      "cell_type": "markdown",
      "metadata": {},
      "source": [
        "### Выводы"
      ]
    },
    {
      "cell_type": "markdown",
      "metadata": {},
      "source": [
        "$R^2 = 0.9763$"
      ]
    },
    {
      "cell_type": "code",
      "execution_count": null,
      "metadata": {},
      "outputs": [],
      "source": [
        "param = {\n",
        "    'iterations': 1003, \n",
        "    'learning_rate': 0.09702603811009403, \n",
        "    'depth': 10, \n",
        "    'l2_leaf_reg': 0.11642963038174498, \n",
        "    'border_count': 62\n",
        "}"
      ]
    }
  ],
  "metadata": {
    "accelerator": "GPU",
    "colab": {
      "gpuType": "T4",
      "provenance": []
    },
    "kernelspec": {
      "display_name": "Python 3",
      "name": "python3"
    },
    "language_info": {
      "name": "python"
    },
    "widgets": {
      "application/vnd.jupyter.widget-state+json": {
        "0ecb3f03ac214eaeb263de5309d877d2": {
          "model_module": "@jupyter-widgets/controls",
          "model_module_version": "1.5.0",
          "model_name": "DescriptionStyleModel",
          "state": {
            "_model_module": "@jupyter-widgets/controls",
            "_model_module_version": "1.5.0",
            "_model_name": "DescriptionStyleModel",
            "_view_count": null,
            "_view_module": "@jupyter-widgets/base",
            "_view_module_version": "1.2.0",
            "_view_name": "StyleView",
            "description_width": ""
          }
        },
        "43da6ebbebd544b481d22d524f989213": {
          "model_module": "@jupyter-widgets/controls",
          "model_module_version": "1.5.0",
          "model_name": "ProgressStyleModel",
          "state": {
            "_model_module": "@jupyter-widgets/controls",
            "_model_module_version": "1.5.0",
            "_model_name": "ProgressStyleModel",
            "_view_count": null,
            "_view_module": "@jupyter-widgets/base",
            "_view_module_version": "1.2.0",
            "_view_name": "StyleView",
            "bar_color": null,
            "description_width": ""
          }
        },
        "45c834b113df403cbb876413115b965a": {
          "model_module": "@jupyter-widgets/controls",
          "model_module_version": "1.5.0",
          "model_name": "FloatProgressModel",
          "state": {
            "_dom_classes": [],
            "_model_module": "@jupyter-widgets/controls",
            "_model_module_version": "1.5.0",
            "_model_name": "FloatProgressModel",
            "_view_count": null,
            "_view_module": "@jupyter-widgets/controls",
            "_view_module_version": "1.5.0",
            "_view_name": "ProgressView",
            "bar_style": "success",
            "description": "",
            "description_tooltip": null,
            "layout": "IPY_MODEL_a7a16fff8b3d4a76a1c3085622f94968",
            "max": 50,
            "min": 0,
            "orientation": "horizontal",
            "style": "IPY_MODEL_43da6ebbebd544b481d22d524f989213",
            "value": 50
          }
        },
        "4c86c77c9d0c4044a852f527b87fb5e2": {
          "model_module": "@jupyter-widgets/controls",
          "model_module_version": "1.5.0",
          "model_name": "HTMLModel",
          "state": {
            "_dom_classes": [],
            "_model_module": "@jupyter-widgets/controls",
            "_model_module_version": "1.5.0",
            "_model_name": "HTMLModel",
            "_view_count": null,
            "_view_module": "@jupyter-widgets/controls",
            "_view_module_version": "1.5.0",
            "_view_name": "HTMLView",
            "description": "",
            "description_tooltip": null,
            "layout": "IPY_MODEL_b7aeb22b9e0741c4a6713c176fc8b29f",
            "placeholder": "​",
            "style": "IPY_MODEL_94b332dbc2ab41ae8a8e833f5380d6dd",
            "value": "Best trial: 42. Best value: 0.976332: 100%"
          }
        },
        "60e109d3e35949bb8baf74af1a2f5f47": {
          "model_module": "@jupyter-widgets/controls",
          "model_module_version": "1.5.0",
          "model_name": "HTMLModel",
          "state": {
            "_dom_classes": [],
            "_model_module": "@jupyter-widgets/controls",
            "_model_module_version": "1.5.0",
            "_model_name": "HTMLModel",
            "_view_count": null,
            "_view_module": "@jupyter-widgets/controls",
            "_view_module_version": "1.5.0",
            "_view_name": "HTMLView",
            "description": "",
            "description_tooltip": null,
            "layout": "IPY_MODEL_839cb2872348474a8fb08a2d7d735351",
            "placeholder": "​",
            "style": "IPY_MODEL_0ecb3f03ac214eaeb263de5309d877d2",
            "value": " 50/50 [1:42:18&lt;00:00, 114.57s/it]"
          }
        },
        "839cb2872348474a8fb08a2d7d735351": {
          "model_module": "@jupyter-widgets/base",
          "model_module_version": "1.2.0",
          "model_name": "LayoutModel",
          "state": {
            "_model_module": "@jupyter-widgets/base",
            "_model_module_version": "1.2.0",
            "_model_name": "LayoutModel",
            "_view_count": null,
            "_view_module": "@jupyter-widgets/base",
            "_view_module_version": "1.2.0",
            "_view_name": "LayoutView",
            "align_content": null,
            "align_items": null,
            "align_self": null,
            "border": null,
            "bottom": null,
            "display": null,
            "flex": null,
            "flex_flow": null,
            "grid_area": null,
            "grid_auto_columns": null,
            "grid_auto_flow": null,
            "grid_auto_rows": null,
            "grid_column": null,
            "grid_gap": null,
            "grid_row": null,
            "grid_template_areas": null,
            "grid_template_columns": null,
            "grid_template_rows": null,
            "height": null,
            "justify_content": null,
            "justify_items": null,
            "left": null,
            "margin": null,
            "max_height": null,
            "max_width": null,
            "min_height": null,
            "min_width": null,
            "object_fit": null,
            "object_position": null,
            "order": null,
            "overflow": null,
            "overflow_x": null,
            "overflow_y": null,
            "padding": null,
            "right": null,
            "top": null,
            "visibility": null,
            "width": null
          }
        },
        "94b332dbc2ab41ae8a8e833f5380d6dd": {
          "model_module": "@jupyter-widgets/controls",
          "model_module_version": "1.5.0",
          "model_name": "DescriptionStyleModel",
          "state": {
            "_model_module": "@jupyter-widgets/controls",
            "_model_module_version": "1.5.0",
            "_model_name": "DescriptionStyleModel",
            "_view_count": null,
            "_view_module": "@jupyter-widgets/base",
            "_view_module_version": "1.2.0",
            "_view_name": "StyleView",
            "description_width": ""
          }
        },
        "a7a16fff8b3d4a76a1c3085622f94968": {
          "model_module": "@jupyter-widgets/base",
          "model_module_version": "1.2.0",
          "model_name": "LayoutModel",
          "state": {
            "_model_module": "@jupyter-widgets/base",
            "_model_module_version": "1.2.0",
            "_model_name": "LayoutModel",
            "_view_count": null,
            "_view_module": "@jupyter-widgets/base",
            "_view_module_version": "1.2.0",
            "_view_name": "LayoutView",
            "align_content": null,
            "align_items": null,
            "align_self": null,
            "border": null,
            "bottom": null,
            "display": null,
            "flex": null,
            "flex_flow": null,
            "grid_area": null,
            "grid_auto_columns": null,
            "grid_auto_flow": null,
            "grid_auto_rows": null,
            "grid_column": null,
            "grid_gap": null,
            "grid_row": null,
            "grid_template_areas": null,
            "grid_template_columns": null,
            "grid_template_rows": null,
            "height": null,
            "justify_content": null,
            "justify_items": null,
            "left": null,
            "margin": null,
            "max_height": null,
            "max_width": null,
            "min_height": null,
            "min_width": null,
            "object_fit": null,
            "object_position": null,
            "order": null,
            "overflow": null,
            "overflow_x": null,
            "overflow_y": null,
            "padding": null,
            "right": null,
            "top": null,
            "visibility": null,
            "width": null
          }
        },
        "a80de14adbab4d8ca4aa0a9d1dfea2c6": {
          "model_module": "@jupyter-widgets/controls",
          "model_module_version": "1.5.0",
          "model_name": "HBoxModel",
          "state": {
            "_dom_classes": [],
            "_model_module": "@jupyter-widgets/controls",
            "_model_module_version": "1.5.0",
            "_model_name": "HBoxModel",
            "_view_count": null,
            "_view_module": "@jupyter-widgets/controls",
            "_view_module_version": "1.5.0",
            "_view_name": "HBoxView",
            "box_style": "",
            "children": [
              "IPY_MODEL_4c86c77c9d0c4044a852f527b87fb5e2",
              "IPY_MODEL_45c834b113df403cbb876413115b965a",
              "IPY_MODEL_60e109d3e35949bb8baf74af1a2f5f47"
            ],
            "layout": "IPY_MODEL_ddf01534534642e2969189210124639f"
          }
        },
        "b7aeb22b9e0741c4a6713c176fc8b29f": {
          "model_module": "@jupyter-widgets/base",
          "model_module_version": "1.2.0",
          "model_name": "LayoutModel",
          "state": {
            "_model_module": "@jupyter-widgets/base",
            "_model_module_version": "1.2.0",
            "_model_name": "LayoutModel",
            "_view_count": null,
            "_view_module": "@jupyter-widgets/base",
            "_view_module_version": "1.2.0",
            "_view_name": "LayoutView",
            "align_content": null,
            "align_items": null,
            "align_self": null,
            "border": null,
            "bottom": null,
            "display": null,
            "flex": null,
            "flex_flow": null,
            "grid_area": null,
            "grid_auto_columns": null,
            "grid_auto_flow": null,
            "grid_auto_rows": null,
            "grid_column": null,
            "grid_gap": null,
            "grid_row": null,
            "grid_template_areas": null,
            "grid_template_columns": null,
            "grid_template_rows": null,
            "height": null,
            "justify_content": null,
            "justify_items": null,
            "left": null,
            "margin": null,
            "max_height": null,
            "max_width": null,
            "min_height": null,
            "min_width": null,
            "object_fit": null,
            "object_position": null,
            "order": null,
            "overflow": null,
            "overflow_x": null,
            "overflow_y": null,
            "padding": null,
            "right": null,
            "top": null,
            "visibility": null,
            "width": null
          }
        },
        "ddf01534534642e2969189210124639f": {
          "model_module": "@jupyter-widgets/base",
          "model_module_version": "1.2.0",
          "model_name": "LayoutModel",
          "state": {
            "_model_module": "@jupyter-widgets/base",
            "_model_module_version": "1.2.0",
            "_model_name": "LayoutModel",
            "_view_count": null,
            "_view_module": "@jupyter-widgets/base",
            "_view_module_version": "1.2.0",
            "_view_name": "LayoutView",
            "align_content": null,
            "align_items": null,
            "align_self": null,
            "border": null,
            "bottom": null,
            "display": null,
            "flex": null,
            "flex_flow": null,
            "grid_area": null,
            "grid_auto_columns": null,
            "grid_auto_flow": null,
            "grid_auto_rows": null,
            "grid_column": null,
            "grid_gap": null,
            "grid_row": null,
            "grid_template_areas": null,
            "grid_template_columns": null,
            "grid_template_rows": null,
            "height": null,
            "justify_content": null,
            "justify_items": null,
            "left": null,
            "margin": null,
            "max_height": null,
            "max_width": null,
            "min_height": null,
            "min_width": null,
            "object_fit": null,
            "object_position": null,
            "order": null,
            "overflow": null,
            "overflow_x": null,
            "overflow_y": null,
            "padding": null,
            "right": null,
            "top": null,
            "visibility": null,
            "width": null
          }
        }
      }
    }
  },
  "nbformat": 4,
  "nbformat_minor": 0
}
