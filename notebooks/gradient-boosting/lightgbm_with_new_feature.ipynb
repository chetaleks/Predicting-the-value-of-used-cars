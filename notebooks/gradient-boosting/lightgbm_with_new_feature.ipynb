{
  "cells": [
    {
      "cell_type": "code",
      "execution_count": 1,
      "metadata": {
        "id": "iKuriCcPe6Gi"
      },
      "outputs": [],
      "source": [
        "import pandas as pd\n",
        "import numpy as np\n",
        "import matplotlib.pyplot as plt\n",
        "import random\n",
        "import seaborn as sns"
      ]
    },
    {
      "cell_type": "code",
      "execution_count": 2,
      "metadata": {
        "colab": {
          "base_uri": "https://localhost:8080/"
        },
        "id": "Y9ZXl816ge50",
        "outputId": "4ba1099e-43b2-449a-afab-aadbcda0397c"
      },
      "outputs": [
        {
          "name": "stdout",
          "output_type": "stream",
          "text": [
            "Requirement already satisfied: gdown in /usr/local/lib/python3.11/dist-packages (5.2.0)\n",
            "Requirement already satisfied: beautifulsoup4 in /usr/local/lib/python3.11/dist-packages (from gdown) (4.13.4)\n",
            "Requirement already satisfied: filelock in /usr/local/lib/python3.11/dist-packages (from gdown) (3.18.0)\n",
            "Requirement already satisfied: requests[socks] in /usr/local/lib/python3.11/dist-packages (from gdown) (2.32.3)\n",
            "Requirement already satisfied: tqdm in /usr/local/lib/python3.11/dist-packages (from gdown) (4.67.1)\n",
            "Requirement already satisfied: soupsieve>1.2 in /usr/local/lib/python3.11/dist-packages (from beautifulsoup4->gdown) (2.7)\n",
            "Requirement already satisfied: typing-extensions>=4.0.0 in /usr/local/lib/python3.11/dist-packages (from beautifulsoup4->gdown) (4.14.0)\n",
            "Requirement already satisfied: charset-normalizer<4,>=2 in /usr/local/lib/python3.11/dist-packages (from requests[socks]->gdown) (3.4.2)\n",
            "Requirement already satisfied: idna<4,>=2.5 in /usr/local/lib/python3.11/dist-packages (from requests[socks]->gdown) (3.10)\n",
            "Requirement already satisfied: urllib3<3,>=1.21.1 in /usr/local/lib/python3.11/dist-packages (from requests[socks]->gdown) (2.4.0)\n",
            "Requirement already satisfied: certifi>=2017.4.17 in /usr/local/lib/python3.11/dist-packages (from requests[socks]->gdown) (2025.4.26)\n",
            "Requirement already satisfied: PySocks!=1.5.7,>=1.5.6 in /usr/local/lib/python3.11/dist-packages (from requests[socks]->gdown) (1.7.1)\n"
          ]
        }
      ],
      "source": [
        "%pip install gdown"
      ]
    },
    {
      "cell_type": "code",
      "execution_count": 3,
      "metadata": {
        "id": "-YumXIhGggJx"
      },
      "outputs": [],
      "source": [
        "RANDOM_STATE = 42"
      ]
    },
    {
      "cell_type": "code",
      "execution_count": 4,
      "metadata": {
        "colab": {
          "base_uri": "https://localhost:8080/"
        },
        "id": "4AzcUUWXghQ2",
        "outputId": "cd6283cf-3c82-401f-e67c-c75c8153c84d"
      },
      "outputs": [
        {
          "name": "stdout",
          "output_type": "stream",
          "text": [
            "/usr/local/lib/python3.11/dist-packages/gdown/__main__.py:140: FutureWarning: Option `--id` was deprecated in version 4.3.1 and will be removed in 5.0. You don't need to pass it anymore to use a file ID.\n",
            "  warnings.warn(\n",
            "Downloading...\n",
            "From (original): https://drive.google.com/uc?id=1liFEe1-yFISPSpRSvbv1wIH_avYNGmBI\n",
            "From (redirected): https://drive.google.com/uc?id=1liFEe1-yFISPSpRSvbv1wIH_avYNGmBI&confirm=t&uuid=b490bfb6-9aa9-4de3-8c93-7080a603ef2b\n",
            "To: /content/dataset.csv\n",
            "100% 1.01G/1.01G [00:09<00:00, 108MB/s]\n"
          ]
        }
      ],
      "source": [
        "CARS_FILE_ID = '1liFEe1-yFISPSpRSvbv1wIH_avYNGmBI'\n",
        "\n",
        "random.seed(RANDOM_STATE)\n",
        "np.random.seed(RANDOM_STATE)\n",
        "\n",
        "!gdown --id {CARS_FILE_ID}"
      ]
    },
    {
      "cell_type": "code",
      "execution_count": 5,
      "metadata": {
        "colab": {
          "base_uri": "https://localhost:8080/"
        },
        "id": "2y3VRIE1giVE",
        "outputId": "4106f104-648b-45c8-9c7c-2bdd5561fe98"
      },
      "outputs": [
        {
          "name": "stdout",
          "output_type": "stream",
          "text": [
            "(604047, 24)\n"
          ]
        }
      ],
      "source": [
        "df = pd.read_csv('dataset.csv')\n",
        "print(df.shape)"
      ]
    },
    {
      "cell_type": "code",
      "execution_count": 6,
      "metadata": {
        "colab": {
          "base_uri": "https://localhost:8080/",
          "height": 130
        },
        "id": "B0VL39uLgjaW",
        "outputId": "4eacd063-bc89-4f0e-e7ed-3ed05aa6c79a"
      },
      "outputs": [
        {
          "data": {
            "application/vnd.google.colaboratory.intrinsic+json": {
              "type": "dataframe",
              "variable_name": "df_with_na_column"
            },
            "text/html": [
              "\n",
              "  <div id=\"df-fc00f256-563b-4542-af3d-f01329bdd05a\" class=\"colab-df-container\">\n",
              "    <div>\n",
              "<style scoped>\n",
              "    .dataframe tbody tr th:only-of-type {\n",
              "        vertical-align: middle;\n",
              "    }\n",
              "\n",
              "    .dataframe tbody tr th {\n",
              "        vertical-align: top;\n",
              "    }\n",
              "\n",
              "    .dataframe thead th {\n",
              "        text-align: right;\n",
              "    }\n",
              "</style>\n",
              "<table border=\"1\" class=\"dataframe\">\n",
              "  <thead>\n",
              "    <tr style=\"text-align: right;\">\n",
              "      <th></th>\n",
              "      <th>production_year</th>\n",
              "      <th>mileage</th>\n",
              "      <th>condition</th>\n",
              "      <th>owners_number</th>\n",
              "      <th>pts_original</th>\n",
              "      <th>horse_power</th>\n",
              "      <th>accidents_resolution</th>\n",
              "      <th>region</th>\n",
              "      <th>seller_type</th>\n",
              "      <th>brand</th>\n",
              "      <th>...</th>\n",
              "      <th>engine_displacement</th>\n",
              "      <th>engine_power</th>\n",
              "      <th>fuel_rate</th>\n",
              "      <th>steering_wheel</th>\n",
              "      <th>price</th>\n",
              "      <th>price_segment</th>\n",
              "      <th>tags</th>\n",
              "      <th>auto_class</th>\n",
              "      <th>equipment</th>\n",
              "      <th>complectation_available_options</th>\n",
              "    </tr>\n",
              "  </thead>\n",
              "  <tbody>\n",
              "    <tr>\n",
              "      <th>210905</th>\n",
              "      <td>2003</td>\n",
              "      <td>175000</td>\n",
              "      <td>CONDITION_OK</td>\n",
              "      <td>0</td>\n",
              "      <td>True</td>\n",
              "      <td>NaN</td>\n",
              "      <td>NaN</td>\n",
              "      <td>Чебаркуль</td>\n",
              "      <td>PRIVATE</td>\n",
              "      <td>Hyundai</td>\n",
              "      <td>...</td>\n",
              "      <td>NaN</td>\n",
              "      <td>NaN</td>\n",
              "      <td>NaN</td>\n",
              "      <td>LEFT</td>\n",
              "      <td>380000</td>\n",
              "      <td>MEDIUM</td>\n",
              "      <td>available_for_checkup;pts_original;real_photo;...</td>\n",
              "      <td>NaN</td>\n",
              "      <td>seats-5</td>\n",
              "      <td>NaN</td>\n",
              "    </tr>\n",
              "  </tbody>\n",
              "</table>\n",
              "<p>1 rows × 24 columns</p>\n",
              "</div>\n",
              "    <div class=\"colab-df-buttons\">\n",
              "\n",
              "  <div class=\"colab-df-container\">\n",
              "    <button class=\"colab-df-convert\" onclick=\"convertToInteractive('df-fc00f256-563b-4542-af3d-f01329bdd05a')\"\n",
              "            title=\"Convert this dataframe to an interactive table.\"\n",
              "            style=\"display:none;\">\n",
              "\n",
              "  <svg xmlns=\"http://www.w3.org/2000/svg\" height=\"24px\" viewBox=\"0 -960 960 960\">\n",
              "    <path d=\"M120-120v-720h720v720H120Zm60-500h600v-160H180v160Zm220 220h160v-160H400v160Zm0 220h160v-160H400v160ZM180-400h160v-160H180v160Zm440 0h160v-160H620v160ZM180-180h160v-160H180v160Zm440 0h160v-160H620v160Z\"/>\n",
              "  </svg>\n",
              "    </button>\n",
              "\n",
              "  <style>\n",
              "    .colab-df-container {\n",
              "      display:flex;\n",
              "      gap: 12px;\n",
              "    }\n",
              "\n",
              "    .colab-df-convert {\n",
              "      background-color: #E8F0FE;\n",
              "      border: none;\n",
              "      border-radius: 50%;\n",
              "      cursor: pointer;\n",
              "      display: none;\n",
              "      fill: #1967D2;\n",
              "      height: 32px;\n",
              "      padding: 0 0 0 0;\n",
              "      width: 32px;\n",
              "    }\n",
              "\n",
              "    .colab-df-convert:hover {\n",
              "      background-color: #E2EBFA;\n",
              "      box-shadow: 0px 1px 2px rgba(60, 64, 67, 0.3), 0px 1px 3px 1px rgba(60, 64, 67, 0.15);\n",
              "      fill: #174EA6;\n",
              "    }\n",
              "\n",
              "    .colab-df-buttons div {\n",
              "      margin-bottom: 4px;\n",
              "    }\n",
              "\n",
              "    [theme=dark] .colab-df-convert {\n",
              "      background-color: #3B4455;\n",
              "      fill: #D2E3FC;\n",
              "    }\n",
              "\n",
              "    [theme=dark] .colab-df-convert:hover {\n",
              "      background-color: #434B5C;\n",
              "      box-shadow: 0px 1px 3px 1px rgba(0, 0, 0, 0.15);\n",
              "      filter: drop-shadow(0px 1px 2px rgba(0, 0, 0, 0.3));\n",
              "      fill: #FFFFFF;\n",
              "    }\n",
              "  </style>\n",
              "\n",
              "    <script>\n",
              "      const buttonEl =\n",
              "        document.querySelector('#df-fc00f256-563b-4542-af3d-f01329bdd05a button.colab-df-convert');\n",
              "      buttonEl.style.display =\n",
              "        google.colab.kernel.accessAllowed ? 'block' : 'none';\n",
              "\n",
              "      async function convertToInteractive(key) {\n",
              "        const element = document.querySelector('#df-fc00f256-563b-4542-af3d-f01329bdd05a');\n",
              "        const dataTable =\n",
              "          await google.colab.kernel.invokeFunction('convertToInteractive',\n",
              "                                                    [key], {});\n",
              "        if (!dataTable) return;\n",
              "\n",
              "        const docLinkHtml = 'Like what you see? Visit the ' +\n",
              "          '<a target=\"_blank\" href=https://colab.research.google.com/notebooks/data_table.ipynb>data table notebook</a>'\n",
              "          + ' to learn more about interactive tables.';\n",
              "        element.innerHTML = '';\n",
              "        dataTable['output_type'] = 'display_data';\n",
              "        await google.colab.output.renderOutput(dataTable, element);\n",
              "        const docLink = document.createElement('div');\n",
              "        docLink.innerHTML = docLinkHtml;\n",
              "        element.appendChild(docLink);\n",
              "      }\n",
              "    </script>\n",
              "  </div>\n",
              "\n",
              "\n",
              "  <div id=\"id_f526e13e-1e51-43be-ab31-e996ba26af36\">\n",
              "    <style>\n",
              "      .colab-df-generate {\n",
              "        background-color: #E8F0FE;\n",
              "        border: none;\n",
              "        border-radius: 50%;\n",
              "        cursor: pointer;\n",
              "        display: none;\n",
              "        fill: #1967D2;\n",
              "        height: 32px;\n",
              "        padding: 0 0 0 0;\n",
              "        width: 32px;\n",
              "      }\n",
              "\n",
              "      .colab-df-generate:hover {\n",
              "        background-color: #E2EBFA;\n",
              "        box-shadow: 0px 1px 2px rgba(60, 64, 67, 0.3), 0px 1px 3px 1px rgba(60, 64, 67, 0.15);\n",
              "        fill: #174EA6;\n",
              "      }\n",
              "\n",
              "      [theme=dark] .colab-df-generate {\n",
              "        background-color: #3B4455;\n",
              "        fill: #D2E3FC;\n",
              "      }\n",
              "\n",
              "      [theme=dark] .colab-df-generate:hover {\n",
              "        background-color: #434B5C;\n",
              "        box-shadow: 0px 1px 3px 1px rgba(0, 0, 0, 0.15);\n",
              "        filter: drop-shadow(0px 1px 2px rgba(0, 0, 0, 0.3));\n",
              "        fill: #FFFFFF;\n",
              "      }\n",
              "    </style>\n",
              "    <button class=\"colab-df-generate\" onclick=\"generateWithVariable('df_with_na_column')\"\n",
              "            title=\"Generate code using this dataframe.\"\n",
              "            style=\"display:none;\">\n",
              "\n",
              "  <svg xmlns=\"http://www.w3.org/2000/svg\" height=\"24px\"viewBox=\"0 0 24 24\"\n",
              "       width=\"24px\">\n",
              "    <path d=\"M7,19H8.4L18.45,9,17,7.55,7,17.6ZM5,21V16.75L18.45,3.32a2,2,0,0,1,2.83,0l1.4,1.43a1.91,1.91,0,0,1,.58,1.4,1.91,1.91,0,0,1-.58,1.4L9.25,21ZM18.45,9,17,7.55Zm-12,3A5.31,5.31,0,0,0,4.9,8.1,5.31,5.31,0,0,0,1,6.5,5.31,5.31,0,0,0,4.9,4.9,5.31,5.31,0,0,0,6.5,1,5.31,5.31,0,0,0,8.1,4.9,5.31,5.31,0,0,0,12,6.5,5.46,5.46,0,0,0,6.5,12Z\"/>\n",
              "  </svg>\n",
              "    </button>\n",
              "    <script>\n",
              "      (() => {\n",
              "      const buttonEl =\n",
              "        document.querySelector('#id_f526e13e-1e51-43be-ab31-e996ba26af36 button.colab-df-generate');\n",
              "      buttonEl.style.display =\n",
              "        google.colab.kernel.accessAllowed ? 'block' : 'none';\n",
              "\n",
              "      buttonEl.onclick = () => {\n",
              "        google.colab.notebook.generateWithVariable('df_with_na_column');\n",
              "      }\n",
              "      })();\n",
              "    </script>\n",
              "  </div>\n",
              "\n",
              "    </div>\n",
              "  </div>\n"
            ],
            "text/plain": [
              "        production_year  mileage     condition  owners_number pts_original  \\\n",
              "210905             2003   175000  CONDITION_OK              0         True   \n",
              "\n",
              "        horse_power accidents_resolution     region seller_type    brand  ...  \\\n",
              "210905          NaN                  NaN  Чебаркуль     PRIVATE  Hyundai  ...   \n",
              "\n",
              "       engine_displacement engine_power  fuel_rate steering_wheel   price  \\\n",
              "210905                 NaN          NaN        NaN           LEFT  380000   \n",
              "\n",
              "        price_segment                                               tags  \\\n",
              "210905         MEDIUM  available_for_checkup;pts_original;real_photo;...   \n",
              "\n",
              "       auto_class  equipment complectation_available_options  \n",
              "210905        NaN    seats-5                             NaN  \n",
              "\n",
              "[1 rows x 24 columns]"
            ]
          },
          "execution_count": 6,
          "metadata": {},
          "output_type": "execute_result"
        }
      ],
      "source": [
        "df_with_na_column = df[df['engine_displacement'].isna()]\n",
        "df_with_na_column"
      ]
    },
    {
      "cell_type": "code",
      "execution_count": 7,
      "metadata": {
        "id": "GjupwzXlgkdz"
      },
      "outputs": [],
      "source": [
        "df.drop(210905, inplace=True)"
      ]
    },
    {
      "cell_type": "code",
      "execution_count": 8,
      "metadata": {
        "colab": {
          "base_uri": "https://localhost:8080/"
        },
        "id": "Jm8T3e6vgmM_",
        "outputId": "16fe6f17-fbb4-41b6-b5a9-d9fce01179cf"
      },
      "outputs": [
        {
          "name": "stderr",
          "output_type": "stream",
          "text": [
            "<ipython-input-8-b50b155cf67a>:1: FutureWarning: A value is trying to be set on a copy of a DataFrame or Series through chained assignment using an inplace method.\n",
            "The behavior will change in pandas 3.0. This inplace method will never work because the intermediate object on which we are setting values always behaves as a copy.\n",
            "\n",
            "For example, when doing 'df[col].method(value, inplace=True)', try using 'df.method({col: value}, inplace=True)' or df[col] = df[col].method(value) instead, to perform the operation inplace on the original object.\n",
            "\n",
            "\n",
            "  df['fuel_rate'].fillna(df['fuel_rate'].median(), inplace=True)\n"
          ]
        }
      ],
      "source": [
        "df['fuel_rate'].fillna(df['fuel_rate'].median(), inplace=True)"
      ]
    },
    {
      "cell_type": "code",
      "execution_count": 9,
      "metadata": {
        "colab": {
          "base_uri": "https://localhost:8080/"
        },
        "collapsed": true,
        "id": "WlywJxw0gnbp",
        "outputId": "2900c72a-2088-4eea-bd33-2bf3f8d6b485"
      },
      "outputs": [
        {
          "name": "stderr",
          "output_type": "stream",
          "text": [
            "<ipython-input-9-f268849e3c66>:1: FutureWarning: A value is trying to be set on a copy of a DataFrame or Series through chained assignment using an inplace method.\n",
            "The behavior will change in pandas 3.0. This inplace method will never work because the intermediate object on which we are setting values always behaves as a copy.\n",
            "\n",
            "For example, when doing 'df[col].method(value, inplace=True)', try using 'df.method({col: value}, inplace=True)' or df[col] = df[col].method(value) instead, to perform the operation inplace on the original object.\n",
            "\n",
            "\n",
            "  df['pts_original'].fillna(True, inplace=True)\n",
            "<ipython-input-9-f268849e3c66>:1: FutureWarning: Downcasting object dtype arrays on .fillna, .ffill, .bfill is deprecated and will change in a future version. Call result.infer_objects(copy=False) instead. To opt-in to the future behavior, set `pd.set_option('future.no_silent_downcasting', True)`\n",
            "  df['pts_original'].fillna(True, inplace=True)\n",
            "<ipython-input-9-f268849e3c66>:2: FutureWarning: A value is trying to be set on a copy of a DataFrame or Series through chained assignment using an inplace method.\n",
            "The behavior will change in pandas 3.0. This inplace method will never work because the intermediate object on which we are setting values always behaves as a copy.\n",
            "\n",
            "For example, when doing 'df[col].method(value, inplace=True)', try using 'df.method({col: value}, inplace=True)' or df[col] = df[col].method(value) instead, to perform the operation inplace on the original object.\n",
            "\n",
            "\n",
            "  df['accidents_resolution'].fillna('OK', inplace=True)\n",
            "<ipython-input-9-f268849e3c66>:3: FutureWarning: A value is trying to be set on a copy of a DataFrame or Series through chained assignment using an inplace method.\n",
            "The behavior will change in pandas 3.0. This inplace method will never work because the intermediate object on which we are setting values always behaves as a copy.\n",
            "\n",
            "For example, when doing 'df[col].method(value, inplace=True)', try using 'df.method({col: value}, inplace=True)' or df[col] = df[col].method(value) instead, to perform the operation inplace on the original object.\n",
            "\n",
            "\n",
            "  df['auto_class'].fillna('NOT SPECIFIED', inplace=True)\n"
          ]
        }
      ],
      "source": [
        "df['pts_original'].fillna(True, inplace=True)\n",
        "df['accidents_resolution'].fillna('OK', inplace=True)\n",
        "df['auto_class'].fillna('NOT SPECIFIED', inplace=True)"
      ]
    },
    {
      "cell_type": "code",
      "execution_count": 10,
      "metadata": {
        "id": "HRHZtqnUgozp"
      },
      "outputs": [],
      "source": [
        "df.drop('horse_power', axis=1, inplace=True)"
      ]
    },
    {
      "cell_type": "code",
      "execution_count": 11,
      "metadata": {
        "id": "bnouh2aVgqDG"
      },
      "outputs": [],
      "source": [
        "def get_unique_values(series, sep=';'):\n",
        "    uniq = set()\n",
        "    for cell in series.dropna():\n",
        "        for piece in cell.split(sep):\n",
        "            s = piece.strip()\n",
        "            if s:\n",
        "                uniq.add(s)\n",
        "    return np.array(list(uniq))\n",
        "\n",
        "all_tags = get_unique_values(df['tags'])\n",
        "all_options = get_unique_values(df['complectation_available_options'])\n",
        "all_equipments = get_unique_values(df['equipment'])"
      ]
    },
    {
      "cell_type": "code",
      "execution_count": 12,
      "metadata": {
        "id": "4NvF0dKcgrQt"
      },
      "outputs": [],
      "source": [
        "def create_binary_features(df, column, unique_values, sep=';'):\n",
        "    return (\n",
        "        df[column]\n",
        "        .str.get_dummies(sep=sep)\n",
        "        .reindex(columns=unique_values, fill_value=0)\n",
        "        .astype('int8')\n",
        "    )\n",
        "\n",
        "tags_dummies = create_binary_features(df, 'tags', all_tags)\n",
        "options_dummies = create_binary_features(df, 'complectation_available_options', all_options)\n",
        "equipment_dummies = create_binary_features(df, 'equipment', all_equipments)"
      ]
    },
    {
      "cell_type": "code",
      "execution_count": 13,
      "metadata": {
        "id": "xn6eVcE9gso-"
      },
      "outputs": [],
      "source": [
        "tags_dummies = tags_dummies.astype('Sparse[int]')\n",
        "options_dummies = options_dummies.astype('Sparse[int]')\n",
        "equipment_dummies = equipment_dummies.astype('Sparse[int]')"
      ]
    },
    {
      "cell_type": "code",
      "execution_count": 14,
      "metadata": {
        "id": "m6kLHthIgvBU"
      },
      "outputs": [],
      "source": [
        "full_df = pd.concat([\n",
        "    df.drop(columns=['tags', 'complectation_available_options', 'equipment']),\n",
        "    tags_dummies,\n",
        "    options_dummies.drop(columns=['condition']),\n",
        "    equipment_dummies.drop(columns=['condition'])\n",
        "], axis=1)"
      ]
    },
    {
      "cell_type": "code",
      "execution_count": 15,
      "metadata": {
        "id": "5QLRk5QAgwKi"
      },
      "outputs": [],
      "source": [
        "duplicated_cols = full_df.columns[full_df.columns.duplicated()].unique()\n",
        "for col in duplicated_cols:\n",
        "    full_df[col] = full_df[col].astype(\"int8\")"
      ]
    },
    {
      "cell_type": "code",
      "execution_count": 16,
      "metadata": {
        "colab": {
          "base_uri": "https://localhost:8080/"
        },
        "collapsed": true,
        "id": "O_TY4eV0gxeX",
        "outputId": "8335f8db-c0e2-498b-d0a2-b32f0b11962b"
      },
      "outputs": [
        {
          "name": "stderr",
          "output_type": "stream",
          "text": [
            "<ipython-input-16-65bc9051fcec>:20: PerformanceWarning: DataFrame is highly fragmented.  This is usually the result of calling `frame.insert` many times, which has poor performance.  Consider joining all columns at once using pd.concat(axis=1) instead. To get a de-fragmented frame, use `newframe = frame.copy()`\n",
            "  full_df[name] = s\n",
            "<ipython-input-16-65bc9051fcec>:20: PerformanceWarning: DataFrame is highly fragmented.  This is usually the result of calling `frame.insert` many times, which has poor performance.  Consider joining all columns at once using pd.concat(axis=1) instead. To get a de-fragmented frame, use `newframe = frame.copy()`\n",
            "  full_df[name] = s\n",
            "<ipython-input-16-65bc9051fcec>:20: PerformanceWarning: DataFrame is highly fragmented.  This is usually the result of calling `frame.insert` many times, which has poor performance.  Consider joining all columns at once using pd.concat(axis=1) instead. To get a de-fragmented frame, use `newframe = frame.copy()`\n",
            "  full_df[name] = s\n",
            "<ipython-input-16-65bc9051fcec>:20: PerformanceWarning: DataFrame is highly fragmented.  This is usually the result of calling `frame.insert` many times, which has poor performance.  Consider joining all columns at once using pd.concat(axis=1) instead. To get a de-fragmented frame, use `newframe = frame.copy()`\n",
            "  full_df[name] = s\n",
            "<ipython-input-16-65bc9051fcec>:20: PerformanceWarning: DataFrame is highly fragmented.  This is usually the result of calling `frame.insert` many times, which has poor performance.  Consider joining all columns at once using pd.concat(axis=1) instead. To get a de-fragmented frame, use `newframe = frame.copy()`\n",
            "  full_df[name] = s\n",
            "<ipython-input-16-65bc9051fcec>:20: PerformanceWarning: DataFrame is highly fragmented.  This is usually the result of calling `frame.insert` many times, which has poor performance.  Consider joining all columns at once using pd.concat(axis=1) instead. To get a de-fragmented frame, use `newframe = frame.copy()`\n",
            "  full_df[name] = s\n",
            "<ipython-input-16-65bc9051fcec>:20: PerformanceWarning: DataFrame is highly fragmented.  This is usually the result of calling `frame.insert` many times, which has poor performance.  Consider joining all columns at once using pd.concat(axis=1) instead. To get a de-fragmented frame, use `newframe = frame.copy()`\n",
            "  full_df[name] = s\n",
            "<ipython-input-16-65bc9051fcec>:20: PerformanceWarning: DataFrame is highly fragmented.  This is usually the result of calling `frame.insert` many times, which has poor performance.  Consider joining all columns at once using pd.concat(axis=1) instead. To get a de-fragmented frame, use `newframe = frame.copy()`\n",
            "  full_df[name] = s\n",
            "<ipython-input-16-65bc9051fcec>:20: PerformanceWarning: DataFrame is highly fragmented.  This is usually the result of calling `frame.insert` many times, which has poor performance.  Consider joining all columns at once using pd.concat(axis=1) instead. To get a de-fragmented frame, use `newframe = frame.copy()`\n",
            "  full_df[name] = s\n",
            "<ipython-input-16-65bc9051fcec>:20: PerformanceWarning: DataFrame is highly fragmented.  This is usually the result of calling `frame.insert` many times, which has poor performance.  Consider joining all columns at once using pd.concat(axis=1) instead. To get a de-fragmented frame, use `newframe = frame.copy()`\n",
            "  full_df[name] = s\n",
            "<ipython-input-16-65bc9051fcec>:20: PerformanceWarning: DataFrame is highly fragmented.  This is usually the result of calling `frame.insert` many times, which has poor performance.  Consider joining all columns at once using pd.concat(axis=1) instead. To get a de-fragmented frame, use `newframe = frame.copy()`\n",
            "  full_df[name] = s\n",
            "<ipython-input-16-65bc9051fcec>:20: PerformanceWarning: DataFrame is highly fragmented.  This is usually the result of calling `frame.insert` many times, which has poor performance.  Consider joining all columns at once using pd.concat(axis=1) instead. To get a de-fragmented frame, use `newframe = frame.copy()`\n",
            "  full_df[name] = s\n",
            "<ipython-input-16-65bc9051fcec>:20: PerformanceWarning: DataFrame is highly fragmented.  This is usually the result of calling `frame.insert` many times, which has poor performance.  Consider joining all columns at once using pd.concat(axis=1) instead. To get a de-fragmented frame, use `newframe = frame.copy()`\n",
            "  full_df[name] = s\n",
            "<ipython-input-16-65bc9051fcec>:20: PerformanceWarning: DataFrame is highly fragmented.  This is usually the result of calling `frame.insert` many times, which has poor performance.  Consider joining all columns at once using pd.concat(axis=1) instead. To get a de-fragmented frame, use `newframe = frame.copy()`\n",
            "  full_df[name] = s\n",
            "<ipython-input-16-65bc9051fcec>:20: PerformanceWarning: DataFrame is highly fragmented.  This is usually the result of calling `frame.insert` many times, which has poor performance.  Consider joining all columns at once using pd.concat(axis=1) instead. To get a de-fragmented frame, use `newframe = frame.copy()`\n",
            "  full_df[name] = s\n",
            "<ipython-input-16-65bc9051fcec>:20: PerformanceWarning: DataFrame is highly fragmented.  This is usually the result of calling `frame.insert` many times, which has poor performance.  Consider joining all columns at once using pd.concat(axis=1) instead. To get a de-fragmented frame, use `newframe = frame.copy()`\n",
            "  full_df[name] = s\n",
            "<ipython-input-16-65bc9051fcec>:20: PerformanceWarning: DataFrame is highly fragmented.  This is usually the result of calling `frame.insert` many times, which has poor performance.  Consider joining all columns at once using pd.concat(axis=1) instead. To get a de-fragmented frame, use `newframe = frame.copy()`\n",
            "  full_df[name] = s\n",
            "<ipython-input-16-65bc9051fcec>:20: PerformanceWarning: DataFrame is highly fragmented.  This is usually the result of calling `frame.insert` many times, which has poor performance.  Consider joining all columns at once using pd.concat(axis=1) instead. To get a de-fragmented frame, use `newframe = frame.copy()`\n",
            "  full_df[name] = s\n",
            "<ipython-input-16-65bc9051fcec>:20: PerformanceWarning: DataFrame is highly fragmented.  This is usually the result of calling `frame.insert` many times, which has poor performance.  Consider joining all columns at once using pd.concat(axis=1) instead. To get a de-fragmented frame, use `newframe = frame.copy()`\n",
            "  full_df[name] = s\n",
            "<ipython-input-16-65bc9051fcec>:20: PerformanceWarning: DataFrame is highly fragmented.  This is usually the result of calling `frame.insert` many times, which has poor performance.  Consider joining all columns at once using pd.concat(axis=1) instead. To get a de-fragmented frame, use `newframe = frame.copy()`\n",
            "  full_df[name] = s\n",
            "<ipython-input-16-65bc9051fcec>:20: PerformanceWarning: DataFrame is highly fragmented.  This is usually the result of calling `frame.insert` many times, which has poor performance.  Consider joining all columns at once using pd.concat(axis=1) instead. To get a de-fragmented frame, use `newframe = frame.copy()`\n",
            "  full_df[name] = s\n",
            "<ipython-input-16-65bc9051fcec>:20: PerformanceWarning: DataFrame is highly fragmented.  This is usually the result of calling `frame.insert` many times, which has poor performance.  Consider joining all columns at once using pd.concat(axis=1) instead. To get a de-fragmented frame, use `newframe = frame.copy()`\n",
            "  full_df[name] = s\n",
            "<ipython-input-16-65bc9051fcec>:20: PerformanceWarning: DataFrame is highly fragmented.  This is usually the result of calling `frame.insert` many times, which has poor performance.  Consider joining all columns at once using pd.concat(axis=1) instead. To get a de-fragmented frame, use `newframe = frame.copy()`\n",
            "  full_df[name] = s\n",
            "<ipython-input-16-65bc9051fcec>:20: PerformanceWarning: DataFrame is highly fragmented.  This is usually the result of calling `frame.insert` many times, which has poor performance.  Consider joining all columns at once using pd.concat(axis=1) instead. To get a de-fragmented frame, use `newframe = frame.copy()`\n",
            "  full_df[name] = s\n",
            "<ipython-input-16-65bc9051fcec>:20: PerformanceWarning: DataFrame is highly fragmented.  This is usually the result of calling `frame.insert` many times, which has poor performance.  Consider joining all columns at once using pd.concat(axis=1) instead. To get a de-fragmented frame, use `newframe = frame.copy()`\n",
            "  full_df[name] = s\n",
            "<ipython-input-16-65bc9051fcec>:20: PerformanceWarning: DataFrame is highly fragmented.  This is usually the result of calling `frame.insert` many times, which has poor performance.  Consider joining all columns at once using pd.concat(axis=1) instead. To get a de-fragmented frame, use `newframe = frame.copy()`\n",
            "  full_df[name] = s\n",
            "<ipython-input-16-65bc9051fcec>:20: PerformanceWarning: DataFrame is highly fragmented.  This is usually the result of calling `frame.insert` many times, which has poor performance.  Consider joining all columns at once using pd.concat(axis=1) instead. To get a de-fragmented frame, use `newframe = frame.copy()`\n",
            "  full_df[name] = s\n",
            "<ipython-input-16-65bc9051fcec>:20: PerformanceWarning: DataFrame is highly fragmented.  This is usually the result of calling `frame.insert` many times, which has poor performance.  Consider joining all columns at once using pd.concat(axis=1) instead. To get a de-fragmented frame, use `newframe = frame.copy()`\n",
            "  full_df[name] = s\n",
            "<ipython-input-16-65bc9051fcec>:20: PerformanceWarning: DataFrame is highly fragmented.  This is usually the result of calling `frame.insert` many times, which has poor performance.  Consider joining all columns at once using pd.concat(axis=1) instead. To get a de-fragmented frame, use `newframe = frame.copy()`\n",
            "  full_df[name] = s\n",
            "<ipython-input-16-65bc9051fcec>:20: PerformanceWarning: DataFrame is highly fragmented.  This is usually the result of calling `frame.insert` many times, which has poor performance.  Consider joining all columns at once using pd.concat(axis=1) instead. To get a de-fragmented frame, use `newframe = frame.copy()`\n",
            "  full_df[name] = s\n",
            "<ipython-input-16-65bc9051fcec>:20: PerformanceWarning: DataFrame is highly fragmented.  This is usually the result of calling `frame.insert` many times, which has poor performance.  Consider joining all columns at once using pd.concat(axis=1) instead. To get a de-fragmented frame, use `newframe = frame.copy()`\n",
            "  full_df[name] = s\n",
            "<ipython-input-16-65bc9051fcec>:20: PerformanceWarning: DataFrame is highly fragmented.  This is usually the result of calling `frame.insert` many times, which has poor performance.  Consider joining all columns at once using pd.concat(axis=1) instead. To get a de-fragmented frame, use `newframe = frame.copy()`\n",
            "  full_df[name] = s\n",
            "<ipython-input-16-65bc9051fcec>:20: PerformanceWarning: DataFrame is highly fragmented.  This is usually the result of calling `frame.insert` many times, which has poor performance.  Consider joining all columns at once using pd.concat(axis=1) instead. To get a de-fragmented frame, use `newframe = frame.copy()`\n",
            "  full_df[name] = s\n",
            "<ipython-input-16-65bc9051fcec>:20: PerformanceWarning: DataFrame is highly fragmented.  This is usually the result of calling `frame.insert` many times, which has poor performance.  Consider joining all columns at once using pd.concat(axis=1) instead. To get a de-fragmented frame, use `newframe = frame.copy()`\n",
            "  full_df[name] = s\n",
            "<ipython-input-16-65bc9051fcec>:20: PerformanceWarning: DataFrame is highly fragmented.  This is usually the result of calling `frame.insert` many times, which has poor performance.  Consider joining all columns at once using pd.concat(axis=1) instead. To get a de-fragmented frame, use `newframe = frame.copy()`\n",
            "  full_df[name] = s\n",
            "<ipython-input-16-65bc9051fcec>:20: PerformanceWarning: DataFrame is highly fragmented.  This is usually the result of calling `frame.insert` many times, which has poor performance.  Consider joining all columns at once using pd.concat(axis=1) instead. To get a de-fragmented frame, use `newframe = frame.copy()`\n",
            "  full_df[name] = s\n",
            "<ipython-input-16-65bc9051fcec>:20: PerformanceWarning: DataFrame is highly fragmented.  This is usually the result of calling `frame.insert` many times, which has poor performance.  Consider joining all columns at once using pd.concat(axis=1) instead. To get a de-fragmented frame, use `newframe = frame.copy()`\n",
            "  full_df[name] = s\n",
            "<ipython-input-16-65bc9051fcec>:20: PerformanceWarning: DataFrame is highly fragmented.  This is usually the result of calling `frame.insert` many times, which has poor performance.  Consider joining all columns at once using pd.concat(axis=1) instead. To get a de-fragmented frame, use `newframe = frame.copy()`\n",
            "  full_df[name] = s\n",
            "<ipython-input-16-65bc9051fcec>:20: PerformanceWarning: DataFrame is highly fragmented.  This is usually the result of calling `frame.insert` many times, which has poor performance.  Consider joining all columns at once using pd.concat(axis=1) instead. To get a de-fragmented frame, use `newframe = frame.copy()`\n",
            "  full_df[name] = s\n",
            "<ipython-input-16-65bc9051fcec>:20: PerformanceWarning: DataFrame is highly fragmented.  This is usually the result of calling `frame.insert` many times, which has poor performance.  Consider joining all columns at once using pd.concat(axis=1) instead. To get a de-fragmented frame, use `newframe = frame.copy()`\n",
            "  full_df[name] = s\n",
            "<ipython-input-16-65bc9051fcec>:20: PerformanceWarning: DataFrame is highly fragmented.  This is usually the result of calling `frame.insert` many times, which has poor performance.  Consider joining all columns at once using pd.concat(axis=1) instead. To get a de-fragmented frame, use `newframe = frame.copy()`\n",
            "  full_df[name] = s\n",
            "<ipython-input-16-65bc9051fcec>:20: PerformanceWarning: DataFrame is highly fragmented.  This is usually the result of calling `frame.insert` many times, which has poor performance.  Consider joining all columns at once using pd.concat(axis=1) instead. To get a de-fragmented frame, use `newframe = frame.copy()`\n",
            "  full_df[name] = s\n",
            "<ipython-input-16-65bc9051fcec>:20: PerformanceWarning: DataFrame is highly fragmented.  This is usually the result of calling `frame.insert` many times, which has poor performance.  Consider joining all columns at once using pd.concat(axis=1) instead. To get a de-fragmented frame, use `newframe = frame.copy()`\n",
            "  full_df[name] = s\n",
            "<ipython-input-16-65bc9051fcec>:20: PerformanceWarning: DataFrame is highly fragmented.  This is usually the result of calling `frame.insert` many times, which has poor performance.  Consider joining all columns at once using pd.concat(axis=1) instead. To get a de-fragmented frame, use `newframe = frame.copy()`\n",
            "  full_df[name] = s\n",
            "<ipython-input-16-65bc9051fcec>:20: PerformanceWarning: DataFrame is highly fragmented.  This is usually the result of calling `frame.insert` many times, which has poor performance.  Consider joining all columns at once using pd.concat(axis=1) instead. To get a de-fragmented frame, use `newframe = frame.copy()`\n",
            "  full_df[name] = s\n",
            "<ipython-input-16-65bc9051fcec>:20: PerformanceWarning: DataFrame is highly fragmented.  This is usually the result of calling `frame.insert` many times, which has poor performance.  Consider joining all columns at once using pd.concat(axis=1) instead. To get a de-fragmented frame, use `newframe = frame.copy()`\n",
            "  full_df[name] = s\n",
            "<ipython-input-16-65bc9051fcec>:20: PerformanceWarning: DataFrame is highly fragmented.  This is usually the result of calling `frame.insert` many times, which has poor performance.  Consider joining all columns at once using pd.concat(axis=1) instead. To get a de-fragmented frame, use `newframe = frame.copy()`\n",
            "  full_df[name] = s\n",
            "<ipython-input-16-65bc9051fcec>:20: PerformanceWarning: DataFrame is highly fragmented.  This is usually the result of calling `frame.insert` many times, which has poor performance.  Consider joining all columns at once using pd.concat(axis=1) instead. To get a de-fragmented frame, use `newframe = frame.copy()`\n",
            "  full_df[name] = s\n",
            "<ipython-input-16-65bc9051fcec>:20: PerformanceWarning: DataFrame is highly fragmented.  This is usually the result of calling `frame.insert` many times, which has poor performance.  Consider joining all columns at once using pd.concat(axis=1) instead. To get a de-fragmented frame, use `newframe = frame.copy()`\n",
            "  full_df[name] = s\n",
            "<ipython-input-16-65bc9051fcec>:20: PerformanceWarning: DataFrame is highly fragmented.  This is usually the result of calling `frame.insert` many times, which has poor performance.  Consider joining all columns at once using pd.concat(axis=1) instead. To get a de-fragmented frame, use `newframe = frame.copy()`\n",
            "  full_df[name] = s\n",
            "<ipython-input-16-65bc9051fcec>:20: PerformanceWarning: DataFrame is highly fragmented.  This is usually the result of calling `frame.insert` many times, which has poor performance.  Consider joining all columns at once using pd.concat(axis=1) instead. To get a de-fragmented frame, use `newframe = frame.copy()`\n",
            "  full_df[name] = s\n",
            "<ipython-input-16-65bc9051fcec>:20: PerformanceWarning: DataFrame is highly fragmented.  This is usually the result of calling `frame.insert` many times, which has poor performance.  Consider joining all columns at once using pd.concat(axis=1) instead. To get a de-fragmented frame, use `newframe = frame.copy()`\n",
            "  full_df[name] = s\n",
            "<ipython-input-16-65bc9051fcec>:20: PerformanceWarning: DataFrame is highly fragmented.  This is usually the result of calling `frame.insert` many times, which has poor performance.  Consider joining all columns at once using pd.concat(axis=1) instead. To get a de-fragmented frame, use `newframe = frame.copy()`\n",
            "  full_df[name] = s\n",
            "<ipython-input-16-65bc9051fcec>:20: PerformanceWarning: DataFrame is highly fragmented.  This is usually the result of calling `frame.insert` many times, which has poor performance.  Consider joining all columns at once using pd.concat(axis=1) instead. To get a de-fragmented frame, use `newframe = frame.copy()`\n",
            "  full_df[name] = s\n",
            "<ipython-input-16-65bc9051fcec>:20: PerformanceWarning: DataFrame is highly fragmented.  This is usually the result of calling `frame.insert` many times, which has poor performance.  Consider joining all columns at once using pd.concat(axis=1) instead. To get a de-fragmented frame, use `newframe = frame.copy()`\n",
            "  full_df[name] = s\n",
            "<ipython-input-16-65bc9051fcec>:20: PerformanceWarning: DataFrame is highly fragmented.  This is usually the result of calling `frame.insert` many times, which has poor performance.  Consider joining all columns at once using pd.concat(axis=1) instead. To get a de-fragmented frame, use `newframe = frame.copy()`\n",
            "  full_df[name] = s\n",
            "<ipython-input-16-65bc9051fcec>:20: PerformanceWarning: DataFrame is highly fragmented.  This is usually the result of calling `frame.insert` many times, which has poor performance.  Consider joining all columns at once using pd.concat(axis=1) instead. To get a de-fragmented frame, use `newframe = frame.copy()`\n",
            "  full_df[name] = s\n",
            "<ipython-input-16-65bc9051fcec>:20: PerformanceWarning: DataFrame is highly fragmented.  This is usually the result of calling `frame.insert` many times, which has poor performance.  Consider joining all columns at once using pd.concat(axis=1) instead. To get a de-fragmented frame, use `newframe = frame.copy()`\n",
            "  full_df[name] = s\n",
            "<ipython-input-16-65bc9051fcec>:20: PerformanceWarning: DataFrame is highly fragmented.  This is usually the result of calling `frame.insert` many times, which has poor performance.  Consider joining all columns at once using pd.concat(axis=1) instead. To get a de-fragmented frame, use `newframe = frame.copy()`\n",
            "  full_df[name] = s\n",
            "<ipython-input-16-65bc9051fcec>:20: PerformanceWarning: DataFrame is highly fragmented.  This is usually the result of calling `frame.insert` many times, which has poor performance.  Consider joining all columns at once using pd.concat(axis=1) instead. To get a de-fragmented frame, use `newframe = frame.copy()`\n",
            "  full_df[name] = s\n",
            "<ipython-input-16-65bc9051fcec>:20: PerformanceWarning: DataFrame is highly fragmented.  This is usually the result of calling `frame.insert` many times, which has poor performance.  Consider joining all columns at once using pd.concat(axis=1) instead. To get a de-fragmented frame, use `newframe = frame.copy()`\n",
            "  full_df[name] = s\n",
            "<ipython-input-16-65bc9051fcec>:20: PerformanceWarning: DataFrame is highly fragmented.  This is usually the result of calling `frame.insert` many times, which has poor performance.  Consider joining all columns at once using pd.concat(axis=1) instead. To get a de-fragmented frame, use `newframe = frame.copy()`\n",
            "  full_df[name] = s\n",
            "<ipython-input-16-65bc9051fcec>:20: PerformanceWarning: DataFrame is highly fragmented.  This is usually the result of calling `frame.insert` many times, which has poor performance.  Consider joining all columns at once using pd.concat(axis=1) instead. To get a de-fragmented frame, use `newframe = frame.copy()`\n",
            "  full_df[name] = s\n",
            "<ipython-input-16-65bc9051fcec>:20: PerformanceWarning: DataFrame is highly fragmented.  This is usually the result of calling `frame.insert` many times, which has poor performance.  Consider joining all columns at once using pd.concat(axis=1) instead. To get a de-fragmented frame, use `newframe = frame.copy()`\n",
            "  full_df[name] = s\n",
            "<ipython-input-16-65bc9051fcec>:20: PerformanceWarning: DataFrame is highly fragmented.  This is usually the result of calling `frame.insert` many times, which has poor performance.  Consider joining all columns at once using pd.concat(axis=1) instead. To get a de-fragmented frame, use `newframe = frame.copy()`\n",
            "  full_df[name] = s\n",
            "<ipython-input-16-65bc9051fcec>:20: PerformanceWarning: DataFrame is highly fragmented.  This is usually the result of calling `frame.insert` many times, which has poor performance.  Consider joining all columns at once using pd.concat(axis=1) instead. To get a de-fragmented frame, use `newframe = frame.copy()`\n",
            "  full_df[name] = s\n",
            "<ipython-input-16-65bc9051fcec>:20: PerformanceWarning: DataFrame is highly fragmented.  This is usually the result of calling `frame.insert` many times, which has poor performance.  Consider joining all columns at once using pd.concat(axis=1) instead. To get a de-fragmented frame, use `newframe = frame.copy()`\n",
            "  full_df[name] = s\n",
            "<ipython-input-16-65bc9051fcec>:20: PerformanceWarning: DataFrame is highly fragmented.  This is usually the result of calling `frame.insert` many times, which has poor performance.  Consider joining all columns at once using pd.concat(axis=1) instead. To get a de-fragmented frame, use `newframe = frame.copy()`\n",
            "  full_df[name] = s\n",
            "<ipython-input-16-65bc9051fcec>:20: PerformanceWarning: DataFrame is highly fragmented.  This is usually the result of calling `frame.insert` many times, which has poor performance.  Consider joining all columns at once using pd.concat(axis=1) instead. To get a de-fragmented frame, use `newframe = frame.copy()`\n",
            "  full_df[name] = s\n",
            "<ipython-input-16-65bc9051fcec>:20: PerformanceWarning: DataFrame is highly fragmented.  This is usually the result of calling `frame.insert` many times, which has poor performance.  Consider joining all columns at once using pd.concat(axis=1) instead. To get a de-fragmented frame, use `newframe = frame.copy()`\n",
            "  full_df[name] = s\n",
            "<ipython-input-16-65bc9051fcec>:20: PerformanceWarning: DataFrame is highly fragmented.  This is usually the result of calling `frame.insert` many times, which has poor performance.  Consider joining all columns at once using pd.concat(axis=1) instead. To get a de-fragmented frame, use `newframe = frame.copy()`\n",
            "  full_df[name] = s\n",
            "<ipython-input-16-65bc9051fcec>:20: PerformanceWarning: DataFrame is highly fragmented.  This is usually the result of calling `frame.insert` many times, which has poor performance.  Consider joining all columns at once using pd.concat(axis=1) instead. To get a de-fragmented frame, use `newframe = frame.copy()`\n",
            "  full_df[name] = s\n",
            "<ipython-input-16-65bc9051fcec>:20: PerformanceWarning: DataFrame is highly fragmented.  This is usually the result of calling `frame.insert` many times, which has poor performance.  Consider joining all columns at once using pd.concat(axis=1) instead. To get a de-fragmented frame, use `newframe = frame.copy()`\n",
            "  full_df[name] = s\n",
            "<ipython-input-16-65bc9051fcec>:20: PerformanceWarning: DataFrame is highly fragmented.  This is usually the result of calling `frame.insert` many times, which has poor performance.  Consider joining all columns at once using pd.concat(axis=1) instead. To get a de-fragmented frame, use `newframe = frame.copy()`\n",
            "  full_df[name] = s\n"
          ]
        }
      ],
      "source": [
        "import numpy as np\n",
        "\n",
        "names = full_df.columns[full_df.columns.duplicated()].unique()\n",
        "new_cols = {}\n",
        "\n",
        "for name in names:\n",
        "    cols_i = [col for col in full_df.columns if col == name]\n",
        "    sub_df = full_df.loc[:, cols_i].astype('int8')   # DataFrame shape (n_rows, k)\n",
        "\n",
        "    # берём максимум по строкам → Series shape (n_rows,)\n",
        "    max_series = sub_df.max(axis=1).astype('int8')\n",
        "\n",
        "    new_cols[name] = max_series\n",
        "\n",
        "    # удаляем *все* старые колонки с этим именем\n",
        "    full_df.drop(columns=cols_i, inplace=True)\n",
        "\n",
        "# теперь присваиваем новые колонки–Series (они одномерны!)\n",
        "for name, s in new_cols.items():\n",
        "    full_df[name] = s\n"
      ]
    },
    {
      "cell_type": "code",
      "execution_count": 17,
      "metadata": {
        "colab": {
          "base_uri": "https://localhost:8080/",
          "height": 534
        },
        "id": "jZfkJBvngy2Y",
        "outputId": "4b2d467c-4e59-41f8-969e-347b634f5dbb"
      },
      "outputs": [
        {
          "data": {
            "application/vnd.google.colaboratory.intrinsic+json": {
              "type": "dataframe"
            },
            "text/html": [
              "\n",
              "  <div id=\"df-4a2e70b0-cb46-4546-b023-0319ea7c1062\" class=\"colab-df-container\">\n",
              "    <div>\n",
              "<style scoped>\n",
              "    .dataframe tbody tr th:only-of-type {\n",
              "        vertical-align: middle;\n",
              "    }\n",
              "\n",
              "    .dataframe tbody tr th {\n",
              "        vertical-align: top;\n",
              "    }\n",
              "\n",
              "    .dataframe thead th {\n",
              "        text-align: right;\n",
              "    }\n",
              "</style>\n",
              "<table border=\"1\" class=\"dataframe\">\n",
              "  <thead>\n",
              "    <tr style=\"text-align: right;\">\n",
              "      <th></th>\n",
              "      <th>production_year</th>\n",
              "      <th>mileage</th>\n",
              "      <th>condition</th>\n",
              "      <th>owners_number</th>\n",
              "      <th>accidents_resolution</th>\n",
              "      <th>region</th>\n",
              "      <th>seller_type</th>\n",
              "      <th>brand</th>\n",
              "      <th>model</th>\n",
              "      <th>body_type</th>\n",
              "      <th>...</th>\n",
              "      <th>e-adjustment-wheel</th>\n",
              "      <th>fcw</th>\n",
              "      <th>climate-control-2</th>\n",
              "      <th>wheel-power</th>\n",
              "      <th>electro-window-back</th>\n",
              "      <th>isofix-front</th>\n",
              "      <th>android-auto</th>\n",
              "      <th>wheel-leather</th>\n",
              "      <th>remote-engine-start</th>\n",
              "      <th>glonass</th>\n",
              "    </tr>\n",
              "  </thead>\n",
              "  <tbody>\n",
              "    <tr>\n",
              "      <th>436947</th>\n",
              "      <td>2024</td>\n",
              "      <td>0</td>\n",
              "      <td>CONDITION_OK</td>\n",
              "      <td>0</td>\n",
              "      <td>OK</td>\n",
              "      <td>Санкт-Петербург</td>\n",
              "      <td>COMMERCIAL</td>\n",
              "      <td>Skoda</td>\n",
              "      <td>Karoq</td>\n",
              "      <td>ALLROAD_5_DOORS</td>\n",
              "      <td>...</td>\n",
              "      <td>0</td>\n",
              "      <td>0</td>\n",
              "      <td>1</td>\n",
              "      <td>1</td>\n",
              "      <td>1</td>\n",
              "      <td>0</td>\n",
              "      <td>0</td>\n",
              "      <td>0</td>\n",
              "      <td>0</td>\n",
              "      <td>1</td>\n",
              "    </tr>\n",
              "    <tr>\n",
              "      <th>329729</th>\n",
              "      <td>2020</td>\n",
              "      <td>40460</td>\n",
              "      <td>CONDITION_OK</td>\n",
              "      <td>1</td>\n",
              "      <td>ERROR</td>\n",
              "      <td>Москва</td>\n",
              "      <td>PRIVATE</td>\n",
              "      <td>Mercedes-Benz</td>\n",
              "      <td>E-Класс</td>\n",
              "      <td>COUPE_HARDTOP</td>\n",
              "      <td>...</td>\n",
              "      <td>0</td>\n",
              "      <td>0</td>\n",
              "      <td>0</td>\n",
              "      <td>0</td>\n",
              "      <td>1</td>\n",
              "      <td>0</td>\n",
              "      <td>0</td>\n",
              "      <td>1</td>\n",
              "      <td>0</td>\n",
              "      <td>0</td>\n",
              "    </tr>\n",
              "    <tr>\n",
              "      <th>343497</th>\n",
              "      <td>2000</td>\n",
              "      <td>380000</td>\n",
              "      <td>CONDITION_OK</td>\n",
              "      <td>4</td>\n",
              "      <td>OK</td>\n",
              "      <td>Москва</td>\n",
              "      <td>PRIVATE</td>\n",
              "      <td>Mercedes-Benz</td>\n",
              "      <td>M-Класс</td>\n",
              "      <td>ALLROAD_5_DOORS</td>\n",
              "      <td>...</td>\n",
              "      <td>0</td>\n",
              "      <td>0</td>\n",
              "      <td>0</td>\n",
              "      <td>0</td>\n",
              "      <td>0</td>\n",
              "      <td>0</td>\n",
              "      <td>0</td>\n",
              "      <td>0</td>\n",
              "      <td>0</td>\n",
              "      <td>0</td>\n",
              "    </tr>\n",
              "    <tr>\n",
              "      <th>439784</th>\n",
              "      <td>2019</td>\n",
              "      <td>170000</td>\n",
              "      <td>CONDITION_OK</td>\n",
              "      <td>1</td>\n",
              "      <td>ERROR</td>\n",
              "      <td>Москва</td>\n",
              "      <td>PRIVATE</td>\n",
              "      <td>Skoda</td>\n",
              "      <td>Octavia</td>\n",
              "      <td>LIFTBACK</td>\n",
              "      <td>...</td>\n",
              "      <td>0</td>\n",
              "      <td>0</td>\n",
              "      <td>1</td>\n",
              "      <td>0</td>\n",
              "      <td>1</td>\n",
              "      <td>0</td>\n",
              "      <td>1</td>\n",
              "      <td>1</td>\n",
              "      <td>0</td>\n",
              "      <td>1</td>\n",
              "    </tr>\n",
              "    <tr>\n",
              "      <th>550845</th>\n",
              "      <td>2023</td>\n",
              "      <td>107</td>\n",
              "      <td>CONDITION_OK</td>\n",
              "      <td>1</td>\n",
              "      <td>OK</td>\n",
              "      <td>Краснодар</td>\n",
              "      <td>PRIVATE</td>\n",
              "      <td>Lada (ВАЗ)</td>\n",
              "      <td>Largus</td>\n",
              "      <td>WAGON_5_DOORS</td>\n",
              "      <td>...</td>\n",
              "      <td>0</td>\n",
              "      <td>0</td>\n",
              "      <td>0</td>\n",
              "      <td>1</td>\n",
              "      <td>0</td>\n",
              "      <td>0</td>\n",
              "      <td>0</td>\n",
              "      <td>0</td>\n",
              "      <td>0</td>\n",
              "      <td>1</td>\n",
              "    </tr>\n",
              "    <tr>\n",
              "      <th>431808</th>\n",
              "      <td>2015</td>\n",
              "      <td>110727</td>\n",
              "      <td>CONDITION_OK</td>\n",
              "      <td>1</td>\n",
              "      <td>OK</td>\n",
              "      <td>Уфа</td>\n",
              "      <td>COMMERCIAL</td>\n",
              "      <td>Renault</td>\n",
              "      <td>Sandero</td>\n",
              "      <td>HATCHBACK_5_DOORS</td>\n",
              "      <td>...</td>\n",
              "      <td>0</td>\n",
              "      <td>0</td>\n",
              "      <td>0</td>\n",
              "      <td>1</td>\n",
              "      <td>0</td>\n",
              "      <td>0</td>\n",
              "      <td>0</td>\n",
              "      <td>0</td>\n",
              "      <td>0</td>\n",
              "      <td>0</td>\n",
              "    </tr>\n",
              "    <tr>\n",
              "      <th>167063</th>\n",
              "      <td>2024</td>\n",
              "      <td>0</td>\n",
              "      <td>CONDITION_OK</td>\n",
              "      <td>0</td>\n",
              "      <td>OK</td>\n",
              "      <td>Химки</td>\n",
              "      <td>COMMERCIAL</td>\n",
              "      <td>Genesis</td>\n",
              "      <td>GV80 Coupe</td>\n",
              "      <td>ALLROAD_5_DOORS</td>\n",
              "      <td>...</td>\n",
              "      <td>1</td>\n",
              "      <td>1</td>\n",
              "      <td>1</td>\n",
              "      <td>1</td>\n",
              "      <td>1</td>\n",
              "      <td>0</td>\n",
              "      <td>1</td>\n",
              "      <td>1</td>\n",
              "      <td>0</td>\n",
              "      <td>0</td>\n",
              "    </tr>\n",
              "    <tr>\n",
              "      <th>391523</th>\n",
              "      <td>2022</td>\n",
              "      <td>13000</td>\n",
              "      <td>CONDITION_OK</td>\n",
              "      <td>0</td>\n",
              "      <td>OK</td>\n",
              "      <td>Владивосток</td>\n",
              "      <td>COMMERCIAL</td>\n",
              "      <td>Nissan</td>\n",
              "      <td>X-Trail</td>\n",
              "      <td>ALLROAD_5_DOORS</td>\n",
              "      <td>...</td>\n",
              "      <td>0</td>\n",
              "      <td>0</td>\n",
              "      <td>0</td>\n",
              "      <td>0</td>\n",
              "      <td>0</td>\n",
              "      <td>0</td>\n",
              "      <td>0</td>\n",
              "      <td>0</td>\n",
              "      <td>0</td>\n",
              "      <td>0</td>\n",
              "    </tr>\n",
              "    <tr>\n",
              "      <th>210052</th>\n",
              "      <td>2024</td>\n",
              "      <td>100</td>\n",
              "      <td>CONDITION_OK</td>\n",
              "      <td>1</td>\n",
              "      <td>OK</td>\n",
              "      <td>Новосибирск</td>\n",
              "      <td>PRIVATE</td>\n",
              "      <td>Hyundai</td>\n",
              "      <td>Elantra</td>\n",
              "      <td>SEDAN</td>\n",
              "      <td>...</td>\n",
              "      <td>0</td>\n",
              "      <td>0</td>\n",
              "      <td>0</td>\n",
              "      <td>0</td>\n",
              "      <td>0</td>\n",
              "      <td>0</td>\n",
              "      <td>0</td>\n",
              "      <td>0</td>\n",
              "      <td>0</td>\n",
              "      <td>0</td>\n",
              "    </tr>\n",
              "    <tr>\n",
              "      <th>46816</th>\n",
              "      <td>2024</td>\n",
              "      <td>34</td>\n",
              "      <td>CONDITION_OK</td>\n",
              "      <td>1</td>\n",
              "      <td>OK</td>\n",
              "      <td>Москва</td>\n",
              "      <td>COMMERCIAL</td>\n",
              "      <td>BMW</td>\n",
              "      <td>X5</td>\n",
              "      <td>ALLROAD_5_DOORS</td>\n",
              "      <td>...</td>\n",
              "      <td>0</td>\n",
              "      <td>0</td>\n",
              "      <td>0</td>\n",
              "      <td>0</td>\n",
              "      <td>0</td>\n",
              "      <td>0</td>\n",
              "      <td>0</td>\n",
              "      <td>0</td>\n",
              "      <td>0</td>\n",
              "      <td>0</td>\n",
              "    </tr>\n",
              "  </tbody>\n",
              "</table>\n",
              "<p>10 rows × 416 columns</p>\n",
              "</div>\n",
              "    <div class=\"colab-df-buttons\">\n",
              "\n",
              "  <div class=\"colab-df-container\">\n",
              "    <button class=\"colab-df-convert\" onclick=\"convertToInteractive('df-4a2e70b0-cb46-4546-b023-0319ea7c1062')\"\n",
              "            title=\"Convert this dataframe to an interactive table.\"\n",
              "            style=\"display:none;\">\n",
              "\n",
              "  <svg xmlns=\"http://www.w3.org/2000/svg\" height=\"24px\" viewBox=\"0 -960 960 960\">\n",
              "    <path d=\"M120-120v-720h720v720H120Zm60-500h600v-160H180v160Zm220 220h160v-160H400v160Zm0 220h160v-160H400v160ZM180-400h160v-160H180v160Zm440 0h160v-160H620v160ZM180-180h160v-160H180v160Zm440 0h160v-160H620v160Z\"/>\n",
              "  </svg>\n",
              "    </button>\n",
              "\n",
              "  <style>\n",
              "    .colab-df-container {\n",
              "      display:flex;\n",
              "      gap: 12px;\n",
              "    }\n",
              "\n",
              "    .colab-df-convert {\n",
              "      background-color: #E8F0FE;\n",
              "      border: none;\n",
              "      border-radius: 50%;\n",
              "      cursor: pointer;\n",
              "      display: none;\n",
              "      fill: #1967D2;\n",
              "      height: 32px;\n",
              "      padding: 0 0 0 0;\n",
              "      width: 32px;\n",
              "    }\n",
              "\n",
              "    .colab-df-convert:hover {\n",
              "      background-color: #E2EBFA;\n",
              "      box-shadow: 0px 1px 2px rgba(60, 64, 67, 0.3), 0px 1px 3px 1px rgba(60, 64, 67, 0.15);\n",
              "      fill: #174EA6;\n",
              "    }\n",
              "\n",
              "    .colab-df-buttons div {\n",
              "      margin-bottom: 4px;\n",
              "    }\n",
              "\n",
              "    [theme=dark] .colab-df-convert {\n",
              "      background-color: #3B4455;\n",
              "      fill: #D2E3FC;\n",
              "    }\n",
              "\n",
              "    [theme=dark] .colab-df-convert:hover {\n",
              "      background-color: #434B5C;\n",
              "      box-shadow: 0px 1px 3px 1px rgba(0, 0, 0, 0.15);\n",
              "      filter: drop-shadow(0px 1px 2px rgba(0, 0, 0, 0.3));\n",
              "      fill: #FFFFFF;\n",
              "    }\n",
              "  </style>\n",
              "\n",
              "    <script>\n",
              "      const buttonEl =\n",
              "        document.querySelector('#df-4a2e70b0-cb46-4546-b023-0319ea7c1062 button.colab-df-convert');\n",
              "      buttonEl.style.display =\n",
              "        google.colab.kernel.accessAllowed ? 'block' : 'none';\n",
              "\n",
              "      async function convertToInteractive(key) {\n",
              "        const element = document.querySelector('#df-4a2e70b0-cb46-4546-b023-0319ea7c1062');\n",
              "        const dataTable =\n",
              "          await google.colab.kernel.invokeFunction('convertToInteractive',\n",
              "                                                    [key], {});\n",
              "        if (!dataTable) return;\n",
              "\n",
              "        const docLinkHtml = 'Like what you see? Visit the ' +\n",
              "          '<a target=\"_blank\" href=https://colab.research.google.com/notebooks/data_table.ipynb>data table notebook</a>'\n",
              "          + ' to learn more about interactive tables.';\n",
              "        element.innerHTML = '';\n",
              "        dataTable['output_type'] = 'display_data';\n",
              "        await google.colab.output.renderOutput(dataTable, element);\n",
              "        const docLink = document.createElement('div');\n",
              "        docLink.innerHTML = docLinkHtml;\n",
              "        element.appendChild(docLink);\n",
              "      }\n",
              "    </script>\n",
              "  </div>\n",
              "\n",
              "\n",
              "    <div id=\"df-4280ac17-edea-4ff7-948b-2ecb2fe2f4df\">\n",
              "      <button class=\"colab-df-quickchart\" onclick=\"quickchart('df-4280ac17-edea-4ff7-948b-2ecb2fe2f4df')\"\n",
              "                title=\"Suggest charts\"\n",
              "                style=\"display:none;\">\n",
              "\n",
              "<svg xmlns=\"http://www.w3.org/2000/svg\" height=\"24px\"viewBox=\"0 0 24 24\"\n",
              "     width=\"24px\">\n",
              "    <g>\n",
              "        <path d=\"M19 3H5c-1.1 0-2 .9-2 2v14c0 1.1.9 2 2 2h14c1.1 0 2-.9 2-2V5c0-1.1-.9-2-2-2zM9 17H7v-7h2v7zm4 0h-2V7h2v10zm4 0h-2v-4h2v4z\"/>\n",
              "    </g>\n",
              "</svg>\n",
              "      </button>\n",
              "\n",
              "<style>\n",
              "  .colab-df-quickchart {\n",
              "      --bg-color: #E8F0FE;\n",
              "      --fill-color: #1967D2;\n",
              "      --hover-bg-color: #E2EBFA;\n",
              "      --hover-fill-color: #174EA6;\n",
              "      --disabled-fill-color: #AAA;\n",
              "      --disabled-bg-color: #DDD;\n",
              "  }\n",
              "\n",
              "  [theme=dark] .colab-df-quickchart {\n",
              "      --bg-color: #3B4455;\n",
              "      --fill-color: #D2E3FC;\n",
              "      --hover-bg-color: #434B5C;\n",
              "      --hover-fill-color: #FFFFFF;\n",
              "      --disabled-bg-color: #3B4455;\n",
              "      --disabled-fill-color: #666;\n",
              "  }\n",
              "\n",
              "  .colab-df-quickchart {\n",
              "    background-color: var(--bg-color);\n",
              "    border: none;\n",
              "    border-radius: 50%;\n",
              "    cursor: pointer;\n",
              "    display: none;\n",
              "    fill: var(--fill-color);\n",
              "    height: 32px;\n",
              "    padding: 0;\n",
              "    width: 32px;\n",
              "  }\n",
              "\n",
              "  .colab-df-quickchart:hover {\n",
              "    background-color: var(--hover-bg-color);\n",
              "    box-shadow: 0 1px 2px rgba(60, 64, 67, 0.3), 0 1px 3px 1px rgba(60, 64, 67, 0.15);\n",
              "    fill: var(--button-hover-fill-color);\n",
              "  }\n",
              "\n",
              "  .colab-df-quickchart-complete:disabled,\n",
              "  .colab-df-quickchart-complete:disabled:hover {\n",
              "    background-color: var(--disabled-bg-color);\n",
              "    fill: var(--disabled-fill-color);\n",
              "    box-shadow: none;\n",
              "  }\n",
              "\n",
              "  .colab-df-spinner {\n",
              "    border: 2px solid var(--fill-color);\n",
              "    border-color: transparent;\n",
              "    border-bottom-color: var(--fill-color);\n",
              "    animation:\n",
              "      spin 1s steps(1) infinite;\n",
              "  }\n",
              "\n",
              "  @keyframes spin {\n",
              "    0% {\n",
              "      border-color: transparent;\n",
              "      border-bottom-color: var(--fill-color);\n",
              "      border-left-color: var(--fill-color);\n",
              "    }\n",
              "    20% {\n",
              "      border-color: transparent;\n",
              "      border-left-color: var(--fill-color);\n",
              "      border-top-color: var(--fill-color);\n",
              "    }\n",
              "    30% {\n",
              "      border-color: transparent;\n",
              "      border-left-color: var(--fill-color);\n",
              "      border-top-color: var(--fill-color);\n",
              "      border-right-color: var(--fill-color);\n",
              "    }\n",
              "    40% {\n",
              "      border-color: transparent;\n",
              "      border-right-color: var(--fill-color);\n",
              "      border-top-color: var(--fill-color);\n",
              "    }\n",
              "    60% {\n",
              "      border-color: transparent;\n",
              "      border-right-color: var(--fill-color);\n",
              "    }\n",
              "    80% {\n",
              "      border-color: transparent;\n",
              "      border-right-color: var(--fill-color);\n",
              "      border-bottom-color: var(--fill-color);\n",
              "    }\n",
              "    90% {\n",
              "      border-color: transparent;\n",
              "      border-bottom-color: var(--fill-color);\n",
              "    }\n",
              "  }\n",
              "</style>\n",
              "\n",
              "      <script>\n",
              "        async function quickchart(key) {\n",
              "          const quickchartButtonEl =\n",
              "            document.querySelector('#' + key + ' button');\n",
              "          quickchartButtonEl.disabled = true;  // To prevent multiple clicks.\n",
              "          quickchartButtonEl.classList.add('colab-df-spinner');\n",
              "          try {\n",
              "            const charts = await google.colab.kernel.invokeFunction(\n",
              "                'suggestCharts', [key], {});\n",
              "          } catch (error) {\n",
              "            console.error('Error during call to suggestCharts:', error);\n",
              "          }\n",
              "          quickchartButtonEl.classList.remove('colab-df-spinner');\n",
              "          quickchartButtonEl.classList.add('colab-df-quickchart-complete');\n",
              "        }\n",
              "        (() => {\n",
              "          let quickchartButtonEl =\n",
              "            document.querySelector('#df-4280ac17-edea-4ff7-948b-2ecb2fe2f4df button');\n",
              "          quickchartButtonEl.style.display =\n",
              "            google.colab.kernel.accessAllowed ? 'block' : 'none';\n",
              "        })();\n",
              "      </script>\n",
              "    </div>\n",
              "\n",
              "    </div>\n",
              "  </div>\n"
            ],
            "text/plain": [
              "        production_year  mileage     condition  owners_number  \\\n",
              "436947             2024        0  CONDITION_OK              0   \n",
              "329729             2020    40460  CONDITION_OK              1   \n",
              "343497             2000   380000  CONDITION_OK              4   \n",
              "439784             2019   170000  CONDITION_OK              1   \n",
              "550845             2023      107  CONDITION_OK              1   \n",
              "431808             2015   110727  CONDITION_OK              1   \n",
              "167063             2024        0  CONDITION_OK              0   \n",
              "391523             2022    13000  CONDITION_OK              0   \n",
              "210052             2024      100  CONDITION_OK              1   \n",
              "46816              2024       34  CONDITION_OK              1   \n",
              "\n",
              "       accidents_resolution           region seller_type          brand  \\\n",
              "436947                   OK  Санкт-Петербург  COMMERCIAL          Skoda   \n",
              "329729                ERROR           Москва     PRIVATE  Mercedes-Benz   \n",
              "343497                   OK           Москва     PRIVATE  Mercedes-Benz   \n",
              "439784                ERROR           Москва     PRIVATE          Skoda   \n",
              "550845                   OK        Краснодар     PRIVATE     Lada (ВАЗ)   \n",
              "431808                   OK              Уфа  COMMERCIAL        Renault   \n",
              "167063                   OK            Химки  COMMERCIAL        Genesis   \n",
              "391523                   OK      Владивосток  COMMERCIAL         Nissan   \n",
              "210052                   OK      Новосибирск     PRIVATE        Hyundai   \n",
              "46816                    OK           Москва  COMMERCIAL            BMW   \n",
              "\n",
              "             model          body_type  ...  e-adjustment-wheel fcw  \\\n",
              "436947       Karoq    ALLROAD_5_DOORS  ...                   0   0   \n",
              "329729     E-Класс      COUPE_HARDTOP  ...                   0   0   \n",
              "343497     M-Класс    ALLROAD_5_DOORS  ...                   0   0   \n",
              "439784     Octavia           LIFTBACK  ...                   0   0   \n",
              "550845      Largus      WAGON_5_DOORS  ...                   0   0   \n",
              "431808     Sandero  HATCHBACK_5_DOORS  ...                   0   0   \n",
              "167063  GV80 Coupe    ALLROAD_5_DOORS  ...                   1   1   \n",
              "391523     X-Trail    ALLROAD_5_DOORS  ...                   0   0   \n",
              "210052     Elantra              SEDAN  ...                   0   0   \n",
              "46816           X5    ALLROAD_5_DOORS  ...                   0   0   \n",
              "\n",
              "        climate-control-2  wheel-power  electro-window-back isofix-front  \\\n",
              "436947                  1            1                    1            0   \n",
              "329729                  0            0                    1            0   \n",
              "343497                  0            0                    0            0   \n",
              "439784                  1            0                    1            0   \n",
              "550845                  0            1                    0            0   \n",
              "431808                  0            1                    0            0   \n",
              "167063                  1            1                    1            0   \n",
              "391523                  0            0                    0            0   \n",
              "210052                  0            0                    0            0   \n",
              "46816                   0            0                    0            0   \n",
              "\n",
              "        android-auto wheel-leather remote-engine-start  glonass  \n",
              "436947             0             0                   0        1  \n",
              "329729             0             1                   0        0  \n",
              "343497             0             0                   0        0  \n",
              "439784             1             1                   0        1  \n",
              "550845             0             0                   0        1  \n",
              "431808             0             0                   0        0  \n",
              "167063             1             1                   0        0  \n",
              "391523             0             0                   0        0  \n",
              "210052             0             0                   0        0  \n",
              "46816              0             0                   0        0  \n",
              "\n",
              "[10 rows x 416 columns]"
            ]
          },
          "execution_count": 17,
          "metadata": {},
          "output_type": "execute_result"
        }
      ],
      "source": [
        "full_df.sample(10)"
      ]
    },
    {
      "cell_type": "code",
      "execution_count": 18,
      "metadata": {
        "colab": {
          "base_uri": "https://localhost:8080/"
        },
        "id": "xDBVZgKCg02O",
        "outputId": "fd2103ee-64ba-4fe6-aaa1-9ca58b968847"
      },
      "outputs": [
        {
          "name": "stdout",
          "output_type": "stream",
          "text": [
            "Удалено числовых коррелирующих признаков: 112\n",
            "Осталось признаков в df_reduced: 304 из 416\n"
          ]
        }
      ],
      "source": [
        "import pandas as pd\n",
        "import numpy as np\n",
        "from scipy.cluster import hierarchy\n",
        "from scipy.spatial.distance import squareform\n",
        "\n",
        "numeric_df = full_df.select_dtypes(include=[np.number])\n",
        "numeric_df = numeric_df.loc[:, numeric_df.nunique() > 1]\n",
        "\n",
        "corr = numeric_df.corr().abs().fillna(0)\n",
        "\n",
        "dist = 1 - corr\n",
        "\n",
        "dist = (dist + dist.T) / 2\n",
        "np.fill_diagonal(dist.values, 0)\n",
        "\n",
        "dist = dist.clip(lower=0)\n",
        "\n",
        "dist_vect = squareform(dist)\n",
        "Z = hierarchy.linkage(dist_vect, method='average')\n",
        "\n",
        "max_d = 0.4\n",
        "clusters = hierarchy.fcluster(Z, t=max_d, criterion='distance')\n",
        "\n",
        "cluster_df = pd.DataFrame({'feature': numeric_df.columns, 'cluster': clusters})\n",
        "to_keep = ['production_year', 'mileage', 'owners_number', 'doors_count', 'seats', 'engine_displacement', 'engine_power', 'fuel_rate']\n",
        "for c in cluster_df['cluster'].unique():\n",
        "    members = cluster_df.loc[cluster_df['cluster'] == c, 'feature']\n",
        "    avg_corr = corr.loc[members, members].mean().sort_values(ascending=False)\n",
        "    to_keep.append(avg_corr.index[0])\n",
        "to_keep = list(dict.fromkeys(to_keep))\n",
        "\n",
        "to_drop = [col for col in numeric_df.columns if col not in to_keep]\n",
        "df_reduced = full_df.drop(columns=to_drop)\n",
        "\n",
        "print(f\"Удалено числовых коррелирующих признаков: {len(to_drop)}\")\n",
        "print(f\"Осталось признаков в df_reduced: {df_reduced.shape[1]} из {full_df.shape[1]}\")"
      ]
    },
    {
      "cell_type": "code",
      "execution_count": 19,
      "metadata": {
        "colab": {
          "base_uri": "https://localhost:8080/",
          "height": 482
        },
        "id": "r35IbOWWg2aP",
        "outputId": "5f7115ab-3c10-4b6d-8938-420ba95621df"
      },
      "outputs": [
        {
          "data": {
            "application/vnd.google.colaboratory.intrinsic+json": {
              "type": "dataframe"
            },
            "text/html": [
              "\n",
              "  <div id=\"df-33f6837a-ff1d-4c7f-99b6-a729d65747a3\" class=\"colab-df-container\">\n",
              "    <div>\n",
              "<style scoped>\n",
              "    .dataframe tbody tr th:only-of-type {\n",
              "        vertical-align: middle;\n",
              "    }\n",
              "\n",
              "    .dataframe tbody tr th {\n",
              "        vertical-align: top;\n",
              "    }\n",
              "\n",
              "    .dataframe thead th {\n",
              "        text-align: right;\n",
              "    }\n",
              "</style>\n",
              "<table border=\"1\" class=\"dataframe\">\n",
              "  <thead>\n",
              "    <tr style=\"text-align: right;\">\n",
              "      <th></th>\n",
              "      <th>production_year</th>\n",
              "      <th>mileage</th>\n",
              "      <th>condition</th>\n",
              "      <th>owners_number</th>\n",
              "      <th>accidents_resolution</th>\n",
              "      <th>region</th>\n",
              "      <th>seller_type</th>\n",
              "      <th>brand</th>\n",
              "      <th>model</th>\n",
              "      <th>body_type</th>\n",
              "      <th>...</th>\n",
              "      <th>tja</th>\n",
              "      <th>massage-seats</th>\n",
              "      <th>fabric-seats</th>\n",
              "      <th>eco-leather</th>\n",
              "      <th>reduce-spare-wheel</th>\n",
              "      <th>easy-trunk-opening</th>\n",
              "      <th>wheel-power</th>\n",
              "      <th>isofix-front</th>\n",
              "      <th>remote-engine-start</th>\n",
              "      <th>glonass</th>\n",
              "    </tr>\n",
              "  </thead>\n",
              "  <tbody>\n",
              "    <tr>\n",
              "      <th>518746</th>\n",
              "      <td>2007</td>\n",
              "      <td>33000</td>\n",
              "      <td>CONDITION_OK</td>\n",
              "      <td>1</td>\n",
              "      <td>ERROR</td>\n",
              "      <td>Аксай</td>\n",
              "      <td>PRIVATE</td>\n",
              "      <td>Lada (ВАЗ)</td>\n",
              "      <td>2107</td>\n",
              "      <td>SEDAN</td>\n",
              "      <td>...</td>\n",
              "      <td>0</td>\n",
              "      <td>0</td>\n",
              "      <td>0</td>\n",
              "      <td>0</td>\n",
              "      <td>0</td>\n",
              "      <td>0</td>\n",
              "      <td>0</td>\n",
              "      <td>0</td>\n",
              "      <td>0</td>\n",
              "      <td>0</td>\n",
              "    </tr>\n",
              "    <tr>\n",
              "      <th>224119</th>\n",
              "      <td>2021</td>\n",
              "      <td>23211</td>\n",
              "      <td>CONDITION_OK</td>\n",
              "      <td>1</td>\n",
              "      <td>OK</td>\n",
              "      <td>Москва</td>\n",
              "      <td>PRIVATE</td>\n",
              "      <td>Hyundai</td>\n",
              "      <td>Solaris</td>\n",
              "      <td>SEDAN</td>\n",
              "      <td>...</td>\n",
              "      <td>0</td>\n",
              "      <td>0</td>\n",
              "      <td>1</td>\n",
              "      <td>0</td>\n",
              "      <td>0</td>\n",
              "      <td>0</td>\n",
              "      <td>1</td>\n",
              "      <td>0</td>\n",
              "      <td>1</td>\n",
              "      <td>1</td>\n",
              "    </tr>\n",
              "    <tr>\n",
              "      <th>351020</th>\n",
              "      <td>2021</td>\n",
              "      <td>6122</td>\n",
              "      <td>CONDITION_OK</td>\n",
              "      <td>1</td>\n",
              "      <td>OK</td>\n",
              "      <td>Уссурийск</td>\n",
              "      <td>COMMERCIAL</td>\n",
              "      <td>Mini</td>\n",
              "      <td>Countryman</td>\n",
              "      <td>ALLROAD_5_DOORS</td>\n",
              "      <td>...</td>\n",
              "      <td>0</td>\n",
              "      <td>0</td>\n",
              "      <td>0</td>\n",
              "      <td>0</td>\n",
              "      <td>0</td>\n",
              "      <td>0</td>\n",
              "      <td>0</td>\n",
              "      <td>0</td>\n",
              "      <td>0</td>\n",
              "      <td>0</td>\n",
              "    </tr>\n",
              "    <tr>\n",
              "      <th>424138</th>\n",
              "      <td>2016</td>\n",
              "      <td>4500</td>\n",
              "      <td>CONDITION_OK</td>\n",
              "      <td>1</td>\n",
              "      <td>ERROR</td>\n",
              "      <td>Погар</td>\n",
              "      <td>PRIVATE</td>\n",
              "      <td>Renault</td>\n",
              "      <td>Kaptur</td>\n",
              "      <td>ALLROAD_5_DOORS</td>\n",
              "      <td>...</td>\n",
              "      <td>0</td>\n",
              "      <td>0</td>\n",
              "      <td>1</td>\n",
              "      <td>0</td>\n",
              "      <td>0</td>\n",
              "      <td>0</td>\n",
              "      <td>1</td>\n",
              "      <td>0</td>\n",
              "      <td>0</td>\n",
              "      <td>1</td>\n",
              "    </tr>\n",
              "    <tr>\n",
              "      <th>89776</th>\n",
              "      <td>2011</td>\n",
              "      <td>245600</td>\n",
              "      <td>CONDITION_OK</td>\n",
              "      <td>3</td>\n",
              "      <td>OK</td>\n",
              "      <td>Тверь</td>\n",
              "      <td>PRIVATE</td>\n",
              "      <td>Chevrolet</td>\n",
              "      <td>Aveo</td>\n",
              "      <td>SEDAN</td>\n",
              "      <td>...</td>\n",
              "      <td>0</td>\n",
              "      <td>0</td>\n",
              "      <td>1</td>\n",
              "      <td>0</td>\n",
              "      <td>0</td>\n",
              "      <td>0</td>\n",
              "      <td>0</td>\n",
              "      <td>0</td>\n",
              "      <td>0</td>\n",
              "      <td>0</td>\n",
              "    </tr>\n",
              "    <tr>\n",
              "      <th>297634</th>\n",
              "      <td>2023</td>\n",
              "      <td>18300</td>\n",
              "      <td>CONDITION_OK</td>\n",
              "      <td>1</td>\n",
              "      <td>OK</td>\n",
              "      <td>Москва</td>\n",
              "      <td>PRIVATE</td>\n",
              "      <td>Lexus</td>\n",
              "      <td>RX</td>\n",
              "      <td>ALLROAD_5_DOORS</td>\n",
              "      <td>...</td>\n",
              "      <td>0</td>\n",
              "      <td>0</td>\n",
              "      <td>0</td>\n",
              "      <td>0</td>\n",
              "      <td>0</td>\n",
              "      <td>1</td>\n",
              "      <td>1</td>\n",
              "      <td>0</td>\n",
              "      <td>0</td>\n",
              "      <td>0</td>\n",
              "    </tr>\n",
              "    <tr>\n",
              "      <th>449720</th>\n",
              "      <td>2024</td>\n",
              "      <td>0</td>\n",
              "      <td>CONDITION_OK</td>\n",
              "      <td>0</td>\n",
              "      <td>OK</td>\n",
              "      <td>Москва</td>\n",
              "      <td>COMMERCIAL</td>\n",
              "      <td>Soueast</td>\n",
              "      <td>S07</td>\n",
              "      <td>ALLROAD_5_DOORS</td>\n",
              "      <td>...</td>\n",
              "      <td>1</td>\n",
              "      <td>0</td>\n",
              "      <td>0</td>\n",
              "      <td>1</td>\n",
              "      <td>0</td>\n",
              "      <td>0</td>\n",
              "      <td>1</td>\n",
              "      <td>0</td>\n",
              "      <td>1</td>\n",
              "      <td>1</td>\n",
              "    </tr>\n",
              "    <tr>\n",
              "      <th>49847</th>\n",
              "      <td>2020</td>\n",
              "      <td>121000</td>\n",
              "      <td>CONDITION_OK</td>\n",
              "      <td>1</td>\n",
              "      <td>OK</td>\n",
              "      <td>Москва</td>\n",
              "      <td>PRIVATE</td>\n",
              "      <td>BMW</td>\n",
              "      <td>X6</td>\n",
              "      <td>ALLROAD_5_DOORS</td>\n",
              "      <td>...</td>\n",
              "      <td>0</td>\n",
              "      <td>0</td>\n",
              "      <td>0</td>\n",
              "      <td>0</td>\n",
              "      <td>0</td>\n",
              "      <td>1</td>\n",
              "      <td>0</td>\n",
              "      <td>0</td>\n",
              "      <td>1</td>\n",
              "      <td>1</td>\n",
              "    </tr>\n",
              "    <tr>\n",
              "      <th>48872</th>\n",
              "      <td>2024</td>\n",
              "      <td>0</td>\n",
              "      <td>CONDITION_OK</td>\n",
              "      <td>0</td>\n",
              "      <td>OK</td>\n",
              "      <td>Краснодар</td>\n",
              "      <td>COMMERCIAL</td>\n",
              "      <td>BMW</td>\n",
              "      <td>X6</td>\n",
              "      <td>ALLROAD_5_DOORS</td>\n",
              "      <td>...</td>\n",
              "      <td>0</td>\n",
              "      <td>0</td>\n",
              "      <td>0</td>\n",
              "      <td>0</td>\n",
              "      <td>0</td>\n",
              "      <td>0</td>\n",
              "      <td>1</td>\n",
              "      <td>0</td>\n",
              "      <td>0</td>\n",
              "      <td>0</td>\n",
              "    </tr>\n",
              "    <tr>\n",
              "      <th>846</th>\n",
              "      <td>1999</td>\n",
              "      <td>363500</td>\n",
              "      <td>CONDITION_OK</td>\n",
              "      <td>3</td>\n",
              "      <td>OK</td>\n",
              "      <td>Уфа</td>\n",
              "      <td>PRIVATE</td>\n",
              "      <td>Alfa Romeo</td>\n",
              "      <td>166</td>\n",
              "      <td>SEDAN</td>\n",
              "      <td>...</td>\n",
              "      <td>0</td>\n",
              "      <td>0</td>\n",
              "      <td>0</td>\n",
              "      <td>0</td>\n",
              "      <td>0</td>\n",
              "      <td>0</td>\n",
              "      <td>1</td>\n",
              "      <td>0</td>\n",
              "      <td>0</td>\n",
              "      <td>0</td>\n",
              "    </tr>\n",
              "  </tbody>\n",
              "</table>\n",
              "<p>10 rows × 304 columns</p>\n",
              "</div>\n",
              "    <div class=\"colab-df-buttons\">\n",
              "\n",
              "  <div class=\"colab-df-container\">\n",
              "    <button class=\"colab-df-convert\" onclick=\"convertToInteractive('df-33f6837a-ff1d-4c7f-99b6-a729d65747a3')\"\n",
              "            title=\"Convert this dataframe to an interactive table.\"\n",
              "            style=\"display:none;\">\n",
              "\n",
              "  <svg xmlns=\"http://www.w3.org/2000/svg\" height=\"24px\" viewBox=\"0 -960 960 960\">\n",
              "    <path d=\"M120-120v-720h720v720H120Zm60-500h600v-160H180v160Zm220 220h160v-160H400v160Zm0 220h160v-160H400v160ZM180-400h160v-160H180v160Zm440 0h160v-160H620v160ZM180-180h160v-160H180v160Zm440 0h160v-160H620v160Z\"/>\n",
              "  </svg>\n",
              "    </button>\n",
              "\n",
              "  <style>\n",
              "    .colab-df-container {\n",
              "      display:flex;\n",
              "      gap: 12px;\n",
              "    }\n",
              "\n",
              "    .colab-df-convert {\n",
              "      background-color: #E8F0FE;\n",
              "      border: none;\n",
              "      border-radius: 50%;\n",
              "      cursor: pointer;\n",
              "      display: none;\n",
              "      fill: #1967D2;\n",
              "      height: 32px;\n",
              "      padding: 0 0 0 0;\n",
              "      width: 32px;\n",
              "    }\n",
              "\n",
              "    .colab-df-convert:hover {\n",
              "      background-color: #E2EBFA;\n",
              "      box-shadow: 0px 1px 2px rgba(60, 64, 67, 0.3), 0px 1px 3px 1px rgba(60, 64, 67, 0.15);\n",
              "      fill: #174EA6;\n",
              "    }\n",
              "\n",
              "    .colab-df-buttons div {\n",
              "      margin-bottom: 4px;\n",
              "    }\n",
              "\n",
              "    [theme=dark] .colab-df-convert {\n",
              "      background-color: #3B4455;\n",
              "      fill: #D2E3FC;\n",
              "    }\n",
              "\n",
              "    [theme=dark] .colab-df-convert:hover {\n",
              "      background-color: #434B5C;\n",
              "      box-shadow: 0px 1px 3px 1px rgba(0, 0, 0, 0.15);\n",
              "      filter: drop-shadow(0px 1px 2px rgba(0, 0, 0, 0.3));\n",
              "      fill: #FFFFFF;\n",
              "    }\n",
              "  </style>\n",
              "\n",
              "    <script>\n",
              "      const buttonEl =\n",
              "        document.querySelector('#df-33f6837a-ff1d-4c7f-99b6-a729d65747a3 button.colab-df-convert');\n",
              "      buttonEl.style.display =\n",
              "        google.colab.kernel.accessAllowed ? 'block' : 'none';\n",
              "\n",
              "      async function convertToInteractive(key) {\n",
              "        const element = document.querySelector('#df-33f6837a-ff1d-4c7f-99b6-a729d65747a3');\n",
              "        const dataTable =\n",
              "          await google.colab.kernel.invokeFunction('convertToInteractive',\n",
              "                                                    [key], {});\n",
              "        if (!dataTable) return;\n",
              "\n",
              "        const docLinkHtml = 'Like what you see? Visit the ' +\n",
              "          '<a target=\"_blank\" href=https://colab.research.google.com/notebooks/data_table.ipynb>data table notebook</a>'\n",
              "          + ' to learn more about interactive tables.';\n",
              "        element.innerHTML = '';\n",
              "        dataTable['output_type'] = 'display_data';\n",
              "        await google.colab.output.renderOutput(dataTable, element);\n",
              "        const docLink = document.createElement('div');\n",
              "        docLink.innerHTML = docLinkHtml;\n",
              "        element.appendChild(docLink);\n",
              "      }\n",
              "    </script>\n",
              "  </div>\n",
              "\n",
              "\n",
              "    <div id=\"df-cd204dfe-0f21-41fc-9036-72f238751a5d\">\n",
              "      <button class=\"colab-df-quickchart\" onclick=\"quickchart('df-cd204dfe-0f21-41fc-9036-72f238751a5d')\"\n",
              "                title=\"Suggest charts\"\n",
              "                style=\"display:none;\">\n",
              "\n",
              "<svg xmlns=\"http://www.w3.org/2000/svg\" height=\"24px\"viewBox=\"0 0 24 24\"\n",
              "     width=\"24px\">\n",
              "    <g>\n",
              "        <path d=\"M19 3H5c-1.1 0-2 .9-2 2v14c0 1.1.9 2 2 2h14c1.1 0 2-.9 2-2V5c0-1.1-.9-2-2-2zM9 17H7v-7h2v7zm4 0h-2V7h2v10zm4 0h-2v-4h2v4z\"/>\n",
              "    </g>\n",
              "</svg>\n",
              "      </button>\n",
              "\n",
              "<style>\n",
              "  .colab-df-quickchart {\n",
              "      --bg-color: #E8F0FE;\n",
              "      --fill-color: #1967D2;\n",
              "      --hover-bg-color: #E2EBFA;\n",
              "      --hover-fill-color: #174EA6;\n",
              "      --disabled-fill-color: #AAA;\n",
              "      --disabled-bg-color: #DDD;\n",
              "  }\n",
              "\n",
              "  [theme=dark] .colab-df-quickchart {\n",
              "      --bg-color: #3B4455;\n",
              "      --fill-color: #D2E3FC;\n",
              "      --hover-bg-color: #434B5C;\n",
              "      --hover-fill-color: #FFFFFF;\n",
              "      --disabled-bg-color: #3B4455;\n",
              "      --disabled-fill-color: #666;\n",
              "  }\n",
              "\n",
              "  .colab-df-quickchart {\n",
              "    background-color: var(--bg-color);\n",
              "    border: none;\n",
              "    border-radius: 50%;\n",
              "    cursor: pointer;\n",
              "    display: none;\n",
              "    fill: var(--fill-color);\n",
              "    height: 32px;\n",
              "    padding: 0;\n",
              "    width: 32px;\n",
              "  }\n",
              "\n",
              "  .colab-df-quickchart:hover {\n",
              "    background-color: var(--hover-bg-color);\n",
              "    box-shadow: 0 1px 2px rgba(60, 64, 67, 0.3), 0 1px 3px 1px rgba(60, 64, 67, 0.15);\n",
              "    fill: var(--button-hover-fill-color);\n",
              "  }\n",
              "\n",
              "  .colab-df-quickchart-complete:disabled,\n",
              "  .colab-df-quickchart-complete:disabled:hover {\n",
              "    background-color: var(--disabled-bg-color);\n",
              "    fill: var(--disabled-fill-color);\n",
              "    box-shadow: none;\n",
              "  }\n",
              "\n",
              "  .colab-df-spinner {\n",
              "    border: 2px solid var(--fill-color);\n",
              "    border-color: transparent;\n",
              "    border-bottom-color: var(--fill-color);\n",
              "    animation:\n",
              "      spin 1s steps(1) infinite;\n",
              "  }\n",
              "\n",
              "  @keyframes spin {\n",
              "    0% {\n",
              "      border-color: transparent;\n",
              "      border-bottom-color: var(--fill-color);\n",
              "      border-left-color: var(--fill-color);\n",
              "    }\n",
              "    20% {\n",
              "      border-color: transparent;\n",
              "      border-left-color: var(--fill-color);\n",
              "      border-top-color: var(--fill-color);\n",
              "    }\n",
              "    30% {\n",
              "      border-color: transparent;\n",
              "      border-left-color: var(--fill-color);\n",
              "      border-top-color: var(--fill-color);\n",
              "      border-right-color: var(--fill-color);\n",
              "    }\n",
              "    40% {\n",
              "      border-color: transparent;\n",
              "      border-right-color: var(--fill-color);\n",
              "      border-top-color: var(--fill-color);\n",
              "    }\n",
              "    60% {\n",
              "      border-color: transparent;\n",
              "      border-right-color: var(--fill-color);\n",
              "    }\n",
              "    80% {\n",
              "      border-color: transparent;\n",
              "      border-right-color: var(--fill-color);\n",
              "      border-bottom-color: var(--fill-color);\n",
              "    }\n",
              "    90% {\n",
              "      border-color: transparent;\n",
              "      border-bottom-color: var(--fill-color);\n",
              "    }\n",
              "  }\n",
              "</style>\n",
              "\n",
              "      <script>\n",
              "        async function quickchart(key) {\n",
              "          const quickchartButtonEl =\n",
              "            document.querySelector('#' + key + ' button');\n",
              "          quickchartButtonEl.disabled = true;  // To prevent multiple clicks.\n",
              "          quickchartButtonEl.classList.add('colab-df-spinner');\n",
              "          try {\n",
              "            const charts = await google.colab.kernel.invokeFunction(\n",
              "                'suggestCharts', [key], {});\n",
              "          } catch (error) {\n",
              "            console.error('Error during call to suggestCharts:', error);\n",
              "          }\n",
              "          quickchartButtonEl.classList.remove('colab-df-spinner');\n",
              "          quickchartButtonEl.classList.add('colab-df-quickchart-complete');\n",
              "        }\n",
              "        (() => {\n",
              "          let quickchartButtonEl =\n",
              "            document.querySelector('#df-cd204dfe-0f21-41fc-9036-72f238751a5d button');\n",
              "          quickchartButtonEl.style.display =\n",
              "            google.colab.kernel.accessAllowed ? 'block' : 'none';\n",
              "        })();\n",
              "      </script>\n",
              "    </div>\n",
              "\n",
              "    </div>\n",
              "  </div>\n"
            ],
            "text/plain": [
              "        production_year  mileage     condition  owners_number  \\\n",
              "518746             2007    33000  CONDITION_OK              1   \n",
              "224119             2021    23211  CONDITION_OK              1   \n",
              "351020             2021     6122  CONDITION_OK              1   \n",
              "424138             2016     4500  CONDITION_OK              1   \n",
              "89776              2011   245600  CONDITION_OK              3   \n",
              "297634             2023    18300  CONDITION_OK              1   \n",
              "449720             2024        0  CONDITION_OK              0   \n",
              "49847              2020   121000  CONDITION_OK              1   \n",
              "48872              2024        0  CONDITION_OK              0   \n",
              "846                1999   363500  CONDITION_OK              3   \n",
              "\n",
              "       accidents_resolution     region seller_type       brand       model  \\\n",
              "518746                ERROR      Аксай     PRIVATE  Lada (ВАЗ)        2107   \n",
              "224119                   OK     Москва     PRIVATE     Hyundai     Solaris   \n",
              "351020                   OK  Уссурийск  COMMERCIAL        Mini  Countryman   \n",
              "424138                ERROR      Погар     PRIVATE     Renault      Kaptur   \n",
              "89776                    OK      Тверь     PRIVATE   Chevrolet        Aveo   \n",
              "297634                   OK     Москва     PRIVATE       Lexus          RX   \n",
              "449720                   OK     Москва  COMMERCIAL     Soueast         S07   \n",
              "49847                    OK     Москва     PRIVATE         BMW          X6   \n",
              "48872                    OK  Краснодар  COMMERCIAL         BMW          X6   \n",
              "846                      OK        Уфа     PRIVATE  Alfa Romeo         166   \n",
              "\n",
              "              body_type  ...  tja massage-seats  fabric-seats  eco-leather  \\\n",
              "518746            SEDAN  ...    0             0             0            0   \n",
              "224119            SEDAN  ...    0             0             1            0   \n",
              "351020  ALLROAD_5_DOORS  ...    0             0             0            0   \n",
              "424138  ALLROAD_5_DOORS  ...    0             0             1            0   \n",
              "89776             SEDAN  ...    0             0             1            0   \n",
              "297634  ALLROAD_5_DOORS  ...    0             0             0            0   \n",
              "449720  ALLROAD_5_DOORS  ...    1             0             0            1   \n",
              "49847   ALLROAD_5_DOORS  ...    0             0             0            0   \n",
              "48872   ALLROAD_5_DOORS  ...    0             0             0            0   \n",
              "846               SEDAN  ...    0             0             0            0   \n",
              "\n",
              "        reduce-spare-wheel easy-trunk-opening  wheel-power isofix-front  \\\n",
              "518746                   0                  0            0            0   \n",
              "224119                   0                  0            1            0   \n",
              "351020                   0                  0            0            0   \n",
              "424138                   0                  0            1            0   \n",
              "89776                    0                  0            0            0   \n",
              "297634                   0                  1            1            0   \n",
              "449720                   0                  0            1            0   \n",
              "49847                    0                  1            0            0   \n",
              "48872                    0                  0            1            0   \n",
              "846                      0                  0            1            0   \n",
              "\n",
              "       remote-engine-start  glonass  \n",
              "518746                   0        0  \n",
              "224119                   1        1  \n",
              "351020                   0        0  \n",
              "424138                   0        1  \n",
              "89776                    0        0  \n",
              "297634                   0        0  \n",
              "449720                   1        1  \n",
              "49847                    1        1  \n",
              "48872                    0        0  \n",
              "846                      0        0  \n",
              "\n",
              "[10 rows x 304 columns]"
            ]
          },
          "execution_count": 19,
          "metadata": {},
          "output_type": "execute_result"
        }
      ],
      "source": [
        "df_reduced.sample(10)"
      ]
    },
    {
      "cell_type": "markdown",
      "metadata": {
        "id": "WAn1uD5S7jhw"
      },
      "source": [
        "### Добавим новые признаки"
      ]
    },
    {
      "cell_type": "code",
      "execution_count": 20,
      "metadata": {
        "id": "pc1FERNY7pls"
      },
      "outputs": [],
      "source": [
        "from sklearn.preprocessing import PolynomialFeatures"
      ]
    },
    {
      "cell_type": "code",
      "execution_count": 21,
      "metadata": {
        "id": "Yv_CiJxf_Tws"
      },
      "outputs": [],
      "source": [
        "df_mod = df_reduced.copy()"
      ]
    },
    {
      "cell_type": "code",
      "execution_count": 22,
      "metadata": {
        "id": "H9A0cNU7EKuw"
      },
      "outputs": [],
      "source": [
        "df_mod[\"age\"] = 2025 - df_mod[\"production_year\"]"
      ]
    },
    {
      "cell_type": "code",
      "execution_count": 23,
      "metadata": {
        "id": "J16I4vCf_0mi"
      },
      "outputs": [],
      "source": [
        "numeric_cols = ['mileage', 'engine_displacement', 'engine_power', 'age']"
      ]
    },
    {
      "cell_type": "code",
      "execution_count": 24,
      "metadata": {
        "id": "P6O5wwYwB4de"
      },
      "outputs": [],
      "source": [
        "df_mod['log_price'] = np.log1p(df['price'])"
      ]
    },
    {
      "cell_type": "code",
      "execution_count": 25,
      "metadata": {
        "id": "F1KfzH_0B86n"
      },
      "outputs": [],
      "source": [
        "df_mod.drop(columns=['price'], inplace=True)"
      ]
    },
    {
      "cell_type": "markdown",
      "metadata": {
        "id": "nZ-hVB9A_X_z"
      },
      "source": [
        "Прологарифмируем некоторые признаки"
      ]
    },
    {
      "cell_type": "code",
      "execution_count": 26,
      "metadata": {
        "id": "W3GFiT35_Xw9"
      },
      "outputs": [],
      "source": [
        "for col in numeric_cols:\n",
        "    df_mod[f'log_{col}'] = np.log1p(df_mod[col])"
      ]
    },
    {
      "cell_type": "markdown",
      "metadata": {
        "id": "hJm7tG1EEWA8"
      },
      "source": [
        "Возьмем корни от числовых признаков"
      ]
    },
    {
      "cell_type": "code",
      "execution_count": 27,
      "metadata": {
        "id": "dCH7rCfXEPi2"
      },
      "outputs": [],
      "source": [
        "for col in numeric_cols:\n",
        "    df_mod[f'square_{col}'] = df_mod[col]**2"
      ]
    },
    {
      "cell_type": "markdown",
      "metadata": {
        "id": "Y-D287mF_dYY"
      },
      "source": [
        "Полиномиальные преобразования"
      ]
    },
    {
      "cell_type": "code",
      "execution_count": 28,
      "metadata": {
        "id": "kFQWW5XQ_cx7"
      },
      "outputs": [],
      "source": [
        "poly = PolynomialFeatures(degree=2, include_bias=False)\n",
        "poly_array = poly.fit_transform(df_mod[numeric_cols].fillna(0))\n",
        "poly_feature_names = poly.get_feature_names_out(numeric_cols)\n",
        "poly_df = pd.DataFrame(poly_array, columns=poly_feature_names, index=df_mod.index)"
      ]
    },
    {
      "cell_type": "code",
      "execution_count": 29,
      "metadata": {
        "id": "pX_FOjJoAJs0"
      },
      "outputs": [],
      "source": [
        "poly_new = poly_df.drop(columns=[c for c in poly_df.columns if c in numeric_cols])\n",
        "df_mod = pd.concat([df_mod, poly_new.add_prefix('poly_')], axis=1)"
      ]
    },
    {
      "cell_type": "markdown",
      "metadata": {
        "id": "9Zd8orNrAQcE"
      },
      "source": [
        "Базовые отношения двигателя"
      ]
    },
    {
      "cell_type": "code",
      "execution_count": 30,
      "metadata": {
        "id": "a_lDEEqUAPGq"
      },
      "outputs": [],
      "source": [
        "df_mod['power_to_disp'] = df_mod['engine_power'] / df_mod['engine_displacement'].clip(lower=0.01)"
      ]
    },
    {
      "cell_type": "markdown",
      "metadata": {
        "id": "A9XHaNUsASmH"
      },
      "source": [
        "Арифметичесике преобразования"
      ]
    },
    {
      "cell_type": "code",
      "execution_count": 31,
      "metadata": {
        "id": "mTjqaxSoASV8"
      },
      "outputs": [],
      "source": [
        "# Произведения признаков\n",
        "df_mod['mileage_x_power'] = df_mod['mileage'] * df_mod['engine_power']\n",
        "df_mod['disp_x_power'] = df_mod['engine_displacement'] * df_mod['engine_power']\n",
        "df_mod['owners_x_power'] = df_mod['owners_number'] * df_mod['engine_power']\n",
        "df_mod[\"age_x_power\"]    = df_mod[\"age\"] * df_mod[\"engine_power\"]\n",
        "df_mod[\"age_x_mileage\"]  = df_mod[\"age\"] * df_mod[\"mileage\"]\n",
        "\n",
        "# Частные признаков\n",
        "df_mod['power_div_mileage'] = df_mod['engine_power'] / df_mod['mileage'].clip(lower=0.01)\n",
        "df_mod['disp_per_mile'] = df_mod['engine_displacement'] / df_mod['mileage'].clip(lower=0.01)\n",
        "df_mod['mileage_per_hp'] = df_mod['mileage'] / df_mod['engine_power'].clip(lower=0.01)\n",
        "df_mod['milage_per_year'] = df_mod['mileage'] / df_mod['age'].clip(lower=0.01)\n",
        "df_mod['power_div_owners'] = df_mod['engine_power'] / df_mod['owners_number'].clip(lower=0.01)\n",
        "df_mod['disp_div_owners'] = df_mod['engine_displacement'] / df_mod['owners_number'].clip(lower=0.01)\n",
        "df_mod['disp_div_fuel'] = df_mod['engine_displacement'] / df_mod['fuel_rate'].clip(lower=0.01)\n",
        "df_mod['fuel_div_disp'] = df_mod['fuel_rate'] / df_mod['engine_displacement'].clip(lower=0.01)\n",
        "df_mod['power_div_fuel'] = df_mod['engine_power'] / df_mod['fuel_rate'].clip(lower=0.01)\n",
        "df_mod['fuel_div_power'] = df_mod['fuel_rate'] / df_mod['engine_power'].clip(lower=0.01)\n",
        "\n",
        "# Лог-взаимодействие\n",
        "df_mod['log_mileage_x_log_power'] = df_mod['log_mileage'] * df_mod['log_engine_power']\n",
        "df_mod['log_age_x_log_power'] = df_mod['log_age'] * df_mod['log_engine_power']\n",
        "\n",
        "# Разности признаков\n",
        "df_mod['power_minus_disp'] = df_mod['engine_power'] - df_mod['engine_displacement']"
      ]
    },
    {
      "cell_type": "code",
      "execution_count": 32,
      "metadata": {
        "id": "GFDfP9V3Arod"
      },
      "outputs": [],
      "source": [
        "from pandas.api.types import is_numeric_dtype\n",
        "\n",
        "# Отношение дверей к местам\n",
        "df_mod['seats_num'] = df_mod['seats'].str.extract(r'(\\d+)').astype(float)\n",
        "df_mod['doors_to_seats_ratio'] = df_mod['doors_count'] / df_mod['seats_num'].clip(lower=0.01)\n",
        "\n",
        "# Индикатор аварий\n",
        "df_mod['has_accident'] = (\n",
        "    ~df_mod['accidents_resolution'].fillna('none').str.lower().isin(['none', 'no', 'unknown'])\n",
        ").astype(int)\n",
        "\n",
        "binary_cols = [\n",
        "    col for col in df.columns\n",
        "    if is_numeric_dtype(df[col]) and\n",
        "       set(df[col].dropna().unique()).issubset({0, 1})\n",
        "]\n",
        "df_mod['num_binary_features'] = df[binary_cols] \\\n",
        "    .astype(bool).sum(axis=1)\n",
        "\n",
        "# Счетчики безопасности и комфорта\n",
        "safety_keywords = ['airbag', 'detection', 'vsm', 'ldw', 'tja', 'rcta', 'ptf']\n",
        "safety_cols = [c for c in df_mod.columns if any(k in c.lower() for k in safety_keywords)]\n",
        "df_mod['safety_feature_count'] = df_mod[safety_cols] \\\n",
        "    .astype(bool).sum(axis=1)\n",
        "\n",
        "comfort_keywords = ['heat', 'leather', 'massage', 'climate', 'vent', 'seat']\n",
        "comfort_cols = [c for c in df_mod.columns if any(k in c.lower() for k in comfort_keywords)]\n",
        "df_mod['comfort_feature_count'] = df_mod[comfort_cols] \\\n",
        "    .astype(bool).sum(axis=1)\n",
        "\n",
        "# Количество preset-тегов\n",
        "preset_cols = [c for c in df_mod.columns if c.startswith('preset')]\n",
        "df_mod['num_presets'] = df_mod[preset_cols] \\\n",
        "    .astype(bool).sum(axis=1)\n",
        "\n",
        "# Является ли машина новой\n",
        "df_mod['is_new'] = ((df_mod['mileage'] < 1000) & (df_mod['owners_number'] <= 1)).astype(int)\n",
        "df_mod['is_very_old'] = (df_mod['age'] > 20).astype(int)\n",
        "\n",
        "df_mod['is_one_owner'] = (df_mod['owners_number'] == 1).astype(int)"
      ]
    },
    {
      "cell_type": "markdown",
      "metadata": {
        "id": "jxou3EtsA3Gn"
      },
      "source": [
        "Проверим, что нет дубликатов"
      ]
    },
    {
      "cell_type": "code",
      "execution_count": 33,
      "metadata": {
        "colab": {
          "base_uri": "https://localhost:8080/"
        },
        "id": "EkxzyQ2BBJN_",
        "outputId": "005fa150-b048-4439-c016-1098c5cc7817"
      },
      "outputs": [
        {
          "data": {
            "text/plain": [
              "np.int64(0)"
            ]
          },
          "execution_count": 33,
          "metadata": {},
          "output_type": "execute_result"
        }
      ],
      "source": [
        "df_mod.columns.duplicated().sum()"
      ]
    },
    {
      "cell_type": "markdown",
      "metadata": {
        "id": "j3mwQy3GFmOF"
      },
      "source": [
        "Проверим, что не появилось пустых значений"
      ]
    },
    {
      "cell_type": "code",
      "execution_count": 34,
      "metadata": {
        "colab": {
          "base_uri": "https://localhost:8080/"
        },
        "id": "0Y6cUFSLFqBk",
        "outputId": "59b843a6-ff73-47d4-e365-ba98ae4a2b1d"
      },
      "outputs": [
        {
          "name": "stdout",
          "output_type": "stream",
          "text": [
            "Колонки с пропусками: []\n"
          ]
        }
      ],
      "source": [
        "cols_with_na = df_mod.columns[df_mod.isna().any()].tolist()\n",
        "print(\"Колонки с пропусками:\", cols_with_na)"
      ]
    },
    {
      "cell_type": "markdown",
      "metadata": {
        "id": "C2a3kbPaifio"
      },
      "source": [
        "### Обучим LightGBM"
      ]
    },
    {
      "cell_type": "code",
      "execution_count": 35,
      "metadata": {
        "colab": {
          "base_uri": "https://localhost:8080/"
        },
        "id": "kGqZFstSjpw2",
        "outputId": "07465a6d-60d1-4657-f434-6259be464703"
      },
      "outputs": [
        {
          "name": "stdout",
          "output_type": "stream",
          "text": [
            "\n",
            "Usage:   \n",
            "  pip3 install [options] <requirement specifier> [package-index-options] ...\n",
            "  pip3 install [options] -r <requirements file> [package-index-options] ...\n",
            "  pip3 install [options] [-e] <vcs project url> ...\n",
            "  pip3 install [options] [-e] <local project path> ...\n",
            "  pip3 install [options] <archive url/path> ...\n",
            "\n",
            "no such option: --install-option\n"
          ]
        }
      ],
      "source": [
        "!pip install lightgbm --install-option=--gpu --install-option=\"--opencl-include-dir=/usr/local/cuda/include/\" --install-option=\"--opencl-library=/usr/local/cuda/lib64/libOpenCL.so\""
      ]
    },
    {
      "cell_type": "code",
      "execution_count": 36,
      "metadata": {
        "colab": {
          "base_uri": "https://localhost:8080/"
        },
        "id": "vJVJzR2QjrCG",
        "outputId": "0b8f223a-16ea-45de-fc8f-36e4df7e7290"
      },
      "outputs": [
        {
          "name": "stdout",
          "output_type": "stream",
          "text": [
            "Requirement already satisfied: optuna in /usr/local/lib/python3.11/dist-packages (4.3.0)\n",
            "Requirement already satisfied: alembic>=1.5.0 in /usr/local/lib/python3.11/dist-packages (from optuna) (1.16.1)\n",
            "Requirement already satisfied: colorlog in /usr/local/lib/python3.11/dist-packages (from optuna) (6.9.0)\n",
            "Requirement already satisfied: numpy in /usr/local/lib/python3.11/dist-packages (from optuna) (2.0.2)\n",
            "Requirement already satisfied: packaging>=20.0 in /usr/local/lib/python3.11/dist-packages (from optuna) (24.2)\n",
            "Requirement already satisfied: sqlalchemy>=1.4.2 in /usr/local/lib/python3.11/dist-packages (from optuna) (2.0.41)\n",
            "Requirement already satisfied: tqdm in /usr/local/lib/python3.11/dist-packages (from optuna) (4.67.1)\n",
            "Requirement already satisfied: PyYAML in /usr/local/lib/python3.11/dist-packages (from optuna) (6.0.2)\n",
            "Requirement already satisfied: Mako in /usr/lib/python3/dist-packages (from alembic>=1.5.0->optuna) (1.1.3)\n",
            "Requirement already satisfied: typing-extensions>=4.12 in /usr/local/lib/python3.11/dist-packages (from alembic>=1.5.0->optuna) (4.14.0)\n",
            "Requirement already satisfied: greenlet>=1 in /usr/local/lib/python3.11/dist-packages (from sqlalchemy>=1.4.2->optuna) (3.2.2)\n"
          ]
        }
      ],
      "source": [
        "!pip install optuna"
      ]
    },
    {
      "cell_type": "code",
      "execution_count": 37,
      "metadata": {
        "id": "YFvsCjtGjk1e"
      },
      "outputs": [],
      "source": [
        "import optuna\n",
        "import numpy as np\n",
        "\n",
        "from sklearn.model_selection import train_test_split\n",
        "from sklearn.compose import ColumnTransformer\n",
        "from sklearn.preprocessing import StandardScaler, OrdinalEncoder\n",
        "from sklearn.metrics import r2_score\n",
        "from lightgbm import LGBMRegressor\n",
        "import joblib"
      ]
    },
    {
      "cell_type": "code",
      "execution_count": 38,
      "metadata": {
        "id": "AzTcbDpqjmSd"
      },
      "outputs": [],
      "source": [
        "RANDOM_STATE = 42"
      ]
    },
    {
      "cell_type": "code",
      "execution_count": 39,
      "metadata": {
        "id": "z_spL-DtjusO"
      },
      "outputs": [],
      "source": [
        "X = df_mod.drop('log_price', axis=1)\n",
        "y = df_mod['log_price']\n",
        "X_train, X_valid, y_train, y_valid = train_test_split(\n",
        "    X, y, test_size=0.2, random_state=RANDOM_STATE\n",
        ")\n",
        "\n",
        "num_features = X.select_dtypes(include=['int64','float64','int8']).columns.tolist()\n",
        "cat_features = X.select_dtypes(include=['object']).columns.tolist()\n",
        "\n",
        "preprocessor = ColumnTransformer([\n",
        "    ('num', StandardScaler(), num_features),\n",
        "    ('cat', OrdinalEncoder(handle_unknown='use_encoded_value', unknown_value=-1), cat_features),\n",
        "])"
      ]
    },
    {
      "cell_type": "code",
      "execution_count": 40,
      "metadata": {
        "colab": {
          "base_uri": "https://localhost:8080/"
        },
        "id": "iJJGkZTSj13m",
        "outputId": "dc265e82-e12c-4122-9c54-b96ebd08633d"
      },
      "outputs": [
        {
          "name": "stderr",
          "output_type": "stream",
          "text": [
            "/usr/local/lib/python3.11/dist-packages/sklearn/utils/validation.py:921: UserWarning: pandas.DataFrame with sparse columns found.It will be converted to a dense numpy array.\n",
            "  warnings.warn(\n",
            "/usr/local/lib/python3.11/dist-packages/sklearn/utils/validation.py:921: UserWarning: pandas.DataFrame with sparse columns found.It will be converted to a dense numpy array.\n",
            "  warnings.warn(\n",
            "/usr/local/lib/python3.11/dist-packages/sklearn/utils/validation.py:921: UserWarning: pandas.DataFrame with sparse columns found.It will be converted to a dense numpy array.\n",
            "  warnings.warn(\n"
          ]
        }
      ],
      "source": [
        "X_train_proc = preprocessor.fit_transform(X_train)\n",
        "X_valid_proc = preprocessor.transform(X_valid)"
      ]
    },
    {
      "cell_type": "code",
      "execution_count": 45,
      "metadata": {
        "id": "m6IILIhOj8LP"
      },
      "outputs": [],
      "source": [
        "import lightgbm as lgb\n",
        "\n",
        "def objective(trial):\n",
        "    params = {\n",
        "        'device':           'gpu',\n",
        "        'n_estimators':     trial.suggest_int('n_estimators', 100, 2000),\n",
        "        'learning_rate':    trial.suggest_loguniform('learning_rate', 1e-3, 1e-1),\n",
        "        'num_leaves':       trial.suggest_int('num_leaves', 31, 256),\n",
        "        'max_depth':        trial.suggest_int('max_depth', 5, 30),\n",
        "        'subsample':        trial.suggest_uniform('subsample', 0.5, 1.0),\n",
        "        'colsample_bytree': trial.suggest_uniform('colsample_bytree', 0.5, 1.0),\n",
        "        'reg_alpha':        trial.suggest_loguniform('reg_alpha', 1e-8, 10.0),\n",
        "        'reg_lambda':       trial.suggest_loguniform('reg_lambda', 1e-8, 10.0),\n",
        "        'min_child_weight': trial.suggest_int('min_child_weight', 1, 50),\n",
        "        'random_state':     RANDOM_STATE,\n",
        "        'verbose':          -1,\n",
        "    }\n",
        "    model = LGBMRegressor(**params)\n",
        "    model.fit(\n",
        "        X_train_proc, y_train,\n",
        "        eval_set=[(X_valid_proc, y_valid)],\n",
        "        callbacks=[lgb.early_stopping(stopping_rounds=50)]\n",
        "    )\n",
        "    preds = model.predict(X_valid_proc)\n",
        "    return r2_score(y_valid, preds)"
      ]
    },
    {
      "cell_type": "code",
      "execution_count": null,
      "metadata": {
        "colab": {
          "base_uri": "https://localhost:8080/",
          "height": 1000,
          "referenced_widgets": [
            "5256437ec7d0442e98a7abb3fb35611c",
            "88cf6e8b301b40fdac9ea26093ecd241",
            "076ca16d18bc4ff09b839aa525cea2eb",
            "7d0ac4cb95fd43dea052ba1c1ab58296",
            "f93e7462131542c8aadfff8873629d21",
            "aa867cfbf4534ab69e736d5e888fb2d8",
            "db9c90b8ee5d4338b7b044bcfffc6837",
            "805289088f0b48869da7efb5c7068fad",
            "b6a752e53563405b862153d21be7014a",
            "6a0ac2902cd645fd952b1827b22afde8",
            "d79546fa43a3477cac19c2aa006db4c1"
          ]
        },
        "id": "lp1tL_Pjj9Ei",
        "outputId": "00082d99-1434-4dbb-95e1-c774ab49d0ec"
      },
      "outputs": [
        {
          "name": "stderr",
          "output_type": "stream",
          "text": [
            "[I 2025-06-09 22:42:14,388] A new study created in memory with name: lgbm_opt_r2\n"
          ]
        },
        {
          "data": {
            "application/vnd.jupyter.widget-view+json": {
              "model_id": "5256437ec7d0442e98a7abb3fb35611c",
              "version_major": 2,
              "version_minor": 0
            },
            "text/plain": [
              "  0%|          | 0/50 [00:00<?, ?it/s]"
            ]
          },
          "metadata": {},
          "output_type": "display_data"
        },
        {
          "name": "stderr",
          "output_type": "stream",
          "text": [
            "<ipython-input-45-fd2484f4a5dd>:7: FutureWarning: suggest_loguniform has been deprecated in v3.0.0. This feature will be removed in v6.0.0. See https://github.com/optuna/optuna/releases/tag/v3.0.0. Use suggest_float(..., log=True) instead.\n",
            "  'learning_rate':    trial.suggest_loguniform('learning_rate', 1e-3, 1e-1),\n",
            "<ipython-input-45-fd2484f4a5dd>:10: FutureWarning: suggest_uniform has been deprecated in v3.0.0. This feature will be removed in v6.0.0. See https://github.com/optuna/optuna/releases/tag/v3.0.0. Use suggest_float instead.\n",
            "  'subsample':        trial.suggest_uniform('subsample', 0.5, 1.0),\n",
            "<ipython-input-45-fd2484f4a5dd>:11: FutureWarning: suggest_uniform has been deprecated in v3.0.0. This feature will be removed in v6.0.0. See https://github.com/optuna/optuna/releases/tag/v3.0.0. Use suggest_float instead.\n",
            "  'colsample_bytree': trial.suggest_uniform('colsample_bytree', 0.5, 1.0),\n",
            "<ipython-input-45-fd2484f4a5dd>:12: FutureWarning: suggest_loguniform has been deprecated in v3.0.0. This feature will be removed in v6.0.0. See https://github.com/optuna/optuna/releases/tag/v3.0.0. Use suggest_float(..., log=True) instead.\n",
            "  'reg_alpha':        trial.suggest_loguniform('reg_alpha', 1e-8, 10.0),\n",
            "<ipython-input-45-fd2484f4a5dd>:13: FutureWarning: suggest_loguniform has been deprecated in v3.0.0. This feature will be removed in v6.0.0. See https://github.com/optuna/optuna/releases/tag/v3.0.0. Use suggest_float(..., log=True) instead.\n",
            "  'reg_lambda':       trial.suggest_loguniform('reg_lambda', 1e-8, 10.0),\n",
            "/usr/local/lib/python3.11/dist-packages/sklearn/utils/deprecation.py:151: FutureWarning: 'force_all_finite' was renamed to 'ensure_all_finite' in 1.6 and will be removed in 1.8.\n",
            "  warnings.warn(\n"
          ]
        },
        {
          "name": "stdout",
          "output_type": "stream",
          "text": [
            "Training until validation scores don't improve for 50 rounds\n",
            "Did not meet early stopping. Best iteration is:\n",
            "[1734]\tvalid_0's l2: 0.0227504\n"
          ]
        },
        {
          "name": "stderr",
          "output_type": "stream",
          "text": [
            "/usr/local/lib/python3.11/dist-packages/sklearn/utils/deprecation.py:151: FutureWarning: 'force_all_finite' was renamed to 'ensure_all_finite' in 1.6 and will be removed in 1.8.\n",
            "  warnings.warn(\n"
          ]
        },
        {
          "name": "stdout",
          "output_type": "stream",
          "text": [
            "[I 2025-06-09 22:47:01,750] Trial 0 finished with value: 0.9808908702546419 and parameters: {'n_estimators': 1734, 'learning_rate': 0.039764739449760694, 'num_leaves': 198, 'max_depth': 13, 'subsample': 0.5313214787231733, 'colsample_bytree': 0.6663976200821805, 'reg_alpha': 2.2031717012226766, 'reg_lambda': 8.370183284297949e-06, 'min_child_weight': 36}. Best is trial 0 with value: 0.9808908702546419.\n"
          ]
        },
        {
          "name": "stderr",
          "output_type": "stream",
          "text": [
            "<ipython-input-45-fd2484f4a5dd>:7: FutureWarning: suggest_loguniform has been deprecated in v3.0.0. This feature will be removed in v6.0.0. See https://github.com/optuna/optuna/releases/tag/v3.0.0. Use suggest_float(..., log=True) instead.\n",
            "  'learning_rate':    trial.suggest_loguniform('learning_rate', 1e-3, 1e-1),\n",
            "<ipython-input-45-fd2484f4a5dd>:10: FutureWarning: suggest_uniform has been deprecated in v3.0.0. This feature will be removed in v6.0.0. See https://github.com/optuna/optuna/releases/tag/v3.0.0. Use suggest_float instead.\n",
            "  'subsample':        trial.suggest_uniform('subsample', 0.5, 1.0),\n",
            "<ipython-input-45-fd2484f4a5dd>:11: FutureWarning: suggest_uniform has been deprecated in v3.0.0. This feature will be removed in v6.0.0. See https://github.com/optuna/optuna/releases/tag/v3.0.0. Use suggest_float instead.\n",
            "  'colsample_bytree': trial.suggest_uniform('colsample_bytree', 0.5, 1.0),\n",
            "<ipython-input-45-fd2484f4a5dd>:12: FutureWarning: suggest_loguniform has been deprecated in v3.0.0. This feature will be removed in v6.0.0. See https://github.com/optuna/optuna/releases/tag/v3.0.0. Use suggest_float(..., log=True) instead.\n",
            "  'reg_alpha':        trial.suggest_loguniform('reg_alpha', 1e-8, 10.0),\n",
            "<ipython-input-45-fd2484f4a5dd>:13: FutureWarning: suggest_loguniform has been deprecated in v3.0.0. This feature will be removed in v6.0.0. See https://github.com/optuna/optuna/releases/tag/v3.0.0. Use suggest_float(..., log=True) instead.\n",
            "  'reg_lambda':       trial.suggest_loguniform('reg_lambda', 1e-8, 10.0),\n",
            "/usr/local/lib/python3.11/dist-packages/sklearn/utils/deprecation.py:151: FutureWarning: 'force_all_finite' was renamed to 'ensure_all_finite' in 1.6 and will be removed in 1.8.\n",
            "  warnings.warn(\n"
          ]
        },
        {
          "name": "stdout",
          "output_type": "stream",
          "text": [
            "Training until validation scores don't improve for 50 rounds\n",
            "Did not meet early stopping. Best iteration is:\n",
            "[526]\tvalid_0's l2: 0.222497\n"
          ]
        },
        {
          "name": "stderr",
          "output_type": "stream",
          "text": [
            "/usr/local/lib/python3.11/dist-packages/sklearn/utils/deprecation.py:151: FutureWarning: 'force_all_finite' was renamed to 'ensure_all_finite' in 1.6 and will be removed in 1.8.\n",
            "  warnings.warn(\n"
          ]
        },
        {
          "name": "stdout",
          "output_type": "stream",
          "text": [
            "[I 2025-06-09 22:50:09,414] Trial 1 finished with value: 0.8131141102463411 and parameters: {'n_estimators': 526, 'learning_rate': 0.0019420284471277202, 'num_leaves': 149, 'max_depth': 30, 'subsample': 0.7671349087266339, 'colsample_bytree': 0.5262759924672935, 'reg_alpha': 1.2968665144467302e-06, 'reg_lambda': 0.013969216039788094, 'min_child_weight': 4}. Best is trial 0 with value: 0.9808908702546419.\n"
          ]
        },
        {
          "name": "stderr",
          "output_type": "stream",
          "text": [
            "<ipython-input-45-fd2484f4a5dd>:7: FutureWarning: suggest_loguniform has been deprecated in v3.0.0. This feature will be removed in v6.0.0. See https://github.com/optuna/optuna/releases/tag/v3.0.0. Use suggest_float(..., log=True) instead.\n",
            "  'learning_rate':    trial.suggest_loguniform('learning_rate', 1e-3, 1e-1),\n",
            "<ipython-input-45-fd2484f4a5dd>:10: FutureWarning: suggest_uniform has been deprecated in v3.0.0. This feature will be removed in v6.0.0. See https://github.com/optuna/optuna/releases/tag/v3.0.0. Use suggest_float instead.\n",
            "  'subsample':        trial.suggest_uniform('subsample', 0.5, 1.0),\n",
            "<ipython-input-45-fd2484f4a5dd>:11: FutureWarning: suggest_uniform has been deprecated in v3.0.0. This feature will be removed in v6.0.0. See https://github.com/optuna/optuna/releases/tag/v3.0.0. Use suggest_float instead.\n",
            "  'colsample_bytree': trial.suggest_uniform('colsample_bytree', 0.5, 1.0),\n",
            "<ipython-input-45-fd2484f4a5dd>:12: FutureWarning: suggest_loguniform has been deprecated in v3.0.0. This feature will be removed in v6.0.0. See https://github.com/optuna/optuna/releases/tag/v3.0.0. Use suggest_float(..., log=True) instead.\n",
            "  'reg_alpha':        trial.suggest_loguniform('reg_alpha', 1e-8, 10.0),\n",
            "<ipython-input-45-fd2484f4a5dd>:13: FutureWarning: suggest_loguniform has been deprecated in v3.0.0. This feature will be removed in v6.0.0. See https://github.com/optuna/optuna/releases/tag/v3.0.0. Use suggest_float(..., log=True) instead.\n",
            "  'reg_lambda':       trial.suggest_loguniform('reg_lambda', 1e-8, 10.0),\n",
            "/usr/local/lib/python3.11/dist-packages/sklearn/utils/deprecation.py:151: FutureWarning: 'force_all_finite' was renamed to 'ensure_all_finite' in 1.6 and will be removed in 1.8.\n",
            "  warnings.warn(\n"
          ]
        },
        {
          "name": "stdout",
          "output_type": "stream",
          "text": [
            "Training until validation scores don't improve for 50 rounds\n",
            "Did not meet early stopping. Best iteration is:\n",
            "[962]\tvalid_0's l2: 0.0234927\n"
          ]
        },
        {
          "name": "stderr",
          "output_type": "stream",
          "text": [
            "/usr/local/lib/python3.11/dist-packages/sklearn/utils/deprecation.py:151: FutureWarning: 'force_all_finite' was renamed to 'ensure_all_finite' in 1.6 and will be removed in 1.8.\n",
            "  warnings.warn(\n"
          ]
        },
        {
          "name": "stdout",
          "output_type": "stream",
          "text": [
            "[I 2025-06-09 22:52:27,347] Trial 2 finished with value: 0.9802673178634327 and parameters: {'n_estimators': 962, 'learning_rate': 0.06788709327340395, 'num_leaves': 147, 'max_depth': 30, 'subsample': 0.7370022528761622, 'colsample_bytree': 0.8459842307890253, 'reg_alpha': 0.005805351602618627, 'reg_lambda': 7.290536657098525e-08, 'min_child_weight': 29}. Best is trial 0 with value: 0.9808908702546419.\n"
          ]
        },
        {
          "name": "stderr",
          "output_type": "stream",
          "text": [
            "<ipython-input-45-fd2484f4a5dd>:7: FutureWarning: suggest_loguniform has been deprecated in v3.0.0. This feature will be removed in v6.0.0. See https://github.com/optuna/optuna/releases/tag/v3.0.0. Use suggest_float(..., log=True) instead.\n",
            "  'learning_rate':    trial.suggest_loguniform('learning_rate', 1e-3, 1e-1),\n",
            "<ipython-input-45-fd2484f4a5dd>:10: FutureWarning: suggest_uniform has been deprecated in v3.0.0. This feature will be removed in v6.0.0. See https://github.com/optuna/optuna/releases/tag/v3.0.0. Use suggest_float instead.\n",
            "  'subsample':        trial.suggest_uniform('subsample', 0.5, 1.0),\n",
            "<ipython-input-45-fd2484f4a5dd>:11: FutureWarning: suggest_uniform has been deprecated in v3.0.0. This feature will be removed in v6.0.0. See https://github.com/optuna/optuna/releases/tag/v3.0.0. Use suggest_float instead.\n",
            "  'colsample_bytree': trial.suggest_uniform('colsample_bytree', 0.5, 1.0),\n",
            "<ipython-input-45-fd2484f4a5dd>:12: FutureWarning: suggest_loguniform has been deprecated in v3.0.0. This feature will be removed in v6.0.0. See https://github.com/optuna/optuna/releases/tag/v3.0.0. Use suggest_float(..., log=True) instead.\n",
            "  'reg_alpha':        trial.suggest_loguniform('reg_alpha', 1e-8, 10.0),\n",
            "<ipython-input-45-fd2484f4a5dd>:13: FutureWarning: suggest_loguniform has been deprecated in v3.0.0. This feature will be removed in v6.0.0. See https://github.com/optuna/optuna/releases/tag/v3.0.0. Use suggest_float(..., log=True) instead.\n",
            "  'reg_lambda':       trial.suggest_loguniform('reg_lambda', 1e-8, 10.0),\n",
            "/usr/local/lib/python3.11/dist-packages/sklearn/utils/deprecation.py:151: FutureWarning: 'force_all_finite' was renamed to 'ensure_all_finite' in 1.6 and will be removed in 1.8.\n",
            "  warnings.warn(\n"
          ]
        },
        {
          "name": "stdout",
          "output_type": "stream",
          "text": [
            "Training until validation scores don't improve for 50 rounds\n",
            "Did not meet early stopping. Best iteration is:\n",
            "[1005]\tvalid_0's l2: 0.0574623\n"
          ]
        },
        {
          "name": "stderr",
          "output_type": "stream",
          "text": [
            "/usr/local/lib/python3.11/dist-packages/sklearn/utils/deprecation.py:151: FutureWarning: 'force_all_finite' was renamed to 'ensure_all_finite' in 1.6 and will be removed in 1.8.\n",
            "  warnings.warn(\n"
          ]
        },
        {
          "name": "stdout",
          "output_type": "stream",
          "text": [
            "[I 2025-06-09 22:54:44,901] Trial 3 finished with value: 0.9517346241241728 and parameters: {'n_estimators': 1005, 'learning_rate': 0.0034875115011724768, 'num_leaves': 179, 'max_depth': 6, 'subsample': 0.5515839840146407, 'colsample_bytree': 0.8273723472104563, 'reg_alpha': 1.1687297377055622e-08, 'reg_lambda': 0.0017297618335890574, 'min_child_weight': 38}. Best is trial 0 with value: 0.9808908702546419.\n"
          ]
        },
        {
          "name": "stderr",
          "output_type": "stream",
          "text": [
            "<ipython-input-45-fd2484f4a5dd>:7: FutureWarning: suggest_loguniform has been deprecated in v3.0.0. This feature will be removed in v6.0.0. See https://github.com/optuna/optuna/releases/tag/v3.0.0. Use suggest_float(..., log=True) instead.\n",
            "  'learning_rate':    trial.suggest_loguniform('learning_rate', 1e-3, 1e-1),\n",
            "<ipython-input-45-fd2484f4a5dd>:10: FutureWarning: suggest_uniform has been deprecated in v3.0.0. This feature will be removed in v6.0.0. See https://github.com/optuna/optuna/releases/tag/v3.0.0. Use suggest_float instead.\n",
            "  'subsample':        trial.suggest_uniform('subsample', 0.5, 1.0),\n",
            "<ipython-input-45-fd2484f4a5dd>:11: FutureWarning: suggest_uniform has been deprecated in v3.0.0. This feature will be removed in v6.0.0. See https://github.com/optuna/optuna/releases/tag/v3.0.0. Use suggest_float instead.\n",
            "  'colsample_bytree': trial.suggest_uniform('colsample_bytree', 0.5, 1.0),\n",
            "<ipython-input-45-fd2484f4a5dd>:12: FutureWarning: suggest_loguniform has been deprecated in v3.0.0. This feature will be removed in v6.0.0. See https://github.com/optuna/optuna/releases/tag/v3.0.0. Use suggest_float(..., log=True) instead.\n",
            "  'reg_alpha':        trial.suggest_loguniform('reg_alpha', 1e-8, 10.0),\n",
            "<ipython-input-45-fd2484f4a5dd>:13: FutureWarning: suggest_loguniform has been deprecated in v3.0.0. This feature will be removed in v6.0.0. See https://github.com/optuna/optuna/releases/tag/v3.0.0. Use suggest_float(..., log=True) instead.\n",
            "  'reg_lambda':       trial.suggest_loguniform('reg_lambda', 1e-8, 10.0),\n",
            "/usr/local/lib/python3.11/dist-packages/sklearn/utils/deprecation.py:151: FutureWarning: 'force_all_finite' was renamed to 'ensure_all_finite' in 1.6 and will be removed in 1.8.\n",
            "  warnings.warn(\n"
          ]
        },
        {
          "name": "stdout",
          "output_type": "stream",
          "text": [
            "Training until validation scores don't improve for 50 rounds\n",
            "Did not meet early stopping. Best iteration is:\n",
            "[1887]\tvalid_0's l2: 0.0223293\n"
          ]
        },
        {
          "name": "stderr",
          "output_type": "stream",
          "text": [
            "/usr/local/lib/python3.11/dist-packages/sklearn/utils/deprecation.py:151: FutureWarning: 'force_all_finite' was renamed to 'ensure_all_finite' in 1.6 and will be removed in 1.8.\n",
            "  warnings.warn(\n"
          ]
        },
        {
          "name": "stdout",
          "output_type": "stream",
          "text": [
            "[I 2025-06-09 22:59:40,255] Trial 4 finished with value: 0.981244571968194 and parameters: {'n_estimators': 1887, 'learning_rate': 0.047731425749493184, 'num_leaves': 244, 'max_depth': 26, 'subsample': 0.9524842540639102, 'colsample_bytree': 0.8422517303640855, 'reg_alpha': 0.036845866263152886, 'reg_lambda': 0.23745557056584296, 'min_child_weight': 24}. Best is trial 4 with value: 0.981244571968194.\n"
          ]
        },
        {
          "name": "stderr",
          "output_type": "stream",
          "text": [
            "<ipython-input-45-fd2484f4a5dd>:7: FutureWarning: suggest_loguniform has been deprecated in v3.0.0. This feature will be removed in v6.0.0. See https://github.com/optuna/optuna/releases/tag/v3.0.0. Use suggest_float(..., log=True) instead.\n",
            "  'learning_rate':    trial.suggest_loguniform('learning_rate', 1e-3, 1e-1),\n",
            "<ipython-input-45-fd2484f4a5dd>:10: FutureWarning: suggest_uniform has been deprecated in v3.0.0. This feature will be removed in v6.0.0. See https://github.com/optuna/optuna/releases/tag/v3.0.0. Use suggest_float instead.\n",
            "  'subsample':        trial.suggest_uniform('subsample', 0.5, 1.0),\n",
            "<ipython-input-45-fd2484f4a5dd>:11: FutureWarning: suggest_uniform has been deprecated in v3.0.0. This feature will be removed in v6.0.0. See https://github.com/optuna/optuna/releases/tag/v3.0.0. Use suggest_float instead.\n",
            "  'colsample_bytree': trial.suggest_uniform('colsample_bytree', 0.5, 1.0),\n",
            "<ipython-input-45-fd2484f4a5dd>:12: FutureWarning: suggest_loguniform has been deprecated in v3.0.0. This feature will be removed in v6.0.0. See https://github.com/optuna/optuna/releases/tag/v3.0.0. Use suggest_float(..., log=True) instead.\n",
            "  'reg_alpha':        trial.suggest_loguniform('reg_alpha', 1e-8, 10.0),\n",
            "<ipython-input-45-fd2484f4a5dd>:13: FutureWarning: suggest_loguniform has been deprecated in v3.0.0. This feature will be removed in v6.0.0. See https://github.com/optuna/optuna/releases/tag/v3.0.0. Use suggest_float(..., log=True) instead.\n",
            "  'reg_lambda':       trial.suggest_loguniform('reg_lambda', 1e-8, 10.0),\n",
            "/usr/local/lib/python3.11/dist-packages/sklearn/utils/deprecation.py:151: FutureWarning: 'force_all_finite' was renamed to 'ensure_all_finite' in 1.6 and will be removed in 1.8.\n",
            "  warnings.warn(\n"
          ]
        },
        {
          "name": "stdout",
          "output_type": "stream",
          "text": [
            "Training until validation scores don't improve for 50 rounds\n",
            "Did not meet early stopping. Best iteration is:\n",
            "[1665]\tvalid_0's l2: 0.0393134\n"
          ]
        },
        {
          "name": "stderr",
          "output_type": "stream",
          "text": [
            "/usr/local/lib/python3.11/dist-packages/sklearn/utils/deprecation.py:151: FutureWarning: 'force_all_finite' was renamed to 'ensure_all_finite' in 1.6 and will be removed in 1.8.\n",
            "  warnings.warn(\n"
          ]
        },
        {
          "name": "stdout",
          "output_type": "stream",
          "text": [
            "[I 2025-06-09 23:05:45,737] Trial 5 finished with value: 0.9669787895882387 and parameters: {'n_estimators': 1665, 'learning_rate': 0.0025730517754693066, 'num_leaves': 168, 'max_depth': 10, 'subsample': 0.7226651043870045, 'colsample_bytree': 0.7519720823332477, 'reg_alpha': 0.0021366836267833326, 'reg_lambda': 1.1029229678883727e-06, 'min_child_weight': 27}. Best is trial 4 with value: 0.981244571968194.\n"
          ]
        },
        {
          "name": "stderr",
          "output_type": "stream",
          "text": [
            "<ipython-input-45-fd2484f4a5dd>:7: FutureWarning: suggest_loguniform has been deprecated in v3.0.0. This feature will be removed in v6.0.0. See https://github.com/optuna/optuna/releases/tag/v3.0.0. Use suggest_float(..., log=True) instead.\n",
            "  'learning_rate':    trial.suggest_loguniform('learning_rate', 1e-3, 1e-1),\n",
            "<ipython-input-45-fd2484f4a5dd>:10: FutureWarning: suggest_uniform has been deprecated in v3.0.0. This feature will be removed in v6.0.0. See https://github.com/optuna/optuna/releases/tag/v3.0.0. Use suggest_float instead.\n",
            "  'subsample':        trial.suggest_uniform('subsample', 0.5, 1.0),\n",
            "<ipython-input-45-fd2484f4a5dd>:11: FutureWarning: suggest_uniform has been deprecated in v3.0.0. This feature will be removed in v6.0.0. See https://github.com/optuna/optuna/releases/tag/v3.0.0. Use suggest_float instead.\n",
            "  'colsample_bytree': trial.suggest_uniform('colsample_bytree', 0.5, 1.0),\n",
            "<ipython-input-45-fd2484f4a5dd>:12: FutureWarning: suggest_loguniform has been deprecated in v3.0.0. This feature will be removed in v6.0.0. See https://github.com/optuna/optuna/releases/tag/v3.0.0. Use suggest_float(..., log=True) instead.\n",
            "  'reg_alpha':        trial.suggest_loguniform('reg_alpha', 1e-8, 10.0),\n",
            "<ipython-input-45-fd2484f4a5dd>:13: FutureWarning: suggest_loguniform has been deprecated in v3.0.0. This feature will be removed in v6.0.0. See https://github.com/optuna/optuna/releases/tag/v3.0.0. Use suggest_float(..., log=True) instead.\n",
            "  'reg_lambda':       trial.suggest_loguniform('reg_lambda', 1e-8, 10.0),\n",
            "/usr/local/lib/python3.11/dist-packages/sklearn/utils/deprecation.py:151: FutureWarning: 'force_all_finite' was renamed to 'ensure_all_finite' in 1.6 and will be removed in 1.8.\n",
            "  warnings.warn(\n"
          ]
        },
        {
          "name": "stdout",
          "output_type": "stream",
          "text": [
            "Training until validation scores don't improve for 50 rounds\n",
            "Did not meet early stopping. Best iteration is:\n",
            "[1895]\tvalid_0's l2: 0.0363186\n"
          ]
        },
        {
          "name": "stderr",
          "output_type": "stream",
          "text": [
            "/usr/local/lib/python3.11/dist-packages/sklearn/utils/deprecation.py:151: FutureWarning: 'force_all_finite' was renamed to 'ensure_all_finite' in 1.6 and will be removed in 1.8.\n",
            "  warnings.warn(\n"
          ]
        },
        {
          "name": "stdout",
          "output_type": "stream",
          "text": [
            "[I 2025-06-09 23:10:19,135] Trial 6 finished with value: 0.9694942696204574 and parameters: {'n_estimators': 1895, 'learning_rate': 0.005521517414147863, 'num_leaves': 61, 'max_depth': 22, 'subsample': 0.8830308605767738, 'colsample_bytree': 0.8573292777953355, 'reg_alpha': 1.6697978655414868e-06, 'reg_lambda': 0.5400381569612341, 'min_child_weight': 18}. Best is trial 4 with value: 0.981244571968194.\n"
          ]
        },
        {
          "name": "stderr",
          "output_type": "stream",
          "text": [
            "<ipython-input-45-fd2484f4a5dd>:7: FutureWarning: suggest_loguniform has been deprecated in v3.0.0. This feature will be removed in v6.0.0. See https://github.com/optuna/optuna/releases/tag/v3.0.0. Use suggest_float(..., log=True) instead.\n",
            "  'learning_rate':    trial.suggest_loguniform('learning_rate', 1e-3, 1e-1),\n",
            "<ipython-input-45-fd2484f4a5dd>:10: FutureWarning: suggest_uniform has been deprecated in v3.0.0. This feature will be removed in v6.0.0. See https://github.com/optuna/optuna/releases/tag/v3.0.0. Use suggest_float instead.\n",
            "  'subsample':        trial.suggest_uniform('subsample', 0.5, 1.0),\n",
            "<ipython-input-45-fd2484f4a5dd>:11: FutureWarning: suggest_uniform has been deprecated in v3.0.0. This feature will be removed in v6.0.0. See https://github.com/optuna/optuna/releases/tag/v3.0.0. Use suggest_float instead.\n",
            "  'colsample_bytree': trial.suggest_uniform('colsample_bytree', 0.5, 1.0),\n",
            "<ipython-input-45-fd2484f4a5dd>:12: FutureWarning: suggest_loguniform has been deprecated in v3.0.0. This feature will be removed in v6.0.0. See https://github.com/optuna/optuna/releases/tag/v3.0.0. Use suggest_float(..., log=True) instead.\n",
            "  'reg_alpha':        trial.suggest_loguniform('reg_alpha', 1e-8, 10.0),\n",
            "<ipython-input-45-fd2484f4a5dd>:13: FutureWarning: suggest_loguniform has been deprecated in v3.0.0. This feature will be removed in v6.0.0. See https://github.com/optuna/optuna/releases/tag/v3.0.0. Use suggest_float(..., log=True) instead.\n",
            "  'reg_lambda':       trial.suggest_loguniform('reg_lambda', 1e-8, 10.0),\n",
            "/usr/local/lib/python3.11/dist-packages/sklearn/utils/deprecation.py:151: FutureWarning: 'force_all_finite' was renamed to 'ensure_all_finite' in 1.6 and will be removed in 1.8.\n",
            "  warnings.warn(\n"
          ]
        },
        {
          "name": "stdout",
          "output_type": "stream",
          "text": [
            "Training until validation scores don't improve for 50 rounds\n",
            "Did not meet early stopping. Best iteration is:\n",
            "[1429]\tvalid_0's l2: 0.022415\n"
          ]
        },
        {
          "name": "stderr",
          "output_type": "stream",
          "text": [
            "/usr/local/lib/python3.11/dist-packages/sklearn/utils/deprecation.py:151: FutureWarning: 'force_all_finite' was renamed to 'ensure_all_finite' in 1.6 and will be removed in 1.8.\n",
            "  warnings.warn(\n"
          ]
        },
        {
          "name": "stdout",
          "output_type": "stream",
          "text": [
            "[I 2025-06-09 23:14:09,403] Trial 7 finished with value: 0.981172564113691 and parameters: {'n_estimators': 1430, 'learning_rate': 0.09670122694365622, 'num_leaves': 252, 'max_depth': 27, 'subsample': 0.6478000101220562, 'colsample_bytree': 0.635561070015204, 'reg_alpha': 5.899145373977128e-07, 'reg_lambda': 2.859832939183072e-07, 'min_child_weight': 12}. Best is trial 4 with value: 0.981244571968194.\n"
          ]
        },
        {
          "name": "stderr",
          "output_type": "stream",
          "text": [
            "<ipython-input-45-fd2484f4a5dd>:7: FutureWarning: suggest_loguniform has been deprecated in v3.0.0. This feature will be removed in v6.0.0. See https://github.com/optuna/optuna/releases/tag/v3.0.0. Use suggest_float(..., log=True) instead.\n",
            "  'learning_rate':    trial.suggest_loguniform('learning_rate', 1e-3, 1e-1),\n",
            "<ipython-input-45-fd2484f4a5dd>:10: FutureWarning: suggest_uniform has been deprecated in v3.0.0. This feature will be removed in v6.0.0. See https://github.com/optuna/optuna/releases/tag/v3.0.0. Use suggest_float instead.\n",
            "  'subsample':        trial.suggest_uniform('subsample', 0.5, 1.0),\n",
            "<ipython-input-45-fd2484f4a5dd>:11: FutureWarning: suggest_uniform has been deprecated in v3.0.0. This feature will be removed in v6.0.0. See https://github.com/optuna/optuna/releases/tag/v3.0.0. Use suggest_float instead.\n",
            "  'colsample_bytree': trial.suggest_uniform('colsample_bytree', 0.5, 1.0),\n",
            "<ipython-input-45-fd2484f4a5dd>:12: FutureWarning: suggest_loguniform has been deprecated in v3.0.0. This feature will be removed in v6.0.0. See https://github.com/optuna/optuna/releases/tag/v3.0.0. Use suggest_float(..., log=True) instead.\n",
            "  'reg_alpha':        trial.suggest_loguniform('reg_alpha', 1e-8, 10.0),\n",
            "<ipython-input-45-fd2484f4a5dd>:13: FutureWarning: suggest_loguniform has been deprecated in v3.0.0. This feature will be removed in v6.0.0. See https://github.com/optuna/optuna/releases/tag/v3.0.0. Use suggest_float(..., log=True) instead.\n",
            "  'reg_lambda':       trial.suggest_loguniform('reg_lambda', 1e-8, 10.0),\n",
            "/usr/local/lib/python3.11/dist-packages/sklearn/utils/deprecation.py:151: FutureWarning: 'force_all_finite' was renamed to 'ensure_all_finite' in 1.6 and will be removed in 1.8.\n",
            "  warnings.warn(\n"
          ]
        },
        {
          "name": "stdout",
          "output_type": "stream",
          "text": [
            "Training until validation scores don't improve for 50 rounds\n",
            "Did not meet early stopping. Best iteration is:\n",
            "[913]\tvalid_0's l2: 0.028576\n"
          ]
        },
        {
          "name": "stderr",
          "output_type": "stream",
          "text": [
            "/usr/local/lib/python3.11/dist-packages/sklearn/utils/deprecation.py:151: FutureWarning: 'force_all_finite' was renamed to 'ensure_all_finite' in 1.6 and will be removed in 1.8.\n",
            "  warnings.warn(\n"
          ]
        },
        {
          "name": "stdout",
          "output_type": "stream",
          "text": [
            "[I 2025-06-09 23:19:24,321] Trial 8 finished with value: 0.9759976279465793 and parameters: {'n_estimators': 913, 'learning_rate': 0.013100632604997987, 'num_leaves': 194, 'max_depth': 12, 'subsample': 0.6328162159623563, 'colsample_bytree': 0.5237255874226683, 'reg_alpha': 2.6030386393106693e-07, 'reg_lambda': 3.7866838315979616e-05, 'min_child_weight': 12}. Best is trial 4 with value: 0.981244571968194.\n"
          ]
        },
        {
          "name": "stderr",
          "output_type": "stream",
          "text": [
            "<ipython-input-45-fd2484f4a5dd>:7: FutureWarning: suggest_loguniform has been deprecated in v3.0.0. This feature will be removed in v6.0.0. See https://github.com/optuna/optuna/releases/tag/v3.0.0. Use suggest_float(..., log=True) instead.\n",
            "  'learning_rate':    trial.suggest_loguniform('learning_rate', 1e-3, 1e-1),\n",
            "<ipython-input-45-fd2484f4a5dd>:10: FutureWarning: suggest_uniform has been deprecated in v3.0.0. This feature will be removed in v6.0.0. See https://github.com/optuna/optuna/releases/tag/v3.0.0. Use suggest_float instead.\n",
            "  'subsample':        trial.suggest_uniform('subsample', 0.5, 1.0),\n",
            "<ipython-input-45-fd2484f4a5dd>:11: FutureWarning: suggest_uniform has been deprecated in v3.0.0. This feature will be removed in v6.0.0. See https://github.com/optuna/optuna/releases/tag/v3.0.0. Use suggest_float instead.\n",
            "  'colsample_bytree': trial.suggest_uniform('colsample_bytree', 0.5, 1.0),\n",
            "<ipython-input-45-fd2484f4a5dd>:12: FutureWarning: suggest_loguniform has been deprecated in v3.0.0. This feature will be removed in v6.0.0. See https://github.com/optuna/optuna/releases/tag/v3.0.0. Use suggest_float(..., log=True) instead.\n",
            "  'reg_alpha':        trial.suggest_loguniform('reg_alpha', 1e-8, 10.0),\n",
            "<ipython-input-45-fd2484f4a5dd>:13: FutureWarning: suggest_loguniform has been deprecated in v3.0.0. This feature will be removed in v6.0.0. See https://github.com/optuna/optuna/releases/tag/v3.0.0. Use suggest_float(..., log=True) instead.\n",
            "  'reg_lambda':       trial.suggest_loguniform('reg_lambda', 1e-8, 10.0),\n",
            "/usr/local/lib/python3.11/dist-packages/sklearn/utils/deprecation.py:151: FutureWarning: 'force_all_finite' was renamed to 'ensure_all_finite' in 1.6 and will be removed in 1.8.\n",
            "  warnings.warn(\n"
          ]
        },
        {
          "name": "stdout",
          "output_type": "stream",
          "text": [
            "Training until validation scores don't improve for 50 rounds\n",
            "Did not meet early stopping. Best iteration is:\n",
            "[398]\tvalid_0's l2: 0.043425\n"
          ]
        },
        {
          "name": "stderr",
          "output_type": "stream",
          "text": [
            "/usr/local/lib/python3.11/dist-packages/sklearn/utils/deprecation.py:151: FutureWarning: 'force_all_finite' was renamed to 'ensure_all_finite' in 1.6 and will be removed in 1.8.\n",
            "  warnings.warn(\n"
          ]
        },
        {
          "name": "stdout",
          "output_type": "stream",
          "text": [
            "[I 2025-06-09 23:21:38,152] Trial 9 finished with value: 0.9635252629243032 and parameters: {'n_estimators': 398, 'learning_rate': 0.009912791877166807, 'num_leaves': 123, 'max_depth': 16, 'subsample': 0.6539601081160837, 'colsample_bytree': 0.5546589459977815, 'reg_alpha': 5.159089300087872e-08, 'reg_lambda': 0.00041426218275354476, 'min_child_weight': 9}. Best is trial 4 with value: 0.981244571968194.\n"
          ]
        },
        {
          "name": "stderr",
          "output_type": "stream",
          "text": [
            "<ipython-input-45-fd2484f4a5dd>:7: FutureWarning: suggest_loguniform has been deprecated in v3.0.0. This feature will be removed in v6.0.0. See https://github.com/optuna/optuna/releases/tag/v3.0.0. Use suggest_float(..., log=True) instead.\n",
            "  'learning_rate':    trial.suggest_loguniform('learning_rate', 1e-3, 1e-1),\n",
            "<ipython-input-45-fd2484f4a5dd>:10: FutureWarning: suggest_uniform has been deprecated in v3.0.0. This feature will be removed in v6.0.0. See https://github.com/optuna/optuna/releases/tag/v3.0.0. Use suggest_float instead.\n",
            "  'subsample':        trial.suggest_uniform('subsample', 0.5, 1.0),\n",
            "<ipython-input-45-fd2484f4a5dd>:11: FutureWarning: suggest_uniform has been deprecated in v3.0.0. This feature will be removed in v6.0.0. See https://github.com/optuna/optuna/releases/tag/v3.0.0. Use suggest_float instead.\n",
            "  'colsample_bytree': trial.suggest_uniform('colsample_bytree', 0.5, 1.0),\n",
            "<ipython-input-45-fd2484f4a5dd>:12: FutureWarning: suggest_loguniform has been deprecated in v3.0.0. This feature will be removed in v6.0.0. See https://github.com/optuna/optuna/releases/tag/v3.0.0. Use suggest_float(..., log=True) instead.\n",
            "  'reg_alpha':        trial.suggest_loguniform('reg_alpha', 1e-8, 10.0),\n",
            "<ipython-input-45-fd2484f4a5dd>:13: FutureWarning: suggest_loguniform has been deprecated in v3.0.0. This feature will be removed in v6.0.0. See https://github.com/optuna/optuna/releases/tag/v3.0.0. Use suggest_float(..., log=True) instead.\n",
            "  'reg_lambda':       trial.suggest_loguniform('reg_lambda', 1e-8, 10.0),\n",
            "/usr/local/lib/python3.11/dist-packages/sklearn/utils/deprecation.py:151: FutureWarning: 'force_all_finite' was renamed to 'ensure_all_finite' in 1.6 and will be removed in 1.8.\n",
            "  warnings.warn(\n"
          ]
        },
        {
          "name": "stdout",
          "output_type": "stream",
          "text": [
            "Training until validation scores don't improve for 50 rounds\n",
            "Did not meet early stopping. Best iteration is:\n",
            "[1333]\tvalid_0's l2: 0.0233515\n"
          ]
        },
        {
          "name": "stderr",
          "output_type": "stream",
          "text": [
            "/usr/local/lib/python3.11/dist-packages/sklearn/utils/deprecation.py:151: FutureWarning: 'force_all_finite' was renamed to 'ensure_all_finite' in 1.6 and will be removed in 1.8.\n",
            "  warnings.warn(\n"
          ]
        },
        {
          "name": "stdout",
          "output_type": "stream",
          "text": [
            "[I 2025-06-09 23:26:24,981] Trial 10 finished with value: 0.980385981886512 and parameters: {'n_estimators': 1333, 'learning_rate': 0.02943379165107319, 'num_leaves': 256, 'max_depth': 22, 'subsample': 0.9854743365590246, 'colsample_bytree': 0.925963770558529, 'reg_alpha': 0.6468068913372033, 'reg_lambda': 6.589656770943343, 'min_child_weight': 44}. Best is trial 4 with value: 0.981244571968194.\n"
          ]
        },
        {
          "name": "stderr",
          "output_type": "stream",
          "text": [
            "<ipython-input-45-fd2484f4a5dd>:7: FutureWarning: suggest_loguniform has been deprecated in v3.0.0. This feature will be removed in v6.0.0. See https://github.com/optuna/optuna/releases/tag/v3.0.0. Use suggest_float(..., log=True) instead.\n",
            "  'learning_rate':    trial.suggest_loguniform('learning_rate', 1e-3, 1e-1),\n",
            "<ipython-input-45-fd2484f4a5dd>:10: FutureWarning: suggest_uniform has been deprecated in v3.0.0. This feature will be removed in v6.0.0. See https://github.com/optuna/optuna/releases/tag/v3.0.0. Use suggest_float instead.\n",
            "  'subsample':        trial.suggest_uniform('subsample', 0.5, 1.0),\n",
            "<ipython-input-45-fd2484f4a5dd>:11: FutureWarning: suggest_uniform has been deprecated in v3.0.0. This feature will be removed in v6.0.0. See https://github.com/optuna/optuna/releases/tag/v3.0.0. Use suggest_float instead.\n",
            "  'colsample_bytree': trial.suggest_uniform('colsample_bytree', 0.5, 1.0),\n",
            "<ipython-input-45-fd2484f4a5dd>:12: FutureWarning: suggest_loguniform has been deprecated in v3.0.0. This feature will be removed in v6.0.0. See https://github.com/optuna/optuna/releases/tag/v3.0.0. Use suggest_float(..., log=True) instead.\n",
            "  'reg_alpha':        trial.suggest_loguniform('reg_alpha', 1e-8, 10.0),\n",
            "<ipython-input-45-fd2484f4a5dd>:13: FutureWarning: suggest_loguniform has been deprecated in v3.0.0. This feature will be removed in v6.0.0. See https://github.com/optuna/optuna/releases/tag/v3.0.0. Use suggest_float(..., log=True) instead.\n",
            "  'reg_lambda':       trial.suggest_loguniform('reg_lambda', 1e-8, 10.0),\n",
            "/usr/local/lib/python3.11/dist-packages/sklearn/utils/deprecation.py:151: FutureWarning: 'force_all_finite' was renamed to 'ensure_all_finite' in 1.6 and will be removed in 1.8.\n",
            "  warnings.warn(\n"
          ]
        },
        {
          "name": "stdout",
          "output_type": "stream",
          "text": [
            "Training until validation scores don't improve for 50 rounds\n",
            "Early stopping, best iteration is:\n",
            "[1287]\tvalid_0's l2: 0.0226591\n"
          ]
        },
        {
          "name": "stderr",
          "output_type": "stream",
          "text": [
            "/usr/local/lib/python3.11/dist-packages/sklearn/utils/deprecation.py:151: FutureWarning: 'force_all_finite' was renamed to 'ensure_all_finite' in 1.6 and will be removed in 1.8.\n",
            "  warnings.warn(\n"
          ]
        },
        {
          "name": "stdout",
          "output_type": "stream",
          "text": [
            "[I 2025-06-09 23:29:47,292] Trial 11 finished with value: 0.9809675519638775 and parameters: {'n_estimators': 1407, 'learning_rate': 0.09894436425235979, 'num_leaves': 256, 'max_depth': 24, 'subsample': 0.8393253496237036, 'colsample_bytree': 0.6617540173178702, 'reg_alpha': 6.497996559279317e-05, 'reg_lambda': 1.564462261521813e-08, 'min_child_weight': 20}. Best is trial 4 with value: 0.981244571968194.\n"
          ]
        },
        {
          "name": "stderr",
          "output_type": "stream",
          "text": [
            "<ipython-input-45-fd2484f4a5dd>:7: FutureWarning: suggest_loguniform has been deprecated in v3.0.0. This feature will be removed in v6.0.0. See https://github.com/optuna/optuna/releases/tag/v3.0.0. Use suggest_float(..., log=True) instead.\n",
            "  'learning_rate':    trial.suggest_loguniform('learning_rate', 1e-3, 1e-1),\n",
            "<ipython-input-45-fd2484f4a5dd>:10: FutureWarning: suggest_uniform has been deprecated in v3.0.0. This feature will be removed in v6.0.0. See https://github.com/optuna/optuna/releases/tag/v3.0.0. Use suggest_float instead.\n",
            "  'subsample':        trial.suggest_uniform('subsample', 0.5, 1.0),\n",
            "<ipython-input-45-fd2484f4a5dd>:11: FutureWarning: suggest_uniform has been deprecated in v3.0.0. This feature will be removed in v6.0.0. See https://github.com/optuna/optuna/releases/tag/v3.0.0. Use suggest_float instead.\n",
            "  'colsample_bytree': trial.suggest_uniform('colsample_bytree', 0.5, 1.0),\n",
            "<ipython-input-45-fd2484f4a5dd>:12: FutureWarning: suggest_loguniform has been deprecated in v3.0.0. This feature will be removed in v6.0.0. See https://github.com/optuna/optuna/releases/tag/v3.0.0. Use suggest_float(..., log=True) instead.\n",
            "  'reg_alpha':        trial.suggest_loguniform('reg_alpha', 1e-8, 10.0),\n",
            "<ipython-input-45-fd2484f4a5dd>:13: FutureWarning: suggest_loguniform has been deprecated in v3.0.0. This feature will be removed in v6.0.0. See https://github.com/optuna/optuna/releases/tag/v3.0.0. Use suggest_float(..., log=True) instead.\n",
            "  'reg_lambda':       trial.suggest_loguniform('reg_lambda', 1e-8, 10.0),\n",
            "/usr/local/lib/python3.11/dist-packages/sklearn/utils/deprecation.py:151: FutureWarning: 'force_all_finite' was renamed to 'ensure_all_finite' in 1.6 and will be removed in 1.8.\n",
            "  warnings.warn(\n"
          ]
        },
        {
          "name": "stdout",
          "output_type": "stream",
          "text": [
            "Training until validation scores don't improve for 50 rounds\n",
            "Did not meet early stopping. Best iteration is:\n",
            "[1431]\tvalid_0's l2: 0.0230579\n"
          ]
        },
        {
          "name": "stderr",
          "output_type": "stream",
          "text": [
            "/usr/local/lib/python3.11/dist-packages/sklearn/utils/deprecation.py:151: FutureWarning: 'force_all_finite' was renamed to 'ensure_all_finite' in 1.6 and will be removed in 1.8.\n",
            "  warnings.warn(\n"
          ]
        },
        {
          "name": "stdout",
          "output_type": "stream",
          "text": [
            "[I 2025-06-09 23:33:59,131] Trial 12 finished with value: 0.980632524350401 and parameters: {'n_estimators': 1431, 'learning_rate': 0.03113445870003604, 'num_leaves': 228, 'max_depth': 26, 'subsample': 0.9995370494911567, 'colsample_bytree': 0.6538581711437207, 'reg_alpha': 0.04622831926673852, 'reg_lambda': 0.031906937881175206, 'min_child_weight': 18}. Best is trial 4 with value: 0.981244571968194.\n"
          ]
        },
        {
          "name": "stderr",
          "output_type": "stream",
          "text": [
            "<ipython-input-45-fd2484f4a5dd>:7: FutureWarning: suggest_loguniform has been deprecated in v3.0.0. This feature will be removed in v6.0.0. See https://github.com/optuna/optuna/releases/tag/v3.0.0. Use suggest_float(..., log=True) instead.\n",
            "  'learning_rate':    trial.suggest_loguniform('learning_rate', 1e-3, 1e-1),\n",
            "<ipython-input-45-fd2484f4a5dd>:10: FutureWarning: suggest_uniform has been deprecated in v3.0.0. This feature will be removed in v6.0.0. See https://github.com/optuna/optuna/releases/tag/v3.0.0. Use suggest_float instead.\n",
            "  'subsample':        trial.suggest_uniform('subsample', 0.5, 1.0),\n",
            "<ipython-input-45-fd2484f4a5dd>:11: FutureWarning: suggest_uniform has been deprecated in v3.0.0. This feature will be removed in v6.0.0. See https://github.com/optuna/optuna/releases/tag/v3.0.0. Use suggest_float instead.\n",
            "  'colsample_bytree': trial.suggest_uniform('colsample_bytree', 0.5, 1.0),\n",
            "<ipython-input-45-fd2484f4a5dd>:12: FutureWarning: suggest_loguniform has been deprecated in v3.0.0. This feature will be removed in v6.0.0. See https://github.com/optuna/optuna/releases/tag/v3.0.0. Use suggest_float(..., log=True) instead.\n",
            "  'reg_alpha':        trial.suggest_loguniform('reg_alpha', 1e-8, 10.0),\n",
            "<ipython-input-45-fd2484f4a5dd>:13: FutureWarning: suggest_loguniform has been deprecated in v3.0.0. This feature will be removed in v6.0.0. See https://github.com/optuna/optuna/releases/tag/v3.0.0. Use suggest_float(..., log=True) instead.\n",
            "  'reg_lambda':       trial.suggest_loguniform('reg_lambda', 1e-8, 10.0),\n",
            "/usr/local/lib/python3.11/dist-packages/sklearn/utils/deprecation.py:151: FutureWarning: 'force_all_finite' was renamed to 'ensure_all_finite' in 1.6 and will be removed in 1.8.\n",
            "  warnings.warn(\n"
          ]
        },
        {
          "name": "stdout",
          "output_type": "stream",
          "text": [
            "Training until validation scores don't improve for 50 rounds\n",
            "Did not meet early stopping. Best iteration is:\n",
            "[1958]\tvalid_0's l2: 0.0222591\n"
          ]
        },
        {
          "name": "stderr",
          "output_type": "stream",
          "text": [
            "/usr/local/lib/python3.11/dist-packages/sklearn/utils/deprecation.py:151: FutureWarning: 'force_all_finite' was renamed to 'ensure_all_finite' in 1.6 and will be removed in 1.8.\n",
            "  warnings.warn(\n"
          ]
        },
        {
          "name": "stdout",
          "output_type": "stream",
          "text": [
            "[I 2025-06-09 23:38:36,274] Trial 13 finished with value: 0.981303513877254 and parameters: {'n_estimators': 1958, 'learning_rate': 0.0596303562306618, 'num_leaves': 225, 'max_depth': 19, 'subsample': 0.8591891889270902, 'colsample_bytree': 0.7391237942583291, 'reg_alpha': 2.498641005603984e-05, 'reg_lambda': 5.184942859473355e-07, 'min_child_weight': 2}. Best is trial 13 with value: 0.981303513877254.\n"
          ]
        },
        {
          "name": "stderr",
          "output_type": "stream",
          "text": [
            "<ipython-input-45-fd2484f4a5dd>:7: FutureWarning: suggest_loguniform has been deprecated in v3.0.0. This feature will be removed in v6.0.0. See https://github.com/optuna/optuna/releases/tag/v3.0.0. Use suggest_float(..., log=True) instead.\n",
            "  'learning_rate':    trial.suggest_loguniform('learning_rate', 1e-3, 1e-1),\n",
            "<ipython-input-45-fd2484f4a5dd>:10: FutureWarning: suggest_uniform has been deprecated in v3.0.0. This feature will be removed in v6.0.0. See https://github.com/optuna/optuna/releases/tag/v3.0.0. Use suggest_float instead.\n",
            "  'subsample':        trial.suggest_uniform('subsample', 0.5, 1.0),\n",
            "<ipython-input-45-fd2484f4a5dd>:11: FutureWarning: suggest_uniform has been deprecated in v3.0.0. This feature will be removed in v6.0.0. See https://github.com/optuna/optuna/releases/tag/v3.0.0. Use suggest_float instead.\n",
            "  'colsample_bytree': trial.suggest_uniform('colsample_bytree', 0.5, 1.0),\n",
            "<ipython-input-45-fd2484f4a5dd>:12: FutureWarning: suggest_loguniform has been deprecated in v3.0.0. This feature will be removed in v6.0.0. See https://github.com/optuna/optuna/releases/tag/v3.0.0. Use suggest_float(..., log=True) instead.\n",
            "  'reg_alpha':        trial.suggest_loguniform('reg_alpha', 1e-8, 10.0),\n",
            "<ipython-input-45-fd2484f4a5dd>:13: FutureWarning: suggest_loguniform has been deprecated in v3.0.0. This feature will be removed in v6.0.0. See https://github.com/optuna/optuna/releases/tag/v3.0.0. Use suggest_float(..., log=True) instead.\n",
            "  'reg_lambda':       trial.suggest_loguniform('reg_lambda', 1e-8, 10.0),\n",
            "/usr/local/lib/python3.11/dist-packages/sklearn/utils/deprecation.py:151: FutureWarning: 'force_all_finite' was renamed to 'ensure_all_finite' in 1.6 and will be removed in 1.8.\n",
            "  warnings.warn(\n"
          ]
        },
        {
          "name": "stdout",
          "output_type": "stream",
          "text": [
            "Training until validation scores don't improve for 50 rounds\n",
            "Did not meet early stopping. Best iteration is:\n",
            "[1978]\tvalid_0's l2: 0.0237423\n"
          ]
        },
        {
          "name": "stderr",
          "output_type": "stream",
          "text": [
            "/usr/local/lib/python3.11/dist-packages/sklearn/utils/deprecation.py:151: FutureWarning: 'force_all_finite' was renamed to 'ensure_all_finite' in 1.6 and will be removed in 1.8.\n",
            "  warnings.warn(\n"
          ]
        },
        {
          "name": "stdout",
          "output_type": "stream",
          "text": [
            "[I 2025-06-09 23:44:54,183] Trial 14 finished with value: 0.9800576684837846 and parameters: {'n_estimators': 1978, 'learning_rate': 0.017441721965798185, 'num_leaves': 223, 'max_depth': 19, 'subsample': 0.9040612278665029, 'colsample_bytree': 0.999095632906269, 'reg_alpha': 4.934512996792572e-05, 'reg_lambda': 2.220573777546379e-05, 'min_child_weight': 1}. Best is trial 13 with value: 0.981303513877254.\n"
          ]
        },
        {
          "name": "stderr",
          "output_type": "stream",
          "text": [
            "<ipython-input-45-fd2484f4a5dd>:7: FutureWarning: suggest_loguniform has been deprecated in v3.0.0. This feature will be removed in v6.0.0. See https://github.com/optuna/optuna/releases/tag/v3.0.0. Use suggest_float(..., log=True) instead.\n",
            "  'learning_rate':    trial.suggest_loguniform('learning_rate', 1e-3, 1e-1),\n",
            "<ipython-input-45-fd2484f4a5dd>:10: FutureWarning: suggest_uniform has been deprecated in v3.0.0. This feature will be removed in v6.0.0. See https://github.com/optuna/optuna/releases/tag/v3.0.0. Use suggest_float instead.\n",
            "  'subsample':        trial.suggest_uniform('subsample', 0.5, 1.0),\n",
            "<ipython-input-45-fd2484f4a5dd>:11: FutureWarning: suggest_uniform has been deprecated in v3.0.0. This feature will be removed in v6.0.0. See https://github.com/optuna/optuna/releases/tag/v3.0.0. Use suggest_float instead.\n",
            "  'colsample_bytree': trial.suggest_uniform('colsample_bytree', 0.5, 1.0),\n",
            "<ipython-input-45-fd2484f4a5dd>:12: FutureWarning: suggest_loguniform has been deprecated in v3.0.0. This feature will be removed in v6.0.0. See https://github.com/optuna/optuna/releases/tag/v3.0.0. Use suggest_float(..., log=True) instead.\n",
            "  'reg_alpha':        trial.suggest_loguniform('reg_alpha', 1e-8, 10.0),\n",
            "<ipython-input-45-fd2484f4a5dd>:13: FutureWarning: suggest_loguniform has been deprecated in v3.0.0. This feature will be removed in v6.0.0. See https://github.com/optuna/optuna/releases/tag/v3.0.0. Use suggest_float(..., log=True) instead.\n",
            "  'reg_lambda':       trial.suggest_loguniform('reg_lambda', 1e-8, 10.0),\n",
            "/usr/local/lib/python3.11/dist-packages/sklearn/utils/deprecation.py:151: FutureWarning: 'force_all_finite' was renamed to 'ensure_all_finite' in 1.6 and will be removed in 1.8.\n",
            "  warnings.warn(\n"
          ]
        },
        {
          "name": "stdout",
          "output_type": "stream",
          "text": [
            "Training until validation scores don't improve for 50 rounds\n",
            "Did not meet early stopping. Best iteration is:\n",
            "[1743]\tvalid_0's l2: 0.023471\n"
          ]
        },
        {
          "name": "stderr",
          "output_type": "stream",
          "text": [
            "/usr/local/lib/python3.11/dist-packages/sklearn/utils/deprecation.py:151: FutureWarning: 'force_all_finite' was renamed to 'ensure_all_finite' in 1.6 and will be removed in 1.8.\n",
            "  warnings.warn(\n"
          ]
        },
        {
          "name": "stdout",
          "output_type": "stream",
          "text": [
            "[I 2025-06-09 23:48:00,493] Trial 15 finished with value: 0.9802855731794871 and parameters: {'n_estimators': 1743, 'learning_rate': 0.05381929781961742, 'num_leaves': 94, 'max_depth': 18, 'subsample': 0.9262104964292763, 'colsample_bytree': 0.7465585303325974, 'reg_alpha': 0.04038341259324037, 'reg_lambda': 0.2270488621949578, 'min_child_weight': 34}. Best is trial 13 with value: 0.981303513877254.\n"
          ]
        },
        {
          "name": "stderr",
          "output_type": "stream",
          "text": [
            "<ipython-input-45-fd2484f4a5dd>:7: FutureWarning: suggest_loguniform has been deprecated in v3.0.0. This feature will be removed in v6.0.0. See https://github.com/optuna/optuna/releases/tag/v3.0.0. Use suggest_float(..., log=True) instead.\n",
            "  'learning_rate':    trial.suggest_loguniform('learning_rate', 1e-3, 1e-1),\n",
            "<ipython-input-45-fd2484f4a5dd>:10: FutureWarning: suggest_uniform has been deprecated in v3.0.0. This feature will be removed in v6.0.0. See https://github.com/optuna/optuna/releases/tag/v3.0.0. Use suggest_float instead.\n",
            "  'subsample':        trial.suggest_uniform('subsample', 0.5, 1.0),\n",
            "<ipython-input-45-fd2484f4a5dd>:11: FutureWarning: suggest_uniform has been deprecated in v3.0.0. This feature will be removed in v6.0.0. See https://github.com/optuna/optuna/releases/tag/v3.0.0. Use suggest_float instead.\n",
            "  'colsample_bytree': trial.suggest_uniform('colsample_bytree', 0.5, 1.0),\n",
            "<ipython-input-45-fd2484f4a5dd>:12: FutureWarning: suggest_loguniform has been deprecated in v3.0.0. This feature will be removed in v6.0.0. See https://github.com/optuna/optuna/releases/tag/v3.0.0. Use suggest_float(..., log=True) instead.\n",
            "  'reg_alpha':        trial.suggest_loguniform('reg_alpha', 1e-8, 10.0),\n",
            "<ipython-input-45-fd2484f4a5dd>:13: FutureWarning: suggest_loguniform has been deprecated in v3.0.0. This feature will be removed in v6.0.0. See https://github.com/optuna/optuna/releases/tag/v3.0.0. Use suggest_float(..., log=True) instead.\n",
            "  'reg_lambda':       trial.suggest_loguniform('reg_lambda', 1e-8, 10.0),\n",
            "/usr/local/lib/python3.11/dist-packages/sklearn/utils/deprecation.py:151: FutureWarning: 'force_all_finite' was renamed to 'ensure_all_finite' in 1.6 and will be removed in 1.8.\n",
            "  warnings.warn(\n"
          ]
        },
        {
          "name": "stdout",
          "output_type": "stream",
          "text": [
            "Training until validation scores don't improve for 50 rounds\n",
            "Did not meet early stopping. Best iteration is:\n",
            "[607]\tvalid_0's l2: 0.0270657\n"
          ]
        },
        {
          "name": "stderr",
          "output_type": "stream",
          "text": [
            "/usr/local/lib/python3.11/dist-packages/sklearn/utils/deprecation.py:151: FutureWarning: 'force_all_finite' was renamed to 'ensure_all_finite' in 1.6 and will be removed in 1.8.\n",
            "  warnings.warn(\n"
          ]
        },
        {
          "name": "stdout",
          "output_type": "stream",
          "text": [
            "[I 2025-06-09 23:50:33,900] Trial 16 finished with value: 0.9772661892332821 and parameters: {'n_estimators': 607, 'learning_rate': 0.02083811694684566, 'num_leaves': 225, 'max_depth': 21, 'subsample': 0.807597603446009, 'colsample_bytree': 0.7662002914876843, 'reg_alpha': 0.00027791684145591337, 'reg_lambda': 0.0038921652312631817, 'min_child_weight': 48}. Best is trial 13 with value: 0.981303513877254.\n"
          ]
        },
        {
          "name": "stderr",
          "output_type": "stream",
          "text": [
            "<ipython-input-45-fd2484f4a5dd>:7: FutureWarning: suggest_loguniform has been deprecated in v3.0.0. This feature will be removed in v6.0.0. See https://github.com/optuna/optuna/releases/tag/v3.0.0. Use suggest_float(..., log=True) instead.\n",
            "  'learning_rate':    trial.suggest_loguniform('learning_rate', 1e-3, 1e-1),\n",
            "<ipython-input-45-fd2484f4a5dd>:10: FutureWarning: suggest_uniform has been deprecated in v3.0.0. This feature will be removed in v6.0.0. See https://github.com/optuna/optuna/releases/tag/v3.0.0. Use suggest_float instead.\n",
            "  'subsample':        trial.suggest_uniform('subsample', 0.5, 1.0),\n",
            "<ipython-input-45-fd2484f4a5dd>:11: FutureWarning: suggest_uniform has been deprecated in v3.0.0. This feature will be removed in v6.0.0. See https://github.com/optuna/optuna/releases/tag/v3.0.0. Use suggest_float instead.\n",
            "  'colsample_bytree': trial.suggest_uniform('colsample_bytree', 0.5, 1.0),\n",
            "<ipython-input-45-fd2484f4a5dd>:12: FutureWarning: suggest_loguniform has been deprecated in v3.0.0. This feature will be removed in v6.0.0. See https://github.com/optuna/optuna/releases/tag/v3.0.0. Use suggest_float(..., log=True) instead.\n",
            "  'reg_alpha':        trial.suggest_loguniform('reg_alpha', 1e-8, 10.0),\n",
            "<ipython-input-45-fd2484f4a5dd>:13: FutureWarning: suggest_loguniform has been deprecated in v3.0.0. This feature will be removed in v6.0.0. See https://github.com/optuna/optuna/releases/tag/v3.0.0. Use suggest_float(..., log=True) instead.\n",
            "  'reg_lambda':       trial.suggest_loguniform('reg_lambda', 1e-8, 10.0),\n",
            "/usr/local/lib/python3.11/dist-packages/sklearn/utils/deprecation.py:151: FutureWarning: 'force_all_finite' was renamed to 'ensure_all_finite' in 1.6 and will be removed in 1.8.\n",
            "  warnings.warn(\n"
          ]
        },
        {
          "name": "stdout",
          "output_type": "stream",
          "text": [
            "Training until validation scores don't improve for 50 rounds\n",
            "Did not meet early stopping. Best iteration is:\n",
            "[1595]\tvalid_0's l2: 0.0264433\n"
          ]
        },
        {
          "name": "stderr",
          "output_type": "stream",
          "text": [
            "/usr/local/lib/python3.11/dist-packages/sklearn/utils/deprecation.py:151: FutureWarning: 'force_all_finite' was renamed to 'ensure_all_finite' in 1.6 and will be removed in 1.8.\n",
            "  warnings.warn(\n"
          ]
        },
        {
          "name": "stdout",
          "output_type": "stream",
          "text": [
            "[I 2025-06-09 23:52:52,646] Trial 17 finished with value: 0.9777889758046876 and parameters: {'n_estimators': 1595, 'learning_rate': 0.05051644913315422, 'num_leaves': 41, 'max_depth': 15, 'subsample': 0.9386981301528066, 'colsample_bytree': 0.9298818445933154, 'reg_alpha': 1.8244536713721637e-05, 'reg_lambda': 3.024088797877163, 'min_child_weight': 23}. Best is trial 13 with value: 0.981303513877254.\n"
          ]
        },
        {
          "name": "stderr",
          "output_type": "stream",
          "text": [
            "<ipython-input-45-fd2484f4a5dd>:7: FutureWarning: suggest_loguniform has been deprecated in v3.0.0. This feature will be removed in v6.0.0. See https://github.com/optuna/optuna/releases/tag/v3.0.0. Use suggest_float(..., log=True) instead.\n",
            "  'learning_rate':    trial.suggest_loguniform('learning_rate', 1e-3, 1e-1),\n",
            "<ipython-input-45-fd2484f4a5dd>:10: FutureWarning: suggest_uniform has been deprecated in v3.0.0. This feature will be removed in v6.0.0. See https://github.com/optuna/optuna/releases/tag/v3.0.0. Use suggest_float instead.\n",
            "  'subsample':        trial.suggest_uniform('subsample', 0.5, 1.0),\n",
            "<ipython-input-45-fd2484f4a5dd>:11: FutureWarning: suggest_uniform has been deprecated in v3.0.0. This feature will be removed in v6.0.0. See https://github.com/optuna/optuna/releases/tag/v3.0.0. Use suggest_float instead.\n",
            "  'colsample_bytree': trial.suggest_uniform('colsample_bytree', 0.5, 1.0),\n",
            "<ipython-input-45-fd2484f4a5dd>:12: FutureWarning: suggest_loguniform has been deprecated in v3.0.0. This feature will be removed in v6.0.0. See https://github.com/optuna/optuna/releases/tag/v3.0.0. Use suggest_float(..., log=True) instead.\n",
            "  'reg_alpha':        trial.suggest_loguniform('reg_alpha', 1e-8, 10.0),\n",
            "<ipython-input-45-fd2484f4a5dd>:13: FutureWarning: suggest_loguniform has been deprecated in v3.0.0. This feature will be removed in v6.0.0. See https://github.com/optuna/optuna/releases/tag/v3.0.0. Use suggest_float(..., log=True) instead.\n",
            "  'reg_lambda':       trial.suggest_loguniform('reg_lambda', 1e-8, 10.0),\n",
            "/usr/local/lib/python3.11/dist-packages/sklearn/utils/deprecation.py:151: FutureWarning: 'force_all_finite' was renamed to 'ensure_all_finite' in 1.6 and will be removed in 1.8.\n",
            "  warnings.warn(\n"
          ]
        },
        {
          "name": "stdout",
          "output_type": "stream",
          "text": [
            "Training until validation scores don't improve for 50 rounds\n",
            "Did not meet early stopping. Best iteration is:\n",
            "[1972]\tvalid_0's l2: 0.0266047\n"
          ]
        },
        {
          "name": "stderr",
          "output_type": "stream",
          "text": [
            "/usr/local/lib/python3.11/dist-packages/sklearn/utils/deprecation.py:151: FutureWarning: 'force_all_finite' was renamed to 'ensure_all_finite' in 1.6 and will be removed in 1.8.\n",
            "  warnings.warn(\n"
          ]
        },
        {
          "name": "stdout",
          "output_type": "stream",
          "text": [
            "[I 2025-06-10 00:00:09,003] Trial 18 finished with value: 0.9776533951902517 and parameters: {'n_estimators': 1972, 'learning_rate': 0.007504821879514712, 'num_leaves': 209, 'max_depth': 25, 'subsample': 0.8585374158930894, 'colsample_bytree': 0.7820701944334806, 'reg_alpha': 0.22165001352378932, 'reg_lambda': 1.7793651938685416e-06, 'min_child_weight': 6}. Best is trial 13 with value: 0.981303513877254.\n"
          ]
        },
        {
          "name": "stderr",
          "output_type": "stream",
          "text": [
            "<ipython-input-45-fd2484f4a5dd>:7: FutureWarning: suggest_loguniform has been deprecated in v3.0.0. This feature will be removed in v6.0.0. See https://github.com/optuna/optuna/releases/tag/v3.0.0. Use suggest_float(..., log=True) instead.\n",
            "  'learning_rate':    trial.suggest_loguniform('learning_rate', 1e-3, 1e-1),\n",
            "<ipython-input-45-fd2484f4a5dd>:10: FutureWarning: suggest_uniform has been deprecated in v3.0.0. This feature will be removed in v6.0.0. See https://github.com/optuna/optuna/releases/tag/v3.0.0. Use suggest_float instead.\n",
            "  'subsample':        trial.suggest_uniform('subsample', 0.5, 1.0),\n",
            "<ipython-input-45-fd2484f4a5dd>:11: FutureWarning: suggest_uniform has been deprecated in v3.0.0. This feature will be removed in v6.0.0. See https://github.com/optuna/optuna/releases/tag/v3.0.0. Use suggest_float instead.\n",
            "  'colsample_bytree': trial.suggest_uniform('colsample_bytree', 0.5, 1.0),\n",
            "<ipython-input-45-fd2484f4a5dd>:12: FutureWarning: suggest_loguniform has been deprecated in v3.0.0. This feature will be removed in v6.0.0. See https://github.com/optuna/optuna/releases/tag/v3.0.0. Use suggest_float(..., log=True) instead.\n",
            "  'reg_alpha':        trial.suggest_loguniform('reg_alpha', 1e-8, 10.0),\n",
            "<ipython-input-45-fd2484f4a5dd>:13: FutureWarning: suggest_loguniform has been deprecated in v3.0.0. This feature will be removed in v6.0.0. See https://github.com/optuna/optuna/releases/tag/v3.0.0. Use suggest_float(..., log=True) instead.\n",
            "  'reg_lambda':       trial.suggest_loguniform('reg_lambda', 1e-8, 10.0),\n",
            "/usr/local/lib/python3.11/dist-packages/sklearn/utils/deprecation.py:151: FutureWarning: 'force_all_finite' was renamed to 'ensure_all_finite' in 1.6 and will be removed in 1.8.\n",
            "  warnings.warn(\n"
          ]
        },
        {
          "name": "stdout",
          "output_type": "stream",
          "text": [
            "Training until validation scores don't improve for 50 rounds\n",
            "Did not meet early stopping. Best iteration is:\n",
            "[1183]\tvalid_0's l2: 0.146544\n"
          ]
        },
        {
          "name": "stderr",
          "output_type": "stream",
          "text": [
            "/usr/local/lib/python3.11/dist-packages/sklearn/utils/deprecation.py:151: FutureWarning: 'force_all_finite' was renamed to 'ensure_all_finite' in 1.6 and will be removed in 1.8.\n",
            "  warnings.warn(\n"
          ]
        },
        {
          "name": "stdout",
          "output_type": "stream",
          "text": [
            "[I 2025-06-10 00:04:05,872] Trial 19 finished with value: 0.8769110037711783 and parameters: {'n_estimators': 1183, 'learning_rate': 0.0011617090234345507, 'num_leaves': 111, 'max_depth': 28, 'subsample': 0.8168342739145515, 'colsample_bytree': 0.7083957109478359, 'reg_alpha': 0.0012717361013541908, 'reg_lambda': 6.66668782683295e-05, 'min_child_weight': 14}. Best is trial 13 with value: 0.981303513877254.\n"
          ]
        },
        {
          "name": "stderr",
          "output_type": "stream",
          "text": [
            "<ipython-input-45-fd2484f4a5dd>:7: FutureWarning: suggest_loguniform has been deprecated in v3.0.0. This feature will be removed in v6.0.0. See https://github.com/optuna/optuna/releases/tag/v3.0.0. Use suggest_float(..., log=True) instead.\n",
            "  'learning_rate':    trial.suggest_loguniform('learning_rate', 1e-3, 1e-1),\n",
            "<ipython-input-45-fd2484f4a5dd>:10: FutureWarning: suggest_uniform has been deprecated in v3.0.0. This feature will be removed in v6.0.0. See https://github.com/optuna/optuna/releases/tag/v3.0.0. Use suggest_float instead.\n",
            "  'subsample':        trial.suggest_uniform('subsample', 0.5, 1.0),\n",
            "<ipython-input-45-fd2484f4a5dd>:11: FutureWarning: suggest_uniform has been deprecated in v3.0.0. This feature will be removed in v6.0.0. See https://github.com/optuna/optuna/releases/tag/v3.0.0. Use suggest_float instead.\n",
            "  'colsample_bytree': trial.suggest_uniform('colsample_bytree', 0.5, 1.0),\n",
            "<ipython-input-45-fd2484f4a5dd>:12: FutureWarning: suggest_loguniform has been deprecated in v3.0.0. This feature will be removed in v6.0.0. See https://github.com/optuna/optuna/releases/tag/v3.0.0. Use suggest_float(..., log=True) instead.\n",
            "  'reg_alpha':        trial.suggest_loguniform('reg_alpha', 1e-8, 10.0),\n",
            "<ipython-input-45-fd2484f4a5dd>:13: FutureWarning: suggest_loguniform has been deprecated in v3.0.0. This feature will be removed in v6.0.0. See https://github.com/optuna/optuna/releases/tag/v3.0.0. Use suggest_float(..., log=True) instead.\n",
            "  'reg_lambda':       trial.suggest_loguniform('reg_lambda', 1e-8, 10.0),\n",
            "/usr/local/lib/python3.11/dist-packages/sklearn/utils/deprecation.py:151: FutureWarning: 'force_all_finite' was renamed to 'ensure_all_finite' in 1.6 and will be removed in 1.8.\n",
            "  warnings.warn(\n"
          ]
        },
        {
          "name": "stdout",
          "output_type": "stream",
          "text": [
            "Training until validation scores don't improve for 50 rounds\n",
            "Did not meet early stopping. Best iteration is:\n",
            "[162]\tvalid_0's l2: 0.0663142\n"
          ]
        },
        {
          "name": "stderr",
          "output_type": "stream",
          "text": [
            "/usr/local/lib/python3.11/dist-packages/sklearn/utils/deprecation.py:151: FutureWarning: 'force_all_finite' was renamed to 'ensure_all_finite' in 1.6 and will be removed in 1.8.\n",
            "  warnings.warn(\n"
          ]
        },
        {
          "name": "stdout",
          "output_type": "stream",
          "text": [
            "[I 2025-06-10 00:04:33,651] Trial 20 finished with value: 0.9442994945824702 and parameters: {'n_estimators': 162, 'learning_rate': 0.022148128953800333, 'num_leaves': 170, 'max_depth': 5, 'subsample': 0.9550444955281393, 'colsample_bytree': 0.8960348437673802, 'reg_alpha': 7.383483922761171e-06, 'reg_lambda': 0.06244083231080839, 'min_child_weight': 31}. Best is trial 13 with value: 0.981303513877254.\n"
          ]
        },
        {
          "name": "stderr",
          "output_type": "stream",
          "text": [
            "<ipython-input-45-fd2484f4a5dd>:7: FutureWarning: suggest_loguniform has been deprecated in v3.0.0. This feature will be removed in v6.0.0. See https://github.com/optuna/optuna/releases/tag/v3.0.0. Use suggest_float(..., log=True) instead.\n",
            "  'learning_rate':    trial.suggest_loguniform('learning_rate', 1e-3, 1e-1),\n",
            "<ipython-input-45-fd2484f4a5dd>:10: FutureWarning: suggest_uniform has been deprecated in v3.0.0. This feature will be removed in v6.0.0. See https://github.com/optuna/optuna/releases/tag/v3.0.0. Use suggest_float instead.\n",
            "  'subsample':        trial.suggest_uniform('subsample', 0.5, 1.0),\n",
            "<ipython-input-45-fd2484f4a5dd>:11: FutureWarning: suggest_uniform has been deprecated in v3.0.0. This feature will be removed in v6.0.0. See https://github.com/optuna/optuna/releases/tag/v3.0.0. Use suggest_float instead.\n",
            "  'colsample_bytree': trial.suggest_uniform('colsample_bytree', 0.5, 1.0),\n",
            "<ipython-input-45-fd2484f4a5dd>:12: FutureWarning: suggest_loguniform has been deprecated in v3.0.0. This feature will be removed in v6.0.0. See https://github.com/optuna/optuna/releases/tag/v3.0.0. Use suggest_float(..., log=True) instead.\n",
            "  'reg_alpha':        trial.suggest_loguniform('reg_alpha', 1e-8, 10.0),\n",
            "<ipython-input-45-fd2484f4a5dd>:13: FutureWarning: suggest_loguniform has been deprecated in v3.0.0. This feature will be removed in v6.0.0. See https://github.com/optuna/optuna/releases/tag/v3.0.0. Use suggest_float(..., log=True) instead.\n",
            "  'reg_lambda':       trial.suggest_loguniform('reg_lambda', 1e-8, 10.0),\n",
            "/usr/local/lib/python3.11/dist-packages/sklearn/utils/deprecation.py:151: FutureWarning: 'force_all_finite' was renamed to 'ensure_all_finite' in 1.6 and will be removed in 1.8.\n",
            "  warnings.warn(\n"
          ]
        },
        {
          "name": "stdout",
          "output_type": "stream",
          "text": [
            "Training until validation scores don't improve for 50 rounds\n",
            "Did not meet early stopping. Best iteration is:\n",
            "[1547]\tvalid_0's l2: 0.0225348\n"
          ]
        },
        {
          "name": "stderr",
          "output_type": "stream",
          "text": [
            "/usr/local/lib/python3.11/dist-packages/sklearn/utils/deprecation.py:151: FutureWarning: 'force_all_finite' was renamed to 'ensure_all_finite' in 1.6 and will be removed in 1.8.\n",
            "  warnings.warn(\n"
          ]
        },
        {
          "name": "stdout",
          "output_type": "stream",
          "text": [
            "[I 2025-06-10 00:10:18,581] Trial 21 finished with value: 0.9810719136762495 and parameters: {'n_estimators': 1547, 'learning_rate': 0.09175551350149114, 'num_leaves': 243, 'max_depth': 27, 'subsample': 0.667548002804305, 'colsample_bytree': 0.5939438108065311, 'reg_alpha': 1.8407434181932556e-06, 'reg_lambda': 7.705019343858053e-08, 'min_child_weight': 13}. Best is trial 13 with value: 0.981303513877254.\n"
          ]
        },
        {
          "name": "stderr",
          "output_type": "stream",
          "text": [
            "<ipython-input-45-fd2484f4a5dd>:7: FutureWarning: suggest_loguniform has been deprecated in v3.0.0. This feature will be removed in v6.0.0. See https://github.com/optuna/optuna/releases/tag/v3.0.0. Use suggest_float(..., log=True) instead.\n",
            "  'learning_rate':    trial.suggest_loguniform('learning_rate', 1e-3, 1e-1),\n",
            "<ipython-input-45-fd2484f4a5dd>:10: FutureWarning: suggest_uniform has been deprecated in v3.0.0. This feature will be removed in v6.0.0. See https://github.com/optuna/optuna/releases/tag/v3.0.0. Use suggest_float instead.\n",
            "  'subsample':        trial.suggest_uniform('subsample', 0.5, 1.0),\n",
            "<ipython-input-45-fd2484f4a5dd>:11: FutureWarning: suggest_uniform has been deprecated in v3.0.0. This feature will be removed in v6.0.0. See https://github.com/optuna/optuna/releases/tag/v3.0.0. Use suggest_float instead.\n",
            "  'colsample_bytree': trial.suggest_uniform('colsample_bytree', 0.5, 1.0),\n",
            "<ipython-input-45-fd2484f4a5dd>:12: FutureWarning: suggest_loguniform has been deprecated in v3.0.0. This feature will be removed in v6.0.0. See https://github.com/optuna/optuna/releases/tag/v3.0.0. Use suggest_float(..., log=True) instead.\n",
            "  'reg_alpha':        trial.suggest_loguniform('reg_alpha', 1e-8, 10.0),\n",
            "<ipython-input-45-fd2484f4a5dd>:13: FutureWarning: suggest_loguniform has been deprecated in v3.0.0. This feature will be removed in v6.0.0. See https://github.com/optuna/optuna/releases/tag/v3.0.0. Use suggest_float(..., log=True) instead.\n",
            "  'reg_lambda':       trial.suggest_loguniform('reg_lambda', 1e-8, 10.0),\n",
            "/usr/local/lib/python3.11/dist-packages/sklearn/utils/deprecation.py:151: FutureWarning: 'force_all_finite' was renamed to 'ensure_all_finite' in 1.6 and will be removed in 1.8.\n",
            "  warnings.warn(\n"
          ]
        },
        {
          "name": "stdout",
          "output_type": "stream",
          "text": [
            "Training until validation scores don't improve for 50 rounds\n",
            "Did not meet early stopping. Best iteration is:\n",
            "[1768]\tvalid_0's l2: 0.0222571\n"
          ]
        },
        {
          "name": "stderr",
          "output_type": "stream",
          "text": [
            "/usr/local/lib/python3.11/dist-packages/sklearn/utils/deprecation.py:151: FutureWarning: 'force_all_finite' was renamed to 'ensure_all_finite' in 1.6 and will be removed in 1.8.\n",
            "  warnings.warn(\n"
          ]
        },
        {
          "name": "stdout",
          "output_type": "stream",
          "text": [
            "[I 2025-06-10 00:15:38,876] Trial 22 finished with value: 0.9813051458229151 and parameters: {'n_estimators': 1768, 'learning_rate': 0.06772007602645826, 'num_leaves': 233, 'max_depth': 20, 'subsample': 0.6985173167736177, 'colsample_bytree': 0.6183315447128277, 'reg_alpha': 1.9457879592590022e-07, 'reg_lambda': 9.372267643655139e-07, 'min_child_weight': 1}. Best is trial 22 with value: 0.9813051458229151.\n"
          ]
        },
        {
          "name": "stderr",
          "output_type": "stream",
          "text": [
            "<ipython-input-45-fd2484f4a5dd>:7: FutureWarning: suggest_loguniform has been deprecated in v3.0.0. This feature will be removed in v6.0.0. See https://github.com/optuna/optuna/releases/tag/v3.0.0. Use suggest_float(..., log=True) instead.\n",
            "  'learning_rate':    trial.suggest_loguniform('learning_rate', 1e-3, 1e-1),\n",
            "<ipython-input-45-fd2484f4a5dd>:10: FutureWarning: suggest_uniform has been deprecated in v3.0.0. This feature will be removed in v6.0.0. See https://github.com/optuna/optuna/releases/tag/v3.0.0. Use suggest_float instead.\n",
            "  'subsample':        trial.suggest_uniform('subsample', 0.5, 1.0),\n",
            "<ipython-input-45-fd2484f4a5dd>:11: FutureWarning: suggest_uniform has been deprecated in v3.0.0. This feature will be removed in v6.0.0. See https://github.com/optuna/optuna/releases/tag/v3.0.0. Use suggest_float instead.\n",
            "  'colsample_bytree': trial.suggest_uniform('colsample_bytree', 0.5, 1.0),\n",
            "<ipython-input-45-fd2484f4a5dd>:12: FutureWarning: suggest_loguniform has been deprecated in v3.0.0. This feature will be removed in v6.0.0. See https://github.com/optuna/optuna/releases/tag/v3.0.0. Use suggest_float(..., log=True) instead.\n",
            "  'reg_alpha':        trial.suggest_loguniform('reg_alpha', 1e-8, 10.0),\n",
            "<ipython-input-45-fd2484f4a5dd>:13: FutureWarning: suggest_loguniform has been deprecated in v3.0.0. This feature will be removed in v6.0.0. See https://github.com/optuna/optuna/releases/tag/v3.0.0. Use suggest_float(..., log=True) instead.\n",
            "  'reg_lambda':       trial.suggest_loguniform('reg_lambda', 1e-8, 10.0),\n",
            "/usr/local/lib/python3.11/dist-packages/sklearn/utils/deprecation.py:151: FutureWarning: 'force_all_finite' was renamed to 'ensure_all_finite' in 1.6 and will be removed in 1.8.\n",
            "  warnings.warn(\n"
          ]
        },
        {
          "name": "stdout",
          "output_type": "stream",
          "text": [
            "Training until validation scores don't improve for 50 rounds\n",
            "Did not meet early stopping. Best iteration is:\n",
            "[1828]\tvalid_0's l2: 0.0221483\n"
          ]
        },
        {
          "name": "stderr",
          "output_type": "stream",
          "text": [
            "/usr/local/lib/python3.11/dist-packages/sklearn/utils/deprecation.py:151: FutureWarning: 'force_all_finite' was renamed to 'ensure_all_finite' in 1.6 and will be removed in 1.8.\n",
            "  warnings.warn(\n"
          ]
        },
        {
          "name": "stdout",
          "output_type": "stream",
          "text": [
            "[I 2025-06-10 00:19:56,493] Trial 23 finished with value: 0.9813965631718042 and parameters: {'n_estimators': 1828, 'learning_rate': 0.05930396196813868, 'num_leaves': 231, 'max_depth': 20, 'subsample': 0.5848815693903193, 'colsample_bytree': 0.7082366853043143, 'reg_alpha': 0.00027775655371692815, 'reg_lambda': 3.7302584109152244e-06, 'min_child_weight': 1}. Best is trial 23 with value: 0.9813965631718042.\n"
          ]
        },
        {
          "name": "stderr",
          "output_type": "stream",
          "text": [
            "<ipython-input-45-fd2484f4a5dd>:7: FutureWarning: suggest_loguniform has been deprecated in v3.0.0. This feature will be removed in v6.0.0. See https://github.com/optuna/optuna/releases/tag/v3.0.0. Use suggest_float(..., log=True) instead.\n",
            "  'learning_rate':    trial.suggest_loguniform('learning_rate', 1e-3, 1e-1),\n",
            "<ipython-input-45-fd2484f4a5dd>:10: FutureWarning: suggest_uniform has been deprecated in v3.0.0. This feature will be removed in v6.0.0. See https://github.com/optuna/optuna/releases/tag/v3.0.0. Use suggest_float instead.\n",
            "  'subsample':        trial.suggest_uniform('subsample', 0.5, 1.0),\n",
            "<ipython-input-45-fd2484f4a5dd>:11: FutureWarning: suggest_uniform has been deprecated in v3.0.0. This feature will be removed in v6.0.0. See https://github.com/optuna/optuna/releases/tag/v3.0.0. Use suggest_float instead.\n",
            "  'colsample_bytree': trial.suggest_uniform('colsample_bytree', 0.5, 1.0),\n",
            "<ipython-input-45-fd2484f4a5dd>:12: FutureWarning: suggest_loguniform has been deprecated in v3.0.0. This feature will be removed in v6.0.0. See https://github.com/optuna/optuna/releases/tag/v3.0.0. Use suggest_float(..., log=True) instead.\n",
            "  'reg_alpha':        trial.suggest_loguniform('reg_alpha', 1e-8, 10.0),\n",
            "<ipython-input-45-fd2484f4a5dd>:13: FutureWarning: suggest_loguniform has been deprecated in v3.0.0. This feature will be removed in v6.0.0. See https://github.com/optuna/optuna/releases/tag/v3.0.0. Use suggest_float(..., log=True) instead.\n",
            "  'reg_lambda':       trial.suggest_loguniform('reg_lambda', 1e-8, 10.0),\n",
            "/usr/local/lib/python3.11/dist-packages/sklearn/utils/deprecation.py:151: FutureWarning: 'force_all_finite' was renamed to 'ensure_all_finite' in 1.6 and will be removed in 1.8.\n",
            "  warnings.warn(\n"
          ]
        },
        {
          "name": "stdout",
          "output_type": "stream",
          "text": [
            "Training until validation scores don't improve for 50 rounds\n",
            "Did not meet early stopping. Best iteration is:\n",
            "[1747]\tvalid_0's l2: 0.022295\n"
          ]
        },
        {
          "name": "stderr",
          "output_type": "stream",
          "text": [
            "/usr/local/lib/python3.11/dist-packages/sklearn/utils/deprecation.py:151: FutureWarning: 'force_all_finite' was renamed to 'ensure_all_finite' in 1.6 and will be removed in 1.8.\n",
            "  warnings.warn(\n"
          ]
        },
        {
          "name": "stdout",
          "output_type": "stream",
          "text": [
            "[I 2025-06-10 00:23:46,898] Trial 24 finished with value: 0.9812733318718408 and parameters: {'n_estimators': 1747, 'learning_rate': 0.0677335301894653, 'num_leaves': 209, 'max_depth': 19, 'subsample': 0.5885550410665091, 'colsample_bytree': 0.7019266698464575, 'reg_alpha': 0.00014657461582585137, 'reg_lambda': 3.4046670658808876e-06, 'min_child_weight': 3}. Best is trial 23 with value: 0.9813965631718042.\n"
          ]
        },
        {
          "name": "stderr",
          "output_type": "stream",
          "text": [
            "<ipython-input-45-fd2484f4a5dd>:7: FutureWarning: suggest_loguniform has been deprecated in v3.0.0. This feature will be removed in v6.0.0. See https://github.com/optuna/optuna/releases/tag/v3.0.0. Use suggest_float(..., log=True) instead.\n",
            "  'learning_rate':    trial.suggest_loguniform('learning_rate', 1e-3, 1e-1),\n",
            "<ipython-input-45-fd2484f4a5dd>:10: FutureWarning: suggest_uniform has been deprecated in v3.0.0. This feature will be removed in v6.0.0. See https://github.com/optuna/optuna/releases/tag/v3.0.0. Use suggest_float instead.\n",
            "  'subsample':        trial.suggest_uniform('subsample', 0.5, 1.0),\n",
            "<ipython-input-45-fd2484f4a5dd>:11: FutureWarning: suggest_uniform has been deprecated in v3.0.0. This feature will be removed in v6.0.0. See https://github.com/optuna/optuna/releases/tag/v3.0.0. Use suggest_float instead.\n",
            "  'colsample_bytree': trial.suggest_uniform('colsample_bytree', 0.5, 1.0),\n",
            "<ipython-input-45-fd2484f4a5dd>:12: FutureWarning: suggest_loguniform has been deprecated in v3.0.0. This feature will be removed in v6.0.0. See https://github.com/optuna/optuna/releases/tag/v3.0.0. Use suggest_float(..., log=True) instead.\n",
            "  'reg_alpha':        trial.suggest_loguniform('reg_alpha', 1e-8, 10.0),\n",
            "<ipython-input-45-fd2484f4a5dd>:13: FutureWarning: suggest_loguniform has been deprecated in v3.0.0. This feature will be removed in v6.0.0. See https://github.com/optuna/optuna/releases/tag/v3.0.0. Use suggest_float(..., log=True) instead.\n",
            "  'reg_lambda':       trial.suggest_loguniform('reg_lambda', 1e-8, 10.0),\n",
            "/usr/local/lib/python3.11/dist-packages/sklearn/utils/deprecation.py:151: FutureWarning: 'force_all_finite' was renamed to 'ensure_all_finite' in 1.6 and will be removed in 1.8.\n",
            "  warnings.warn(\n"
          ]
        },
        {
          "name": "stdout",
          "output_type": "stream",
          "text": [
            "Training until validation scores don't improve for 50 rounds\n",
            "Did not meet early stopping. Best iteration is:\n",
            "[1163]\tvalid_0's l2: 0.023754\n"
          ]
        },
        {
          "name": "stderr",
          "output_type": "stream",
          "text": [
            "/usr/local/lib/python3.11/dist-packages/sklearn/utils/deprecation.py:151: FutureWarning: 'force_all_finite' was renamed to 'ensure_all_finite' in 1.6 and will be removed in 1.8.\n",
            "  warnings.warn(\n"
          ]
        },
        {
          "name": "stdout",
          "output_type": "stream",
          "text": [
            "[I 2025-06-10 00:28:20,840] Trial 25 finished with value: 0.9800479049115598 and parameters: {'n_estimators': 1164, 'learning_rate': 0.03284735207646808, 'num_leaves': 187, 'max_depth': 20, 'subsample': 0.7103762416612366, 'colsample_bytree': 0.5986050784055019, 'reg_alpha': 7.68866770381174e-08, 'reg_lambda': 5.94797489403134e-07, 'min_child_weight': 7}. Best is trial 23 with value: 0.9813965631718042.\n"
          ]
        },
        {
          "name": "stderr",
          "output_type": "stream",
          "text": [
            "<ipython-input-45-fd2484f4a5dd>:7: FutureWarning: suggest_loguniform has been deprecated in v3.0.0. This feature will be removed in v6.0.0. See https://github.com/optuna/optuna/releases/tag/v3.0.0. Use suggest_float(..., log=True) instead.\n",
            "  'learning_rate':    trial.suggest_loguniform('learning_rate', 1e-3, 1e-1),\n",
            "<ipython-input-45-fd2484f4a5dd>:10: FutureWarning: suggest_uniform has been deprecated in v3.0.0. This feature will be removed in v6.0.0. See https://github.com/optuna/optuna/releases/tag/v3.0.0. Use suggest_float instead.\n",
            "  'subsample':        trial.suggest_uniform('subsample', 0.5, 1.0),\n",
            "<ipython-input-45-fd2484f4a5dd>:11: FutureWarning: suggest_uniform has been deprecated in v3.0.0. This feature will be removed in v6.0.0. See https://github.com/optuna/optuna/releases/tag/v3.0.0. Use suggest_float instead.\n",
            "  'colsample_bytree': trial.suggest_uniform('colsample_bytree', 0.5, 1.0),\n",
            "<ipython-input-45-fd2484f4a5dd>:12: FutureWarning: suggest_loguniform has been deprecated in v3.0.0. This feature will be removed in v6.0.0. See https://github.com/optuna/optuna/releases/tag/v3.0.0. Use suggest_float(..., log=True) instead.\n",
            "  'reg_alpha':        trial.suggest_loguniform('reg_alpha', 1e-8, 10.0),\n",
            "<ipython-input-45-fd2484f4a5dd>:13: FutureWarning: suggest_loguniform has been deprecated in v3.0.0. This feature will be removed in v6.0.0. See https://github.com/optuna/optuna/releases/tag/v3.0.0. Use suggest_float(..., log=True) instead.\n",
            "  'reg_lambda':       trial.suggest_loguniform('reg_lambda', 1e-8, 10.0),\n",
            "/usr/local/lib/python3.11/dist-packages/sklearn/utils/deprecation.py:151: FutureWarning: 'force_all_finite' was renamed to 'ensure_all_finite' in 1.6 and will be removed in 1.8.\n",
            "  warnings.warn(\n"
          ]
        },
        {
          "name": "stdout",
          "output_type": "stream",
          "text": [
            "Training until validation scores don't improve for 50 rounds\n",
            "Did not meet early stopping. Best iteration is:\n",
            "[1854]\tvalid_0's l2: 0.0221515\n"
          ]
        },
        {
          "name": "stderr",
          "output_type": "stream",
          "text": [
            "/usr/local/lib/python3.11/dist-packages/sklearn/utils/deprecation.py:151: FutureWarning: 'force_all_finite' was renamed to 'ensure_all_finite' in 1.6 and will be removed in 1.8.\n",
            "  warnings.warn(\n"
          ]
        },
        {
          "name": "stdout",
          "output_type": "stream",
          "text": [
            "[I 2025-06-10 00:32:39,923] Trial 26 finished with value: 0.981393906867548 and parameters: {'n_estimators': 1859, 'learning_rate': 0.06479521328370286, 'num_leaves': 229, 'max_depth': 16, 'subsample': 0.5048266037924718, 'colsample_bytree': 0.7003698336859494, 'reg_alpha': 8.722883679431325e-06, 'reg_lambda': 0.00015287860748819615, 'min_child_weight': 8}. Best is trial 23 with value: 0.9813965631718042.\n"
          ]
        },
        {
          "name": "stderr",
          "output_type": "stream",
          "text": [
            "<ipython-input-45-fd2484f4a5dd>:7: FutureWarning: suggest_loguniform has been deprecated in v3.0.0. This feature will be removed in v6.0.0. See https://github.com/optuna/optuna/releases/tag/v3.0.0. Use suggest_float(..., log=True) instead.\n",
            "  'learning_rate':    trial.suggest_loguniform('learning_rate', 1e-3, 1e-1),\n",
            "<ipython-input-45-fd2484f4a5dd>:10: FutureWarning: suggest_uniform has been deprecated in v3.0.0. This feature will be removed in v6.0.0. See https://github.com/optuna/optuna/releases/tag/v3.0.0. Use suggest_float instead.\n",
            "  'subsample':        trial.suggest_uniform('subsample', 0.5, 1.0),\n",
            "<ipython-input-45-fd2484f4a5dd>:11: FutureWarning: suggest_uniform has been deprecated in v3.0.0. This feature will be removed in v6.0.0. See https://github.com/optuna/optuna/releases/tag/v3.0.0. Use suggest_float instead.\n",
            "  'colsample_bytree': trial.suggest_uniform('colsample_bytree', 0.5, 1.0),\n",
            "<ipython-input-45-fd2484f4a5dd>:12: FutureWarning: suggest_loguniform has been deprecated in v3.0.0. This feature will be removed in v6.0.0. See https://github.com/optuna/optuna/releases/tag/v3.0.0. Use suggest_float(..., log=True) instead.\n",
            "  'reg_alpha':        trial.suggest_loguniform('reg_alpha', 1e-8, 10.0),\n",
            "<ipython-input-45-fd2484f4a5dd>:13: FutureWarning: suggest_loguniform has been deprecated in v3.0.0. This feature will be removed in v6.0.0. See https://github.com/optuna/optuna/releases/tag/v3.0.0. Use suggest_float(..., log=True) instead.\n",
            "  'reg_lambda':       trial.suggest_loguniform('reg_lambda', 1e-8, 10.0),\n",
            "/usr/local/lib/python3.11/dist-packages/sklearn/utils/deprecation.py:151: FutureWarning: 'force_all_finite' was renamed to 'ensure_all_finite' in 1.6 and will be removed in 1.8.\n",
            "  warnings.warn(\n"
          ]
        },
        {
          "name": "stdout",
          "output_type": "stream",
          "text": [
            "Training until validation scores don't improve for 50 rounds\n",
            "Did not meet early stopping. Best iteration is:\n",
            "[1808]\tvalid_0's l2: 0.0225112\n"
          ]
        },
        {
          "name": "stderr",
          "output_type": "stream",
          "text": [
            "/usr/local/lib/python3.11/dist-packages/sklearn/utils/deprecation.py:151: FutureWarning: 'force_all_finite' was renamed to 'ensure_all_finite' in 1.6 and will be removed in 1.8.\n",
            "  warnings.warn(\n"
          ]
        },
        {
          "name": "stdout",
          "output_type": "stream",
          "text": [
            "[I 2025-06-10 00:39:06,577] Trial 27 finished with value: 0.9810917198094936 and parameters: {'n_estimators': 1808, 'learning_rate': 0.03915746004518299, 'num_leaves': 208, 'max_depth': 16, 'subsample': 0.5084380635915631, 'colsample_bytree': 0.6030501701168788, 'reg_alpha': 6.909982422674999e-06, 'reg_lambda': 0.00017588903931811987, 'min_child_weight': 9}. Best is trial 23 with value: 0.9813965631718042.\n"
          ]
        },
        {
          "name": "stderr",
          "output_type": "stream",
          "text": [
            "<ipython-input-45-fd2484f4a5dd>:7: FutureWarning: suggest_loguniform has been deprecated in v3.0.0. This feature will be removed in v6.0.0. See https://github.com/optuna/optuna/releases/tag/v3.0.0. Use suggest_float(..., log=True) instead.\n",
            "  'learning_rate':    trial.suggest_loguniform('learning_rate', 1e-3, 1e-1),\n",
            "<ipython-input-45-fd2484f4a5dd>:10: FutureWarning: suggest_uniform has been deprecated in v3.0.0. This feature will be removed in v6.0.0. See https://github.com/optuna/optuna/releases/tag/v3.0.0. Use suggest_float instead.\n",
            "  'subsample':        trial.suggest_uniform('subsample', 0.5, 1.0),\n",
            "<ipython-input-45-fd2484f4a5dd>:11: FutureWarning: suggest_uniform has been deprecated in v3.0.0. This feature will be removed in v6.0.0. See https://github.com/optuna/optuna/releases/tag/v3.0.0. Use suggest_float instead.\n",
            "  'colsample_bytree': trial.suggest_uniform('colsample_bytree', 0.5, 1.0),\n",
            "<ipython-input-45-fd2484f4a5dd>:12: FutureWarning: suggest_loguniform has been deprecated in v3.0.0. This feature will be removed in v6.0.0. See https://github.com/optuna/optuna/releases/tag/v3.0.0. Use suggest_float(..., log=True) instead.\n",
            "  'reg_alpha':        trial.suggest_loguniform('reg_alpha', 1e-8, 10.0),\n",
            "<ipython-input-45-fd2484f4a5dd>:13: FutureWarning: suggest_loguniform has been deprecated in v3.0.0. This feature will be removed in v6.0.0. See https://github.com/optuna/optuna/releases/tag/v3.0.0. Use suggest_float(..., log=True) instead.\n",
            "  'reg_lambda':       trial.suggest_loguniform('reg_lambda', 1e-8, 10.0),\n",
            "/usr/local/lib/python3.11/dist-packages/sklearn/utils/deprecation.py:151: FutureWarning: 'force_all_finite' was renamed to 'ensure_all_finite' in 1.6 and will be removed in 1.8.\n",
            "  warnings.warn(\n"
          ]
        },
        {
          "name": "stdout",
          "output_type": "stream",
          "text": [
            "Training until validation scores don't improve for 50 rounds\n",
            "Did not meet early stopping. Best iteration is:\n",
            "[1561]\tvalid_0's l2: 0.0222825\n"
          ]
        },
        {
          "name": "stderr",
          "output_type": "stream",
          "text": [
            "/usr/local/lib/python3.11/dist-packages/sklearn/utils/deprecation.py:151: FutureWarning: 'force_all_finite' was renamed to 'ensure_all_finite' in 1.6 and will be removed in 1.8.\n",
            "  warnings.warn(\n"
          ]
        },
        {
          "name": "stdout",
          "output_type": "stream",
          "text": [
            "[I 2025-06-10 00:42:44,754] Trial 28 finished with value: 0.9812838500603559 and parameters: {'n_estimators': 1561, 'learning_rate': 0.07745435844149275, 'num_leaves': 236, 'max_depth': 23, 'subsample': 0.5890186164137421, 'colsample_bytree': 0.6989480530064395, 'reg_alpha': 0.000890660714069173, 'reg_lambda': 8.126927250459639e-06, 'min_child_weight': 6}. Best is trial 23 with value: 0.9813965631718042.\n"
          ]
        },
        {
          "name": "stderr",
          "output_type": "stream",
          "text": [
            "<ipython-input-45-fd2484f4a5dd>:7: FutureWarning: suggest_loguniform has been deprecated in v3.0.0. This feature will be removed in v6.0.0. See https://github.com/optuna/optuna/releases/tag/v3.0.0. Use suggest_float(..., log=True) instead.\n",
            "  'learning_rate':    trial.suggest_loguniform('learning_rate', 1e-3, 1e-1),\n",
            "<ipython-input-45-fd2484f4a5dd>:10: FutureWarning: suggest_uniform has been deprecated in v3.0.0. This feature will be removed in v6.0.0. See https://github.com/optuna/optuna/releases/tag/v3.0.0. Use suggest_float instead.\n",
            "  'subsample':        trial.suggest_uniform('subsample', 0.5, 1.0),\n",
            "<ipython-input-45-fd2484f4a5dd>:11: FutureWarning: suggest_uniform has been deprecated in v3.0.0. This feature will be removed in v6.0.0. See https://github.com/optuna/optuna/releases/tag/v3.0.0. Use suggest_float instead.\n",
            "  'colsample_bytree': trial.suggest_uniform('colsample_bytree', 0.5, 1.0),\n",
            "<ipython-input-45-fd2484f4a5dd>:12: FutureWarning: suggest_loguniform has been deprecated in v3.0.0. This feature will be removed in v6.0.0. See https://github.com/optuna/optuna/releases/tag/v3.0.0. Use suggest_float(..., log=True) instead.\n",
            "  'reg_alpha':        trial.suggest_loguniform('reg_alpha', 1e-8, 10.0),\n",
            "<ipython-input-45-fd2484f4a5dd>:13: FutureWarning: suggest_loguniform has been deprecated in v3.0.0. This feature will be removed in v6.0.0. See https://github.com/optuna/optuna/releases/tag/v3.0.0. Use suggest_float(..., log=True) instead.\n",
            "  'reg_lambda':       trial.suggest_loguniform('reg_lambda', 1e-8, 10.0),\n",
            "/usr/local/lib/python3.11/dist-packages/sklearn/utils/deprecation.py:151: FutureWarning: 'force_all_finite' was renamed to 'ensure_all_finite' in 1.6 and will be removed in 1.8.\n",
            "  warnings.warn(\n"
          ]
        },
        {
          "name": "stdout",
          "output_type": "stream",
          "text": [
            "Training until validation scores don't improve for 50 rounds\n",
            "Did not meet early stopping. Best iteration is:\n",
            "[802]\tvalid_0's l2: 0.0256382\n"
          ]
        },
        {
          "name": "stderr",
          "output_type": "stream",
          "text": [
            "/usr/local/lib/python3.11/dist-packages/sklearn/utils/deprecation.py:151: FutureWarning: 'force_all_finite' was renamed to 'ensure_all_finite' in 1.6 and will be removed in 1.8.\n",
            "  warnings.warn(\n"
          ]
        },
        {
          "name": "stdout",
          "output_type": "stream",
          "text": [
            "[I 2025-06-10 00:45:30,652] Trial 29 finished with value: 0.9784652698695979 and parameters: {'n_estimators': 802, 'learning_rate': 0.024531415942860905, 'num_leaves': 203, 'max_depth': 14, 'subsample': 0.557186802899945, 'colsample_bytree': 0.6842934127835485, 'reg_alpha': 2.5227073392221187e-07, 'reg_lambda': 9.323423130009838e-06, 'min_child_weight': 1}. Best is trial 23 with value: 0.9813965631718042.\n"
          ]
        },
        {
          "name": "stderr",
          "output_type": "stream",
          "text": [
            "<ipython-input-45-fd2484f4a5dd>:7: FutureWarning: suggest_loguniform has been deprecated in v3.0.0. This feature will be removed in v6.0.0. See https://github.com/optuna/optuna/releases/tag/v3.0.0. Use suggest_float(..., log=True) instead.\n",
            "  'learning_rate':    trial.suggest_loguniform('learning_rate', 1e-3, 1e-1),\n",
            "<ipython-input-45-fd2484f4a5dd>:10: FutureWarning: suggest_uniform has been deprecated in v3.0.0. This feature will be removed in v6.0.0. See https://github.com/optuna/optuna/releases/tag/v3.0.0. Use suggest_float instead.\n",
            "  'subsample':        trial.suggest_uniform('subsample', 0.5, 1.0),\n",
            "<ipython-input-45-fd2484f4a5dd>:11: FutureWarning: suggest_uniform has been deprecated in v3.0.0. This feature will be removed in v6.0.0. See https://github.com/optuna/optuna/releases/tag/v3.0.0. Use suggest_float instead.\n",
            "  'colsample_bytree': trial.suggest_uniform('colsample_bytree', 0.5, 1.0),\n",
            "<ipython-input-45-fd2484f4a5dd>:12: FutureWarning: suggest_loguniform has been deprecated in v3.0.0. This feature will be removed in v6.0.0. See https://github.com/optuna/optuna/releases/tag/v3.0.0. Use suggest_float(..., log=True) instead.\n",
            "  'reg_alpha':        trial.suggest_loguniform('reg_alpha', 1e-8, 10.0),\n",
            "<ipython-input-45-fd2484f4a5dd>:13: FutureWarning: suggest_loguniform has been deprecated in v3.0.0. This feature will be removed in v6.0.0. See https://github.com/optuna/optuna/releases/tag/v3.0.0. Use suggest_float(..., log=True) instead.\n",
            "  'reg_lambda':       trial.suggest_loguniform('reg_lambda', 1e-8, 10.0),\n",
            "/usr/local/lib/python3.11/dist-packages/sklearn/utils/deprecation.py:151: FutureWarning: 'force_all_finite' was renamed to 'ensure_all_finite' in 1.6 and will be removed in 1.8.\n",
            "  warnings.warn(\n"
          ]
        },
        {
          "name": "stdout",
          "output_type": "stream",
          "text": [
            "Training until validation scores don't improve for 50 rounds\n",
            "Did not meet early stopping. Best iteration is:\n",
            "[1240]\tvalid_0's l2: 0.0237294\n"
          ]
        },
        {
          "name": "stderr",
          "output_type": "stream",
          "text": [
            "/usr/local/lib/python3.11/dist-packages/sklearn/utils/deprecation.py:151: FutureWarning: 'force_all_finite' was renamed to 'ensure_all_finite' in 1.6 and will be removed in 1.8.\n",
            "  warnings.warn(\n"
          ]
        },
        {
          "name": "stdout",
          "output_type": "stream",
          "text": [
            "[I 2025-06-10 00:49:10,644] Trial 30 finished with value: 0.9800685680805065 and parameters: {'n_estimators': 1240, 'learning_rate': 0.0401177522120749, 'num_leaves': 163, 'max_depth': 10, 'subsample': 0.5039698214774779, 'colsample_bytree': 0.6320494584708634, 'reg_alpha': 1.3316489154848606e-08, 'reg_lambda': 0.0005506741113274508, 'min_child_weight': 9}. Best is trial 23 with value: 0.9813965631718042.\n"
          ]
        },
        {
          "name": "stderr",
          "output_type": "stream",
          "text": [
            "<ipython-input-45-fd2484f4a5dd>:7: FutureWarning: suggest_loguniform has been deprecated in v3.0.0. This feature will be removed in v6.0.0. See https://github.com/optuna/optuna/releases/tag/v3.0.0. Use suggest_float(..., log=True) instead.\n",
            "  'learning_rate':    trial.suggest_loguniform('learning_rate', 1e-3, 1e-1),\n",
            "<ipython-input-45-fd2484f4a5dd>:10: FutureWarning: suggest_uniform has been deprecated in v3.0.0. This feature will be removed in v6.0.0. See https://github.com/optuna/optuna/releases/tag/v3.0.0. Use suggest_float instead.\n",
            "  'subsample':        trial.suggest_uniform('subsample', 0.5, 1.0),\n",
            "<ipython-input-45-fd2484f4a5dd>:11: FutureWarning: suggest_uniform has been deprecated in v3.0.0. This feature will be removed in v6.0.0. See https://github.com/optuna/optuna/releases/tag/v3.0.0. Use suggest_float instead.\n",
            "  'colsample_bytree': trial.suggest_uniform('colsample_bytree', 0.5, 1.0),\n",
            "<ipython-input-45-fd2484f4a5dd>:12: FutureWarning: suggest_loguniform has been deprecated in v3.0.0. This feature will be removed in v6.0.0. See https://github.com/optuna/optuna/releases/tag/v3.0.0. Use suggest_float(..., log=True) instead.\n",
            "  'reg_alpha':        trial.suggest_loguniform('reg_alpha', 1e-8, 10.0),\n",
            "<ipython-input-45-fd2484f4a5dd>:13: FutureWarning: suggest_loguniform has been deprecated in v3.0.0. This feature will be removed in v6.0.0. See https://github.com/optuna/optuna/releases/tag/v3.0.0. Use suggest_float(..., log=True) instead.\n",
            "  'reg_lambda':       trial.suggest_loguniform('reg_lambda', 1e-8, 10.0),\n",
            "/usr/local/lib/python3.11/dist-packages/sklearn/utils/deprecation.py:151: FutureWarning: 'force_all_finite' was renamed to 'ensure_all_finite' in 1.6 and will be removed in 1.8.\n",
            "  warnings.warn(\n"
          ]
        },
        {
          "name": "stdout",
          "output_type": "stream",
          "text": [
            "Training until validation scores don't improve for 50 rounds\n",
            "Did not meet early stopping. Best iteration is:\n",
            "[1848]\tvalid_0's l2: 0.0222333\n"
          ]
        },
        {
          "name": "stderr",
          "output_type": "stream",
          "text": [
            "/usr/local/lib/python3.11/dist-packages/sklearn/utils/deprecation.py:151: FutureWarning: 'force_all_finite' was renamed to 'ensure_all_finite' in 1.6 and will be removed in 1.8.\n",
            "  warnings.warn(\n"
          ]
        },
        {
          "name": "stdout",
          "output_type": "stream",
          "text": [
            "[I 2025-06-10 00:53:26,960] Trial 31 finished with value: 0.9813251857188939 and parameters: {'n_estimators': 1848, 'learning_rate': 0.0617766406734663, 'num_leaves': 222, 'max_depth': 17, 'subsample': 0.6025560678221622, 'colsample_bytree': 0.72746578942239, 'reg_alpha': 9.238041857909476e-06, 'reg_lambda': 1.9222435430767593e-07, 'min_child_weight': 1}. Best is trial 23 with value: 0.9813965631718042.\n"
          ]
        },
        {
          "name": "stderr",
          "output_type": "stream",
          "text": [
            "<ipython-input-45-fd2484f4a5dd>:7: FutureWarning: suggest_loguniform has been deprecated in v3.0.0. This feature will be removed in v6.0.0. See https://github.com/optuna/optuna/releases/tag/v3.0.0. Use suggest_float(..., log=True) instead.\n",
            "  'learning_rate':    trial.suggest_loguniform('learning_rate', 1e-3, 1e-1),\n",
            "<ipython-input-45-fd2484f4a5dd>:10: FutureWarning: suggest_uniform has been deprecated in v3.0.0. This feature will be removed in v6.0.0. See https://github.com/optuna/optuna/releases/tag/v3.0.0. Use suggest_float instead.\n",
            "  'subsample':        trial.suggest_uniform('subsample', 0.5, 1.0),\n",
            "<ipython-input-45-fd2484f4a5dd>:11: FutureWarning: suggest_uniform has been deprecated in v3.0.0. This feature will be removed in v6.0.0. See https://github.com/optuna/optuna/releases/tag/v3.0.0. Use suggest_float instead.\n",
            "  'colsample_bytree': trial.suggest_uniform('colsample_bytree', 0.5, 1.0),\n",
            "<ipython-input-45-fd2484f4a5dd>:12: FutureWarning: suggest_loguniform has been deprecated in v3.0.0. This feature will be removed in v6.0.0. See https://github.com/optuna/optuna/releases/tag/v3.0.0. Use suggest_float(..., log=True) instead.\n",
            "  'reg_alpha':        trial.suggest_loguniform('reg_alpha', 1e-8, 10.0),\n",
            "<ipython-input-45-fd2484f4a5dd>:13: FutureWarning: suggest_loguniform has been deprecated in v3.0.0. This feature will be removed in v6.0.0. See https://github.com/optuna/optuna/releases/tag/v3.0.0. Use suggest_float(..., log=True) instead.\n",
            "  'reg_lambda':       trial.suggest_loguniform('reg_lambda', 1e-8, 10.0),\n",
            "/usr/local/lib/python3.11/dist-packages/sklearn/utils/deprecation.py:151: FutureWarning: 'force_all_finite' was renamed to 'ensure_all_finite' in 1.6 and will be removed in 1.8.\n",
            "  warnings.warn(\n"
          ]
        },
        {
          "name": "stdout",
          "output_type": "stream",
          "text": [
            "Training until validation scores don't improve for 50 rounds\n",
            "Did not meet early stopping. Best iteration is:\n",
            "[1800]\tvalid_0's l2: 0.0224682\n"
          ]
        },
        {
          "name": "stderr",
          "output_type": "stream",
          "text": [
            "/usr/local/lib/python3.11/dist-packages/sklearn/utils/deprecation.py:151: FutureWarning: 'force_all_finite' was renamed to 'ensure_all_finite' in 1.6 and will be removed in 1.8.\n",
            "  warnings.warn(\n"
          ]
        },
        {
          "name": "stdout",
          "output_type": "stream",
          "text": [
            "[I 2025-06-10 00:57:55,173] Trial 32 finished with value: 0.9811278719678665 and parameters: {'n_estimators': 1800, 'learning_rate': 0.04212096372249541, 'num_leaves': 218, 'max_depth': 17, 'subsample': 0.6050498504602413, 'colsample_bytree': 0.7893185994482284, 'reg_alpha': 4.731902936998092e-06, 'reg_lambda': 1.0058138060362666e-08, 'min_child_weight': 5}. Best is trial 23 with value: 0.9813965631718042.\n"
          ]
        },
        {
          "name": "stderr",
          "output_type": "stream",
          "text": [
            "<ipython-input-45-fd2484f4a5dd>:7: FutureWarning: suggest_loguniform has been deprecated in v3.0.0. This feature will be removed in v6.0.0. See https://github.com/optuna/optuna/releases/tag/v3.0.0. Use suggest_float(..., log=True) instead.\n",
            "  'learning_rate':    trial.suggest_loguniform('learning_rate', 1e-3, 1e-1),\n",
            "<ipython-input-45-fd2484f4a5dd>:10: FutureWarning: suggest_uniform has been deprecated in v3.0.0. This feature will be removed in v6.0.0. See https://github.com/optuna/optuna/releases/tag/v3.0.0. Use suggest_float instead.\n",
            "  'subsample':        trial.suggest_uniform('subsample', 0.5, 1.0),\n",
            "<ipython-input-45-fd2484f4a5dd>:11: FutureWarning: suggest_uniform has been deprecated in v3.0.0. This feature will be removed in v6.0.0. See https://github.com/optuna/optuna/releases/tag/v3.0.0. Use suggest_float instead.\n",
            "  'colsample_bytree': trial.suggest_uniform('colsample_bytree', 0.5, 1.0),\n",
            "<ipython-input-45-fd2484f4a5dd>:12: FutureWarning: suggest_loguniform has been deprecated in v3.0.0. This feature will be removed in v6.0.0. See https://github.com/optuna/optuna/releases/tag/v3.0.0. Use suggest_float(..., log=True) instead.\n",
            "  'reg_alpha':        trial.suggest_loguniform('reg_alpha', 1e-8, 10.0),\n",
            "<ipython-input-45-fd2484f4a5dd>:13: FutureWarning: suggest_loguniform has been deprecated in v3.0.0. This feature will be removed in v6.0.0. See https://github.com/optuna/optuna/releases/tag/v3.0.0. Use suggest_float(..., log=True) instead.\n",
            "  'reg_lambda':       trial.suggest_loguniform('reg_lambda', 1e-8, 10.0),\n",
            "/usr/local/lib/python3.11/dist-packages/sklearn/utils/deprecation.py:151: FutureWarning: 'force_all_finite' was renamed to 'ensure_all_finite' in 1.6 and will be removed in 1.8.\n",
            "  warnings.warn(\n"
          ]
        },
        {
          "name": "stdout",
          "output_type": "stream",
          "text": [
            "Training until validation scores don't improve for 50 rounds\n",
            "Did not meet early stopping. Best iteration is:\n",
            "[1632]\tvalid_0's l2: 0.0227865\n"
          ]
        },
        {
          "name": "stderr",
          "output_type": "stream",
          "text": [
            "/usr/local/lib/python3.11/dist-packages/sklearn/utils/deprecation.py:151: FutureWarning: 'force_all_finite' was renamed to 'ensure_all_finite' in 1.6 and will be removed in 1.8.\n",
            "  warnings.warn(\n"
          ]
        },
        {
          "name": "stdout",
          "output_type": "stream",
          "text": [
            "[I 2025-06-10 01:03:00,696] Trial 33 finished with value: 0.9808605347599211 and parameters: {'n_estimators': 1632, 'learning_rate': 0.06841803647639379, 'num_leaves': 236, 'max_depth': 12, 'subsample': 0.5417586962502327, 'colsample_bytree': 0.7241622993235752, 'reg_alpha': 7.490983917126046, 'reg_lambda': 1.59799276634946e-07, 'min_child_weight': 1}. Best is trial 23 with value: 0.9813965631718042.\n"
          ]
        },
        {
          "name": "stderr",
          "output_type": "stream",
          "text": [
            "<ipython-input-45-fd2484f4a5dd>:7: FutureWarning: suggest_loguniform has been deprecated in v3.0.0. This feature will be removed in v6.0.0. See https://github.com/optuna/optuna/releases/tag/v3.0.0. Use suggest_float(..., log=True) instead.\n",
            "  'learning_rate':    trial.suggest_loguniform('learning_rate', 1e-3, 1e-1),\n",
            "<ipython-input-45-fd2484f4a5dd>:10: FutureWarning: suggest_uniform has been deprecated in v3.0.0. This feature will be removed in v6.0.0. See https://github.com/optuna/optuna/releases/tag/v3.0.0. Use suggest_float instead.\n",
            "  'subsample':        trial.suggest_uniform('subsample', 0.5, 1.0),\n",
            "<ipython-input-45-fd2484f4a5dd>:11: FutureWarning: suggest_uniform has been deprecated in v3.0.0. This feature will be removed in v6.0.0. See https://github.com/optuna/optuna/releases/tag/v3.0.0. Use suggest_float instead.\n",
            "  'colsample_bytree': trial.suggest_uniform('colsample_bytree', 0.5, 1.0),\n",
            "<ipython-input-45-fd2484f4a5dd>:12: FutureWarning: suggest_loguniform has been deprecated in v3.0.0. This feature will be removed in v6.0.0. See https://github.com/optuna/optuna/releases/tag/v3.0.0. Use suggest_float(..., log=True) instead.\n",
            "  'reg_alpha':        trial.suggest_loguniform('reg_alpha', 1e-8, 10.0),\n",
            "<ipython-input-45-fd2484f4a5dd>:13: FutureWarning: suggest_loguniform has been deprecated in v3.0.0. This feature will be removed in v6.0.0. See https://github.com/optuna/optuna/releases/tag/v3.0.0. Use suggest_float(..., log=True) instead.\n",
            "  'reg_lambda':       trial.suggest_loguniform('reg_lambda', 1e-8, 10.0),\n",
            "/usr/local/lib/python3.11/dist-packages/sklearn/utils/deprecation.py:151: FutureWarning: 'force_all_finite' was renamed to 'ensure_all_finite' in 1.6 and will be removed in 1.8.\n",
            "  warnings.warn(\n"
          ]
        },
        {
          "name": "stdout",
          "output_type": "stream",
          "text": [
            "Training until validation scores don't improve for 50 rounds\n",
            "Did not meet early stopping. Best iteration is:\n",
            "[1817]\tvalid_0's l2: 0.0243798\n"
          ]
        },
        {
          "name": "stderr",
          "output_type": "stream",
          "text": [
            "/usr/local/lib/python3.11/dist-packages/sklearn/utils/deprecation.py:151: FutureWarning: 'force_all_finite' was renamed to 'ensure_all_finite' in 1.6 and will be removed in 1.8.\n",
            "  warnings.warn(\n"
          ]
        },
        {
          "name": "stdout",
          "output_type": "stream",
          "text": [
            "[I 2025-06-10 01:11:52,149] Trial 34 finished with value: 0.9795222282634637 and parameters: {'n_estimators': 1817, 'learning_rate': 0.016098080704630487, 'num_leaves': 192, 'max_depth': 14, 'subsample': 0.6897845852829345, 'colsample_bytree': 0.5604087750522249, 'reg_alpha': 0.00014348347912632504, 'reg_lambda': 5.340247037848304e-06, 'min_child_weight': 4}. Best is trial 23 with value: 0.9813965631718042.\n"
          ]
        },
        {
          "name": "stderr",
          "output_type": "stream",
          "text": [
            "<ipython-input-45-fd2484f4a5dd>:7: FutureWarning: suggest_loguniform has been deprecated in v3.0.0. This feature will be removed in v6.0.0. See https://github.com/optuna/optuna/releases/tag/v3.0.0. Use suggest_float(..., log=True) instead.\n",
            "  'learning_rate':    trial.suggest_loguniform('learning_rate', 1e-3, 1e-1),\n",
            "<ipython-input-45-fd2484f4a5dd>:10: FutureWarning: suggest_uniform has been deprecated in v3.0.0. This feature will be removed in v6.0.0. See https://github.com/optuna/optuna/releases/tag/v3.0.0. Use suggest_float instead.\n",
            "  'subsample':        trial.suggest_uniform('subsample', 0.5, 1.0),\n",
            "<ipython-input-45-fd2484f4a5dd>:11: FutureWarning: suggest_uniform has been deprecated in v3.0.0. This feature will be removed in v6.0.0. See https://github.com/optuna/optuna/releases/tag/v3.0.0. Use suggest_float instead.\n",
            "  'colsample_bytree': trial.suggest_uniform('colsample_bytree', 0.5, 1.0),\n",
            "<ipython-input-45-fd2484f4a5dd>:12: FutureWarning: suggest_loguniform has been deprecated in v3.0.0. This feature will be removed in v6.0.0. See https://github.com/optuna/optuna/releases/tag/v3.0.0. Use suggest_float(..., log=True) instead.\n",
            "  'reg_alpha':        trial.suggest_loguniform('reg_alpha', 1e-8, 10.0),\n",
            "<ipython-input-45-fd2484f4a5dd>:13: FutureWarning: suggest_loguniform has been deprecated in v3.0.0. This feature will be removed in v6.0.0. See https://github.com/optuna/optuna/releases/tag/v3.0.0. Use suggest_float(..., log=True) instead.\n",
            "  'reg_lambda':       trial.suggest_loguniform('reg_lambda', 1e-8, 10.0),\n",
            "/usr/local/lib/python3.11/dist-packages/sklearn/utils/deprecation.py:151: FutureWarning: 'force_all_finite' was renamed to 'ensure_all_finite' in 1.6 and will be removed in 1.8.\n",
            "  warnings.warn(\n"
          ]
        },
        {
          "name": "stdout",
          "output_type": "stream",
          "text": [
            "Training until validation scores don't improve for 50 rounds\n",
            "Did not meet early stopping. Best iteration is:\n",
            "[1670]\tvalid_0's l2: 0.0227105\n"
          ]
        },
        {
          "name": "stderr",
          "output_type": "stream",
          "text": [
            "/usr/local/lib/python3.11/dist-packages/sklearn/utils/deprecation.py:151: FutureWarning: 'force_all_finite' was renamed to 'ensure_all_finite' in 1.6 and will be removed in 1.8.\n",
            "  warnings.warn(\n"
          ]
        },
        {
          "name": "stdout",
          "output_type": "stream",
          "text": [
            "[I 2025-06-10 01:15:01,998] Trial 35 finished with value: 0.9809243816132336 and parameters: {'n_estimators': 1670, 'learning_rate': 0.07293122747709668, 'num_leaves': 133, 'max_depth': 17, 'subsample': 0.7658817119020991, 'colsample_bytree': 0.8148183480211909, 'reg_alpha': 7.036760322598734e-07, 'reg_lambda': 4.862085004066106e-08, 'min_child_weight': 8}. Best is trial 23 with value: 0.9813965631718042.\n"
          ]
        },
        {
          "name": "stderr",
          "output_type": "stream",
          "text": [
            "<ipython-input-45-fd2484f4a5dd>:7: FutureWarning: suggest_loguniform has been deprecated in v3.0.0. This feature will be removed in v6.0.0. See https://github.com/optuna/optuna/releases/tag/v3.0.0. Use suggest_float(..., log=True) instead.\n",
            "  'learning_rate':    trial.suggest_loguniform('learning_rate', 1e-3, 1e-1),\n",
            "<ipython-input-45-fd2484f4a5dd>:10: FutureWarning: suggest_uniform has been deprecated in v3.0.0. This feature will be removed in v6.0.0. See https://github.com/optuna/optuna/releases/tag/v3.0.0. Use suggest_float instead.\n",
            "  'subsample':        trial.suggest_uniform('subsample', 0.5, 1.0),\n",
            "<ipython-input-45-fd2484f4a5dd>:11: FutureWarning: suggest_uniform has been deprecated in v3.0.0. This feature will be removed in v6.0.0. See https://github.com/optuna/optuna/releases/tag/v3.0.0. Use suggest_float instead.\n",
            "  'colsample_bytree': trial.suggest_uniform('colsample_bytree', 0.5, 1.0),\n",
            "<ipython-input-45-fd2484f4a5dd>:12: FutureWarning: suggest_loguniform has been deprecated in v3.0.0. This feature will be removed in v6.0.0. See https://github.com/optuna/optuna/releases/tag/v3.0.0. Use suggest_float(..., log=True) instead.\n",
            "  'reg_alpha':        trial.suggest_loguniform('reg_alpha', 1e-8, 10.0),\n",
            "<ipython-input-45-fd2484f4a5dd>:13: FutureWarning: suggest_loguniform has been deprecated in v3.0.0. This feature will be removed in v6.0.0. See https://github.com/optuna/optuna/releases/tag/v3.0.0. Use suggest_float(..., log=True) instead.\n",
            "  'reg_lambda':       trial.suggest_loguniform('reg_lambda', 1e-8, 10.0),\n",
            "/usr/local/lib/python3.11/dist-packages/sklearn/utils/deprecation.py:151: FutureWarning: 'force_all_finite' was renamed to 'ensure_all_finite' in 1.6 and will be removed in 1.8.\n",
            "  warnings.warn(\n"
          ]
        },
        {
          "name": "stdout",
          "output_type": "stream",
          "text": [
            "Training until validation scores don't improve for 50 rounds\n",
            "Did not meet early stopping. Best iteration is:\n",
            "[1875]\tvalid_0's l2: 0.0224663\n"
          ]
        },
        {
          "name": "stderr",
          "output_type": "stream",
          "text": [
            "/usr/local/lib/python3.11/dist-packages/sklearn/utils/deprecation.py:151: FutureWarning: 'force_all_finite' was renamed to 'ensure_all_finite' in 1.6 and will be removed in 1.8.\n",
            "  warnings.warn(\n"
          ]
        },
        {
          "name": "stdout",
          "output_type": "stream",
          "text": [
            "[I 2025-06-10 01:18:59,746] Trial 36 finished with value: 0.981129481576308 and parameters: {'n_estimators': 1875, 'learning_rate': 0.05343874327264794, 'num_leaves': 180, 'max_depth': 21, 'subsample': 0.6173842766423141, 'colsample_bytree': 0.6858327467694533, 'reg_alpha': 0.004079413702004698, 'reg_lambda': 1.672723044829346e-06, 'min_child_weight': 4}. Best is trial 23 with value: 0.9813965631718042.\n"
          ]
        },
        {
          "name": "stderr",
          "output_type": "stream",
          "text": [
            "<ipython-input-45-fd2484f4a5dd>:7: FutureWarning: suggest_loguniform has been deprecated in v3.0.0. This feature will be removed in v6.0.0. See https://github.com/optuna/optuna/releases/tag/v3.0.0. Use suggest_float(..., log=True) instead.\n",
            "  'learning_rate':    trial.suggest_loguniform('learning_rate', 1e-3, 1e-1),\n",
            "<ipython-input-45-fd2484f4a5dd>:10: FutureWarning: suggest_uniform has been deprecated in v3.0.0. This feature will be removed in v6.0.0. See https://github.com/optuna/optuna/releases/tag/v3.0.0. Use suggest_float instead.\n",
            "  'subsample':        trial.suggest_uniform('subsample', 0.5, 1.0),\n",
            "<ipython-input-45-fd2484f4a5dd>:11: FutureWarning: suggest_uniform has been deprecated in v3.0.0. This feature will be removed in v6.0.0. See https://github.com/optuna/optuna/releases/tag/v3.0.0. Use suggest_float instead.\n",
            "  'colsample_bytree': trial.suggest_uniform('colsample_bytree', 0.5, 1.0),\n",
            "<ipython-input-45-fd2484f4a5dd>:12: FutureWarning: suggest_loguniform has been deprecated in v3.0.0. This feature will be removed in v6.0.0. See https://github.com/optuna/optuna/releases/tag/v3.0.0. Use suggest_float(..., log=True) instead.\n",
            "  'reg_alpha':        trial.suggest_loguniform('reg_alpha', 1e-8, 10.0),\n",
            "<ipython-input-45-fd2484f4a5dd>:13: FutureWarning: suggest_loguniform has been deprecated in v3.0.0. This feature will be removed in v6.0.0. See https://github.com/optuna/optuna/releases/tag/v3.0.0. Use suggest_float(..., log=True) instead.\n",
            "  'reg_lambda':       trial.suggest_loguniform('reg_lambda', 1e-8, 10.0),\n",
            "/usr/local/lib/python3.11/dist-packages/sklearn/utils/deprecation.py:151: FutureWarning: 'force_all_finite' was renamed to 'ensure_all_finite' in 1.6 and will be removed in 1.8.\n",
            "  warnings.warn(\n"
          ]
        },
        {
          "name": "stdout",
          "output_type": "stream",
          "text": [
            "Training until validation scores don't improve for 50 rounds\n",
            "Did not meet early stopping. Best iteration is:\n",
            "[1535]\tvalid_0's l2: 0.0325648\n"
          ]
        },
        {
          "name": "stderr",
          "output_type": "stream",
          "text": [
            "/usr/local/lib/python3.11/dist-packages/sklearn/utils/deprecation.py:151: FutureWarning: 'force_all_finite' was renamed to 'ensure_all_finite' in 1.6 and will be removed in 1.8.\n",
            "  warnings.warn(\n"
          ]
        },
        {
          "name": "stdout",
          "output_type": "stream",
          "text": [
            "[I 2025-06-10 01:24:52,689] Trial 37 finished with value: 0.9726472421797879 and parameters: {'n_estimators': 1535, 'learning_rate': 0.0049070909395064755, 'num_leaves': 156, 'max_depth': 18, 'subsample': 0.5665501436560832, 'colsample_bytree': 0.6339217622682981, 'reg_alpha': 1.4661513959536266e-05, 'reg_lambda': 0.00287060373573651, 'min_child_weight': 16}. Best is trial 23 with value: 0.9813965631718042.\n"
          ]
        },
        {
          "name": "stderr",
          "output_type": "stream",
          "text": [
            "<ipython-input-45-fd2484f4a5dd>:7: FutureWarning: suggest_loguniform has been deprecated in v3.0.0. This feature will be removed in v6.0.0. See https://github.com/optuna/optuna/releases/tag/v3.0.0. Use suggest_float(..., log=True) instead.\n",
            "  'learning_rate':    trial.suggest_loguniform('learning_rate', 1e-3, 1e-1),\n",
            "<ipython-input-45-fd2484f4a5dd>:10: FutureWarning: suggest_uniform has been deprecated in v3.0.0. This feature will be removed in v6.0.0. See https://github.com/optuna/optuna/releases/tag/v3.0.0. Use suggest_float instead.\n",
            "  'subsample':        trial.suggest_uniform('subsample', 0.5, 1.0),\n",
            "<ipython-input-45-fd2484f4a5dd>:11: FutureWarning: suggest_uniform has been deprecated in v3.0.0. This feature will be removed in v6.0.0. See https://github.com/optuna/optuna/releases/tag/v3.0.0. Use suggest_float instead.\n",
            "  'colsample_bytree': trial.suggest_uniform('colsample_bytree', 0.5, 1.0),\n",
            "<ipython-input-45-fd2484f4a5dd>:12: FutureWarning: suggest_loguniform has been deprecated in v3.0.0. This feature will be removed in v6.0.0. See https://github.com/optuna/optuna/releases/tag/v3.0.0. Use suggest_float(..., log=True) instead.\n",
            "  'reg_alpha':        trial.suggest_loguniform('reg_alpha', 1e-8, 10.0),\n",
            "<ipython-input-45-fd2484f4a5dd>:13: FutureWarning: suggest_loguniform has been deprecated in v3.0.0. This feature will be removed in v6.0.0. See https://github.com/optuna/optuna/releases/tag/v3.0.0. Use suggest_float(..., log=True) instead.\n",
            "  'reg_lambda':       trial.suggest_loguniform('reg_lambda', 1e-8, 10.0),\n",
            "/usr/local/lib/python3.11/dist-packages/sklearn/utils/deprecation.py:151: FutureWarning: 'force_all_finite' was renamed to 'ensure_all_finite' in 1.6 and will be removed in 1.8.\n",
            "  warnings.warn(\n"
          ]
        },
        {
          "name": "stdout",
          "output_type": "stream",
          "text": [
            "Training until validation scores don't improve for 50 rounds\n",
            "Did not meet early stopping. Best iteration is:\n",
            "[1693]\tvalid_0's l2: 0.0230946\n"
          ]
        },
        {
          "name": "stderr",
          "output_type": "stream",
          "text": [
            "/usr/local/lib/python3.11/dist-packages/sklearn/utils/deprecation.py:151: FutureWarning: 'force_all_finite' was renamed to 'ensure_all_finite' in 1.6 and will be removed in 1.8.\n",
            "  warnings.warn(\n"
          ]
        },
        {
          "name": "stdout",
          "output_type": "stream",
          "text": [
            "[I 2025-06-10 01:29:35,551] Trial 38 finished with value: 0.9806016909141034 and parameters: {'n_estimators': 1693, 'learning_rate': 0.03407869075389578, 'num_leaves': 240, 'max_depth': 10, 'subsample': 0.5306404918112734, 'colsample_bytree': 0.7210811866885108, 'reg_alpha': 2.302092262536721e-06, 'reg_lambda': 1.6364862633841804e-07, 'min_child_weight': 4}. Best is trial 23 with value: 0.9813965631718042.\n"
          ]
        },
        {
          "name": "stderr",
          "output_type": "stream",
          "text": [
            "<ipython-input-45-fd2484f4a5dd>:7: FutureWarning: suggest_loguniform has been deprecated in v3.0.0. This feature will be removed in v6.0.0. See https://github.com/optuna/optuna/releases/tag/v3.0.0. Use suggest_float(..., log=True) instead.\n",
            "  'learning_rate':    trial.suggest_loguniform('learning_rate', 1e-3, 1e-1),\n",
            "<ipython-input-45-fd2484f4a5dd>:10: FutureWarning: suggest_uniform has been deprecated in v3.0.0. This feature will be removed in v6.0.0. See https://github.com/optuna/optuna/releases/tag/v3.0.0. Use suggest_float instead.\n",
            "  'subsample':        trial.suggest_uniform('subsample', 0.5, 1.0),\n",
            "<ipython-input-45-fd2484f4a5dd>:11: FutureWarning: suggest_uniform has been deprecated in v3.0.0. This feature will be removed in v6.0.0. See https://github.com/optuna/optuna/releases/tag/v3.0.0. Use suggest_float instead.\n",
            "  'colsample_bytree': trial.suggest_uniform('colsample_bytree', 0.5, 1.0),\n",
            "<ipython-input-45-fd2484f4a5dd>:12: FutureWarning: suggest_loguniform has been deprecated in v3.0.0. This feature will be removed in v6.0.0. See https://github.com/optuna/optuna/releases/tag/v3.0.0. Use suggest_float(..., log=True) instead.\n",
            "  'reg_alpha':        trial.suggest_loguniform('reg_alpha', 1e-8, 10.0),\n",
            "<ipython-input-45-fd2484f4a5dd>:13: FutureWarning: suggest_loguniform has been deprecated in v3.0.0. This feature will be removed in v6.0.0. See https://github.com/optuna/optuna/releases/tag/v3.0.0. Use suggest_float(..., log=True) instead.\n",
            "  'reg_lambda':       trial.suggest_loguniform('reg_lambda', 1e-8, 10.0),\n",
            "/usr/local/lib/python3.11/dist-packages/sklearn/utils/deprecation.py:151: FutureWarning: 'force_all_finite' was renamed to 'ensure_all_finite' in 1.6 and will be removed in 1.8.\n",
            "  warnings.warn(\n"
          ]
        },
        {
          "name": "stdout",
          "output_type": "stream",
          "text": [
            "Training until validation scores don't improve for 50 rounds\n",
            "Did not meet early stopping. Best iteration is:\n",
            "[1880]\tvalid_0's l2: 0.0222359\n"
          ]
        },
        {
          "name": "stderr",
          "output_type": "stream",
          "text": [
            "/usr/local/lib/python3.11/dist-packages/sklearn/utils/deprecation.py:151: FutureWarning: 'force_all_finite' was renamed to 'ensure_all_finite' in 1.6 and will be removed in 1.8.\n",
            "  warnings.warn(\n"
          ]
        },
        {
          "name": "stdout",
          "output_type": "stream",
          "text": [
            "[I 2025-06-10 01:33:39,006] Trial 39 finished with value: 0.981322961005912 and parameters: {'n_estimators': 1883, 'learning_rate': 0.08360865551793967, 'num_leaves': 216, 'max_depth': 20, 'subsample': 0.6776019394922901, 'colsample_bytree': 0.6730799248591713, 'reg_alpha': 0.01073043029435399, 'reg_lambda': 2.584579489785273e-05, 'min_child_weight': 11}. Best is trial 23 with value: 0.9813965631718042.\n"
          ]
        },
        {
          "name": "stderr",
          "output_type": "stream",
          "text": [
            "<ipython-input-45-fd2484f4a5dd>:7: FutureWarning: suggest_loguniform has been deprecated in v3.0.0. This feature will be removed in v6.0.0. See https://github.com/optuna/optuna/releases/tag/v3.0.0. Use suggest_float(..., log=True) instead.\n",
            "  'learning_rate':    trial.suggest_loguniform('learning_rate', 1e-3, 1e-1),\n",
            "<ipython-input-45-fd2484f4a5dd>:10: FutureWarning: suggest_uniform has been deprecated in v3.0.0. This feature will be removed in v6.0.0. See https://github.com/optuna/optuna/releases/tag/v3.0.0. Use suggest_float instead.\n",
            "  'subsample':        trial.suggest_uniform('subsample', 0.5, 1.0),\n",
            "<ipython-input-45-fd2484f4a5dd>:11: FutureWarning: suggest_uniform has been deprecated in v3.0.0. This feature will be removed in v6.0.0. See https://github.com/optuna/optuna/releases/tag/v3.0.0. Use suggest_float instead.\n",
            "  'colsample_bytree': trial.suggest_uniform('colsample_bytree', 0.5, 1.0),\n",
            "<ipython-input-45-fd2484f4a5dd>:12: FutureWarning: suggest_loguniform has been deprecated in v3.0.0. This feature will be removed in v6.0.0. See https://github.com/optuna/optuna/releases/tag/v3.0.0. Use suggest_float(..., log=True) instead.\n",
            "  'reg_alpha':        trial.suggest_loguniform('reg_alpha', 1e-8, 10.0),\n",
            "<ipython-input-45-fd2484f4a5dd>:13: FutureWarning: suggest_loguniform has been deprecated in v3.0.0. This feature will be removed in v6.0.0. See https://github.com/optuna/optuna/releases/tag/v3.0.0. Use suggest_float(..., log=True) instead.\n",
            "  'reg_lambda':       trial.suggest_loguniform('reg_lambda', 1e-8, 10.0),\n",
            "/usr/local/lib/python3.11/dist-packages/sklearn/utils/deprecation.py:151: FutureWarning: 'force_all_finite' was renamed to 'ensure_all_finite' in 1.6 and will be removed in 1.8.\n",
            "  warnings.warn(\n"
          ]
        },
        {
          "name": "stdout",
          "output_type": "stream",
          "text": [
            "Training until validation scores don't improve for 50 rounds\n",
            "Did not meet early stopping. Best iteration is:\n",
            "[1864]\tvalid_0's l2: 0.0223959\n"
          ]
        },
        {
          "name": "stderr",
          "output_type": "stream",
          "text": [
            "/usr/local/lib/python3.11/dist-packages/sklearn/utils/deprecation.py:151: FutureWarning: 'force_all_finite' was renamed to 'ensure_all_finite' in 1.6 and will be removed in 1.8.\n",
            "  warnings.warn(\n"
          ]
        },
        {
          "name": "stdout",
          "output_type": "stream",
          "text": [
            "[I 2025-06-10 01:38:13,041] Trial 40 finished with value: 0.98118861922618 and parameters: {'n_estimators': 1864, 'learning_rate': 0.048525885042233714, 'num_leaves': 215, 'max_depth': 16, 'subsample': 0.5805991252697545, 'colsample_bytree': 0.8059148725773343, 'reg_alpha': 0.012236824484432885, 'reg_lambda': 0.00019345600365959267, 'min_child_weight': 11}. Best is trial 23 with value: 0.9813965631718042.\n"
          ]
        },
        {
          "name": "stderr",
          "output_type": "stream",
          "text": [
            "<ipython-input-45-fd2484f4a5dd>:7: FutureWarning: suggest_loguniform has been deprecated in v3.0.0. This feature will be removed in v6.0.0. See https://github.com/optuna/optuna/releases/tag/v3.0.0. Use suggest_float(..., log=True) instead.\n",
            "  'learning_rate':    trial.suggest_loguniform('learning_rate', 1e-3, 1e-1),\n",
            "<ipython-input-45-fd2484f4a5dd>:10: FutureWarning: suggest_uniform has been deprecated in v3.0.0. This feature will be removed in v6.0.0. See https://github.com/optuna/optuna/releases/tag/v3.0.0. Use suggest_float instead.\n",
            "  'subsample':        trial.suggest_uniform('subsample', 0.5, 1.0),\n",
            "<ipython-input-45-fd2484f4a5dd>:11: FutureWarning: suggest_uniform has been deprecated in v3.0.0. This feature will be removed in v6.0.0. See https://github.com/optuna/optuna/releases/tag/v3.0.0. Use suggest_float instead.\n",
            "  'colsample_bytree': trial.suggest_uniform('colsample_bytree', 0.5, 1.0),\n",
            "<ipython-input-45-fd2484f4a5dd>:12: FutureWarning: suggest_loguniform has been deprecated in v3.0.0. This feature will be removed in v6.0.0. See https://github.com/optuna/optuna/releases/tag/v3.0.0. Use suggest_float(..., log=True) instead.\n",
            "  'reg_alpha':        trial.suggest_loguniform('reg_alpha', 1e-8, 10.0),\n",
            "<ipython-input-45-fd2484f4a5dd>:13: FutureWarning: suggest_loguniform has been deprecated in v3.0.0. This feature will be removed in v6.0.0. See https://github.com/optuna/optuna/releases/tag/v3.0.0. Use suggest_float(..., log=True) instead.\n",
            "  'reg_lambda':       trial.suggest_loguniform('reg_lambda', 1e-8, 10.0),\n",
            "/usr/local/lib/python3.11/dist-packages/sklearn/utils/deprecation.py:151: FutureWarning: 'force_all_finite' was renamed to 'ensure_all_finite' in 1.6 and will be removed in 1.8.\n",
            "  warnings.warn(\n"
          ]
        },
        {
          "name": "stdout",
          "output_type": "stream",
          "text": [
            "Training until validation scores don't improve for 50 rounds\n",
            "Did not meet early stopping. Best iteration is:\n",
            "[1982]\tvalid_0's l2: 0.0222839\n"
          ]
        },
        {
          "name": "stderr",
          "output_type": "stream",
          "text": [
            "/usr/local/lib/python3.11/dist-packages/sklearn/utils/deprecation.py:151: FutureWarning: 'force_all_finite' was renamed to 'ensure_all_finite' in 1.6 and will be removed in 1.8.\n",
            "  warnings.warn(\n"
          ]
        },
        {
          "name": "stdout",
          "output_type": "stream",
          "text": [
            "[I 2025-06-10 01:42:17,868] Trial 41 finished with value: 0.9812826613641811 and parameters: {'n_estimators': 1983, 'learning_rate': 0.08181828468022663, 'num_leaves': 199, 'max_depth': 21, 'subsample': 0.6844310200017443, 'colsample_bytree': 0.6740793703703856, 'reg_alpha': 0.0006010939134732825, 'reg_lambda': 1.644425912903386e-05, 'min_child_weight': 7}. Best is trial 23 with value: 0.9813965631718042.\n"
          ]
        },
        {
          "name": "stderr",
          "output_type": "stream",
          "text": [
            "<ipython-input-45-fd2484f4a5dd>:7: FutureWarning: suggest_loguniform has been deprecated in v3.0.0. This feature will be removed in v6.0.0. See https://github.com/optuna/optuna/releases/tag/v3.0.0. Use suggest_float(..., log=True) instead.\n",
            "  'learning_rate':    trial.suggest_loguniform('learning_rate', 1e-3, 1e-1),\n",
            "<ipython-input-45-fd2484f4a5dd>:10: FutureWarning: suggest_uniform has been deprecated in v3.0.0. This feature will be removed in v6.0.0. See https://github.com/optuna/optuna/releases/tag/v3.0.0. Use suggest_float instead.\n",
            "  'subsample':        trial.suggest_uniform('subsample', 0.5, 1.0),\n",
            "<ipython-input-45-fd2484f4a5dd>:11: FutureWarning: suggest_uniform has been deprecated in v3.0.0. This feature will be removed in v6.0.0. See https://github.com/optuna/optuna/releases/tag/v3.0.0. Use suggest_float instead.\n",
            "  'colsample_bytree': trial.suggest_uniform('colsample_bytree', 0.5, 1.0),\n",
            "<ipython-input-45-fd2484f4a5dd>:12: FutureWarning: suggest_loguniform has been deprecated in v3.0.0. This feature will be removed in v6.0.0. See https://github.com/optuna/optuna/releases/tag/v3.0.0. Use suggest_float(..., log=True) instead.\n",
            "  'reg_alpha':        trial.suggest_loguniform('reg_alpha', 1e-8, 10.0),\n",
            "<ipython-input-45-fd2484f4a5dd>:13: FutureWarning: suggest_loguniform has been deprecated in v3.0.0. This feature will be removed in v6.0.0. See https://github.com/optuna/optuna/releases/tag/v3.0.0. Use suggest_float(..., log=True) instead.\n",
            "  'reg_lambda':       trial.suggest_loguniform('reg_lambda', 1e-8, 10.0),\n",
            "/usr/local/lib/python3.11/dist-packages/sklearn/utils/deprecation.py:151: FutureWarning: 'force_all_finite' was renamed to 'ensure_all_finite' in 1.6 and will be removed in 1.8.\n",
            "  warnings.warn(\n"
          ]
        },
        {
          "name": "stdout",
          "output_type": "stream",
          "text": [
            "Training until validation scores don't improve for 50 rounds\n",
            "Did not meet early stopping. Best iteration is:\n",
            "[1739]\tvalid_0's l2: 0.022157\n"
          ]
        },
        {
          "name": "stderr",
          "output_type": "stream",
          "text": [
            "/usr/local/lib/python3.11/dist-packages/sklearn/utils/deprecation.py:151: FutureWarning: 'force_all_finite' was renamed to 'ensure_all_finite' in 1.6 and will be removed in 1.8.\n",
            "  warnings.warn(\n"
          ]
        },
        {
          "name": "stdout",
          "output_type": "stream",
          "text": [
            "[I 2025-06-10 01:49:46,977] Trial 42 finished with value: 0.9813892800254611 and parameters: {'n_estimators': 1739, 'learning_rate': 0.06191760327318874, 'num_leaves': 236, 'max_depth': 23, 'subsample': 0.6213099299210503, 'colsample_bytree': 0.5673901503005567, 'reg_alpha': 0.010609218182470981, 'reg_lambda': 4.0344521498802894e-05, 'min_child_weight': 10}. Best is trial 23 with value: 0.9813965631718042.\n"
          ]
        },
        {
          "name": "stderr",
          "output_type": "stream",
          "text": [
            "<ipython-input-45-fd2484f4a5dd>:7: FutureWarning: suggest_loguniform has been deprecated in v3.0.0. This feature will be removed in v6.0.0. See https://github.com/optuna/optuna/releases/tag/v3.0.0. Use suggest_float(..., log=True) instead.\n",
            "  'learning_rate':    trial.suggest_loguniform('learning_rate', 1e-3, 1e-1),\n",
            "<ipython-input-45-fd2484f4a5dd>:10: FutureWarning: suggest_uniform has been deprecated in v3.0.0. This feature will be removed in v6.0.0. See https://github.com/optuna/optuna/releases/tag/v3.0.0. Use suggest_float instead.\n",
            "  'subsample':        trial.suggest_uniform('subsample', 0.5, 1.0),\n",
            "<ipython-input-45-fd2484f4a5dd>:11: FutureWarning: suggest_uniform has been deprecated in v3.0.0. This feature will be removed in v6.0.0. See https://github.com/optuna/optuna/releases/tag/v3.0.0. Use suggest_float instead.\n",
            "  'colsample_bytree': trial.suggest_uniform('colsample_bytree', 0.5, 1.0),\n",
            "<ipython-input-45-fd2484f4a5dd>:12: FutureWarning: suggest_loguniform has been deprecated in v3.0.0. This feature will be removed in v6.0.0. See https://github.com/optuna/optuna/releases/tag/v3.0.0. Use suggest_float(..., log=True) instead.\n",
            "  'reg_alpha':        trial.suggest_loguniform('reg_alpha', 1e-8, 10.0),\n",
            "<ipython-input-45-fd2484f4a5dd>:13: FutureWarning: suggest_loguniform has been deprecated in v3.0.0. This feature will be removed in v6.0.0. See https://github.com/optuna/optuna/releases/tag/v3.0.0. Use suggest_float(..., log=True) instead.\n",
            "  'reg_lambda':       trial.suggest_loguniform('reg_lambda', 1e-8, 10.0),\n",
            "/usr/local/lib/python3.11/dist-packages/sklearn/utils/deprecation.py:151: FutureWarning: 'force_all_finite' was renamed to 'ensure_all_finite' in 1.6 and will be removed in 1.8.\n",
            "  warnings.warn(\n"
          ]
        },
        {
          "name": "stdout",
          "output_type": "stream",
          "text": [
            "Training until validation scores don't improve for 50 rounds\n"
          ]
        }
      ],
      "source": [
        "study = optuna.create_study(direction='maximize', study_name='lgbm_opt_r2')\n",
        "study.optimize(\n",
        "    objective,\n",
        "    n_trials=50,\n",
        "    show_progress_bar=True,\n",
        ")\n",
        "\n",
        "best = study.best_params\n",
        "best.update({'device':'gpu','random_seed':RANDOM_STATE,'verbose':-1})\n",
        "final_model = LGBMRegressor(**best)\n",
        "final_model.fit(X_train_proc, y_train, eval_set=(X_valid_proc, y_valid), early_stopping_rounds=50)\n",
        "\n",
        "joblib.dump(final_model, 'drive/MyDrive/ML_project/best_lightgbm_model_with_new_feature.pkl')\n",
        "joblib.dump(preprocessor, 'drive/MyDrive/ML_project/best_lightgbm_model_with_new_feature.pkl')\n",
        "print(\"Models saved to best_lightgbm_model_with_new_feature.pkl and best_lightgbm_model_with_new_feature.pkl\")\n",
        "\n",
        "print(\"Best R²:\", study.best_value)\n",
        "print(\"Best params:\", study.best_params)"
      ]
    },
    {
      "cell_type": "markdown",
      "metadata": {},
      "source": [
        "### Выводы"
      ]
    },
    {
      "cell_type": "markdown",
      "metadata": {},
      "source": [
        "$R^2 = 0.9814$"
      ]
    },
    {
      "cell_type": "code",
      "execution_count": null,
      "metadata": {},
      "outputs": [],
      "source": [
        "param = {\n",
        "    'n_estimators': 1828, \n",
        "    'learning_rate': 0.05930396196813868, \n",
        "    'num_leaves': 231, \n",
        "    'max_depth': 20, \n",
        "    'subsample': 0.5848815693903193, \n",
        "    'colsample_bytree': 0.7082366853043143, \n",
        "    'reg_alpha': 0.00027775655371692815, \n",
        "    'reg_lambda': 3.7302584109152244e-06, \n",
        "    'min_child_weight': 1\n",
        "}"
      ]
    }
  ],
  "metadata": {
    "accelerator": "GPU",
    "colab": {
      "gpuType": "T4",
      "provenance": []
    },
    "kernelspec": {
      "display_name": "Python 3",
      "name": "python3"
    },
    "language_info": {
      "name": "python"
    },
    "widgets": {
      "application/vnd.jupyter.widget-state+json": {
        "076ca16d18bc4ff09b839aa525cea2eb": {
          "model_module": "@jupyter-widgets/controls",
          "model_module_version": "1.5.0",
          "model_name": "FloatProgressModel",
          "state": {
            "_dom_classes": [],
            "_model_module": "@jupyter-widgets/controls",
            "_model_module_version": "1.5.0",
            "_model_name": "FloatProgressModel",
            "_view_count": null,
            "_view_module": "@jupyter-widgets/controls",
            "_view_module_version": "1.5.0",
            "_view_name": "ProgressView",
            "bar_style": "",
            "description": "",
            "description_tooltip": null,
            "layout": "IPY_MODEL_805289088f0b48869da7efb5c7068fad",
            "max": 50,
            "min": 0,
            "orientation": "horizontal",
            "style": "IPY_MODEL_b6a752e53563405b862153d21be7014a",
            "value": 43
          }
        },
        "5256437ec7d0442e98a7abb3fb35611c": {
          "model_module": "@jupyter-widgets/controls",
          "model_module_version": "1.5.0",
          "model_name": "HBoxModel",
          "state": {
            "_dom_classes": [],
            "_model_module": "@jupyter-widgets/controls",
            "_model_module_version": "1.5.0",
            "_model_name": "HBoxModel",
            "_view_count": null,
            "_view_module": "@jupyter-widgets/controls",
            "_view_module_version": "1.5.0",
            "_view_name": "HBoxView",
            "box_style": "",
            "children": [
              "IPY_MODEL_88cf6e8b301b40fdac9ea26093ecd241",
              "IPY_MODEL_076ca16d18bc4ff09b839aa525cea2eb",
              "IPY_MODEL_7d0ac4cb95fd43dea052ba1c1ab58296"
            ],
            "layout": "IPY_MODEL_f93e7462131542c8aadfff8873629d21"
          }
        },
        "6a0ac2902cd645fd952b1827b22afde8": {
          "model_module": "@jupyter-widgets/base",
          "model_module_version": "1.2.0",
          "model_name": "LayoutModel",
          "state": {
            "_model_module": "@jupyter-widgets/base",
            "_model_module_version": "1.2.0",
            "_model_name": "LayoutModel",
            "_view_count": null,
            "_view_module": "@jupyter-widgets/base",
            "_view_module_version": "1.2.0",
            "_view_name": "LayoutView",
            "align_content": null,
            "align_items": null,
            "align_self": null,
            "border": null,
            "bottom": null,
            "display": null,
            "flex": null,
            "flex_flow": null,
            "grid_area": null,
            "grid_auto_columns": null,
            "grid_auto_flow": null,
            "grid_auto_rows": null,
            "grid_column": null,
            "grid_gap": null,
            "grid_row": null,
            "grid_template_areas": null,
            "grid_template_columns": null,
            "grid_template_rows": null,
            "height": null,
            "justify_content": null,
            "justify_items": null,
            "left": null,
            "margin": null,
            "max_height": null,
            "max_width": null,
            "min_height": null,
            "min_width": null,
            "object_fit": null,
            "object_position": null,
            "order": null,
            "overflow": null,
            "overflow_x": null,
            "overflow_y": null,
            "padding": null,
            "right": null,
            "top": null,
            "visibility": null,
            "width": null
          }
        },
        "7d0ac4cb95fd43dea052ba1c1ab58296": {
          "model_module": "@jupyter-widgets/controls",
          "model_module_version": "1.5.0",
          "model_name": "HTMLModel",
          "state": {
            "_dom_classes": [],
            "_model_module": "@jupyter-widgets/controls",
            "_model_module_version": "1.5.0",
            "_model_name": "HTMLModel",
            "_view_count": null,
            "_view_module": "@jupyter-widgets/controls",
            "_view_module_version": "1.5.0",
            "_view_name": "HTMLView",
            "description": "",
            "description_tooltip": null,
            "layout": "IPY_MODEL_6a0ac2902cd645fd952b1827b22afde8",
            "placeholder": "​",
            "style": "IPY_MODEL_d79546fa43a3477cac19c2aa006db4c1",
            "value": " 43/50 [3:07:32&lt;37:38, 322.67s/it]"
          }
        },
        "805289088f0b48869da7efb5c7068fad": {
          "model_module": "@jupyter-widgets/base",
          "model_module_version": "1.2.0",
          "model_name": "LayoutModel",
          "state": {
            "_model_module": "@jupyter-widgets/base",
            "_model_module_version": "1.2.0",
            "_model_name": "LayoutModel",
            "_view_count": null,
            "_view_module": "@jupyter-widgets/base",
            "_view_module_version": "1.2.0",
            "_view_name": "LayoutView",
            "align_content": null,
            "align_items": null,
            "align_self": null,
            "border": null,
            "bottom": null,
            "display": null,
            "flex": null,
            "flex_flow": null,
            "grid_area": null,
            "grid_auto_columns": null,
            "grid_auto_flow": null,
            "grid_auto_rows": null,
            "grid_column": null,
            "grid_gap": null,
            "grid_row": null,
            "grid_template_areas": null,
            "grid_template_columns": null,
            "grid_template_rows": null,
            "height": null,
            "justify_content": null,
            "justify_items": null,
            "left": null,
            "margin": null,
            "max_height": null,
            "max_width": null,
            "min_height": null,
            "min_width": null,
            "object_fit": null,
            "object_position": null,
            "order": null,
            "overflow": null,
            "overflow_x": null,
            "overflow_y": null,
            "padding": null,
            "right": null,
            "top": null,
            "visibility": null,
            "width": null
          }
        },
        "88cf6e8b301b40fdac9ea26093ecd241": {
          "model_module": "@jupyter-widgets/controls",
          "model_module_version": "1.5.0",
          "model_name": "HTMLModel",
          "state": {
            "_dom_classes": [],
            "_model_module": "@jupyter-widgets/controls",
            "_model_module_version": "1.5.0",
            "_model_name": "HTMLModel",
            "_view_count": null,
            "_view_module": "@jupyter-widgets/controls",
            "_view_module_version": "1.5.0",
            "_view_name": "HTMLView",
            "description": "",
            "description_tooltip": null,
            "layout": "IPY_MODEL_aa867cfbf4534ab69e736d5e888fb2d8",
            "placeholder": "​",
            "style": "IPY_MODEL_db9c90b8ee5d4338b7b044bcfffc6837",
            "value": "Best trial: 23. Best value: 0.981397:  86%"
          }
        },
        "aa867cfbf4534ab69e736d5e888fb2d8": {
          "model_module": "@jupyter-widgets/base",
          "model_module_version": "1.2.0",
          "model_name": "LayoutModel",
          "state": {
            "_model_module": "@jupyter-widgets/base",
            "_model_module_version": "1.2.0",
            "_model_name": "LayoutModel",
            "_view_count": null,
            "_view_module": "@jupyter-widgets/base",
            "_view_module_version": "1.2.0",
            "_view_name": "LayoutView",
            "align_content": null,
            "align_items": null,
            "align_self": null,
            "border": null,
            "bottom": null,
            "display": null,
            "flex": null,
            "flex_flow": null,
            "grid_area": null,
            "grid_auto_columns": null,
            "grid_auto_flow": null,
            "grid_auto_rows": null,
            "grid_column": null,
            "grid_gap": null,
            "grid_row": null,
            "grid_template_areas": null,
            "grid_template_columns": null,
            "grid_template_rows": null,
            "height": null,
            "justify_content": null,
            "justify_items": null,
            "left": null,
            "margin": null,
            "max_height": null,
            "max_width": null,
            "min_height": null,
            "min_width": null,
            "object_fit": null,
            "object_position": null,
            "order": null,
            "overflow": null,
            "overflow_x": null,
            "overflow_y": null,
            "padding": null,
            "right": null,
            "top": null,
            "visibility": null,
            "width": null
          }
        },
        "b6a752e53563405b862153d21be7014a": {
          "model_module": "@jupyter-widgets/controls",
          "model_module_version": "1.5.0",
          "model_name": "ProgressStyleModel",
          "state": {
            "_model_module": "@jupyter-widgets/controls",
            "_model_module_version": "1.5.0",
            "_model_name": "ProgressStyleModel",
            "_view_count": null,
            "_view_module": "@jupyter-widgets/base",
            "_view_module_version": "1.2.0",
            "_view_name": "StyleView",
            "bar_color": null,
            "description_width": ""
          }
        },
        "d79546fa43a3477cac19c2aa006db4c1": {
          "model_module": "@jupyter-widgets/controls",
          "model_module_version": "1.5.0",
          "model_name": "DescriptionStyleModel",
          "state": {
            "_model_module": "@jupyter-widgets/controls",
            "_model_module_version": "1.5.0",
            "_model_name": "DescriptionStyleModel",
            "_view_count": null,
            "_view_module": "@jupyter-widgets/base",
            "_view_module_version": "1.2.0",
            "_view_name": "StyleView",
            "description_width": ""
          }
        },
        "db9c90b8ee5d4338b7b044bcfffc6837": {
          "model_module": "@jupyter-widgets/controls",
          "model_module_version": "1.5.0",
          "model_name": "DescriptionStyleModel",
          "state": {
            "_model_module": "@jupyter-widgets/controls",
            "_model_module_version": "1.5.0",
            "_model_name": "DescriptionStyleModel",
            "_view_count": null,
            "_view_module": "@jupyter-widgets/base",
            "_view_module_version": "1.2.0",
            "_view_name": "StyleView",
            "description_width": ""
          }
        },
        "f93e7462131542c8aadfff8873629d21": {
          "model_module": "@jupyter-widgets/base",
          "model_module_version": "1.2.0",
          "model_name": "LayoutModel",
          "state": {
            "_model_module": "@jupyter-widgets/base",
            "_model_module_version": "1.2.0",
            "_model_name": "LayoutModel",
            "_view_count": null,
            "_view_module": "@jupyter-widgets/base",
            "_view_module_version": "1.2.0",
            "_view_name": "LayoutView",
            "align_content": null,
            "align_items": null,
            "align_self": null,
            "border": null,
            "bottom": null,
            "display": null,
            "flex": null,
            "flex_flow": null,
            "grid_area": null,
            "grid_auto_columns": null,
            "grid_auto_flow": null,
            "grid_auto_rows": null,
            "grid_column": null,
            "grid_gap": null,
            "grid_row": null,
            "grid_template_areas": null,
            "grid_template_columns": null,
            "grid_template_rows": null,
            "height": null,
            "justify_content": null,
            "justify_items": null,
            "left": null,
            "margin": null,
            "max_height": null,
            "max_width": null,
            "min_height": null,
            "min_width": null,
            "object_fit": null,
            "object_position": null,
            "order": null,
            "overflow": null,
            "overflow_x": null,
            "overflow_y": null,
            "padding": null,
            "right": null,
            "top": null,
            "visibility": null,
            "width": null
          }
        }
      }
    }
  },
  "nbformat": 4,
  "nbformat_minor": 0
}
