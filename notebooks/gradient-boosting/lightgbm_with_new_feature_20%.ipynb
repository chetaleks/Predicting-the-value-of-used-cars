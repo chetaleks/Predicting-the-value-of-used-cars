{
  "cells": [
    {
      "cell_type": "code",
      "execution_count": 2,
      "metadata": {
        "id": "iKuriCcPe6Gi"
      },
      "outputs": [],
      "source": [
        "import pandas as pd\n",
        "import numpy as np\n",
        "import matplotlib.pyplot as plt\n",
        "import random\n",
        "import seaborn as sns"
      ]
    },
    {
      "cell_type": "code",
      "execution_count": 3,
      "metadata": {
        "colab": {
          "base_uri": "https://localhost:8080/"
        },
        "id": "Y9ZXl816ge50",
        "outputId": "0c8e36bc-dcd8-4d8a-bacf-381849f60b5d"
      },
      "outputs": [
        {
          "name": "stdout",
          "output_type": "stream",
          "text": [
            "Requirement already satisfied: gdown in /usr/local/lib/python3.11/dist-packages (5.2.0)\n",
            "Requirement already satisfied: beautifulsoup4 in /usr/local/lib/python3.11/dist-packages (from gdown) (4.13.4)\n",
            "Requirement already satisfied: filelock in /usr/local/lib/python3.11/dist-packages (from gdown) (3.18.0)\n",
            "Requirement already satisfied: requests[socks] in /usr/local/lib/python3.11/dist-packages (from gdown) (2.32.3)\n",
            "Requirement already satisfied: tqdm in /usr/local/lib/python3.11/dist-packages (from gdown) (4.67.1)\n",
            "Requirement already satisfied: soupsieve>1.2 in /usr/local/lib/python3.11/dist-packages (from beautifulsoup4->gdown) (2.7)\n",
            "Requirement already satisfied: typing-extensions>=4.0.0 in /usr/local/lib/python3.11/dist-packages (from beautifulsoup4->gdown) (4.14.0)\n",
            "Requirement already satisfied: charset-normalizer<4,>=2 in /usr/local/lib/python3.11/dist-packages (from requests[socks]->gdown) (3.4.2)\n",
            "Requirement already satisfied: idna<4,>=2.5 in /usr/local/lib/python3.11/dist-packages (from requests[socks]->gdown) (3.10)\n",
            "Requirement already satisfied: urllib3<3,>=1.21.1 in /usr/local/lib/python3.11/dist-packages (from requests[socks]->gdown) (2.4.0)\n",
            "Requirement already satisfied: certifi>=2017.4.17 in /usr/local/lib/python3.11/dist-packages (from requests[socks]->gdown) (2025.4.26)\n",
            "Requirement already satisfied: PySocks!=1.5.7,>=1.5.6 in /usr/local/lib/python3.11/dist-packages (from requests[socks]->gdown) (1.7.1)\n"
          ]
        }
      ],
      "source": [
        "%pip install gdown"
      ]
    },
    {
      "cell_type": "code",
      "execution_count": 4,
      "metadata": {
        "id": "-YumXIhGggJx"
      },
      "outputs": [],
      "source": [
        "RANDOM_STATE = 42"
      ]
    },
    {
      "cell_type": "code",
      "execution_count": 5,
      "metadata": {
        "colab": {
          "base_uri": "https://localhost:8080/"
        },
        "id": "4AzcUUWXghQ2",
        "outputId": "c9eb1edb-fb88-445b-ec65-d35c35e24ca6"
      },
      "outputs": [
        {
          "name": "stdout",
          "output_type": "stream",
          "text": [
            "/usr/local/lib/python3.11/dist-packages/gdown/__main__.py:140: FutureWarning: Option `--id` was deprecated in version 4.3.1 and will be removed in 5.0. You don't need to pass it anymore to use a file ID.\n",
            "  warnings.warn(\n",
            "Downloading...\n",
            "From (original): https://drive.google.com/uc?id=1liFEe1-yFISPSpRSvbv1wIH_avYNGmBI\n",
            "From (redirected): https://drive.google.com/uc?id=1liFEe1-yFISPSpRSvbv1wIH_avYNGmBI&confirm=t&uuid=27256348-6c25-4b37-aa9b-68da2bc445db\n",
            "To: /content/dataset.csv\n",
            "100% 1.01G/1.01G [00:17<00:00, 57.7MB/s]\n"
          ]
        }
      ],
      "source": [
        "CARS_FILE_ID = '1liFEe1-yFISPSpRSvbv1wIH_avYNGmBI'\n",
        "\n",
        "random.seed(RANDOM_STATE)\n",
        "np.random.seed(RANDOM_STATE)\n",
        "\n",
        "!gdown --id {CARS_FILE_ID}"
      ]
    },
    {
      "cell_type": "code",
      "execution_count": 6,
      "metadata": {
        "colab": {
          "base_uri": "https://localhost:8080/"
        },
        "id": "2y3VRIE1giVE",
        "outputId": "2b7d4381-a54e-4d7b-b9e7-9f623f9f8295"
      },
      "outputs": [
        {
          "name": "stdout",
          "output_type": "stream",
          "text": [
            "(604047, 24)\n"
          ]
        }
      ],
      "source": [
        "df = pd.read_csv('dataset.csv')\n",
        "print(df.shape)"
      ]
    },
    {
      "cell_type": "code",
      "execution_count": 7,
      "metadata": {
        "colab": {
          "base_uri": "https://localhost:8080/",
          "height": 130
        },
        "id": "B0VL39uLgjaW",
        "outputId": "f67c3c2c-95c8-4c6e-b119-25e112ca5fb6"
      },
      "outputs": [
        {
          "data": {
            "application/vnd.google.colaboratory.intrinsic+json": {
              "type": "dataframe",
              "variable_name": "df_with_na_column"
            },
            "text/html": [
              "\n",
              "  <div id=\"df-6b9a237e-e319-471b-aee8-c0e2a8f83505\" class=\"colab-df-container\">\n",
              "    <div>\n",
              "<style scoped>\n",
              "    .dataframe tbody tr th:only-of-type {\n",
              "        vertical-align: middle;\n",
              "    }\n",
              "\n",
              "    .dataframe tbody tr th {\n",
              "        vertical-align: top;\n",
              "    }\n",
              "\n",
              "    .dataframe thead th {\n",
              "        text-align: right;\n",
              "    }\n",
              "</style>\n",
              "<table border=\"1\" class=\"dataframe\">\n",
              "  <thead>\n",
              "    <tr style=\"text-align: right;\">\n",
              "      <th></th>\n",
              "      <th>production_year</th>\n",
              "      <th>mileage</th>\n",
              "      <th>condition</th>\n",
              "      <th>owners_number</th>\n",
              "      <th>pts_original</th>\n",
              "      <th>horse_power</th>\n",
              "      <th>accidents_resolution</th>\n",
              "      <th>region</th>\n",
              "      <th>seller_type</th>\n",
              "      <th>brand</th>\n",
              "      <th>...</th>\n",
              "      <th>engine_displacement</th>\n",
              "      <th>engine_power</th>\n",
              "      <th>fuel_rate</th>\n",
              "      <th>steering_wheel</th>\n",
              "      <th>price</th>\n",
              "      <th>price_segment</th>\n",
              "      <th>tags</th>\n",
              "      <th>auto_class</th>\n",
              "      <th>equipment</th>\n",
              "      <th>complectation_available_options</th>\n",
              "    </tr>\n",
              "  </thead>\n",
              "  <tbody>\n",
              "    <tr>\n",
              "      <th>210905</th>\n",
              "      <td>2003</td>\n",
              "      <td>175000</td>\n",
              "      <td>CONDITION_OK</td>\n",
              "      <td>0</td>\n",
              "      <td>True</td>\n",
              "      <td>NaN</td>\n",
              "      <td>NaN</td>\n",
              "      <td>Чебаркуль</td>\n",
              "      <td>PRIVATE</td>\n",
              "      <td>Hyundai</td>\n",
              "      <td>...</td>\n",
              "      <td>NaN</td>\n",
              "      <td>NaN</td>\n",
              "      <td>NaN</td>\n",
              "      <td>LEFT</td>\n",
              "      <td>380000</td>\n",
              "      <td>MEDIUM</td>\n",
              "      <td>available_for_checkup;pts_original;real_photo;...</td>\n",
              "      <td>NaN</td>\n",
              "      <td>seats-5</td>\n",
              "      <td>NaN</td>\n",
              "    </tr>\n",
              "  </tbody>\n",
              "</table>\n",
              "<p>1 rows × 24 columns</p>\n",
              "</div>\n",
              "    <div class=\"colab-df-buttons\">\n",
              "\n",
              "  <div class=\"colab-df-container\">\n",
              "    <button class=\"colab-df-convert\" onclick=\"convertToInteractive('df-6b9a237e-e319-471b-aee8-c0e2a8f83505')\"\n",
              "            title=\"Convert this dataframe to an interactive table.\"\n",
              "            style=\"display:none;\">\n",
              "\n",
              "  <svg xmlns=\"http://www.w3.org/2000/svg\" height=\"24px\" viewBox=\"0 -960 960 960\">\n",
              "    <path d=\"M120-120v-720h720v720H120Zm60-500h600v-160H180v160Zm220 220h160v-160H400v160Zm0 220h160v-160H400v160ZM180-400h160v-160H180v160Zm440 0h160v-160H620v160ZM180-180h160v-160H180v160Zm440 0h160v-160H620v160Z\"/>\n",
              "  </svg>\n",
              "    </button>\n",
              "\n",
              "  <style>\n",
              "    .colab-df-container {\n",
              "      display:flex;\n",
              "      gap: 12px;\n",
              "    }\n",
              "\n",
              "    .colab-df-convert {\n",
              "      background-color: #E8F0FE;\n",
              "      border: none;\n",
              "      border-radius: 50%;\n",
              "      cursor: pointer;\n",
              "      display: none;\n",
              "      fill: #1967D2;\n",
              "      height: 32px;\n",
              "      padding: 0 0 0 0;\n",
              "      width: 32px;\n",
              "    }\n",
              "\n",
              "    .colab-df-convert:hover {\n",
              "      background-color: #E2EBFA;\n",
              "      box-shadow: 0px 1px 2px rgba(60, 64, 67, 0.3), 0px 1px 3px 1px rgba(60, 64, 67, 0.15);\n",
              "      fill: #174EA6;\n",
              "    }\n",
              "\n",
              "    .colab-df-buttons div {\n",
              "      margin-bottom: 4px;\n",
              "    }\n",
              "\n",
              "    [theme=dark] .colab-df-convert {\n",
              "      background-color: #3B4455;\n",
              "      fill: #D2E3FC;\n",
              "    }\n",
              "\n",
              "    [theme=dark] .colab-df-convert:hover {\n",
              "      background-color: #434B5C;\n",
              "      box-shadow: 0px 1px 3px 1px rgba(0, 0, 0, 0.15);\n",
              "      filter: drop-shadow(0px 1px 2px rgba(0, 0, 0, 0.3));\n",
              "      fill: #FFFFFF;\n",
              "    }\n",
              "  </style>\n",
              "\n",
              "    <script>\n",
              "      const buttonEl =\n",
              "        document.querySelector('#df-6b9a237e-e319-471b-aee8-c0e2a8f83505 button.colab-df-convert');\n",
              "      buttonEl.style.display =\n",
              "        google.colab.kernel.accessAllowed ? 'block' : 'none';\n",
              "\n",
              "      async function convertToInteractive(key) {\n",
              "        const element = document.querySelector('#df-6b9a237e-e319-471b-aee8-c0e2a8f83505');\n",
              "        const dataTable =\n",
              "          await google.colab.kernel.invokeFunction('convertToInteractive',\n",
              "                                                    [key], {});\n",
              "        if (!dataTable) return;\n",
              "\n",
              "        const docLinkHtml = 'Like what you see? Visit the ' +\n",
              "          '<a target=\"_blank\" href=https://colab.research.google.com/notebooks/data_table.ipynb>data table notebook</a>'\n",
              "          + ' to learn more about interactive tables.';\n",
              "        element.innerHTML = '';\n",
              "        dataTable['output_type'] = 'display_data';\n",
              "        await google.colab.output.renderOutput(dataTable, element);\n",
              "        const docLink = document.createElement('div');\n",
              "        docLink.innerHTML = docLinkHtml;\n",
              "        element.appendChild(docLink);\n",
              "      }\n",
              "    </script>\n",
              "  </div>\n",
              "\n",
              "\n",
              "  <div id=\"id_be08a007-26f3-43e2-84af-51cfdd507692\">\n",
              "    <style>\n",
              "      .colab-df-generate {\n",
              "        background-color: #E8F0FE;\n",
              "        border: none;\n",
              "        border-radius: 50%;\n",
              "        cursor: pointer;\n",
              "        display: none;\n",
              "        fill: #1967D2;\n",
              "        height: 32px;\n",
              "        padding: 0 0 0 0;\n",
              "        width: 32px;\n",
              "      }\n",
              "\n",
              "      .colab-df-generate:hover {\n",
              "        background-color: #E2EBFA;\n",
              "        box-shadow: 0px 1px 2px rgba(60, 64, 67, 0.3), 0px 1px 3px 1px rgba(60, 64, 67, 0.15);\n",
              "        fill: #174EA6;\n",
              "      }\n",
              "\n",
              "      [theme=dark] .colab-df-generate {\n",
              "        background-color: #3B4455;\n",
              "        fill: #D2E3FC;\n",
              "      }\n",
              "\n",
              "      [theme=dark] .colab-df-generate:hover {\n",
              "        background-color: #434B5C;\n",
              "        box-shadow: 0px 1px 3px 1px rgba(0, 0, 0, 0.15);\n",
              "        filter: drop-shadow(0px 1px 2px rgba(0, 0, 0, 0.3));\n",
              "        fill: #FFFFFF;\n",
              "      }\n",
              "    </style>\n",
              "    <button class=\"colab-df-generate\" onclick=\"generateWithVariable('df_with_na_column')\"\n",
              "            title=\"Generate code using this dataframe.\"\n",
              "            style=\"display:none;\">\n",
              "\n",
              "  <svg xmlns=\"http://www.w3.org/2000/svg\" height=\"24px\"viewBox=\"0 0 24 24\"\n",
              "       width=\"24px\">\n",
              "    <path d=\"M7,19H8.4L18.45,9,17,7.55,7,17.6ZM5,21V16.75L18.45,3.32a2,2,0,0,1,2.83,0l1.4,1.43a1.91,1.91,0,0,1,.58,1.4,1.91,1.91,0,0,1-.58,1.4L9.25,21ZM18.45,9,17,7.55Zm-12,3A5.31,5.31,0,0,0,4.9,8.1,5.31,5.31,0,0,0,1,6.5,5.31,5.31,0,0,0,4.9,4.9,5.31,5.31,0,0,0,6.5,1,5.31,5.31,0,0,0,8.1,4.9,5.31,5.31,0,0,0,12,6.5,5.46,5.46,0,0,0,6.5,12Z\"/>\n",
              "  </svg>\n",
              "    </button>\n",
              "    <script>\n",
              "      (() => {\n",
              "      const buttonEl =\n",
              "        document.querySelector('#id_be08a007-26f3-43e2-84af-51cfdd507692 button.colab-df-generate');\n",
              "      buttonEl.style.display =\n",
              "        google.colab.kernel.accessAllowed ? 'block' : 'none';\n",
              "\n",
              "      buttonEl.onclick = () => {\n",
              "        google.colab.notebook.generateWithVariable('df_with_na_column');\n",
              "      }\n",
              "      })();\n",
              "    </script>\n",
              "  </div>\n",
              "\n",
              "    </div>\n",
              "  </div>\n"
            ],
            "text/plain": [
              "        production_year  mileage     condition  owners_number pts_original  \\\n",
              "210905             2003   175000  CONDITION_OK              0         True   \n",
              "\n",
              "        horse_power accidents_resolution     region seller_type    brand  ...  \\\n",
              "210905          NaN                  NaN  Чебаркуль     PRIVATE  Hyundai  ...   \n",
              "\n",
              "       engine_displacement engine_power  fuel_rate steering_wheel   price  \\\n",
              "210905                 NaN          NaN        NaN           LEFT  380000   \n",
              "\n",
              "        price_segment                                               tags  \\\n",
              "210905         MEDIUM  available_for_checkup;pts_original;real_photo;...   \n",
              "\n",
              "       auto_class  equipment complectation_available_options  \n",
              "210905        NaN    seats-5                             NaN  \n",
              "\n",
              "[1 rows x 24 columns]"
            ]
          },
          "execution_count": 7,
          "metadata": {},
          "output_type": "execute_result"
        }
      ],
      "source": [
        "df_with_na_column = df[df['engine_displacement'].isna()]\n",
        "df_with_na_column"
      ]
    },
    {
      "cell_type": "code",
      "execution_count": 8,
      "metadata": {
        "id": "GjupwzXlgkdz"
      },
      "outputs": [],
      "source": [
        "df.drop(210905, inplace=True)"
      ]
    },
    {
      "cell_type": "code",
      "execution_count": 9,
      "metadata": {
        "colab": {
          "base_uri": "https://localhost:8080/"
        },
        "id": "Jm8T3e6vgmM_",
        "outputId": "23d109e9-75e1-46a6-d89d-42c3b60d8b3f"
      },
      "outputs": [
        {
          "name": "stderr",
          "output_type": "stream",
          "text": [
            "<ipython-input-9-b50b155cf67a>:1: FutureWarning: A value is trying to be set on a copy of a DataFrame or Series through chained assignment using an inplace method.\n",
            "The behavior will change in pandas 3.0. This inplace method will never work because the intermediate object on which we are setting values always behaves as a copy.\n",
            "\n",
            "For example, when doing 'df[col].method(value, inplace=True)', try using 'df.method({col: value}, inplace=True)' or df[col] = df[col].method(value) instead, to perform the operation inplace on the original object.\n",
            "\n",
            "\n",
            "  df['fuel_rate'].fillna(df['fuel_rate'].median(), inplace=True)\n"
          ]
        }
      ],
      "source": [
        "df['fuel_rate'].fillna(df['fuel_rate'].median(), inplace=True)"
      ]
    },
    {
      "cell_type": "code",
      "execution_count": 10,
      "metadata": {
        "colab": {
          "base_uri": "https://localhost:8080/"
        },
        "collapsed": true,
        "id": "WlywJxw0gnbp",
        "outputId": "154e2af6-1461-49a3-856b-096644688fa8"
      },
      "outputs": [
        {
          "name": "stderr",
          "output_type": "stream",
          "text": [
            "<ipython-input-10-f268849e3c66>:1: FutureWarning: A value is trying to be set on a copy of a DataFrame or Series through chained assignment using an inplace method.\n",
            "The behavior will change in pandas 3.0. This inplace method will never work because the intermediate object on which we are setting values always behaves as a copy.\n",
            "\n",
            "For example, when doing 'df[col].method(value, inplace=True)', try using 'df.method({col: value}, inplace=True)' or df[col] = df[col].method(value) instead, to perform the operation inplace on the original object.\n",
            "\n",
            "\n",
            "  df['pts_original'].fillna(True, inplace=True)\n",
            "<ipython-input-10-f268849e3c66>:1: FutureWarning: Downcasting object dtype arrays on .fillna, .ffill, .bfill is deprecated and will change in a future version. Call result.infer_objects(copy=False) instead. To opt-in to the future behavior, set `pd.set_option('future.no_silent_downcasting', True)`\n",
            "  df['pts_original'].fillna(True, inplace=True)\n",
            "<ipython-input-10-f268849e3c66>:2: FutureWarning: A value is trying to be set on a copy of a DataFrame or Series through chained assignment using an inplace method.\n",
            "The behavior will change in pandas 3.0. This inplace method will never work because the intermediate object on which we are setting values always behaves as a copy.\n",
            "\n",
            "For example, when doing 'df[col].method(value, inplace=True)', try using 'df.method({col: value}, inplace=True)' or df[col] = df[col].method(value) instead, to perform the operation inplace on the original object.\n",
            "\n",
            "\n",
            "  df['accidents_resolution'].fillna('OK', inplace=True)\n",
            "<ipython-input-10-f268849e3c66>:3: FutureWarning: A value is trying to be set on a copy of a DataFrame or Series through chained assignment using an inplace method.\n",
            "The behavior will change in pandas 3.0. This inplace method will never work because the intermediate object on which we are setting values always behaves as a copy.\n",
            "\n",
            "For example, when doing 'df[col].method(value, inplace=True)', try using 'df.method({col: value}, inplace=True)' or df[col] = df[col].method(value) instead, to perform the operation inplace on the original object.\n",
            "\n",
            "\n",
            "  df['auto_class'].fillna('NOT SPECIFIED', inplace=True)\n"
          ]
        }
      ],
      "source": [
        "df['pts_original'].fillna(True, inplace=True)\n",
        "df['accidents_resolution'].fillna('OK', inplace=True)\n",
        "df['auto_class'].fillna('NOT SPECIFIED', inplace=True)"
      ]
    },
    {
      "cell_type": "code",
      "execution_count": 11,
      "metadata": {
        "id": "HRHZtqnUgozp"
      },
      "outputs": [],
      "source": [
        "df.drop('horse_power', axis=1, inplace=True)"
      ]
    },
    {
      "cell_type": "code",
      "execution_count": 12,
      "metadata": {
        "id": "bnouh2aVgqDG"
      },
      "outputs": [],
      "source": [
        "def get_unique_values(series, sep=';'):\n",
        "    uniq = set()\n",
        "    for cell in series.dropna():\n",
        "        for piece in cell.split(sep):\n",
        "            s = piece.strip()\n",
        "            if s:\n",
        "                uniq.add(s)\n",
        "    return np.array(list(uniq))\n",
        "\n",
        "all_tags = get_unique_values(df['tags'])\n",
        "all_options = get_unique_values(df['complectation_available_options'])\n",
        "all_equipments = get_unique_values(df['equipment'])"
      ]
    },
    {
      "cell_type": "code",
      "execution_count": 13,
      "metadata": {
        "id": "4NvF0dKcgrQt"
      },
      "outputs": [],
      "source": [
        "def create_binary_features(df, column, unique_values, sep=';'):\n",
        "    return (\n",
        "        df[column]\n",
        "        .str.get_dummies(sep=sep)\n",
        "        .reindex(columns=unique_values, fill_value=0)\n",
        "        .astype('int8')\n",
        "    )\n",
        "\n",
        "tags_dummies = create_binary_features(df, 'tags', all_tags)\n",
        "options_dummies = create_binary_features(df, 'complectation_available_options', all_options)\n",
        "equipment_dummies = create_binary_features(df, 'equipment', all_equipments)"
      ]
    },
    {
      "cell_type": "code",
      "execution_count": 14,
      "metadata": {
        "id": "xn6eVcE9gso-"
      },
      "outputs": [],
      "source": [
        "tags_dummies = tags_dummies.astype('Sparse[int]')\n",
        "options_dummies = options_dummies.astype('Sparse[int]')\n",
        "equipment_dummies = equipment_dummies.astype('Sparse[int]')"
      ]
    },
    {
      "cell_type": "code",
      "execution_count": 15,
      "metadata": {
        "id": "m6kLHthIgvBU"
      },
      "outputs": [],
      "source": [
        "full_df = pd.concat([\n",
        "    df.drop(columns=['tags', 'complectation_available_options', 'equipment']),\n",
        "    tags_dummies,\n",
        "    options_dummies.drop(columns=['condition']),\n",
        "    equipment_dummies.drop(columns=['condition'])\n",
        "], axis=1)"
      ]
    },
    {
      "cell_type": "code",
      "execution_count": 16,
      "metadata": {
        "id": "5QLRk5QAgwKi"
      },
      "outputs": [],
      "source": [
        "duplicated_cols = full_df.columns[full_df.columns.duplicated()].unique()\n",
        "for col in duplicated_cols:\n",
        "    full_df[col] = full_df[col].astype(\"int8\")"
      ]
    },
    {
      "cell_type": "code",
      "execution_count": 17,
      "metadata": {
        "colab": {
          "base_uri": "https://localhost:8080/"
        },
        "collapsed": true,
        "id": "O_TY4eV0gxeX",
        "outputId": "5aaf969f-fea6-44af-a467-1bd0602eeafe"
      },
      "outputs": [
        {
          "name": "stderr",
          "output_type": "stream",
          "text": [
            "<ipython-input-17-65bc9051fcec>:20: PerformanceWarning: DataFrame is highly fragmented.  This is usually the result of calling `frame.insert` many times, which has poor performance.  Consider joining all columns at once using pd.concat(axis=1) instead. To get a de-fragmented frame, use `newframe = frame.copy()`\n",
            "  full_df[name] = s\n",
            "<ipython-input-17-65bc9051fcec>:20: PerformanceWarning: DataFrame is highly fragmented.  This is usually the result of calling `frame.insert` many times, which has poor performance.  Consider joining all columns at once using pd.concat(axis=1) instead. To get a de-fragmented frame, use `newframe = frame.copy()`\n",
            "  full_df[name] = s\n",
            "<ipython-input-17-65bc9051fcec>:20: PerformanceWarning: DataFrame is highly fragmented.  This is usually the result of calling `frame.insert` many times, which has poor performance.  Consider joining all columns at once using pd.concat(axis=1) instead. To get a de-fragmented frame, use `newframe = frame.copy()`\n",
            "  full_df[name] = s\n",
            "<ipython-input-17-65bc9051fcec>:20: PerformanceWarning: DataFrame is highly fragmented.  This is usually the result of calling `frame.insert` many times, which has poor performance.  Consider joining all columns at once using pd.concat(axis=1) instead. To get a de-fragmented frame, use `newframe = frame.copy()`\n",
            "  full_df[name] = s\n",
            "<ipython-input-17-65bc9051fcec>:20: PerformanceWarning: DataFrame is highly fragmented.  This is usually the result of calling `frame.insert` many times, which has poor performance.  Consider joining all columns at once using pd.concat(axis=1) instead. To get a de-fragmented frame, use `newframe = frame.copy()`\n",
            "  full_df[name] = s\n",
            "<ipython-input-17-65bc9051fcec>:20: PerformanceWarning: DataFrame is highly fragmented.  This is usually the result of calling `frame.insert` many times, which has poor performance.  Consider joining all columns at once using pd.concat(axis=1) instead. To get a de-fragmented frame, use `newframe = frame.copy()`\n",
            "  full_df[name] = s\n",
            "<ipython-input-17-65bc9051fcec>:20: PerformanceWarning: DataFrame is highly fragmented.  This is usually the result of calling `frame.insert` many times, which has poor performance.  Consider joining all columns at once using pd.concat(axis=1) instead. To get a de-fragmented frame, use `newframe = frame.copy()`\n",
            "  full_df[name] = s\n",
            "<ipython-input-17-65bc9051fcec>:20: PerformanceWarning: DataFrame is highly fragmented.  This is usually the result of calling `frame.insert` many times, which has poor performance.  Consider joining all columns at once using pd.concat(axis=1) instead. To get a de-fragmented frame, use `newframe = frame.copy()`\n",
            "  full_df[name] = s\n",
            "<ipython-input-17-65bc9051fcec>:20: PerformanceWarning: DataFrame is highly fragmented.  This is usually the result of calling `frame.insert` many times, which has poor performance.  Consider joining all columns at once using pd.concat(axis=1) instead. To get a de-fragmented frame, use `newframe = frame.copy()`\n",
            "  full_df[name] = s\n",
            "<ipython-input-17-65bc9051fcec>:20: PerformanceWarning: DataFrame is highly fragmented.  This is usually the result of calling `frame.insert` many times, which has poor performance.  Consider joining all columns at once using pd.concat(axis=1) instead. To get a de-fragmented frame, use `newframe = frame.copy()`\n",
            "  full_df[name] = s\n",
            "<ipython-input-17-65bc9051fcec>:20: PerformanceWarning: DataFrame is highly fragmented.  This is usually the result of calling `frame.insert` many times, which has poor performance.  Consider joining all columns at once using pd.concat(axis=1) instead. To get a de-fragmented frame, use `newframe = frame.copy()`\n",
            "  full_df[name] = s\n",
            "<ipython-input-17-65bc9051fcec>:20: PerformanceWarning: DataFrame is highly fragmented.  This is usually the result of calling `frame.insert` many times, which has poor performance.  Consider joining all columns at once using pd.concat(axis=1) instead. To get a de-fragmented frame, use `newframe = frame.copy()`\n",
            "  full_df[name] = s\n",
            "<ipython-input-17-65bc9051fcec>:20: PerformanceWarning: DataFrame is highly fragmented.  This is usually the result of calling `frame.insert` many times, which has poor performance.  Consider joining all columns at once using pd.concat(axis=1) instead. To get a de-fragmented frame, use `newframe = frame.copy()`\n",
            "  full_df[name] = s\n",
            "<ipython-input-17-65bc9051fcec>:20: PerformanceWarning: DataFrame is highly fragmented.  This is usually the result of calling `frame.insert` many times, which has poor performance.  Consider joining all columns at once using pd.concat(axis=1) instead. To get a de-fragmented frame, use `newframe = frame.copy()`\n",
            "  full_df[name] = s\n",
            "<ipython-input-17-65bc9051fcec>:20: PerformanceWarning: DataFrame is highly fragmented.  This is usually the result of calling `frame.insert` many times, which has poor performance.  Consider joining all columns at once using pd.concat(axis=1) instead. To get a de-fragmented frame, use `newframe = frame.copy()`\n",
            "  full_df[name] = s\n",
            "<ipython-input-17-65bc9051fcec>:20: PerformanceWarning: DataFrame is highly fragmented.  This is usually the result of calling `frame.insert` many times, which has poor performance.  Consider joining all columns at once using pd.concat(axis=1) instead. To get a de-fragmented frame, use `newframe = frame.copy()`\n",
            "  full_df[name] = s\n",
            "<ipython-input-17-65bc9051fcec>:20: PerformanceWarning: DataFrame is highly fragmented.  This is usually the result of calling `frame.insert` many times, which has poor performance.  Consider joining all columns at once using pd.concat(axis=1) instead. To get a de-fragmented frame, use `newframe = frame.copy()`\n",
            "  full_df[name] = s\n",
            "<ipython-input-17-65bc9051fcec>:20: PerformanceWarning: DataFrame is highly fragmented.  This is usually the result of calling `frame.insert` many times, which has poor performance.  Consider joining all columns at once using pd.concat(axis=1) instead. To get a de-fragmented frame, use `newframe = frame.copy()`\n",
            "  full_df[name] = s\n",
            "<ipython-input-17-65bc9051fcec>:20: PerformanceWarning: DataFrame is highly fragmented.  This is usually the result of calling `frame.insert` many times, which has poor performance.  Consider joining all columns at once using pd.concat(axis=1) instead. To get a de-fragmented frame, use `newframe = frame.copy()`\n",
            "  full_df[name] = s\n",
            "<ipython-input-17-65bc9051fcec>:20: PerformanceWarning: DataFrame is highly fragmented.  This is usually the result of calling `frame.insert` many times, which has poor performance.  Consider joining all columns at once using pd.concat(axis=1) instead. To get a de-fragmented frame, use `newframe = frame.copy()`\n",
            "  full_df[name] = s\n",
            "<ipython-input-17-65bc9051fcec>:20: PerformanceWarning: DataFrame is highly fragmented.  This is usually the result of calling `frame.insert` many times, which has poor performance.  Consider joining all columns at once using pd.concat(axis=1) instead. To get a de-fragmented frame, use `newframe = frame.copy()`\n",
            "  full_df[name] = s\n",
            "<ipython-input-17-65bc9051fcec>:20: PerformanceWarning: DataFrame is highly fragmented.  This is usually the result of calling `frame.insert` many times, which has poor performance.  Consider joining all columns at once using pd.concat(axis=1) instead. To get a de-fragmented frame, use `newframe = frame.copy()`\n",
            "  full_df[name] = s\n",
            "<ipython-input-17-65bc9051fcec>:20: PerformanceWarning: DataFrame is highly fragmented.  This is usually the result of calling `frame.insert` many times, which has poor performance.  Consider joining all columns at once using pd.concat(axis=1) instead. To get a de-fragmented frame, use `newframe = frame.copy()`\n",
            "  full_df[name] = s\n",
            "<ipython-input-17-65bc9051fcec>:20: PerformanceWarning: DataFrame is highly fragmented.  This is usually the result of calling `frame.insert` many times, which has poor performance.  Consider joining all columns at once using pd.concat(axis=1) instead. To get a de-fragmented frame, use `newframe = frame.copy()`\n",
            "  full_df[name] = s\n",
            "<ipython-input-17-65bc9051fcec>:20: PerformanceWarning: DataFrame is highly fragmented.  This is usually the result of calling `frame.insert` many times, which has poor performance.  Consider joining all columns at once using pd.concat(axis=1) instead. To get a de-fragmented frame, use `newframe = frame.copy()`\n",
            "  full_df[name] = s\n",
            "<ipython-input-17-65bc9051fcec>:20: PerformanceWarning: DataFrame is highly fragmented.  This is usually the result of calling `frame.insert` many times, which has poor performance.  Consider joining all columns at once using pd.concat(axis=1) instead. To get a de-fragmented frame, use `newframe = frame.copy()`\n",
            "  full_df[name] = s\n",
            "<ipython-input-17-65bc9051fcec>:20: PerformanceWarning: DataFrame is highly fragmented.  This is usually the result of calling `frame.insert` many times, which has poor performance.  Consider joining all columns at once using pd.concat(axis=1) instead. To get a de-fragmented frame, use `newframe = frame.copy()`\n",
            "  full_df[name] = s\n",
            "<ipython-input-17-65bc9051fcec>:20: PerformanceWarning: DataFrame is highly fragmented.  This is usually the result of calling `frame.insert` many times, which has poor performance.  Consider joining all columns at once using pd.concat(axis=1) instead. To get a de-fragmented frame, use `newframe = frame.copy()`\n",
            "  full_df[name] = s\n",
            "<ipython-input-17-65bc9051fcec>:20: PerformanceWarning: DataFrame is highly fragmented.  This is usually the result of calling `frame.insert` many times, which has poor performance.  Consider joining all columns at once using pd.concat(axis=1) instead. To get a de-fragmented frame, use `newframe = frame.copy()`\n",
            "  full_df[name] = s\n",
            "<ipython-input-17-65bc9051fcec>:20: PerformanceWarning: DataFrame is highly fragmented.  This is usually the result of calling `frame.insert` many times, which has poor performance.  Consider joining all columns at once using pd.concat(axis=1) instead. To get a de-fragmented frame, use `newframe = frame.copy()`\n",
            "  full_df[name] = s\n",
            "<ipython-input-17-65bc9051fcec>:20: PerformanceWarning: DataFrame is highly fragmented.  This is usually the result of calling `frame.insert` many times, which has poor performance.  Consider joining all columns at once using pd.concat(axis=1) instead. To get a de-fragmented frame, use `newframe = frame.copy()`\n",
            "  full_df[name] = s\n",
            "<ipython-input-17-65bc9051fcec>:20: PerformanceWarning: DataFrame is highly fragmented.  This is usually the result of calling `frame.insert` many times, which has poor performance.  Consider joining all columns at once using pd.concat(axis=1) instead. To get a de-fragmented frame, use `newframe = frame.copy()`\n",
            "  full_df[name] = s\n",
            "<ipython-input-17-65bc9051fcec>:20: PerformanceWarning: DataFrame is highly fragmented.  This is usually the result of calling `frame.insert` many times, which has poor performance.  Consider joining all columns at once using pd.concat(axis=1) instead. To get a de-fragmented frame, use `newframe = frame.copy()`\n",
            "  full_df[name] = s\n",
            "<ipython-input-17-65bc9051fcec>:20: PerformanceWarning: DataFrame is highly fragmented.  This is usually the result of calling `frame.insert` many times, which has poor performance.  Consider joining all columns at once using pd.concat(axis=1) instead. To get a de-fragmented frame, use `newframe = frame.copy()`\n",
            "  full_df[name] = s\n",
            "<ipython-input-17-65bc9051fcec>:20: PerformanceWarning: DataFrame is highly fragmented.  This is usually the result of calling `frame.insert` many times, which has poor performance.  Consider joining all columns at once using pd.concat(axis=1) instead. To get a de-fragmented frame, use `newframe = frame.copy()`\n",
            "  full_df[name] = s\n",
            "<ipython-input-17-65bc9051fcec>:20: PerformanceWarning: DataFrame is highly fragmented.  This is usually the result of calling `frame.insert` many times, which has poor performance.  Consider joining all columns at once using pd.concat(axis=1) instead. To get a de-fragmented frame, use `newframe = frame.copy()`\n",
            "  full_df[name] = s\n",
            "<ipython-input-17-65bc9051fcec>:20: PerformanceWarning: DataFrame is highly fragmented.  This is usually the result of calling `frame.insert` many times, which has poor performance.  Consider joining all columns at once using pd.concat(axis=1) instead. To get a de-fragmented frame, use `newframe = frame.copy()`\n",
            "  full_df[name] = s\n",
            "<ipython-input-17-65bc9051fcec>:20: PerformanceWarning: DataFrame is highly fragmented.  This is usually the result of calling `frame.insert` many times, which has poor performance.  Consider joining all columns at once using pd.concat(axis=1) instead. To get a de-fragmented frame, use `newframe = frame.copy()`\n",
            "  full_df[name] = s\n",
            "<ipython-input-17-65bc9051fcec>:20: PerformanceWarning: DataFrame is highly fragmented.  This is usually the result of calling `frame.insert` many times, which has poor performance.  Consider joining all columns at once using pd.concat(axis=1) instead. To get a de-fragmented frame, use `newframe = frame.copy()`\n",
            "  full_df[name] = s\n",
            "<ipython-input-17-65bc9051fcec>:20: PerformanceWarning: DataFrame is highly fragmented.  This is usually the result of calling `frame.insert` many times, which has poor performance.  Consider joining all columns at once using pd.concat(axis=1) instead. To get a de-fragmented frame, use `newframe = frame.copy()`\n",
            "  full_df[name] = s\n",
            "<ipython-input-17-65bc9051fcec>:20: PerformanceWarning: DataFrame is highly fragmented.  This is usually the result of calling `frame.insert` many times, which has poor performance.  Consider joining all columns at once using pd.concat(axis=1) instead. To get a de-fragmented frame, use `newframe = frame.copy()`\n",
            "  full_df[name] = s\n",
            "<ipython-input-17-65bc9051fcec>:20: PerformanceWarning: DataFrame is highly fragmented.  This is usually the result of calling `frame.insert` many times, which has poor performance.  Consider joining all columns at once using pd.concat(axis=1) instead. To get a de-fragmented frame, use `newframe = frame.copy()`\n",
            "  full_df[name] = s\n",
            "<ipython-input-17-65bc9051fcec>:20: PerformanceWarning: DataFrame is highly fragmented.  This is usually the result of calling `frame.insert` many times, which has poor performance.  Consider joining all columns at once using pd.concat(axis=1) instead. To get a de-fragmented frame, use `newframe = frame.copy()`\n",
            "  full_df[name] = s\n",
            "<ipython-input-17-65bc9051fcec>:20: PerformanceWarning: DataFrame is highly fragmented.  This is usually the result of calling `frame.insert` many times, which has poor performance.  Consider joining all columns at once using pd.concat(axis=1) instead. To get a de-fragmented frame, use `newframe = frame.copy()`\n",
            "  full_df[name] = s\n",
            "<ipython-input-17-65bc9051fcec>:20: PerformanceWarning: DataFrame is highly fragmented.  This is usually the result of calling `frame.insert` many times, which has poor performance.  Consider joining all columns at once using pd.concat(axis=1) instead. To get a de-fragmented frame, use `newframe = frame.copy()`\n",
            "  full_df[name] = s\n",
            "<ipython-input-17-65bc9051fcec>:20: PerformanceWarning: DataFrame is highly fragmented.  This is usually the result of calling `frame.insert` many times, which has poor performance.  Consider joining all columns at once using pd.concat(axis=1) instead. To get a de-fragmented frame, use `newframe = frame.copy()`\n",
            "  full_df[name] = s\n",
            "<ipython-input-17-65bc9051fcec>:20: PerformanceWarning: DataFrame is highly fragmented.  This is usually the result of calling `frame.insert` many times, which has poor performance.  Consider joining all columns at once using pd.concat(axis=1) instead. To get a de-fragmented frame, use `newframe = frame.copy()`\n",
            "  full_df[name] = s\n",
            "<ipython-input-17-65bc9051fcec>:20: PerformanceWarning: DataFrame is highly fragmented.  This is usually the result of calling `frame.insert` many times, which has poor performance.  Consider joining all columns at once using pd.concat(axis=1) instead. To get a de-fragmented frame, use `newframe = frame.copy()`\n",
            "  full_df[name] = s\n",
            "<ipython-input-17-65bc9051fcec>:20: PerformanceWarning: DataFrame is highly fragmented.  This is usually the result of calling `frame.insert` many times, which has poor performance.  Consider joining all columns at once using pd.concat(axis=1) instead. To get a de-fragmented frame, use `newframe = frame.copy()`\n",
            "  full_df[name] = s\n",
            "<ipython-input-17-65bc9051fcec>:20: PerformanceWarning: DataFrame is highly fragmented.  This is usually the result of calling `frame.insert` many times, which has poor performance.  Consider joining all columns at once using pd.concat(axis=1) instead. To get a de-fragmented frame, use `newframe = frame.copy()`\n",
            "  full_df[name] = s\n",
            "<ipython-input-17-65bc9051fcec>:20: PerformanceWarning: DataFrame is highly fragmented.  This is usually the result of calling `frame.insert` many times, which has poor performance.  Consider joining all columns at once using pd.concat(axis=1) instead. To get a de-fragmented frame, use `newframe = frame.copy()`\n",
            "  full_df[name] = s\n",
            "<ipython-input-17-65bc9051fcec>:20: PerformanceWarning: DataFrame is highly fragmented.  This is usually the result of calling `frame.insert` many times, which has poor performance.  Consider joining all columns at once using pd.concat(axis=1) instead. To get a de-fragmented frame, use `newframe = frame.copy()`\n",
            "  full_df[name] = s\n",
            "<ipython-input-17-65bc9051fcec>:20: PerformanceWarning: DataFrame is highly fragmented.  This is usually the result of calling `frame.insert` many times, which has poor performance.  Consider joining all columns at once using pd.concat(axis=1) instead. To get a de-fragmented frame, use `newframe = frame.copy()`\n",
            "  full_df[name] = s\n",
            "<ipython-input-17-65bc9051fcec>:20: PerformanceWarning: DataFrame is highly fragmented.  This is usually the result of calling `frame.insert` many times, which has poor performance.  Consider joining all columns at once using pd.concat(axis=1) instead. To get a de-fragmented frame, use `newframe = frame.copy()`\n",
            "  full_df[name] = s\n",
            "<ipython-input-17-65bc9051fcec>:20: PerformanceWarning: DataFrame is highly fragmented.  This is usually the result of calling `frame.insert` many times, which has poor performance.  Consider joining all columns at once using pd.concat(axis=1) instead. To get a de-fragmented frame, use `newframe = frame.copy()`\n",
            "  full_df[name] = s\n",
            "<ipython-input-17-65bc9051fcec>:20: PerformanceWarning: DataFrame is highly fragmented.  This is usually the result of calling `frame.insert` many times, which has poor performance.  Consider joining all columns at once using pd.concat(axis=1) instead. To get a de-fragmented frame, use `newframe = frame.copy()`\n",
            "  full_df[name] = s\n",
            "<ipython-input-17-65bc9051fcec>:20: PerformanceWarning: DataFrame is highly fragmented.  This is usually the result of calling `frame.insert` many times, which has poor performance.  Consider joining all columns at once using pd.concat(axis=1) instead. To get a de-fragmented frame, use `newframe = frame.copy()`\n",
            "  full_df[name] = s\n",
            "<ipython-input-17-65bc9051fcec>:20: PerformanceWarning: DataFrame is highly fragmented.  This is usually the result of calling `frame.insert` many times, which has poor performance.  Consider joining all columns at once using pd.concat(axis=1) instead. To get a de-fragmented frame, use `newframe = frame.copy()`\n",
            "  full_df[name] = s\n",
            "<ipython-input-17-65bc9051fcec>:20: PerformanceWarning: DataFrame is highly fragmented.  This is usually the result of calling `frame.insert` many times, which has poor performance.  Consider joining all columns at once using pd.concat(axis=1) instead. To get a de-fragmented frame, use `newframe = frame.copy()`\n",
            "  full_df[name] = s\n",
            "<ipython-input-17-65bc9051fcec>:20: PerformanceWarning: DataFrame is highly fragmented.  This is usually the result of calling `frame.insert` many times, which has poor performance.  Consider joining all columns at once using pd.concat(axis=1) instead. To get a de-fragmented frame, use `newframe = frame.copy()`\n",
            "  full_df[name] = s\n",
            "<ipython-input-17-65bc9051fcec>:20: PerformanceWarning: DataFrame is highly fragmented.  This is usually the result of calling `frame.insert` many times, which has poor performance.  Consider joining all columns at once using pd.concat(axis=1) instead. To get a de-fragmented frame, use `newframe = frame.copy()`\n",
            "  full_df[name] = s\n",
            "<ipython-input-17-65bc9051fcec>:20: PerformanceWarning: DataFrame is highly fragmented.  This is usually the result of calling `frame.insert` many times, which has poor performance.  Consider joining all columns at once using pd.concat(axis=1) instead. To get a de-fragmented frame, use `newframe = frame.copy()`\n",
            "  full_df[name] = s\n",
            "<ipython-input-17-65bc9051fcec>:20: PerformanceWarning: DataFrame is highly fragmented.  This is usually the result of calling `frame.insert` many times, which has poor performance.  Consider joining all columns at once using pd.concat(axis=1) instead. To get a de-fragmented frame, use `newframe = frame.copy()`\n",
            "  full_df[name] = s\n",
            "<ipython-input-17-65bc9051fcec>:20: PerformanceWarning: DataFrame is highly fragmented.  This is usually the result of calling `frame.insert` many times, which has poor performance.  Consider joining all columns at once using pd.concat(axis=1) instead. To get a de-fragmented frame, use `newframe = frame.copy()`\n",
            "  full_df[name] = s\n",
            "<ipython-input-17-65bc9051fcec>:20: PerformanceWarning: DataFrame is highly fragmented.  This is usually the result of calling `frame.insert` many times, which has poor performance.  Consider joining all columns at once using pd.concat(axis=1) instead. To get a de-fragmented frame, use `newframe = frame.copy()`\n",
            "  full_df[name] = s\n",
            "<ipython-input-17-65bc9051fcec>:20: PerformanceWarning: DataFrame is highly fragmented.  This is usually the result of calling `frame.insert` many times, which has poor performance.  Consider joining all columns at once using pd.concat(axis=1) instead. To get a de-fragmented frame, use `newframe = frame.copy()`\n",
            "  full_df[name] = s\n",
            "<ipython-input-17-65bc9051fcec>:20: PerformanceWarning: DataFrame is highly fragmented.  This is usually the result of calling `frame.insert` many times, which has poor performance.  Consider joining all columns at once using pd.concat(axis=1) instead. To get a de-fragmented frame, use `newframe = frame.copy()`\n",
            "  full_df[name] = s\n",
            "<ipython-input-17-65bc9051fcec>:20: PerformanceWarning: DataFrame is highly fragmented.  This is usually the result of calling `frame.insert` many times, which has poor performance.  Consider joining all columns at once using pd.concat(axis=1) instead. To get a de-fragmented frame, use `newframe = frame.copy()`\n",
            "  full_df[name] = s\n",
            "<ipython-input-17-65bc9051fcec>:20: PerformanceWarning: DataFrame is highly fragmented.  This is usually the result of calling `frame.insert` many times, which has poor performance.  Consider joining all columns at once using pd.concat(axis=1) instead. To get a de-fragmented frame, use `newframe = frame.copy()`\n",
            "  full_df[name] = s\n",
            "<ipython-input-17-65bc9051fcec>:20: PerformanceWarning: DataFrame is highly fragmented.  This is usually the result of calling `frame.insert` many times, which has poor performance.  Consider joining all columns at once using pd.concat(axis=1) instead. To get a de-fragmented frame, use `newframe = frame.copy()`\n",
            "  full_df[name] = s\n",
            "<ipython-input-17-65bc9051fcec>:20: PerformanceWarning: DataFrame is highly fragmented.  This is usually the result of calling `frame.insert` many times, which has poor performance.  Consider joining all columns at once using pd.concat(axis=1) instead. To get a de-fragmented frame, use `newframe = frame.copy()`\n",
            "  full_df[name] = s\n",
            "<ipython-input-17-65bc9051fcec>:20: PerformanceWarning: DataFrame is highly fragmented.  This is usually the result of calling `frame.insert` many times, which has poor performance.  Consider joining all columns at once using pd.concat(axis=1) instead. To get a de-fragmented frame, use `newframe = frame.copy()`\n",
            "  full_df[name] = s\n",
            "<ipython-input-17-65bc9051fcec>:20: PerformanceWarning: DataFrame is highly fragmented.  This is usually the result of calling `frame.insert` many times, which has poor performance.  Consider joining all columns at once using pd.concat(axis=1) instead. To get a de-fragmented frame, use `newframe = frame.copy()`\n",
            "  full_df[name] = s\n",
            "<ipython-input-17-65bc9051fcec>:20: PerformanceWarning: DataFrame is highly fragmented.  This is usually the result of calling `frame.insert` many times, which has poor performance.  Consider joining all columns at once using pd.concat(axis=1) instead. To get a de-fragmented frame, use `newframe = frame.copy()`\n",
            "  full_df[name] = s\n"
          ]
        }
      ],
      "source": [
        "import numpy as np\n",
        "\n",
        "names = full_df.columns[full_df.columns.duplicated()].unique()\n",
        "new_cols = {}\n",
        "\n",
        "for name in names:\n",
        "    cols_i = [col for col in full_df.columns if col == name]\n",
        "    sub_df = full_df.loc[:, cols_i].astype('int8')   # DataFrame shape (n_rows, k)\n",
        "\n",
        "    # берём максимум по строкам → Series shape (n_rows,)\n",
        "    max_series = sub_df.max(axis=1).astype('int8')\n",
        "\n",
        "    new_cols[name] = max_series\n",
        "\n",
        "    # удаляем *все* старые колонки с этим именем\n",
        "    full_df.drop(columns=cols_i, inplace=True)\n",
        "\n",
        "# теперь присваиваем новые колонки–Series (они одномерны!)\n",
        "for name, s in new_cols.items():\n",
        "    full_df[name] = s\n"
      ]
    },
    {
      "cell_type": "code",
      "execution_count": 18,
      "metadata": {
        "colab": {
          "base_uri": "https://localhost:8080/",
          "height": 534
        },
        "id": "jZfkJBvngy2Y",
        "outputId": "e8cf4c64-5bfc-47b7-c55c-a80f752acd53"
      },
      "outputs": [
        {
          "data": {
            "application/vnd.google.colaboratory.intrinsic+json": {
              "type": "dataframe"
            },
            "text/html": [
              "\n",
              "  <div id=\"df-b8b5a80d-020e-4439-9da7-29917ac6cc97\" class=\"colab-df-container\">\n",
              "    <div>\n",
              "<style scoped>\n",
              "    .dataframe tbody tr th:only-of-type {\n",
              "        vertical-align: middle;\n",
              "    }\n",
              "\n",
              "    .dataframe tbody tr th {\n",
              "        vertical-align: top;\n",
              "    }\n",
              "\n",
              "    .dataframe thead th {\n",
              "        text-align: right;\n",
              "    }\n",
              "</style>\n",
              "<table border=\"1\" class=\"dataframe\">\n",
              "  <thead>\n",
              "    <tr style=\"text-align: right;\">\n",
              "      <th></th>\n",
              "      <th>production_year</th>\n",
              "      <th>mileage</th>\n",
              "      <th>condition</th>\n",
              "      <th>owners_number</th>\n",
              "      <th>accidents_resolution</th>\n",
              "      <th>region</th>\n",
              "      <th>seller_type</th>\n",
              "      <th>brand</th>\n",
              "      <th>model</th>\n",
              "      <th>body_type</th>\n",
              "      <th>...</th>\n",
              "      <th>steel-wheels</th>\n",
              "      <th>ptf</th>\n",
              "      <th>central-airbag</th>\n",
              "      <th>esp</th>\n",
              "      <th>body-kit</th>\n",
              "      <th>mirrors-heat</th>\n",
              "      <th>immo</th>\n",
              "      <th>lane-keeping-assist</th>\n",
              "      <th>drl</th>\n",
              "      <th>projection-display</th>\n",
              "    </tr>\n",
              "  </thead>\n",
              "  <tbody>\n",
              "    <tr>\n",
              "      <th>436947</th>\n",
              "      <td>2024</td>\n",
              "      <td>0</td>\n",
              "      <td>CONDITION_OK</td>\n",
              "      <td>0</td>\n",
              "      <td>OK</td>\n",
              "      <td>Санкт-Петербург</td>\n",
              "      <td>COMMERCIAL</td>\n",
              "      <td>Skoda</td>\n",
              "      <td>Karoq</td>\n",
              "      <td>ALLROAD_5_DOORS</td>\n",
              "      <td>...</td>\n",
              "      <td>0</td>\n",
              "      <td>0</td>\n",
              "      <td>0</td>\n",
              "      <td>1</td>\n",
              "      <td>0</td>\n",
              "      <td>1</td>\n",
              "      <td>1</td>\n",
              "      <td>0</td>\n",
              "      <td>1</td>\n",
              "      <td>0</td>\n",
              "    </tr>\n",
              "    <tr>\n",
              "      <th>329729</th>\n",
              "      <td>2020</td>\n",
              "      <td>40460</td>\n",
              "      <td>CONDITION_OK</td>\n",
              "      <td>1</td>\n",
              "      <td>ERROR</td>\n",
              "      <td>Москва</td>\n",
              "      <td>PRIVATE</td>\n",
              "      <td>Mercedes-Benz</td>\n",
              "      <td>E-Класс</td>\n",
              "      <td>COUPE_HARDTOP</td>\n",
              "      <td>...</td>\n",
              "      <td>0</td>\n",
              "      <td>0</td>\n",
              "      <td>0</td>\n",
              "      <td>1</td>\n",
              "      <td>0</td>\n",
              "      <td>1</td>\n",
              "      <td>1</td>\n",
              "      <td>0</td>\n",
              "      <td>0</td>\n",
              "      <td>0</td>\n",
              "    </tr>\n",
              "    <tr>\n",
              "      <th>343497</th>\n",
              "      <td>2000</td>\n",
              "      <td>380000</td>\n",
              "      <td>CONDITION_OK</td>\n",
              "      <td>4</td>\n",
              "      <td>OK</td>\n",
              "      <td>Москва</td>\n",
              "      <td>PRIVATE</td>\n",
              "      <td>Mercedes-Benz</td>\n",
              "      <td>M-Класс</td>\n",
              "      <td>ALLROAD_5_DOORS</td>\n",
              "      <td>...</td>\n",
              "      <td>0</td>\n",
              "      <td>0</td>\n",
              "      <td>0</td>\n",
              "      <td>0</td>\n",
              "      <td>0</td>\n",
              "      <td>0</td>\n",
              "      <td>0</td>\n",
              "      <td>0</td>\n",
              "      <td>0</td>\n",
              "      <td>0</td>\n",
              "    </tr>\n",
              "    <tr>\n",
              "      <th>439784</th>\n",
              "      <td>2019</td>\n",
              "      <td>170000</td>\n",
              "      <td>CONDITION_OK</td>\n",
              "      <td>1</td>\n",
              "      <td>ERROR</td>\n",
              "      <td>Москва</td>\n",
              "      <td>PRIVATE</td>\n",
              "      <td>Skoda</td>\n",
              "      <td>Octavia</td>\n",
              "      <td>LIFTBACK</td>\n",
              "      <td>...</td>\n",
              "      <td>0</td>\n",
              "      <td>1</td>\n",
              "      <td>0</td>\n",
              "      <td>1</td>\n",
              "      <td>0</td>\n",
              "      <td>0</td>\n",
              "      <td>1</td>\n",
              "      <td>0</td>\n",
              "      <td>1</td>\n",
              "      <td>0</td>\n",
              "    </tr>\n",
              "    <tr>\n",
              "      <th>550845</th>\n",
              "      <td>2023</td>\n",
              "      <td>107</td>\n",
              "      <td>CONDITION_OK</td>\n",
              "      <td>1</td>\n",
              "      <td>OK</td>\n",
              "      <td>Краснодар</td>\n",
              "      <td>PRIVATE</td>\n",
              "      <td>Lada (ВАЗ)</td>\n",
              "      <td>Largus</td>\n",
              "      <td>WAGON_5_DOORS</td>\n",
              "      <td>...</td>\n",
              "      <td>1</td>\n",
              "      <td>0</td>\n",
              "      <td>0</td>\n",
              "      <td>0</td>\n",
              "      <td>0</td>\n",
              "      <td>1</td>\n",
              "      <td>1</td>\n",
              "      <td>0</td>\n",
              "      <td>1</td>\n",
              "      <td>0</td>\n",
              "    </tr>\n",
              "    <tr>\n",
              "      <th>431808</th>\n",
              "      <td>2015</td>\n",
              "      <td>110727</td>\n",
              "      <td>CONDITION_OK</td>\n",
              "      <td>1</td>\n",
              "      <td>OK</td>\n",
              "      <td>Уфа</td>\n",
              "      <td>COMMERCIAL</td>\n",
              "      <td>Renault</td>\n",
              "      <td>Sandero</td>\n",
              "      <td>HATCHBACK_5_DOORS</td>\n",
              "      <td>...</td>\n",
              "      <td>1</td>\n",
              "      <td>1</td>\n",
              "      <td>0</td>\n",
              "      <td>0</td>\n",
              "      <td>0</td>\n",
              "      <td>1</td>\n",
              "      <td>1</td>\n",
              "      <td>0</td>\n",
              "      <td>0</td>\n",
              "      <td>0</td>\n",
              "    </tr>\n",
              "    <tr>\n",
              "      <th>167063</th>\n",
              "      <td>2024</td>\n",
              "      <td>0</td>\n",
              "      <td>CONDITION_OK</td>\n",
              "      <td>0</td>\n",
              "      <td>OK</td>\n",
              "      <td>Химки</td>\n",
              "      <td>COMMERCIAL</td>\n",
              "      <td>Genesis</td>\n",
              "      <td>GV80 Coupe</td>\n",
              "      <td>ALLROAD_5_DOORS</td>\n",
              "      <td>...</td>\n",
              "      <td>0</td>\n",
              "      <td>0</td>\n",
              "      <td>0</td>\n",
              "      <td>1</td>\n",
              "      <td>0</td>\n",
              "      <td>1</td>\n",
              "      <td>1</td>\n",
              "      <td>1</td>\n",
              "      <td>1</td>\n",
              "      <td>1</td>\n",
              "    </tr>\n",
              "    <tr>\n",
              "      <th>391523</th>\n",
              "      <td>2022</td>\n",
              "      <td>13000</td>\n",
              "      <td>CONDITION_OK</td>\n",
              "      <td>0</td>\n",
              "      <td>OK</td>\n",
              "      <td>Владивосток</td>\n",
              "      <td>COMMERCIAL</td>\n",
              "      <td>Nissan</td>\n",
              "      <td>X-Trail</td>\n",
              "      <td>ALLROAD_5_DOORS</td>\n",
              "      <td>...</td>\n",
              "      <td>0</td>\n",
              "      <td>0</td>\n",
              "      <td>0</td>\n",
              "      <td>0</td>\n",
              "      <td>0</td>\n",
              "      <td>0</td>\n",
              "      <td>0</td>\n",
              "      <td>0</td>\n",
              "      <td>0</td>\n",
              "      <td>0</td>\n",
              "    </tr>\n",
              "    <tr>\n",
              "      <th>210052</th>\n",
              "      <td>2024</td>\n",
              "      <td>100</td>\n",
              "      <td>CONDITION_OK</td>\n",
              "      <td>1</td>\n",
              "      <td>OK</td>\n",
              "      <td>Новосибирск</td>\n",
              "      <td>PRIVATE</td>\n",
              "      <td>Hyundai</td>\n",
              "      <td>Elantra</td>\n",
              "      <td>SEDAN</td>\n",
              "      <td>...</td>\n",
              "      <td>0</td>\n",
              "      <td>0</td>\n",
              "      <td>0</td>\n",
              "      <td>0</td>\n",
              "      <td>0</td>\n",
              "      <td>0</td>\n",
              "      <td>0</td>\n",
              "      <td>0</td>\n",
              "      <td>0</td>\n",
              "      <td>0</td>\n",
              "    </tr>\n",
              "    <tr>\n",
              "      <th>46816</th>\n",
              "      <td>2024</td>\n",
              "      <td>34</td>\n",
              "      <td>CONDITION_OK</td>\n",
              "      <td>1</td>\n",
              "      <td>OK</td>\n",
              "      <td>Москва</td>\n",
              "      <td>COMMERCIAL</td>\n",
              "      <td>BMW</td>\n",
              "      <td>X5</td>\n",
              "      <td>ALLROAD_5_DOORS</td>\n",
              "      <td>...</td>\n",
              "      <td>0</td>\n",
              "      <td>0</td>\n",
              "      <td>0</td>\n",
              "      <td>0</td>\n",
              "      <td>0</td>\n",
              "      <td>0</td>\n",
              "      <td>0</td>\n",
              "      <td>0</td>\n",
              "      <td>0</td>\n",
              "      <td>0</td>\n",
              "    </tr>\n",
              "  </tbody>\n",
              "</table>\n",
              "<p>10 rows × 416 columns</p>\n",
              "</div>\n",
              "    <div class=\"colab-df-buttons\">\n",
              "\n",
              "  <div class=\"colab-df-container\">\n",
              "    <button class=\"colab-df-convert\" onclick=\"convertToInteractive('df-b8b5a80d-020e-4439-9da7-29917ac6cc97')\"\n",
              "            title=\"Convert this dataframe to an interactive table.\"\n",
              "            style=\"display:none;\">\n",
              "\n",
              "  <svg xmlns=\"http://www.w3.org/2000/svg\" height=\"24px\" viewBox=\"0 -960 960 960\">\n",
              "    <path d=\"M120-120v-720h720v720H120Zm60-500h600v-160H180v160Zm220 220h160v-160H400v160Zm0 220h160v-160H400v160ZM180-400h160v-160H180v160Zm440 0h160v-160H620v160ZM180-180h160v-160H180v160Zm440 0h160v-160H620v160Z\"/>\n",
              "  </svg>\n",
              "    </button>\n",
              "\n",
              "  <style>\n",
              "    .colab-df-container {\n",
              "      display:flex;\n",
              "      gap: 12px;\n",
              "    }\n",
              "\n",
              "    .colab-df-convert {\n",
              "      background-color: #E8F0FE;\n",
              "      border: none;\n",
              "      border-radius: 50%;\n",
              "      cursor: pointer;\n",
              "      display: none;\n",
              "      fill: #1967D2;\n",
              "      height: 32px;\n",
              "      padding: 0 0 0 0;\n",
              "      width: 32px;\n",
              "    }\n",
              "\n",
              "    .colab-df-convert:hover {\n",
              "      background-color: #E2EBFA;\n",
              "      box-shadow: 0px 1px 2px rgba(60, 64, 67, 0.3), 0px 1px 3px 1px rgba(60, 64, 67, 0.15);\n",
              "      fill: #174EA6;\n",
              "    }\n",
              "\n",
              "    .colab-df-buttons div {\n",
              "      margin-bottom: 4px;\n",
              "    }\n",
              "\n",
              "    [theme=dark] .colab-df-convert {\n",
              "      background-color: #3B4455;\n",
              "      fill: #D2E3FC;\n",
              "    }\n",
              "\n",
              "    [theme=dark] .colab-df-convert:hover {\n",
              "      background-color: #434B5C;\n",
              "      box-shadow: 0px 1px 3px 1px rgba(0, 0, 0, 0.15);\n",
              "      filter: drop-shadow(0px 1px 2px rgba(0, 0, 0, 0.3));\n",
              "      fill: #FFFFFF;\n",
              "    }\n",
              "  </style>\n",
              "\n",
              "    <script>\n",
              "      const buttonEl =\n",
              "        document.querySelector('#df-b8b5a80d-020e-4439-9da7-29917ac6cc97 button.colab-df-convert');\n",
              "      buttonEl.style.display =\n",
              "        google.colab.kernel.accessAllowed ? 'block' : 'none';\n",
              "\n",
              "      async function convertToInteractive(key) {\n",
              "        const element = document.querySelector('#df-b8b5a80d-020e-4439-9da7-29917ac6cc97');\n",
              "        const dataTable =\n",
              "          await google.colab.kernel.invokeFunction('convertToInteractive',\n",
              "                                                    [key], {});\n",
              "        if (!dataTable) return;\n",
              "\n",
              "        const docLinkHtml = 'Like what you see? Visit the ' +\n",
              "          '<a target=\"_blank\" href=https://colab.research.google.com/notebooks/data_table.ipynb>data table notebook</a>'\n",
              "          + ' to learn more about interactive tables.';\n",
              "        element.innerHTML = '';\n",
              "        dataTable['output_type'] = 'display_data';\n",
              "        await google.colab.output.renderOutput(dataTable, element);\n",
              "        const docLink = document.createElement('div');\n",
              "        docLink.innerHTML = docLinkHtml;\n",
              "        element.appendChild(docLink);\n",
              "      }\n",
              "    </script>\n",
              "  </div>\n",
              "\n",
              "\n",
              "    <div id=\"df-77cbb2f3-f5e7-4ae5-82cd-753762651822\">\n",
              "      <button class=\"colab-df-quickchart\" onclick=\"quickchart('df-77cbb2f3-f5e7-4ae5-82cd-753762651822')\"\n",
              "                title=\"Suggest charts\"\n",
              "                style=\"display:none;\">\n",
              "\n",
              "<svg xmlns=\"http://www.w3.org/2000/svg\" height=\"24px\"viewBox=\"0 0 24 24\"\n",
              "     width=\"24px\">\n",
              "    <g>\n",
              "        <path d=\"M19 3H5c-1.1 0-2 .9-2 2v14c0 1.1.9 2 2 2h14c1.1 0 2-.9 2-2V5c0-1.1-.9-2-2-2zM9 17H7v-7h2v7zm4 0h-2V7h2v10zm4 0h-2v-4h2v4z\"/>\n",
              "    </g>\n",
              "</svg>\n",
              "      </button>\n",
              "\n",
              "<style>\n",
              "  .colab-df-quickchart {\n",
              "      --bg-color: #E8F0FE;\n",
              "      --fill-color: #1967D2;\n",
              "      --hover-bg-color: #E2EBFA;\n",
              "      --hover-fill-color: #174EA6;\n",
              "      --disabled-fill-color: #AAA;\n",
              "      --disabled-bg-color: #DDD;\n",
              "  }\n",
              "\n",
              "  [theme=dark] .colab-df-quickchart {\n",
              "      --bg-color: #3B4455;\n",
              "      --fill-color: #D2E3FC;\n",
              "      --hover-bg-color: #434B5C;\n",
              "      --hover-fill-color: #FFFFFF;\n",
              "      --disabled-bg-color: #3B4455;\n",
              "      --disabled-fill-color: #666;\n",
              "  }\n",
              "\n",
              "  .colab-df-quickchart {\n",
              "    background-color: var(--bg-color);\n",
              "    border: none;\n",
              "    border-radius: 50%;\n",
              "    cursor: pointer;\n",
              "    display: none;\n",
              "    fill: var(--fill-color);\n",
              "    height: 32px;\n",
              "    padding: 0;\n",
              "    width: 32px;\n",
              "  }\n",
              "\n",
              "  .colab-df-quickchart:hover {\n",
              "    background-color: var(--hover-bg-color);\n",
              "    box-shadow: 0 1px 2px rgba(60, 64, 67, 0.3), 0 1px 3px 1px rgba(60, 64, 67, 0.15);\n",
              "    fill: var(--button-hover-fill-color);\n",
              "  }\n",
              "\n",
              "  .colab-df-quickchart-complete:disabled,\n",
              "  .colab-df-quickchart-complete:disabled:hover {\n",
              "    background-color: var(--disabled-bg-color);\n",
              "    fill: var(--disabled-fill-color);\n",
              "    box-shadow: none;\n",
              "  }\n",
              "\n",
              "  .colab-df-spinner {\n",
              "    border: 2px solid var(--fill-color);\n",
              "    border-color: transparent;\n",
              "    border-bottom-color: var(--fill-color);\n",
              "    animation:\n",
              "      spin 1s steps(1) infinite;\n",
              "  }\n",
              "\n",
              "  @keyframes spin {\n",
              "    0% {\n",
              "      border-color: transparent;\n",
              "      border-bottom-color: var(--fill-color);\n",
              "      border-left-color: var(--fill-color);\n",
              "    }\n",
              "    20% {\n",
              "      border-color: transparent;\n",
              "      border-left-color: var(--fill-color);\n",
              "      border-top-color: var(--fill-color);\n",
              "    }\n",
              "    30% {\n",
              "      border-color: transparent;\n",
              "      border-left-color: var(--fill-color);\n",
              "      border-top-color: var(--fill-color);\n",
              "      border-right-color: var(--fill-color);\n",
              "    }\n",
              "    40% {\n",
              "      border-color: transparent;\n",
              "      border-right-color: var(--fill-color);\n",
              "      border-top-color: var(--fill-color);\n",
              "    }\n",
              "    60% {\n",
              "      border-color: transparent;\n",
              "      border-right-color: var(--fill-color);\n",
              "    }\n",
              "    80% {\n",
              "      border-color: transparent;\n",
              "      border-right-color: var(--fill-color);\n",
              "      border-bottom-color: var(--fill-color);\n",
              "    }\n",
              "    90% {\n",
              "      border-color: transparent;\n",
              "      border-bottom-color: var(--fill-color);\n",
              "    }\n",
              "  }\n",
              "</style>\n",
              "\n",
              "      <script>\n",
              "        async function quickchart(key) {\n",
              "          const quickchartButtonEl =\n",
              "            document.querySelector('#' + key + ' button');\n",
              "          quickchartButtonEl.disabled = true;  // To prevent multiple clicks.\n",
              "          quickchartButtonEl.classList.add('colab-df-spinner');\n",
              "          try {\n",
              "            const charts = await google.colab.kernel.invokeFunction(\n",
              "                'suggestCharts', [key], {});\n",
              "          } catch (error) {\n",
              "            console.error('Error during call to suggestCharts:', error);\n",
              "          }\n",
              "          quickchartButtonEl.classList.remove('colab-df-spinner');\n",
              "          quickchartButtonEl.classList.add('colab-df-quickchart-complete');\n",
              "        }\n",
              "        (() => {\n",
              "          let quickchartButtonEl =\n",
              "            document.querySelector('#df-77cbb2f3-f5e7-4ae5-82cd-753762651822 button');\n",
              "          quickchartButtonEl.style.display =\n",
              "            google.colab.kernel.accessAllowed ? 'block' : 'none';\n",
              "        })();\n",
              "      </script>\n",
              "    </div>\n",
              "\n",
              "    </div>\n",
              "  </div>\n"
            ],
            "text/plain": [
              "        production_year  mileage     condition  owners_number  \\\n",
              "436947             2024        0  CONDITION_OK              0   \n",
              "329729             2020    40460  CONDITION_OK              1   \n",
              "343497             2000   380000  CONDITION_OK              4   \n",
              "439784             2019   170000  CONDITION_OK              1   \n",
              "550845             2023      107  CONDITION_OK              1   \n",
              "431808             2015   110727  CONDITION_OK              1   \n",
              "167063             2024        0  CONDITION_OK              0   \n",
              "391523             2022    13000  CONDITION_OK              0   \n",
              "210052             2024      100  CONDITION_OK              1   \n",
              "46816              2024       34  CONDITION_OK              1   \n",
              "\n",
              "       accidents_resolution           region seller_type          brand  \\\n",
              "436947                   OK  Санкт-Петербург  COMMERCIAL          Skoda   \n",
              "329729                ERROR           Москва     PRIVATE  Mercedes-Benz   \n",
              "343497                   OK           Москва     PRIVATE  Mercedes-Benz   \n",
              "439784                ERROR           Москва     PRIVATE          Skoda   \n",
              "550845                   OK        Краснодар     PRIVATE     Lada (ВАЗ)   \n",
              "431808                   OK              Уфа  COMMERCIAL        Renault   \n",
              "167063                   OK            Химки  COMMERCIAL        Genesis   \n",
              "391523                   OK      Владивосток  COMMERCIAL         Nissan   \n",
              "210052                   OK      Новосибирск     PRIVATE        Hyundai   \n",
              "46816                    OK           Москва  COMMERCIAL            BMW   \n",
              "\n",
              "             model          body_type  ...  steel-wheels ptf  central-airbag  \\\n",
              "436947       Karoq    ALLROAD_5_DOORS  ...             0   0               0   \n",
              "329729     E-Класс      COUPE_HARDTOP  ...             0   0               0   \n",
              "343497     M-Класс    ALLROAD_5_DOORS  ...             0   0               0   \n",
              "439784     Octavia           LIFTBACK  ...             0   1               0   \n",
              "550845      Largus      WAGON_5_DOORS  ...             1   0               0   \n",
              "431808     Sandero  HATCHBACK_5_DOORS  ...             1   1               0   \n",
              "167063  GV80 Coupe    ALLROAD_5_DOORS  ...             0   0               0   \n",
              "391523     X-Trail    ALLROAD_5_DOORS  ...             0   0               0   \n",
              "210052     Elantra              SEDAN  ...             0   0               0   \n",
              "46816           X5    ALLROAD_5_DOORS  ...             0   0               0   \n",
              "\n",
              "        esp  body-kit mirrors-heat  immo lane-keeping-assist drl  \\\n",
              "436947    1         0            1     1                   0   1   \n",
              "329729    1         0            1     1                   0   0   \n",
              "343497    0         0            0     0                   0   0   \n",
              "439784    1         0            0     1                   0   1   \n",
              "550845    0         0            1     1                   0   1   \n",
              "431808    0         0            1     1                   0   0   \n",
              "167063    1         0            1     1                   1   1   \n",
              "391523    0         0            0     0                   0   0   \n",
              "210052    0         0            0     0                   0   0   \n",
              "46816     0         0            0     0                   0   0   \n",
              "\n",
              "        projection-display  \n",
              "436947                   0  \n",
              "329729                   0  \n",
              "343497                   0  \n",
              "439784                   0  \n",
              "550845                   0  \n",
              "431808                   0  \n",
              "167063                   1  \n",
              "391523                   0  \n",
              "210052                   0  \n",
              "46816                    0  \n",
              "\n",
              "[10 rows x 416 columns]"
            ]
          },
          "execution_count": 18,
          "metadata": {},
          "output_type": "execute_result"
        }
      ],
      "source": [
        "full_df.sample(10)"
      ]
    },
    {
      "cell_type": "code",
      "execution_count": 19,
      "metadata": {
        "colab": {
          "base_uri": "https://localhost:8080/"
        },
        "id": "xDBVZgKCg02O",
        "outputId": "bcd2f770-6b95-4587-ed36-5a24a2864e53"
      },
      "outputs": [
        {
          "name": "stdout",
          "output_type": "stream",
          "text": [
            "Удалено числовых коррелирующих признаков: 112\n",
            "Осталось признаков в df_reduced: 304 из 416\n"
          ]
        }
      ],
      "source": [
        "import pandas as pd\n",
        "import numpy as np\n",
        "from scipy.cluster import hierarchy\n",
        "from scipy.spatial.distance import squareform\n",
        "\n",
        "numeric_df = full_df.select_dtypes(include=[np.number])\n",
        "numeric_df = numeric_df.loc[:, numeric_df.nunique() > 1]\n",
        "\n",
        "corr = numeric_df.corr().abs().fillna(0)\n",
        "\n",
        "dist = 1 - corr\n",
        "\n",
        "dist = (dist + dist.T) / 2\n",
        "np.fill_diagonal(dist.values, 0)\n",
        "\n",
        "dist = dist.clip(lower=0)\n",
        "\n",
        "dist_vect = squareform(dist)\n",
        "Z = hierarchy.linkage(dist_vect, method='average')\n",
        "\n",
        "max_d = 0.4\n",
        "clusters = hierarchy.fcluster(Z, t=max_d, criterion='distance')\n",
        "\n",
        "cluster_df = pd.DataFrame({'feature': numeric_df.columns, 'cluster': clusters})\n",
        "to_keep = ['production_year', 'mileage', 'owners_number', 'doors_count', 'seats', 'engine_displacement', 'engine_power', 'fuel_rate']\n",
        "for c in cluster_df['cluster'].unique():\n",
        "    members = cluster_df.loc[cluster_df['cluster'] == c, 'feature']\n",
        "    avg_corr = corr.loc[members, members].mean().sort_values(ascending=False)\n",
        "    to_keep.append(avg_corr.index[0])\n",
        "to_keep = list(dict.fromkeys(to_keep))\n",
        "\n",
        "to_drop = [col for col in numeric_df.columns if col not in to_keep]\n",
        "df_reduced = full_df.drop(columns=to_drop)\n",
        "\n",
        "print(f\"Удалено числовых коррелирующих признаков: {len(to_drop)}\")\n",
        "print(f\"Осталось признаков в df_reduced: {df_reduced.shape[1]} из {full_df.shape[1]}\")"
      ]
    },
    {
      "cell_type": "code",
      "execution_count": 20,
      "metadata": {
        "colab": {
          "base_uri": "https://localhost:8080/",
          "height": 482
        },
        "id": "r35IbOWWg2aP",
        "outputId": "18654e78-b0dc-430e-b439-80273b9340d7"
      },
      "outputs": [
        {
          "data": {
            "application/vnd.google.colaboratory.intrinsic+json": {
              "type": "dataframe"
            },
            "text/html": [
              "\n",
              "  <div id=\"df-fde05b33-b790-407a-bacd-acc6ca405335\" class=\"colab-df-container\">\n",
              "    <div>\n",
              "<style scoped>\n",
              "    .dataframe tbody tr th:only-of-type {\n",
              "        vertical-align: middle;\n",
              "    }\n",
              "\n",
              "    .dataframe tbody tr th {\n",
              "        vertical-align: top;\n",
              "    }\n",
              "\n",
              "    .dataframe thead th {\n",
              "        text-align: right;\n",
              "    }\n",
              "</style>\n",
              "<table border=\"1\" class=\"dataframe\">\n",
              "  <thead>\n",
              "    <tr style=\"text-align: right;\">\n",
              "      <th></th>\n",
              "      <th>production_year</th>\n",
              "      <th>mileage</th>\n",
              "      <th>condition</th>\n",
              "      <th>owners_number</th>\n",
              "      <th>accidents_resolution</th>\n",
              "      <th>region</th>\n",
              "      <th>seller_type</th>\n",
              "      <th>brand</th>\n",
              "      <th>model</th>\n",
              "      <th>body_type</th>\n",
              "      <th>...</th>\n",
              "      <th>sport-pedals</th>\n",
              "      <th>tja</th>\n",
              "      <th>isofix-front</th>\n",
              "      <th>21-inch-wheels</th>\n",
              "      <th>leather-gear-stick</th>\n",
              "      <th>steel-wheels</th>\n",
              "      <th>ptf</th>\n",
              "      <th>central-airbag</th>\n",
              "      <th>body-kit</th>\n",
              "      <th>projection-display</th>\n",
              "    </tr>\n",
              "  </thead>\n",
              "  <tbody>\n",
              "    <tr>\n",
              "      <th>518746</th>\n",
              "      <td>2007</td>\n",
              "      <td>33000</td>\n",
              "      <td>CONDITION_OK</td>\n",
              "      <td>1</td>\n",
              "      <td>ERROR</td>\n",
              "      <td>Аксай</td>\n",
              "      <td>PRIVATE</td>\n",
              "      <td>Lada (ВАЗ)</td>\n",
              "      <td>2107</td>\n",
              "      <td>SEDAN</td>\n",
              "      <td>...</td>\n",
              "      <td>0</td>\n",
              "      <td>0</td>\n",
              "      <td>0</td>\n",
              "      <td>0</td>\n",
              "      <td>0</td>\n",
              "      <td>0</td>\n",
              "      <td>0</td>\n",
              "      <td>0</td>\n",
              "      <td>0</td>\n",
              "      <td>0</td>\n",
              "    </tr>\n",
              "    <tr>\n",
              "      <th>224119</th>\n",
              "      <td>2021</td>\n",
              "      <td>23211</td>\n",
              "      <td>CONDITION_OK</td>\n",
              "      <td>1</td>\n",
              "      <td>OK</td>\n",
              "      <td>Москва</td>\n",
              "      <td>PRIVATE</td>\n",
              "      <td>Hyundai</td>\n",
              "      <td>Solaris</td>\n",
              "      <td>SEDAN</td>\n",
              "      <td>...</td>\n",
              "      <td>0</td>\n",
              "      <td>0</td>\n",
              "      <td>0</td>\n",
              "      <td>0</td>\n",
              "      <td>0</td>\n",
              "      <td>0</td>\n",
              "      <td>1</td>\n",
              "      <td>0</td>\n",
              "      <td>0</td>\n",
              "      <td>0</td>\n",
              "    </tr>\n",
              "    <tr>\n",
              "      <th>351020</th>\n",
              "      <td>2021</td>\n",
              "      <td>6122</td>\n",
              "      <td>CONDITION_OK</td>\n",
              "      <td>1</td>\n",
              "      <td>OK</td>\n",
              "      <td>Уссурийск</td>\n",
              "      <td>COMMERCIAL</td>\n",
              "      <td>Mini</td>\n",
              "      <td>Countryman</td>\n",
              "      <td>ALLROAD_5_DOORS</td>\n",
              "      <td>...</td>\n",
              "      <td>0</td>\n",
              "      <td>0</td>\n",
              "      <td>0</td>\n",
              "      <td>0</td>\n",
              "      <td>0</td>\n",
              "      <td>0</td>\n",
              "      <td>0</td>\n",
              "      <td>0</td>\n",
              "      <td>0</td>\n",
              "      <td>0</td>\n",
              "    </tr>\n",
              "    <tr>\n",
              "      <th>424138</th>\n",
              "      <td>2016</td>\n",
              "      <td>4500</td>\n",
              "      <td>CONDITION_OK</td>\n",
              "      <td>1</td>\n",
              "      <td>ERROR</td>\n",
              "      <td>Погар</td>\n",
              "      <td>PRIVATE</td>\n",
              "      <td>Renault</td>\n",
              "      <td>Kaptur</td>\n",
              "      <td>ALLROAD_5_DOORS</td>\n",
              "      <td>...</td>\n",
              "      <td>0</td>\n",
              "      <td>0</td>\n",
              "      <td>0</td>\n",
              "      <td>0</td>\n",
              "      <td>0</td>\n",
              "      <td>0</td>\n",
              "      <td>0</td>\n",
              "      <td>0</td>\n",
              "      <td>0</td>\n",
              "      <td>0</td>\n",
              "    </tr>\n",
              "    <tr>\n",
              "      <th>89776</th>\n",
              "      <td>2011</td>\n",
              "      <td>245600</td>\n",
              "      <td>CONDITION_OK</td>\n",
              "      <td>3</td>\n",
              "      <td>OK</td>\n",
              "      <td>Тверь</td>\n",
              "      <td>PRIVATE</td>\n",
              "      <td>Chevrolet</td>\n",
              "      <td>Aveo</td>\n",
              "      <td>SEDAN</td>\n",
              "      <td>...</td>\n",
              "      <td>0</td>\n",
              "      <td>0</td>\n",
              "      <td>0</td>\n",
              "      <td>0</td>\n",
              "      <td>0</td>\n",
              "      <td>0</td>\n",
              "      <td>0</td>\n",
              "      <td>0</td>\n",
              "      <td>0</td>\n",
              "      <td>0</td>\n",
              "    </tr>\n",
              "    <tr>\n",
              "      <th>297634</th>\n",
              "      <td>2023</td>\n",
              "      <td>18300</td>\n",
              "      <td>CONDITION_OK</td>\n",
              "      <td>1</td>\n",
              "      <td>OK</td>\n",
              "      <td>Москва</td>\n",
              "      <td>PRIVATE</td>\n",
              "      <td>Lexus</td>\n",
              "      <td>RX</td>\n",
              "      <td>ALLROAD_5_DOORS</td>\n",
              "      <td>...</td>\n",
              "      <td>0</td>\n",
              "      <td>0</td>\n",
              "      <td>0</td>\n",
              "      <td>1</td>\n",
              "      <td>1</td>\n",
              "      <td>0</td>\n",
              "      <td>1</td>\n",
              "      <td>0</td>\n",
              "      <td>0</td>\n",
              "      <td>0</td>\n",
              "    </tr>\n",
              "    <tr>\n",
              "      <th>449720</th>\n",
              "      <td>2024</td>\n",
              "      <td>0</td>\n",
              "      <td>CONDITION_OK</td>\n",
              "      <td>0</td>\n",
              "      <td>OK</td>\n",
              "      <td>Москва</td>\n",
              "      <td>COMMERCIAL</td>\n",
              "      <td>Soueast</td>\n",
              "      <td>S07</td>\n",
              "      <td>ALLROAD_5_DOORS</td>\n",
              "      <td>...</td>\n",
              "      <td>0</td>\n",
              "      <td>1</td>\n",
              "      <td>0</td>\n",
              "      <td>0</td>\n",
              "      <td>0</td>\n",
              "      <td>0</td>\n",
              "      <td>1</td>\n",
              "      <td>0</td>\n",
              "      <td>0</td>\n",
              "      <td>0</td>\n",
              "    </tr>\n",
              "    <tr>\n",
              "      <th>49847</th>\n",
              "      <td>2020</td>\n",
              "      <td>121000</td>\n",
              "      <td>CONDITION_OK</td>\n",
              "      <td>1</td>\n",
              "      <td>OK</td>\n",
              "      <td>Москва</td>\n",
              "      <td>PRIVATE</td>\n",
              "      <td>BMW</td>\n",
              "      <td>X6</td>\n",
              "      <td>ALLROAD_5_DOORS</td>\n",
              "      <td>...</td>\n",
              "      <td>0</td>\n",
              "      <td>0</td>\n",
              "      <td>0</td>\n",
              "      <td>1</td>\n",
              "      <td>1</td>\n",
              "      <td>0</td>\n",
              "      <td>1</td>\n",
              "      <td>0</td>\n",
              "      <td>1</td>\n",
              "      <td>1</td>\n",
              "    </tr>\n",
              "    <tr>\n",
              "      <th>48872</th>\n",
              "      <td>2024</td>\n",
              "      <td>0</td>\n",
              "      <td>CONDITION_OK</td>\n",
              "      <td>0</td>\n",
              "      <td>OK</td>\n",
              "      <td>Краснодар</td>\n",
              "      <td>COMMERCIAL</td>\n",
              "      <td>BMW</td>\n",
              "      <td>X6</td>\n",
              "      <td>ALLROAD_5_DOORS</td>\n",
              "      <td>...</td>\n",
              "      <td>0</td>\n",
              "      <td>0</td>\n",
              "      <td>0</td>\n",
              "      <td>0</td>\n",
              "      <td>0</td>\n",
              "      <td>0</td>\n",
              "      <td>0</td>\n",
              "      <td>0</td>\n",
              "      <td>0</td>\n",
              "      <td>0</td>\n",
              "    </tr>\n",
              "    <tr>\n",
              "      <th>846</th>\n",
              "      <td>1999</td>\n",
              "      <td>363500</td>\n",
              "      <td>CONDITION_OK</td>\n",
              "      <td>3</td>\n",
              "      <td>OK</td>\n",
              "      <td>Уфа</td>\n",
              "      <td>PRIVATE</td>\n",
              "      <td>Alfa Romeo</td>\n",
              "      <td>166</td>\n",
              "      <td>SEDAN</td>\n",
              "      <td>...</td>\n",
              "      <td>0</td>\n",
              "      <td>0</td>\n",
              "      <td>0</td>\n",
              "      <td>0</td>\n",
              "      <td>0</td>\n",
              "      <td>0</td>\n",
              "      <td>1</td>\n",
              "      <td>0</td>\n",
              "      <td>0</td>\n",
              "      <td>0</td>\n",
              "    </tr>\n",
              "  </tbody>\n",
              "</table>\n",
              "<p>10 rows × 304 columns</p>\n",
              "</div>\n",
              "    <div class=\"colab-df-buttons\">\n",
              "\n",
              "  <div class=\"colab-df-container\">\n",
              "    <button class=\"colab-df-convert\" onclick=\"convertToInteractive('df-fde05b33-b790-407a-bacd-acc6ca405335')\"\n",
              "            title=\"Convert this dataframe to an interactive table.\"\n",
              "            style=\"display:none;\">\n",
              "\n",
              "  <svg xmlns=\"http://www.w3.org/2000/svg\" height=\"24px\" viewBox=\"0 -960 960 960\">\n",
              "    <path d=\"M120-120v-720h720v720H120Zm60-500h600v-160H180v160Zm220 220h160v-160H400v160Zm0 220h160v-160H400v160ZM180-400h160v-160H180v160Zm440 0h160v-160H620v160ZM180-180h160v-160H180v160Zm440 0h160v-160H620v160Z\"/>\n",
              "  </svg>\n",
              "    </button>\n",
              "\n",
              "  <style>\n",
              "    .colab-df-container {\n",
              "      display:flex;\n",
              "      gap: 12px;\n",
              "    }\n",
              "\n",
              "    .colab-df-convert {\n",
              "      background-color: #E8F0FE;\n",
              "      border: none;\n",
              "      border-radius: 50%;\n",
              "      cursor: pointer;\n",
              "      display: none;\n",
              "      fill: #1967D2;\n",
              "      height: 32px;\n",
              "      padding: 0 0 0 0;\n",
              "      width: 32px;\n",
              "    }\n",
              "\n",
              "    .colab-df-convert:hover {\n",
              "      background-color: #E2EBFA;\n",
              "      box-shadow: 0px 1px 2px rgba(60, 64, 67, 0.3), 0px 1px 3px 1px rgba(60, 64, 67, 0.15);\n",
              "      fill: #174EA6;\n",
              "    }\n",
              "\n",
              "    .colab-df-buttons div {\n",
              "      margin-bottom: 4px;\n",
              "    }\n",
              "\n",
              "    [theme=dark] .colab-df-convert {\n",
              "      background-color: #3B4455;\n",
              "      fill: #D2E3FC;\n",
              "    }\n",
              "\n",
              "    [theme=dark] .colab-df-convert:hover {\n",
              "      background-color: #434B5C;\n",
              "      box-shadow: 0px 1px 3px 1px rgba(0, 0, 0, 0.15);\n",
              "      filter: drop-shadow(0px 1px 2px rgba(0, 0, 0, 0.3));\n",
              "      fill: #FFFFFF;\n",
              "    }\n",
              "  </style>\n",
              "\n",
              "    <script>\n",
              "      const buttonEl =\n",
              "        document.querySelector('#df-fde05b33-b790-407a-bacd-acc6ca405335 button.colab-df-convert');\n",
              "      buttonEl.style.display =\n",
              "        google.colab.kernel.accessAllowed ? 'block' : 'none';\n",
              "\n",
              "      async function convertToInteractive(key) {\n",
              "        const element = document.querySelector('#df-fde05b33-b790-407a-bacd-acc6ca405335');\n",
              "        const dataTable =\n",
              "          await google.colab.kernel.invokeFunction('convertToInteractive',\n",
              "                                                    [key], {});\n",
              "        if (!dataTable) return;\n",
              "\n",
              "        const docLinkHtml = 'Like what you see? Visit the ' +\n",
              "          '<a target=\"_blank\" href=https://colab.research.google.com/notebooks/data_table.ipynb>data table notebook</a>'\n",
              "          + ' to learn more about interactive tables.';\n",
              "        element.innerHTML = '';\n",
              "        dataTable['output_type'] = 'display_data';\n",
              "        await google.colab.output.renderOutput(dataTable, element);\n",
              "        const docLink = document.createElement('div');\n",
              "        docLink.innerHTML = docLinkHtml;\n",
              "        element.appendChild(docLink);\n",
              "      }\n",
              "    </script>\n",
              "  </div>\n",
              "\n",
              "\n",
              "    <div id=\"df-bc888254-a4bf-4a29-8f61-4e4a426c4972\">\n",
              "      <button class=\"colab-df-quickchart\" onclick=\"quickchart('df-bc888254-a4bf-4a29-8f61-4e4a426c4972')\"\n",
              "                title=\"Suggest charts\"\n",
              "                style=\"display:none;\">\n",
              "\n",
              "<svg xmlns=\"http://www.w3.org/2000/svg\" height=\"24px\"viewBox=\"0 0 24 24\"\n",
              "     width=\"24px\">\n",
              "    <g>\n",
              "        <path d=\"M19 3H5c-1.1 0-2 .9-2 2v14c0 1.1.9 2 2 2h14c1.1 0 2-.9 2-2V5c0-1.1-.9-2-2-2zM9 17H7v-7h2v7zm4 0h-2V7h2v10zm4 0h-2v-4h2v4z\"/>\n",
              "    </g>\n",
              "</svg>\n",
              "      </button>\n",
              "\n",
              "<style>\n",
              "  .colab-df-quickchart {\n",
              "      --bg-color: #E8F0FE;\n",
              "      --fill-color: #1967D2;\n",
              "      --hover-bg-color: #E2EBFA;\n",
              "      --hover-fill-color: #174EA6;\n",
              "      --disabled-fill-color: #AAA;\n",
              "      --disabled-bg-color: #DDD;\n",
              "  }\n",
              "\n",
              "  [theme=dark] .colab-df-quickchart {\n",
              "      --bg-color: #3B4455;\n",
              "      --fill-color: #D2E3FC;\n",
              "      --hover-bg-color: #434B5C;\n",
              "      --hover-fill-color: #FFFFFF;\n",
              "      --disabled-bg-color: #3B4455;\n",
              "      --disabled-fill-color: #666;\n",
              "  }\n",
              "\n",
              "  .colab-df-quickchart {\n",
              "    background-color: var(--bg-color);\n",
              "    border: none;\n",
              "    border-radius: 50%;\n",
              "    cursor: pointer;\n",
              "    display: none;\n",
              "    fill: var(--fill-color);\n",
              "    height: 32px;\n",
              "    padding: 0;\n",
              "    width: 32px;\n",
              "  }\n",
              "\n",
              "  .colab-df-quickchart:hover {\n",
              "    background-color: var(--hover-bg-color);\n",
              "    box-shadow: 0 1px 2px rgba(60, 64, 67, 0.3), 0 1px 3px 1px rgba(60, 64, 67, 0.15);\n",
              "    fill: var(--button-hover-fill-color);\n",
              "  }\n",
              "\n",
              "  .colab-df-quickchart-complete:disabled,\n",
              "  .colab-df-quickchart-complete:disabled:hover {\n",
              "    background-color: var(--disabled-bg-color);\n",
              "    fill: var(--disabled-fill-color);\n",
              "    box-shadow: none;\n",
              "  }\n",
              "\n",
              "  .colab-df-spinner {\n",
              "    border: 2px solid var(--fill-color);\n",
              "    border-color: transparent;\n",
              "    border-bottom-color: var(--fill-color);\n",
              "    animation:\n",
              "      spin 1s steps(1) infinite;\n",
              "  }\n",
              "\n",
              "  @keyframes spin {\n",
              "    0% {\n",
              "      border-color: transparent;\n",
              "      border-bottom-color: var(--fill-color);\n",
              "      border-left-color: var(--fill-color);\n",
              "    }\n",
              "    20% {\n",
              "      border-color: transparent;\n",
              "      border-left-color: var(--fill-color);\n",
              "      border-top-color: var(--fill-color);\n",
              "    }\n",
              "    30% {\n",
              "      border-color: transparent;\n",
              "      border-left-color: var(--fill-color);\n",
              "      border-top-color: var(--fill-color);\n",
              "      border-right-color: var(--fill-color);\n",
              "    }\n",
              "    40% {\n",
              "      border-color: transparent;\n",
              "      border-right-color: var(--fill-color);\n",
              "      border-top-color: var(--fill-color);\n",
              "    }\n",
              "    60% {\n",
              "      border-color: transparent;\n",
              "      border-right-color: var(--fill-color);\n",
              "    }\n",
              "    80% {\n",
              "      border-color: transparent;\n",
              "      border-right-color: var(--fill-color);\n",
              "      border-bottom-color: var(--fill-color);\n",
              "    }\n",
              "    90% {\n",
              "      border-color: transparent;\n",
              "      border-bottom-color: var(--fill-color);\n",
              "    }\n",
              "  }\n",
              "</style>\n",
              "\n",
              "      <script>\n",
              "        async function quickchart(key) {\n",
              "          const quickchartButtonEl =\n",
              "            document.querySelector('#' + key + ' button');\n",
              "          quickchartButtonEl.disabled = true;  // To prevent multiple clicks.\n",
              "          quickchartButtonEl.classList.add('colab-df-spinner');\n",
              "          try {\n",
              "            const charts = await google.colab.kernel.invokeFunction(\n",
              "                'suggestCharts', [key], {});\n",
              "          } catch (error) {\n",
              "            console.error('Error during call to suggestCharts:', error);\n",
              "          }\n",
              "          quickchartButtonEl.classList.remove('colab-df-spinner');\n",
              "          quickchartButtonEl.classList.add('colab-df-quickchart-complete');\n",
              "        }\n",
              "        (() => {\n",
              "          let quickchartButtonEl =\n",
              "            document.querySelector('#df-bc888254-a4bf-4a29-8f61-4e4a426c4972 button');\n",
              "          quickchartButtonEl.style.display =\n",
              "            google.colab.kernel.accessAllowed ? 'block' : 'none';\n",
              "        })();\n",
              "      </script>\n",
              "    </div>\n",
              "\n",
              "    </div>\n",
              "  </div>\n"
            ],
            "text/plain": [
              "        production_year  mileage     condition  owners_number  \\\n",
              "518746             2007    33000  CONDITION_OK              1   \n",
              "224119             2021    23211  CONDITION_OK              1   \n",
              "351020             2021     6122  CONDITION_OK              1   \n",
              "424138             2016     4500  CONDITION_OK              1   \n",
              "89776              2011   245600  CONDITION_OK              3   \n",
              "297634             2023    18300  CONDITION_OK              1   \n",
              "449720             2024        0  CONDITION_OK              0   \n",
              "49847              2020   121000  CONDITION_OK              1   \n",
              "48872              2024        0  CONDITION_OK              0   \n",
              "846                1999   363500  CONDITION_OK              3   \n",
              "\n",
              "       accidents_resolution     region seller_type       brand       model  \\\n",
              "518746                ERROR      Аксай     PRIVATE  Lada (ВАЗ)        2107   \n",
              "224119                   OK     Москва     PRIVATE     Hyundai     Solaris   \n",
              "351020                   OK  Уссурийск  COMMERCIAL        Mini  Countryman   \n",
              "424138                ERROR      Погар     PRIVATE     Renault      Kaptur   \n",
              "89776                    OK      Тверь     PRIVATE   Chevrolet        Aveo   \n",
              "297634                   OK     Москва     PRIVATE       Lexus          RX   \n",
              "449720                   OK     Москва  COMMERCIAL     Soueast         S07   \n",
              "49847                    OK     Москва     PRIVATE         BMW          X6   \n",
              "48872                    OK  Краснодар  COMMERCIAL         BMW          X6   \n",
              "846                      OK        Уфа     PRIVATE  Alfa Romeo         166   \n",
              "\n",
              "              body_type  ...  sport-pedals tja  isofix-front  21-inch-wheels  \\\n",
              "518746            SEDAN  ...             0   0             0               0   \n",
              "224119            SEDAN  ...             0   0             0               0   \n",
              "351020  ALLROAD_5_DOORS  ...             0   0             0               0   \n",
              "424138  ALLROAD_5_DOORS  ...             0   0             0               0   \n",
              "89776             SEDAN  ...             0   0             0               0   \n",
              "297634  ALLROAD_5_DOORS  ...             0   0             0               1   \n",
              "449720  ALLROAD_5_DOORS  ...             0   1             0               0   \n",
              "49847   ALLROAD_5_DOORS  ...             0   0             0               1   \n",
              "48872   ALLROAD_5_DOORS  ...             0   0             0               0   \n",
              "846               SEDAN  ...             0   0             0               0   \n",
              "\n",
              "        leather-gear-stick steel-wheels  ptf central-airbag body-kit  \\\n",
              "518746                   0            0    0              0        0   \n",
              "224119                   0            0    1              0        0   \n",
              "351020                   0            0    0              0        0   \n",
              "424138                   0            0    0              0        0   \n",
              "89776                    0            0    0              0        0   \n",
              "297634                   1            0    1              0        0   \n",
              "449720                   0            0    1              0        0   \n",
              "49847                    1            0    1              0        1   \n",
              "48872                    0            0    0              0        0   \n",
              "846                      0            0    1              0        0   \n",
              "\n",
              "        projection-display  \n",
              "518746                   0  \n",
              "224119                   0  \n",
              "351020                   0  \n",
              "424138                   0  \n",
              "89776                    0  \n",
              "297634                   0  \n",
              "449720                   0  \n",
              "49847                    1  \n",
              "48872                    0  \n",
              "846                      0  \n",
              "\n",
              "[10 rows x 304 columns]"
            ]
          },
          "execution_count": 20,
          "metadata": {},
          "output_type": "execute_result"
        }
      ],
      "source": [
        "df_reduced.sample(10)"
      ]
    },
    {
      "cell_type": "markdown",
      "metadata": {
        "id": "WAn1uD5S7jhw"
      },
      "source": [
        "### Добавим новые признаки"
      ]
    },
    {
      "cell_type": "code",
      "execution_count": 21,
      "metadata": {
        "id": "pc1FERNY7pls"
      },
      "outputs": [],
      "source": [
        "from sklearn.preprocessing import PolynomialFeatures"
      ]
    },
    {
      "cell_type": "code",
      "execution_count": 22,
      "metadata": {
        "id": "Yv_CiJxf_Tws"
      },
      "outputs": [],
      "source": [
        "df_mod = df_reduced.copy()"
      ]
    },
    {
      "cell_type": "code",
      "execution_count": 23,
      "metadata": {
        "id": "H9A0cNU7EKuw"
      },
      "outputs": [],
      "source": [
        "df_mod[\"age\"] = 2025 - df_mod[\"production_year\"]"
      ]
    },
    {
      "cell_type": "code",
      "execution_count": 24,
      "metadata": {
        "id": "J16I4vCf_0mi"
      },
      "outputs": [],
      "source": [
        "numeric_cols = ['mileage', 'engine_displacement', 'engine_power', 'age']"
      ]
    },
    {
      "cell_type": "code",
      "execution_count": 25,
      "metadata": {
        "id": "P6O5wwYwB4de"
      },
      "outputs": [],
      "source": [
        "df_mod['log_price'] = np.log1p(df['price'])"
      ]
    },
    {
      "cell_type": "code",
      "execution_count": 26,
      "metadata": {
        "id": "F1KfzH_0B86n"
      },
      "outputs": [],
      "source": [
        "df_mod.drop(columns=['price'], inplace=True)"
      ]
    },
    {
      "cell_type": "markdown",
      "metadata": {
        "id": "nZ-hVB9A_X_z"
      },
      "source": [
        "Прологарифмируем некоторые признаки"
      ]
    },
    {
      "cell_type": "code",
      "execution_count": 27,
      "metadata": {
        "id": "W3GFiT35_Xw9"
      },
      "outputs": [],
      "source": [
        "for col in numeric_cols:\n",
        "    df_mod[f'log_{col}'] = np.log1p(df_mod[col])"
      ]
    },
    {
      "cell_type": "markdown",
      "metadata": {
        "id": "hJm7tG1EEWA8"
      },
      "source": [
        "Возьмем корни от числовых признаков"
      ]
    },
    {
      "cell_type": "code",
      "execution_count": 28,
      "metadata": {
        "id": "dCH7rCfXEPi2"
      },
      "outputs": [],
      "source": [
        "for col in numeric_cols:\n",
        "    df_mod[f'square_{col}'] = df_mod[col]**2"
      ]
    },
    {
      "cell_type": "markdown",
      "metadata": {
        "id": "Y-D287mF_dYY"
      },
      "source": [
        "Полиномиальные преобразования"
      ]
    },
    {
      "cell_type": "code",
      "execution_count": 29,
      "metadata": {
        "id": "kFQWW5XQ_cx7"
      },
      "outputs": [],
      "source": [
        "poly = PolynomialFeatures(degree=2, include_bias=False)\n",
        "poly_array = poly.fit_transform(df_mod[numeric_cols].fillna(0))\n",
        "poly_feature_names = poly.get_feature_names_out(numeric_cols)\n",
        "poly_df = pd.DataFrame(poly_array, columns=poly_feature_names, index=df_mod.index)"
      ]
    },
    {
      "cell_type": "code",
      "execution_count": 30,
      "metadata": {
        "id": "pX_FOjJoAJs0"
      },
      "outputs": [],
      "source": [
        "poly_new = poly_df.drop(columns=[c for c in poly_df.columns if c in numeric_cols])\n",
        "df_mod = pd.concat([df_mod, poly_new.add_prefix('poly_')], axis=1)"
      ]
    },
    {
      "cell_type": "markdown",
      "metadata": {
        "id": "9Zd8orNrAQcE"
      },
      "source": [
        "Базовые отношения двигателя"
      ]
    },
    {
      "cell_type": "code",
      "execution_count": 31,
      "metadata": {
        "id": "a_lDEEqUAPGq"
      },
      "outputs": [],
      "source": [
        "df_mod['power_to_disp'] = df_mod['engine_power'] / df_mod['engine_displacement'].clip(lower=0.01)"
      ]
    },
    {
      "cell_type": "markdown",
      "metadata": {
        "id": "A9XHaNUsASmH"
      },
      "source": [
        "Арифметичесике преобразования"
      ]
    },
    {
      "cell_type": "code",
      "execution_count": 32,
      "metadata": {
        "id": "mTjqaxSoASV8"
      },
      "outputs": [],
      "source": [
        "# Произведения признаков\n",
        "df_mod['mileage_x_power'] = df_mod['mileage'] * df_mod['engine_power']\n",
        "df_mod['disp_x_power'] = df_mod['engine_displacement'] * df_mod['engine_power']\n",
        "df_mod['owners_x_power'] = df_mod['owners_number'] * df_mod['engine_power']\n",
        "df_mod[\"age_x_power\"]    = df_mod[\"age\"] * df_mod[\"engine_power\"]\n",
        "df_mod[\"age_x_mileage\"]  = df_mod[\"age\"] * df_mod[\"mileage\"]\n",
        "\n",
        "# Частные признаков\n",
        "df_mod['power_div_mileage'] = df_mod['engine_power'] / df_mod['mileage'].clip(lower=0.01)\n",
        "df_mod['disp_per_mile'] = df_mod['engine_displacement'] / df_mod['mileage'].clip(lower=0.01)\n",
        "df_mod['mileage_per_hp'] = df_mod['mileage'] / df_mod['engine_power'].clip(lower=0.01)\n",
        "df_mod['milage_per_year'] = df_mod['mileage'] / df_mod['age'].clip(lower=0.01)\n",
        "df_mod['power_div_owners'] = df_mod['engine_power'] / df_mod['owners_number'].clip(lower=0.01)\n",
        "df_mod['disp_div_owners'] = df_mod['engine_displacement'] / df_mod['owners_number'].clip(lower=0.01)\n",
        "df_mod['disp_div_fuel'] = df_mod['engine_displacement'] / df_mod['fuel_rate'].clip(lower=0.01)\n",
        "df_mod['fuel_div_disp'] = df_mod['fuel_rate'] / df_mod['engine_displacement'].clip(lower=0.01)\n",
        "df_mod['power_div_fuel'] = df_mod['engine_power'] / df_mod['fuel_rate'].clip(lower=0.01)\n",
        "df_mod['fuel_div_power'] = df_mod['fuel_rate'] / df_mod['engine_power'].clip(lower=0.01)\n",
        "\n",
        "# Лог-взаимодействие\n",
        "df_mod['log_mileage_x_log_power'] = df_mod['log_mileage'] * df_mod['log_engine_power']\n",
        "df_mod['log_age_x_log_power'] = df_mod['log_age'] * df_mod['log_engine_power']\n",
        "\n",
        "# Разности признаков\n",
        "df_mod['power_minus_disp'] = df_mod['engine_power'] - df_mod['engine_displacement']"
      ]
    },
    {
      "cell_type": "code",
      "execution_count": 33,
      "metadata": {
        "id": "GFDfP9V3Arod"
      },
      "outputs": [],
      "source": [
        "from pandas.api.types import is_numeric_dtype\n",
        "\n",
        "# Отношение дверей к местам\n",
        "df_mod['seats_num'] = df_mod['seats'].str.extract(r'(\\d+)').astype(float)\n",
        "df_mod['doors_to_seats_ratio'] = df_mod['doors_count'] / df_mod['seats_num'].clip(lower=0.01)\n",
        "\n",
        "# Индикатор аварий\n",
        "df_mod['has_accident'] = (\n",
        "    ~df_mod['accidents_resolution'].fillna('none').str.lower().isin(['none', 'no', 'unknown'])\n",
        ").astype(int)\n",
        "\n",
        "binary_cols = [\n",
        "    col for col in df.columns\n",
        "    if is_numeric_dtype(df[col]) and\n",
        "       set(df[col].dropna().unique()).issubset({0, 1})\n",
        "]\n",
        "df_mod['num_binary_features'] = df[binary_cols] \\\n",
        "    .astype(bool).sum(axis=1)\n",
        "\n",
        "# Счетчики безопасности и комфорта\n",
        "safety_keywords = ['airbag', 'detection', 'vsm', 'ldw', 'tja', 'rcta', 'ptf']\n",
        "safety_cols = [c for c in df_mod.columns if any(k in c.lower() for k in safety_keywords)]\n",
        "df_mod['safety_feature_count'] = df_mod[safety_cols] \\\n",
        "    .astype(bool).sum(axis=1)\n",
        "\n",
        "comfort_keywords = ['heat', 'leather', 'massage', 'climate', 'vent', 'seat']\n",
        "comfort_cols = [c for c in df_mod.columns if any(k in c.lower() for k in comfort_keywords)]\n",
        "df_mod['comfort_feature_count'] = df_mod[comfort_cols] \\\n",
        "    .astype(bool).sum(axis=1)\n",
        "\n",
        "# Количество preset-тегов\n",
        "preset_cols = [c for c in df_mod.columns if c.startswith('preset')]\n",
        "df_mod['num_presets'] = df_mod[preset_cols] \\\n",
        "    .astype(bool).sum(axis=1)\n",
        "\n",
        "# Является ли машина новой\n",
        "df_mod['is_new'] = ((df_mod['mileage'] < 1000) & (df_mod['owners_number'] <= 1)).astype(int)\n",
        "df_mod['is_very_old'] = (df_mod['age'] > 20).astype(int)\n",
        "\n",
        "df_mod['is_one_owner'] = (df_mod['owners_number'] == 1).astype(int)"
      ]
    },
    {
      "cell_type": "markdown",
      "metadata": {
        "id": "jxou3EtsA3Gn"
      },
      "source": [
        "Проверим, что нет дубликатов"
      ]
    },
    {
      "cell_type": "code",
      "execution_count": 34,
      "metadata": {
        "colab": {
          "base_uri": "https://localhost:8080/"
        },
        "id": "EkxzyQ2BBJN_",
        "outputId": "356284d6-d17e-4937-b27f-d7c468233f28"
      },
      "outputs": [
        {
          "data": {
            "text/plain": [
              "np.int64(0)"
            ]
          },
          "execution_count": 34,
          "metadata": {},
          "output_type": "execute_result"
        }
      ],
      "source": [
        "df_mod.columns.duplicated().sum()"
      ]
    },
    {
      "cell_type": "markdown",
      "metadata": {
        "id": "j3mwQy3GFmOF"
      },
      "source": [
        "Проверим, что не появилось пустых значений"
      ]
    },
    {
      "cell_type": "code",
      "execution_count": 35,
      "metadata": {
        "colab": {
          "base_uri": "https://localhost:8080/"
        },
        "id": "0Y6cUFSLFqBk",
        "outputId": "494398ba-ec71-44c4-bac3-348ace5a93ca"
      },
      "outputs": [
        {
          "name": "stdout",
          "output_type": "stream",
          "text": [
            "Колонки с пропусками: []\n"
          ]
        }
      ],
      "source": [
        "cols_with_na = df_mod.columns[df_mod.isna().any()].tolist()\n",
        "print(\"Колонки с пропусками:\", cols_with_na)"
      ]
    },
    {
      "cell_type": "markdown",
      "metadata": {
        "id": "wBRASUIHLQ8I"
      },
      "source": [
        "Сохраним датасет с новыми признаками"
      ]
    },
    {
      "cell_type": "code",
      "execution_count": 36,
      "metadata": {
        "id": "P4cBQRoBLQjJ"
      },
      "outputs": [],
      "source": [
        "df_mod.to_csv('dataset_with_new_features.csv', index=False)"
      ]
    },
    {
      "cell_type": "markdown",
      "metadata": {
        "id": "C2a3kbPaifio"
      },
      "source": [
        "### Обучим LightGBM"
      ]
    },
    {
      "cell_type": "code",
      "execution_count": 37,
      "metadata": {
        "colab": {
          "base_uri": "https://localhost:8080/"
        },
        "id": "kGqZFstSjpw2",
        "outputId": "4550045b-8a23-4f71-fa49-e1c4aef73a8b"
      },
      "outputs": [
        {
          "name": "stdout",
          "output_type": "stream",
          "text": [
            "\n",
            "Usage:   \n",
            "  pip3 install [options] <requirement specifier> [package-index-options] ...\n",
            "  pip3 install [options] -r <requirements file> [package-index-options] ...\n",
            "  pip3 install [options] [-e] <vcs project url> ...\n",
            "  pip3 install [options] [-e] <local project path> ...\n",
            "  pip3 install [options] <archive url/path> ...\n",
            "\n",
            "no such option: --install-option\n"
          ]
        }
      ],
      "source": [
        "!pip install lightgbm --install-option=--gpu --install-option=\"--opencl-include-dir=/usr/local/cuda/include/\" --install-option=\"--opencl-library=/usr/local/cuda/lib64/libOpenCL.so\""
      ]
    },
    {
      "cell_type": "code",
      "execution_count": 38,
      "metadata": {
        "colab": {
          "base_uri": "https://localhost:8080/"
        },
        "id": "vJVJzR2QjrCG",
        "outputId": "658792d8-e12c-47a5-c4a3-5975e9a99afa"
      },
      "outputs": [
        {
          "name": "stdout",
          "output_type": "stream",
          "text": [
            "Collecting optuna\n",
            "  Downloading optuna-4.3.0-py3-none-any.whl.metadata (17 kB)\n",
            "Collecting alembic>=1.5.0 (from optuna)\n",
            "  Downloading alembic-1.16.1-py3-none-any.whl.metadata (7.3 kB)\n",
            "Collecting colorlog (from optuna)\n",
            "  Downloading colorlog-6.9.0-py3-none-any.whl.metadata (10 kB)\n",
            "Requirement already satisfied: numpy in /usr/local/lib/python3.11/dist-packages (from optuna) (2.0.2)\n",
            "Requirement already satisfied: packaging>=20.0 in /usr/local/lib/python3.11/dist-packages (from optuna) (24.2)\n",
            "Requirement already satisfied: sqlalchemy>=1.4.2 in /usr/local/lib/python3.11/dist-packages (from optuna) (2.0.41)\n",
            "Requirement already satisfied: tqdm in /usr/local/lib/python3.11/dist-packages (from optuna) (4.67.1)\n",
            "Requirement already satisfied: PyYAML in /usr/local/lib/python3.11/dist-packages (from optuna) (6.0.2)\n",
            "Requirement already satisfied: Mako in /usr/lib/python3/dist-packages (from alembic>=1.5.0->optuna) (1.1.3)\n",
            "Requirement already satisfied: typing-extensions>=4.12 in /usr/local/lib/python3.11/dist-packages (from alembic>=1.5.0->optuna) (4.14.0)\n",
            "Requirement already satisfied: greenlet>=1 in /usr/local/lib/python3.11/dist-packages (from sqlalchemy>=1.4.2->optuna) (3.2.2)\n",
            "Downloading optuna-4.3.0-py3-none-any.whl (386 kB)\n",
            "\u001b[2K   \u001b[90m━━━━━━━━━━━━━━━━━━━━━━━━━━━━━━━━━━━━━━━━\u001b[0m \u001b[32m386.6/386.6 kB\u001b[0m \u001b[31m27.2 MB/s\u001b[0m eta \u001b[36m0:00:00\u001b[0m\n",
            "\u001b[?25hDownloading alembic-1.16.1-py3-none-any.whl (242 kB)\n",
            "\u001b[2K   \u001b[90m━━━━━━━━━━━━━━━━━━━━━━━━━━━━━━━━━━━━━━━━\u001b[0m \u001b[32m242.5/242.5 kB\u001b[0m \u001b[31m19.4 MB/s\u001b[0m eta \u001b[36m0:00:00\u001b[0m\n",
            "\u001b[?25hDownloading colorlog-6.9.0-py3-none-any.whl (11 kB)\n",
            "Installing collected packages: colorlog, alembic, optuna\n",
            "Successfully installed alembic-1.16.1 colorlog-6.9.0 optuna-4.3.0\n"
          ]
        }
      ],
      "source": [
        "!pip install optuna"
      ]
    },
    {
      "cell_type": "code",
      "execution_count": 44,
      "metadata": {
        "id": "YFvsCjtGjk1e"
      },
      "outputs": [],
      "source": [
        "import optuna\n",
        "import numpy as np\n",
        "\n",
        "from sklearn.model_selection import train_test_split\n",
        "from sklearn.compose import ColumnTransformer\n",
        "from sklearn.preprocessing import StandardScaler, OneHotEncoder\n",
        "from sklearn.metrics import r2_score\n",
        "from lightgbm import LGBMRegressor\n",
        "import joblib"
      ]
    },
    {
      "cell_type": "code",
      "execution_count": 40,
      "metadata": {
        "id": "AzTcbDpqjmSd"
      },
      "outputs": [],
      "source": [
        "RANDOM_STATE = 42"
      ]
    },
    {
      "cell_type": "code",
      "execution_count": 45,
      "metadata": {
        "colab": {
          "base_uri": "https://localhost:8080/"
        },
        "id": "tTMDhTsFv_Bc",
        "outputId": "1441bd67-6442-4f36-d5ab-67ed900090c4"
      },
      "outputs": [
        {
          "name": "stdout",
          "output_type": "stream",
          "text": [
            "(120809, 352) (483237, 352)\n"
          ]
        }
      ],
      "source": [
        "df_shuffled = df_mod.sample(frac=1, random_state=RANDOM_STATE).reset_index(drop=True)\n",
        "\n",
        "n_total   = len(df_shuffled)\n",
        "n_train   = int(0.2 * n_total)\n",
        "\n",
        "train_df  = df_shuffled.iloc[:n_train] # 20%\n",
        "test_df   = df_shuffled.iloc[n_train:] # 80%\n",
        "\n",
        "print(train_df.shape, test_df.shape)"
      ]
    },
    {
      "cell_type": "code",
      "execution_count": 46,
      "metadata": {
        "id": "z_spL-DtjusO"
      },
      "outputs": [],
      "source": [
        "X = train_df.drop('log_price', axis=1)\n",
        "y = train_df['log_price']\n",
        "X_train, X_valid, y_train, y_valid = train_test_split(\n",
        "    X, y, test_size=0.2, random_state=RANDOM_STATE\n",
        ")\n",
        "\n",
        "cut_test_df = test_df.sample(frac=0.3, random_state=RANDOM_STATE)\n",
        "X_test = cut_test_df.drop('log_price', axis=1)\n",
        "y_test = cut_test_df['log_price']\n",
        "\n",
        "num_features = X.select_dtypes(include=['int64','float64','int8']).columns.tolist()\n",
        "cat_features = X.select_dtypes(include=['object']).columns.tolist()\n",
        "\n",
        "preprocessor = ColumnTransformer([\n",
        "    ('num', StandardScaler(), num_features),\n",
        "    ('cat', OneHotEncoder(handle_unknown='ignore', sparse_output=False), cat_features),\n",
        "])"
      ]
    },
    {
      "cell_type": "code",
      "execution_count": 47,
      "metadata": {
        "colab": {
          "base_uri": "https://localhost:8080/"
        },
        "collapsed": true,
        "id": "iJJGkZTSj13m",
        "outputId": "e1e29f9d-8aee-48ae-e9f9-1d5904bd1661"
      },
      "outputs": [
        {
          "name": "stderr",
          "output_type": "stream",
          "text": [
            "/usr/local/lib/python3.11/dist-packages/sklearn/utils/validation.py:921: UserWarning: pandas.DataFrame with sparse columns found.It will be converted to a dense numpy array.\n",
            "  warnings.warn(\n",
            "/usr/local/lib/python3.11/dist-packages/sklearn/utils/validation.py:921: UserWarning: pandas.DataFrame with sparse columns found.It will be converted to a dense numpy array.\n",
            "  warnings.warn(\n",
            "/usr/local/lib/python3.11/dist-packages/sklearn/utils/validation.py:921: UserWarning: pandas.DataFrame with sparse columns found.It will be converted to a dense numpy array.\n",
            "  warnings.warn(\n"
          ]
        }
      ],
      "source": [
        "X_train_proc = preprocessor.fit_transform(X_train)\n",
        "X_valid_proc = preprocessor.transform(X_valid)"
      ]
    },
    {
      "cell_type": "code",
      "execution_count": 48,
      "metadata": {
        "id": "m6IILIhOj8LP"
      },
      "outputs": [],
      "source": [
        "import lightgbm as lgb\n",
        "\n",
        "N_TRIALS = 50\n",
        "\n",
        "def objective(trial):\n",
        "    params = {\n",
        "        'device':           'gpu',\n",
        "        'n_estimators':     trial.suggest_int('n_estimators', 100, 2000),\n",
        "        'learning_rate':    trial.suggest_loguniform('learning_rate', 1e-3, 1e-1),\n",
        "        'num_leaves':       trial.suggest_int('num_leaves', 31, 256),\n",
        "        'max_depth':        trial.suggest_int('max_depth', 5, 30),\n",
        "        'subsample':        trial.suggest_uniform('subsample', 0.5, 1.0),\n",
        "        'colsample_bytree': trial.suggest_uniform('colsample_bytree', 0.5, 1.0),\n",
        "        'reg_alpha':        trial.suggest_loguniform('reg_alpha', 1e-8, 10.0),\n",
        "        'reg_lambda':       trial.suggest_loguniform('reg_lambda', 1e-8, 10.0),\n",
        "        'min_child_weight': trial.suggest_int('min_child_weight', 1, 50),\n",
        "        'random_state':     RANDOM_STATE,\n",
        "        'verbose':          -1,\n",
        "    }\n",
        "    model = LGBMRegressor(**params)\n",
        "    model.fit(\n",
        "        X_train_proc, y_train,\n",
        "        eval_set=[(X_valid_proc, y_valid)],\n",
        "        callbacks=[lgb.early_stopping(stopping_rounds=N_TRIALS)]\n",
        "    )\n",
        "    preds = model.predict(X_valid_proc)\n",
        "    return r2_score(y_valid, preds)"
      ]
    },
    {
      "cell_type": "code",
      "execution_count": null,
      "metadata": {
        "colab": {
          "base_uri": "https://localhost:8080/",
          "height": 1000,
          "referenced_widgets": [
            "68e0f84ded2e4226a73286aef6dc81d9",
            "f1deaa6558b248a48e7fd3358ed572bd",
            "346f1e6d6bb1477eb7ab1d0b71857eb5",
            "aadfce9bb2eb467c9fb04941e282b761",
            "737c866dd68642db8463dc98ebd07401",
            "721fbe9a45574a3396aab9c99567b8d5",
            "5c83e0f084c6471fad9307b6ae30ed87",
            "b85bcd2e0e0643c3afa3e168a2a23dbe",
            "c1390a1cf7614232a786572535b4e4b4",
            "a18d0a8bb9a146b69a23ec52bb590070",
            "286107ff70714e00b19747fb45ad6fcd"
          ]
        },
        "collapsed": true,
        "id": "lp1tL_Pjj9Ei",
        "outputId": "d3d72d63-d034-400c-9a33-fee69e576b57"
      },
      "outputs": [
        {
          "name": "stderr",
          "output_type": "stream",
          "text": [
            "[I 2025-06-10 14:28:42,277] A new study created in memory with name: lgbm_opt_r2\n"
          ]
        },
        {
          "data": {
            "application/vnd.jupyter.widget-view+json": {
              "model_id": "68e0f84ded2e4226a73286aef6dc81d9",
              "version_major": 2,
              "version_minor": 0
            },
            "text/plain": [
              "  0%|          | 0/50 [00:00<?, ?it/s]"
            ]
          },
          "metadata": {},
          "output_type": "display_data"
        },
        {
          "name": "stderr",
          "output_type": "stream",
          "text": [
            "<ipython-input-48-54d882b388f3>:9: FutureWarning: suggest_loguniform has been deprecated in v3.0.0. This feature will be removed in v6.0.0. See https://github.com/optuna/optuna/releases/tag/v3.0.0. Use suggest_float(..., log=True) instead.\n",
            "  'learning_rate':    trial.suggest_loguniform('learning_rate', 1e-3, 1e-1),\n",
            "<ipython-input-48-54d882b388f3>:12: FutureWarning: suggest_uniform has been deprecated in v3.0.0. This feature will be removed in v6.0.0. See https://github.com/optuna/optuna/releases/tag/v3.0.0. Use suggest_float instead.\n",
            "  'subsample':        trial.suggest_uniform('subsample', 0.5, 1.0),\n",
            "<ipython-input-48-54d882b388f3>:13: FutureWarning: suggest_uniform has been deprecated in v3.0.0. This feature will be removed in v6.0.0. See https://github.com/optuna/optuna/releases/tag/v3.0.0. Use suggest_float instead.\n",
            "  'colsample_bytree': trial.suggest_uniform('colsample_bytree', 0.5, 1.0),\n",
            "<ipython-input-48-54d882b388f3>:14: FutureWarning: suggest_loguniform has been deprecated in v3.0.0. This feature will be removed in v6.0.0. See https://github.com/optuna/optuna/releases/tag/v3.0.0. Use suggest_float(..., log=True) instead.\n",
            "  'reg_alpha':        trial.suggest_loguniform('reg_alpha', 1e-8, 10.0),\n",
            "<ipython-input-48-54d882b388f3>:15: FutureWarning: suggest_loguniform has been deprecated in v3.0.0. This feature will be removed in v6.0.0. See https://github.com/optuna/optuna/releases/tag/v3.0.0. Use suggest_float(..., log=True) instead.\n",
            "  'reg_lambda':       trial.suggest_loguniform('reg_lambda', 1e-8, 10.0),\n",
            "/usr/local/lib/python3.11/dist-packages/sklearn/utils/deprecation.py:151: FutureWarning: 'force_all_finite' was renamed to 'ensure_all_finite' in 1.6 and will be removed in 1.8.\n",
            "  warnings.warn(\n"
          ]
        },
        {
          "name": "stdout",
          "output_type": "stream",
          "text": [
            "Training until validation scores don't improve for 50 rounds\n",
            "Did not meet early stopping. Best iteration is:\n",
            "[1250]\tvalid_0's l2: 0.0439678\n"
          ]
        },
        {
          "name": "stderr",
          "output_type": "stream",
          "text": [
            "/usr/local/lib/python3.11/dist-packages/sklearn/utils/deprecation.py:151: FutureWarning: 'force_all_finite' was renamed to 'ensure_all_finite' in 1.6 and will be removed in 1.8.\n",
            "  warnings.warn(\n"
          ]
        },
        {
          "name": "stdout",
          "output_type": "stream",
          "text": [
            "[I 2025-06-10 14:30:52,964] Trial 0 finished with value: 0.9628395708512109 and parameters: {'n_estimators': 1250, 'learning_rate': 0.02768416881258849, 'num_leaves': 189, 'max_depth': 5, 'subsample': 0.8819833107478683, 'colsample_bytree': 0.5522544765504203, 'reg_alpha': 0.22969850953294937, 'reg_lambda': 0.0020622044528671494, 'min_child_weight': 25}. Best is trial 0 with value: 0.9628395708512109.\n"
          ]
        },
        {
          "name": "stderr",
          "output_type": "stream",
          "text": [
            "<ipython-input-48-54d882b388f3>:9: FutureWarning: suggest_loguniform has been deprecated in v3.0.0. This feature will be removed in v6.0.0. See https://github.com/optuna/optuna/releases/tag/v3.0.0. Use suggest_float(..., log=True) instead.\n",
            "  'learning_rate':    trial.suggest_loguniform('learning_rate', 1e-3, 1e-1),\n",
            "<ipython-input-48-54d882b388f3>:12: FutureWarning: suggest_uniform has been deprecated in v3.0.0. This feature will be removed in v6.0.0. See https://github.com/optuna/optuna/releases/tag/v3.0.0. Use suggest_float instead.\n",
            "  'subsample':        trial.suggest_uniform('subsample', 0.5, 1.0),\n",
            "<ipython-input-48-54d882b388f3>:13: FutureWarning: suggest_uniform has been deprecated in v3.0.0. This feature will be removed in v6.0.0. See https://github.com/optuna/optuna/releases/tag/v3.0.0. Use suggest_float instead.\n",
            "  'colsample_bytree': trial.suggest_uniform('colsample_bytree', 0.5, 1.0),\n",
            "<ipython-input-48-54d882b388f3>:14: FutureWarning: suggest_loguniform has been deprecated in v3.0.0. This feature will be removed in v6.0.0. See https://github.com/optuna/optuna/releases/tag/v3.0.0. Use suggest_float(..., log=True) instead.\n",
            "  'reg_alpha':        trial.suggest_loguniform('reg_alpha', 1e-8, 10.0),\n",
            "<ipython-input-48-54d882b388f3>:15: FutureWarning: suggest_loguniform has been deprecated in v3.0.0. This feature will be removed in v6.0.0. See https://github.com/optuna/optuna/releases/tag/v3.0.0. Use suggest_float(..., log=True) instead.\n",
            "  'reg_lambda':       trial.suggest_loguniform('reg_lambda', 1e-8, 10.0),\n",
            "/usr/local/lib/python3.11/dist-packages/sklearn/utils/deprecation.py:151: FutureWarning: 'force_all_finite' was renamed to 'ensure_all_finite' in 1.6 and will be removed in 1.8.\n",
            "  warnings.warn(\n"
          ]
        },
        {
          "name": "stdout",
          "output_type": "stream",
          "text": [
            "Training until validation scores don't improve for 50 rounds\n",
            "Did not meet early stopping. Best iteration is:\n",
            "[1337]\tvalid_0's l2: 0.0386905\n"
          ]
        },
        {
          "name": "stderr",
          "output_type": "stream",
          "text": [
            "/usr/local/lib/python3.11/dist-packages/sklearn/utils/deprecation.py:151: FutureWarning: 'force_all_finite' was renamed to 'ensure_all_finite' in 1.6 and will be removed in 1.8.\n",
            "  warnings.warn(\n"
          ]
        },
        {
          "name": "stdout",
          "output_type": "stream",
          "text": [
            "[I 2025-06-10 14:34:39,410] Trial 1 finished with value: 0.9672998665338179 and parameters: {'n_estimators': 1337, 'learning_rate': 0.004053169038638184, 'num_leaves': 235, 'max_depth': 21, 'subsample': 0.848203333187671, 'colsample_bytree': 0.7688004653886942, 'reg_alpha': 0.008626635308856583, 'reg_lambda': 0.08650452248545897, 'min_child_weight': 39}. Best is trial 1 with value: 0.9672998665338179.\n",
            "Training until validation scores don't improve for 50 rounds\n",
            "Did not meet early stopping. Best iteration is:\n",
            "[1291]\tvalid_0's l2: 0.107087\n"
          ]
        },
        {
          "name": "stderr",
          "output_type": "stream",
          "text": [
            "/usr/local/lib/python3.11/dist-packages/sklearn/utils/deprecation.py:151: FutureWarning: 'force_all_finite' was renamed to 'ensure_all_finite' in 1.6 and will be removed in 1.8.\n",
            "  warnings.warn(\n"
          ]
        },
        {
          "name": "stdout",
          "output_type": "stream",
          "text": [
            "[I 2025-06-10 14:36:42,438] Trial 2 finished with value: 0.9094933021984043 and parameters: {'n_estimators': 1291, 'learning_rate': 0.001354280238954755, 'num_leaves': 94, 'max_depth': 12, 'subsample': 0.8362987527423973, 'colsample_bytree': 0.9465424765349354, 'reg_alpha': 1.8136278350193088e-05, 'reg_lambda': 0.002801415591693803, 'min_child_weight': 39}. Best is trial 1 with value: 0.9672998665338179.\n"
          ]
        },
        {
          "name": "stderr",
          "output_type": "stream",
          "text": [
            "<ipython-input-48-54d882b388f3>:9: FutureWarning: suggest_loguniform has been deprecated in v3.0.0. This feature will be removed in v6.0.0. See https://github.com/optuna/optuna/releases/tag/v3.0.0. Use suggest_float(..., log=True) instead.\n",
            "  'learning_rate':    trial.suggest_loguniform('learning_rate', 1e-3, 1e-1),\n",
            "<ipython-input-48-54d882b388f3>:12: FutureWarning: suggest_uniform has been deprecated in v3.0.0. This feature will be removed in v6.0.0. See https://github.com/optuna/optuna/releases/tag/v3.0.0. Use suggest_float instead.\n",
            "  'subsample':        trial.suggest_uniform('subsample', 0.5, 1.0),\n",
            "<ipython-input-48-54d882b388f3>:13: FutureWarning: suggest_uniform has been deprecated in v3.0.0. This feature will be removed in v6.0.0. See https://github.com/optuna/optuna/releases/tag/v3.0.0. Use suggest_float instead.\n",
            "  'colsample_bytree': trial.suggest_uniform('colsample_bytree', 0.5, 1.0),\n",
            "<ipython-input-48-54d882b388f3>:14: FutureWarning: suggest_loguniform has been deprecated in v3.0.0. This feature will be removed in v6.0.0. See https://github.com/optuna/optuna/releases/tag/v3.0.0. Use suggest_float(..., log=True) instead.\n",
            "  'reg_alpha':        trial.suggest_loguniform('reg_alpha', 1e-8, 10.0),\n",
            "<ipython-input-48-54d882b388f3>:15: FutureWarning: suggest_loguniform has been deprecated in v3.0.0. This feature will be removed in v6.0.0. See https://github.com/optuna/optuna/releases/tag/v3.0.0. Use suggest_float(..., log=True) instead.\n",
            "  'reg_lambda':       trial.suggest_loguniform('reg_lambda', 1e-8, 10.0),\n",
            "/usr/local/lib/python3.11/dist-packages/sklearn/utils/deprecation.py:151: FutureWarning: 'force_all_finite' was renamed to 'ensure_all_finite' in 1.6 and will be removed in 1.8.\n",
            "  warnings.warn(\n"
          ]
        },
        {
          "name": "stdout",
          "output_type": "stream",
          "text": [
            "Training until validation scores don't improve for 50 rounds\n",
            "Did not meet early stopping. Best iteration is:\n",
            "[1669]\tvalid_0's l2: 0.0302461\n"
          ]
        },
        {
          "name": "stderr",
          "output_type": "stream",
          "text": [
            "/usr/local/lib/python3.11/dist-packages/sklearn/utils/deprecation.py:151: FutureWarning: 'force_all_finite' was renamed to 'ensure_all_finite' in 1.6 and will be removed in 1.8.\n",
            "  warnings.warn(\n"
          ]
        },
        {
          "name": "stdout",
          "output_type": "stream",
          "text": [
            "[I 2025-06-10 14:40:15,233] Trial 3 finished with value: 0.9744367700426058 and parameters: {'n_estimators': 1669, 'learning_rate': 0.014863744400503958, 'num_leaves': 176, 'max_depth': 29, 'subsample': 0.5959597308256337, 'colsample_bytree': 0.5817907049525022, 'reg_alpha': 0.10587365966435719, 'reg_lambda': 0.0007948160489008346, 'min_child_weight': 11}. Best is trial 3 with value: 0.9744367700426058.\n"
          ]
        },
        {
          "name": "stderr",
          "output_type": "stream",
          "text": [
            "<ipython-input-48-54d882b388f3>:9: FutureWarning: suggest_loguniform has been deprecated in v3.0.0. This feature will be removed in v6.0.0. See https://github.com/optuna/optuna/releases/tag/v3.0.0. Use suggest_float(..., log=True) instead.\n",
            "  'learning_rate':    trial.suggest_loguniform('learning_rate', 1e-3, 1e-1),\n",
            "<ipython-input-48-54d882b388f3>:12: FutureWarning: suggest_uniform has been deprecated in v3.0.0. This feature will be removed in v6.0.0. See https://github.com/optuna/optuna/releases/tag/v3.0.0. Use suggest_float instead.\n",
            "  'subsample':        trial.suggest_uniform('subsample', 0.5, 1.0),\n",
            "<ipython-input-48-54d882b388f3>:13: FutureWarning: suggest_uniform has been deprecated in v3.0.0. This feature will be removed in v6.0.0. See https://github.com/optuna/optuna/releases/tag/v3.0.0. Use suggest_float instead.\n",
            "  'colsample_bytree': trial.suggest_uniform('colsample_bytree', 0.5, 1.0),\n",
            "<ipython-input-48-54d882b388f3>:14: FutureWarning: suggest_loguniform has been deprecated in v3.0.0. This feature will be removed in v6.0.0. See https://github.com/optuna/optuna/releases/tag/v3.0.0. Use suggest_float(..., log=True) instead.\n",
            "  'reg_alpha':        trial.suggest_loguniform('reg_alpha', 1e-8, 10.0),\n",
            "<ipython-input-48-54d882b388f3>:15: FutureWarning: suggest_loguniform has been deprecated in v3.0.0. This feature will be removed in v6.0.0. See https://github.com/optuna/optuna/releases/tag/v3.0.0. Use suggest_float(..., log=True) instead.\n",
            "  'reg_lambda':       trial.suggest_loguniform('reg_lambda', 1e-8, 10.0),\n",
            "/usr/local/lib/python3.11/dist-packages/sklearn/utils/deprecation.py:151: FutureWarning: 'force_all_finite' was renamed to 'ensure_all_finite' in 1.6 and will be removed in 1.8.\n",
            "  warnings.warn(\n"
          ]
        },
        {
          "name": "stdout",
          "output_type": "stream",
          "text": [
            "Training until validation scores don't improve for 50 rounds\n",
            "Did not meet early stopping. Best iteration is:\n",
            "[137]\tvalid_0's l2: 0.28957\n"
          ]
        },
        {
          "name": "stderr",
          "output_type": "stream",
          "text": [
            "/usr/local/lib/python3.11/dist-packages/sklearn/utils/deprecation.py:151: FutureWarning: 'force_all_finite' was renamed to 'ensure_all_finite' in 1.6 and will be removed in 1.8.\n",
            "  warnings.warn(\n"
          ]
        },
        {
          "name": "stdout",
          "output_type": "stream",
          "text": [
            "[I 2025-06-10 14:40:41,322] Trial 4 finished with value: 0.7552634916058645 and parameters: {'n_estimators': 137, 'learning_rate': 0.006463767467512745, 'num_leaves': 61, 'max_depth': 14, 'subsample': 0.7954803820130633, 'colsample_bytree': 0.5005992637859088, 'reg_alpha': 0.006290973230786103, 'reg_lambda': 0.2657738942068641, 'min_child_weight': 37}. Best is trial 3 with value: 0.9744367700426058.\n"
          ]
        },
        {
          "name": "stderr",
          "output_type": "stream",
          "text": [
            "<ipython-input-48-54d882b388f3>:9: FutureWarning: suggest_loguniform has been deprecated in v3.0.0. This feature will be removed in v6.0.0. See https://github.com/optuna/optuna/releases/tag/v3.0.0. Use suggest_float(..., log=True) instead.\n",
            "  'learning_rate':    trial.suggest_loguniform('learning_rate', 1e-3, 1e-1),\n",
            "<ipython-input-48-54d882b388f3>:12: FutureWarning: suggest_uniform has been deprecated in v3.0.0. This feature will be removed in v6.0.0. See https://github.com/optuna/optuna/releases/tag/v3.0.0. Use suggest_float instead.\n",
            "  'subsample':        trial.suggest_uniform('subsample', 0.5, 1.0),\n",
            "<ipython-input-48-54d882b388f3>:13: FutureWarning: suggest_uniform has been deprecated in v3.0.0. This feature will be removed in v6.0.0. See https://github.com/optuna/optuna/releases/tag/v3.0.0. Use suggest_float instead.\n",
            "  'colsample_bytree': trial.suggest_uniform('colsample_bytree', 0.5, 1.0),\n",
            "<ipython-input-48-54d882b388f3>:14: FutureWarning: suggest_loguniform has been deprecated in v3.0.0. This feature will be removed in v6.0.0. See https://github.com/optuna/optuna/releases/tag/v3.0.0. Use suggest_float(..., log=True) instead.\n",
            "  'reg_alpha':        trial.suggest_loguniform('reg_alpha', 1e-8, 10.0),\n",
            "<ipython-input-48-54d882b388f3>:15: FutureWarning: suggest_loguniform has been deprecated in v3.0.0. This feature will be removed in v6.0.0. See https://github.com/optuna/optuna/releases/tag/v3.0.0. Use suggest_float(..., log=True) instead.\n",
            "  'reg_lambda':       trial.suggest_loguniform('reg_lambda', 1e-8, 10.0),\n",
            "/usr/local/lib/python3.11/dist-packages/sklearn/utils/deprecation.py:151: FutureWarning: 'force_all_finite' was renamed to 'ensure_all_finite' in 1.6 and will be removed in 1.8.\n",
            "  warnings.warn(\n"
          ]
        },
        {
          "name": "stdout",
          "output_type": "stream",
          "text": [
            "Training until validation scores don't improve for 50 rounds\n",
            "Did not meet early stopping. Best iteration is:\n",
            "[137]\tvalid_0's l2: 0.741521\n"
          ]
        },
        {
          "name": "stderr",
          "output_type": "stream",
          "text": [
            "/usr/local/lib/python3.11/dist-packages/sklearn/utils/deprecation.py:151: FutureWarning: 'force_all_finite' was renamed to 'ensure_all_finite' in 1.6 and will be removed in 1.8.\n",
            "  warnings.warn(\n"
          ]
        },
        {
          "name": "stdout",
          "output_type": "stream",
          "text": [
            "[I 2025-06-10 14:41:00,051] Trial 5 finished with value: 0.37328639498841576 and parameters: {'n_estimators': 137, 'learning_rate': 0.0019506647960740643, 'num_leaves': 89, 'max_depth': 20, 'subsample': 0.5731829044192291, 'colsample_bytree': 0.6669872522805402, 'reg_alpha': 1.4478814260728283, 'reg_lambda': 1.6999224966500373e-06, 'min_child_weight': 31}. Best is trial 3 with value: 0.9744367700426058.\n"
          ]
        },
        {
          "name": "stderr",
          "output_type": "stream",
          "text": [
            "<ipython-input-48-54d882b388f3>:9: FutureWarning: suggest_loguniform has been deprecated in v3.0.0. This feature will be removed in v6.0.0. See https://github.com/optuna/optuna/releases/tag/v3.0.0. Use suggest_float(..., log=True) instead.\n",
            "  'learning_rate':    trial.suggest_loguniform('learning_rate', 1e-3, 1e-1),\n",
            "<ipython-input-48-54d882b388f3>:12: FutureWarning: suggest_uniform has been deprecated in v3.0.0. This feature will be removed in v6.0.0. See https://github.com/optuna/optuna/releases/tag/v3.0.0. Use suggest_float instead.\n",
            "  'subsample':        trial.suggest_uniform('subsample', 0.5, 1.0),\n",
            "<ipython-input-48-54d882b388f3>:13: FutureWarning: suggest_uniform has been deprecated in v3.0.0. This feature will be removed in v6.0.0. See https://github.com/optuna/optuna/releases/tag/v3.0.0. Use suggest_float instead.\n",
            "  'colsample_bytree': trial.suggest_uniform('colsample_bytree', 0.5, 1.0),\n",
            "<ipython-input-48-54d882b388f3>:14: FutureWarning: suggest_loguniform has been deprecated in v3.0.0. This feature will be removed in v6.0.0. See https://github.com/optuna/optuna/releases/tag/v3.0.0. Use suggest_float(..., log=True) instead.\n",
            "  'reg_alpha':        trial.suggest_loguniform('reg_alpha', 1e-8, 10.0),\n",
            "<ipython-input-48-54d882b388f3>:15: FutureWarning: suggest_loguniform has been deprecated in v3.0.0. This feature will be removed in v6.0.0. See https://github.com/optuna/optuna/releases/tag/v3.0.0. Use suggest_float(..., log=True) instead.\n",
            "  'reg_lambda':       trial.suggest_loguniform('reg_lambda', 1e-8, 10.0),\n",
            "/usr/local/lib/python3.11/dist-packages/sklearn/utils/deprecation.py:151: FutureWarning: 'force_all_finite' was renamed to 'ensure_all_finite' in 1.6 and will be removed in 1.8.\n",
            "  warnings.warn(\n"
          ]
        },
        {
          "name": "stdout",
          "output_type": "stream",
          "text": [
            "Training until validation scores don't improve for 50 rounds\n",
            "Did not meet early stopping. Best iteration is:\n",
            "[1501]\tvalid_0's l2: 0.0366339\n"
          ]
        },
        {
          "name": "stderr",
          "output_type": "stream",
          "text": [
            "/usr/local/lib/python3.11/dist-packages/sklearn/utils/deprecation.py:151: FutureWarning: 'force_all_finite' was renamed to 'ensure_all_finite' in 1.6 and will be removed in 1.8.\n",
            "  warnings.warn(\n"
          ]
        },
        {
          "name": "stdout",
          "output_type": "stream",
          "text": [
            "[I 2025-06-10 14:43:31,203] Trial 6 finished with value: 0.9690379824907399 and parameters: {'n_estimators': 1501, 'learning_rate': 0.0050203216306429835, 'num_leaves': 185, 'max_depth': 25, 'subsample': 0.7350135178457897, 'colsample_bytree': 0.7110263250130701, 'reg_alpha': 3.173968588596351e-08, 'reg_lambda': 0.001120823033034608, 'min_child_weight': 33}. Best is trial 3 with value: 0.9744367700426058.\n"
          ]
        },
        {
          "name": "stderr",
          "output_type": "stream",
          "text": [
            "<ipython-input-48-54d882b388f3>:9: FutureWarning: suggest_loguniform has been deprecated in v3.0.0. This feature will be removed in v6.0.0. See https://github.com/optuna/optuna/releases/tag/v3.0.0. Use suggest_float(..., log=True) instead.\n",
            "  'learning_rate':    trial.suggest_loguniform('learning_rate', 1e-3, 1e-1),\n",
            "<ipython-input-48-54d882b388f3>:12: FutureWarning: suggest_uniform has been deprecated in v3.0.0. This feature will be removed in v6.0.0. See https://github.com/optuna/optuna/releases/tag/v3.0.0. Use suggest_float instead.\n",
            "  'subsample':        trial.suggest_uniform('subsample', 0.5, 1.0),\n",
            "<ipython-input-48-54d882b388f3>:13: FutureWarning: suggest_uniform has been deprecated in v3.0.0. This feature will be removed in v6.0.0. See https://github.com/optuna/optuna/releases/tag/v3.0.0. Use suggest_float instead.\n",
            "  'colsample_bytree': trial.suggest_uniform('colsample_bytree', 0.5, 1.0),\n",
            "<ipython-input-48-54d882b388f3>:14: FutureWarning: suggest_loguniform has been deprecated in v3.0.0. This feature will be removed in v6.0.0. See https://github.com/optuna/optuna/releases/tag/v3.0.0. Use suggest_float(..., log=True) instead.\n",
            "  'reg_alpha':        trial.suggest_loguniform('reg_alpha', 1e-8, 10.0),\n",
            "<ipython-input-48-54d882b388f3>:15: FutureWarning: suggest_loguniform has been deprecated in v3.0.0. This feature will be removed in v6.0.0. See https://github.com/optuna/optuna/releases/tag/v3.0.0. Use suggest_float(..., log=True) instead.\n",
            "  'reg_lambda':       trial.suggest_loguniform('reg_lambda', 1e-8, 10.0),\n",
            "/usr/local/lib/python3.11/dist-packages/sklearn/utils/deprecation.py:151: FutureWarning: 'force_all_finite' was renamed to 'ensure_all_finite' in 1.6 and will be removed in 1.8.\n",
            "  warnings.warn(\n"
          ]
        },
        {
          "name": "stdout",
          "output_type": "stream",
          "text": [
            "Training until validation scores don't improve for 50 rounds\n",
            "Did not meet early stopping. Best iteration is:\n",
            "[467]\tvalid_0's l2: 0.0314996\n"
          ]
        },
        {
          "name": "stderr",
          "output_type": "stream",
          "text": [
            "/usr/local/lib/python3.11/dist-packages/sklearn/utils/deprecation.py:151: FutureWarning: 'force_all_finite' was renamed to 'ensure_all_finite' in 1.6 and will be removed in 1.8.\n",
            "  warnings.warn(\n"
          ]
        },
        {
          "name": "stdout",
          "output_type": "stream",
          "text": [
            "[I 2025-06-10 14:44:06,409] Trial 7 finished with value: 0.9733773887713301 and parameters: {'n_estimators': 467, 'learning_rate': 0.07752345405375237, 'num_leaves': 92, 'max_depth': 30, 'subsample': 0.750768602824706, 'colsample_bytree': 0.7484494737336789, 'reg_alpha': 0.002443544324459361, 'reg_lambda': 0.003573177164665662, 'min_child_weight': 21}. Best is trial 3 with value: 0.9744367700426058.\n"
          ]
        },
        {
          "name": "stderr",
          "output_type": "stream",
          "text": [
            "<ipython-input-48-54d882b388f3>:9: FutureWarning: suggest_loguniform has been deprecated in v3.0.0. This feature will be removed in v6.0.0. See https://github.com/optuna/optuna/releases/tag/v3.0.0. Use suggest_float(..., log=True) instead.\n",
            "  'learning_rate':    trial.suggest_loguniform('learning_rate', 1e-3, 1e-1),\n",
            "<ipython-input-48-54d882b388f3>:12: FutureWarning: suggest_uniform has been deprecated in v3.0.0. This feature will be removed in v6.0.0. See https://github.com/optuna/optuna/releases/tag/v3.0.0. Use suggest_float instead.\n",
            "  'subsample':        trial.suggest_uniform('subsample', 0.5, 1.0),\n",
            "<ipython-input-48-54d882b388f3>:13: FutureWarning: suggest_uniform has been deprecated in v3.0.0. This feature will be removed in v6.0.0. See https://github.com/optuna/optuna/releases/tag/v3.0.0. Use suggest_float instead.\n",
            "  'colsample_bytree': trial.suggest_uniform('colsample_bytree', 0.5, 1.0),\n",
            "<ipython-input-48-54d882b388f3>:14: FutureWarning: suggest_loguniform has been deprecated in v3.0.0. This feature will be removed in v6.0.0. See https://github.com/optuna/optuna/releases/tag/v3.0.0. Use suggest_float(..., log=True) instead.\n",
            "  'reg_alpha':        trial.suggest_loguniform('reg_alpha', 1e-8, 10.0),\n",
            "<ipython-input-48-54d882b388f3>:15: FutureWarning: suggest_loguniform has been deprecated in v3.0.0. This feature will be removed in v6.0.0. See https://github.com/optuna/optuna/releases/tag/v3.0.0. Use suggest_float(..., log=True) instead.\n",
            "  'reg_lambda':       trial.suggest_loguniform('reg_lambda', 1e-8, 10.0),\n",
            "/usr/local/lib/python3.11/dist-packages/sklearn/utils/deprecation.py:151: FutureWarning: 'force_all_finite' was renamed to 'ensure_all_finite' in 1.6 and will be removed in 1.8.\n",
            "  warnings.warn(\n"
          ]
        },
        {
          "name": "stdout",
          "output_type": "stream",
          "text": [
            "Training until validation scores don't improve for 50 rounds\n",
            "Did not meet early stopping. Best iteration is:\n",
            "[1206]\tvalid_0's l2: 0.0521809\n"
          ]
        },
        {
          "name": "stderr",
          "output_type": "stream",
          "text": [
            "/usr/local/lib/python3.11/dist-packages/sklearn/utils/deprecation.py:151: FutureWarning: 'force_all_finite' was renamed to 'ensure_all_finite' in 1.6 and will be removed in 1.8.\n",
            "  warnings.warn(\n"
          ]
        },
        {
          "name": "stdout",
          "output_type": "stream",
          "text": [
            "[I 2025-06-10 14:46:15,389] Trial 8 finished with value: 0.9558980966248987 and parameters: {'n_estimators': 1206, 'learning_rate': 0.002542595014203553, 'num_leaves': 157, 'max_depth': 30, 'subsample': 0.9056643504762527, 'colsample_bytree': 0.9743095536644397, 'reg_alpha': 5.175810879499376e-07, 'reg_lambda': 2.690980996502111e-07, 'min_child_weight': 17}. Best is trial 3 with value: 0.9744367700426058.\n"
          ]
        },
        {
          "name": "stderr",
          "output_type": "stream",
          "text": [
            "<ipython-input-48-54d882b388f3>:9: FutureWarning: suggest_loguniform has been deprecated in v3.0.0. This feature will be removed in v6.0.0. See https://github.com/optuna/optuna/releases/tag/v3.0.0. Use suggest_float(..., log=True) instead.\n",
            "  'learning_rate':    trial.suggest_loguniform('learning_rate', 1e-3, 1e-1),\n",
            "<ipython-input-48-54d882b388f3>:12: FutureWarning: suggest_uniform has been deprecated in v3.0.0. This feature will be removed in v6.0.0. See https://github.com/optuna/optuna/releases/tag/v3.0.0. Use suggest_float instead.\n",
            "  'subsample':        trial.suggest_uniform('subsample', 0.5, 1.0),\n",
            "<ipython-input-48-54d882b388f3>:13: FutureWarning: suggest_uniform has been deprecated in v3.0.0. This feature will be removed in v6.0.0. See https://github.com/optuna/optuna/releases/tag/v3.0.0. Use suggest_float instead.\n",
            "  'colsample_bytree': trial.suggest_uniform('colsample_bytree', 0.5, 1.0),\n",
            "<ipython-input-48-54d882b388f3>:14: FutureWarning: suggest_loguniform has been deprecated in v3.0.0. This feature will be removed in v6.0.0. See https://github.com/optuna/optuna/releases/tag/v3.0.0. Use suggest_float(..., log=True) instead.\n",
            "  'reg_alpha':        trial.suggest_loguniform('reg_alpha', 1e-8, 10.0),\n",
            "<ipython-input-48-54d882b388f3>:15: FutureWarning: suggest_loguniform has been deprecated in v3.0.0. This feature will be removed in v6.0.0. See https://github.com/optuna/optuna/releases/tag/v3.0.0. Use suggest_float(..., log=True) instead.\n",
            "  'reg_lambda':       trial.suggest_loguniform('reg_lambda', 1e-8, 10.0),\n",
            "/usr/local/lib/python3.11/dist-packages/sklearn/utils/deprecation.py:151: FutureWarning: 'force_all_finite' was renamed to 'ensure_all_finite' in 1.6 and will be removed in 1.8.\n",
            "  warnings.warn(\n"
          ]
        },
        {
          "name": "stdout",
          "output_type": "stream",
          "text": [
            "Training until validation scores don't improve for 50 rounds\n",
            "Did not meet early stopping. Best iteration is:\n",
            "[713]\tvalid_0's l2: 0.032319\n"
          ]
        },
        {
          "name": "stderr",
          "output_type": "stream",
          "text": [
            "/usr/local/lib/python3.11/dist-packages/sklearn/utils/deprecation.py:151: FutureWarning: 'force_all_finite' was renamed to 'ensure_all_finite' in 1.6 and will be removed in 1.8.\n",
            "  warnings.warn(\n"
          ]
        },
        {
          "name": "stdout",
          "output_type": "stream",
          "text": [
            "[I 2025-06-10 14:46:59,922] Trial 9 finished with value: 0.972684807612994 and parameters: {'n_estimators': 713, 'learning_rate': 0.044788228459184024, 'num_leaves': 127, 'max_depth': 14, 'subsample': 0.6632889870534344, 'colsample_bytree': 0.7340216642492492, 'reg_alpha': 0.17698280431010535, 'reg_lambda': 1.551748010002799e-08, 'min_child_weight': 19}. Best is trial 3 with value: 0.9744367700426058.\n"
          ]
        },
        {
          "name": "stderr",
          "output_type": "stream",
          "text": [
            "<ipython-input-48-54d882b388f3>:9: FutureWarning: suggest_loguniform has been deprecated in v3.0.0. This feature will be removed in v6.0.0. See https://github.com/optuna/optuna/releases/tag/v3.0.0. Use suggest_float(..., log=True) instead.\n",
            "  'learning_rate':    trial.suggest_loguniform('learning_rate', 1e-3, 1e-1),\n",
            "<ipython-input-48-54d882b388f3>:12: FutureWarning: suggest_uniform has been deprecated in v3.0.0. This feature will be removed in v6.0.0. See https://github.com/optuna/optuna/releases/tag/v3.0.0. Use suggest_float instead.\n",
            "  'subsample':        trial.suggest_uniform('subsample', 0.5, 1.0),\n",
            "<ipython-input-48-54d882b388f3>:13: FutureWarning: suggest_uniform has been deprecated in v3.0.0. This feature will be removed in v6.0.0. See https://github.com/optuna/optuna/releases/tag/v3.0.0. Use suggest_float instead.\n",
            "  'colsample_bytree': trial.suggest_uniform('colsample_bytree', 0.5, 1.0),\n",
            "<ipython-input-48-54d882b388f3>:14: FutureWarning: suggest_loguniform has been deprecated in v3.0.0. This feature will be removed in v6.0.0. See https://github.com/optuna/optuna/releases/tag/v3.0.0. Use suggest_float(..., log=True) instead.\n",
            "  'reg_alpha':        trial.suggest_loguniform('reg_alpha', 1e-8, 10.0),\n",
            "<ipython-input-48-54d882b388f3>:15: FutureWarning: suggest_loguniform has been deprecated in v3.0.0. This feature will be removed in v6.0.0. See https://github.com/optuna/optuna/releases/tag/v3.0.0. Use suggest_float(..., log=True) instead.\n",
            "  'reg_lambda':       trial.suggest_loguniform('reg_lambda', 1e-8, 10.0),\n",
            "/usr/local/lib/python3.11/dist-packages/sklearn/utils/deprecation.py:151: FutureWarning: 'force_all_finite' was renamed to 'ensure_all_finite' in 1.6 and will be removed in 1.8.\n",
            "  warnings.warn(\n"
          ]
        },
        {
          "name": "stdout",
          "output_type": "stream",
          "text": [
            "Training until validation scores don't improve for 50 rounds\n",
            "Did not meet early stopping. Best iteration is:\n",
            "[1975]\tvalid_0's l2: 0.0323013\n"
          ]
        },
        {
          "name": "stderr",
          "output_type": "stream",
          "text": [
            "/usr/local/lib/python3.11/dist-packages/sklearn/utils/deprecation.py:151: FutureWarning: 'force_all_finite' was renamed to 'ensure_all_finite' in 1.6 and will be removed in 1.8.\n",
            "  warnings.warn(\n"
          ]
        },
        {
          "name": "stdout",
          "output_type": "stream",
          "text": [
            "[I 2025-06-10 14:51:06,158] Trial 10 finished with value: 0.972699778839684 and parameters: {'n_estimators': 1975, 'learning_rate': 0.017135193789104677, 'num_leaves': 256, 'max_depth': 24, 'subsample': 0.5061556124915063, 'colsample_bytree': 0.6047578182152099, 'reg_alpha': 6.499800375160383, 'reg_lambda': 8.436367128488897, 'min_child_weight': 2}. Best is trial 3 with value: 0.9744367700426058.\n"
          ]
        },
        {
          "name": "stderr",
          "output_type": "stream",
          "text": [
            "<ipython-input-48-54d882b388f3>:9: FutureWarning: suggest_loguniform has been deprecated in v3.0.0. This feature will be removed in v6.0.0. See https://github.com/optuna/optuna/releases/tag/v3.0.0. Use suggest_float(..., log=True) instead.\n",
            "  'learning_rate':    trial.suggest_loguniform('learning_rate', 1e-3, 1e-1),\n",
            "<ipython-input-48-54d882b388f3>:12: FutureWarning: suggest_uniform has been deprecated in v3.0.0. This feature will be removed in v6.0.0. See https://github.com/optuna/optuna/releases/tag/v3.0.0. Use suggest_float instead.\n",
            "  'subsample':        trial.suggest_uniform('subsample', 0.5, 1.0),\n",
            "<ipython-input-48-54d882b388f3>:13: FutureWarning: suggest_uniform has been deprecated in v3.0.0. This feature will be removed in v6.0.0. See https://github.com/optuna/optuna/releases/tag/v3.0.0. Use suggest_float instead.\n",
            "  'colsample_bytree': trial.suggest_uniform('colsample_bytree', 0.5, 1.0),\n",
            "<ipython-input-48-54d882b388f3>:14: FutureWarning: suggest_loguniform has been deprecated in v3.0.0. This feature will be removed in v6.0.0. See https://github.com/optuna/optuna/releases/tag/v3.0.0. Use suggest_float(..., log=True) instead.\n",
            "  'reg_alpha':        trial.suggest_loguniform('reg_alpha', 1e-8, 10.0),\n",
            "<ipython-input-48-54d882b388f3>:15: FutureWarning: suggest_loguniform has been deprecated in v3.0.0. This feature will be removed in v6.0.0. See https://github.com/optuna/optuna/releases/tag/v3.0.0. Use suggest_float(..., log=True) instead.\n",
            "  'reg_lambda':       trial.suggest_loguniform('reg_lambda', 1e-8, 10.0),\n",
            "/usr/local/lib/python3.11/dist-packages/sklearn/utils/deprecation.py:151: FutureWarning: 'force_all_finite' was renamed to 'ensure_all_finite' in 1.6 and will be removed in 1.8.\n",
            "  warnings.warn(\n"
          ]
        },
        {
          "name": "stdout",
          "output_type": "stream",
          "text": [
            "Training until validation scores don't improve for 50 rounds\n",
            "Did not meet early stopping. Best iteration is:\n",
            "[720]\tvalid_0's l2: 0.0330848\n"
          ]
        },
        {
          "name": "stderr",
          "output_type": "stream",
          "text": [
            "/usr/local/lib/python3.11/dist-packages/sklearn/utils/deprecation.py:151: FutureWarning: 'force_all_finite' was renamed to 'ensure_all_finite' in 1.6 and will be removed in 1.8.\n",
            "  warnings.warn(\n"
          ]
        },
        {
          "name": "stdout",
          "output_type": "stream",
          "text": [
            "[I 2025-06-10 14:51:36,747] Trial 11 finished with value: 0.9720376387406138 and parameters: {'n_estimators': 720, 'learning_rate': 0.09382993133302175, 'num_leaves': 36, 'max_depth': 30, 'subsample': 0.6692471888592, 'colsample_bytree': 0.8475098173222425, 'reg_alpha': 0.00031622759164924363, 'reg_lambda': 2.4091600096219722e-05, 'min_child_weight': 6}. Best is trial 3 with value: 0.9744367700426058.\n"
          ]
        },
        {
          "name": "stderr",
          "output_type": "stream",
          "text": [
            "<ipython-input-48-54d882b388f3>:9: FutureWarning: suggest_loguniform has been deprecated in v3.0.0. This feature will be removed in v6.0.0. See https://github.com/optuna/optuna/releases/tag/v3.0.0. Use suggest_float(..., log=True) instead.\n",
            "  'learning_rate':    trial.suggest_loguniform('learning_rate', 1e-3, 1e-1),\n",
            "<ipython-input-48-54d882b388f3>:12: FutureWarning: suggest_uniform has been deprecated in v3.0.0. This feature will be removed in v6.0.0. See https://github.com/optuna/optuna/releases/tag/v3.0.0. Use suggest_float instead.\n",
            "  'subsample':        trial.suggest_uniform('subsample', 0.5, 1.0),\n",
            "<ipython-input-48-54d882b388f3>:13: FutureWarning: suggest_uniform has been deprecated in v3.0.0. This feature will be removed in v6.0.0. See https://github.com/optuna/optuna/releases/tag/v3.0.0. Use suggest_float instead.\n",
            "  'colsample_bytree': trial.suggest_uniform('colsample_bytree', 0.5, 1.0),\n",
            "<ipython-input-48-54d882b388f3>:14: FutureWarning: suggest_loguniform has been deprecated in v3.0.0. This feature will be removed in v6.0.0. See https://github.com/optuna/optuna/releases/tag/v3.0.0. Use suggest_float(..., log=True) instead.\n",
            "  'reg_alpha':        trial.suggest_loguniform('reg_alpha', 1e-8, 10.0),\n",
            "<ipython-input-48-54d882b388f3>:15: FutureWarning: suggest_loguniform has been deprecated in v3.0.0. This feature will be removed in v6.0.0. See https://github.com/optuna/optuna/releases/tag/v3.0.0. Use suggest_float(..., log=True) instead.\n",
            "  'reg_lambda':       trial.suggest_loguniform('reg_lambda', 1e-8, 10.0),\n",
            "/usr/local/lib/python3.11/dist-packages/sklearn/utils/deprecation.py:151: FutureWarning: 'force_all_finite' was renamed to 'ensure_all_finite' in 1.6 and will be removed in 1.8.\n",
            "  warnings.warn(\n"
          ]
        },
        {
          "name": "stdout",
          "output_type": "stream",
          "text": [
            "Training until validation scores don't improve for 50 rounds\n",
            "Did not meet early stopping. Best iteration is:\n",
            "[1843]\tvalid_0's l2: 0.0318257\n"
          ]
        },
        {
          "name": "stderr",
          "output_type": "stream",
          "text": [
            "/usr/local/lib/python3.11/dist-packages/sklearn/utils/deprecation.py:151: FutureWarning: 'force_all_finite' was renamed to 'ensure_all_finite' in 1.6 and will be removed in 1.8.\n",
            "  warnings.warn(\n"
          ]
        },
        {
          "name": "stdout",
          "output_type": "stream",
          "text": [
            "[I 2025-06-10 14:53:55,198] Trial 12 finished with value: 0.9731017306634596 and parameters: {'n_estimators': 1843, 'learning_rate': 0.013600029188101987, 'num_leaves': 130, 'max_depth': 26, 'subsample': 0.682214691522408, 'colsample_bytree': 0.8382619120400989, 'reg_alpha': 0.0020957900417323655, 'reg_lambda': 6.139997175871064e-05, 'min_child_weight': 49}. Best is trial 3 with value: 0.9744367700426058.\n"
          ]
        },
        {
          "name": "stderr",
          "output_type": "stream",
          "text": [
            "<ipython-input-48-54d882b388f3>:9: FutureWarning: suggest_loguniform has been deprecated in v3.0.0. This feature will be removed in v6.0.0. See https://github.com/optuna/optuna/releases/tag/v3.0.0. Use suggest_float(..., log=True) instead.\n",
            "  'learning_rate':    trial.suggest_loguniform('learning_rate', 1e-3, 1e-1),\n",
            "<ipython-input-48-54d882b388f3>:12: FutureWarning: suggest_uniform has been deprecated in v3.0.0. This feature will be removed in v6.0.0. See https://github.com/optuna/optuna/releases/tag/v3.0.0. Use suggest_float instead.\n",
            "  'subsample':        trial.suggest_uniform('subsample', 0.5, 1.0),\n",
            "<ipython-input-48-54d882b388f3>:13: FutureWarning: suggest_uniform has been deprecated in v3.0.0. This feature will be removed in v6.0.0. See https://github.com/optuna/optuna/releases/tag/v3.0.0. Use suggest_float instead.\n",
            "  'colsample_bytree': trial.suggest_uniform('colsample_bytree', 0.5, 1.0),\n",
            "<ipython-input-48-54d882b388f3>:14: FutureWarning: suggest_loguniform has been deprecated in v3.0.0. This feature will be removed in v6.0.0. See https://github.com/optuna/optuna/releases/tag/v3.0.0. Use suggest_float(..., log=True) instead.\n",
            "  'reg_alpha':        trial.suggest_loguniform('reg_alpha', 1e-8, 10.0),\n",
            "<ipython-input-48-54d882b388f3>:15: FutureWarning: suggest_loguniform has been deprecated in v3.0.0. This feature will be removed in v6.0.0. See https://github.com/optuna/optuna/releases/tag/v3.0.0. Use suggest_float(..., log=True) instead.\n",
            "  'reg_lambda':       trial.suggest_loguniform('reg_lambda', 1e-8, 10.0),\n",
            "/usr/local/lib/python3.11/dist-packages/sklearn/utils/deprecation.py:151: FutureWarning: 'force_all_finite' was renamed to 'ensure_all_finite' in 1.6 and will be removed in 1.8.\n",
            "  warnings.warn(\n"
          ]
        },
        {
          "name": "stdout",
          "output_type": "stream",
          "text": [
            "Training until validation scores don't improve for 50 rounds\n",
            "Did not meet early stopping. Best iteration is:\n",
            "[723]\tvalid_0's l2: 0.0289312\n"
          ]
        },
        {
          "name": "stderr",
          "output_type": "stream",
          "text": [
            "/usr/local/lib/python3.11/dist-packages/sklearn/utils/deprecation.py:151: FutureWarning: 'force_all_finite' was renamed to 'ensure_all_finite' in 1.6 and will be removed in 1.8.\n",
            "  warnings.warn(\n"
          ]
        },
        {
          "name": "stdout",
          "output_type": "stream",
          "text": [
            "[I 2025-06-10 14:55:03,759] Trial 13 finished with value: 0.9755481138562964 and parameters: {'n_estimators': 723, 'learning_rate': 0.08542023427478641, 'num_leaves': 187, 'max_depth': 30, 'subsample': 0.9813275105267472, 'colsample_bytree': 0.6356011159511896, 'reg_alpha': 9.87302618180761e-05, 'reg_lambda': 0.05593598228510109, 'min_child_weight': 12}. Best is trial 13 with value: 0.9755481138562964.\n"
          ]
        },
        {
          "name": "stderr",
          "output_type": "stream",
          "text": [
            "<ipython-input-48-54d882b388f3>:9: FutureWarning: suggest_loguniform has been deprecated in v3.0.0. This feature will be removed in v6.0.0. See https://github.com/optuna/optuna/releases/tag/v3.0.0. Use suggest_float(..., log=True) instead.\n",
            "  'learning_rate':    trial.suggest_loguniform('learning_rate', 1e-3, 1e-1),\n",
            "<ipython-input-48-54d882b388f3>:12: FutureWarning: suggest_uniform has been deprecated in v3.0.0. This feature will be removed in v6.0.0. See https://github.com/optuna/optuna/releases/tag/v3.0.0. Use suggest_float instead.\n",
            "  'subsample':        trial.suggest_uniform('subsample', 0.5, 1.0),\n",
            "<ipython-input-48-54d882b388f3>:13: FutureWarning: suggest_uniform has been deprecated in v3.0.0. This feature will be removed in v6.0.0. See https://github.com/optuna/optuna/releases/tag/v3.0.0. Use suggest_float instead.\n",
            "  'colsample_bytree': trial.suggest_uniform('colsample_bytree', 0.5, 1.0),\n",
            "<ipython-input-48-54d882b388f3>:14: FutureWarning: suggest_loguniform has been deprecated in v3.0.0. This feature will be removed in v6.0.0. See https://github.com/optuna/optuna/releases/tag/v3.0.0. Use suggest_float(..., log=True) instead.\n",
            "  'reg_alpha':        trial.suggest_loguniform('reg_alpha', 1e-8, 10.0),\n",
            "<ipython-input-48-54d882b388f3>:15: FutureWarning: suggest_loguniform has been deprecated in v3.0.0. This feature will be removed in v6.0.0. See https://github.com/optuna/optuna/releases/tag/v3.0.0. Use suggest_float(..., log=True) instead.\n",
            "  'reg_lambda':       trial.suggest_loguniform('reg_lambda', 1e-8, 10.0),\n",
            "/usr/local/lib/python3.11/dist-packages/sklearn/utils/deprecation.py:151: FutureWarning: 'force_all_finite' was renamed to 'ensure_all_finite' in 1.6 and will be removed in 1.8.\n",
            "  warnings.warn(\n"
          ]
        },
        {
          "name": "stdout",
          "output_type": "stream",
          "text": [
            "Training until validation scores don't improve for 50 rounds\n",
            "Did not meet early stopping. Best iteration is:\n",
            "[891]\tvalid_0's l2: 0.0297427\n"
          ]
        },
        {
          "name": "stderr",
          "output_type": "stream",
          "text": [
            "/usr/local/lib/python3.11/dist-packages/sklearn/utils/deprecation.py:151: FutureWarning: 'force_all_finite' was renamed to 'ensure_all_finite' in 1.6 and will be removed in 1.8.\n",
            "  warnings.warn(\n"
          ]
        },
        {
          "name": "stdout",
          "output_type": "stream",
          "text": [
            "[I 2025-06-10 14:56:37,781] Trial 14 finished with value: 0.9748622696895052 and parameters: {'n_estimators': 891, 'learning_rate': 0.03725795155405071, 'num_leaves': 206, 'max_depth': 26, 'subsample': 0.9398530083078894, 'colsample_bytree': 0.6217169427728223, 'reg_alpha': 3.331844032192053e-05, 'reg_lambda': 0.08139915563389308, 'min_child_weight': 10}. Best is trial 13 with value: 0.9755481138562964.\n"
          ]
        },
        {
          "name": "stderr",
          "output_type": "stream",
          "text": [
            "<ipython-input-48-54d882b388f3>:9: FutureWarning: suggest_loguniform has been deprecated in v3.0.0. This feature will be removed in v6.0.0. See https://github.com/optuna/optuna/releases/tag/v3.0.0. Use suggest_float(..., log=True) instead.\n",
            "  'learning_rate':    trial.suggest_loguniform('learning_rate', 1e-3, 1e-1),\n",
            "<ipython-input-48-54d882b388f3>:12: FutureWarning: suggest_uniform has been deprecated in v3.0.0. This feature will be removed in v6.0.0. See https://github.com/optuna/optuna/releases/tag/v3.0.0. Use suggest_float instead.\n",
            "  'subsample':        trial.suggest_uniform('subsample', 0.5, 1.0),\n",
            "<ipython-input-48-54d882b388f3>:13: FutureWarning: suggest_uniform has been deprecated in v3.0.0. This feature will be removed in v6.0.0. See https://github.com/optuna/optuna/releases/tag/v3.0.0. Use suggest_float instead.\n",
            "  'colsample_bytree': trial.suggest_uniform('colsample_bytree', 0.5, 1.0),\n",
            "<ipython-input-48-54d882b388f3>:14: FutureWarning: suggest_loguniform has been deprecated in v3.0.0. This feature will be removed in v6.0.0. See https://github.com/optuna/optuna/releases/tag/v3.0.0. Use suggest_float(..., log=True) instead.\n",
            "  'reg_alpha':        trial.suggest_loguniform('reg_alpha', 1e-8, 10.0),\n",
            "<ipython-input-48-54d882b388f3>:15: FutureWarning: suggest_loguniform has been deprecated in v3.0.0. This feature will be removed in v6.0.0. See https://github.com/optuna/optuna/releases/tag/v3.0.0. Use suggest_float(..., log=True) instead.\n",
            "  'reg_lambda':       trial.suggest_loguniform('reg_lambda', 1e-8, 10.0),\n",
            "/usr/local/lib/python3.11/dist-packages/sklearn/utils/deprecation.py:151: FutureWarning: 'force_all_finite' was renamed to 'ensure_all_finite' in 1.6 and will be removed in 1.8.\n",
            "  warnings.warn(\n"
          ]
        },
        {
          "name": "stdout",
          "output_type": "stream",
          "text": [
            "Training until validation scores don't improve for 50 rounds\n",
            "Did not meet early stopping. Best iteration is:\n",
            "[890]\tvalid_0's l2: 0.0296216\n"
          ]
        },
        {
          "name": "stderr",
          "output_type": "stream",
          "text": [
            "/usr/local/lib/python3.11/dist-packages/sklearn/utils/deprecation.py:151: FutureWarning: 'force_all_finite' was renamed to 'ensure_all_finite' in 1.6 and will be removed in 1.8.\n",
            "  warnings.warn(\n"
          ]
        },
        {
          "name": "stdout",
          "output_type": "stream",
          "text": [
            "[I 2025-06-10 14:57:57,805] Trial 15 finished with value: 0.9749646464793652 and parameters: {'n_estimators': 890, 'learning_rate': 0.04381075737153361, 'num_leaves': 214, 'max_depth': 22, 'subsample': 0.9998485415395538, 'colsample_bytree': 0.6418826633490962, 'reg_alpha': 1.2437787046636419e-05, 'reg_lambda': 0.11929267088042537, 'min_child_weight': 11}. Best is trial 13 with value: 0.9755481138562964.\n"
          ]
        },
        {
          "name": "stderr",
          "output_type": "stream",
          "text": [
            "<ipython-input-48-54d882b388f3>:9: FutureWarning: suggest_loguniform has been deprecated in v3.0.0. This feature will be removed in v6.0.0. See https://github.com/optuna/optuna/releases/tag/v3.0.0. Use suggest_float(..., log=True) instead.\n",
            "  'learning_rate':    trial.suggest_loguniform('learning_rate', 1e-3, 1e-1),\n",
            "<ipython-input-48-54d882b388f3>:12: FutureWarning: suggest_uniform has been deprecated in v3.0.0. This feature will be removed in v6.0.0. See https://github.com/optuna/optuna/releases/tag/v3.0.0. Use suggest_float instead.\n",
            "  'subsample':        trial.suggest_uniform('subsample', 0.5, 1.0),\n",
            "<ipython-input-48-54d882b388f3>:13: FutureWarning: suggest_uniform has been deprecated in v3.0.0. This feature will be removed in v6.0.0. See https://github.com/optuna/optuna/releases/tag/v3.0.0. Use suggest_float instead.\n",
            "  'colsample_bytree': trial.suggest_uniform('colsample_bytree', 0.5, 1.0),\n",
            "<ipython-input-48-54d882b388f3>:14: FutureWarning: suggest_loguniform has been deprecated in v3.0.0. This feature will be removed in v6.0.0. See https://github.com/optuna/optuna/releases/tag/v3.0.0. Use suggest_float(..., log=True) instead.\n",
            "  'reg_alpha':        trial.suggest_loguniform('reg_alpha', 1e-8, 10.0),\n",
            "<ipython-input-48-54d882b388f3>:15: FutureWarning: suggest_loguniform has been deprecated in v3.0.0. This feature will be removed in v6.0.0. See https://github.com/optuna/optuna/releases/tag/v3.0.0. Use suggest_float(..., log=True) instead.\n",
            "  'reg_lambda':       trial.suggest_loguniform('reg_lambda', 1e-8, 10.0),\n",
            "/usr/local/lib/python3.11/dist-packages/sklearn/utils/deprecation.py:151: FutureWarning: 'force_all_finite' was renamed to 'ensure_all_finite' in 1.6 and will be removed in 1.8.\n",
            "  warnings.warn(\n"
          ]
        },
        {
          "name": "stdout",
          "output_type": "stream",
          "text": [
            "Training until validation scores don't improve for 50 rounds\n",
            "Did not meet early stopping. Best iteration is:\n",
            "[471]\tvalid_0's l2: 0.0315548\n"
          ]
        },
        {
          "name": "stderr",
          "output_type": "stream",
          "text": [
            "/usr/local/lib/python3.11/dist-packages/sklearn/utils/deprecation.py:151: FutureWarning: 'force_all_finite' was renamed to 'ensure_all_finite' in 1.6 and will be removed in 1.8.\n",
            "  warnings.warn(\n"
          ]
        },
        {
          "name": "stdout",
          "output_type": "stream",
          "text": [
            "[I 2025-06-10 14:58:39,274] Trial 16 finished with value: 0.9733307001589185 and parameters: {'n_estimators': 471, 'learning_rate': 0.062195889994119374, 'num_leaves': 216, 'max_depth': 18, 'subsample': 0.9970469564752815, 'colsample_bytree': 0.6539875102379029, 'reg_alpha': 2.7708184684231496e-06, 'reg_lambda': 4.600751582881133, 'min_child_weight': 12}. Best is trial 13 with value: 0.9755481138562964.\n"
          ]
        },
        {
          "name": "stderr",
          "output_type": "stream",
          "text": [
            "<ipython-input-48-54d882b388f3>:9: FutureWarning: suggest_loguniform has been deprecated in v3.0.0. This feature will be removed in v6.0.0. See https://github.com/optuna/optuna/releases/tag/v3.0.0. Use suggest_float(..., log=True) instead.\n",
            "  'learning_rate':    trial.suggest_loguniform('learning_rate', 1e-3, 1e-1),\n",
            "<ipython-input-48-54d882b388f3>:12: FutureWarning: suggest_uniform has been deprecated in v3.0.0. This feature will be removed in v6.0.0. See https://github.com/optuna/optuna/releases/tag/v3.0.0. Use suggest_float instead.\n",
            "  'subsample':        trial.suggest_uniform('subsample', 0.5, 1.0),\n",
            "<ipython-input-48-54d882b388f3>:13: FutureWarning: suggest_uniform has been deprecated in v3.0.0. This feature will be removed in v6.0.0. See https://github.com/optuna/optuna/releases/tag/v3.0.0. Use suggest_float instead.\n",
            "  'colsample_bytree': trial.suggest_uniform('colsample_bytree', 0.5, 1.0),\n",
            "<ipython-input-48-54d882b388f3>:14: FutureWarning: suggest_loguniform has been deprecated in v3.0.0. This feature will be removed in v6.0.0. See https://github.com/optuna/optuna/releases/tag/v3.0.0. Use suggest_float(..., log=True) instead.\n",
            "  'reg_alpha':        trial.suggest_loguniform('reg_alpha', 1e-8, 10.0),\n",
            "<ipython-input-48-54d882b388f3>:15: FutureWarning: suggest_loguniform has been deprecated in v3.0.0. This feature will be removed in v6.0.0. See https://github.com/optuna/optuna/releases/tag/v3.0.0. Use suggest_float(..., log=True) instead.\n",
            "  'reg_lambda':       trial.suggest_loguniform('reg_lambda', 1e-8, 10.0),\n",
            "/usr/local/lib/python3.11/dist-packages/sklearn/utils/deprecation.py:151: FutureWarning: 'force_all_finite' was renamed to 'ensure_all_finite' in 1.6 and will be removed in 1.8.\n",
            "  warnings.warn(\n"
          ]
        },
        {
          "name": "stdout",
          "output_type": "stream",
          "text": [
            "Training until validation scores don't improve for 50 rounds\n",
            "Did not meet early stopping. Best iteration is:\n",
            "[1002]\tvalid_0's l2: 0.0312132\n"
          ]
        },
        {
          "name": "stderr",
          "output_type": "stream",
          "text": [
            "/usr/local/lib/python3.11/dist-packages/sklearn/utils/deprecation.py:151: FutureWarning: 'force_all_finite' was renamed to 'ensure_all_finite' in 1.6 and will be removed in 1.8.\n",
            "  warnings.warn(\n"
          ]
        },
        {
          "name": "stdout",
          "output_type": "stream",
          "text": [
            "[I 2025-06-10 15:00:54,333] Trial 17 finished with value: 0.9736194263987785 and parameters: {'n_estimators': 1004, 'learning_rate': 0.024284964365500365, 'num_leaves': 160, 'max_depth': 22, 'subsample': 0.9727074123990586, 'colsample_bytree': 0.535353459032049, 'reg_alpha': 1.883485435708504e-07, 'reg_lambda': 0.43805601313151576, 'min_child_weight': 3}. Best is trial 13 with value: 0.9755481138562964.\n"
          ]
        },
        {
          "name": "stderr",
          "output_type": "stream",
          "text": [
            "<ipython-input-48-54d882b388f3>:9: FutureWarning: suggest_loguniform has been deprecated in v3.0.0. This feature will be removed in v6.0.0. See https://github.com/optuna/optuna/releases/tag/v3.0.0. Use suggest_float(..., log=True) instead.\n",
            "  'learning_rate':    trial.suggest_loguniform('learning_rate', 1e-3, 1e-1),\n",
            "<ipython-input-48-54d882b388f3>:12: FutureWarning: suggest_uniform has been deprecated in v3.0.0. This feature will be removed in v6.0.0. See https://github.com/optuna/optuna/releases/tag/v3.0.0. Use suggest_float instead.\n",
            "  'subsample':        trial.suggest_uniform('subsample', 0.5, 1.0),\n",
            "<ipython-input-48-54d882b388f3>:13: FutureWarning: suggest_uniform has been deprecated in v3.0.0. This feature will be removed in v6.0.0. See https://github.com/optuna/optuna/releases/tag/v3.0.0. Use suggest_float instead.\n",
            "  'colsample_bytree': trial.suggest_uniform('colsample_bytree', 0.5, 1.0),\n",
            "<ipython-input-48-54d882b388f3>:14: FutureWarning: suggest_loguniform has been deprecated in v3.0.0. This feature will be removed in v6.0.0. See https://github.com/optuna/optuna/releases/tag/v3.0.0. Use suggest_float(..., log=True) instead.\n",
            "  'reg_alpha':        trial.suggest_loguniform('reg_alpha', 1e-8, 10.0),\n",
            "<ipython-input-48-54d882b388f3>:15: FutureWarning: suggest_loguniform has been deprecated in v3.0.0. This feature will be removed in v6.0.0. See https://github.com/optuna/optuna/releases/tag/v3.0.0. Use suggest_float(..., log=True) instead.\n",
            "  'reg_lambda':       trial.suggest_loguniform('reg_lambda', 1e-8, 10.0),\n",
            "/usr/local/lib/python3.11/dist-packages/sklearn/utils/deprecation.py:151: FutureWarning: 'force_all_finite' was renamed to 'ensure_all_finite' in 1.6 and will be removed in 1.8.\n",
            "  warnings.warn(\n"
          ]
        },
        {
          "name": "stdout",
          "output_type": "stream",
          "text": [
            "Training until validation scores don't improve for 50 rounds\n",
            "Did not meet early stopping. Best iteration is:\n",
            "[519]\tvalid_0's l2: 0.0364097\n"
          ]
        },
        {
          "name": "stderr",
          "output_type": "stream",
          "text": [
            "/usr/local/lib/python3.11/dist-packages/sklearn/utils/deprecation.py:151: FutureWarning: 'force_all_finite' was renamed to 'ensure_all_finite' in 1.6 and will be removed in 1.8.\n",
            "  warnings.warn(\n"
          ]
        },
        {
          "name": "stdout",
          "output_type": "stream",
          "text": [
            "[I 2025-06-10 15:01:22,592] Trial 18 finished with value: 0.9692275245968921 and parameters: {'n_estimators': 519, 'learning_rate': 0.049547701872147076, 'num_leaves': 221, 'max_depth': 8, 'subsample': 0.9367676555508806, 'colsample_bytree': 0.6597110775618025, 'reg_alpha': 5.046107593632263e-05, 'reg_lambda': 0.01636969078958114, 'min_child_weight': 15}. Best is trial 13 with value: 0.9755481138562964.\n"
          ]
        },
        {
          "name": "stderr",
          "output_type": "stream",
          "text": [
            "<ipython-input-48-54d882b388f3>:9: FutureWarning: suggest_loguniform has been deprecated in v3.0.0. This feature will be removed in v6.0.0. See https://github.com/optuna/optuna/releases/tag/v3.0.0. Use suggest_float(..., log=True) instead.\n",
            "  'learning_rate':    trial.suggest_loguniform('learning_rate', 1e-3, 1e-1),\n",
            "<ipython-input-48-54d882b388f3>:12: FutureWarning: suggest_uniform has been deprecated in v3.0.0. This feature will be removed in v6.0.0. See https://github.com/optuna/optuna/releases/tag/v3.0.0. Use suggest_float instead.\n",
            "  'subsample':        trial.suggest_uniform('subsample', 0.5, 1.0),\n",
            "<ipython-input-48-54d882b388f3>:13: FutureWarning: suggest_uniform has been deprecated in v3.0.0. This feature will be removed in v6.0.0. See https://github.com/optuna/optuna/releases/tag/v3.0.0. Use suggest_float instead.\n",
            "  'colsample_bytree': trial.suggest_uniform('colsample_bytree', 0.5, 1.0),\n",
            "<ipython-input-48-54d882b388f3>:14: FutureWarning: suggest_loguniform has been deprecated in v3.0.0. This feature will be removed in v6.0.0. See https://github.com/optuna/optuna/releases/tag/v3.0.0. Use suggest_float(..., log=True) instead.\n",
            "  'reg_alpha':        trial.suggest_loguniform('reg_alpha', 1e-8, 10.0),\n",
            "<ipython-input-48-54d882b388f3>:15: FutureWarning: suggest_loguniform has been deprecated in v3.0.0. This feature will be removed in v6.0.0. See https://github.com/optuna/optuna/releases/tag/v3.0.0. Use suggest_float(..., log=True) instead.\n",
            "  'reg_lambda':       trial.suggest_loguniform('reg_lambda', 1e-8, 10.0),\n",
            "/usr/local/lib/python3.11/dist-packages/sklearn/utils/deprecation.py:151: FutureWarning: 'force_all_finite' was renamed to 'ensure_all_finite' in 1.6 and will be removed in 1.8.\n",
            "  warnings.warn(\n"
          ]
        },
        {
          "name": "stdout",
          "output_type": "stream",
          "text": [
            "Training until validation scores don't improve for 50 rounds\n",
            "Did not meet early stopping. Best iteration is:\n",
            "[795]\tvalid_0's l2: 0.0317455\n"
          ]
        },
        {
          "name": "stderr",
          "output_type": "stream",
          "text": [
            "/usr/local/lib/python3.11/dist-packages/sklearn/utils/deprecation.py:151: FutureWarning: 'force_all_finite' was renamed to 'ensure_all_finite' in 1.6 and will be removed in 1.8.\n",
            "  warnings.warn(\n"
          ]
        },
        {
          "name": "stdout",
          "output_type": "stream",
          "text": [
            "[I 2025-06-10 15:02:28,942] Trial 19 finished with value: 0.9731695532504687 and parameters: {'n_estimators': 795, 'learning_rate': 0.032256759417391236, 'num_leaves': 256, 'max_depth': 17, 'subsample': 0.9962421048819413, 'colsample_bytree': 0.8067367192310371, 'reg_alpha': 2.2661797086011207e-06, 'reg_lambda': 1.5164648943847518, 'min_child_weight': 25}. Best is trial 13 with value: 0.9755481138562964.\n"
          ]
        },
        {
          "name": "stderr",
          "output_type": "stream",
          "text": [
            "<ipython-input-48-54d882b388f3>:9: FutureWarning: suggest_loguniform has been deprecated in v3.0.0. This feature will be removed in v6.0.0. See https://github.com/optuna/optuna/releases/tag/v3.0.0. Use suggest_float(..., log=True) instead.\n",
            "  'learning_rate':    trial.suggest_loguniform('learning_rate', 1e-3, 1e-1),\n",
            "<ipython-input-48-54d882b388f3>:12: FutureWarning: suggest_uniform has been deprecated in v3.0.0. This feature will be removed in v6.0.0. See https://github.com/optuna/optuna/releases/tag/v3.0.0. Use suggest_float instead.\n",
            "  'subsample':        trial.suggest_uniform('subsample', 0.5, 1.0),\n",
            "<ipython-input-48-54d882b388f3>:13: FutureWarning: suggest_uniform has been deprecated in v3.0.0. This feature will be removed in v6.0.0. See https://github.com/optuna/optuna/releases/tag/v3.0.0. Use suggest_float instead.\n",
            "  'colsample_bytree': trial.suggest_uniform('colsample_bytree', 0.5, 1.0),\n",
            "<ipython-input-48-54d882b388f3>:14: FutureWarning: suggest_loguniform has been deprecated in v3.0.0. This feature will be removed in v6.0.0. See https://github.com/optuna/optuna/releases/tag/v3.0.0. Use suggest_float(..., log=True) instead.\n",
            "  'reg_alpha':        trial.suggest_loguniform('reg_alpha', 1e-8, 10.0),\n",
            "<ipython-input-48-54d882b388f3>:15: FutureWarning: suggest_loguniform has been deprecated in v3.0.0. This feature will be removed in v6.0.0. See https://github.com/optuna/optuna/releases/tag/v3.0.0. Use suggest_float(..., log=True) instead.\n",
            "  'reg_lambda':       trial.suggest_loguniform('reg_lambda', 1e-8, 10.0),\n",
            "/usr/local/lib/python3.11/dist-packages/sklearn/utils/deprecation.py:151: FutureWarning: 'force_all_finite' was renamed to 'ensure_all_finite' in 1.6 and will be removed in 1.8.\n",
            "  warnings.warn(\n"
          ]
        },
        {
          "name": "stdout",
          "output_type": "stream",
          "text": [
            "Training until validation scores don't improve for 50 rounds\n",
            "Did not meet early stopping. Best iteration is:\n",
            "[1027]\tvalid_0's l2: 0.0345026\n"
          ]
        },
        {
          "name": "stderr",
          "output_type": "stream",
          "text": [
            "/usr/local/lib/python3.11/dist-packages/sklearn/utils/deprecation.py:151: FutureWarning: 'force_all_finite' was renamed to 'ensure_all_finite' in 1.6 and will be removed in 1.8.\n",
            "  warnings.warn(\n"
          ]
        },
        {
          "name": "stdout",
          "output_type": "stream",
          "text": [
            "[I 2025-06-10 15:04:25,529] Trial 20 finished with value: 0.9708393078490946 and parameters: {'n_estimators': 1027, 'learning_rate': 0.008908865774298582, 'num_leaves': 206, 'max_depth': 27, 'subsample': 0.8954201355947429, 'colsample_bytree': 0.8944658940639106, 'reg_alpha': 0.00023941271269757496, 'reg_lambda': 0.013543752274122139, 'min_child_weight': 6}. Best is trial 13 with value: 0.9755481138562964.\n"
          ]
        },
        {
          "name": "stderr",
          "output_type": "stream",
          "text": [
            "<ipython-input-48-54d882b388f3>:9: FutureWarning: suggest_loguniform has been deprecated in v3.0.0. This feature will be removed in v6.0.0. See https://github.com/optuna/optuna/releases/tag/v3.0.0. Use suggest_float(..., log=True) instead.\n",
            "  'learning_rate':    trial.suggest_loguniform('learning_rate', 1e-3, 1e-1),\n",
            "<ipython-input-48-54d882b388f3>:12: FutureWarning: suggest_uniform has been deprecated in v3.0.0. This feature will be removed in v6.0.0. See https://github.com/optuna/optuna/releases/tag/v3.0.0. Use suggest_float instead.\n",
            "  'subsample':        trial.suggest_uniform('subsample', 0.5, 1.0),\n",
            "<ipython-input-48-54d882b388f3>:13: FutureWarning: suggest_uniform has been deprecated in v3.0.0. This feature will be removed in v6.0.0. See https://github.com/optuna/optuna/releases/tag/v3.0.0. Use suggest_float instead.\n",
            "  'colsample_bytree': trial.suggest_uniform('colsample_bytree', 0.5, 1.0),\n",
            "<ipython-input-48-54d882b388f3>:14: FutureWarning: suggest_loguniform has been deprecated in v3.0.0. This feature will be removed in v6.0.0. See https://github.com/optuna/optuna/releases/tag/v3.0.0. Use suggest_float(..., log=True) instead.\n",
            "  'reg_alpha':        trial.suggest_loguniform('reg_alpha', 1e-8, 10.0),\n",
            "<ipython-input-48-54d882b388f3>:15: FutureWarning: suggest_loguniform has been deprecated in v3.0.0. This feature will be removed in v6.0.0. See https://github.com/optuna/optuna/releases/tag/v3.0.0. Use suggest_float(..., log=True) instead.\n",
            "  'reg_lambda':       trial.suggest_loguniform('reg_lambda', 1e-8, 10.0),\n",
            "/usr/local/lib/python3.11/dist-packages/sklearn/utils/deprecation.py:151: FutureWarning: 'force_all_finite' was renamed to 'ensure_all_finite' in 1.6 and will be removed in 1.8.\n",
            "  warnings.warn(\n"
          ]
        },
        {
          "name": "stdout",
          "output_type": "stream",
          "text": [
            "Training until validation scores don't improve for 50 rounds\n",
            "Did not meet early stopping. Best iteration is:\n",
            "[893]\tvalid_0's l2: 0.0295851\n"
          ]
        },
        {
          "name": "stderr",
          "output_type": "stream",
          "text": [
            "/usr/local/lib/python3.11/dist-packages/sklearn/utils/deprecation.py:151: FutureWarning: 'force_all_finite' was renamed to 'ensure_all_finite' in 1.6 and will be removed in 1.8.\n",
            "  warnings.warn(\n"
          ]
        },
        {
          "name": "stdout",
          "output_type": "stream",
          "text": [
            "[I 2025-06-10 15:05:55,018] Trial 21 finished with value: 0.9749954893204756 and parameters: {'n_estimators': 893, 'learning_rate': 0.04748410700073156, 'num_leaves': 197, 'max_depth': 23, 'subsample': 0.94265367738507, 'colsample_bytree': 0.618882890281446, 'reg_alpha': 1.8045724845963024e-05, 'reg_lambda': 0.05970080490364696, 'min_child_weight': 10}. Best is trial 13 with value: 0.9755481138562964.\n"
          ]
        },
        {
          "name": "stderr",
          "output_type": "stream",
          "text": [
            "<ipython-input-48-54d882b388f3>:9: FutureWarning: suggest_loguniform has been deprecated in v3.0.0. This feature will be removed in v6.0.0. See https://github.com/optuna/optuna/releases/tag/v3.0.0. Use suggest_float(..., log=True) instead.\n",
            "  'learning_rate':    trial.suggest_loguniform('learning_rate', 1e-3, 1e-1),\n",
            "<ipython-input-48-54d882b388f3>:12: FutureWarning: suggest_uniform has been deprecated in v3.0.0. This feature will be removed in v6.0.0. See https://github.com/optuna/optuna/releases/tag/v3.0.0. Use suggest_float instead.\n",
            "  'subsample':        trial.suggest_uniform('subsample', 0.5, 1.0),\n",
            "<ipython-input-48-54d882b388f3>:13: FutureWarning: suggest_uniform has been deprecated in v3.0.0. This feature will be removed in v6.0.0. See https://github.com/optuna/optuna/releases/tag/v3.0.0. Use suggest_float instead.\n",
            "  'colsample_bytree': trial.suggest_uniform('colsample_bytree', 0.5, 1.0),\n",
            "<ipython-input-48-54d882b388f3>:14: FutureWarning: suggest_loguniform has been deprecated in v3.0.0. This feature will be removed in v6.0.0. See https://github.com/optuna/optuna/releases/tag/v3.0.0. Use suggest_float(..., log=True) instead.\n",
            "  'reg_alpha':        trial.suggest_loguniform('reg_alpha', 1e-8, 10.0),\n",
            "<ipython-input-48-54d882b388f3>:15: FutureWarning: suggest_loguniform has been deprecated in v3.0.0. This feature will be removed in v6.0.0. See https://github.com/optuna/optuna/releases/tag/v3.0.0. Use suggest_float(..., log=True) instead.\n",
            "  'reg_lambda':       trial.suggest_loguniform('reg_lambda', 1e-8, 10.0),\n",
            "/usr/local/lib/python3.11/dist-packages/sklearn/utils/deprecation.py:151: FutureWarning: 'force_all_finite' was renamed to 'ensure_all_finite' in 1.6 and will be removed in 1.8.\n",
            "  warnings.warn(\n"
          ]
        },
        {
          "name": "stdout",
          "output_type": "stream",
          "text": [
            "Training until validation scores don't improve for 50 rounds\n",
            "Did not meet early stopping. Best iteration is:\n",
            "[588]\tvalid_0's l2: 0.0299813\n"
          ]
        },
        {
          "name": "stderr",
          "output_type": "stream",
          "text": [
            "/usr/local/lib/python3.11/dist-packages/sklearn/utils/deprecation.py:151: FutureWarning: 'force_all_finite' was renamed to 'ensure_all_finite' in 1.6 and will be removed in 1.8.\n",
            "  warnings.warn(\n"
          ]
        },
        {
          "name": "stdout",
          "output_type": "stream",
          "text": [
            "[I 2025-06-10 15:06:50,419] Trial 22 finished with value: 0.9746605862707889 and parameters: {'n_estimators': 602, 'learning_rate': 0.09955694604326693, 'num_leaves': 234, 'max_depth': 23, 'subsample': 0.9596509080821475, 'colsample_bytree': 0.7078482126416195, 'reg_alpha': 7.731369728474712e-06, 'reg_lambda': 0.05139387840721919, 'min_child_weight': 8}. Best is trial 13 with value: 0.9755481138562964.\n"
          ]
        },
        {
          "name": "stderr",
          "output_type": "stream",
          "text": [
            "<ipython-input-48-54d882b388f3>:9: FutureWarning: suggest_loguniform has been deprecated in v3.0.0. This feature will be removed in v6.0.0. See https://github.com/optuna/optuna/releases/tag/v3.0.0. Use suggest_float(..., log=True) instead.\n",
            "  'learning_rate':    trial.suggest_loguniform('learning_rate', 1e-3, 1e-1),\n",
            "<ipython-input-48-54d882b388f3>:12: FutureWarning: suggest_uniform has been deprecated in v3.0.0. This feature will be removed in v6.0.0. See https://github.com/optuna/optuna/releases/tag/v3.0.0. Use suggest_float instead.\n",
            "  'subsample':        trial.suggest_uniform('subsample', 0.5, 1.0),\n",
            "<ipython-input-48-54d882b388f3>:13: FutureWarning: suggest_uniform has been deprecated in v3.0.0. This feature will be removed in v6.0.0. See https://github.com/optuna/optuna/releases/tag/v3.0.0. Use suggest_float instead.\n",
            "  'colsample_bytree': trial.suggest_uniform('colsample_bytree', 0.5, 1.0),\n",
            "<ipython-input-48-54d882b388f3>:14: FutureWarning: suggest_loguniform has been deprecated in v3.0.0. This feature will be removed in v6.0.0. See https://github.com/optuna/optuna/releases/tag/v3.0.0. Use suggest_float(..., log=True) instead.\n",
            "  'reg_alpha':        trial.suggest_loguniform('reg_alpha', 1e-8, 10.0),\n",
            "<ipython-input-48-54d882b388f3>:15: FutureWarning: suggest_loguniform has been deprecated in v3.0.0. This feature will be removed in v6.0.0. See https://github.com/optuna/optuna/releases/tag/v3.0.0. Use suggest_float(..., log=True) instead.\n",
            "  'reg_lambda':       trial.suggest_loguniform('reg_lambda', 1e-8, 10.0),\n",
            "/usr/local/lib/python3.11/dist-packages/sklearn/utils/deprecation.py:151: FutureWarning: 'force_all_finite' was renamed to 'ensure_all_finite' in 1.6 and will be removed in 1.8.\n",
            "  warnings.warn(\n"
          ]
        },
        {
          "name": "stdout",
          "output_type": "stream",
          "text": [
            "Training until validation scores don't improve for 50 rounds\n",
            "Did not meet early stopping. Best iteration is:\n",
            "[940]\tvalid_0's l2: 0.0295825\n"
          ]
        },
        {
          "name": "stderr",
          "output_type": "stream",
          "text": [
            "/usr/local/lib/python3.11/dist-packages/sklearn/utils/deprecation.py:151: FutureWarning: 'force_all_finite' was renamed to 'ensure_all_finite' in 1.6 and will be removed in 1.8.\n",
            "  warnings.warn(\n"
          ]
        },
        {
          "name": "stdout",
          "output_type": "stream",
          "text": [
            "[I 2025-06-10 15:08:08,387] Trial 23 finished with value: 0.9749976689028361 and parameters: {'n_estimators': 941, 'learning_rate': 0.05834865271301928, 'num_leaves': 171, 'max_depth': 19, 'subsample': 0.9251954339576647, 'colsample_bytree': 0.6254312545738251, 'reg_alpha': 0.00010346296274784716, 'reg_lambda': 0.00016213989100974269, 'min_child_weight': 15}. Best is trial 13 with value: 0.9755481138562964.\n"
          ]
        },
        {
          "name": "stderr",
          "output_type": "stream",
          "text": [
            "<ipython-input-48-54d882b388f3>:9: FutureWarning: suggest_loguniform has been deprecated in v3.0.0. This feature will be removed in v6.0.0. See https://github.com/optuna/optuna/releases/tag/v3.0.0. Use suggest_float(..., log=True) instead.\n",
            "  'learning_rate':    trial.suggest_loguniform('learning_rate', 1e-3, 1e-1),\n",
            "<ipython-input-48-54d882b388f3>:12: FutureWarning: suggest_uniform has been deprecated in v3.0.0. This feature will be removed in v6.0.0. See https://github.com/optuna/optuna/releases/tag/v3.0.0. Use suggest_float instead.\n",
            "  'subsample':        trial.suggest_uniform('subsample', 0.5, 1.0),\n",
            "<ipython-input-48-54d882b388f3>:13: FutureWarning: suggest_uniform has been deprecated in v3.0.0. This feature will be removed in v6.0.0. See https://github.com/optuna/optuna/releases/tag/v3.0.0. Use suggest_float instead.\n",
            "  'colsample_bytree': trial.suggest_uniform('colsample_bytree', 0.5, 1.0),\n",
            "<ipython-input-48-54d882b388f3>:14: FutureWarning: suggest_loguniform has been deprecated in v3.0.0. This feature will be removed in v6.0.0. See https://github.com/optuna/optuna/releases/tag/v3.0.0. Use suggest_float(..., log=True) instead.\n",
            "  'reg_alpha':        trial.suggest_loguniform('reg_alpha', 1e-8, 10.0),\n",
            "<ipython-input-48-54d882b388f3>:15: FutureWarning: suggest_loguniform has been deprecated in v3.0.0. This feature will be removed in v6.0.0. See https://github.com/optuna/optuna/releases/tag/v3.0.0. Use suggest_float(..., log=True) instead.\n",
            "  'reg_lambda':       trial.suggest_loguniform('reg_lambda', 1e-8, 10.0),\n",
            "/usr/local/lib/python3.11/dist-packages/sklearn/utils/deprecation.py:151: FutureWarning: 'force_all_finite' was renamed to 'ensure_all_finite' in 1.6 and will be removed in 1.8.\n",
            "  warnings.warn(\n"
          ]
        },
        {
          "name": "stdout",
          "output_type": "stream",
          "text": [
            "Training until validation scores don't improve for 50 rounds\n",
            "Did not meet early stopping. Best iteration is:\n",
            "[1074]\tvalid_0's l2: 0.0292816\n"
          ]
        },
        {
          "name": "stderr",
          "output_type": "stream",
          "text": [
            "/usr/local/lib/python3.11/dist-packages/sklearn/utils/deprecation.py:151: FutureWarning: 'force_all_finite' was renamed to 'ensure_all_finite' in 1.6 and will be removed in 1.8.\n",
            "  warnings.warn(\n"
          ]
        },
        {
          "name": "stdout",
          "output_type": "stream",
          "text": [
            "[I 2025-06-10 15:10:11,096] Trial 24 finished with value: 0.9752519737581392 and parameters: {'n_estimators': 1074, 'learning_rate': 0.06490194670341574, 'num_leaves': 162, 'max_depth': 17, 'subsample': 0.8559342012907967, 'colsample_bytree': 0.5626013802913276, 'reg_alpha': 0.00015695944245758207, 'reg_lambda': 0.0001463122199181873, 'min_child_weight': 14}. Best is trial 13 with value: 0.9755481138562964.\n"
          ]
        },
        {
          "name": "stderr",
          "output_type": "stream",
          "text": [
            "<ipython-input-48-54d882b388f3>:9: FutureWarning: suggest_loguniform has been deprecated in v3.0.0. This feature will be removed in v6.0.0. See https://github.com/optuna/optuna/releases/tag/v3.0.0. Use suggest_float(..., log=True) instead.\n",
            "  'learning_rate':    trial.suggest_loguniform('learning_rate', 1e-3, 1e-1),\n",
            "<ipython-input-48-54d882b388f3>:12: FutureWarning: suggest_uniform has been deprecated in v3.0.0. This feature will be removed in v6.0.0. See https://github.com/optuna/optuna/releases/tag/v3.0.0. Use suggest_float instead.\n",
            "  'subsample':        trial.suggest_uniform('subsample', 0.5, 1.0),\n",
            "<ipython-input-48-54d882b388f3>:13: FutureWarning: suggest_uniform has been deprecated in v3.0.0. This feature will be removed in v6.0.0. See https://github.com/optuna/optuna/releases/tag/v3.0.0. Use suggest_float instead.\n",
            "  'colsample_bytree': trial.suggest_uniform('colsample_bytree', 0.5, 1.0),\n",
            "<ipython-input-48-54d882b388f3>:14: FutureWarning: suggest_loguniform has been deprecated in v3.0.0. This feature will be removed in v6.0.0. See https://github.com/optuna/optuna/releases/tag/v3.0.0. Use suggest_float(..., log=True) instead.\n",
            "  'reg_alpha':        trial.suggest_loguniform('reg_alpha', 1e-8, 10.0),\n",
            "<ipython-input-48-54d882b388f3>:15: FutureWarning: suggest_loguniform has been deprecated in v3.0.0. This feature will be removed in v6.0.0. See https://github.com/optuna/optuna/releases/tag/v3.0.0. Use suggest_float(..., log=True) instead.\n",
            "  'reg_lambda':       trial.suggest_loguniform('reg_lambda', 1e-8, 10.0),\n",
            "/usr/local/lib/python3.11/dist-packages/sklearn/utils/deprecation.py:151: FutureWarning: 'force_all_finite' was renamed to 'ensure_all_finite' in 1.6 and will be removed in 1.8.\n",
            "  warnings.warn(\n"
          ]
        },
        {
          "name": "stdout",
          "output_type": "stream",
          "text": [
            "Training until validation scores don't improve for 50 rounds\n",
            "Did not meet early stopping. Best iteration is:\n",
            "[1152]\tvalid_0's l2: 0.0287338\n"
          ]
        },
        {
          "name": "stderr",
          "output_type": "stream",
          "text": [
            "/usr/local/lib/python3.11/dist-packages/sklearn/utils/deprecation.py:151: FutureWarning: 'force_all_finite' was renamed to 'ensure_all_finite' in 1.6 and will be removed in 1.8.\n",
            "  warnings.warn(\n"
          ]
        },
        {
          "name": "stdout",
          "output_type": "stream",
          "text": [
            "[I 2025-06-10 15:12:29,045] Trial 25 finished with value: 0.975714953550876 and parameters: {'n_estimators': 1165, 'learning_rate': 0.06555964500796287, 'num_leaves': 162, 'max_depth': 18, 'subsample': 0.8642338819071332, 'colsample_bytree': 0.5520540488251534, 'reg_alpha': 0.00015346592557518072, 'reg_lambda': 9.94216540977995e-05, 'min_child_weight': 16}. Best is trial 25 with value: 0.975714953550876.\n"
          ]
        },
        {
          "name": "stderr",
          "output_type": "stream",
          "text": [
            "<ipython-input-48-54d882b388f3>:9: FutureWarning: suggest_loguniform has been deprecated in v3.0.0. This feature will be removed in v6.0.0. See https://github.com/optuna/optuna/releases/tag/v3.0.0. Use suggest_float(..., log=True) instead.\n",
            "  'learning_rate':    trial.suggest_loguniform('learning_rate', 1e-3, 1e-1),\n",
            "<ipython-input-48-54d882b388f3>:12: FutureWarning: suggest_uniform has been deprecated in v3.0.0. This feature will be removed in v6.0.0. See https://github.com/optuna/optuna/releases/tag/v3.0.0. Use suggest_float instead.\n",
            "  'subsample':        trial.suggest_uniform('subsample', 0.5, 1.0),\n",
            "<ipython-input-48-54d882b388f3>:13: FutureWarning: suggest_uniform has been deprecated in v3.0.0. This feature will be removed in v6.0.0. See https://github.com/optuna/optuna/releases/tag/v3.0.0. Use suggest_float instead.\n",
            "  'colsample_bytree': trial.suggest_uniform('colsample_bytree', 0.5, 1.0),\n",
            "<ipython-input-48-54d882b388f3>:14: FutureWarning: suggest_loguniform has been deprecated in v3.0.0. This feature will be removed in v6.0.0. See https://github.com/optuna/optuna/releases/tag/v3.0.0. Use suggest_float(..., log=True) instead.\n",
            "  'reg_alpha':        trial.suggest_loguniform('reg_alpha', 1e-8, 10.0),\n",
            "<ipython-input-48-54d882b388f3>:15: FutureWarning: suggest_loguniform has been deprecated in v3.0.0. This feature will be removed in v6.0.0. See https://github.com/optuna/optuna/releases/tag/v3.0.0. Use suggest_float(..., log=True) instead.\n",
            "  'reg_lambda':       trial.suggest_loguniform('reg_lambda', 1e-8, 10.0),\n",
            "/usr/local/lib/python3.11/dist-packages/sklearn/utils/deprecation.py:151: FutureWarning: 'force_all_finite' was renamed to 'ensure_all_finite' in 1.6 and will be removed in 1.8.\n",
            "  warnings.warn(\n"
          ]
        },
        {
          "name": "stdout",
          "output_type": "stream",
          "text": [
            "Training until validation scores don't improve for 50 rounds\n",
            "Did not meet early stopping. Best iteration is:\n",
            "[1139]\tvalid_0's l2: 0.0325263\n"
          ]
        },
        {
          "name": "stderr",
          "output_type": "stream",
          "text": [
            "/usr/local/lib/python3.11/dist-packages/sklearn/utils/deprecation.py:151: FutureWarning: 'force_all_finite' was renamed to 'ensure_all_finite' in 1.6 and will be removed in 1.8.\n",
            "  warnings.warn(\n"
          ]
        },
        {
          "name": "stdout",
          "output_type": "stream",
          "text": [
            "[I 2025-06-10 15:14:46,668] Trial 26 finished with value: 0.9725096516808814 and parameters: {'n_estimators': 1139, 'learning_rate': 0.02018160885159541, 'num_leaves': 144, 'max_depth': 16, 'subsample': 0.8432470064482128, 'colsample_bytree': 0.5023885812065118, 'reg_alpha': 0.0010756464950973455, 'reg_lambda': 5.197700721560577e-06, 'min_child_weight': 22}. Best is trial 25 with value: 0.975714953550876.\n"
          ]
        },
        {
          "name": "stderr",
          "output_type": "stream",
          "text": [
            "<ipython-input-48-54d882b388f3>:9: FutureWarning: suggest_loguniform has been deprecated in v3.0.0. This feature will be removed in v6.0.0. See https://github.com/optuna/optuna/releases/tag/v3.0.0. Use suggest_float(..., log=True) instead.\n",
            "  'learning_rate':    trial.suggest_loguniform('learning_rate', 1e-3, 1e-1),\n",
            "<ipython-input-48-54d882b388f3>:12: FutureWarning: suggest_uniform has been deprecated in v3.0.0. This feature will be removed in v6.0.0. See https://github.com/optuna/optuna/releases/tag/v3.0.0. Use suggest_float instead.\n",
            "  'subsample':        trial.suggest_uniform('subsample', 0.5, 1.0),\n",
            "<ipython-input-48-54d882b388f3>:13: FutureWarning: suggest_uniform has been deprecated in v3.0.0. This feature will be removed in v6.0.0. See https://github.com/optuna/optuna/releases/tag/v3.0.0. Use suggest_float instead.\n",
            "  'colsample_bytree': trial.suggest_uniform('colsample_bytree', 0.5, 1.0),\n",
            "<ipython-input-48-54d882b388f3>:14: FutureWarning: suggest_loguniform has been deprecated in v3.0.0. This feature will be removed in v6.0.0. See https://github.com/optuna/optuna/releases/tag/v3.0.0. Use suggest_float(..., log=True) instead.\n",
            "  'reg_alpha':        trial.suggest_loguniform('reg_alpha', 1e-8, 10.0),\n",
            "<ipython-input-48-54d882b388f3>:15: FutureWarning: suggest_loguniform has been deprecated in v3.0.0. This feature will be removed in v6.0.0. See https://github.com/optuna/optuna/releases/tag/v3.0.0. Use suggest_float(..., log=True) instead.\n",
            "  'reg_lambda':       trial.suggest_loguniform('reg_lambda', 1e-8, 10.0),\n",
            "/usr/local/lib/python3.11/dist-packages/sklearn/utils/deprecation.py:151: FutureWarning: 'force_all_finite' was renamed to 'ensure_all_finite' in 1.6 and will be removed in 1.8.\n",
            "  warnings.warn(\n"
          ]
        },
        {
          "name": "stdout",
          "output_type": "stream",
          "text": [
            "Training until validation scores don't improve for 50 rounds\n",
            "Did not meet early stopping. Best iteration is:\n",
            "[1533]\tvalid_0's l2: 0.0293729\n"
          ]
        },
        {
          "name": "stderr",
          "output_type": "stream",
          "text": [
            "/usr/local/lib/python3.11/dist-packages/sklearn/utils/deprecation.py:151: FutureWarning: 'force_all_finite' was renamed to 'ensure_all_finite' in 1.6 and will be removed in 1.8.\n",
            "  warnings.warn(\n"
          ]
        },
        {
          "name": "stdout",
          "output_type": "stream",
          "text": [
            "[I 2025-06-10 15:17:15,302] Trial 27 finished with value: 0.9751747887297041 and parameters: {'n_estimators': 1533, 'learning_rate': 0.07301040450663224, 'num_leaves': 134, 'max_depth': 11, 'subsample': 0.7965807989705596, 'colsample_bytree': 0.5608197885935229, 'reg_alpha': 0.022719475735294488, 'reg_lambda': 1.2980263486213473e-05, 'min_child_weight': 15}. Best is trial 25 with value: 0.975714953550876.\n"
          ]
        },
        {
          "name": "stderr",
          "output_type": "stream",
          "text": [
            "<ipython-input-48-54d882b388f3>:9: FutureWarning: suggest_loguniform has been deprecated in v3.0.0. This feature will be removed in v6.0.0. See https://github.com/optuna/optuna/releases/tag/v3.0.0. Use suggest_float(..., log=True) instead.\n",
            "  'learning_rate':    trial.suggest_loguniform('learning_rate', 1e-3, 1e-1),\n",
            "<ipython-input-48-54d882b388f3>:12: FutureWarning: suggest_uniform has been deprecated in v3.0.0. This feature will be removed in v6.0.0. See https://github.com/optuna/optuna/releases/tag/v3.0.0. Use suggest_float instead.\n",
            "  'subsample':        trial.suggest_uniform('subsample', 0.5, 1.0),\n",
            "<ipython-input-48-54d882b388f3>:13: FutureWarning: suggest_uniform has been deprecated in v3.0.0. This feature will be removed in v6.0.0. See https://github.com/optuna/optuna/releases/tag/v3.0.0. Use suggest_float instead.\n",
            "  'colsample_bytree': trial.suggest_uniform('colsample_bytree', 0.5, 1.0),\n",
            "<ipython-input-48-54d882b388f3>:14: FutureWarning: suggest_loguniform has been deprecated in v3.0.0. This feature will be removed in v6.0.0. See https://github.com/optuna/optuna/releases/tag/v3.0.0. Use suggest_float(..., log=True) instead.\n",
            "  'reg_alpha':        trial.suggest_loguniform('reg_alpha', 1e-8, 10.0),\n",
            "<ipython-input-48-54d882b388f3>:15: FutureWarning: suggest_loguniform has been deprecated in v3.0.0. This feature will be removed in v6.0.0. See https://github.com/optuna/optuna/releases/tag/v3.0.0. Use suggest_float(..., log=True) instead.\n",
            "  'reg_lambda':       trial.suggest_loguniform('reg_lambda', 1e-8, 10.0),\n",
            "/usr/local/lib/python3.11/dist-packages/sklearn/utils/deprecation.py:151: FutureWarning: 'force_all_finite' was renamed to 'ensure_all_finite' in 1.6 and will be removed in 1.8.\n",
            "  warnings.warn(\n"
          ]
        },
        {
          "name": "stdout",
          "output_type": "stream",
          "text": [
            "Training until validation scores don't improve for 50 rounds\n",
            "Did not meet early stopping. Best iteration is:\n",
            "[335]\tvalid_0's l2: 0.0329382\n"
          ]
        },
        {
          "name": "stderr",
          "output_type": "stream",
          "text": [
            "/usr/local/lib/python3.11/dist-packages/sklearn/utils/deprecation.py:151: FutureWarning: 'force_all_finite' was renamed to 'ensure_all_finite' in 1.6 and will be removed in 1.8.\n",
            "  warnings.warn(\n"
          ]
        },
        {
          "name": "stdout",
          "output_type": "stream",
          "text": [
            "[I 2025-06-10 15:17:57,771] Trial 28 finished with value: 0.9721614959789052 and parameters: {'n_estimators': 335, 'learning_rate': 0.07167202329118455, 'num_leaves': 149, 'max_depth': 15, 'subsample': 0.789836287473247, 'colsample_bytree': 0.5808961486951845, 'reg_alpha': 0.0006476687418952387, 'reg_lambda': 9.299449186635758e-05, 'min_child_weight': 22}. Best is trial 25 with value: 0.975714953550876.\n"
          ]
        },
        {
          "name": "stderr",
          "output_type": "stream",
          "text": [
            "<ipython-input-48-54d882b388f3>:9: FutureWarning: suggest_loguniform has been deprecated in v3.0.0. This feature will be removed in v6.0.0. See https://github.com/optuna/optuna/releases/tag/v3.0.0. Use suggest_float(..., log=True) instead.\n",
            "  'learning_rate':    trial.suggest_loguniform('learning_rate', 1e-3, 1e-1),\n",
            "<ipython-input-48-54d882b388f3>:12: FutureWarning: suggest_uniform has been deprecated in v3.0.0. This feature will be removed in v6.0.0. See https://github.com/optuna/optuna/releases/tag/v3.0.0. Use suggest_float instead.\n",
            "  'subsample':        trial.suggest_uniform('subsample', 0.5, 1.0),\n",
            "<ipython-input-48-54d882b388f3>:13: FutureWarning: suggest_uniform has been deprecated in v3.0.0. This feature will be removed in v6.0.0. See https://github.com/optuna/optuna/releases/tag/v3.0.0. Use suggest_float instead.\n",
            "  'colsample_bytree': trial.suggest_uniform('colsample_bytree', 0.5, 1.0),\n",
            "<ipython-input-48-54d882b388f3>:14: FutureWarning: suggest_loguniform has been deprecated in v3.0.0. This feature will be removed in v6.0.0. See https://github.com/optuna/optuna/releases/tag/v3.0.0. Use suggest_float(..., log=True) instead.\n",
            "  'reg_alpha':        trial.suggest_loguniform('reg_alpha', 1e-8, 10.0),\n",
            "<ipython-input-48-54d882b388f3>:15: FutureWarning: suggest_loguniform has been deprecated in v3.0.0. This feature will be removed in v6.0.0. See https://github.com/optuna/optuna/releases/tag/v3.0.0. Use suggest_float(..., log=True) instead.\n",
            "  'reg_lambda':       trial.suggest_loguniform('reg_lambda', 1e-8, 10.0),\n",
            "/usr/local/lib/python3.11/dist-packages/sklearn/utils/deprecation.py:151: FutureWarning: 'force_all_finite' was renamed to 'ensure_all_finite' in 1.6 and will be removed in 1.8.\n",
            "  warnings.warn(\n"
          ]
        },
        {
          "name": "stdout",
          "output_type": "stream",
          "text": [
            "Training until validation scores don't improve for 50 rounds\n",
            "Did not meet early stopping. Best iteration is:\n",
            "[1128]\tvalid_0's l2: 0.039971\n"
          ]
        },
        {
          "name": "stderr",
          "output_type": "stream",
          "text": [
            "/usr/local/lib/python3.11/dist-packages/sklearn/utils/deprecation.py:151: FutureWarning: 'force_all_finite' was renamed to 'ensure_all_finite' in 1.6 and will be removed in 1.8.\n",
            "  warnings.warn(\n"
          ]
        },
        {
          "name": "stdout",
          "output_type": "stream",
          "text": [
            "[I 2025-06-10 15:19:39,619] Trial 29 finished with value: 0.9662176024877582 and parameters: {'n_estimators': 1128, 'learning_rate': 0.03257863239298225, 'num_leaves': 109, 'max_depth': 6, 'subsample': 0.8587252791065387, 'colsample_bytree': 0.5366204641853624, 'reg_alpha': 0.00018038606700355908, 'reg_lambda': 4.770762759939028e-07, 'min_child_weight': 27}. Best is trial 25 with value: 0.975714953550876.\n"
          ]
        },
        {
          "name": "stderr",
          "output_type": "stream",
          "text": [
            "<ipython-input-48-54d882b388f3>:9: FutureWarning: suggest_loguniform has been deprecated in v3.0.0. This feature will be removed in v6.0.0. See https://github.com/optuna/optuna/releases/tag/v3.0.0. Use suggest_float(..., log=True) instead.\n",
            "  'learning_rate':    trial.suggest_loguniform('learning_rate', 1e-3, 1e-1),\n",
            "<ipython-input-48-54d882b388f3>:12: FutureWarning: suggest_uniform has been deprecated in v3.0.0. This feature will be removed in v6.0.0. See https://github.com/optuna/optuna/releases/tag/v3.0.0. Use suggest_float instead.\n",
            "  'subsample':        trial.suggest_uniform('subsample', 0.5, 1.0),\n",
            "<ipython-input-48-54d882b388f3>:13: FutureWarning: suggest_uniform has been deprecated in v3.0.0. This feature will be removed in v6.0.0. See https://github.com/optuna/optuna/releases/tag/v3.0.0. Use suggest_float instead.\n",
            "  'colsample_bytree': trial.suggest_uniform('colsample_bytree', 0.5, 1.0),\n",
            "<ipython-input-48-54d882b388f3>:14: FutureWarning: suggest_loguniform has been deprecated in v3.0.0. This feature will be removed in v6.0.0. See https://github.com/optuna/optuna/releases/tag/v3.0.0. Use suggest_float(..., log=True) instead.\n",
            "  'reg_alpha':        trial.suggest_loguniform('reg_alpha', 1e-8, 10.0),\n",
            "<ipython-input-48-54d882b388f3>:15: FutureWarning: suggest_loguniform has been deprecated in v3.0.0. This feature will be removed in v6.0.0. See https://github.com/optuna/optuna/releases/tag/v3.0.0. Use suggest_float(..., log=True) instead.\n",
            "  'reg_lambda':       trial.suggest_loguniform('reg_lambda', 1e-8, 10.0),\n",
            "/usr/local/lib/python3.11/dist-packages/sklearn/utils/deprecation.py:151: FutureWarning: 'force_all_finite' was renamed to 'ensure_all_finite' in 1.6 and will be removed in 1.8.\n",
            "  warnings.warn(\n"
          ]
        },
        {
          "name": "stdout",
          "output_type": "stream",
          "text": [
            "Training until validation scores don't improve for 50 rounds\n",
            "Did not meet early stopping. Best iteration is:\n",
            "[1417]\tvalid_0's l2: 0.0327617\n"
          ]
        },
        {
          "name": "stderr",
          "output_type": "stream",
          "text": [
            "/usr/local/lib/python3.11/dist-packages/sklearn/utils/deprecation.py:151: FutureWarning: 'force_all_finite' was renamed to 'ensure_all_finite' in 1.6 and will be removed in 1.8.\n",
            "  warnings.warn(\n"
          ]
        },
        {
          "name": "stdout",
          "output_type": "stream",
          "text": [
            "[I 2025-06-10 15:20:45,774] Trial 30 finished with value: 0.9723106612609601 and parameters: {'n_estimators': 1417, 'learning_rate': 0.025266130349020727, 'num_leaves': 187, 'max_depth': 11, 'subsample': 0.8679147005236828, 'colsample_bytree': 0.6920796505497929, 'reg_alpha': 0.03858489274656208, 'reg_lambda': 0.0002606086704225046, 'min_child_weight': 18}. Best is trial 25 with value: 0.975714953550876.\n"
          ]
        },
        {
          "name": "stderr",
          "output_type": "stream",
          "text": [
            "<ipython-input-48-54d882b388f3>:9: FutureWarning: suggest_loguniform has been deprecated in v3.0.0. This feature will be removed in v6.0.0. See https://github.com/optuna/optuna/releases/tag/v3.0.0. Use suggest_float(..., log=True) instead.\n",
            "  'learning_rate':    trial.suggest_loguniform('learning_rate', 1e-3, 1e-1),\n",
            "<ipython-input-48-54d882b388f3>:12: FutureWarning: suggest_uniform has been deprecated in v3.0.0. This feature will be removed in v6.0.0. See https://github.com/optuna/optuna/releases/tag/v3.0.0. Use suggest_float instead.\n",
            "  'subsample':        trial.suggest_uniform('subsample', 0.5, 1.0),\n",
            "<ipython-input-48-54d882b388f3>:13: FutureWarning: suggest_uniform has been deprecated in v3.0.0. This feature will be removed in v6.0.0. See https://github.com/optuna/optuna/releases/tag/v3.0.0. Use suggest_float instead.\n",
            "  'colsample_bytree': trial.suggest_uniform('colsample_bytree', 0.5, 1.0),\n",
            "<ipython-input-48-54d882b388f3>:14: FutureWarning: suggest_loguniform has been deprecated in v3.0.0. This feature will be removed in v6.0.0. See https://github.com/optuna/optuna/releases/tag/v3.0.0. Use suggest_float(..., log=True) instead.\n",
            "  'reg_alpha':        trial.suggest_loguniform('reg_alpha', 1e-8, 10.0),\n",
            "<ipython-input-48-54d882b388f3>:15: FutureWarning: suggest_loguniform has been deprecated in v3.0.0. This feature will be removed in v6.0.0. See https://github.com/optuna/optuna/releases/tag/v3.0.0. Use suggest_float(..., log=True) instead.\n",
            "  'reg_lambda':       trial.suggest_loguniform('reg_lambda', 1e-8, 10.0),\n",
            "/usr/local/lib/python3.11/dist-packages/sklearn/utils/deprecation.py:151: FutureWarning: 'force_all_finite' was renamed to 'ensure_all_finite' in 1.6 and will be removed in 1.8.\n",
            "  warnings.warn(\n"
          ]
        },
        {
          "name": "stdout",
          "output_type": "stream",
          "text": [
            "Training until validation scores don't improve for 50 rounds\n",
            "Did not meet early stopping. Best iteration is:\n",
            "[1541]\tvalid_0's l2: 0.0307108\n"
          ]
        },
        {
          "name": "stderr",
          "output_type": "stream",
          "text": [
            "/usr/local/lib/python3.11/dist-packages/sklearn/utils/deprecation.py:151: FutureWarning: 'force_all_finite' was renamed to 'ensure_all_finite' in 1.6 and will be removed in 1.8.\n",
            "  warnings.warn(\n"
          ]
        },
        {
          "name": "stdout",
          "output_type": "stream",
          "text": [
            "[I 2025-06-10 15:22:55,505] Trial 31 finished with value: 0.974044083741396 and parameters: {'n_estimators': 1541, 'learning_rate': 0.07514156667761047, 'num_leaves': 166, 'max_depth': 9, 'subsample': 0.8083441217372147, 'colsample_bytree': 0.5695862061172816, 'reg_alpha': 0.02169544865548764, 'reg_lambda': 1.4717545769063865e-05, 'min_child_weight': 14}. Best is trial 25 with value: 0.975714953550876.\n"
          ]
        },
        {
          "name": "stderr",
          "output_type": "stream",
          "text": [
            "<ipython-input-48-54d882b388f3>:9: FutureWarning: suggest_loguniform has been deprecated in v3.0.0. This feature will be removed in v6.0.0. See https://github.com/optuna/optuna/releases/tag/v3.0.0. Use suggest_float(..., log=True) instead.\n",
            "  'learning_rate':    trial.suggest_loguniform('learning_rate', 1e-3, 1e-1),\n",
            "<ipython-input-48-54d882b388f3>:12: FutureWarning: suggest_uniform has been deprecated in v3.0.0. This feature will be removed in v6.0.0. See https://github.com/optuna/optuna/releases/tag/v3.0.0. Use suggest_float instead.\n",
            "  'subsample':        trial.suggest_uniform('subsample', 0.5, 1.0),\n",
            "<ipython-input-48-54d882b388f3>:13: FutureWarning: suggest_uniform has been deprecated in v3.0.0. This feature will be removed in v6.0.0. See https://github.com/optuna/optuna/releases/tag/v3.0.0. Use suggest_float instead.\n",
            "  'colsample_bytree': trial.suggest_uniform('colsample_bytree', 0.5, 1.0),\n",
            "<ipython-input-48-54d882b388f3>:14: FutureWarning: suggest_loguniform has been deprecated in v3.0.0. This feature will be removed in v6.0.0. See https://github.com/optuna/optuna/releases/tag/v3.0.0. Use suggest_float(..., log=True) instead.\n",
            "  'reg_alpha':        trial.suggest_loguniform('reg_alpha', 1e-8, 10.0),\n",
            "<ipython-input-48-54d882b388f3>:15: FutureWarning: suggest_loguniform has been deprecated in v3.0.0. This feature will be removed in v6.0.0. See https://github.com/optuna/optuna/releases/tag/v3.0.0. Use suggest_float(..., log=True) instead.\n",
            "  'reg_lambda':       trial.suggest_loguniform('reg_lambda', 1e-8, 10.0),\n",
            "/usr/local/lib/python3.11/dist-packages/sklearn/utils/deprecation.py:151: FutureWarning: 'force_all_finite' was renamed to 'ensure_all_finite' in 1.6 and will be removed in 1.8.\n",
            "  warnings.warn(\n"
          ]
        },
        {
          "name": "stdout",
          "output_type": "stream",
          "text": [
            "Training until validation scores don't improve for 50 rounds\n",
            "Did not meet early stopping. Best iteration is:\n",
            "[1684]\tvalid_0's l2: 0.0365017\n"
          ]
        },
        {
          "name": "stderr",
          "output_type": "stream",
          "text": [
            "/usr/local/lib/python3.11/dist-packages/sklearn/utils/deprecation.py:151: FutureWarning: 'force_all_finite' was renamed to 'ensure_all_finite' in 1.6 and will be removed in 1.8.\n",
            "  warnings.warn(\n"
          ]
        },
        {
          "name": "stdout",
          "output_type": "stream",
          "text": [
            "[I 2025-06-10 15:25:14,939] Trial 32 finished with value: 0.9691497362516229 and parameters: {'n_estimators': 1684, 'learning_rate': 0.06056195296862603, 'num_leaves': 130, 'max_depth': 5, 'subsample': 0.7443495049430634, 'colsample_bytree': 0.5421430163701441, 'reg_alpha': 0.8551959208854375, 'reg_lambda': 8.22920398669779e-06, 'min_child_weight': 26}. Best is trial 25 with value: 0.975714953550876.\n"
          ]
        },
        {
          "name": "stderr",
          "output_type": "stream",
          "text": [
            "<ipython-input-48-54d882b388f3>:9: FutureWarning: suggest_loguniform has been deprecated in v3.0.0. This feature will be removed in v6.0.0. See https://github.com/optuna/optuna/releases/tag/v3.0.0. Use suggest_float(..., log=True) instead.\n",
            "  'learning_rate':    trial.suggest_loguniform('learning_rate', 1e-3, 1e-1),\n",
            "<ipython-input-48-54d882b388f3>:12: FutureWarning: suggest_uniform has been deprecated in v3.0.0. This feature will be removed in v6.0.0. See https://github.com/optuna/optuna/releases/tag/v3.0.0. Use suggest_float instead.\n",
            "  'subsample':        trial.suggest_uniform('subsample', 0.5, 1.0),\n",
            "<ipython-input-48-54d882b388f3>:13: FutureWarning: suggest_uniform has been deprecated in v3.0.0. This feature will be removed in v6.0.0. See https://github.com/optuna/optuna/releases/tag/v3.0.0. Use suggest_float instead.\n",
            "  'colsample_bytree': trial.suggest_uniform('colsample_bytree', 0.5, 1.0),\n",
            "<ipython-input-48-54d882b388f3>:14: FutureWarning: suggest_loguniform has been deprecated in v3.0.0. This feature will be removed in v6.0.0. See https://github.com/optuna/optuna/releases/tag/v3.0.0. Use suggest_float(..., log=True) instead.\n",
            "  'reg_alpha':        trial.suggest_loguniform('reg_alpha', 1e-8, 10.0),\n",
            "<ipython-input-48-54d882b388f3>:15: FutureWarning: suggest_loguniform has been deprecated in v3.0.0. This feature will be removed in v6.0.0. See https://github.com/optuna/optuna/releases/tag/v3.0.0. Use suggest_float(..., log=True) instead.\n",
            "  'reg_lambda':       trial.suggest_loguniform('reg_lambda', 1e-8, 10.0),\n",
            "/usr/local/lib/python3.11/dist-packages/sklearn/utils/deprecation.py:151: FutureWarning: 'force_all_finite' was renamed to 'ensure_all_finite' in 1.6 and will be removed in 1.8.\n",
            "  warnings.warn(\n"
          ]
        },
        {
          "name": "stdout",
          "output_type": "stream",
          "text": [
            "Training until validation scores don't improve for 50 rounds\n",
            "Did not meet early stopping. Best iteration is:\n",
            "[1341]\tvalid_0's l2: 0.0300148\n"
          ]
        },
        {
          "name": "stderr",
          "output_type": "stream",
          "text": [
            "/usr/local/lib/python3.11/dist-packages/sklearn/utils/deprecation.py:151: FutureWarning: 'force_all_finite' was renamed to 'ensure_all_finite' in 1.6 and will be removed in 1.8.\n",
            "  warnings.warn(\n"
          ]
        },
        {
          "name": "stdout",
          "output_type": "stream",
          "text": [
            "[I 2025-06-10 15:27:15,217] Trial 33 finished with value: 0.9746323021708625 and parameters: {'n_estimators': 1341, 'learning_rate': 0.0791116586081056, 'num_leaves': 138, 'max_depth': 11, 'subsample': 0.82414663818274, 'colsample_bytree': 0.5765789149753575, 'reg_alpha': 0.010424174615904308, 'reg_lambda': 4.395651740413678e-05, 'min_child_weight': 14}. Best is trial 25 with value: 0.975714953550876.\n"
          ]
        },
        {
          "name": "stderr",
          "output_type": "stream",
          "text": [
            "<ipython-input-48-54d882b388f3>:9: FutureWarning: suggest_loguniform has been deprecated in v3.0.0. This feature will be removed in v6.0.0. See https://github.com/optuna/optuna/releases/tag/v3.0.0. Use suggest_float(..., log=True) instead.\n",
            "  'learning_rate':    trial.suggest_loguniform('learning_rate', 1e-3, 1e-1),\n",
            "<ipython-input-48-54d882b388f3>:12: FutureWarning: suggest_uniform has been deprecated in v3.0.0. This feature will be removed in v6.0.0. See https://github.com/optuna/optuna/releases/tag/v3.0.0. Use suggest_float instead.\n",
            "  'subsample':        trial.suggest_uniform('subsample', 0.5, 1.0),\n",
            "<ipython-input-48-54d882b388f3>:13: FutureWarning: suggest_uniform has been deprecated in v3.0.0. This feature will be removed in v6.0.0. See https://github.com/optuna/optuna/releases/tag/v3.0.0. Use suggest_float instead.\n",
            "  'colsample_bytree': trial.suggest_uniform('colsample_bytree', 0.5, 1.0),\n",
            "<ipython-input-48-54d882b388f3>:14: FutureWarning: suggest_loguniform has been deprecated in v3.0.0. This feature will be removed in v6.0.0. See https://github.com/optuna/optuna/releases/tag/v3.0.0. Use suggest_float(..., log=True) instead.\n",
            "  'reg_alpha':        trial.suggest_loguniform('reg_alpha', 1e-8, 10.0),\n",
            "<ipython-input-48-54d882b388f3>:15: FutureWarning: suggest_loguniform has been deprecated in v3.0.0. This feature will be removed in v6.0.0. See https://github.com/optuna/optuna/releases/tag/v3.0.0. Use suggest_float(..., log=True) instead.\n",
            "  'reg_lambda':       trial.suggest_loguniform('reg_lambda', 1e-8, 10.0),\n",
            "/usr/local/lib/python3.11/dist-packages/sklearn/utils/deprecation.py:151: FutureWarning: 'force_all_finite' was renamed to 'ensure_all_finite' in 1.6 and will be removed in 1.8.\n",
            "  warnings.warn(\n"
          ]
        },
        {
          "name": "stdout",
          "output_type": "stream",
          "text": [
            "Training until validation scores don't improve for 50 rounds\n",
            "Did not meet early stopping. Best iteration is:\n",
            "[1241]\tvalid_0's l2: 0.0292096\n"
          ]
        },
        {
          "name": "stderr",
          "output_type": "stream",
          "text": [
            "/usr/local/lib/python3.11/dist-packages/sklearn/utils/deprecation.py:151: FutureWarning: 'force_all_finite' was renamed to 'ensure_all_finite' in 1.6 and will be removed in 1.8.\n",
            "  warnings.warn(\n"
          ]
        },
        {
          "name": "stdout",
          "output_type": "stream",
          "text": [
            "[I 2025-06-10 15:29:29,074] Trial 34 finished with value: 0.9753127959041097 and parameters: {'n_estimators': 1241, 'learning_rate': 0.09786470232718406, 'num_leaves': 118, 'max_depth': 13, 'subsample': 0.8816452288423318, 'colsample_bytree': 0.524835645590946, 'reg_alpha': 9.223248549902108e-05, 'reg_lambda': 0.0005514504846578206, 'min_child_weight': 19}. Best is trial 25 with value: 0.975714953550876.\n"
          ]
        },
        {
          "name": "stderr",
          "output_type": "stream",
          "text": [
            "<ipython-input-48-54d882b388f3>:9: FutureWarning: suggest_loguniform has been deprecated in v3.0.0. This feature will be removed in v6.0.0. See https://github.com/optuna/optuna/releases/tag/v3.0.0. Use suggest_float(..., log=True) instead.\n",
            "  'learning_rate':    trial.suggest_loguniform('learning_rate', 1e-3, 1e-1),\n",
            "<ipython-input-48-54d882b388f3>:12: FutureWarning: suggest_uniform has been deprecated in v3.0.0. This feature will be removed in v6.0.0. See https://github.com/optuna/optuna/releases/tag/v3.0.0. Use suggest_float instead.\n",
            "  'subsample':        trial.suggest_uniform('subsample', 0.5, 1.0),\n",
            "<ipython-input-48-54d882b388f3>:13: FutureWarning: suggest_uniform has been deprecated in v3.0.0. This feature will be removed in v6.0.0. See https://github.com/optuna/optuna/releases/tag/v3.0.0. Use suggest_float instead.\n",
            "  'colsample_bytree': trial.suggest_uniform('colsample_bytree', 0.5, 1.0),\n",
            "<ipython-input-48-54d882b388f3>:14: FutureWarning: suggest_loguniform has been deprecated in v3.0.0. This feature will be removed in v6.0.0. See https://github.com/optuna/optuna/releases/tag/v3.0.0. Use suggest_float(..., log=True) instead.\n",
            "  'reg_alpha':        trial.suggest_loguniform('reg_alpha', 1e-8, 10.0),\n",
            "<ipython-input-48-54d882b388f3>:15: FutureWarning: suggest_loguniform has been deprecated in v3.0.0. This feature will be removed in v6.0.0. See https://github.com/optuna/optuna/releases/tag/v3.0.0. Use suggest_float(..., log=True) instead.\n",
            "  'reg_lambda':       trial.suggest_loguniform('reg_lambda', 1e-8, 10.0),\n",
            "/usr/local/lib/python3.11/dist-packages/sklearn/utils/deprecation.py:151: FutureWarning: 'force_all_finite' was renamed to 'ensure_all_finite' in 1.6 and will be removed in 1.8.\n",
            "  warnings.warn(\n"
          ]
        },
        {
          "name": "stdout",
          "output_type": "stream",
          "text": [
            "Training until validation scores don't improve for 50 rounds\n",
            "Did not meet early stopping. Best iteration is:\n",
            "[1221]\tvalid_0's l2: 0.0291707\n"
          ]
        },
        {
          "name": "stderr",
          "output_type": "stream",
          "text": [
            "/usr/local/lib/python3.11/dist-packages/sklearn/utils/deprecation.py:151: FutureWarning: 'force_all_finite' was renamed to 'ensure_all_finite' in 1.6 and will be removed in 1.8.\n",
            "  warnings.warn(\n"
          ]
        },
        {
          "name": "stdout",
          "output_type": "stream",
          "text": [
            "[I 2025-06-10 15:31:42,833] Trial 35 finished with value: 0.9753456681525895 and parameters: {'n_estimators': 1241, 'learning_rate': 0.09404736795532033, 'num_leaves': 119, 'max_depth': 13, 'subsample': 0.8926920320537143, 'colsample_bytree': 0.5212463817340548, 'reg_alpha': 7.348719866583087e-05, 'reg_lambda': 0.0005916123975449103, 'min_child_weight': 18}. Best is trial 25 with value: 0.975714953550876.\n"
          ]
        },
        {
          "name": "stderr",
          "output_type": "stream",
          "text": [
            "<ipython-input-48-54d882b388f3>:9: FutureWarning: suggest_loguniform has been deprecated in v3.0.0. This feature will be removed in v6.0.0. See https://github.com/optuna/optuna/releases/tag/v3.0.0. Use suggest_float(..., log=True) instead.\n",
            "  'learning_rate':    trial.suggest_loguniform('learning_rate', 1e-3, 1e-1),\n",
            "<ipython-input-48-54d882b388f3>:12: FutureWarning: suggest_uniform has been deprecated in v3.0.0. This feature will be removed in v6.0.0. See https://github.com/optuna/optuna/releases/tag/v3.0.0. Use suggest_float instead.\n",
            "  'subsample':        trial.suggest_uniform('subsample', 0.5, 1.0),\n",
            "<ipython-input-48-54d882b388f3>:13: FutureWarning: suggest_uniform has been deprecated in v3.0.0. This feature will be removed in v6.0.0. See https://github.com/optuna/optuna/releases/tag/v3.0.0. Use suggest_float instead.\n",
            "  'colsample_bytree': trial.suggest_uniform('colsample_bytree', 0.5, 1.0),\n",
            "<ipython-input-48-54d882b388f3>:14: FutureWarning: suggest_loguniform has been deprecated in v3.0.0. This feature will be removed in v6.0.0. See https://github.com/optuna/optuna/releases/tag/v3.0.0. Use suggest_float(..., log=True) instead.\n",
            "  'reg_alpha':        trial.suggest_loguniform('reg_alpha', 1e-8, 10.0),\n",
            "<ipython-input-48-54d882b388f3>:15: FutureWarning: suggest_loguniform has been deprecated in v3.0.0. This feature will be removed in v6.0.0. See https://github.com/optuna/optuna/releases/tag/v3.0.0. Use suggest_float(..., log=True) instead.\n",
            "  'reg_lambda':       trial.suggest_loguniform('reg_lambda', 1e-8, 10.0),\n",
            "/usr/local/lib/python3.11/dist-packages/sklearn/utils/deprecation.py:151: FutureWarning: 'force_all_finite' was renamed to 'ensure_all_finite' in 1.6 and will be removed in 1.8.\n",
            "  warnings.warn(\n"
          ]
        },
        {
          "name": "stdout",
          "output_type": "stream",
          "text": [
            "Training until validation scores don't improve for 50 rounds\n",
            "Did not meet early stopping. Best iteration is:\n",
            "[1250]\tvalid_0's l2: 0.0294706\n"
          ]
        },
        {
          "name": "stderr",
          "output_type": "stream",
          "text": [
            "/usr/local/lib/python3.11/dist-packages/sklearn/utils/deprecation.py:151: FutureWarning: 'force_all_finite' was renamed to 'ensure_all_finite' in 1.6 and will be removed in 1.8.\n",
            "  warnings.warn(\n"
          ]
        },
        {
          "name": "stdout",
          "output_type": "stream",
          "text": [
            "[I 2025-06-10 15:33:56,314] Trial 36 finished with value: 0.9750922458344032 and parameters: {'n_estimators': 1250, 'learning_rate': 0.08588969547781004, 'num_leaves': 116, 'max_depth': 13, 'subsample': 0.89613337484841, 'colsample_bytree': 0.5136989897929211, 'reg_alpha': 3.129814084940632e-06, 'reg_lambda': 0.0033118317231061465, 'min_child_weight': 20}. Best is trial 25 with value: 0.975714953550876.\n"
          ]
        },
        {
          "name": "stderr",
          "output_type": "stream",
          "text": [
            "<ipython-input-48-54d882b388f3>:9: FutureWarning: suggest_loguniform has been deprecated in v3.0.0. This feature will be removed in v6.0.0. See https://github.com/optuna/optuna/releases/tag/v3.0.0. Use suggest_float(..., log=True) instead.\n",
            "  'learning_rate':    trial.suggest_loguniform('learning_rate', 1e-3, 1e-1),\n",
            "<ipython-input-48-54d882b388f3>:12: FutureWarning: suggest_uniform has been deprecated in v3.0.0. This feature will be removed in v6.0.0. See https://github.com/optuna/optuna/releases/tag/v3.0.0. Use suggest_float instead.\n",
            "  'subsample':        trial.suggest_uniform('subsample', 0.5, 1.0),\n",
            "<ipython-input-48-54d882b388f3>:13: FutureWarning: suggest_uniform has been deprecated in v3.0.0. This feature will be removed in v6.0.0. See https://github.com/optuna/optuna/releases/tag/v3.0.0. Use suggest_float instead.\n",
            "  'colsample_bytree': trial.suggest_uniform('colsample_bytree', 0.5, 1.0),\n",
            "<ipython-input-48-54d882b388f3>:14: FutureWarning: suggest_loguniform has been deprecated in v3.0.0. This feature will be removed in v6.0.0. See https://github.com/optuna/optuna/releases/tag/v3.0.0. Use suggest_float(..., log=True) instead.\n",
            "  'reg_alpha':        trial.suggest_loguniform('reg_alpha', 1e-8, 10.0),\n",
            "<ipython-input-48-54d882b388f3>:15: FutureWarning: suggest_loguniform has been deprecated in v3.0.0. This feature will be removed in v6.0.0. See https://github.com/optuna/optuna/releases/tag/v3.0.0. Use suggest_float(..., log=True) instead.\n",
            "  'reg_lambda':       trial.suggest_loguniform('reg_lambda', 1e-8, 10.0),\n",
            "/usr/local/lib/python3.11/dist-packages/sklearn/utils/deprecation.py:151: FutureWarning: 'force_all_finite' was renamed to 'ensure_all_finite' in 1.6 and will be removed in 1.8.\n",
            "  warnings.warn(\n"
          ]
        },
        {
          "name": "stdout",
          "output_type": "stream",
          "text": [
            "Training until validation scores don't improve for 50 rounds\n",
            "Did not meet early stopping. Best iteration is:\n",
            "[1357]\tvalid_0's l2: 0.0311273\n"
          ]
        },
        {
          "name": "stderr",
          "output_type": "stream",
          "text": [
            "/usr/local/lib/python3.11/dist-packages/sklearn/utils/deprecation.py:151: FutureWarning: 'force_all_finite' was renamed to 'ensure_all_finite' in 1.6 and will be removed in 1.8.\n",
            "  warnings.warn(\n"
          ]
        },
        {
          "name": "stdout",
          "output_type": "stream",
          "text": [
            "[I 2025-06-10 15:35:33,358] Trial 37 finished with value: 0.9736920353997245 and parameters: {'n_estimators': 1358, 'learning_rate': 0.09759950419776565, 'num_leaves': 81, 'max_depth': 9, 'subsample': 0.91654903363764, 'colsample_bytree': 0.5940699196128714, 'reg_alpha': 7.091017939199255e-05, 'reg_lambda': 0.0006360128258407138, 'min_child_weight': 30}. Best is trial 25 with value: 0.975714953550876.\n"
          ]
        },
        {
          "name": "stderr",
          "output_type": "stream",
          "text": [
            "<ipython-input-48-54d882b388f3>:9: FutureWarning: suggest_loguniform has been deprecated in v3.0.0. This feature will be removed in v6.0.0. See https://github.com/optuna/optuna/releases/tag/v3.0.0. Use suggest_float(..., log=True) instead.\n",
            "  'learning_rate':    trial.suggest_loguniform('learning_rate', 1e-3, 1e-1),\n",
            "<ipython-input-48-54d882b388f3>:12: FutureWarning: suggest_uniform has been deprecated in v3.0.0. This feature will be removed in v6.0.0. See https://github.com/optuna/optuna/releases/tag/v3.0.0. Use suggest_float instead.\n",
            "  'subsample':        trial.suggest_uniform('subsample', 0.5, 1.0),\n",
            "<ipython-input-48-54d882b388f3>:13: FutureWarning: suggest_uniform has been deprecated in v3.0.0. This feature will be removed in v6.0.0. See https://github.com/optuna/optuna/releases/tag/v3.0.0. Use suggest_float instead.\n",
            "  'colsample_bytree': trial.suggest_uniform('colsample_bytree', 0.5, 1.0),\n",
            "<ipython-input-48-54d882b388f3>:14: FutureWarning: suggest_loguniform has been deprecated in v3.0.0. This feature will be removed in v6.0.0. See https://github.com/optuna/optuna/releases/tag/v3.0.0. Use suggest_float(..., log=True) instead.\n",
            "  'reg_alpha':        trial.suggest_loguniform('reg_alpha', 1e-8, 10.0),\n",
            "<ipython-input-48-54d882b388f3>:15: FutureWarning: suggest_loguniform has been deprecated in v3.0.0. This feature will be removed in v6.0.0. See https://github.com/optuna/optuna/releases/tag/v3.0.0. Use suggest_float(..., log=True) instead.\n",
            "  'reg_lambda':       trial.suggest_loguniform('reg_lambda', 1e-8, 10.0),\n",
            "/usr/local/lib/python3.11/dist-packages/sklearn/utils/deprecation.py:151: FutureWarning: 'force_all_finite' was renamed to 'ensure_all_finite' in 1.6 and will be removed in 1.8.\n",
            "  warnings.warn(\n"
          ]
        },
        {
          "name": "stdout",
          "output_type": "stream",
          "text": [
            "Training until validation scores don't improve for 50 rounds\n",
            "Did not meet early stopping. Best iteration is:\n",
            "[1209]\tvalid_0's l2: 0.162154\n"
          ]
        },
        {
          "name": "stderr",
          "output_type": "stream",
          "text": [
            "/usr/local/lib/python3.11/dist-packages/sklearn/utils/deprecation.py:151: FutureWarning: 'force_all_finite' was renamed to 'ensure_all_finite' in 1.6 and will be removed in 1.8.\n",
            "  warnings.warn(\n"
          ]
        },
        {
          "name": "stdout",
          "output_type": "stream",
          "text": [
            "[I 2025-06-10 15:37:55,861] Trial 38 finished with value: 0.8629517005071156 and parameters: {'n_estimators': 1209, 'learning_rate': 0.0011156643900973615, 'num_leaves': 74, 'max_depth': 13, 'subsample': 0.8795813131669259, 'colsample_bytree': 0.5274588796332399, 'reg_alpha': 0.0007465395218403415, 'reg_lambda': 0.006292999106469397, 'min_child_weight': 24}. Best is trial 25 with value: 0.975714953550876.\n"
          ]
        },
        {
          "name": "stderr",
          "output_type": "stream",
          "text": [
            "<ipython-input-48-54d882b388f3>:9: FutureWarning: suggest_loguniform has been deprecated in v3.0.0. This feature will be removed in v6.0.0. See https://github.com/optuna/optuna/releases/tag/v3.0.0. Use suggest_float(..., log=True) instead.\n",
            "  'learning_rate':    trial.suggest_loguniform('learning_rate', 1e-3, 1e-1),\n",
            "<ipython-input-48-54d882b388f3>:12: FutureWarning: suggest_uniform has been deprecated in v3.0.0. This feature will be removed in v6.0.0. See https://github.com/optuna/optuna/releases/tag/v3.0.0. Use suggest_float instead.\n",
            "  'subsample':        trial.suggest_uniform('subsample', 0.5, 1.0),\n",
            "<ipython-input-48-54d882b388f3>:13: FutureWarning: suggest_uniform has been deprecated in v3.0.0. This feature will be removed in v6.0.0. See https://github.com/optuna/optuna/releases/tag/v3.0.0. Use suggest_float instead.\n",
            "  'colsample_bytree': trial.suggest_uniform('colsample_bytree', 0.5, 1.0),\n",
            "<ipython-input-48-54d882b388f3>:14: FutureWarning: suggest_loguniform has been deprecated in v3.0.0. This feature will be removed in v6.0.0. See https://github.com/optuna/optuna/releases/tag/v3.0.0. Use suggest_float(..., log=True) instead.\n",
            "  'reg_alpha':        trial.suggest_loguniform('reg_alpha', 1e-8, 10.0),\n",
            "<ipython-input-48-54d882b388f3>:15: FutureWarning: suggest_loguniform has been deprecated in v3.0.0. This feature will be removed in v6.0.0. See https://github.com/optuna/optuna/releases/tag/v3.0.0. Use suggest_float(..., log=True) instead.\n",
            "  'reg_lambda':       trial.suggest_loguniform('reg_lambda', 1e-8, 10.0),\n",
            "/usr/local/lib/python3.11/dist-packages/sklearn/utils/deprecation.py:151: FutureWarning: 'force_all_finite' was renamed to 'ensure_all_finite' in 1.6 and will be removed in 1.8.\n",
            "  warnings.warn(\n"
          ]
        },
        {
          "name": "stdout",
          "output_type": "stream",
          "text": [
            "Training until validation scores don't improve for 50 rounds\n",
            "Did not meet early stopping. Best iteration is:\n",
            "[1439]\tvalid_0's l2: 0.0294901\n"
          ]
        },
        {
          "name": "stderr",
          "output_type": "stream",
          "text": [
            "/usr/local/lib/python3.11/dist-packages/sklearn/utils/deprecation.py:151: FutureWarning: 'force_all_finite' was renamed to 'ensure_all_finite' in 1.6 and will be removed in 1.8.\n",
            "  warnings.warn(\n"
          ]
        },
        {
          "name": "stdout",
          "output_type": "stream",
          "text": [
            "[I 2025-06-10 15:40:39,128] Trial 39 finished with value: 0.9750757507973677 and parameters: {'n_estimators': 1439, 'learning_rate': 0.03834902798151307, 'num_leaves': 105, 'max_depth': 20, 'subsample': 0.9618475232081902, 'colsample_bytree': 0.5020420516158597, 'reg_alpha': 5.602373813925191e-07, 'reg_lambda': 0.0007161584267639055, 'min_child_weight': 17}. Best is trial 25 with value: 0.975714953550876.\n"
          ]
        },
        {
          "name": "stderr",
          "output_type": "stream",
          "text": [
            "<ipython-input-48-54d882b388f3>:9: FutureWarning: suggest_loguniform has been deprecated in v3.0.0. This feature will be removed in v6.0.0. See https://github.com/optuna/optuna/releases/tag/v3.0.0. Use suggest_float(..., log=True) instead.\n",
            "  'learning_rate':    trial.suggest_loguniform('learning_rate', 1e-3, 1e-1),\n",
            "<ipython-input-48-54d882b388f3>:12: FutureWarning: suggest_uniform has been deprecated in v3.0.0. This feature will be removed in v6.0.0. See https://github.com/optuna/optuna/releases/tag/v3.0.0. Use suggest_float instead.\n",
            "  'subsample':        trial.suggest_uniform('subsample', 0.5, 1.0),\n",
            "<ipython-input-48-54d882b388f3>:13: FutureWarning: suggest_uniform has been deprecated in v3.0.0. This feature will be removed in v6.0.0. See https://github.com/optuna/optuna/releases/tag/v3.0.0. Use suggest_float instead.\n",
            "  'colsample_bytree': trial.suggest_uniform('colsample_bytree', 0.5, 1.0),\n",
            "<ipython-input-48-54d882b388f3>:14: FutureWarning: suggest_loguniform has been deprecated in v3.0.0. This feature will be removed in v6.0.0. See https://github.com/optuna/optuna/releases/tag/v3.0.0. Use suggest_float(..., log=True) instead.\n",
            "  'reg_alpha':        trial.suggest_loguniform('reg_alpha', 1e-8, 10.0),\n",
            "<ipython-input-48-54d882b388f3>:15: FutureWarning: suggest_loguniform has been deprecated in v3.0.0. This feature will be removed in v6.0.0. See https://github.com/optuna/optuna/releases/tag/v3.0.0. Use suggest_float(..., log=True) instead.\n",
            "  'reg_lambda':       trial.suggest_loguniform('reg_lambda', 1e-8, 10.0),\n",
            "/usr/local/lib/python3.11/dist-packages/sklearn/utils/deprecation.py:151: FutureWarning: 'force_all_finite' was renamed to 'ensure_all_finite' in 1.6 and will be removed in 1.8.\n",
            "  warnings.warn(\n"
          ]
        },
        {
          "name": "stdout",
          "output_type": "stream",
          "text": [
            "Training until validation scores don't improve for 50 rounds\n",
            "Did not meet early stopping. Best iteration is:\n",
            "[1627]\tvalid_0's l2: 0.0291733\n"
          ]
        },
        {
          "name": "stderr",
          "output_type": "stream",
          "text": [
            "/usr/local/lib/python3.11/dist-packages/sklearn/utils/deprecation.py:151: FutureWarning: 'force_all_finite' was renamed to 'ensure_all_finite' in 1.6 and will be removed in 1.8.\n",
            "  warnings.warn(\n"
          ]
        },
        {
          "name": "stdout",
          "output_type": "stream",
          "text": [
            "[I 2025-06-10 15:44:12,153] Trial 40 finished with value: 0.9753435076400634 and parameters: {'n_estimators': 1646, 'learning_rate': 0.0531309734289047, 'num_leaves': 179, 'max_depth': 28, 'subsample': 0.7771591606952618, 'colsample_bytree': 0.5547352856537513, 'reg_alpha': 0.0027603883106227544, 'reg_lambda': 2.7873285422727746e-06, 'min_child_weight': 35}. Best is trial 25 with value: 0.975714953550876.\n"
          ]
        },
        {
          "name": "stderr",
          "output_type": "stream",
          "text": [
            "<ipython-input-48-54d882b388f3>:9: FutureWarning: suggest_loguniform has been deprecated in v3.0.0. This feature will be removed in v6.0.0. See https://github.com/optuna/optuna/releases/tag/v3.0.0. Use suggest_float(..., log=True) instead.\n",
            "  'learning_rate':    trial.suggest_loguniform('learning_rate', 1e-3, 1e-1),\n",
            "<ipython-input-48-54d882b388f3>:12: FutureWarning: suggest_uniform has been deprecated in v3.0.0. This feature will be removed in v6.0.0. See https://github.com/optuna/optuna/releases/tag/v3.0.0. Use suggest_float instead.\n",
            "  'subsample':        trial.suggest_uniform('subsample', 0.5, 1.0),\n",
            "<ipython-input-48-54d882b388f3>:13: FutureWarning: suggest_uniform has been deprecated in v3.0.0. This feature will be removed in v6.0.0. See https://github.com/optuna/optuna/releases/tag/v3.0.0. Use suggest_float instead.\n",
            "  'colsample_bytree': trial.suggest_uniform('colsample_bytree', 0.5, 1.0),\n",
            "<ipython-input-48-54d882b388f3>:14: FutureWarning: suggest_loguniform has been deprecated in v3.0.0. This feature will be removed in v6.0.0. See https://github.com/optuna/optuna/releases/tag/v3.0.0. Use suggest_float(..., log=True) instead.\n",
            "  'reg_alpha':        trial.suggest_loguniform('reg_alpha', 1e-8, 10.0),\n",
            "<ipython-input-48-54d882b388f3>:15: FutureWarning: suggest_loguniform has been deprecated in v3.0.0. This feature will be removed in v6.0.0. See https://github.com/optuna/optuna/releases/tag/v3.0.0. Use suggest_float(..., log=True) instead.\n",
            "  'reg_lambda':       trial.suggest_loguniform('reg_lambda', 1e-8, 10.0),\n",
            "/usr/local/lib/python3.11/dist-packages/sklearn/utils/deprecation.py:151: FutureWarning: 'force_all_finite' was renamed to 'ensure_all_finite' in 1.6 and will be removed in 1.8.\n",
            "  warnings.warn(\n"
          ]
        },
        {
          "name": "stdout",
          "output_type": "stream",
          "text": [
            "Training until validation scores don't improve for 50 rounds\n",
            "Did not meet early stopping. Best iteration is:\n",
            "[1637]\tvalid_0's l2: 0.0292389\n"
          ]
        },
        {
          "name": "stderr",
          "output_type": "stream",
          "text": [
            "/usr/local/lib/python3.11/dist-packages/sklearn/utils/deprecation.py:151: FutureWarning: 'force_all_finite' was renamed to 'ensure_all_finite' in 1.6 and will be removed in 1.8.\n",
            "  warnings.warn(\n"
          ]
        },
        {
          "name": "stdout",
          "output_type": "stream",
          "text": [
            "[I 2025-06-10 15:47:46,791] Trial 41 finished with value: 0.9752881006136965 and parameters: {'n_estimators': 1637, 'learning_rate': 0.05461678915555905, 'num_leaves': 180, 'max_depth': 27, 'subsample': 0.7730703485150965, 'colsample_bytree': 0.5536757137309738, 'reg_alpha': 0.006025751659127732, 'reg_lambda': 1.2334842087676255e-06, 'min_child_weight': 47}. Best is trial 25 with value: 0.975714953550876.\n"
          ]
        },
        {
          "name": "stderr",
          "output_type": "stream",
          "text": [
            "<ipython-input-48-54d882b388f3>:9: FutureWarning: suggest_loguniform has been deprecated in v3.0.0. This feature will be removed in v6.0.0. See https://github.com/optuna/optuna/releases/tag/v3.0.0. Use suggest_float(..., log=True) instead.\n",
            "  'learning_rate':    trial.suggest_loguniform('learning_rate', 1e-3, 1e-1),\n",
            "<ipython-input-48-54d882b388f3>:12: FutureWarning: suggest_uniform has been deprecated in v3.0.0. This feature will be removed in v6.0.0. See https://github.com/optuna/optuna/releases/tag/v3.0.0. Use suggest_float instead.\n",
            "  'subsample':        trial.suggest_uniform('subsample', 0.5, 1.0),\n",
            "<ipython-input-48-54d882b388f3>:13: FutureWarning: suggest_uniform has been deprecated in v3.0.0. This feature will be removed in v6.0.0. See https://github.com/optuna/optuna/releases/tag/v3.0.0. Use suggest_float instead.\n",
            "  'colsample_bytree': trial.suggest_uniform('colsample_bytree', 0.5, 1.0),\n",
            "<ipython-input-48-54d882b388f3>:14: FutureWarning: suggest_loguniform has been deprecated in v3.0.0. This feature will be removed in v6.0.0. See https://github.com/optuna/optuna/releases/tag/v3.0.0. Use suggest_float(..., log=True) instead.\n",
            "  'reg_alpha':        trial.suggest_loguniform('reg_alpha', 1e-8, 10.0),\n",
            "<ipython-input-48-54d882b388f3>:15: FutureWarning: suggest_loguniform has been deprecated in v3.0.0. This feature will be removed in v6.0.0. See https://github.com/optuna/optuna/releases/tag/v3.0.0. Use suggest_float(..., log=True) instead.\n",
            "  'reg_lambda':       trial.suggest_loguniform('reg_lambda', 1e-8, 10.0),\n",
            "/usr/local/lib/python3.11/dist-packages/sklearn/utils/deprecation.py:151: FutureWarning: 'force_all_finite' was renamed to 'ensure_all_finite' in 1.6 and will be removed in 1.8.\n",
            "  warnings.warn(\n"
          ]
        },
        {
          "name": "stdout",
          "output_type": "stream",
          "text": [
            "Training until validation scores don't improve for 50 rounds\n",
            "Early stopping, best iteration is:\n",
            "[1663]\tvalid_0's l2: 0.0292043\n"
          ]
        },
        {
          "name": "stderr",
          "output_type": "stream",
          "text": [
            "/usr/local/lib/python3.11/dist-packages/sklearn/utils/deprecation.py:151: FutureWarning: 'force_all_finite' was renamed to 'ensure_all_finite' in 1.6 and will be removed in 1.8.\n",
            "  warnings.warn(\n"
          ]
        },
        {
          "name": "stdout",
          "output_type": "stream",
          "text": [
            "[I 2025-06-10 15:50:35,047] Trial 42 finished with value: 0.9753172961443995 and parameters: {'n_estimators': 1858, 'learning_rate': 0.053447083328389364, 'num_leaves': 147, 'max_depth': 28, 'subsample': 0.7142834215495243, 'colsample_bytree': 0.6022486030389324, 'reg_alpha': 0.0026444025073028613, 'reg_lambda': 1.3106203199148684e-07, 'min_child_weight': 43}. Best is trial 25 with value: 0.975714953550876.\n"
          ]
        },
        {
          "name": "stderr",
          "output_type": "stream",
          "text": [
            "<ipython-input-48-54d882b388f3>:9: FutureWarning: suggest_loguniform has been deprecated in v3.0.0. This feature will be removed in v6.0.0. See https://github.com/optuna/optuna/releases/tag/v3.0.0. Use suggest_float(..., log=True) instead.\n",
            "  'learning_rate':    trial.suggest_loguniform('learning_rate', 1e-3, 1e-1),\n",
            "<ipython-input-48-54d882b388f3>:12: FutureWarning: suggest_uniform has been deprecated in v3.0.0. This feature will be removed in v6.0.0. See https://github.com/optuna/optuna/releases/tag/v3.0.0. Use suggest_float instead.\n",
            "  'subsample':        trial.suggest_uniform('subsample', 0.5, 1.0),\n",
            "<ipython-input-48-54d882b388f3>:13: FutureWarning: suggest_uniform has been deprecated in v3.0.0. This feature will be removed in v6.0.0. See https://github.com/optuna/optuna/releases/tag/v3.0.0. Use suggest_float instead.\n",
            "  'colsample_bytree': trial.suggest_uniform('colsample_bytree', 0.5, 1.0),\n",
            "<ipython-input-48-54d882b388f3>:14: FutureWarning: suggest_loguniform has been deprecated in v3.0.0. This feature will be removed in v6.0.0. See https://github.com/optuna/optuna/releases/tag/v3.0.0. Use suggest_float(..., log=True) instead.\n",
            "  'reg_alpha':        trial.suggest_loguniform('reg_alpha', 1e-8, 10.0),\n",
            "<ipython-input-48-54d882b388f3>:15: FutureWarning: suggest_loguniform has been deprecated in v3.0.0. This feature will be removed in v6.0.0. See https://github.com/optuna/optuna/releases/tag/v3.0.0. Use suggest_float(..., log=True) instead.\n",
            "  'reg_lambda':       trial.suggest_loguniform('reg_lambda', 1e-8, 10.0),\n",
            "/usr/local/lib/python3.11/dist-packages/sklearn/utils/deprecation.py:151: FutureWarning: 'force_all_finite' was renamed to 'ensure_all_finite' in 1.6 and will be removed in 1.8.\n",
            "  warnings.warn(\n"
          ]
        },
        {
          "name": "stdout",
          "output_type": "stream",
          "text": [
            "Training until validation scores don't improve for 50 rounds\n",
            "Did not meet early stopping. Best iteration is:\n",
            "[1867]\tvalid_0's l2: 0.0293821\n"
          ]
        },
        {
          "name": "stderr",
          "output_type": "stream",
          "text": [
            "/usr/local/lib/python3.11/dist-packages/sklearn/utils/deprecation.py:151: FutureWarning: 'force_all_finite' was renamed to 'ensure_all_finite' in 1.6 and will be removed in 1.8.\n",
            "  warnings.warn(\n"
          ]
        },
        {
          "name": "stdout",
          "output_type": "stream",
          "text": [
            "[I 2025-06-10 15:53:47,849] Trial 43 finished with value: 0.9751670623748205 and parameters: {'n_estimators': 1867, 'learning_rate': 0.03180563505183482, 'num_leaves': 149, 'max_depth': 28, 'subsample': 0.7106913599826337, 'colsample_bytree': 0.5973262326276219, 'reg_alpha': 0.0036669950376233135, 'reg_lambda': 1.7966673134104754e-08, 'min_child_weight': 45}. Best is trial 25 with value: 0.975714953550876.\n"
          ]
        },
        {
          "name": "stderr",
          "output_type": "stream",
          "text": [
            "<ipython-input-48-54d882b388f3>:9: FutureWarning: suggest_loguniform has been deprecated in v3.0.0. This feature will be removed in v6.0.0. See https://github.com/optuna/optuna/releases/tag/v3.0.0. Use suggest_float(..., log=True) instead.\n",
            "  'learning_rate':    trial.suggest_loguniform('learning_rate', 1e-3, 1e-1),\n",
            "<ipython-input-48-54d882b388f3>:12: FutureWarning: suggest_uniform has been deprecated in v3.0.0. This feature will be removed in v6.0.0. See https://github.com/optuna/optuna/releases/tag/v3.0.0. Use suggest_float instead.\n",
            "  'subsample':        trial.suggest_uniform('subsample', 0.5, 1.0),\n",
            "<ipython-input-48-54d882b388f3>:13: FutureWarning: suggest_uniform has been deprecated in v3.0.0. This feature will be removed in v6.0.0. See https://github.com/optuna/optuna/releases/tag/v3.0.0. Use suggest_float instead.\n",
            "  'colsample_bytree': trial.suggest_uniform('colsample_bytree', 0.5, 1.0),\n",
            "<ipython-input-48-54d882b388f3>:14: FutureWarning: suggest_loguniform has been deprecated in v3.0.0. This feature will be removed in v6.0.0. See https://github.com/optuna/optuna/releases/tag/v3.0.0. Use suggest_float(..., log=True) instead.\n",
            "  'reg_alpha':        trial.suggest_loguniform('reg_alpha', 1e-8, 10.0),\n",
            "<ipython-input-48-54d882b388f3>:15: FutureWarning: suggest_loguniform has been deprecated in v3.0.0. This feature will be removed in v6.0.0. See https://github.com/optuna/optuna/releases/tag/v3.0.0. Use suggest_float(..., log=True) instead.\n",
            "  'reg_lambda':       trial.suggest_loguniform('reg_lambda', 1e-8, 10.0),\n",
            "/usr/local/lib/python3.11/dist-packages/sklearn/utils/deprecation.py:151: FutureWarning: 'force_all_finite' was renamed to 'ensure_all_finite' in 1.6 and will be removed in 1.8.\n",
            "  warnings.warn(\n"
          ]
        },
        {
          "name": "stdout",
          "output_type": "stream",
          "text": [
            "Training until validation scores don't improve for 50 rounds\n",
            "Did not meet early stopping. Best iteration is:\n",
            "[1991]\tvalid_0's l2: 0.0368983\n"
          ]
        },
        {
          "name": "stderr",
          "output_type": "stream",
          "text": [
            "/usr/local/lib/python3.11/dist-packages/sklearn/utils/deprecation.py:151: FutureWarning: 'force_all_finite' was renamed to 'ensure_all_finite' in 1.6 and will be removed in 1.8.\n",
            "  warnings.warn(\n"
          ]
        },
        {
          "name": "stdout",
          "output_type": "stream",
          "text": [
            "[I 2025-06-10 15:56:59,826] Trial 44 finished with value: 0.9688145064575516 and parameters: {'n_estimators': 1991, 'learning_rate': 0.0036149738682994077, 'num_leaves': 193, 'max_depth': 29, 'subsample': 0.7092202045338285, 'colsample_bytree': 0.6796398052218585, 'reg_alpha': 0.0014025156248740935, 'reg_lambda': 1.1628519141906803e-07, 'min_child_weight': 42}. Best is trial 25 with value: 0.975714953550876.\n"
          ]
        },
        {
          "name": "stderr",
          "output_type": "stream",
          "text": [
            "<ipython-input-48-54d882b388f3>:9: FutureWarning: suggest_loguniform has been deprecated in v3.0.0. This feature will be removed in v6.0.0. See https://github.com/optuna/optuna/releases/tag/v3.0.0. Use suggest_float(..., log=True) instead.\n",
            "  'learning_rate':    trial.suggest_loguniform('learning_rate', 1e-3, 1e-1),\n",
            "<ipython-input-48-54d882b388f3>:12: FutureWarning: suggest_uniform has been deprecated in v3.0.0. This feature will be removed in v6.0.0. See https://github.com/optuna/optuna/releases/tag/v3.0.0. Use suggest_float instead.\n",
            "  'subsample':        trial.suggest_uniform('subsample', 0.5, 1.0),\n",
            "<ipython-input-48-54d882b388f3>:13: FutureWarning: suggest_uniform has been deprecated in v3.0.0. This feature will be removed in v6.0.0. See https://github.com/optuna/optuna/releases/tag/v3.0.0. Use suggest_float instead.\n",
            "  'colsample_bytree': trial.suggest_uniform('colsample_bytree', 0.5, 1.0),\n",
            "<ipython-input-48-54d882b388f3>:14: FutureWarning: suggest_loguniform has been deprecated in v3.0.0. This feature will be removed in v6.0.0. See https://github.com/optuna/optuna/releases/tag/v3.0.0. Use suggest_float(..., log=True) instead.\n",
            "  'reg_alpha':        trial.suggest_loguniform('reg_alpha', 1e-8, 10.0),\n",
            "<ipython-input-48-54d882b388f3>:15: FutureWarning: suggest_loguniform has been deprecated in v3.0.0. This feature will be removed in v6.0.0. See https://github.com/optuna/optuna/releases/tag/v3.0.0. Use suggest_float(..., log=True) instead.\n",
            "  'reg_lambda':       trial.suggest_loguniform('reg_lambda', 1e-8, 10.0),\n",
            "/usr/local/lib/python3.11/dist-packages/sklearn/utils/deprecation.py:151: FutureWarning: 'force_all_finite' was renamed to 'ensure_all_finite' in 1.6 and will be removed in 1.8.\n",
            "  warnings.warn(\n"
          ]
        },
        {
          "name": "stdout",
          "output_type": "stream",
          "text": [
            "Training until validation scores don't improve for 50 rounds\n"
          ]
        }
      ],
      "source": [
        "study = optuna.create_study(direction='maximize', study_name='lgbm_opt_r2')\n",
        "study.optimize(\n",
        "    objective,\n",
        "    n_trials=N_TRIALS,\n",
        "    show_progress_bar=True,\n",
        ")\n",
        "\n",
        "best = study.best_params\n",
        "best.update({'device':'gpu','random_seed':RANDOM_STATE,'verbose':-1})\n",
        "final_model = LGBMRegressor(**best)\n",
        "final_model.fit(X_train_proc, y_train, eval_set=(X_valid_proc, y_valid), early_stopping_rounds=N_TRIALS)\n",
        "\n",
        "joblib.dump(final_model, 'drive/MyDrive/ML_project/best_lightgbm_model_with_new_feature.pkl')\n",
        "joblib.dump(preprocessor, 'drive/MyDrive/ML_project/lightgbm_preprocessor_with_new_feature.pkl')\n",
        "print(\"Models saved to best_lightgbm_model_with_new_feature.pkl and lightgbm_preprocessor_with_new_feature.pkl\")\n",
        "\n",
        "print(\"Best R²:\", study.best_value)\n",
        "print(\"Best params:\", study.best_params)"
      ]
    },
    {
      "cell_type": "code",
      "execution_count": null,
      "metadata": {
        "id": "_cCkEJw6ypD0"
      },
      "outputs": [],
      "source": [
        "X_test_proc = preprocessor.transform(X_test)\n",
        "y_pred = final_model.predict(X_test_proc)"
      ]
    },
    {
      "cell_type": "code",
      "execution_count": null,
      "metadata": {
        "id": "rgO9ul20y5-P"
      },
      "outputs": [],
      "source": [
        "from sklearn.metrics import mean_absolute_error, mean_squared_error, r2_score\n",
        "\n",
        "print(f\"Test MAE: {mean_absolute_error(y_test, y_pred):.4f}\")\n",
        "print(f\"Test MSE: {mean_squared_error(y_test, y_pred):.4f}\")\n",
        "print(f\"Test R^2: {r2_score(y_test, y_pred):.4f}\")"
      ]
    },
    {
      "cell_type": "markdown",
      "metadata": {},
      "source": [
        "### Выводы"
      ]
    },
    {
      "cell_type": "markdown",
      "metadata": {},
      "source": [
        "$R^2 = 0.9757$"
      ]
    },
    {
      "cell_type": "code",
      "execution_count": null,
      "metadata": {},
      "outputs": [],
      "source": [
        "param = {\n",
        "    'n_estimators': 1165, \n",
        "    'learning_rate': 0.06555964500796287, \n",
        "    'num_leaves': 162, \n",
        "    'max_depth': 18, \n",
        "    'subsample': 0.8642338819071332, \n",
        "    'colsample_bytree': 0.5520540488251534, \n",
        "    'reg_alpha': 0.00015346592557518072, \n",
        "    'reg_lambda': 9.94216540977995e-05, \n",
        "    'min_child_weight': 16\n",
        "}"
      ]
    }
  ],
  "metadata": {
    "accelerator": "GPU",
    "colab": {
      "gpuType": "T4",
      "provenance": []
    },
    "kernelspec": {
      "display_name": "Python 3",
      "name": "python3"
    },
    "language_info": {
      "name": "python"
    },
    "widgets": {
      "application/vnd.jupyter.widget-state+json": {
        "286107ff70714e00b19747fb45ad6fcd": {
          "model_module": "@jupyter-widgets/controls",
          "model_module_version": "1.5.0",
          "model_name": "DescriptionStyleModel",
          "state": {
            "_model_module": "@jupyter-widgets/controls",
            "_model_module_version": "1.5.0",
            "_model_name": "DescriptionStyleModel",
            "_view_count": null,
            "_view_module": "@jupyter-widgets/base",
            "_view_module_version": "1.2.0",
            "_view_name": "StyleView",
            "description_width": ""
          }
        },
        "346f1e6d6bb1477eb7ab1d0b71857eb5": {
          "model_module": "@jupyter-widgets/controls",
          "model_module_version": "1.5.0",
          "model_name": "FloatProgressModel",
          "state": {
            "_dom_classes": [],
            "_model_module": "@jupyter-widgets/controls",
            "_model_module_version": "1.5.0",
            "_model_name": "FloatProgressModel",
            "_view_count": null,
            "_view_module": "@jupyter-widgets/controls",
            "_view_module_version": "1.5.0",
            "_view_name": "ProgressView",
            "bar_style": "",
            "description": "",
            "description_tooltip": null,
            "layout": "IPY_MODEL_b85bcd2e0e0643c3afa3e168a2a23dbe",
            "max": 50,
            "min": 0,
            "orientation": "horizontal",
            "style": "IPY_MODEL_c1390a1cf7614232a786572535b4e4b4",
            "value": 45
          }
        },
        "5c83e0f084c6471fad9307b6ae30ed87": {
          "model_module": "@jupyter-widgets/controls",
          "model_module_version": "1.5.0",
          "model_name": "DescriptionStyleModel",
          "state": {
            "_model_module": "@jupyter-widgets/controls",
            "_model_module_version": "1.5.0",
            "_model_name": "DescriptionStyleModel",
            "_view_count": null,
            "_view_module": "@jupyter-widgets/base",
            "_view_module_version": "1.2.0",
            "_view_name": "StyleView",
            "description_width": ""
          }
        },
        "68e0f84ded2e4226a73286aef6dc81d9": {
          "model_module": "@jupyter-widgets/controls",
          "model_module_version": "1.5.0",
          "model_name": "HBoxModel",
          "state": {
            "_dom_classes": [],
            "_model_module": "@jupyter-widgets/controls",
            "_model_module_version": "1.5.0",
            "_model_name": "HBoxModel",
            "_view_count": null,
            "_view_module": "@jupyter-widgets/controls",
            "_view_module_version": "1.5.0",
            "_view_name": "HBoxView",
            "box_style": "",
            "children": [
              "IPY_MODEL_f1deaa6558b248a48e7fd3358ed572bd",
              "IPY_MODEL_346f1e6d6bb1477eb7ab1d0b71857eb5",
              "IPY_MODEL_aadfce9bb2eb467c9fb04941e282b761"
            ],
            "layout": "IPY_MODEL_737c866dd68642db8463dc98ebd07401"
          }
        },
        "721fbe9a45574a3396aab9c99567b8d5": {
          "model_module": "@jupyter-widgets/base",
          "model_module_version": "1.2.0",
          "model_name": "LayoutModel",
          "state": {
            "_model_module": "@jupyter-widgets/base",
            "_model_module_version": "1.2.0",
            "_model_name": "LayoutModel",
            "_view_count": null,
            "_view_module": "@jupyter-widgets/base",
            "_view_module_version": "1.2.0",
            "_view_name": "LayoutView",
            "align_content": null,
            "align_items": null,
            "align_self": null,
            "border": null,
            "bottom": null,
            "display": null,
            "flex": null,
            "flex_flow": null,
            "grid_area": null,
            "grid_auto_columns": null,
            "grid_auto_flow": null,
            "grid_auto_rows": null,
            "grid_column": null,
            "grid_gap": null,
            "grid_row": null,
            "grid_template_areas": null,
            "grid_template_columns": null,
            "grid_template_rows": null,
            "height": null,
            "justify_content": null,
            "justify_items": null,
            "left": null,
            "margin": null,
            "max_height": null,
            "max_width": null,
            "min_height": null,
            "min_width": null,
            "object_fit": null,
            "object_position": null,
            "order": null,
            "overflow": null,
            "overflow_x": null,
            "overflow_y": null,
            "padding": null,
            "right": null,
            "top": null,
            "visibility": null,
            "width": null
          }
        },
        "737c866dd68642db8463dc98ebd07401": {
          "model_module": "@jupyter-widgets/base",
          "model_module_version": "1.2.0",
          "model_name": "LayoutModel",
          "state": {
            "_model_module": "@jupyter-widgets/base",
            "_model_module_version": "1.2.0",
            "_model_name": "LayoutModel",
            "_view_count": null,
            "_view_module": "@jupyter-widgets/base",
            "_view_module_version": "1.2.0",
            "_view_name": "LayoutView",
            "align_content": null,
            "align_items": null,
            "align_self": null,
            "border": null,
            "bottom": null,
            "display": null,
            "flex": null,
            "flex_flow": null,
            "grid_area": null,
            "grid_auto_columns": null,
            "grid_auto_flow": null,
            "grid_auto_rows": null,
            "grid_column": null,
            "grid_gap": null,
            "grid_row": null,
            "grid_template_areas": null,
            "grid_template_columns": null,
            "grid_template_rows": null,
            "height": null,
            "justify_content": null,
            "justify_items": null,
            "left": null,
            "margin": null,
            "max_height": null,
            "max_width": null,
            "min_height": null,
            "min_width": null,
            "object_fit": null,
            "object_position": null,
            "order": null,
            "overflow": null,
            "overflow_x": null,
            "overflow_y": null,
            "padding": null,
            "right": null,
            "top": null,
            "visibility": null,
            "width": null
          }
        },
        "a18d0a8bb9a146b69a23ec52bb590070": {
          "model_module": "@jupyter-widgets/base",
          "model_module_version": "1.2.0",
          "model_name": "LayoutModel",
          "state": {
            "_model_module": "@jupyter-widgets/base",
            "_model_module_version": "1.2.0",
            "_model_name": "LayoutModel",
            "_view_count": null,
            "_view_module": "@jupyter-widgets/base",
            "_view_module_version": "1.2.0",
            "_view_name": "LayoutView",
            "align_content": null,
            "align_items": null,
            "align_self": null,
            "border": null,
            "bottom": null,
            "display": null,
            "flex": null,
            "flex_flow": null,
            "grid_area": null,
            "grid_auto_columns": null,
            "grid_auto_flow": null,
            "grid_auto_rows": null,
            "grid_column": null,
            "grid_gap": null,
            "grid_row": null,
            "grid_template_areas": null,
            "grid_template_columns": null,
            "grid_template_rows": null,
            "height": null,
            "justify_content": null,
            "justify_items": null,
            "left": null,
            "margin": null,
            "max_height": null,
            "max_width": null,
            "min_height": null,
            "min_width": null,
            "object_fit": null,
            "object_position": null,
            "order": null,
            "overflow": null,
            "overflow_x": null,
            "overflow_y": null,
            "padding": null,
            "right": null,
            "top": null,
            "visibility": null,
            "width": null
          }
        },
        "aadfce9bb2eb467c9fb04941e282b761": {
          "model_module": "@jupyter-widgets/controls",
          "model_module_version": "1.5.0",
          "model_name": "HTMLModel",
          "state": {
            "_dom_classes": [],
            "_model_module": "@jupyter-widgets/controls",
            "_model_module_version": "1.5.0",
            "_model_name": "HTMLModel",
            "_view_count": null,
            "_view_module": "@jupyter-widgets/controls",
            "_view_module_version": "1.5.0",
            "_view_name": "HTMLView",
            "description": "",
            "description_tooltip": null,
            "layout": "IPY_MODEL_a18d0a8bb9a146b69a23ec52bb590070",
            "placeholder": "​",
            "style": "IPY_MODEL_286107ff70714e00b19747fb45ad6fcd",
            "value": " 45/50 [1:28:17&lt;15:16, 183.25s/it]"
          }
        },
        "b85bcd2e0e0643c3afa3e168a2a23dbe": {
          "model_module": "@jupyter-widgets/base",
          "model_module_version": "1.2.0",
          "model_name": "LayoutModel",
          "state": {
            "_model_module": "@jupyter-widgets/base",
            "_model_module_version": "1.2.0",
            "_model_name": "LayoutModel",
            "_view_count": null,
            "_view_module": "@jupyter-widgets/base",
            "_view_module_version": "1.2.0",
            "_view_name": "LayoutView",
            "align_content": null,
            "align_items": null,
            "align_self": null,
            "border": null,
            "bottom": null,
            "display": null,
            "flex": null,
            "flex_flow": null,
            "grid_area": null,
            "grid_auto_columns": null,
            "grid_auto_flow": null,
            "grid_auto_rows": null,
            "grid_column": null,
            "grid_gap": null,
            "grid_row": null,
            "grid_template_areas": null,
            "grid_template_columns": null,
            "grid_template_rows": null,
            "height": null,
            "justify_content": null,
            "justify_items": null,
            "left": null,
            "margin": null,
            "max_height": null,
            "max_width": null,
            "min_height": null,
            "min_width": null,
            "object_fit": null,
            "object_position": null,
            "order": null,
            "overflow": null,
            "overflow_x": null,
            "overflow_y": null,
            "padding": null,
            "right": null,
            "top": null,
            "visibility": null,
            "width": null
          }
        },
        "c1390a1cf7614232a786572535b4e4b4": {
          "model_module": "@jupyter-widgets/controls",
          "model_module_version": "1.5.0",
          "model_name": "ProgressStyleModel",
          "state": {
            "_model_module": "@jupyter-widgets/controls",
            "_model_module_version": "1.5.0",
            "_model_name": "ProgressStyleModel",
            "_view_count": null,
            "_view_module": "@jupyter-widgets/base",
            "_view_module_version": "1.2.0",
            "_view_name": "StyleView",
            "bar_color": null,
            "description_width": ""
          }
        },
        "f1deaa6558b248a48e7fd3358ed572bd": {
          "model_module": "@jupyter-widgets/controls",
          "model_module_version": "1.5.0",
          "model_name": "HTMLModel",
          "state": {
            "_dom_classes": [],
            "_model_module": "@jupyter-widgets/controls",
            "_model_module_version": "1.5.0",
            "_model_name": "HTMLModel",
            "_view_count": null,
            "_view_module": "@jupyter-widgets/controls",
            "_view_module_version": "1.5.0",
            "_view_name": "HTMLView",
            "description": "",
            "description_tooltip": null,
            "layout": "IPY_MODEL_721fbe9a45574a3396aab9c99567b8d5",
            "placeholder": "​",
            "style": "IPY_MODEL_5c83e0f084c6471fad9307b6ae30ed87",
            "value": "Best trial: 25. Best value: 0.975715:  90%"
          }
        }
      }
    }
  },
  "nbformat": 4,
  "nbformat_minor": 0
}
