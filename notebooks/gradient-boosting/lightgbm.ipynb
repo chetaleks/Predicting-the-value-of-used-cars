{
 "cells": [
  {
   "cell_type": "code",
   "execution_count": 33,
   "metadata": {},
   "outputs": [],
   "source": [
    "import pandas as pd\n",
    "import numpy as np\n",
    "import matplotlib.pyplot as plt\n",
    "import random\n",
    "import seaborn as sns"
   ]
  },
  {
   "cell_type": "code",
   "execution_count": 34,
   "metadata": {},
   "outputs": [
    {
     "name": "stdout",
     "output_type": "stream",
     "text": [
      "Requirement already satisfied: gdown in /Users/ilolss/anaconda3/envs/ml-project-2-course/lib/python3.10/site-packages (5.2.0)\n",
      "Requirement already satisfied: beautifulsoup4 in /Users/ilolss/anaconda3/envs/ml-project-2-course/lib/python3.10/site-packages (from gdown) (4.13.3)\n",
      "Requirement already satisfied: filelock in /Users/ilolss/anaconda3/envs/ml-project-2-course/lib/python3.10/site-packages (from gdown) (3.18.0)\n",
      "Requirement already satisfied: requests[socks] in /Users/ilolss/anaconda3/envs/ml-project-2-course/lib/python3.10/site-packages (from gdown) (2.32.3)\n",
      "Requirement already satisfied: tqdm in /Users/ilolss/anaconda3/envs/ml-project-2-course/lib/python3.10/site-packages (from gdown) (4.67.1)\n",
      "Requirement already satisfied: soupsieve>1.2 in /Users/ilolss/anaconda3/envs/ml-project-2-course/lib/python3.10/site-packages (from beautifulsoup4->gdown) (2.6)\n",
      "Requirement already satisfied: typing-extensions>=4.0.0 in /Users/ilolss/anaconda3/envs/ml-project-2-course/lib/python3.10/site-packages (from beautifulsoup4->gdown) (4.13.2)\n",
      "Requirement already satisfied: charset-normalizer<4,>=2 in /Users/ilolss/anaconda3/envs/ml-project-2-course/lib/python3.10/site-packages (from requests[socks]->gdown) (3.4.1)\n",
      "Requirement already satisfied: idna<4,>=2.5 in /Users/ilolss/anaconda3/envs/ml-project-2-course/lib/python3.10/site-packages (from requests[socks]->gdown) (3.10)\n",
      "Requirement already satisfied: urllib3<3,>=1.21.1 in /Users/ilolss/anaconda3/envs/ml-project-2-course/lib/python3.10/site-packages (from requests[socks]->gdown) (2.4.0)\n",
      "Requirement already satisfied: certifi>=2017.4.17 in /Users/ilolss/anaconda3/envs/ml-project-2-course/lib/python3.10/site-packages (from requests[socks]->gdown) (2025.1.31)\n",
      "Requirement already satisfied: PySocks!=1.5.7,>=1.5.6 in /Users/ilolss/anaconda3/envs/ml-project-2-course/lib/python3.10/site-packages (from requests[socks]->gdown) (1.7.1)\n",
      "Note: you may need to restart the kernel to use updated packages.\n"
     ]
    }
   ],
   "source": [
    "%pip install gdown"
   ]
  },
  {
   "cell_type": "code",
   "execution_count": 35,
   "metadata": {},
   "outputs": [
    {
     "name": "stdout",
     "output_type": "stream",
     "text": [
      "/Users/ilolss/anaconda3/envs/ml-project-2-course/lib/python3.10/site-packages/gdown/__main__.py:140: FutureWarning: Option `--id` was deprecated in version 4.3.1 and will be removed in 5.0. You don't need to pass it anymore to use a file ID.\n",
      "  warnings.warn(\n",
      "Downloading...\n",
      "From (original): https://drive.google.com/uc?id=1liFEe1-yFISPSpRSvbv1wIH_avYNGmBI\n",
      "From (redirected): https://drive.google.com/uc?id=1liFEe1-yFISPSpRSvbv1wIH_avYNGmBI&confirm=t&uuid=33c69fad-410a-4176-862a-498918c33127\n",
      "To: /Users/ilolss/HSE/ml_hse/ml_project/part_6/dataset.csv\n",
      "100%|██████████████████████████████████████| 1.01G/1.01G [02:02<00:00, 8.29MB/s]\n"
     ]
    }
   ],
   "source": [
    "CARS_FILE_ID = '1liFEe1-yFISPSpRSvbv1wIH_avYNGmBI'\n",
    "RANDOM_STATE = 42\n",
    "\n",
    "random.seed(RANDOM_STATE)\n",
    "np.random.seed(RANDOM_STATE)\n",
    "\n",
    "!gdown --id {CARS_FILE_ID}"
   ]
  },
  {
   "cell_type": "code",
   "execution_count": 36,
   "metadata": {},
   "outputs": [
    {
     "name": "stdout",
     "output_type": "stream",
     "text": [
      "(604047, 24)\n"
     ]
    }
   ],
   "source": [
    "df = pd.read_csv('dataset.csv')\n",
    "print(df.shape)"
   ]
  },
  {
   "cell_type": "code",
   "execution_count": 37,
   "metadata": {},
   "outputs": [
    {
     "data": {
      "text/html": [
       "<div>\n",
       "<style scoped>\n",
       "    .dataframe tbody tr th:only-of-type {\n",
       "        vertical-align: middle;\n",
       "    }\n",
       "\n",
       "    .dataframe tbody tr th {\n",
       "        vertical-align: top;\n",
       "    }\n",
       "\n",
       "    .dataframe thead th {\n",
       "        text-align: right;\n",
       "    }\n",
       "</style>\n",
       "<table border=\"1\" class=\"dataframe\">\n",
       "  <thead>\n",
       "    <tr style=\"text-align: right;\">\n",
       "      <th></th>\n",
       "      <th>production_year</th>\n",
       "      <th>mileage</th>\n",
       "      <th>condition</th>\n",
       "      <th>owners_number</th>\n",
       "      <th>pts_original</th>\n",
       "      <th>horse_power</th>\n",
       "      <th>accidents_resolution</th>\n",
       "      <th>region</th>\n",
       "      <th>seller_type</th>\n",
       "      <th>brand</th>\n",
       "      <th>...</th>\n",
       "      <th>engine_displacement</th>\n",
       "      <th>engine_power</th>\n",
       "      <th>fuel_rate</th>\n",
       "      <th>steering_wheel</th>\n",
       "      <th>price</th>\n",
       "      <th>price_segment</th>\n",
       "      <th>tags</th>\n",
       "      <th>auto_class</th>\n",
       "      <th>equipment</th>\n",
       "      <th>complectation_available_options</th>\n",
       "    </tr>\n",
       "  </thead>\n",
       "  <tbody>\n",
       "    <tr>\n",
       "      <th>210905</th>\n",
       "      <td>2003</td>\n",
       "      <td>175000</td>\n",
       "      <td>CONDITION_OK</td>\n",
       "      <td>0</td>\n",
       "      <td>True</td>\n",
       "      <td>NaN</td>\n",
       "      <td>NaN</td>\n",
       "      <td>Чебаркуль</td>\n",
       "      <td>PRIVATE</td>\n",
       "      <td>Hyundai</td>\n",
       "      <td>...</td>\n",
       "      <td>NaN</td>\n",
       "      <td>NaN</td>\n",
       "      <td>NaN</td>\n",
       "      <td>LEFT</td>\n",
       "      <td>380000</td>\n",
       "      <td>MEDIUM</td>\n",
       "      <td>available_for_checkup;pts_original;real_photo;...</td>\n",
       "      <td>NaN</td>\n",
       "      <td>seats-5</td>\n",
       "      <td>NaN</td>\n",
       "    </tr>\n",
       "  </tbody>\n",
       "</table>\n",
       "<p>1 rows × 24 columns</p>\n",
       "</div>"
      ],
      "text/plain": [
       "        production_year  mileage     condition  owners_number pts_original  \\\n",
       "210905             2003   175000  CONDITION_OK              0         True   \n",
       "\n",
       "        horse_power accidents_resolution     region seller_type    brand  ...  \\\n",
       "210905          NaN                  NaN  Чебаркуль     PRIVATE  Hyundai  ...   \n",
       "\n",
       "       engine_displacement engine_power  fuel_rate steering_wheel   price  \\\n",
       "210905                 NaN          NaN        NaN           LEFT  380000   \n",
       "\n",
       "        price_segment                                               tags  \\\n",
       "210905         MEDIUM  available_for_checkup;pts_original;real_photo;...   \n",
       "\n",
       "       auto_class  equipment complectation_available_options  \n",
       "210905        NaN    seats-5                             NaN  \n",
       "\n",
       "[1 rows x 24 columns]"
      ]
     },
     "execution_count": 37,
     "metadata": {},
     "output_type": "execute_result"
    }
   ],
   "source": [
    "df_with_na_column = df[df['engine_displacement'].isna()]\n",
    "df_with_na_column"
   ]
  },
  {
   "cell_type": "code",
   "execution_count": 38,
   "metadata": {},
   "outputs": [],
   "source": [
    "df.drop(210905, inplace=True)"
   ]
  },
  {
   "cell_type": "code",
   "execution_count": 39,
   "metadata": {},
   "outputs": [
    {
     "name": "stderr",
     "output_type": "stream",
     "text": [
      "/var/folders/g6/kn9b03jj7fb6vtdn4q7l0_cm0000gn/T/ipykernel_73459/3003548066.py:1: FutureWarning: A value is trying to be set on a copy of a DataFrame or Series through chained assignment using an inplace method.\n",
      "The behavior will change in pandas 3.0. This inplace method will never work because the intermediate object on which we are setting values always behaves as a copy.\n",
      "\n",
      "For example, when doing 'df[col].method(value, inplace=True)', try using 'df.method({col: value}, inplace=True)' or df[col] = df[col].method(value) instead, to perform the operation inplace on the original object.\n",
      "\n",
      "\n",
      "  df['fuel_rate'].fillna(df['fuel_rate'].median(), inplace=True)\n"
     ]
    }
   ],
   "source": [
    "df['fuel_rate'].fillna(df['fuel_rate'].median(), inplace=True)"
   ]
  },
  {
   "cell_type": "code",
   "execution_count": 40,
   "metadata": {},
   "outputs": [
    {
     "name": "stderr",
     "output_type": "stream",
     "text": [
      "/var/folders/g6/kn9b03jj7fb6vtdn4q7l0_cm0000gn/T/ipykernel_73459/2371127630.py:1: FutureWarning: A value is trying to be set on a copy of a DataFrame or Series through chained assignment using an inplace method.\n",
      "The behavior will change in pandas 3.0. This inplace method will never work because the intermediate object on which we are setting values always behaves as a copy.\n",
      "\n",
      "For example, when doing 'df[col].method(value, inplace=True)', try using 'df.method({col: value}, inplace=True)' or df[col] = df[col].method(value) instead, to perform the operation inplace on the original object.\n",
      "\n",
      "\n",
      "  df['pts_original'].fillna(True, inplace=True)\n",
      "/var/folders/g6/kn9b03jj7fb6vtdn4q7l0_cm0000gn/T/ipykernel_73459/2371127630.py:1: FutureWarning: Downcasting object dtype arrays on .fillna, .ffill, .bfill is deprecated and will change in a future version. Call result.infer_objects(copy=False) instead. To opt-in to the future behavior, set `pd.set_option('future.no_silent_downcasting', True)`\n",
      "  df['pts_original'].fillna(True, inplace=True)\n",
      "/var/folders/g6/kn9b03jj7fb6vtdn4q7l0_cm0000gn/T/ipykernel_73459/2371127630.py:2: FutureWarning: A value is trying to be set on a copy of a DataFrame or Series through chained assignment using an inplace method.\n",
      "The behavior will change in pandas 3.0. This inplace method will never work because the intermediate object on which we are setting values always behaves as a copy.\n",
      "\n",
      "For example, when doing 'df[col].method(value, inplace=True)', try using 'df.method({col: value}, inplace=True)' or df[col] = df[col].method(value) instead, to perform the operation inplace on the original object.\n",
      "\n",
      "\n",
      "  df['accidents_resolution'].fillna('OK', inplace=True)\n",
      "/var/folders/g6/kn9b03jj7fb6vtdn4q7l0_cm0000gn/T/ipykernel_73459/2371127630.py:3: FutureWarning: A value is trying to be set on a copy of a DataFrame or Series through chained assignment using an inplace method.\n",
      "The behavior will change in pandas 3.0. This inplace method will never work because the intermediate object on which we are setting values always behaves as a copy.\n",
      "\n",
      "For example, when doing 'df[col].method(value, inplace=True)', try using 'df.method({col: value}, inplace=True)' or df[col] = df[col].method(value) instead, to perform the operation inplace on the original object.\n",
      "\n",
      "\n",
      "  df['auto_class'].fillna('NOT SPECIFIED', inplace=True)\n"
     ]
    }
   ],
   "source": [
    "df['pts_original'].fillna(True, inplace=True)\n",
    "df['accidents_resolution'].fillna('OK', inplace=True)\n",
    "df['auto_class'].fillna('NOT SPECIFIED', inplace=True)"
   ]
  },
  {
   "cell_type": "code",
   "execution_count": 41,
   "metadata": {},
   "outputs": [],
   "source": [
    "df.drop('horse_power', axis=1, inplace=True)"
   ]
  },
  {
   "cell_type": "code",
   "execution_count": 42,
   "metadata": {},
   "outputs": [],
   "source": [
    "def get_unique_values(series, sep=';'):\n",
    "    uniq = set()\n",
    "    for cell in series.dropna():\n",
    "        for piece in cell.split(sep):\n",
    "            s = piece.strip()\n",
    "            if s:\n",
    "                uniq.add(s)\n",
    "    return np.array(list(uniq))\n",
    "\n",
    "all_tags = get_unique_values(df['tags'])\n",
    "all_options = get_unique_values(df['complectation_available_options'])\n",
    "all_equipments = get_unique_values(df['equipment'])"
   ]
  },
  {
   "cell_type": "code",
   "execution_count": 43,
   "metadata": {},
   "outputs": [],
   "source": [
    "def create_binary_features(df, column, unique_values, sep=';'):\n",
    "    return (\n",
    "        df[column]\n",
    "        .str.get_dummies(sep=sep)\n",
    "        .reindex(columns=unique_values, fill_value=0)\n",
    "        .astype('int8')\n",
    "    )\n",
    "\n",
    "tags_dummies = create_binary_features(df, 'tags', all_tags)\n",
    "options_dummies = create_binary_features(df, 'complectation_available_options', all_options)\n",
    "equipment_dummies = create_binary_features(df, 'equipment', all_equipments)"
   ]
  },
  {
   "cell_type": "code",
   "execution_count": 44,
   "metadata": {},
   "outputs": [],
   "source": [
    "tags_dummies = tags_dummies.astype('Sparse[int]')\n",
    "options_dummies = options_dummies.astype('Sparse[int]')\n",
    "equipment_dummies = equipment_dummies.astype('Sparse[int]')"
   ]
  },
  {
   "cell_type": "code",
   "execution_count": 45,
   "metadata": {},
   "outputs": [],
   "source": [
    "full_df = pd.concat([\n",
    "    df.drop(columns=['tags', 'complectation_available_options', 'equipment']),\n",
    "    tags_dummies,\n",
    "    options_dummies.drop(columns=['condition']),\n",
    "    equipment_dummies.drop(columns=['condition'])\n",
    "], axis=1)"
   ]
  },
  {
   "cell_type": "code",
   "execution_count": 46,
   "metadata": {},
   "outputs": [],
   "source": [
    "duplicated_cols = full_df.columns[full_df.columns.duplicated()].unique()\n",
    "for col in duplicated_cols:\n",
    "    full_df[col] = full_df[col].astype(\"int8\")"
   ]
  },
  {
   "cell_type": "code",
   "execution_count": 47,
   "metadata": {},
   "outputs": [
    {
     "name": "stderr",
     "output_type": "stream",
     "text": [
      "/var/folders/g6/kn9b03jj7fb6vtdn4q7l0_cm0000gn/T/ipykernel_73459/333588981.py:20: PerformanceWarning: DataFrame is highly fragmented.  This is usually the result of calling `frame.insert` many times, which has poor performance.  Consider joining all columns at once using pd.concat(axis=1) instead. To get a de-fragmented frame, use `newframe = frame.copy()`\n",
      "  full_df[name] = s\n",
      "/var/folders/g6/kn9b03jj7fb6vtdn4q7l0_cm0000gn/T/ipykernel_73459/333588981.py:20: PerformanceWarning: DataFrame is highly fragmented.  This is usually the result of calling `frame.insert` many times, which has poor performance.  Consider joining all columns at once using pd.concat(axis=1) instead. To get a de-fragmented frame, use `newframe = frame.copy()`\n",
      "  full_df[name] = s\n",
      "/var/folders/g6/kn9b03jj7fb6vtdn4q7l0_cm0000gn/T/ipykernel_73459/333588981.py:20: PerformanceWarning: DataFrame is highly fragmented.  This is usually the result of calling `frame.insert` many times, which has poor performance.  Consider joining all columns at once using pd.concat(axis=1) instead. To get a de-fragmented frame, use `newframe = frame.copy()`\n",
      "  full_df[name] = s\n",
      "/var/folders/g6/kn9b03jj7fb6vtdn4q7l0_cm0000gn/T/ipykernel_73459/333588981.py:20: PerformanceWarning: DataFrame is highly fragmented.  This is usually the result of calling `frame.insert` many times, which has poor performance.  Consider joining all columns at once using pd.concat(axis=1) instead. To get a de-fragmented frame, use `newframe = frame.copy()`\n",
      "  full_df[name] = s\n",
      "/var/folders/g6/kn9b03jj7fb6vtdn4q7l0_cm0000gn/T/ipykernel_73459/333588981.py:20: PerformanceWarning: DataFrame is highly fragmented.  This is usually the result of calling `frame.insert` many times, which has poor performance.  Consider joining all columns at once using pd.concat(axis=1) instead. To get a de-fragmented frame, use `newframe = frame.copy()`\n",
      "  full_df[name] = s\n",
      "/var/folders/g6/kn9b03jj7fb6vtdn4q7l0_cm0000gn/T/ipykernel_73459/333588981.py:20: PerformanceWarning: DataFrame is highly fragmented.  This is usually the result of calling `frame.insert` many times, which has poor performance.  Consider joining all columns at once using pd.concat(axis=1) instead. To get a de-fragmented frame, use `newframe = frame.copy()`\n",
      "  full_df[name] = s\n",
      "/var/folders/g6/kn9b03jj7fb6vtdn4q7l0_cm0000gn/T/ipykernel_73459/333588981.py:20: PerformanceWarning: DataFrame is highly fragmented.  This is usually the result of calling `frame.insert` many times, which has poor performance.  Consider joining all columns at once using pd.concat(axis=1) instead. To get a de-fragmented frame, use `newframe = frame.copy()`\n",
      "  full_df[name] = s\n",
      "/var/folders/g6/kn9b03jj7fb6vtdn4q7l0_cm0000gn/T/ipykernel_73459/333588981.py:20: PerformanceWarning: DataFrame is highly fragmented.  This is usually the result of calling `frame.insert` many times, which has poor performance.  Consider joining all columns at once using pd.concat(axis=1) instead. To get a de-fragmented frame, use `newframe = frame.copy()`\n",
      "  full_df[name] = s\n",
      "/var/folders/g6/kn9b03jj7fb6vtdn4q7l0_cm0000gn/T/ipykernel_73459/333588981.py:20: PerformanceWarning: DataFrame is highly fragmented.  This is usually the result of calling `frame.insert` many times, which has poor performance.  Consider joining all columns at once using pd.concat(axis=1) instead. To get a de-fragmented frame, use `newframe = frame.copy()`\n",
      "  full_df[name] = s\n",
      "/var/folders/g6/kn9b03jj7fb6vtdn4q7l0_cm0000gn/T/ipykernel_73459/333588981.py:20: PerformanceWarning: DataFrame is highly fragmented.  This is usually the result of calling `frame.insert` many times, which has poor performance.  Consider joining all columns at once using pd.concat(axis=1) instead. To get a de-fragmented frame, use `newframe = frame.copy()`\n",
      "  full_df[name] = s\n",
      "/var/folders/g6/kn9b03jj7fb6vtdn4q7l0_cm0000gn/T/ipykernel_73459/333588981.py:20: PerformanceWarning: DataFrame is highly fragmented.  This is usually the result of calling `frame.insert` many times, which has poor performance.  Consider joining all columns at once using pd.concat(axis=1) instead. To get a de-fragmented frame, use `newframe = frame.copy()`\n",
      "  full_df[name] = s\n",
      "/var/folders/g6/kn9b03jj7fb6vtdn4q7l0_cm0000gn/T/ipykernel_73459/333588981.py:20: PerformanceWarning: DataFrame is highly fragmented.  This is usually the result of calling `frame.insert` many times, which has poor performance.  Consider joining all columns at once using pd.concat(axis=1) instead. To get a de-fragmented frame, use `newframe = frame.copy()`\n",
      "  full_df[name] = s\n",
      "/var/folders/g6/kn9b03jj7fb6vtdn4q7l0_cm0000gn/T/ipykernel_73459/333588981.py:20: PerformanceWarning: DataFrame is highly fragmented.  This is usually the result of calling `frame.insert` many times, which has poor performance.  Consider joining all columns at once using pd.concat(axis=1) instead. To get a de-fragmented frame, use `newframe = frame.copy()`\n",
      "  full_df[name] = s\n",
      "/var/folders/g6/kn9b03jj7fb6vtdn4q7l0_cm0000gn/T/ipykernel_73459/333588981.py:20: PerformanceWarning: DataFrame is highly fragmented.  This is usually the result of calling `frame.insert` many times, which has poor performance.  Consider joining all columns at once using pd.concat(axis=1) instead. To get a de-fragmented frame, use `newframe = frame.copy()`\n",
      "  full_df[name] = s\n",
      "/var/folders/g6/kn9b03jj7fb6vtdn4q7l0_cm0000gn/T/ipykernel_73459/333588981.py:20: PerformanceWarning: DataFrame is highly fragmented.  This is usually the result of calling `frame.insert` many times, which has poor performance.  Consider joining all columns at once using pd.concat(axis=1) instead. To get a de-fragmented frame, use `newframe = frame.copy()`\n",
      "  full_df[name] = s\n",
      "/var/folders/g6/kn9b03jj7fb6vtdn4q7l0_cm0000gn/T/ipykernel_73459/333588981.py:20: PerformanceWarning: DataFrame is highly fragmented.  This is usually the result of calling `frame.insert` many times, which has poor performance.  Consider joining all columns at once using pd.concat(axis=1) instead. To get a de-fragmented frame, use `newframe = frame.copy()`\n",
      "  full_df[name] = s\n",
      "/var/folders/g6/kn9b03jj7fb6vtdn4q7l0_cm0000gn/T/ipykernel_73459/333588981.py:20: PerformanceWarning: DataFrame is highly fragmented.  This is usually the result of calling `frame.insert` many times, which has poor performance.  Consider joining all columns at once using pd.concat(axis=1) instead. To get a de-fragmented frame, use `newframe = frame.copy()`\n",
      "  full_df[name] = s\n",
      "/var/folders/g6/kn9b03jj7fb6vtdn4q7l0_cm0000gn/T/ipykernel_73459/333588981.py:20: PerformanceWarning: DataFrame is highly fragmented.  This is usually the result of calling `frame.insert` many times, which has poor performance.  Consider joining all columns at once using pd.concat(axis=1) instead. To get a de-fragmented frame, use `newframe = frame.copy()`\n",
      "  full_df[name] = s\n",
      "/var/folders/g6/kn9b03jj7fb6vtdn4q7l0_cm0000gn/T/ipykernel_73459/333588981.py:20: PerformanceWarning: DataFrame is highly fragmented.  This is usually the result of calling `frame.insert` many times, which has poor performance.  Consider joining all columns at once using pd.concat(axis=1) instead. To get a de-fragmented frame, use `newframe = frame.copy()`\n",
      "  full_df[name] = s\n",
      "/var/folders/g6/kn9b03jj7fb6vtdn4q7l0_cm0000gn/T/ipykernel_73459/333588981.py:20: PerformanceWarning: DataFrame is highly fragmented.  This is usually the result of calling `frame.insert` many times, which has poor performance.  Consider joining all columns at once using pd.concat(axis=1) instead. To get a de-fragmented frame, use `newframe = frame.copy()`\n",
      "  full_df[name] = s\n",
      "/var/folders/g6/kn9b03jj7fb6vtdn4q7l0_cm0000gn/T/ipykernel_73459/333588981.py:20: PerformanceWarning: DataFrame is highly fragmented.  This is usually the result of calling `frame.insert` many times, which has poor performance.  Consider joining all columns at once using pd.concat(axis=1) instead. To get a de-fragmented frame, use `newframe = frame.copy()`\n",
      "  full_df[name] = s\n",
      "/var/folders/g6/kn9b03jj7fb6vtdn4q7l0_cm0000gn/T/ipykernel_73459/333588981.py:20: PerformanceWarning: DataFrame is highly fragmented.  This is usually the result of calling `frame.insert` many times, which has poor performance.  Consider joining all columns at once using pd.concat(axis=1) instead. To get a de-fragmented frame, use `newframe = frame.copy()`\n",
      "  full_df[name] = s\n",
      "/var/folders/g6/kn9b03jj7fb6vtdn4q7l0_cm0000gn/T/ipykernel_73459/333588981.py:20: PerformanceWarning: DataFrame is highly fragmented.  This is usually the result of calling `frame.insert` many times, which has poor performance.  Consider joining all columns at once using pd.concat(axis=1) instead. To get a de-fragmented frame, use `newframe = frame.copy()`\n",
      "  full_df[name] = s\n",
      "/var/folders/g6/kn9b03jj7fb6vtdn4q7l0_cm0000gn/T/ipykernel_73459/333588981.py:20: PerformanceWarning: DataFrame is highly fragmented.  This is usually the result of calling `frame.insert` many times, which has poor performance.  Consider joining all columns at once using pd.concat(axis=1) instead. To get a de-fragmented frame, use `newframe = frame.copy()`\n",
      "  full_df[name] = s\n",
      "/var/folders/g6/kn9b03jj7fb6vtdn4q7l0_cm0000gn/T/ipykernel_73459/333588981.py:20: PerformanceWarning: DataFrame is highly fragmented.  This is usually the result of calling `frame.insert` many times, which has poor performance.  Consider joining all columns at once using pd.concat(axis=1) instead. To get a de-fragmented frame, use `newframe = frame.copy()`\n",
      "  full_df[name] = s\n",
      "/var/folders/g6/kn9b03jj7fb6vtdn4q7l0_cm0000gn/T/ipykernel_73459/333588981.py:20: PerformanceWarning: DataFrame is highly fragmented.  This is usually the result of calling `frame.insert` many times, which has poor performance.  Consider joining all columns at once using pd.concat(axis=1) instead. To get a de-fragmented frame, use `newframe = frame.copy()`\n",
      "  full_df[name] = s\n",
      "/var/folders/g6/kn9b03jj7fb6vtdn4q7l0_cm0000gn/T/ipykernel_73459/333588981.py:20: PerformanceWarning: DataFrame is highly fragmented.  This is usually the result of calling `frame.insert` many times, which has poor performance.  Consider joining all columns at once using pd.concat(axis=1) instead. To get a de-fragmented frame, use `newframe = frame.copy()`\n",
      "  full_df[name] = s\n",
      "/var/folders/g6/kn9b03jj7fb6vtdn4q7l0_cm0000gn/T/ipykernel_73459/333588981.py:20: PerformanceWarning: DataFrame is highly fragmented.  This is usually the result of calling `frame.insert` many times, which has poor performance.  Consider joining all columns at once using pd.concat(axis=1) instead. To get a de-fragmented frame, use `newframe = frame.copy()`\n",
      "  full_df[name] = s\n",
      "/var/folders/g6/kn9b03jj7fb6vtdn4q7l0_cm0000gn/T/ipykernel_73459/333588981.py:20: PerformanceWarning: DataFrame is highly fragmented.  This is usually the result of calling `frame.insert` many times, which has poor performance.  Consider joining all columns at once using pd.concat(axis=1) instead. To get a de-fragmented frame, use `newframe = frame.copy()`\n",
      "  full_df[name] = s\n",
      "/var/folders/g6/kn9b03jj7fb6vtdn4q7l0_cm0000gn/T/ipykernel_73459/333588981.py:20: PerformanceWarning: DataFrame is highly fragmented.  This is usually the result of calling `frame.insert` many times, which has poor performance.  Consider joining all columns at once using pd.concat(axis=1) instead. To get a de-fragmented frame, use `newframe = frame.copy()`\n",
      "  full_df[name] = s\n",
      "/var/folders/g6/kn9b03jj7fb6vtdn4q7l0_cm0000gn/T/ipykernel_73459/333588981.py:20: PerformanceWarning: DataFrame is highly fragmented.  This is usually the result of calling `frame.insert` many times, which has poor performance.  Consider joining all columns at once using pd.concat(axis=1) instead. To get a de-fragmented frame, use `newframe = frame.copy()`\n",
      "  full_df[name] = s\n",
      "/var/folders/g6/kn9b03jj7fb6vtdn4q7l0_cm0000gn/T/ipykernel_73459/333588981.py:20: PerformanceWarning: DataFrame is highly fragmented.  This is usually the result of calling `frame.insert` many times, which has poor performance.  Consider joining all columns at once using pd.concat(axis=1) instead. To get a de-fragmented frame, use `newframe = frame.copy()`\n",
      "  full_df[name] = s\n",
      "/var/folders/g6/kn9b03jj7fb6vtdn4q7l0_cm0000gn/T/ipykernel_73459/333588981.py:20: PerformanceWarning: DataFrame is highly fragmented.  This is usually the result of calling `frame.insert` many times, which has poor performance.  Consider joining all columns at once using pd.concat(axis=1) instead. To get a de-fragmented frame, use `newframe = frame.copy()`\n",
      "  full_df[name] = s\n",
      "/var/folders/g6/kn9b03jj7fb6vtdn4q7l0_cm0000gn/T/ipykernel_73459/333588981.py:20: PerformanceWarning: DataFrame is highly fragmented.  This is usually the result of calling `frame.insert` many times, which has poor performance.  Consider joining all columns at once using pd.concat(axis=1) instead. To get a de-fragmented frame, use `newframe = frame.copy()`\n",
      "  full_df[name] = s\n",
      "/var/folders/g6/kn9b03jj7fb6vtdn4q7l0_cm0000gn/T/ipykernel_73459/333588981.py:20: PerformanceWarning: DataFrame is highly fragmented.  This is usually the result of calling `frame.insert` many times, which has poor performance.  Consider joining all columns at once using pd.concat(axis=1) instead. To get a de-fragmented frame, use `newframe = frame.copy()`\n",
      "  full_df[name] = s\n",
      "/var/folders/g6/kn9b03jj7fb6vtdn4q7l0_cm0000gn/T/ipykernel_73459/333588981.py:20: PerformanceWarning: DataFrame is highly fragmented.  This is usually the result of calling `frame.insert` many times, which has poor performance.  Consider joining all columns at once using pd.concat(axis=1) instead. To get a de-fragmented frame, use `newframe = frame.copy()`\n",
      "  full_df[name] = s\n",
      "/var/folders/g6/kn9b03jj7fb6vtdn4q7l0_cm0000gn/T/ipykernel_73459/333588981.py:20: PerformanceWarning: DataFrame is highly fragmented.  This is usually the result of calling `frame.insert` many times, which has poor performance.  Consider joining all columns at once using pd.concat(axis=1) instead. To get a de-fragmented frame, use `newframe = frame.copy()`\n",
      "  full_df[name] = s\n",
      "/var/folders/g6/kn9b03jj7fb6vtdn4q7l0_cm0000gn/T/ipykernel_73459/333588981.py:20: PerformanceWarning: DataFrame is highly fragmented.  This is usually the result of calling `frame.insert` many times, which has poor performance.  Consider joining all columns at once using pd.concat(axis=1) instead. To get a de-fragmented frame, use `newframe = frame.copy()`\n",
      "  full_df[name] = s\n",
      "/var/folders/g6/kn9b03jj7fb6vtdn4q7l0_cm0000gn/T/ipykernel_73459/333588981.py:20: PerformanceWarning: DataFrame is highly fragmented.  This is usually the result of calling `frame.insert` many times, which has poor performance.  Consider joining all columns at once using pd.concat(axis=1) instead. To get a de-fragmented frame, use `newframe = frame.copy()`\n",
      "  full_df[name] = s\n",
      "/var/folders/g6/kn9b03jj7fb6vtdn4q7l0_cm0000gn/T/ipykernel_73459/333588981.py:20: PerformanceWarning: DataFrame is highly fragmented.  This is usually the result of calling `frame.insert` many times, which has poor performance.  Consider joining all columns at once using pd.concat(axis=1) instead. To get a de-fragmented frame, use `newframe = frame.copy()`\n",
      "  full_df[name] = s\n",
      "/var/folders/g6/kn9b03jj7fb6vtdn4q7l0_cm0000gn/T/ipykernel_73459/333588981.py:20: PerformanceWarning: DataFrame is highly fragmented.  This is usually the result of calling `frame.insert` many times, which has poor performance.  Consider joining all columns at once using pd.concat(axis=1) instead. To get a de-fragmented frame, use `newframe = frame.copy()`\n",
      "  full_df[name] = s\n",
      "/var/folders/g6/kn9b03jj7fb6vtdn4q7l0_cm0000gn/T/ipykernel_73459/333588981.py:20: PerformanceWarning: DataFrame is highly fragmented.  This is usually the result of calling `frame.insert` many times, which has poor performance.  Consider joining all columns at once using pd.concat(axis=1) instead. To get a de-fragmented frame, use `newframe = frame.copy()`\n",
      "  full_df[name] = s\n",
      "/var/folders/g6/kn9b03jj7fb6vtdn4q7l0_cm0000gn/T/ipykernel_73459/333588981.py:20: PerformanceWarning: DataFrame is highly fragmented.  This is usually the result of calling `frame.insert` many times, which has poor performance.  Consider joining all columns at once using pd.concat(axis=1) instead. To get a de-fragmented frame, use `newframe = frame.copy()`\n",
      "  full_df[name] = s\n",
      "/var/folders/g6/kn9b03jj7fb6vtdn4q7l0_cm0000gn/T/ipykernel_73459/333588981.py:20: PerformanceWarning: DataFrame is highly fragmented.  This is usually the result of calling `frame.insert` many times, which has poor performance.  Consider joining all columns at once using pd.concat(axis=1) instead. To get a de-fragmented frame, use `newframe = frame.copy()`\n",
      "  full_df[name] = s\n",
      "/var/folders/g6/kn9b03jj7fb6vtdn4q7l0_cm0000gn/T/ipykernel_73459/333588981.py:20: PerformanceWarning: DataFrame is highly fragmented.  This is usually the result of calling `frame.insert` many times, which has poor performance.  Consider joining all columns at once using pd.concat(axis=1) instead. To get a de-fragmented frame, use `newframe = frame.copy()`\n",
      "  full_df[name] = s\n",
      "/var/folders/g6/kn9b03jj7fb6vtdn4q7l0_cm0000gn/T/ipykernel_73459/333588981.py:20: PerformanceWarning: DataFrame is highly fragmented.  This is usually the result of calling `frame.insert` many times, which has poor performance.  Consider joining all columns at once using pd.concat(axis=1) instead. To get a de-fragmented frame, use `newframe = frame.copy()`\n",
      "  full_df[name] = s\n",
      "/var/folders/g6/kn9b03jj7fb6vtdn4q7l0_cm0000gn/T/ipykernel_73459/333588981.py:20: PerformanceWarning: DataFrame is highly fragmented.  This is usually the result of calling `frame.insert` many times, which has poor performance.  Consider joining all columns at once using pd.concat(axis=1) instead. To get a de-fragmented frame, use `newframe = frame.copy()`\n",
      "  full_df[name] = s\n",
      "/var/folders/g6/kn9b03jj7fb6vtdn4q7l0_cm0000gn/T/ipykernel_73459/333588981.py:20: PerformanceWarning: DataFrame is highly fragmented.  This is usually the result of calling `frame.insert` many times, which has poor performance.  Consider joining all columns at once using pd.concat(axis=1) instead. To get a de-fragmented frame, use `newframe = frame.copy()`\n",
      "  full_df[name] = s\n",
      "/var/folders/g6/kn9b03jj7fb6vtdn4q7l0_cm0000gn/T/ipykernel_73459/333588981.py:20: PerformanceWarning: DataFrame is highly fragmented.  This is usually the result of calling `frame.insert` many times, which has poor performance.  Consider joining all columns at once using pd.concat(axis=1) instead. To get a de-fragmented frame, use `newframe = frame.copy()`\n",
      "  full_df[name] = s\n",
      "/var/folders/g6/kn9b03jj7fb6vtdn4q7l0_cm0000gn/T/ipykernel_73459/333588981.py:20: PerformanceWarning: DataFrame is highly fragmented.  This is usually the result of calling `frame.insert` many times, which has poor performance.  Consider joining all columns at once using pd.concat(axis=1) instead. To get a de-fragmented frame, use `newframe = frame.copy()`\n",
      "  full_df[name] = s\n",
      "/var/folders/g6/kn9b03jj7fb6vtdn4q7l0_cm0000gn/T/ipykernel_73459/333588981.py:20: PerformanceWarning: DataFrame is highly fragmented.  This is usually the result of calling `frame.insert` many times, which has poor performance.  Consider joining all columns at once using pd.concat(axis=1) instead. To get a de-fragmented frame, use `newframe = frame.copy()`\n",
      "  full_df[name] = s\n",
      "/var/folders/g6/kn9b03jj7fb6vtdn4q7l0_cm0000gn/T/ipykernel_73459/333588981.py:20: PerformanceWarning: DataFrame is highly fragmented.  This is usually the result of calling `frame.insert` many times, which has poor performance.  Consider joining all columns at once using pd.concat(axis=1) instead. To get a de-fragmented frame, use `newframe = frame.copy()`\n",
      "  full_df[name] = s\n",
      "/var/folders/g6/kn9b03jj7fb6vtdn4q7l0_cm0000gn/T/ipykernel_73459/333588981.py:20: PerformanceWarning: DataFrame is highly fragmented.  This is usually the result of calling `frame.insert` many times, which has poor performance.  Consider joining all columns at once using pd.concat(axis=1) instead. To get a de-fragmented frame, use `newframe = frame.copy()`\n",
      "  full_df[name] = s\n",
      "/var/folders/g6/kn9b03jj7fb6vtdn4q7l0_cm0000gn/T/ipykernel_73459/333588981.py:20: PerformanceWarning: DataFrame is highly fragmented.  This is usually the result of calling `frame.insert` many times, which has poor performance.  Consider joining all columns at once using pd.concat(axis=1) instead. To get a de-fragmented frame, use `newframe = frame.copy()`\n",
      "  full_df[name] = s\n",
      "/var/folders/g6/kn9b03jj7fb6vtdn4q7l0_cm0000gn/T/ipykernel_73459/333588981.py:20: PerformanceWarning: DataFrame is highly fragmented.  This is usually the result of calling `frame.insert` many times, which has poor performance.  Consider joining all columns at once using pd.concat(axis=1) instead. To get a de-fragmented frame, use `newframe = frame.copy()`\n",
      "  full_df[name] = s\n",
      "/var/folders/g6/kn9b03jj7fb6vtdn4q7l0_cm0000gn/T/ipykernel_73459/333588981.py:20: PerformanceWarning: DataFrame is highly fragmented.  This is usually the result of calling `frame.insert` many times, which has poor performance.  Consider joining all columns at once using pd.concat(axis=1) instead. To get a de-fragmented frame, use `newframe = frame.copy()`\n",
      "  full_df[name] = s\n",
      "/var/folders/g6/kn9b03jj7fb6vtdn4q7l0_cm0000gn/T/ipykernel_73459/333588981.py:20: PerformanceWarning: DataFrame is highly fragmented.  This is usually the result of calling `frame.insert` many times, which has poor performance.  Consider joining all columns at once using pd.concat(axis=1) instead. To get a de-fragmented frame, use `newframe = frame.copy()`\n",
      "  full_df[name] = s\n",
      "/var/folders/g6/kn9b03jj7fb6vtdn4q7l0_cm0000gn/T/ipykernel_73459/333588981.py:20: PerformanceWarning: DataFrame is highly fragmented.  This is usually the result of calling `frame.insert` many times, which has poor performance.  Consider joining all columns at once using pd.concat(axis=1) instead. To get a de-fragmented frame, use `newframe = frame.copy()`\n",
      "  full_df[name] = s\n",
      "/var/folders/g6/kn9b03jj7fb6vtdn4q7l0_cm0000gn/T/ipykernel_73459/333588981.py:20: PerformanceWarning: DataFrame is highly fragmented.  This is usually the result of calling `frame.insert` many times, which has poor performance.  Consider joining all columns at once using pd.concat(axis=1) instead. To get a de-fragmented frame, use `newframe = frame.copy()`\n",
      "  full_df[name] = s\n",
      "/var/folders/g6/kn9b03jj7fb6vtdn4q7l0_cm0000gn/T/ipykernel_73459/333588981.py:20: PerformanceWarning: DataFrame is highly fragmented.  This is usually the result of calling `frame.insert` many times, which has poor performance.  Consider joining all columns at once using pd.concat(axis=1) instead. To get a de-fragmented frame, use `newframe = frame.copy()`\n",
      "  full_df[name] = s\n",
      "/var/folders/g6/kn9b03jj7fb6vtdn4q7l0_cm0000gn/T/ipykernel_73459/333588981.py:20: PerformanceWarning: DataFrame is highly fragmented.  This is usually the result of calling `frame.insert` many times, which has poor performance.  Consider joining all columns at once using pd.concat(axis=1) instead. To get a de-fragmented frame, use `newframe = frame.copy()`\n",
      "  full_df[name] = s\n",
      "/var/folders/g6/kn9b03jj7fb6vtdn4q7l0_cm0000gn/T/ipykernel_73459/333588981.py:20: PerformanceWarning: DataFrame is highly fragmented.  This is usually the result of calling `frame.insert` many times, which has poor performance.  Consider joining all columns at once using pd.concat(axis=1) instead. To get a de-fragmented frame, use `newframe = frame.copy()`\n",
      "  full_df[name] = s\n",
      "/var/folders/g6/kn9b03jj7fb6vtdn4q7l0_cm0000gn/T/ipykernel_73459/333588981.py:20: PerformanceWarning: DataFrame is highly fragmented.  This is usually the result of calling `frame.insert` many times, which has poor performance.  Consider joining all columns at once using pd.concat(axis=1) instead. To get a de-fragmented frame, use `newframe = frame.copy()`\n",
      "  full_df[name] = s\n",
      "/var/folders/g6/kn9b03jj7fb6vtdn4q7l0_cm0000gn/T/ipykernel_73459/333588981.py:20: PerformanceWarning: DataFrame is highly fragmented.  This is usually the result of calling `frame.insert` many times, which has poor performance.  Consider joining all columns at once using pd.concat(axis=1) instead. To get a de-fragmented frame, use `newframe = frame.copy()`\n",
      "  full_df[name] = s\n",
      "/var/folders/g6/kn9b03jj7fb6vtdn4q7l0_cm0000gn/T/ipykernel_73459/333588981.py:20: PerformanceWarning: DataFrame is highly fragmented.  This is usually the result of calling `frame.insert` many times, which has poor performance.  Consider joining all columns at once using pd.concat(axis=1) instead. To get a de-fragmented frame, use `newframe = frame.copy()`\n",
      "  full_df[name] = s\n",
      "/var/folders/g6/kn9b03jj7fb6vtdn4q7l0_cm0000gn/T/ipykernel_73459/333588981.py:20: PerformanceWarning: DataFrame is highly fragmented.  This is usually the result of calling `frame.insert` many times, which has poor performance.  Consider joining all columns at once using pd.concat(axis=1) instead. To get a de-fragmented frame, use `newframe = frame.copy()`\n",
      "  full_df[name] = s\n",
      "/var/folders/g6/kn9b03jj7fb6vtdn4q7l0_cm0000gn/T/ipykernel_73459/333588981.py:20: PerformanceWarning: DataFrame is highly fragmented.  This is usually the result of calling `frame.insert` many times, which has poor performance.  Consider joining all columns at once using pd.concat(axis=1) instead. To get a de-fragmented frame, use `newframe = frame.copy()`\n",
      "  full_df[name] = s\n",
      "/var/folders/g6/kn9b03jj7fb6vtdn4q7l0_cm0000gn/T/ipykernel_73459/333588981.py:20: PerformanceWarning: DataFrame is highly fragmented.  This is usually the result of calling `frame.insert` many times, which has poor performance.  Consider joining all columns at once using pd.concat(axis=1) instead. To get a de-fragmented frame, use `newframe = frame.copy()`\n",
      "  full_df[name] = s\n",
      "/var/folders/g6/kn9b03jj7fb6vtdn4q7l0_cm0000gn/T/ipykernel_73459/333588981.py:20: PerformanceWarning: DataFrame is highly fragmented.  This is usually the result of calling `frame.insert` many times, which has poor performance.  Consider joining all columns at once using pd.concat(axis=1) instead. To get a de-fragmented frame, use `newframe = frame.copy()`\n",
      "  full_df[name] = s\n",
      "/var/folders/g6/kn9b03jj7fb6vtdn4q7l0_cm0000gn/T/ipykernel_73459/333588981.py:20: PerformanceWarning: DataFrame is highly fragmented.  This is usually the result of calling `frame.insert` many times, which has poor performance.  Consider joining all columns at once using pd.concat(axis=1) instead. To get a de-fragmented frame, use `newframe = frame.copy()`\n",
      "  full_df[name] = s\n",
      "/var/folders/g6/kn9b03jj7fb6vtdn4q7l0_cm0000gn/T/ipykernel_73459/333588981.py:20: PerformanceWarning: DataFrame is highly fragmented.  This is usually the result of calling `frame.insert` many times, which has poor performance.  Consider joining all columns at once using pd.concat(axis=1) instead. To get a de-fragmented frame, use `newframe = frame.copy()`\n",
      "  full_df[name] = s\n",
      "/var/folders/g6/kn9b03jj7fb6vtdn4q7l0_cm0000gn/T/ipykernel_73459/333588981.py:20: PerformanceWarning: DataFrame is highly fragmented.  This is usually the result of calling `frame.insert` many times, which has poor performance.  Consider joining all columns at once using pd.concat(axis=1) instead. To get a de-fragmented frame, use `newframe = frame.copy()`\n",
      "  full_df[name] = s\n",
      "/var/folders/g6/kn9b03jj7fb6vtdn4q7l0_cm0000gn/T/ipykernel_73459/333588981.py:20: PerformanceWarning: DataFrame is highly fragmented.  This is usually the result of calling `frame.insert` many times, which has poor performance.  Consider joining all columns at once using pd.concat(axis=1) instead. To get a de-fragmented frame, use `newframe = frame.copy()`\n",
      "  full_df[name] = s\n",
      "/var/folders/g6/kn9b03jj7fb6vtdn4q7l0_cm0000gn/T/ipykernel_73459/333588981.py:20: PerformanceWarning: DataFrame is highly fragmented.  This is usually the result of calling `frame.insert` many times, which has poor performance.  Consider joining all columns at once using pd.concat(axis=1) instead. To get a de-fragmented frame, use `newframe = frame.copy()`\n",
      "  full_df[name] = s\n"
     ]
    }
   ],
   "source": [
    "import numpy as np\n",
    "\n",
    "names = full_df.columns[full_df.columns.duplicated()].unique()\n",
    "new_cols = {}\n",
    "\n",
    "for name in names:\n",
    "    cols_i = [col for col in full_df.columns if col == name]\n",
    "    sub_df = full_df.loc[:, cols_i].astype('int8')   # DataFrame shape (n_rows, k)\n",
    "    \n",
    "    # берём максимум по строкам → Series shape (n_rows,)\n",
    "    max_series = sub_df.max(axis=1).astype('int8')\n",
    "    \n",
    "    new_cols[name] = max_series\n",
    "    \n",
    "    # удаляем *все* старые колонки с этим именем\n",
    "    full_df.drop(columns=cols_i, inplace=True)\n",
    "\n",
    "# теперь присваиваем новые колонки–Series (они одномерны!)\n",
    "for name, s in new_cols.items():\n",
    "    full_df[name] = s\n"
   ]
  },
  {
   "cell_type": "code",
   "execution_count": 48,
   "metadata": {},
   "outputs": [
    {
     "data": {
      "text/html": [
       "<div>\n",
       "<style scoped>\n",
       "    .dataframe tbody tr th:only-of-type {\n",
       "        vertical-align: middle;\n",
       "    }\n",
       "\n",
       "    .dataframe tbody tr th {\n",
       "        vertical-align: top;\n",
       "    }\n",
       "\n",
       "    .dataframe thead th {\n",
       "        text-align: right;\n",
       "    }\n",
       "</style>\n",
       "<table border=\"1\" class=\"dataframe\">\n",
       "  <thead>\n",
       "    <tr style=\"text-align: right;\">\n",
       "      <th></th>\n",
       "      <th>production_year</th>\n",
       "      <th>mileage</th>\n",
       "      <th>condition</th>\n",
       "      <th>owners_number</th>\n",
       "      <th>accidents_resolution</th>\n",
       "      <th>region</th>\n",
       "      <th>seller_type</th>\n",
       "      <th>brand</th>\n",
       "      <th>model</th>\n",
       "      <th>body_type</th>\n",
       "      <th>...</th>\n",
       "      <th>body-kit</th>\n",
       "      <th>android-auto</th>\n",
       "      <th>wheel-power</th>\n",
       "      <th>high-beam-assist</th>\n",
       "      <th>black-roof</th>\n",
       "      <th>climate-control-1</th>\n",
       "      <th>ashtray-and-cigarette-lighter</th>\n",
       "      <th>17-inch-wheels</th>\n",
       "      <th>24-inch-wheels</th>\n",
       "      <th>front-seats-heat-vent</th>\n",
       "    </tr>\n",
       "  </thead>\n",
       "  <tbody>\n",
       "    <tr>\n",
       "      <th>436947</th>\n",
       "      <td>2024</td>\n",
       "      <td>0</td>\n",
       "      <td>CONDITION_OK</td>\n",
       "      <td>0</td>\n",
       "      <td>OK</td>\n",
       "      <td>Санкт-Петербург</td>\n",
       "      <td>COMMERCIAL</td>\n",
       "      <td>Skoda</td>\n",
       "      <td>Karoq</td>\n",
       "      <td>ALLROAD_5_DOORS</td>\n",
       "      <td>...</td>\n",
       "      <td>0</td>\n",
       "      <td>0</td>\n",
       "      <td>1</td>\n",
       "      <td>0</td>\n",
       "      <td>0</td>\n",
       "      <td>1</td>\n",
       "      <td>0</td>\n",
       "      <td>0</td>\n",
       "      <td>0</td>\n",
       "      <td>0</td>\n",
       "    </tr>\n",
       "    <tr>\n",
       "      <th>329729</th>\n",
       "      <td>2020</td>\n",
       "      <td>40460</td>\n",
       "      <td>CONDITION_OK</td>\n",
       "      <td>1</td>\n",
       "      <td>ERROR</td>\n",
       "      <td>Москва</td>\n",
       "      <td>PRIVATE</td>\n",
       "      <td>Mercedes-Benz</td>\n",
       "      <td>E-Класс</td>\n",
       "      <td>COUPE_HARDTOP</td>\n",
       "      <td>...</td>\n",
       "      <td>0</td>\n",
       "      <td>0</td>\n",
       "      <td>0</td>\n",
       "      <td>0</td>\n",
       "      <td>1</td>\n",
       "      <td>1</td>\n",
       "      <td>1</td>\n",
       "      <td>0</td>\n",
       "      <td>0</td>\n",
       "      <td>0</td>\n",
       "    </tr>\n",
       "    <tr>\n",
       "      <th>343497</th>\n",
       "      <td>2000</td>\n",
       "      <td>380000</td>\n",
       "      <td>CONDITION_OK</td>\n",
       "      <td>4</td>\n",
       "      <td>OK</td>\n",
       "      <td>Москва</td>\n",
       "      <td>PRIVATE</td>\n",
       "      <td>Mercedes-Benz</td>\n",
       "      <td>M-Класс</td>\n",
       "      <td>ALLROAD_5_DOORS</td>\n",
       "      <td>...</td>\n",
       "      <td>0</td>\n",
       "      <td>0</td>\n",
       "      <td>0</td>\n",
       "      <td>0</td>\n",
       "      <td>0</td>\n",
       "      <td>0</td>\n",
       "      <td>0</td>\n",
       "      <td>0</td>\n",
       "      <td>0</td>\n",
       "      <td>0</td>\n",
       "    </tr>\n",
       "    <tr>\n",
       "      <th>439784</th>\n",
       "      <td>2019</td>\n",
       "      <td>170000</td>\n",
       "      <td>CONDITION_OK</td>\n",
       "      <td>1</td>\n",
       "      <td>ERROR</td>\n",
       "      <td>Москва</td>\n",
       "      <td>PRIVATE</td>\n",
       "      <td>Skoda</td>\n",
       "      <td>Octavia</td>\n",
       "      <td>LIFTBACK</td>\n",
       "      <td>...</td>\n",
       "      <td>0</td>\n",
       "      <td>1</td>\n",
       "      <td>0</td>\n",
       "      <td>0</td>\n",
       "      <td>0</td>\n",
       "      <td>1</td>\n",
       "      <td>1</td>\n",
       "      <td>1</td>\n",
       "      <td>0</td>\n",
       "      <td>0</td>\n",
       "    </tr>\n",
       "    <tr>\n",
       "      <th>550845</th>\n",
       "      <td>2023</td>\n",
       "      <td>107</td>\n",
       "      <td>CONDITION_OK</td>\n",
       "      <td>1</td>\n",
       "      <td>OK</td>\n",
       "      <td>Краснодар</td>\n",
       "      <td>PRIVATE</td>\n",
       "      <td>Lada (ВАЗ)</td>\n",
       "      <td>Largus</td>\n",
       "      <td>WAGON_5_DOORS</td>\n",
       "      <td>...</td>\n",
       "      <td>0</td>\n",
       "      <td>0</td>\n",
       "      <td>1</td>\n",
       "      <td>0</td>\n",
       "      <td>0</td>\n",
       "      <td>0</td>\n",
       "      <td>0</td>\n",
       "      <td>0</td>\n",
       "      <td>0</td>\n",
       "      <td>0</td>\n",
       "    </tr>\n",
       "    <tr>\n",
       "      <th>431808</th>\n",
       "      <td>2015</td>\n",
       "      <td>110727</td>\n",
       "      <td>CONDITION_OK</td>\n",
       "      <td>1</td>\n",
       "      <td>OK</td>\n",
       "      <td>Уфа</td>\n",
       "      <td>COMMERCIAL</td>\n",
       "      <td>Renault</td>\n",
       "      <td>Sandero</td>\n",
       "      <td>HATCHBACK_5_DOORS</td>\n",
       "      <td>...</td>\n",
       "      <td>0</td>\n",
       "      <td>0</td>\n",
       "      <td>1</td>\n",
       "      <td>0</td>\n",
       "      <td>0</td>\n",
       "      <td>0</td>\n",
       "      <td>1</td>\n",
       "      <td>0</td>\n",
       "      <td>0</td>\n",
       "      <td>0</td>\n",
       "    </tr>\n",
       "    <tr>\n",
       "      <th>167063</th>\n",
       "      <td>2024</td>\n",
       "      <td>0</td>\n",
       "      <td>CONDITION_OK</td>\n",
       "      <td>0</td>\n",
       "      <td>OK</td>\n",
       "      <td>Химки</td>\n",
       "      <td>COMMERCIAL</td>\n",
       "      <td>Genesis</td>\n",
       "      <td>GV80 Coupe</td>\n",
       "      <td>ALLROAD_5_DOORS</td>\n",
       "      <td>...</td>\n",
       "      <td>0</td>\n",
       "      <td>1</td>\n",
       "      <td>1</td>\n",
       "      <td>1</td>\n",
       "      <td>1</td>\n",
       "      <td>1</td>\n",
       "      <td>0</td>\n",
       "      <td>0</td>\n",
       "      <td>0</td>\n",
       "      <td>1</td>\n",
       "    </tr>\n",
       "    <tr>\n",
       "      <th>391523</th>\n",
       "      <td>2022</td>\n",
       "      <td>13000</td>\n",
       "      <td>CONDITION_OK</td>\n",
       "      <td>0</td>\n",
       "      <td>OK</td>\n",
       "      <td>Владивосток</td>\n",
       "      <td>COMMERCIAL</td>\n",
       "      <td>Nissan</td>\n",
       "      <td>X-Trail</td>\n",
       "      <td>ALLROAD_5_DOORS</td>\n",
       "      <td>...</td>\n",
       "      <td>0</td>\n",
       "      <td>0</td>\n",
       "      <td>0</td>\n",
       "      <td>0</td>\n",
       "      <td>0</td>\n",
       "      <td>0</td>\n",
       "      <td>0</td>\n",
       "      <td>0</td>\n",
       "      <td>0</td>\n",
       "      <td>0</td>\n",
       "    </tr>\n",
       "    <tr>\n",
       "      <th>210052</th>\n",
       "      <td>2024</td>\n",
       "      <td>100</td>\n",
       "      <td>CONDITION_OK</td>\n",
       "      <td>1</td>\n",
       "      <td>OK</td>\n",
       "      <td>Новосибирск</td>\n",
       "      <td>PRIVATE</td>\n",
       "      <td>Hyundai</td>\n",
       "      <td>Elantra</td>\n",
       "      <td>SEDAN</td>\n",
       "      <td>...</td>\n",
       "      <td>0</td>\n",
       "      <td>0</td>\n",
       "      <td>0</td>\n",
       "      <td>0</td>\n",
       "      <td>0</td>\n",
       "      <td>0</td>\n",
       "      <td>0</td>\n",
       "      <td>0</td>\n",
       "      <td>0</td>\n",
       "      <td>0</td>\n",
       "    </tr>\n",
       "    <tr>\n",
       "      <th>46816</th>\n",
       "      <td>2024</td>\n",
       "      <td>34</td>\n",
       "      <td>CONDITION_OK</td>\n",
       "      <td>1</td>\n",
       "      <td>OK</td>\n",
       "      <td>Москва</td>\n",
       "      <td>COMMERCIAL</td>\n",
       "      <td>BMW</td>\n",
       "      <td>X5</td>\n",
       "      <td>ALLROAD_5_DOORS</td>\n",
       "      <td>...</td>\n",
       "      <td>0</td>\n",
       "      <td>0</td>\n",
       "      <td>0</td>\n",
       "      <td>0</td>\n",
       "      <td>0</td>\n",
       "      <td>0</td>\n",
       "      <td>0</td>\n",
       "      <td>0</td>\n",
       "      <td>0</td>\n",
       "      <td>0</td>\n",
       "    </tr>\n",
       "  </tbody>\n",
       "</table>\n",
       "<p>10 rows × 416 columns</p>\n",
       "</div>"
      ],
      "text/plain": [
       "        production_year  mileage     condition  owners_number  \\\n",
       "436947             2024        0  CONDITION_OK              0   \n",
       "329729             2020    40460  CONDITION_OK              1   \n",
       "343497             2000   380000  CONDITION_OK              4   \n",
       "439784             2019   170000  CONDITION_OK              1   \n",
       "550845             2023      107  CONDITION_OK              1   \n",
       "431808             2015   110727  CONDITION_OK              1   \n",
       "167063             2024        0  CONDITION_OK              0   \n",
       "391523             2022    13000  CONDITION_OK              0   \n",
       "210052             2024      100  CONDITION_OK              1   \n",
       "46816              2024       34  CONDITION_OK              1   \n",
       "\n",
       "       accidents_resolution           region seller_type          brand  \\\n",
       "436947                   OK  Санкт-Петербург  COMMERCIAL          Skoda   \n",
       "329729                ERROR           Москва     PRIVATE  Mercedes-Benz   \n",
       "343497                   OK           Москва     PRIVATE  Mercedes-Benz   \n",
       "439784                ERROR           Москва     PRIVATE          Skoda   \n",
       "550845                   OK        Краснодар     PRIVATE     Lada (ВАЗ)   \n",
       "431808                   OK              Уфа  COMMERCIAL        Renault   \n",
       "167063                   OK            Химки  COMMERCIAL        Genesis   \n",
       "391523                   OK      Владивосток  COMMERCIAL         Nissan   \n",
       "210052                   OK      Новосибирск     PRIVATE        Hyundai   \n",
       "46816                    OK           Москва  COMMERCIAL            BMW   \n",
       "\n",
       "             model          body_type  ...  body-kit android-auto  \\\n",
       "436947       Karoq    ALLROAD_5_DOORS  ...         0            0   \n",
       "329729     E-Класс      COUPE_HARDTOP  ...         0            0   \n",
       "343497     M-Класс    ALLROAD_5_DOORS  ...         0            0   \n",
       "439784     Octavia           LIFTBACK  ...         0            1   \n",
       "550845      Largus      WAGON_5_DOORS  ...         0            0   \n",
       "431808     Sandero  HATCHBACK_5_DOORS  ...         0            0   \n",
       "167063  GV80 Coupe    ALLROAD_5_DOORS  ...         0            1   \n",
       "391523     X-Trail    ALLROAD_5_DOORS  ...         0            0   \n",
       "210052     Elantra              SEDAN  ...         0            0   \n",
       "46816           X5    ALLROAD_5_DOORS  ...         0            0   \n",
       "\n",
       "        wheel-power  high-beam-assist  black-roof climate-control-1  \\\n",
       "436947            1                 0           0                 1   \n",
       "329729            0                 0           1                 1   \n",
       "343497            0                 0           0                 0   \n",
       "439784            0                 0           0                 1   \n",
       "550845            1                 0           0                 0   \n",
       "431808            1                 0           0                 0   \n",
       "167063            1                 1           1                 1   \n",
       "391523            0                 0           0                 0   \n",
       "210052            0                 0           0                 0   \n",
       "46816             0                 0           0                 0   \n",
       "\n",
       "        ashtray-and-cigarette-lighter 17-inch-wheels 24-inch-wheels  \\\n",
       "436947                              0              0              0   \n",
       "329729                              1              0              0   \n",
       "343497                              0              0              0   \n",
       "439784                              1              1              0   \n",
       "550845                              0              0              0   \n",
       "431808                              1              0              0   \n",
       "167063                              0              0              0   \n",
       "391523                              0              0              0   \n",
       "210052                              0              0              0   \n",
       "46816                               0              0              0   \n",
       "\n",
       "        front-seats-heat-vent  \n",
       "436947                      0  \n",
       "329729                      0  \n",
       "343497                      0  \n",
       "439784                      0  \n",
       "550845                      0  \n",
       "431808                      0  \n",
       "167063                      1  \n",
       "391523                      0  \n",
       "210052                      0  \n",
       "46816                       0  \n",
       "\n",
       "[10 rows x 416 columns]"
      ]
     },
     "execution_count": 48,
     "metadata": {},
     "output_type": "execute_result"
    }
   ],
   "source": [
    "full_df.sample(10)"
   ]
  },
  {
   "cell_type": "code",
   "execution_count": 49,
   "metadata": {},
   "outputs": [
    {
     "name": "stdout",
     "output_type": "stream",
     "text": [
      "Удалено числовых коррелирующих признаков: 115\n",
      "Осталось признаков в df_reduced: 301 из 416\n"
     ]
    }
   ],
   "source": [
    "import pandas as pd\n",
    "import numpy as np\n",
    "from scipy.cluster import hierarchy\n",
    "from scipy.spatial.distance import squareform\n",
    "\n",
    "numeric_df = full_df.select_dtypes(include=[np.number])\n",
    "numeric_df = numeric_df.loc[:, numeric_df.nunique() > 1]\n",
    "\n",
    "corr = numeric_df.corr().abs().fillna(0)\n",
    "\n",
    "dist = 1 - corr\n",
    "\n",
    "dist = (dist + dist.T) / 2\n",
    "np.fill_diagonal(dist.values, 0)\n",
    "\n",
    "dist = dist.clip(lower=0)\n",
    "\n",
    "dist_vect = squareform(dist)\n",
    "Z = hierarchy.linkage(dist_vect, method='average')\n",
    "\n",
    "max_d = 0.4\n",
    "clusters = hierarchy.fcluster(Z, t=max_d, criterion='distance')\n",
    "\n",
    "cluster_df = pd.DataFrame({'feature': numeric_df.columns, 'cluster': clusters})\n",
    "to_keep = []\n",
    "for c in cluster_df['cluster'].unique():\n",
    "    members = cluster_df.loc[cluster_df['cluster'] == c, 'feature']\n",
    "    avg_corr = corr.loc[members, members].mean().sort_values(ascending=False)\n",
    "    to_keep.append(avg_corr.index[0])\n",
    "to_keep = list(dict.fromkeys(to_keep))\n",
    "\n",
    "to_drop = [col for col in numeric_df.columns if col not in to_keep]\n",
    "df_reduced = full_df.drop(columns=to_drop)\n",
    "\n",
    "print(f\"Удалено числовых коррелирующих признаков: {len(to_drop)}\")\n",
    "print(f\"Осталось признаков в df_reduced: {df_reduced.shape[1]} из {full_df.shape[1]}\")"
   ]
  },
  {
   "cell_type": "code",
   "execution_count": 50,
   "metadata": {},
   "outputs": [
    {
     "data": {
      "text/html": [
       "<div>\n",
       "<style scoped>\n",
       "    .dataframe tbody tr th:only-of-type {\n",
       "        vertical-align: middle;\n",
       "    }\n",
       "\n",
       "    .dataframe tbody tr th {\n",
       "        vertical-align: top;\n",
       "    }\n",
       "\n",
       "    .dataframe thead th {\n",
       "        text-align: right;\n",
       "    }\n",
       "</style>\n",
       "<table border=\"1\" class=\"dataframe\">\n",
       "  <thead>\n",
       "    <tr style=\"text-align: right;\">\n",
       "      <th></th>\n",
       "      <th>mileage</th>\n",
       "      <th>condition</th>\n",
       "      <th>accidents_resolution</th>\n",
       "      <th>region</th>\n",
       "      <th>seller_type</th>\n",
       "      <th>brand</th>\n",
       "      <th>model</th>\n",
       "      <th>body_type</th>\n",
       "      <th>doors_count</th>\n",
       "      <th>seats</th>\n",
       "      <th>...</th>\n",
       "      <th>body-mouldings</th>\n",
       "      <th>steering-wheel-gear-shift-paddles</th>\n",
       "      <th>velvet-seats</th>\n",
       "      <th>body-kit</th>\n",
       "      <th>wheel-power</th>\n",
       "      <th>black-roof</th>\n",
       "      <th>ashtray-and-cigarette-lighter</th>\n",
       "      <th>17-inch-wheels</th>\n",
       "      <th>24-inch-wheels</th>\n",
       "      <th>front-seats-heat-vent</th>\n",
       "    </tr>\n",
       "  </thead>\n",
       "  <tbody>\n",
       "    <tr>\n",
       "      <th>518746</th>\n",
       "      <td>33000</td>\n",
       "      <td>CONDITION_OK</td>\n",
       "      <td>ERROR</td>\n",
       "      <td>Аксай</td>\n",
       "      <td>PRIVATE</td>\n",
       "      <td>Lada (ВАЗ)</td>\n",
       "      <td>2107</td>\n",
       "      <td>SEDAN</td>\n",
       "      <td>4</td>\n",
       "      <td>5</td>\n",
       "      <td>...</td>\n",
       "      <td>0</td>\n",
       "      <td>0</td>\n",
       "      <td>0</td>\n",
       "      <td>0</td>\n",
       "      <td>0</td>\n",
       "      <td>0</td>\n",
       "      <td>0</td>\n",
       "      <td>0</td>\n",
       "      <td>0</td>\n",
       "      <td>0</td>\n",
       "    </tr>\n",
       "    <tr>\n",
       "      <th>224119</th>\n",
       "      <td>23211</td>\n",
       "      <td>CONDITION_OK</td>\n",
       "      <td>OK</td>\n",
       "      <td>Москва</td>\n",
       "      <td>PRIVATE</td>\n",
       "      <td>Hyundai</td>\n",
       "      <td>Solaris</td>\n",
       "      <td>SEDAN</td>\n",
       "      <td>4</td>\n",
       "      <td>5</td>\n",
       "      <td>...</td>\n",
       "      <td>1</td>\n",
       "      <td>0</td>\n",
       "      <td>0</td>\n",
       "      <td>0</td>\n",
       "      <td>1</td>\n",
       "      <td>0</td>\n",
       "      <td>0</td>\n",
       "      <td>0</td>\n",
       "      <td>0</td>\n",
       "      <td>0</td>\n",
       "    </tr>\n",
       "    <tr>\n",
       "      <th>351020</th>\n",
       "      <td>6122</td>\n",
       "      <td>CONDITION_OK</td>\n",
       "      <td>OK</td>\n",
       "      <td>Уссурийск</td>\n",
       "      <td>COMMERCIAL</td>\n",
       "      <td>Mini</td>\n",
       "      <td>Countryman</td>\n",
       "      <td>ALLROAD_5_DOORS</td>\n",
       "      <td>5</td>\n",
       "      <td>5</td>\n",
       "      <td>...</td>\n",
       "      <td>0</td>\n",
       "      <td>0</td>\n",
       "      <td>0</td>\n",
       "      <td>0</td>\n",
       "      <td>0</td>\n",
       "      <td>0</td>\n",
       "      <td>0</td>\n",
       "      <td>0</td>\n",
       "      <td>0</td>\n",
       "      <td>0</td>\n",
       "    </tr>\n",
       "    <tr>\n",
       "      <th>424138</th>\n",
       "      <td>4500</td>\n",
       "      <td>CONDITION_OK</td>\n",
       "      <td>ERROR</td>\n",
       "      <td>Погар</td>\n",
       "      <td>PRIVATE</td>\n",
       "      <td>Renault</td>\n",
       "      <td>Kaptur</td>\n",
       "      <td>ALLROAD_5_DOORS</td>\n",
       "      <td>5</td>\n",
       "      <td>5</td>\n",
       "      <td>...</td>\n",
       "      <td>1</td>\n",
       "      <td>0</td>\n",
       "      <td>0</td>\n",
       "      <td>0</td>\n",
       "      <td>1</td>\n",
       "      <td>0</td>\n",
       "      <td>0</td>\n",
       "      <td>0</td>\n",
       "      <td>0</td>\n",
       "      <td>0</td>\n",
       "    </tr>\n",
       "    <tr>\n",
       "      <th>89776</th>\n",
       "      <td>245600</td>\n",
       "      <td>CONDITION_OK</td>\n",
       "      <td>OK</td>\n",
       "      <td>Тверь</td>\n",
       "      <td>PRIVATE</td>\n",
       "      <td>Chevrolet</td>\n",
       "      <td>Aveo</td>\n",
       "      <td>SEDAN</td>\n",
       "      <td>4</td>\n",
       "      <td>5</td>\n",
       "      <td>...</td>\n",
       "      <td>0</td>\n",
       "      <td>0</td>\n",
       "      <td>0</td>\n",
       "      <td>0</td>\n",
       "      <td>0</td>\n",
       "      <td>0</td>\n",
       "      <td>0</td>\n",
       "      <td>0</td>\n",
       "      <td>0</td>\n",
       "      <td>0</td>\n",
       "    </tr>\n",
       "    <tr>\n",
       "      <th>297634</th>\n",
       "      <td>18300</td>\n",
       "      <td>CONDITION_OK</td>\n",
       "      <td>OK</td>\n",
       "      <td>Москва</td>\n",
       "      <td>PRIVATE</td>\n",
       "      <td>Lexus</td>\n",
       "      <td>RX</td>\n",
       "      <td>ALLROAD_5_DOORS</td>\n",
       "      <td>5</td>\n",
       "      <td>5</td>\n",
       "      <td>...</td>\n",
       "      <td>1</td>\n",
       "      <td>1</td>\n",
       "      <td>0</td>\n",
       "      <td>0</td>\n",
       "      <td>1</td>\n",
       "      <td>0</td>\n",
       "      <td>0</td>\n",
       "      <td>0</td>\n",
       "      <td>0</td>\n",
       "      <td>1</td>\n",
       "    </tr>\n",
       "    <tr>\n",
       "      <th>449720</th>\n",
       "      <td>0</td>\n",
       "      <td>CONDITION_OK</td>\n",
       "      <td>OK</td>\n",
       "      <td>Москва</td>\n",
       "      <td>COMMERCIAL</td>\n",
       "      <td>Soueast</td>\n",
       "      <td>S07</td>\n",
       "      <td>ALLROAD_5_DOORS</td>\n",
       "      <td>5</td>\n",
       "      <td>5;7</td>\n",
       "      <td>...</td>\n",
       "      <td>0</td>\n",
       "      <td>1</td>\n",
       "      <td>0</td>\n",
       "      <td>0</td>\n",
       "      <td>1</td>\n",
       "      <td>0</td>\n",
       "      <td>0</td>\n",
       "      <td>0</td>\n",
       "      <td>0</td>\n",
       "      <td>1</td>\n",
       "    </tr>\n",
       "    <tr>\n",
       "      <th>49847</th>\n",
       "      <td>121000</td>\n",
       "      <td>CONDITION_OK</td>\n",
       "      <td>OK</td>\n",
       "      <td>Москва</td>\n",
       "      <td>PRIVATE</td>\n",
       "      <td>BMW</td>\n",
       "      <td>X6</td>\n",
       "      <td>ALLROAD_5_DOORS</td>\n",
       "      <td>5</td>\n",
       "      <td>5</td>\n",
       "      <td>...</td>\n",
       "      <td>0</td>\n",
       "      <td>1</td>\n",
       "      <td>0</td>\n",
       "      <td>1</td>\n",
       "      <td>0</td>\n",
       "      <td>1</td>\n",
       "      <td>1</td>\n",
       "      <td>0</td>\n",
       "      <td>0</td>\n",
       "      <td>0</td>\n",
       "    </tr>\n",
       "    <tr>\n",
       "      <th>48872</th>\n",
       "      <td>0</td>\n",
       "      <td>CONDITION_OK</td>\n",
       "      <td>OK</td>\n",
       "      <td>Краснодар</td>\n",
       "      <td>COMMERCIAL</td>\n",
       "      <td>BMW</td>\n",
       "      <td>X6</td>\n",
       "      <td>ALLROAD_5_DOORS</td>\n",
       "      <td>5</td>\n",
       "      <td>5</td>\n",
       "      <td>...</td>\n",
       "      <td>0</td>\n",
       "      <td>0</td>\n",
       "      <td>0</td>\n",
       "      <td>0</td>\n",
       "      <td>1</td>\n",
       "      <td>0</td>\n",
       "      <td>0</td>\n",
       "      <td>0</td>\n",
       "      <td>0</td>\n",
       "      <td>0</td>\n",
       "    </tr>\n",
       "    <tr>\n",
       "      <th>846</th>\n",
       "      <td>363500</td>\n",
       "      <td>CONDITION_OK</td>\n",
       "      <td>OK</td>\n",
       "      <td>Уфа</td>\n",
       "      <td>PRIVATE</td>\n",
       "      <td>Alfa Romeo</td>\n",
       "      <td>166</td>\n",
       "      <td>SEDAN</td>\n",
       "      <td>4</td>\n",
       "      <td>5</td>\n",
       "      <td>...</td>\n",
       "      <td>0</td>\n",
       "      <td>0</td>\n",
       "      <td>0</td>\n",
       "      <td>0</td>\n",
       "      <td>1</td>\n",
       "      <td>0</td>\n",
       "      <td>0</td>\n",
       "      <td>0</td>\n",
       "      <td>0</td>\n",
       "      <td>0</td>\n",
       "    </tr>\n",
       "  </tbody>\n",
       "</table>\n",
       "<p>10 rows × 301 columns</p>\n",
       "</div>"
      ],
      "text/plain": [
       "        mileage     condition accidents_resolution     region seller_type  \\\n",
       "518746    33000  CONDITION_OK                ERROR      Аксай     PRIVATE   \n",
       "224119    23211  CONDITION_OK                   OK     Москва     PRIVATE   \n",
       "351020     6122  CONDITION_OK                   OK  Уссурийск  COMMERCIAL   \n",
       "424138     4500  CONDITION_OK                ERROR      Погар     PRIVATE   \n",
       "89776    245600  CONDITION_OK                   OK      Тверь     PRIVATE   \n",
       "297634    18300  CONDITION_OK                   OK     Москва     PRIVATE   \n",
       "449720        0  CONDITION_OK                   OK     Москва  COMMERCIAL   \n",
       "49847    121000  CONDITION_OK                   OK     Москва     PRIVATE   \n",
       "48872         0  CONDITION_OK                   OK  Краснодар  COMMERCIAL   \n",
       "846      363500  CONDITION_OK                   OK        Уфа     PRIVATE   \n",
       "\n",
       "             brand       model        body_type  doors_count seats  ...  \\\n",
       "518746  Lada (ВАЗ)        2107            SEDAN            4     5  ...   \n",
       "224119     Hyundai     Solaris            SEDAN            4     5  ...   \n",
       "351020        Mini  Countryman  ALLROAD_5_DOORS            5     5  ...   \n",
       "424138     Renault      Kaptur  ALLROAD_5_DOORS            5     5  ...   \n",
       "89776    Chevrolet        Aveo            SEDAN            4     5  ...   \n",
       "297634       Lexus          RX  ALLROAD_5_DOORS            5     5  ...   \n",
       "449720     Soueast         S07  ALLROAD_5_DOORS            5   5;7  ...   \n",
       "49847          BMW          X6  ALLROAD_5_DOORS            5     5  ...   \n",
       "48872          BMW          X6  ALLROAD_5_DOORS            5     5  ...   \n",
       "846     Alfa Romeo         166            SEDAN            4     5  ...   \n",
       "\n",
       "        body-mouldings  steering-wheel-gear-shift-paddles velvet-seats  \\\n",
       "518746               0                                  0            0   \n",
       "224119               1                                  0            0   \n",
       "351020               0                                  0            0   \n",
       "424138               1                                  0            0   \n",
       "89776                0                                  0            0   \n",
       "297634               1                                  1            0   \n",
       "449720               0                                  1            0   \n",
       "49847                0                                  1            0   \n",
       "48872                0                                  0            0   \n",
       "846                  0                                  0            0   \n",
       "\n",
       "        body-kit wheel-power black-roof  ashtray-and-cigarette-lighter  \\\n",
       "518746         0           0          0                              0   \n",
       "224119         0           1          0                              0   \n",
       "351020         0           0          0                              0   \n",
       "424138         0           1          0                              0   \n",
       "89776          0           0          0                              0   \n",
       "297634         0           1          0                              0   \n",
       "449720         0           1          0                              0   \n",
       "49847          1           0          1                              1   \n",
       "48872          0           1          0                              0   \n",
       "846            0           1          0                              0   \n",
       "\n",
       "        17-inch-wheels  24-inch-wheels  front-seats-heat-vent  \n",
       "518746               0               0                      0  \n",
       "224119               0               0                      0  \n",
       "351020               0               0                      0  \n",
       "424138               0               0                      0  \n",
       "89776                0               0                      0  \n",
       "297634               0               0                      1  \n",
       "449720               0               0                      1  \n",
       "49847                0               0                      0  \n",
       "48872                0               0                      0  \n",
       "846                  0               0                      0  \n",
       "\n",
       "[10 rows x 301 columns]"
      ]
     },
     "execution_count": 50,
     "metadata": {},
     "output_type": "execute_result"
    }
   ],
   "source": [
    "df_reduced.sample(10)"
   ]
  },
  {
   "cell_type": "markdown",
   "metadata": {},
   "source": [
    "## Обучим LightGBM и CatBoost на df_reduced"
   ]
  },
  {
   "cell_type": "code",
   "execution_count": null,
   "metadata": {},
   "outputs": [],
   "source": [
    "import pandas as pd\n",
    "from sklearn.model_selection import train_test_split\n",
    "from sklearn.pipeline import Pipeline\n",
    "from sklearn.compose import ColumnTransformer\n",
    "from sklearn.preprocessing import StandardScaler, OneHotEncoder\n",
    "from lightgbm import LGBMRegressor\n",
    "from catboost import CatBoostRegressor\n",
    "from sklearn.metrics import mean_squared_error, mean_absolute_error, r2_score"
   ]
  },
  {
   "cell_type": "code",
   "execution_count": null,
   "metadata": {},
   "outputs": [],
   "source": [
    "X = df_reduced.drop('price', axis=1)\n",
    "y = df_reduced['price']"
   ]
  },
  {
   "cell_type": "code",
   "execution_count": null,
   "metadata": {},
   "outputs": [],
   "source": [
    "num_features = X.select_dtypes(include=['int64', 'float64', 'int8']).columns.tolist()\n",
    "cat_features = X.select_dtypes(include=['object']).columns.tolist()"
   ]
  },
  {
   "cell_type": "code",
   "execution_count": null,
   "metadata": {},
   "outputs": [],
   "source": [
    "preprocessor = ColumnTransformer(transformers=[\n",
    "    ('num', StandardScaler(), num_features),\n",
    "    ('cat', OneHotEncoder(handle_unknown='ignore', sparse_output=False), cat_features),\n",
    "])"
   ]
  },
  {
   "cell_type": "markdown",
   "metadata": {},
   "source": [
    "**LightGBM**"
   ]
  },
  {
   "cell_type": "code",
   "execution_count": null,
   "metadata": {},
   "outputs": [],
   "source": [
    "lgbm_pipeline = Pipeline([\n",
    "    ('preproc', preprocessor),\n",
    "    ('model', LGBMRegressor(objective='regression', random_state=42))\n",
    "])"
   ]
  },
  {
   "cell_type": "code",
   "execution_count": null,
   "metadata": {},
   "outputs": [],
   "source": [
    "X_train, X_test, y_train, y_test = train_test_split(\n",
    "    X, y, test_size=0.2, random_state=RANDOM_STATE\n",
    ")"
   ]
  },
  {
   "cell_type": "code",
   "execution_count": null,
   "metadata": {},
   "outputs": [
    {
     "name": "stderr",
     "output_type": "stream",
     "text": [
      "/Users/ilolss/anaconda3/envs/ml-project-2-course/lib/python3.10/site-packages/sklearn/utils/validation.py:921: UserWarning: pandas.DataFrame with sparse columns found.It will be converted to a dense numpy array.\n",
      "  warnings.warn(\n",
      "/Users/ilolss/anaconda3/envs/ml-project-2-course/lib/python3.10/site-packages/sklearn/utils/validation.py:921: UserWarning: pandas.DataFrame with sparse columns found.It will be converted to a dense numpy array.\n",
      "  warnings.warn(\n"
     ]
    },
    {
     "name": "stdout",
     "output_type": "stream",
     "text": [
      "[LightGBM] [Info] Auto-choosing row-wise multi-threading, the overhead of testing was 1.600399 seconds.\n",
      "You can set `force_row_wise=true` to remove the overhead.\n",
      "And if memory is not enough, you can set `force_col_wise=true`.\n",
      "[LightGBM] [Info] Total Bins 6396\n",
      "[LightGBM] [Info] Number of data points in the train set: 483236, number of used features: 2692\n",
      "[LightGBM] [Info] Start training from score 2807543.358738\n"
     ]
    },
    {
     "data": {
      "text/html": [
       "<style>#sk-container-id-1 {\n",
       "  /* Definition of color scheme common for light and dark mode */\n",
       "  --sklearn-color-text: #000;\n",
       "  --sklearn-color-text-muted: #666;\n",
       "  --sklearn-color-line: gray;\n",
       "  /* Definition of color scheme for unfitted estimators */\n",
       "  --sklearn-color-unfitted-level-0: #fff5e6;\n",
       "  --sklearn-color-unfitted-level-1: #f6e4d2;\n",
       "  --sklearn-color-unfitted-level-2: #ffe0b3;\n",
       "  --sklearn-color-unfitted-level-3: chocolate;\n",
       "  /* Definition of color scheme for fitted estimators */\n",
       "  --sklearn-color-fitted-level-0: #f0f8ff;\n",
       "  --sklearn-color-fitted-level-1: #d4ebff;\n",
       "  --sklearn-color-fitted-level-2: #b3dbfd;\n",
       "  --sklearn-color-fitted-level-3: cornflowerblue;\n",
       "\n",
       "  /* Specific color for light theme */\n",
       "  --sklearn-color-text-on-default-background: var(--sg-text-color, var(--theme-code-foreground, var(--jp-content-font-color1, black)));\n",
       "  --sklearn-color-background: var(--sg-background-color, var(--theme-background, var(--jp-layout-color0, white)));\n",
       "  --sklearn-color-border-box: var(--sg-text-color, var(--theme-code-foreground, var(--jp-content-font-color1, black)));\n",
       "  --sklearn-color-icon: #696969;\n",
       "\n",
       "  @media (prefers-color-scheme: dark) {\n",
       "    /* Redefinition of color scheme for dark theme */\n",
       "    --sklearn-color-text-on-default-background: var(--sg-text-color, var(--theme-code-foreground, var(--jp-content-font-color1, white)));\n",
       "    --sklearn-color-background: var(--sg-background-color, var(--theme-background, var(--jp-layout-color0, #111)));\n",
       "    --sklearn-color-border-box: var(--sg-text-color, var(--theme-code-foreground, var(--jp-content-font-color1, white)));\n",
       "    --sklearn-color-icon: #878787;\n",
       "  }\n",
       "}\n",
       "\n",
       "#sk-container-id-1 {\n",
       "  color: var(--sklearn-color-text);\n",
       "}\n",
       "\n",
       "#sk-container-id-1 pre {\n",
       "  padding: 0;\n",
       "}\n",
       "\n",
       "#sk-container-id-1 input.sk-hidden--visually {\n",
       "  border: 0;\n",
       "  clip: rect(1px 1px 1px 1px);\n",
       "  clip: rect(1px, 1px, 1px, 1px);\n",
       "  height: 1px;\n",
       "  margin: -1px;\n",
       "  overflow: hidden;\n",
       "  padding: 0;\n",
       "  position: absolute;\n",
       "  width: 1px;\n",
       "}\n",
       "\n",
       "#sk-container-id-1 div.sk-dashed-wrapped {\n",
       "  border: 1px dashed var(--sklearn-color-line);\n",
       "  margin: 0 0.4em 0.5em 0.4em;\n",
       "  box-sizing: border-box;\n",
       "  padding-bottom: 0.4em;\n",
       "  background-color: var(--sklearn-color-background);\n",
       "}\n",
       "\n",
       "#sk-container-id-1 div.sk-container {\n",
       "  /* jupyter's `normalize.less` sets `[hidden] { display: none; }`\n",
       "     but bootstrap.min.css set `[hidden] { display: none !important; }`\n",
       "     so we also need the `!important` here to be able to override the\n",
       "     default hidden behavior on the sphinx rendered scikit-learn.org.\n",
       "     See: https://github.com/scikit-learn/scikit-learn/issues/21755 */\n",
       "  display: inline-block !important;\n",
       "  position: relative;\n",
       "}\n",
       "\n",
       "#sk-container-id-1 div.sk-text-repr-fallback {\n",
       "  display: none;\n",
       "}\n",
       "\n",
       "div.sk-parallel-item,\n",
       "div.sk-serial,\n",
       "div.sk-item {\n",
       "  /* draw centered vertical line to link estimators */\n",
       "  background-image: linear-gradient(var(--sklearn-color-text-on-default-background), var(--sklearn-color-text-on-default-background));\n",
       "  background-size: 2px 100%;\n",
       "  background-repeat: no-repeat;\n",
       "  background-position: center center;\n",
       "}\n",
       "\n",
       "/* Parallel-specific style estimator block */\n",
       "\n",
       "#sk-container-id-1 div.sk-parallel-item::after {\n",
       "  content: \"\";\n",
       "  width: 100%;\n",
       "  border-bottom: 2px solid var(--sklearn-color-text-on-default-background);\n",
       "  flex-grow: 1;\n",
       "}\n",
       "\n",
       "#sk-container-id-1 div.sk-parallel {\n",
       "  display: flex;\n",
       "  align-items: stretch;\n",
       "  justify-content: center;\n",
       "  background-color: var(--sklearn-color-background);\n",
       "  position: relative;\n",
       "}\n",
       "\n",
       "#sk-container-id-1 div.sk-parallel-item {\n",
       "  display: flex;\n",
       "  flex-direction: column;\n",
       "}\n",
       "\n",
       "#sk-container-id-1 div.sk-parallel-item:first-child::after {\n",
       "  align-self: flex-end;\n",
       "  width: 50%;\n",
       "}\n",
       "\n",
       "#sk-container-id-1 div.sk-parallel-item:last-child::after {\n",
       "  align-self: flex-start;\n",
       "  width: 50%;\n",
       "}\n",
       "\n",
       "#sk-container-id-1 div.sk-parallel-item:only-child::after {\n",
       "  width: 0;\n",
       "}\n",
       "\n",
       "/* Serial-specific style estimator block */\n",
       "\n",
       "#sk-container-id-1 div.sk-serial {\n",
       "  display: flex;\n",
       "  flex-direction: column;\n",
       "  align-items: center;\n",
       "  background-color: var(--sklearn-color-background);\n",
       "  padding-right: 1em;\n",
       "  padding-left: 1em;\n",
       "}\n",
       "\n",
       "\n",
       "/* Toggleable style: style used for estimator/Pipeline/ColumnTransformer box that is\n",
       "clickable and can be expanded/collapsed.\n",
       "- Pipeline and ColumnTransformer use this feature and define the default style\n",
       "- Estimators will overwrite some part of the style using the `sk-estimator` class\n",
       "*/\n",
       "\n",
       "/* Pipeline and ColumnTransformer style (default) */\n",
       "\n",
       "#sk-container-id-1 div.sk-toggleable {\n",
       "  /* Default theme specific background. It is overwritten whether we have a\n",
       "  specific estimator or a Pipeline/ColumnTransformer */\n",
       "  background-color: var(--sklearn-color-background);\n",
       "}\n",
       "\n",
       "/* Toggleable label */\n",
       "#sk-container-id-1 label.sk-toggleable__label {\n",
       "  cursor: pointer;\n",
       "  display: flex;\n",
       "  width: 100%;\n",
       "  margin-bottom: 0;\n",
       "  padding: 0.5em;\n",
       "  box-sizing: border-box;\n",
       "  text-align: center;\n",
       "  align-items: start;\n",
       "  justify-content: space-between;\n",
       "  gap: 0.5em;\n",
       "}\n",
       "\n",
       "#sk-container-id-1 label.sk-toggleable__label .caption {\n",
       "  font-size: 0.6rem;\n",
       "  font-weight: lighter;\n",
       "  color: var(--sklearn-color-text-muted);\n",
       "}\n",
       "\n",
       "#sk-container-id-1 label.sk-toggleable__label-arrow:before {\n",
       "  /* Arrow on the left of the label */\n",
       "  content: \"▸\";\n",
       "  float: left;\n",
       "  margin-right: 0.25em;\n",
       "  color: var(--sklearn-color-icon);\n",
       "}\n",
       "\n",
       "#sk-container-id-1 label.sk-toggleable__label-arrow:hover:before {\n",
       "  color: var(--sklearn-color-text);\n",
       "}\n",
       "\n",
       "/* Toggleable content - dropdown */\n",
       "\n",
       "#sk-container-id-1 div.sk-toggleable__content {\n",
       "  max-height: 0;\n",
       "  max-width: 0;\n",
       "  overflow: hidden;\n",
       "  text-align: left;\n",
       "  /* unfitted */\n",
       "  background-color: var(--sklearn-color-unfitted-level-0);\n",
       "}\n",
       "\n",
       "#sk-container-id-1 div.sk-toggleable__content.fitted {\n",
       "  /* fitted */\n",
       "  background-color: var(--sklearn-color-fitted-level-0);\n",
       "}\n",
       "\n",
       "#sk-container-id-1 div.sk-toggleable__content pre {\n",
       "  margin: 0.2em;\n",
       "  border-radius: 0.25em;\n",
       "  color: var(--sklearn-color-text);\n",
       "  /* unfitted */\n",
       "  background-color: var(--sklearn-color-unfitted-level-0);\n",
       "}\n",
       "\n",
       "#sk-container-id-1 div.sk-toggleable__content.fitted pre {\n",
       "  /* unfitted */\n",
       "  background-color: var(--sklearn-color-fitted-level-0);\n",
       "}\n",
       "\n",
       "#sk-container-id-1 input.sk-toggleable__control:checked~div.sk-toggleable__content {\n",
       "  /* Expand drop-down */\n",
       "  max-height: 200px;\n",
       "  max-width: 100%;\n",
       "  overflow: auto;\n",
       "}\n",
       "\n",
       "#sk-container-id-1 input.sk-toggleable__control:checked~label.sk-toggleable__label-arrow:before {\n",
       "  content: \"▾\";\n",
       "}\n",
       "\n",
       "/* Pipeline/ColumnTransformer-specific style */\n",
       "\n",
       "#sk-container-id-1 div.sk-label input.sk-toggleable__control:checked~label.sk-toggleable__label {\n",
       "  color: var(--sklearn-color-text);\n",
       "  background-color: var(--sklearn-color-unfitted-level-2);\n",
       "}\n",
       "\n",
       "#sk-container-id-1 div.sk-label.fitted input.sk-toggleable__control:checked~label.sk-toggleable__label {\n",
       "  background-color: var(--sklearn-color-fitted-level-2);\n",
       "}\n",
       "\n",
       "/* Estimator-specific style */\n",
       "\n",
       "/* Colorize estimator box */\n",
       "#sk-container-id-1 div.sk-estimator input.sk-toggleable__control:checked~label.sk-toggleable__label {\n",
       "  /* unfitted */\n",
       "  background-color: var(--sklearn-color-unfitted-level-2);\n",
       "}\n",
       "\n",
       "#sk-container-id-1 div.sk-estimator.fitted input.sk-toggleable__control:checked~label.sk-toggleable__label {\n",
       "  /* fitted */\n",
       "  background-color: var(--sklearn-color-fitted-level-2);\n",
       "}\n",
       "\n",
       "#sk-container-id-1 div.sk-label label.sk-toggleable__label,\n",
       "#sk-container-id-1 div.sk-label label {\n",
       "  /* The background is the default theme color */\n",
       "  color: var(--sklearn-color-text-on-default-background);\n",
       "}\n",
       "\n",
       "/* On hover, darken the color of the background */\n",
       "#sk-container-id-1 div.sk-label:hover label.sk-toggleable__label {\n",
       "  color: var(--sklearn-color-text);\n",
       "  background-color: var(--sklearn-color-unfitted-level-2);\n",
       "}\n",
       "\n",
       "/* Label box, darken color on hover, fitted */\n",
       "#sk-container-id-1 div.sk-label.fitted:hover label.sk-toggleable__label.fitted {\n",
       "  color: var(--sklearn-color-text);\n",
       "  background-color: var(--sklearn-color-fitted-level-2);\n",
       "}\n",
       "\n",
       "/* Estimator label */\n",
       "\n",
       "#sk-container-id-1 div.sk-label label {\n",
       "  font-family: monospace;\n",
       "  font-weight: bold;\n",
       "  display: inline-block;\n",
       "  line-height: 1.2em;\n",
       "}\n",
       "\n",
       "#sk-container-id-1 div.sk-label-container {\n",
       "  text-align: center;\n",
       "}\n",
       "\n",
       "/* Estimator-specific */\n",
       "#sk-container-id-1 div.sk-estimator {\n",
       "  font-family: monospace;\n",
       "  border: 1px dotted var(--sklearn-color-border-box);\n",
       "  border-radius: 0.25em;\n",
       "  box-sizing: border-box;\n",
       "  margin-bottom: 0.5em;\n",
       "  /* unfitted */\n",
       "  background-color: var(--sklearn-color-unfitted-level-0);\n",
       "}\n",
       "\n",
       "#sk-container-id-1 div.sk-estimator.fitted {\n",
       "  /* fitted */\n",
       "  background-color: var(--sklearn-color-fitted-level-0);\n",
       "}\n",
       "\n",
       "/* on hover */\n",
       "#sk-container-id-1 div.sk-estimator:hover {\n",
       "  /* unfitted */\n",
       "  background-color: var(--sklearn-color-unfitted-level-2);\n",
       "}\n",
       "\n",
       "#sk-container-id-1 div.sk-estimator.fitted:hover {\n",
       "  /* fitted */\n",
       "  background-color: var(--sklearn-color-fitted-level-2);\n",
       "}\n",
       "\n",
       "/* Specification for estimator info (e.g. \"i\" and \"?\") */\n",
       "\n",
       "/* Common style for \"i\" and \"?\" */\n",
       "\n",
       ".sk-estimator-doc-link,\n",
       "a:link.sk-estimator-doc-link,\n",
       "a:visited.sk-estimator-doc-link {\n",
       "  float: right;\n",
       "  font-size: smaller;\n",
       "  line-height: 1em;\n",
       "  font-family: monospace;\n",
       "  background-color: var(--sklearn-color-background);\n",
       "  border-radius: 1em;\n",
       "  height: 1em;\n",
       "  width: 1em;\n",
       "  text-decoration: none !important;\n",
       "  margin-left: 0.5em;\n",
       "  text-align: center;\n",
       "  /* unfitted */\n",
       "  border: var(--sklearn-color-unfitted-level-1) 1pt solid;\n",
       "  color: var(--sklearn-color-unfitted-level-1);\n",
       "}\n",
       "\n",
       ".sk-estimator-doc-link.fitted,\n",
       "a:link.sk-estimator-doc-link.fitted,\n",
       "a:visited.sk-estimator-doc-link.fitted {\n",
       "  /* fitted */\n",
       "  border: var(--sklearn-color-fitted-level-1) 1pt solid;\n",
       "  color: var(--sklearn-color-fitted-level-1);\n",
       "}\n",
       "\n",
       "/* On hover */\n",
       "div.sk-estimator:hover .sk-estimator-doc-link:hover,\n",
       ".sk-estimator-doc-link:hover,\n",
       "div.sk-label-container:hover .sk-estimator-doc-link:hover,\n",
       ".sk-estimator-doc-link:hover {\n",
       "  /* unfitted */\n",
       "  background-color: var(--sklearn-color-unfitted-level-3);\n",
       "  color: var(--sklearn-color-background);\n",
       "  text-decoration: none;\n",
       "}\n",
       "\n",
       "div.sk-estimator.fitted:hover .sk-estimator-doc-link.fitted:hover,\n",
       ".sk-estimator-doc-link.fitted:hover,\n",
       "div.sk-label-container:hover .sk-estimator-doc-link.fitted:hover,\n",
       ".sk-estimator-doc-link.fitted:hover {\n",
       "  /* fitted */\n",
       "  background-color: var(--sklearn-color-fitted-level-3);\n",
       "  color: var(--sklearn-color-background);\n",
       "  text-decoration: none;\n",
       "}\n",
       "\n",
       "/* Span, style for the box shown on hovering the info icon */\n",
       ".sk-estimator-doc-link span {\n",
       "  display: none;\n",
       "  z-index: 9999;\n",
       "  position: relative;\n",
       "  font-weight: normal;\n",
       "  right: .2ex;\n",
       "  padding: .5ex;\n",
       "  margin: .5ex;\n",
       "  width: min-content;\n",
       "  min-width: 20ex;\n",
       "  max-width: 50ex;\n",
       "  color: var(--sklearn-color-text);\n",
       "  box-shadow: 2pt 2pt 4pt #999;\n",
       "  /* unfitted */\n",
       "  background: var(--sklearn-color-unfitted-level-0);\n",
       "  border: .5pt solid var(--sklearn-color-unfitted-level-3);\n",
       "}\n",
       "\n",
       ".sk-estimator-doc-link.fitted span {\n",
       "  /* fitted */\n",
       "  background: var(--sklearn-color-fitted-level-0);\n",
       "  border: var(--sklearn-color-fitted-level-3);\n",
       "}\n",
       "\n",
       ".sk-estimator-doc-link:hover span {\n",
       "  display: block;\n",
       "}\n",
       "\n",
       "/* \"?\"-specific style due to the `<a>` HTML tag */\n",
       "\n",
       "#sk-container-id-1 a.estimator_doc_link {\n",
       "  float: right;\n",
       "  font-size: 1rem;\n",
       "  line-height: 1em;\n",
       "  font-family: monospace;\n",
       "  background-color: var(--sklearn-color-background);\n",
       "  border-radius: 1rem;\n",
       "  height: 1rem;\n",
       "  width: 1rem;\n",
       "  text-decoration: none;\n",
       "  /* unfitted */\n",
       "  color: var(--sklearn-color-unfitted-level-1);\n",
       "  border: var(--sklearn-color-unfitted-level-1) 1pt solid;\n",
       "}\n",
       "\n",
       "#sk-container-id-1 a.estimator_doc_link.fitted {\n",
       "  /* fitted */\n",
       "  border: var(--sklearn-color-fitted-level-1) 1pt solid;\n",
       "  color: var(--sklearn-color-fitted-level-1);\n",
       "}\n",
       "\n",
       "/* On hover */\n",
       "#sk-container-id-1 a.estimator_doc_link:hover {\n",
       "  /* unfitted */\n",
       "  background-color: var(--sklearn-color-unfitted-level-3);\n",
       "  color: var(--sklearn-color-background);\n",
       "  text-decoration: none;\n",
       "}\n",
       "\n",
       "#sk-container-id-1 a.estimator_doc_link.fitted:hover {\n",
       "  /* fitted */\n",
       "  background-color: var(--sklearn-color-fitted-level-3);\n",
       "}\n",
       "</style><div id=\"sk-container-id-1\" class=\"sk-top-container\"><div class=\"sk-text-repr-fallback\"><pre>Pipeline(steps=[(&#x27;preproc&#x27;,\n",
       "                 ColumnTransformer(transformers=[(&#x27;num&#x27;, StandardScaler(),\n",
       "                                                  [&#x27;mileage&#x27;, &#x27;doors_count&#x27;,\n",
       "                                                   &#x27;engine_displacement&#x27;,\n",
       "                                                   &#x27;engine_power&#x27;, &#x27;handling&#x27;,\n",
       "                                                   &#x27;safe_car&#x27;, &#x27;losangeles2017&#x27;,\n",
       "                                                   &#x27;catalog_china_landing_china_mark&#x27;,\n",
       "                                                   &#x27;catalog_photo&#x27;, &#x27;muscle&#x27;,\n",
       "                                                   &#x27;liquid&#x27;,\n",
       "                                                   &#x27;withNumericEnumFeaturePairs&#x27;,\n",
       "                                                   &#x27;catalog_china_landing_official_adaptation&#x27;,\n",
       "                                                   &#x27;user_reseller_7days&#x27;,\n",
       "                                                   &#x27;...\n",
       "                                                   &#x27;certificate_manufacturer&#x27;,\n",
       "                                                   &#x27;jeneva2016&#x27;,\n",
       "                                                   &#x27;certificate_Favorit_Warranty&#x27;, ...]),\n",
       "                                                 (&#x27;cat&#x27;,\n",
       "                                                  OneHotEncoder(handle_unknown=&#x27;ignore&#x27;,\n",
       "                                                                sparse_output=False),\n",
       "                                                  [&#x27;condition&#x27;,\n",
       "                                                   &#x27;accidents_resolution&#x27;,\n",
       "                                                   &#x27;region&#x27;, &#x27;seller_type&#x27;,\n",
       "                                                   &#x27;brand&#x27;, &#x27;model&#x27;,\n",
       "                                                   &#x27;body_type&#x27;, &#x27;seats&#x27;,\n",
       "                                                   &#x27;steering_wheel&#x27;,\n",
       "                                                   &#x27;price_segment&#x27;,\n",
       "                                                   &#x27;auto_class&#x27;])])),\n",
       "                (&#x27;model&#x27;,\n",
       "                 LGBMRegressor(objective=&#x27;regression&#x27;, random_state=42))])</pre><b>In a Jupyter environment, please rerun this cell to show the HTML representation or trust the notebook. <br />On GitHub, the HTML representation is unable to render, please try loading this page with nbviewer.org.</b></div><div class=\"sk-container\" hidden><div class=\"sk-item sk-dashed-wrapped\"><div class=\"sk-label-container\"><div class=\"sk-label fitted sk-toggleable\"><input class=\"sk-toggleable__control sk-hidden--visually\" id=\"sk-estimator-id-1\" type=\"checkbox\" ><label for=\"sk-estimator-id-1\" class=\"sk-toggleable__label fitted sk-toggleable__label-arrow\"><div><div>Pipeline</div></div><div><a class=\"sk-estimator-doc-link fitted\" rel=\"noreferrer\" target=\"_blank\" href=\"https://scikit-learn.org/1.6/modules/generated/sklearn.pipeline.Pipeline.html\">?<span>Documentation for Pipeline</span></a><span class=\"sk-estimator-doc-link fitted\">i<span>Fitted</span></span></div></label><div class=\"sk-toggleable__content fitted\"><pre>Pipeline(steps=[(&#x27;preproc&#x27;,\n",
       "                 ColumnTransformer(transformers=[(&#x27;num&#x27;, StandardScaler(),\n",
       "                                                  [&#x27;mileage&#x27;, &#x27;doors_count&#x27;,\n",
       "                                                   &#x27;engine_displacement&#x27;,\n",
       "                                                   &#x27;engine_power&#x27;, &#x27;handling&#x27;,\n",
       "                                                   &#x27;safe_car&#x27;, &#x27;losangeles2017&#x27;,\n",
       "                                                   &#x27;catalog_china_landing_china_mark&#x27;,\n",
       "                                                   &#x27;catalog_photo&#x27;, &#x27;muscle&#x27;,\n",
       "                                                   &#x27;liquid&#x27;,\n",
       "                                                   &#x27;withNumericEnumFeaturePairs&#x27;,\n",
       "                                                   &#x27;catalog_china_landing_official_adaptation&#x27;,\n",
       "                                                   &#x27;user_reseller_7days&#x27;,\n",
       "                                                   &#x27;...\n",
       "                                                   &#x27;certificate_manufacturer&#x27;,\n",
       "                                                   &#x27;jeneva2016&#x27;,\n",
       "                                                   &#x27;certificate_Favorit_Warranty&#x27;, ...]),\n",
       "                                                 (&#x27;cat&#x27;,\n",
       "                                                  OneHotEncoder(handle_unknown=&#x27;ignore&#x27;,\n",
       "                                                                sparse_output=False),\n",
       "                                                  [&#x27;condition&#x27;,\n",
       "                                                   &#x27;accidents_resolution&#x27;,\n",
       "                                                   &#x27;region&#x27;, &#x27;seller_type&#x27;,\n",
       "                                                   &#x27;brand&#x27;, &#x27;model&#x27;,\n",
       "                                                   &#x27;body_type&#x27;, &#x27;seats&#x27;,\n",
       "                                                   &#x27;steering_wheel&#x27;,\n",
       "                                                   &#x27;price_segment&#x27;,\n",
       "                                                   &#x27;auto_class&#x27;])])),\n",
       "                (&#x27;model&#x27;,\n",
       "                 LGBMRegressor(objective=&#x27;regression&#x27;, random_state=42))])</pre></div> </div></div><div class=\"sk-serial\"><div class=\"sk-item sk-dashed-wrapped\"><div class=\"sk-label-container\"><div class=\"sk-label fitted sk-toggleable\"><input class=\"sk-toggleable__control sk-hidden--visually\" id=\"sk-estimator-id-2\" type=\"checkbox\" ><label for=\"sk-estimator-id-2\" class=\"sk-toggleable__label fitted sk-toggleable__label-arrow\"><div><div>preproc: ColumnTransformer</div></div><div><a class=\"sk-estimator-doc-link fitted\" rel=\"noreferrer\" target=\"_blank\" href=\"https://scikit-learn.org/1.6/modules/generated/sklearn.compose.ColumnTransformer.html\">?<span>Documentation for preproc: ColumnTransformer</span></a></div></label><div class=\"sk-toggleable__content fitted\"><pre>ColumnTransformer(transformers=[(&#x27;num&#x27;, StandardScaler(),\n",
       "                                 [&#x27;mileage&#x27;, &#x27;doors_count&#x27;,\n",
       "                                  &#x27;engine_displacement&#x27;, &#x27;engine_power&#x27;,\n",
       "                                  &#x27;handling&#x27;, &#x27;safe_car&#x27;, &#x27;losangeles2017&#x27;,\n",
       "                                  &#x27;catalog_china_landing_china_mark&#x27;,\n",
       "                                  &#x27;catalog_photo&#x27;, &#x27;muscle&#x27;, &#x27;liquid&#x27;,\n",
       "                                  &#x27;withNumericEnumFeaturePairs&#x27;,\n",
       "                                  &#x27;catalog_china_landing_official_adaptation&#x27;,\n",
       "                                  &#x27;user_reseller_7days&#x27;, &#x27;frame&#x27;,\n",
       "                                  &#x27;active_in_buyout&#x27;, &#x27;...\n",
       "                                  &#x27;chats_preferred&#x27;, &#x27;description_using_yagpt&#x27;,\n",
       "                                  &#x27;economical&#x27;, &#x27;prestige&#x27;, &#x27;little&#x27;,\n",
       "                                  &#x27;no_accidents&#x27;, &#x27;certificate_manufacturer&#x27;,\n",
       "                                  &#x27;jeneva2016&#x27;, &#x27;certificate_Favorit_Warranty&#x27;, ...]),\n",
       "                                (&#x27;cat&#x27;,\n",
       "                                 OneHotEncoder(handle_unknown=&#x27;ignore&#x27;,\n",
       "                                               sparse_output=False),\n",
       "                                 [&#x27;condition&#x27;, &#x27;accidents_resolution&#x27;, &#x27;region&#x27;,\n",
       "                                  &#x27;seller_type&#x27;, &#x27;brand&#x27;, &#x27;model&#x27;, &#x27;body_type&#x27;,\n",
       "                                  &#x27;seats&#x27;, &#x27;steering_wheel&#x27;, &#x27;price_segment&#x27;,\n",
       "                                  &#x27;auto_class&#x27;])])</pre></div> </div></div><div class=\"sk-parallel\"><div class=\"sk-parallel-item\"><div class=\"sk-item\"><div class=\"sk-label-container\"><div class=\"sk-label fitted sk-toggleable\"><input class=\"sk-toggleable__control sk-hidden--visually\" id=\"sk-estimator-id-3\" type=\"checkbox\" ><label for=\"sk-estimator-id-3\" class=\"sk-toggleable__label fitted sk-toggleable__label-arrow\"><div><div>num</div></div></label><div class=\"sk-toggleable__content fitted\"><pre>[&#x27;mileage&#x27;, &#x27;doors_count&#x27;, &#x27;engine_displacement&#x27;, &#x27;engine_power&#x27;, &#x27;handling&#x27;, &#x27;safe_car&#x27;, &#x27;losangeles2017&#x27;, &#x27;catalog_china_landing_china_mark&#x27;, &#x27;catalog_photo&#x27;, &#x27;muscle&#x27;, &#x27;liquid&#x27;, &#x27;withNumericEnumFeaturePairs&#x27;, &#x27;catalog_china_landing_official_adaptation&#x27;, &#x27;user_reseller_7days&#x27;, &#x27;frame&#x27;, &#x27;active_in_buyout&#x27;, &#x27;new_car_old_price&#x27;, &#x27;fivestars&#x27;, &#x27;type_top_crown&#x27;, &#x27;with_calls_stat&#x27;, &#x27;preset.samie_nadezhnie_i_ekonomichnie_avto&#x27;, &#x27;chats_preferred&#x27;, &#x27;description_using_yagpt&#x27;, &#x27;economical&#x27;, &#x27;prestige&#x27;, &#x27;little&#x27;, &#x27;no_accidents&#x27;, &#x27;certificate_manufacturer&#x27;, &#x27;jeneva2016&#x27;, &#x27;certificate_Favorit_Warranty&#x27;, &#x27;preset.top_nadezhnih_kitayskih_avto&#x27;, &#x27;low_price&#x27;, &#x27;big&#x27;, &#x27;external_panoramas&#x27;, &#x27;proven_owner&#x27;, &#x27;certificate_DasWeltAuto&#x27;, &#x27;paris2016&#x27;, &#x27;dealer_discount&#x27;, &#x27;certificate_pango_select&#x27;, &#x27;comfort&#x27;, &#x27;cm_finance&#x27;, &#x27;history_increase&#x27;, &#x27;history_discount&#x27;, &#x27;certificate_bmw_service_inclusive&#x27;, &#x27;fresh&#x27;, &#x27;certificate_avtodom_warranty&#x27;, &#x27;with_lbu_auction_rank&#x27;, &#x27;haggle_possible&#x27;, &#x27;certificate_avilon_warranty&#x27;, &#x27;wide-back-seats&#x27;, &#x27;frankfurt2015&#x27;, &#x27;vin_checked&#x27;, &#x27;vin_resolution_unknown&#x27;, &#x27;checked_dealer&#x27;, &#x27;has_exterior_poi&#x27;, &#x27;custom_cleared_without_pts&#x27;, &#x27;high_reviews_mark&#x27;, &#x27;available_for_carp_auction&#x27;, &#x27;medium&#x27;, &#x27;warranty&#x27;, &#x27;vin_resolution_invalid&#x27;, &#x27;rs&#x27;, &#x27;trump_cars&#x27;, &#x27;middle&#x27;, &#x27;almost_new&#x27;, &#x27;frankfurt2017&#x27;, &#x27;one_owner&#x27;, &#x27;stable_price&#x27;, &#x27;reduced_price&#x27;, &#x27;video&#x27;, &#x27;no_answer&#x27;, &#x27;oversize&#x27;, &#x27;active_safe_deal_exists&#x27;, &#x27;small&#x27;, &#x27;jeneva2019&#x27;, &#x27;large&#x27;, &#x27;fast&#x27;, &#x27;reseller_status_accepted&#x27;, &#x27;calls_preferred&#x27;, &#x27;amg&#x27;, &#x27;high_price&#x27;, &#x27;prev_offer_photos&#x27;, &#x27;m&#x27;, &#x27;interior_panoramas&#x27;, &#x27;certificate_KiaSure&#x27;, &#x27;hothatch&#x27;, &#x27;vin_unknown_color&#x27;, &#x27;certificate_ttc_warranty&#x27;, &#x27;vin_resolution_error&#x27;, &#x27;vin_service_history&#x27;, &#x27;new4new&#x27;, &#x27;compact&#x27;, &#x27;online_view_available&#x27;, &#x27;badge&#x27;, &#x27;novice-drivers&#x27;, &#x27;preset.nadezhnie_yaponskie_avto_starshe_10_let&#x27;, &#x27;all-terrain&#x27;, &#x27;catalog_china_landing_europe_like&#x27;, &#x27;affordable&#x27;, &#x27;BOND_CARS&#x27;, &#x27;vin_resolution_untrusted&#x27;, &#x27;autoru_exclusive&#x27;, &#x27;catalog_china_landing_official_twins&#x27;, &#x27;catalog_china_landing_china_unofficial&#x27;, &#x27;increased_price&#x27;, &#x27;big-trunk&#x27;, &#x27;vin_resolution_in_progress&#x27;, &#x27;jeneva2017&#x27;, &#x27;options&#x27;, &#x27;preset.semeynie_avto&#x27;, &#x27;drift&#x27;, &#x27;too_low_price&#x27;, &#x27;certificate_business-car_warranty&#x27;, &#x27;has_vendor_colors&#x27;, &#x27;Detroit2016&#x27;, &#x27;preset.samie_bistrie_avto&#x27;, &#x27;preset.top_nadezhnih_vnedorozhnikov_s_probegom&#x27;, &#x27;preset.samie_komfortnie_avto_dlya_dalnih_poezdok&#x27;, &#x27;sport&#x27;, &#x27;predict_match_price&#x27;, &#x27;style&#x27;, &#x27;preset.top_koreyskih_avto&#x27;, &#x27;jeneva2018&#x27;, &#x27;very_large&#x27;, &#x27;vin_resolution_ok&#x27;, &#x27;too_high_price&#x27;, &#x27;allowed_for_cartinder&#x27;, &#x27;preset.kitayskie_elektromobili&#x27;, &#x27;hotsuv&#x27;, &#x27;certificate_asc_warranty&#x27;, &#x27;NFS_2015_CARS&#x27;, &#x27;newyork2016&#x27;, &#x27;preset.top_avto_do_500_tis&#x27;, &#x27;offroad&#x27;, &#x27;migration-flag&#x27;, &#x27;ignor-cme&#x27;, &#x27;fake-complect&#x27;, &#x27;13-inch-wheels&#x27;, &#x27;465&#x27;, &#x27;8T6&#x27;, &#x27;443&#x27;, &#x27;5AC&#x27;, &#x27;KA6&#x27;, &#x27;seats-4&#x27;, &#x27;seats-7&#x27;, &#x27;seats-9&#x27;, &#x27;seats-8&#x27;, &#x27;234&#x27;, &#x27;NHS&#x27;, &#x27;turnbuckle&#x27;, &#x27;414&#x27;, &#x27;seats-6&#x27;, &#x27;rus-multi&#x27;, &#x27;28-inch-wheels&#x27;, &#x27;248&#x27;, &#x27;gbo&#x27;, &#x27;608&#x27;, &#x27;872&#x27;, &#x27;alloy-wheel-disks&#x27;, &#x27;airbrush&#x27;, &#x27;3PB&#x27;, &#x27;27-inch-wheels&#x27;, &#x27;534&#x27;, &#x27;881&#x27;, &#x27;632&#x27;, &#x27;25-inch-wheels&#x27;, &#x27;597&#x27;, &#x27;seats-2&#x27;, &#x27;engine-proof&#x27;, &#x27;12-inch-wheels&#x27;, &#x27;7X5&#x27;, &#x27;873&#x27;, &#x27;23-inch-wheels&#x27;, &#x27;armored&#x27;, &#x27;C3U&#x27;, &#x27;dark-interior&#x27;, &#x27;3B3&#x27;, &#x27;26-inch-wheels&#x27;, &#x27;500&#x27;, &#x27;light-interior&#x27;, &#x27;pts_original&#x27;, &#x27;navigation&#x27;, &#x27;laser-lights&#x27;, &#x27;decorative-interior-lighting&#x27;, &#x27;cooling-box&#x27;, &#x27;knee-airbag&#x27;, &#x27;pedestrian-detection&#x27;, &#x27;16-inch-wheels&#x27;, &#x27;front-seats-heat-vent&#x27;, &#x27;android-auto&#x27;, &#x27;voice-recognition&#x27;, &#x27;glonass&#x27;, &#x27;fabric-seats&#x27;, &#x27;vsm&#x27;, &#x27;laminated-safety-glass&#x27;, &#x27;alcantara&#x27;, &#x27;entertainment-system-for-rear-seat-passengers&#x27;, &#x27;19-inch-wheels&#x27;, &#x27;sport-pedals&#x27;, &#x27;ya-auto&#x27;, &#x27;night-vision&#x27;, &#x27;door-sill-panel&#x27;, &#x27;front-seat-support&#x27;, &#x27;eco-leather&#x27;, &#x27;leather-gear-stick&#x27;, &#x27;auto-dimming-mirror&#x27;, &#x27;roller-blind-for-rear-window&#x27;, &#x27;driver-seat-support&#x27;, &#x27;seat-transformation&#x27;, &#x27;remote-car-services&#x27;, &#x27;projection-display&#x27;, &#x27;velvet-seats&#x27;, &#x27;remote-engine-start&#x27;, &#x27;central-airbag&#x27;, &#x27;multizone-climate-control&#x27;, &#x27;combo-interior&#x27;, &#x27;hatch&#x27;, &#x27;xenon&#x27;, &#x27;ldw&#x27;, &#x27;activ-suspension&#x27;, &#x27;ptf&#x27;, &#x27;body-kit&#x27;, &#x27;seat-memory&#x27;, &#x27;20-inch-wheels&#x27;, &#x27;14-inch-wheels&#x27;, &#x27;aux&#x27;, &#x27;roof-rails&#x27;, &#x27;tja&#x27;, &#x27;servo&#x27;, &#x27;driver-seat-electric&#x27;, &#x27;e-adjustment-wheel&#x27;, &#x27;power-child-locks-rear-doors&#x27;, &#x27;auto-park&#x27;, &#x27;automatic-lighting-control&#x27;, &#x27;22-inch-wheels&#x27;, &#x27;21-inch-wheels&#x27;, &#x27;windcleaner-heat&#x27;, &#x27;multi-wheel&#x27;, &#x27;paint-metallic&#x27;, &#x27;light-cleaner&#x27;, &#x27;sport-suspension&#x27;, &#x27;drive-mode-sys&#x27;, &#x27;adaptive-light&#x27;, &#x27;steering-wheel-gear-shift-paddles&#x27;, &#x27;15-inch-wheels&#x27;, &#x27;folding-front-passenger-seat&#x27;, &#x27;traffic-sign-recognition&#x27;, &#x27;drowsy-driver-alert-system&#x27;, &#x27;passenger-seat-updown&#x27;, &#x27;rcta&#x27;, &#x27;spare-wheel&#x27;, &#x27;roller-blinds-for-rear-side-windows&#x27;, &#x27;wheel-power&#x27;, &#x27;electro-rear-seat&#x27;, &#x27;reduce-spare-wheel&#x27;, &#x27;volume-sensor&#x27;, &#x27;airbag-rear-side&#x27;, &#x27;black-roof&#x27;, &#x27;knee-airbag-pass&#x27;, &#x27;steel-wheels&#x27;, &#x27;ashtray-and-cigarette-lighter&#x27;, &#x27;rear-seats-heat&#x27;, &#x27;massage-seats&#x27;, &#x27;adj-pedals&#x27;, &#x27;18-inch-wheels&#x27;, &#x27;isofix-front&#x27;, &#x27;rear-seat-heat-vent&#x27;, &#x27;mirrors-memory&#x27;, &#x27;easy-trunk-opening&#x27;, &#x27;rear-armrest&#x27;, &#x27;feedback-alarm&#x27;, &#x27;music-super&#x27;, &#x27;220v-socket&#x27;, &#x27;third-rear-headrest&#x27;, &#x27;alarm&#x27;, &#x27;start-stop-function&#x27;, &#x27;tinted-glass&#x27;, &#x27;leather&#x27;, &#x27;duo-body-color&#x27;, &#x27;air-suspension&#x27;, &#x27;folding-tables-rear&#x27;, &#x27;power-latching-doors&#x27;, &#x27;sport-seats&#x27;, &#x27;third-row-seats&#x27;, &#x27;17-inch-wheels&#x27;, &#x27;dha&#x27;, &#x27;24-inch-wheels&#x27;, &#x27;body-mouldings&#x27;, &#x27;programmed-block-heater&#x27;]</pre></div> </div></div><div class=\"sk-serial\"><div class=\"sk-item\"><div class=\"sk-estimator fitted sk-toggleable\"><input class=\"sk-toggleable__control sk-hidden--visually\" id=\"sk-estimator-id-4\" type=\"checkbox\" ><label for=\"sk-estimator-id-4\" class=\"sk-toggleable__label fitted sk-toggleable__label-arrow\"><div><div>StandardScaler</div></div><div><a class=\"sk-estimator-doc-link fitted\" rel=\"noreferrer\" target=\"_blank\" href=\"https://scikit-learn.org/1.6/modules/generated/sklearn.preprocessing.StandardScaler.html\">?<span>Documentation for StandardScaler</span></a></div></label><div class=\"sk-toggleable__content fitted\"><pre>StandardScaler()</pre></div> </div></div></div></div></div><div class=\"sk-parallel-item\"><div class=\"sk-item\"><div class=\"sk-label-container\"><div class=\"sk-label fitted sk-toggleable\"><input class=\"sk-toggleable__control sk-hidden--visually\" id=\"sk-estimator-id-5\" type=\"checkbox\" ><label for=\"sk-estimator-id-5\" class=\"sk-toggleable__label fitted sk-toggleable__label-arrow\"><div><div>cat</div></div></label><div class=\"sk-toggleable__content fitted\"><pre>[&#x27;condition&#x27;, &#x27;accidents_resolution&#x27;, &#x27;region&#x27;, &#x27;seller_type&#x27;, &#x27;brand&#x27;, &#x27;model&#x27;, &#x27;body_type&#x27;, &#x27;seats&#x27;, &#x27;steering_wheel&#x27;, &#x27;price_segment&#x27;, &#x27;auto_class&#x27;]</pre></div> </div></div><div class=\"sk-serial\"><div class=\"sk-item\"><div class=\"sk-estimator fitted sk-toggleable\"><input class=\"sk-toggleable__control sk-hidden--visually\" id=\"sk-estimator-id-6\" type=\"checkbox\" ><label for=\"sk-estimator-id-6\" class=\"sk-toggleable__label fitted sk-toggleable__label-arrow\"><div><div>OneHotEncoder</div></div><div><a class=\"sk-estimator-doc-link fitted\" rel=\"noreferrer\" target=\"_blank\" href=\"https://scikit-learn.org/1.6/modules/generated/sklearn.preprocessing.OneHotEncoder.html\">?<span>Documentation for OneHotEncoder</span></a></div></label><div class=\"sk-toggleable__content fitted\"><pre>OneHotEncoder(handle_unknown=&#x27;ignore&#x27;, sparse_output=False)</pre></div> </div></div></div></div></div></div></div><div class=\"sk-item\"><div class=\"sk-estimator fitted sk-toggleable\"><input class=\"sk-toggleable__control sk-hidden--visually\" id=\"sk-estimator-id-7\" type=\"checkbox\" ><label for=\"sk-estimator-id-7\" class=\"sk-toggleable__label fitted sk-toggleable__label-arrow\"><div><div>LGBMRegressor</div></div></label><div class=\"sk-toggleable__content fitted\"><pre>LGBMRegressor(objective=&#x27;regression&#x27;, random_state=42)</pre></div> </div></div></div></div></div></div>"
      ],
      "text/plain": [
       "Pipeline(steps=[('preproc',\n",
       "                 ColumnTransformer(transformers=[('num', StandardScaler(),\n",
       "                                                  ['mileage', 'doors_count',\n",
       "                                                   'engine_displacement',\n",
       "                                                   'engine_power', 'handling',\n",
       "                                                   'safe_car', 'losangeles2017',\n",
       "                                                   'catalog_china_landing_china_mark',\n",
       "                                                   'catalog_photo', 'muscle',\n",
       "                                                   'liquid',\n",
       "                                                   'withNumericEnumFeaturePairs',\n",
       "                                                   'catalog_china_landing_official_adaptation',\n",
       "                                                   'user_reseller_7days',\n",
       "                                                   '...\n",
       "                                                   'certificate_manufacturer',\n",
       "                                                   'jeneva2016',\n",
       "                                                   'certificate_Favorit_Warranty', ...]),\n",
       "                                                 ('cat',\n",
       "                                                  OneHotEncoder(handle_unknown='ignore',\n",
       "                                                                sparse_output=False),\n",
       "                                                  ['condition',\n",
       "                                                   'accidents_resolution',\n",
       "                                                   'region', 'seller_type',\n",
       "                                                   'brand', 'model',\n",
       "                                                   'body_type', 'seats',\n",
       "                                                   'steering_wheel',\n",
       "                                                   'price_segment',\n",
       "                                                   'auto_class'])])),\n",
       "                ('model',\n",
       "                 LGBMRegressor(objective='regression', random_state=42))])"
      ]
     },
     "execution_count": 115,
     "metadata": {},
     "output_type": "execute_result"
    }
   ],
   "source": [
    "lgbm_pipeline.fit(X_train, y_train)"
   ]
  },
  {
   "cell_type": "code",
   "execution_count": null,
   "metadata": {},
   "outputs": [
    {
     "name": "stderr",
     "output_type": "stream",
     "text": [
      "/Users/ilolss/anaconda3/envs/ml-project-2-course/lib/python3.10/site-packages/sklearn/utils/validation.py:921: UserWarning: pandas.DataFrame with sparse columns found.It will be converted to a dense numpy array.\n",
      "  warnings.warn(\n",
      "/Users/ilolss/anaconda3/envs/ml-project-2-course/lib/python3.10/site-packages/sklearn/utils/validation.py:2739: UserWarning: X does not have valid feature names, but LGBMRegressor was fitted with feature names\n",
      "  warnings.warn(\n"
     ]
    }
   ],
   "source": [
    "y_pred_lgbm = lgbm_pipeline.predict(X_test)"
   ]
  },
  {
   "cell_type": "code",
   "execution_count": null,
   "metadata": {},
   "outputs": [],
   "source": [
    "mse_lgbm = mean_squared_error(y_test, y_pred_lgbm)\n",
    "mae_lgbm = mean_absolute_error(y_test, y_pred_lgbm)\n",
    "r2_lgbm  = r2_score(y_test, y_pred_lgbm)"
   ]
  },
  {
   "cell_type": "code",
   "execution_count": null,
   "metadata": {},
   "outputs": [
    {
     "name": "stdout",
     "output_type": "stream",
     "text": [
      "LightGBM:\n",
      "  MSE:  7009385199619.20\n",
      "  MAE:  474050.08\n",
      "  R^2:  0.75\n"
     ]
    }
   ],
   "source": [
    "print(\"LightGBM:\")\n",
    "print(f\"  MSE:  {mse_lgbm:.2f}\")\n",
    "print(f\"  MAE:  {mae_lgbm:.2f}\")\n",
    "print(f\"  R^2:  {r2_lgbm:.2f}\")"
   ]
  },
  {
   "cell_type": "markdown",
   "metadata": {},
   "source": [
    "**CatBoost**"
   ]
  },
  {
   "cell_type": "code",
   "execution_count": null,
   "metadata": {},
   "outputs": [],
   "source": [
    "cat_pipeline = Pipeline([\n",
    "    ('preproc', preprocessor),\n",
    "    ('model', CatBoostRegressor(loss_function='RMSE', verbose=0, random_seed=RANDOM_STATE))\n",
    "])"
   ]
  },
  {
   "cell_type": "code",
   "execution_count": null,
   "metadata": {},
   "outputs": [],
   "source": [
    "X_train, X_test, y_train, y_test = train_test_split(\n",
    "    X, y, test_size=0.2, random_state=RANDOM_STATE\n",
    ")"
   ]
  },
  {
   "cell_type": "code",
   "execution_count": null,
   "metadata": {},
   "outputs": [
    {
     "name": "stderr",
     "output_type": "stream",
     "text": [
      "/Users/ilolss/anaconda3/envs/ml-project-2-course/lib/python3.10/site-packages/sklearn/utils/validation.py:921: UserWarning: pandas.DataFrame with sparse columns found.It will be converted to a dense numpy array.\n",
      "  warnings.warn(\n",
      "/Users/ilolss/anaconda3/envs/ml-project-2-course/lib/python3.10/site-packages/sklearn/utils/validation.py:921: UserWarning: pandas.DataFrame with sparse columns found.It will be converted to a dense numpy array.\n",
      "  warnings.warn(\n"
     ]
    },
    {
     "data": {
      "text/html": [
       "<style>#sk-container-id-2 {\n",
       "  /* Definition of color scheme common for light and dark mode */\n",
       "  --sklearn-color-text: #000;\n",
       "  --sklearn-color-text-muted: #666;\n",
       "  --sklearn-color-line: gray;\n",
       "  /* Definition of color scheme for unfitted estimators */\n",
       "  --sklearn-color-unfitted-level-0: #fff5e6;\n",
       "  --sklearn-color-unfitted-level-1: #f6e4d2;\n",
       "  --sklearn-color-unfitted-level-2: #ffe0b3;\n",
       "  --sklearn-color-unfitted-level-3: chocolate;\n",
       "  /* Definition of color scheme for fitted estimators */\n",
       "  --sklearn-color-fitted-level-0: #f0f8ff;\n",
       "  --sklearn-color-fitted-level-1: #d4ebff;\n",
       "  --sklearn-color-fitted-level-2: #b3dbfd;\n",
       "  --sklearn-color-fitted-level-3: cornflowerblue;\n",
       "\n",
       "  /* Specific color for light theme */\n",
       "  --sklearn-color-text-on-default-background: var(--sg-text-color, var(--theme-code-foreground, var(--jp-content-font-color1, black)));\n",
       "  --sklearn-color-background: var(--sg-background-color, var(--theme-background, var(--jp-layout-color0, white)));\n",
       "  --sklearn-color-border-box: var(--sg-text-color, var(--theme-code-foreground, var(--jp-content-font-color1, black)));\n",
       "  --sklearn-color-icon: #696969;\n",
       "\n",
       "  @media (prefers-color-scheme: dark) {\n",
       "    /* Redefinition of color scheme for dark theme */\n",
       "    --sklearn-color-text-on-default-background: var(--sg-text-color, var(--theme-code-foreground, var(--jp-content-font-color1, white)));\n",
       "    --sklearn-color-background: var(--sg-background-color, var(--theme-background, var(--jp-layout-color0, #111)));\n",
       "    --sklearn-color-border-box: var(--sg-text-color, var(--theme-code-foreground, var(--jp-content-font-color1, white)));\n",
       "    --sklearn-color-icon: #878787;\n",
       "  }\n",
       "}\n",
       "\n",
       "#sk-container-id-2 {\n",
       "  color: var(--sklearn-color-text);\n",
       "}\n",
       "\n",
       "#sk-container-id-2 pre {\n",
       "  padding: 0;\n",
       "}\n",
       "\n",
       "#sk-container-id-2 input.sk-hidden--visually {\n",
       "  border: 0;\n",
       "  clip: rect(1px 1px 1px 1px);\n",
       "  clip: rect(1px, 1px, 1px, 1px);\n",
       "  height: 1px;\n",
       "  margin: -1px;\n",
       "  overflow: hidden;\n",
       "  padding: 0;\n",
       "  position: absolute;\n",
       "  width: 1px;\n",
       "}\n",
       "\n",
       "#sk-container-id-2 div.sk-dashed-wrapped {\n",
       "  border: 1px dashed var(--sklearn-color-line);\n",
       "  margin: 0 0.4em 0.5em 0.4em;\n",
       "  box-sizing: border-box;\n",
       "  padding-bottom: 0.4em;\n",
       "  background-color: var(--sklearn-color-background);\n",
       "}\n",
       "\n",
       "#sk-container-id-2 div.sk-container {\n",
       "  /* jupyter's `normalize.less` sets `[hidden] { display: none; }`\n",
       "     but bootstrap.min.css set `[hidden] { display: none !important; }`\n",
       "     so we also need the `!important` here to be able to override the\n",
       "     default hidden behavior on the sphinx rendered scikit-learn.org.\n",
       "     See: https://github.com/scikit-learn/scikit-learn/issues/21755 */\n",
       "  display: inline-block !important;\n",
       "  position: relative;\n",
       "}\n",
       "\n",
       "#sk-container-id-2 div.sk-text-repr-fallback {\n",
       "  display: none;\n",
       "}\n",
       "\n",
       "div.sk-parallel-item,\n",
       "div.sk-serial,\n",
       "div.sk-item {\n",
       "  /* draw centered vertical line to link estimators */\n",
       "  background-image: linear-gradient(var(--sklearn-color-text-on-default-background), var(--sklearn-color-text-on-default-background));\n",
       "  background-size: 2px 100%;\n",
       "  background-repeat: no-repeat;\n",
       "  background-position: center center;\n",
       "}\n",
       "\n",
       "/* Parallel-specific style estimator block */\n",
       "\n",
       "#sk-container-id-2 div.sk-parallel-item::after {\n",
       "  content: \"\";\n",
       "  width: 100%;\n",
       "  border-bottom: 2px solid var(--sklearn-color-text-on-default-background);\n",
       "  flex-grow: 1;\n",
       "}\n",
       "\n",
       "#sk-container-id-2 div.sk-parallel {\n",
       "  display: flex;\n",
       "  align-items: stretch;\n",
       "  justify-content: center;\n",
       "  background-color: var(--sklearn-color-background);\n",
       "  position: relative;\n",
       "}\n",
       "\n",
       "#sk-container-id-2 div.sk-parallel-item {\n",
       "  display: flex;\n",
       "  flex-direction: column;\n",
       "}\n",
       "\n",
       "#sk-container-id-2 div.sk-parallel-item:first-child::after {\n",
       "  align-self: flex-end;\n",
       "  width: 50%;\n",
       "}\n",
       "\n",
       "#sk-container-id-2 div.sk-parallel-item:last-child::after {\n",
       "  align-self: flex-start;\n",
       "  width: 50%;\n",
       "}\n",
       "\n",
       "#sk-container-id-2 div.sk-parallel-item:only-child::after {\n",
       "  width: 0;\n",
       "}\n",
       "\n",
       "/* Serial-specific style estimator block */\n",
       "\n",
       "#sk-container-id-2 div.sk-serial {\n",
       "  display: flex;\n",
       "  flex-direction: column;\n",
       "  align-items: center;\n",
       "  background-color: var(--sklearn-color-background);\n",
       "  padding-right: 1em;\n",
       "  padding-left: 1em;\n",
       "}\n",
       "\n",
       "\n",
       "/* Toggleable style: style used for estimator/Pipeline/ColumnTransformer box that is\n",
       "clickable and can be expanded/collapsed.\n",
       "- Pipeline and ColumnTransformer use this feature and define the default style\n",
       "- Estimators will overwrite some part of the style using the `sk-estimator` class\n",
       "*/\n",
       "\n",
       "/* Pipeline and ColumnTransformer style (default) */\n",
       "\n",
       "#sk-container-id-2 div.sk-toggleable {\n",
       "  /* Default theme specific background. It is overwritten whether we have a\n",
       "  specific estimator or a Pipeline/ColumnTransformer */\n",
       "  background-color: var(--sklearn-color-background);\n",
       "}\n",
       "\n",
       "/* Toggleable label */\n",
       "#sk-container-id-2 label.sk-toggleable__label {\n",
       "  cursor: pointer;\n",
       "  display: flex;\n",
       "  width: 100%;\n",
       "  margin-bottom: 0;\n",
       "  padding: 0.5em;\n",
       "  box-sizing: border-box;\n",
       "  text-align: center;\n",
       "  align-items: start;\n",
       "  justify-content: space-between;\n",
       "  gap: 0.5em;\n",
       "}\n",
       "\n",
       "#sk-container-id-2 label.sk-toggleable__label .caption {\n",
       "  font-size: 0.6rem;\n",
       "  font-weight: lighter;\n",
       "  color: var(--sklearn-color-text-muted);\n",
       "}\n",
       "\n",
       "#sk-container-id-2 label.sk-toggleable__label-arrow:before {\n",
       "  /* Arrow on the left of the label */\n",
       "  content: \"▸\";\n",
       "  float: left;\n",
       "  margin-right: 0.25em;\n",
       "  color: var(--sklearn-color-icon);\n",
       "}\n",
       "\n",
       "#sk-container-id-2 label.sk-toggleable__label-arrow:hover:before {\n",
       "  color: var(--sklearn-color-text);\n",
       "}\n",
       "\n",
       "/* Toggleable content - dropdown */\n",
       "\n",
       "#sk-container-id-2 div.sk-toggleable__content {\n",
       "  max-height: 0;\n",
       "  max-width: 0;\n",
       "  overflow: hidden;\n",
       "  text-align: left;\n",
       "  /* unfitted */\n",
       "  background-color: var(--sklearn-color-unfitted-level-0);\n",
       "}\n",
       "\n",
       "#sk-container-id-2 div.sk-toggleable__content.fitted {\n",
       "  /* fitted */\n",
       "  background-color: var(--sklearn-color-fitted-level-0);\n",
       "}\n",
       "\n",
       "#sk-container-id-2 div.sk-toggleable__content pre {\n",
       "  margin: 0.2em;\n",
       "  border-radius: 0.25em;\n",
       "  color: var(--sklearn-color-text);\n",
       "  /* unfitted */\n",
       "  background-color: var(--sklearn-color-unfitted-level-0);\n",
       "}\n",
       "\n",
       "#sk-container-id-2 div.sk-toggleable__content.fitted pre {\n",
       "  /* unfitted */\n",
       "  background-color: var(--sklearn-color-fitted-level-0);\n",
       "}\n",
       "\n",
       "#sk-container-id-2 input.sk-toggleable__control:checked~div.sk-toggleable__content {\n",
       "  /* Expand drop-down */\n",
       "  max-height: 200px;\n",
       "  max-width: 100%;\n",
       "  overflow: auto;\n",
       "}\n",
       "\n",
       "#sk-container-id-2 input.sk-toggleable__control:checked~label.sk-toggleable__label-arrow:before {\n",
       "  content: \"▾\";\n",
       "}\n",
       "\n",
       "/* Pipeline/ColumnTransformer-specific style */\n",
       "\n",
       "#sk-container-id-2 div.sk-label input.sk-toggleable__control:checked~label.sk-toggleable__label {\n",
       "  color: var(--sklearn-color-text);\n",
       "  background-color: var(--sklearn-color-unfitted-level-2);\n",
       "}\n",
       "\n",
       "#sk-container-id-2 div.sk-label.fitted input.sk-toggleable__control:checked~label.sk-toggleable__label {\n",
       "  background-color: var(--sklearn-color-fitted-level-2);\n",
       "}\n",
       "\n",
       "/* Estimator-specific style */\n",
       "\n",
       "/* Colorize estimator box */\n",
       "#sk-container-id-2 div.sk-estimator input.sk-toggleable__control:checked~label.sk-toggleable__label {\n",
       "  /* unfitted */\n",
       "  background-color: var(--sklearn-color-unfitted-level-2);\n",
       "}\n",
       "\n",
       "#sk-container-id-2 div.sk-estimator.fitted input.sk-toggleable__control:checked~label.sk-toggleable__label {\n",
       "  /* fitted */\n",
       "  background-color: var(--sklearn-color-fitted-level-2);\n",
       "}\n",
       "\n",
       "#sk-container-id-2 div.sk-label label.sk-toggleable__label,\n",
       "#sk-container-id-2 div.sk-label label {\n",
       "  /* The background is the default theme color */\n",
       "  color: var(--sklearn-color-text-on-default-background);\n",
       "}\n",
       "\n",
       "/* On hover, darken the color of the background */\n",
       "#sk-container-id-2 div.sk-label:hover label.sk-toggleable__label {\n",
       "  color: var(--sklearn-color-text);\n",
       "  background-color: var(--sklearn-color-unfitted-level-2);\n",
       "}\n",
       "\n",
       "/* Label box, darken color on hover, fitted */\n",
       "#sk-container-id-2 div.sk-label.fitted:hover label.sk-toggleable__label.fitted {\n",
       "  color: var(--sklearn-color-text);\n",
       "  background-color: var(--sklearn-color-fitted-level-2);\n",
       "}\n",
       "\n",
       "/* Estimator label */\n",
       "\n",
       "#sk-container-id-2 div.sk-label label {\n",
       "  font-family: monospace;\n",
       "  font-weight: bold;\n",
       "  display: inline-block;\n",
       "  line-height: 1.2em;\n",
       "}\n",
       "\n",
       "#sk-container-id-2 div.sk-label-container {\n",
       "  text-align: center;\n",
       "}\n",
       "\n",
       "/* Estimator-specific */\n",
       "#sk-container-id-2 div.sk-estimator {\n",
       "  font-family: monospace;\n",
       "  border: 1px dotted var(--sklearn-color-border-box);\n",
       "  border-radius: 0.25em;\n",
       "  box-sizing: border-box;\n",
       "  margin-bottom: 0.5em;\n",
       "  /* unfitted */\n",
       "  background-color: var(--sklearn-color-unfitted-level-0);\n",
       "}\n",
       "\n",
       "#sk-container-id-2 div.sk-estimator.fitted {\n",
       "  /* fitted */\n",
       "  background-color: var(--sklearn-color-fitted-level-0);\n",
       "}\n",
       "\n",
       "/* on hover */\n",
       "#sk-container-id-2 div.sk-estimator:hover {\n",
       "  /* unfitted */\n",
       "  background-color: var(--sklearn-color-unfitted-level-2);\n",
       "}\n",
       "\n",
       "#sk-container-id-2 div.sk-estimator.fitted:hover {\n",
       "  /* fitted */\n",
       "  background-color: var(--sklearn-color-fitted-level-2);\n",
       "}\n",
       "\n",
       "/* Specification for estimator info (e.g. \"i\" and \"?\") */\n",
       "\n",
       "/* Common style for \"i\" and \"?\" */\n",
       "\n",
       ".sk-estimator-doc-link,\n",
       "a:link.sk-estimator-doc-link,\n",
       "a:visited.sk-estimator-doc-link {\n",
       "  float: right;\n",
       "  font-size: smaller;\n",
       "  line-height: 1em;\n",
       "  font-family: monospace;\n",
       "  background-color: var(--sklearn-color-background);\n",
       "  border-radius: 1em;\n",
       "  height: 1em;\n",
       "  width: 1em;\n",
       "  text-decoration: none !important;\n",
       "  margin-left: 0.5em;\n",
       "  text-align: center;\n",
       "  /* unfitted */\n",
       "  border: var(--sklearn-color-unfitted-level-1) 1pt solid;\n",
       "  color: var(--sklearn-color-unfitted-level-1);\n",
       "}\n",
       "\n",
       ".sk-estimator-doc-link.fitted,\n",
       "a:link.sk-estimator-doc-link.fitted,\n",
       "a:visited.sk-estimator-doc-link.fitted {\n",
       "  /* fitted */\n",
       "  border: var(--sklearn-color-fitted-level-1) 1pt solid;\n",
       "  color: var(--sklearn-color-fitted-level-1);\n",
       "}\n",
       "\n",
       "/* On hover */\n",
       "div.sk-estimator:hover .sk-estimator-doc-link:hover,\n",
       ".sk-estimator-doc-link:hover,\n",
       "div.sk-label-container:hover .sk-estimator-doc-link:hover,\n",
       ".sk-estimator-doc-link:hover {\n",
       "  /* unfitted */\n",
       "  background-color: var(--sklearn-color-unfitted-level-3);\n",
       "  color: var(--sklearn-color-background);\n",
       "  text-decoration: none;\n",
       "}\n",
       "\n",
       "div.sk-estimator.fitted:hover .sk-estimator-doc-link.fitted:hover,\n",
       ".sk-estimator-doc-link.fitted:hover,\n",
       "div.sk-label-container:hover .sk-estimator-doc-link.fitted:hover,\n",
       ".sk-estimator-doc-link.fitted:hover {\n",
       "  /* fitted */\n",
       "  background-color: var(--sklearn-color-fitted-level-3);\n",
       "  color: var(--sklearn-color-background);\n",
       "  text-decoration: none;\n",
       "}\n",
       "\n",
       "/* Span, style for the box shown on hovering the info icon */\n",
       ".sk-estimator-doc-link span {\n",
       "  display: none;\n",
       "  z-index: 9999;\n",
       "  position: relative;\n",
       "  font-weight: normal;\n",
       "  right: .2ex;\n",
       "  padding: .5ex;\n",
       "  margin: .5ex;\n",
       "  width: min-content;\n",
       "  min-width: 20ex;\n",
       "  max-width: 50ex;\n",
       "  color: var(--sklearn-color-text);\n",
       "  box-shadow: 2pt 2pt 4pt #999;\n",
       "  /* unfitted */\n",
       "  background: var(--sklearn-color-unfitted-level-0);\n",
       "  border: .5pt solid var(--sklearn-color-unfitted-level-3);\n",
       "}\n",
       "\n",
       ".sk-estimator-doc-link.fitted span {\n",
       "  /* fitted */\n",
       "  background: var(--sklearn-color-fitted-level-0);\n",
       "  border: var(--sklearn-color-fitted-level-3);\n",
       "}\n",
       "\n",
       ".sk-estimator-doc-link:hover span {\n",
       "  display: block;\n",
       "}\n",
       "\n",
       "/* \"?\"-specific style due to the `<a>` HTML tag */\n",
       "\n",
       "#sk-container-id-2 a.estimator_doc_link {\n",
       "  float: right;\n",
       "  font-size: 1rem;\n",
       "  line-height: 1em;\n",
       "  font-family: monospace;\n",
       "  background-color: var(--sklearn-color-background);\n",
       "  border-radius: 1rem;\n",
       "  height: 1rem;\n",
       "  width: 1rem;\n",
       "  text-decoration: none;\n",
       "  /* unfitted */\n",
       "  color: var(--sklearn-color-unfitted-level-1);\n",
       "  border: var(--sklearn-color-unfitted-level-1) 1pt solid;\n",
       "}\n",
       "\n",
       "#sk-container-id-2 a.estimator_doc_link.fitted {\n",
       "  /* fitted */\n",
       "  border: var(--sklearn-color-fitted-level-1) 1pt solid;\n",
       "  color: var(--sklearn-color-fitted-level-1);\n",
       "}\n",
       "\n",
       "/* On hover */\n",
       "#sk-container-id-2 a.estimator_doc_link:hover {\n",
       "  /* unfitted */\n",
       "  background-color: var(--sklearn-color-unfitted-level-3);\n",
       "  color: var(--sklearn-color-background);\n",
       "  text-decoration: none;\n",
       "}\n",
       "\n",
       "#sk-container-id-2 a.estimator_doc_link.fitted:hover {\n",
       "  /* fitted */\n",
       "  background-color: var(--sklearn-color-fitted-level-3);\n",
       "}\n",
       "</style><div id=\"sk-container-id-2\" class=\"sk-top-container\"><div class=\"sk-text-repr-fallback\"><pre>Pipeline(steps=[(&#x27;preproc&#x27;,\n",
       "                 ColumnTransformer(transformers=[(&#x27;num&#x27;, StandardScaler(),\n",
       "                                                  [&#x27;mileage&#x27;, &#x27;doors_count&#x27;,\n",
       "                                                   &#x27;engine_displacement&#x27;,\n",
       "                                                   &#x27;engine_power&#x27;, &#x27;handling&#x27;,\n",
       "                                                   &#x27;safe_car&#x27;, &#x27;losangeles2017&#x27;,\n",
       "                                                   &#x27;catalog_china_landing_china_mark&#x27;,\n",
       "                                                   &#x27;catalog_photo&#x27;, &#x27;muscle&#x27;,\n",
       "                                                   &#x27;liquid&#x27;,\n",
       "                                                   &#x27;withNumericEnumFeaturePairs&#x27;,\n",
       "                                                   &#x27;catalog_china_landing_official_adaptation&#x27;,\n",
       "                                                   &#x27;user_reseller_7days&#x27;,\n",
       "                                                   &#x27;...\n",
       "                                                   &#x27;certificate_manufacturer&#x27;,\n",
       "                                                   &#x27;jeneva2016&#x27;,\n",
       "                                                   &#x27;certificate_Favorit_Warranty&#x27;, ...]),\n",
       "                                                 (&#x27;cat&#x27;,\n",
       "                                                  OneHotEncoder(handle_unknown=&#x27;ignore&#x27;,\n",
       "                                                                sparse_output=False),\n",
       "                                                  [&#x27;condition&#x27;,\n",
       "                                                   &#x27;accidents_resolution&#x27;,\n",
       "                                                   &#x27;region&#x27;, &#x27;seller_type&#x27;,\n",
       "                                                   &#x27;brand&#x27;, &#x27;model&#x27;,\n",
       "                                                   &#x27;body_type&#x27;, &#x27;seats&#x27;,\n",
       "                                                   &#x27;steering_wheel&#x27;,\n",
       "                                                   &#x27;price_segment&#x27;,\n",
       "                                                   &#x27;auto_class&#x27;])])),\n",
       "                (&#x27;model&#x27;,\n",
       "                 &lt;catboost.core.CatBoostRegressor object at 0x161247100&gt;)])</pre><b>In a Jupyter environment, please rerun this cell to show the HTML representation or trust the notebook. <br />On GitHub, the HTML representation is unable to render, please try loading this page with nbviewer.org.</b></div><div class=\"sk-container\" hidden><div class=\"sk-item sk-dashed-wrapped\"><div class=\"sk-label-container\"><div class=\"sk-label fitted sk-toggleable\"><input class=\"sk-toggleable__control sk-hidden--visually\" id=\"sk-estimator-id-8\" type=\"checkbox\" ><label for=\"sk-estimator-id-8\" class=\"sk-toggleable__label fitted sk-toggleable__label-arrow\"><div><div>Pipeline</div></div><div><a class=\"sk-estimator-doc-link fitted\" rel=\"noreferrer\" target=\"_blank\" href=\"https://scikit-learn.org/1.6/modules/generated/sklearn.pipeline.Pipeline.html\">?<span>Documentation for Pipeline</span></a><span class=\"sk-estimator-doc-link fitted\">i<span>Fitted</span></span></div></label><div class=\"sk-toggleable__content fitted\"><pre>Pipeline(steps=[(&#x27;preproc&#x27;,\n",
       "                 ColumnTransformer(transformers=[(&#x27;num&#x27;, StandardScaler(),\n",
       "                                                  [&#x27;mileage&#x27;, &#x27;doors_count&#x27;,\n",
       "                                                   &#x27;engine_displacement&#x27;,\n",
       "                                                   &#x27;engine_power&#x27;, &#x27;handling&#x27;,\n",
       "                                                   &#x27;safe_car&#x27;, &#x27;losangeles2017&#x27;,\n",
       "                                                   &#x27;catalog_china_landing_china_mark&#x27;,\n",
       "                                                   &#x27;catalog_photo&#x27;, &#x27;muscle&#x27;,\n",
       "                                                   &#x27;liquid&#x27;,\n",
       "                                                   &#x27;withNumericEnumFeaturePairs&#x27;,\n",
       "                                                   &#x27;catalog_china_landing_official_adaptation&#x27;,\n",
       "                                                   &#x27;user_reseller_7days&#x27;,\n",
       "                                                   &#x27;...\n",
       "                                                   &#x27;certificate_manufacturer&#x27;,\n",
       "                                                   &#x27;jeneva2016&#x27;,\n",
       "                                                   &#x27;certificate_Favorit_Warranty&#x27;, ...]),\n",
       "                                                 (&#x27;cat&#x27;,\n",
       "                                                  OneHotEncoder(handle_unknown=&#x27;ignore&#x27;,\n",
       "                                                                sparse_output=False),\n",
       "                                                  [&#x27;condition&#x27;,\n",
       "                                                   &#x27;accidents_resolution&#x27;,\n",
       "                                                   &#x27;region&#x27;, &#x27;seller_type&#x27;,\n",
       "                                                   &#x27;brand&#x27;, &#x27;model&#x27;,\n",
       "                                                   &#x27;body_type&#x27;, &#x27;seats&#x27;,\n",
       "                                                   &#x27;steering_wheel&#x27;,\n",
       "                                                   &#x27;price_segment&#x27;,\n",
       "                                                   &#x27;auto_class&#x27;])])),\n",
       "                (&#x27;model&#x27;,\n",
       "                 &lt;catboost.core.CatBoostRegressor object at 0x161247100&gt;)])</pre></div> </div></div><div class=\"sk-serial\"><div class=\"sk-item sk-dashed-wrapped\"><div class=\"sk-label-container\"><div class=\"sk-label fitted sk-toggleable\"><input class=\"sk-toggleable__control sk-hidden--visually\" id=\"sk-estimator-id-9\" type=\"checkbox\" ><label for=\"sk-estimator-id-9\" class=\"sk-toggleable__label fitted sk-toggleable__label-arrow\"><div><div>preproc: ColumnTransformer</div></div><div><a class=\"sk-estimator-doc-link fitted\" rel=\"noreferrer\" target=\"_blank\" href=\"https://scikit-learn.org/1.6/modules/generated/sklearn.compose.ColumnTransformer.html\">?<span>Documentation for preproc: ColumnTransformer</span></a></div></label><div class=\"sk-toggleable__content fitted\"><pre>ColumnTransformer(transformers=[(&#x27;num&#x27;, StandardScaler(),\n",
       "                                 [&#x27;mileage&#x27;, &#x27;doors_count&#x27;,\n",
       "                                  &#x27;engine_displacement&#x27;, &#x27;engine_power&#x27;,\n",
       "                                  &#x27;handling&#x27;, &#x27;safe_car&#x27;, &#x27;losangeles2017&#x27;,\n",
       "                                  &#x27;catalog_china_landing_china_mark&#x27;,\n",
       "                                  &#x27;catalog_photo&#x27;, &#x27;muscle&#x27;, &#x27;liquid&#x27;,\n",
       "                                  &#x27;withNumericEnumFeaturePairs&#x27;,\n",
       "                                  &#x27;catalog_china_landing_official_adaptation&#x27;,\n",
       "                                  &#x27;user_reseller_7days&#x27;, &#x27;frame&#x27;,\n",
       "                                  &#x27;active_in_buyout&#x27;, &#x27;...\n",
       "                                  &#x27;chats_preferred&#x27;, &#x27;description_using_yagpt&#x27;,\n",
       "                                  &#x27;economical&#x27;, &#x27;prestige&#x27;, &#x27;little&#x27;,\n",
       "                                  &#x27;no_accidents&#x27;, &#x27;certificate_manufacturer&#x27;,\n",
       "                                  &#x27;jeneva2016&#x27;, &#x27;certificate_Favorit_Warranty&#x27;, ...]),\n",
       "                                (&#x27;cat&#x27;,\n",
       "                                 OneHotEncoder(handle_unknown=&#x27;ignore&#x27;,\n",
       "                                               sparse_output=False),\n",
       "                                 [&#x27;condition&#x27;, &#x27;accidents_resolution&#x27;, &#x27;region&#x27;,\n",
       "                                  &#x27;seller_type&#x27;, &#x27;brand&#x27;, &#x27;model&#x27;, &#x27;body_type&#x27;,\n",
       "                                  &#x27;seats&#x27;, &#x27;steering_wheel&#x27;, &#x27;price_segment&#x27;,\n",
       "                                  &#x27;auto_class&#x27;])])</pre></div> </div></div><div class=\"sk-parallel\"><div class=\"sk-parallel-item\"><div class=\"sk-item\"><div class=\"sk-label-container\"><div class=\"sk-label fitted sk-toggleable\"><input class=\"sk-toggleable__control sk-hidden--visually\" id=\"sk-estimator-id-10\" type=\"checkbox\" ><label for=\"sk-estimator-id-10\" class=\"sk-toggleable__label fitted sk-toggleable__label-arrow\"><div><div>num</div></div></label><div class=\"sk-toggleable__content fitted\"><pre>[&#x27;mileage&#x27;, &#x27;doors_count&#x27;, &#x27;engine_displacement&#x27;, &#x27;engine_power&#x27;, &#x27;handling&#x27;, &#x27;safe_car&#x27;, &#x27;losangeles2017&#x27;, &#x27;catalog_china_landing_china_mark&#x27;, &#x27;catalog_photo&#x27;, &#x27;muscle&#x27;, &#x27;liquid&#x27;, &#x27;withNumericEnumFeaturePairs&#x27;, &#x27;catalog_china_landing_official_adaptation&#x27;, &#x27;user_reseller_7days&#x27;, &#x27;frame&#x27;, &#x27;active_in_buyout&#x27;, &#x27;new_car_old_price&#x27;, &#x27;fivestars&#x27;, &#x27;type_top_crown&#x27;, &#x27;with_calls_stat&#x27;, &#x27;preset.samie_nadezhnie_i_ekonomichnie_avto&#x27;, &#x27;chats_preferred&#x27;, &#x27;description_using_yagpt&#x27;, &#x27;economical&#x27;, &#x27;prestige&#x27;, &#x27;little&#x27;, &#x27;no_accidents&#x27;, &#x27;certificate_manufacturer&#x27;, &#x27;jeneva2016&#x27;, &#x27;certificate_Favorit_Warranty&#x27;, &#x27;preset.top_nadezhnih_kitayskih_avto&#x27;, &#x27;low_price&#x27;, &#x27;big&#x27;, &#x27;external_panoramas&#x27;, &#x27;proven_owner&#x27;, &#x27;certificate_DasWeltAuto&#x27;, &#x27;paris2016&#x27;, &#x27;dealer_discount&#x27;, &#x27;certificate_pango_select&#x27;, &#x27;comfort&#x27;, &#x27;cm_finance&#x27;, &#x27;history_increase&#x27;, &#x27;history_discount&#x27;, &#x27;certificate_bmw_service_inclusive&#x27;, &#x27;fresh&#x27;, &#x27;certificate_avtodom_warranty&#x27;, &#x27;with_lbu_auction_rank&#x27;, &#x27;haggle_possible&#x27;, &#x27;certificate_avilon_warranty&#x27;, &#x27;wide-back-seats&#x27;, &#x27;frankfurt2015&#x27;, &#x27;vin_checked&#x27;, &#x27;vin_resolution_unknown&#x27;, &#x27;checked_dealer&#x27;, &#x27;has_exterior_poi&#x27;, &#x27;custom_cleared_without_pts&#x27;, &#x27;high_reviews_mark&#x27;, &#x27;available_for_carp_auction&#x27;, &#x27;medium&#x27;, &#x27;warranty&#x27;, &#x27;vin_resolution_invalid&#x27;, &#x27;rs&#x27;, &#x27;trump_cars&#x27;, &#x27;middle&#x27;, &#x27;almost_new&#x27;, &#x27;frankfurt2017&#x27;, &#x27;one_owner&#x27;, &#x27;stable_price&#x27;, &#x27;reduced_price&#x27;, &#x27;video&#x27;, &#x27;no_answer&#x27;, &#x27;oversize&#x27;, &#x27;active_safe_deal_exists&#x27;, &#x27;small&#x27;, &#x27;jeneva2019&#x27;, &#x27;large&#x27;, &#x27;fast&#x27;, &#x27;reseller_status_accepted&#x27;, &#x27;calls_preferred&#x27;, &#x27;amg&#x27;, &#x27;high_price&#x27;, &#x27;prev_offer_photos&#x27;, &#x27;m&#x27;, &#x27;interior_panoramas&#x27;, &#x27;certificate_KiaSure&#x27;, &#x27;hothatch&#x27;, &#x27;vin_unknown_color&#x27;, &#x27;certificate_ttc_warranty&#x27;, &#x27;vin_resolution_error&#x27;, &#x27;vin_service_history&#x27;, &#x27;new4new&#x27;, &#x27;compact&#x27;, &#x27;online_view_available&#x27;, &#x27;badge&#x27;, &#x27;novice-drivers&#x27;, &#x27;preset.nadezhnie_yaponskie_avto_starshe_10_let&#x27;, &#x27;all-terrain&#x27;, &#x27;catalog_china_landing_europe_like&#x27;, &#x27;affordable&#x27;, &#x27;BOND_CARS&#x27;, &#x27;vin_resolution_untrusted&#x27;, &#x27;autoru_exclusive&#x27;, &#x27;catalog_china_landing_official_twins&#x27;, &#x27;catalog_china_landing_china_unofficial&#x27;, &#x27;increased_price&#x27;, &#x27;big-trunk&#x27;, &#x27;vin_resolution_in_progress&#x27;, &#x27;jeneva2017&#x27;, &#x27;options&#x27;, &#x27;preset.semeynie_avto&#x27;, &#x27;drift&#x27;, &#x27;too_low_price&#x27;, &#x27;certificate_business-car_warranty&#x27;, &#x27;has_vendor_colors&#x27;, &#x27;Detroit2016&#x27;, &#x27;preset.samie_bistrie_avto&#x27;, &#x27;preset.top_nadezhnih_vnedorozhnikov_s_probegom&#x27;, &#x27;preset.samie_komfortnie_avto_dlya_dalnih_poezdok&#x27;, &#x27;sport&#x27;, &#x27;predict_match_price&#x27;, &#x27;style&#x27;, &#x27;preset.top_koreyskih_avto&#x27;, &#x27;jeneva2018&#x27;, &#x27;very_large&#x27;, &#x27;vin_resolution_ok&#x27;, &#x27;too_high_price&#x27;, &#x27;allowed_for_cartinder&#x27;, &#x27;preset.kitayskie_elektromobili&#x27;, &#x27;hotsuv&#x27;, &#x27;certificate_asc_warranty&#x27;, &#x27;NFS_2015_CARS&#x27;, &#x27;newyork2016&#x27;, &#x27;preset.top_avto_do_500_tis&#x27;, &#x27;offroad&#x27;, &#x27;migration-flag&#x27;, &#x27;ignor-cme&#x27;, &#x27;fake-complect&#x27;, &#x27;13-inch-wheels&#x27;, &#x27;465&#x27;, &#x27;8T6&#x27;, &#x27;443&#x27;, &#x27;5AC&#x27;, &#x27;KA6&#x27;, &#x27;seats-4&#x27;, &#x27;seats-7&#x27;, &#x27;seats-9&#x27;, &#x27;seats-8&#x27;, &#x27;234&#x27;, &#x27;NHS&#x27;, &#x27;turnbuckle&#x27;, &#x27;414&#x27;, &#x27;seats-6&#x27;, &#x27;rus-multi&#x27;, &#x27;28-inch-wheels&#x27;, &#x27;248&#x27;, &#x27;gbo&#x27;, &#x27;608&#x27;, &#x27;872&#x27;, &#x27;alloy-wheel-disks&#x27;, &#x27;airbrush&#x27;, &#x27;3PB&#x27;, &#x27;27-inch-wheels&#x27;, &#x27;534&#x27;, &#x27;881&#x27;, &#x27;632&#x27;, &#x27;25-inch-wheels&#x27;, &#x27;597&#x27;, &#x27;seats-2&#x27;, &#x27;engine-proof&#x27;, &#x27;12-inch-wheels&#x27;, &#x27;7X5&#x27;, &#x27;873&#x27;, &#x27;23-inch-wheels&#x27;, &#x27;armored&#x27;, &#x27;C3U&#x27;, &#x27;dark-interior&#x27;, &#x27;3B3&#x27;, &#x27;26-inch-wheels&#x27;, &#x27;500&#x27;, &#x27;light-interior&#x27;, &#x27;pts_original&#x27;, &#x27;navigation&#x27;, &#x27;laser-lights&#x27;, &#x27;decorative-interior-lighting&#x27;, &#x27;cooling-box&#x27;, &#x27;knee-airbag&#x27;, &#x27;pedestrian-detection&#x27;, &#x27;16-inch-wheels&#x27;, &#x27;front-seats-heat-vent&#x27;, &#x27;android-auto&#x27;, &#x27;voice-recognition&#x27;, &#x27;glonass&#x27;, &#x27;fabric-seats&#x27;, &#x27;vsm&#x27;, &#x27;laminated-safety-glass&#x27;, &#x27;alcantara&#x27;, &#x27;entertainment-system-for-rear-seat-passengers&#x27;, &#x27;19-inch-wheels&#x27;, &#x27;sport-pedals&#x27;, &#x27;ya-auto&#x27;, &#x27;night-vision&#x27;, &#x27;door-sill-panel&#x27;, &#x27;front-seat-support&#x27;, &#x27;eco-leather&#x27;, &#x27;leather-gear-stick&#x27;, &#x27;auto-dimming-mirror&#x27;, &#x27;roller-blind-for-rear-window&#x27;, &#x27;driver-seat-support&#x27;, &#x27;seat-transformation&#x27;, &#x27;remote-car-services&#x27;, &#x27;projection-display&#x27;, &#x27;velvet-seats&#x27;, &#x27;remote-engine-start&#x27;, &#x27;central-airbag&#x27;, &#x27;multizone-climate-control&#x27;, &#x27;combo-interior&#x27;, &#x27;hatch&#x27;, &#x27;xenon&#x27;, &#x27;ldw&#x27;, &#x27;activ-suspension&#x27;, &#x27;ptf&#x27;, &#x27;body-kit&#x27;, &#x27;seat-memory&#x27;, &#x27;20-inch-wheels&#x27;, &#x27;14-inch-wheels&#x27;, &#x27;aux&#x27;, &#x27;roof-rails&#x27;, &#x27;tja&#x27;, &#x27;servo&#x27;, &#x27;driver-seat-electric&#x27;, &#x27;e-adjustment-wheel&#x27;, &#x27;power-child-locks-rear-doors&#x27;, &#x27;auto-park&#x27;, &#x27;automatic-lighting-control&#x27;, &#x27;22-inch-wheels&#x27;, &#x27;21-inch-wheels&#x27;, &#x27;windcleaner-heat&#x27;, &#x27;multi-wheel&#x27;, &#x27;paint-metallic&#x27;, &#x27;light-cleaner&#x27;, &#x27;sport-suspension&#x27;, &#x27;drive-mode-sys&#x27;, &#x27;adaptive-light&#x27;, &#x27;steering-wheel-gear-shift-paddles&#x27;, &#x27;15-inch-wheels&#x27;, &#x27;folding-front-passenger-seat&#x27;, &#x27;traffic-sign-recognition&#x27;, &#x27;drowsy-driver-alert-system&#x27;, &#x27;passenger-seat-updown&#x27;, &#x27;rcta&#x27;, &#x27;spare-wheel&#x27;, &#x27;roller-blinds-for-rear-side-windows&#x27;, &#x27;wheel-power&#x27;, &#x27;electro-rear-seat&#x27;, &#x27;reduce-spare-wheel&#x27;, &#x27;volume-sensor&#x27;, &#x27;airbag-rear-side&#x27;, &#x27;black-roof&#x27;, &#x27;knee-airbag-pass&#x27;, &#x27;steel-wheels&#x27;, &#x27;ashtray-and-cigarette-lighter&#x27;, &#x27;rear-seats-heat&#x27;, &#x27;massage-seats&#x27;, &#x27;adj-pedals&#x27;, &#x27;18-inch-wheels&#x27;, &#x27;isofix-front&#x27;, &#x27;rear-seat-heat-vent&#x27;, &#x27;mirrors-memory&#x27;, &#x27;easy-trunk-opening&#x27;, &#x27;rear-armrest&#x27;, &#x27;feedback-alarm&#x27;, &#x27;music-super&#x27;, &#x27;220v-socket&#x27;, &#x27;third-rear-headrest&#x27;, &#x27;alarm&#x27;, &#x27;start-stop-function&#x27;, &#x27;tinted-glass&#x27;, &#x27;leather&#x27;, &#x27;duo-body-color&#x27;, &#x27;air-suspension&#x27;, &#x27;folding-tables-rear&#x27;, &#x27;power-latching-doors&#x27;, &#x27;sport-seats&#x27;, &#x27;third-row-seats&#x27;, &#x27;17-inch-wheels&#x27;, &#x27;dha&#x27;, &#x27;24-inch-wheels&#x27;, &#x27;body-mouldings&#x27;, &#x27;programmed-block-heater&#x27;]</pre></div> </div></div><div class=\"sk-serial\"><div class=\"sk-item\"><div class=\"sk-estimator fitted sk-toggleable\"><input class=\"sk-toggleable__control sk-hidden--visually\" id=\"sk-estimator-id-11\" type=\"checkbox\" ><label for=\"sk-estimator-id-11\" class=\"sk-toggleable__label fitted sk-toggleable__label-arrow\"><div><div>StandardScaler</div></div><div><a class=\"sk-estimator-doc-link fitted\" rel=\"noreferrer\" target=\"_blank\" href=\"https://scikit-learn.org/1.6/modules/generated/sklearn.preprocessing.StandardScaler.html\">?<span>Documentation for StandardScaler</span></a></div></label><div class=\"sk-toggleable__content fitted\"><pre>StandardScaler()</pre></div> </div></div></div></div></div><div class=\"sk-parallel-item\"><div class=\"sk-item\"><div class=\"sk-label-container\"><div class=\"sk-label fitted sk-toggleable\"><input class=\"sk-toggleable__control sk-hidden--visually\" id=\"sk-estimator-id-12\" type=\"checkbox\" ><label for=\"sk-estimator-id-12\" class=\"sk-toggleable__label fitted sk-toggleable__label-arrow\"><div><div>cat</div></div></label><div class=\"sk-toggleable__content fitted\"><pre>[&#x27;condition&#x27;, &#x27;accidents_resolution&#x27;, &#x27;region&#x27;, &#x27;seller_type&#x27;, &#x27;brand&#x27;, &#x27;model&#x27;, &#x27;body_type&#x27;, &#x27;seats&#x27;, &#x27;steering_wheel&#x27;, &#x27;price_segment&#x27;, &#x27;auto_class&#x27;]</pre></div> </div></div><div class=\"sk-serial\"><div class=\"sk-item\"><div class=\"sk-estimator fitted sk-toggleable\"><input class=\"sk-toggleable__control sk-hidden--visually\" id=\"sk-estimator-id-13\" type=\"checkbox\" ><label for=\"sk-estimator-id-13\" class=\"sk-toggleable__label fitted sk-toggleable__label-arrow\"><div><div>OneHotEncoder</div></div><div><a class=\"sk-estimator-doc-link fitted\" rel=\"noreferrer\" target=\"_blank\" href=\"https://scikit-learn.org/1.6/modules/generated/sklearn.preprocessing.OneHotEncoder.html\">?<span>Documentation for OneHotEncoder</span></a></div></label><div class=\"sk-toggleable__content fitted\"><pre>OneHotEncoder(handle_unknown=&#x27;ignore&#x27;, sparse_output=False)</pre></div> </div></div></div></div></div></div></div><div class=\"sk-item\"><div class=\"sk-estimator fitted sk-toggleable\"><input class=\"sk-toggleable__control sk-hidden--visually\" id=\"sk-estimator-id-14\" type=\"checkbox\" ><label for=\"sk-estimator-id-14\" class=\"sk-toggleable__label fitted sk-toggleable__label-arrow\"><div><div>CatBoostRegressor</div></div></label><div class=\"sk-toggleable__content fitted\"><pre>&lt;catboost.core.CatBoostRegressor object at 0x161247100&gt;</pre></div> </div></div></div></div></div></div>"
      ],
      "text/plain": [
       "Pipeline(steps=[('preproc',\n",
       "                 ColumnTransformer(transformers=[('num', StandardScaler(),\n",
       "                                                  ['mileage', 'doors_count',\n",
       "                                                   'engine_displacement',\n",
       "                                                   'engine_power', 'handling',\n",
       "                                                   'safe_car', 'losangeles2017',\n",
       "                                                   'catalog_china_landing_china_mark',\n",
       "                                                   'catalog_photo', 'muscle',\n",
       "                                                   'liquid',\n",
       "                                                   'withNumericEnumFeaturePairs',\n",
       "                                                   'catalog_china_landing_official_adaptation',\n",
       "                                                   'user_reseller_7days',\n",
       "                                                   '...\n",
       "                                                   'certificate_manufacturer',\n",
       "                                                   'jeneva2016',\n",
       "                                                   'certificate_Favorit_Warranty', ...]),\n",
       "                                                 ('cat',\n",
       "                                                  OneHotEncoder(handle_unknown='ignore',\n",
       "                                                                sparse_output=False),\n",
       "                                                  ['condition',\n",
       "                                                   'accidents_resolution',\n",
       "                                                   'region', 'seller_type',\n",
       "                                                   'brand', 'model',\n",
       "                                                   'body_type', 'seats',\n",
       "                                                   'steering_wheel',\n",
       "                                                   'price_segment',\n",
       "                                                   'auto_class'])])),\n",
       "                ('model',\n",
       "                 <catboost.core.CatBoostRegressor object at 0x161247100>)])"
      ]
     },
     "execution_count": 123,
     "metadata": {},
     "output_type": "execute_result"
    }
   ],
   "source": [
    "cat_pipeline.fit(X_train, y_train)"
   ]
  },
  {
   "cell_type": "code",
   "execution_count": null,
   "metadata": {},
   "outputs": [
    {
     "name": "stderr",
     "output_type": "stream",
     "text": [
      "/Users/ilolss/anaconda3/envs/ml-project-2-course/lib/python3.10/site-packages/sklearn/utils/validation.py:921: UserWarning: pandas.DataFrame with sparse columns found.It will be converted to a dense numpy array.\n",
      "  warnings.warn(\n"
     ]
    }
   ],
   "source": [
    "y_pred_cat  = cat_pipeline.predict(X_test)"
   ]
  },
  {
   "cell_type": "code",
   "execution_count": null,
   "metadata": {},
   "outputs": [],
   "source": [
    "mse_cat = mean_squared_error(y_test, y_pred_cat)\n",
    "mae_cat = mean_absolute_error(y_test, y_pred_cat)\n",
    "r2_cat  = r2_score(y_test, y_pred_cat)"
   ]
  },
  {
   "cell_type": "code",
   "execution_count": null,
   "metadata": {},
   "outputs": [
    {
     "name": "stdout",
     "output_type": "stream",
     "text": [
      "LightGBM:\n",
      "  MSE:  7009385199619.20\n",
      "  MAE:  474050.08\n",
      "  R^2:  0.75\n",
      "CatBoost:\n",
      "  MSE:  8188312842766.43\n",
      "  MAE:  417499.35\n",
      "  R^2:  0.71\n"
     ]
    }
   ],
   "source": [
    "print(\"LightGBM:\")\n",
    "print(f\"  MSE:  {mse_lgbm:.2f}\")\n",
    "print(f\"  MAE:  {mae_lgbm:.2f}\")\n",
    "print(f\"  R^2:  {r2_lgbm:.2f}\")\n",
    "\n",
    "print(\"CatBoost:\")\n",
    "print(f\"  MSE:  {mse_cat:.2f}\")\n",
    "print(f\"  MAE:  {mae_cat:.2f}\")\n",
    "print(f\"  R^2:  {r2_cat:.2f}\")"
   ]
  },
  {
   "cell_type": "markdown",
   "metadata": {},
   "source": [
    "## Попробуем подобрать гиперпараметры с помощью Bayesian Optimization"
   ]
  },
  {
   "cell_type": "markdown",
   "metadata": {},
   "source": [
    "**LightGBM**"
   ]
  },
  {
   "cell_type": "code",
   "execution_count": 51,
   "metadata": {},
   "outputs": [],
   "source": [
    "import optuna\n",
    "import numpy as np\n",
    "\n",
    "from sklearn.model_selection import train_test_split\n",
    "from sklearn.compose import ColumnTransformer\n",
    "from sklearn.preprocessing import StandardScaler, OneHotEncoder\n",
    "from sklearn.metrics import r2_score\n",
    "from lightgbm import LGBMRegressor"
   ]
  },
  {
   "cell_type": "code",
   "execution_count": 52,
   "metadata": {},
   "outputs": [],
   "source": [
    "RANDOM_STATE = 42"
   ]
  },
  {
   "cell_type": "code",
   "execution_count": 53,
   "metadata": {},
   "outputs": [],
   "source": [
    "X = df_reduced.drop('price', axis=1)\n",
    "y = df_reduced['price']\n",
    "X_train, X_valid, y_train, y_valid = train_test_split(\n",
    "    X, y, test_size=0.2, random_state=RANDOM_STATE\n",
    ")\n",
    "\n",
    "num_features = X.select_dtypes(include=['int64','float64','int8']).columns.tolist()\n",
    "cat_features = X.select_dtypes(include=['object']).columns.tolist()\n",
    "\n",
    "preprocessor = ColumnTransformer([\n",
    "    ('num', StandardScaler(), num_features),\n",
    "    ('cat', OneHotEncoder(handle_unknown='ignore', sparse_output=False), cat_features),\n",
    "])"
   ]
  },
  {
   "cell_type": "code",
   "execution_count": 54,
   "metadata": {},
   "outputs": [
    {
     "name": "stderr",
     "output_type": "stream",
     "text": [
      "/Users/ilolss/anaconda3/envs/ml-project-2-course/lib/python3.10/site-packages/sklearn/utils/validation.py:921: UserWarning: pandas.DataFrame with sparse columns found.It will be converted to a dense numpy array.\n",
      "  warnings.warn(\n",
      "/Users/ilolss/anaconda3/envs/ml-project-2-course/lib/python3.10/site-packages/sklearn/utils/validation.py:921: UserWarning: pandas.DataFrame with sparse columns found.It will be converted to a dense numpy array.\n",
      "  warnings.warn(\n",
      "/Users/ilolss/anaconda3/envs/ml-project-2-course/lib/python3.10/site-packages/sklearn/utils/validation.py:921: UserWarning: pandas.DataFrame with sparse columns found.It will be converted to a dense numpy array.\n",
      "  warnings.warn(\n"
     ]
    }
   ],
   "source": [
    "X_train_proc = preprocessor.fit_transform(X_train)\n",
    "X_valid_proc = preprocessor.transform(X_valid)"
   ]
  },
  {
   "cell_type": "code",
   "execution_count": 57,
   "metadata": {},
   "outputs": [],
   "source": [
    "import lightgbm as lgb\n",
    "\n",
    "def objective(trial):\n",
    "    params = {\n",
    "        'n_estimators':     trial.suggest_int('n_estimators', 100, 2000),\n",
    "        'learning_rate':    trial.suggest_loguniform('learning_rate', 1e-3, 1e-1),\n",
    "        'num_leaves':       trial.suggest_int('num_leaves', 31, 256),\n",
    "        'max_depth':        trial.suggest_int('max_depth', 5, 30),\n",
    "        'subsample':        trial.suggest_uniform('subsample', 0.5, 1.0),\n",
    "        'colsample_bytree': trial.suggest_uniform('colsample_bytree', 0.5, 1.0),\n",
    "        'reg_alpha':        trial.suggest_loguniform('reg_alpha', 1e-8, 10.0),\n",
    "        'reg_lambda':       trial.suggest_loguniform('reg_lambda', 1e-8, 10.0),\n",
    "        'min_child_weight': trial.suggest_int('min_child_weight', 1, 50),\n",
    "        'random_state':     RANDOM_STATE,\n",
    "        'verbose':          -1,\n",
    "    }\n",
    "    model = LGBMRegressor(**params)\n",
    "    model.fit(\n",
    "        X_train_proc, y_train,\n",
    "        eval_set=[(X_valid_proc, y_valid)],\n",
    "        callbacks=[lgb.early_stopping(stopping_rounds=50)]\n",
    "    )\n",
    "    preds = model.predict(X_valid_proc)\n",
    "    return r2_score(y_valid, preds)"
   ]
  },
  {
   "cell_type": "code",
   "execution_count": 58,
   "metadata": {},
   "outputs": [
    {
     "name": "stderr",
     "output_type": "stream",
     "text": [
      "[I 2025-06-10 09:43:13,366] A new study created in memory with name: lgbm_opt_r2\n",
      "  0%|          | 0/50 [00:00<?, ?it/s]/var/folders/g6/kn9b03jj7fb6vtdn4q7l0_cm0000gn/T/ipykernel_73459/1710893890.py:6: FutureWarning: suggest_loguniform has been deprecated in v3.0.0. This feature will be removed in v6.0.0. See https://github.com/optuna/optuna/releases/tag/v3.0.0. Use suggest_float(..., log=True) instead.\n",
      "  'learning_rate':    trial.suggest_loguniform('learning_rate', 1e-3, 1e-1),\n",
      "/var/folders/g6/kn9b03jj7fb6vtdn4q7l0_cm0000gn/T/ipykernel_73459/1710893890.py:9: FutureWarning: suggest_uniform has been deprecated in v3.0.0. This feature will be removed in v6.0.0. See https://github.com/optuna/optuna/releases/tag/v3.0.0. Use suggest_float instead.\n",
      "  'subsample':        trial.suggest_uniform('subsample', 0.5, 1.0),\n",
      "/var/folders/g6/kn9b03jj7fb6vtdn4q7l0_cm0000gn/T/ipykernel_73459/1710893890.py:10: FutureWarning: suggest_uniform has been deprecated in v3.0.0. This feature will be removed in v6.0.0. See https://github.com/optuna/optuna/releases/tag/v3.0.0. Use suggest_float instead.\n",
      "  'colsample_bytree': trial.suggest_uniform('colsample_bytree', 0.5, 1.0),\n",
      "/var/folders/g6/kn9b03jj7fb6vtdn4q7l0_cm0000gn/T/ipykernel_73459/1710893890.py:11: FutureWarning: suggest_loguniform has been deprecated in v3.0.0. This feature will be removed in v6.0.0. See https://github.com/optuna/optuna/releases/tag/v3.0.0. Use suggest_float(..., log=True) instead.\n",
      "  'reg_alpha':        trial.suggest_loguniform('reg_alpha', 1e-8, 10.0),\n",
      "/var/folders/g6/kn9b03jj7fb6vtdn4q7l0_cm0000gn/T/ipykernel_73459/1710893890.py:12: FutureWarning: suggest_loguniform has been deprecated in v3.0.0. This feature will be removed in v6.0.0. See https://github.com/optuna/optuna/releases/tag/v3.0.0. Use suggest_float(..., log=True) instead.\n",
      "  'reg_lambda':       trial.suggest_loguniform('reg_lambda', 1e-8, 10.0),\n",
      "/var/folders/g6/kn9b03jj7fb6vtdn4q7l0_cm0000gn/T/ipykernel_73459/1710893890.py:6: FutureWarning: suggest_loguniform has been deprecated in v3.0.0. This feature will be removed in v6.0.0. See https://github.com/optuna/optuna/releases/tag/v3.0.0. Use suggest_float(..., log=True) instead.\n",
      "  'learning_rate':    trial.suggest_loguniform('learning_rate', 1e-3, 1e-1),\n",
      "/var/folders/g6/kn9b03jj7fb6vtdn4q7l0_cm0000gn/T/ipykernel_73459/1710893890.py:9: FutureWarning: suggest_uniform has been deprecated in v3.0.0. This feature will be removed in v6.0.0. See https://github.com/optuna/optuna/releases/tag/v3.0.0. Use suggest_float instead.\n",
      "  'subsample':        trial.suggest_uniform('subsample', 0.5, 1.0),\n",
      "/var/folders/g6/kn9b03jj7fb6vtdn4q7l0_cm0000gn/T/ipykernel_73459/1710893890.py:10: FutureWarning: suggest_uniform has been deprecated in v3.0.0. This feature will be removed in v6.0.0. See https://github.com/optuna/optuna/releases/tag/v3.0.0. Use suggest_float instead.\n",
      "  'colsample_bytree': trial.suggest_uniform('colsample_bytree', 0.5, 1.0),\n",
      "/var/folders/g6/kn9b03jj7fb6vtdn4q7l0_cm0000gn/T/ipykernel_73459/1710893890.py:11: FutureWarning: suggest_loguniform has been deprecated in v3.0.0. This feature will be removed in v6.0.0. See https://github.com/optuna/optuna/releases/tag/v3.0.0. Use suggest_float(..., log=True) instead.\n",
      "  'reg_alpha':        trial.suggest_loguniform('reg_alpha', 1e-8, 10.0),\n",
      "/var/folders/g6/kn9b03jj7fb6vtdn4q7l0_cm0000gn/T/ipykernel_73459/1710893890.py:12: FutureWarning: suggest_loguniform has been deprecated in v3.0.0. This feature will be removed in v6.0.0. See https://github.com/optuna/optuna/releases/tag/v3.0.0. Use suggest_float(..., log=True) instead.\n",
      "  'reg_lambda':       trial.suggest_loguniform('reg_lambda', 1e-8, 10.0),\n",
      "/var/folders/g6/kn9b03jj7fb6vtdn4q7l0_cm0000gn/T/ipykernel_73459/1710893890.py:6: FutureWarning: suggest_loguniform has been deprecated in v3.0.0. This feature will be removed in v6.0.0. See https://github.com/optuna/optuna/releases/tag/v3.0.0. Use suggest_float(..., log=True) instead.\n",
      "  'learning_rate':    trial.suggest_loguniform('learning_rate', 1e-3, 1e-1),\n",
      "/var/folders/g6/kn9b03jj7fb6vtdn4q7l0_cm0000gn/T/ipykernel_73459/1710893890.py:9: FutureWarning: suggest_uniform has been deprecated in v3.0.0. This feature will be removed in v6.0.0. See https://github.com/optuna/optuna/releases/tag/v3.0.0. Use suggest_float instead.\n",
      "  'subsample':        trial.suggest_uniform('subsample', 0.5, 1.0),\n",
      "/var/folders/g6/kn9b03jj7fb6vtdn4q7l0_cm0000gn/T/ipykernel_73459/1710893890.py:10: FutureWarning: suggest_uniform has been deprecated in v3.0.0. This feature will be removed in v6.0.0. See https://github.com/optuna/optuna/releases/tag/v3.0.0. Use suggest_float instead.\n",
      "  'colsample_bytree': trial.suggest_uniform('colsample_bytree', 0.5, 1.0),\n",
      "/var/folders/g6/kn9b03jj7fb6vtdn4q7l0_cm0000gn/T/ipykernel_73459/1710893890.py:11: FutureWarning: suggest_loguniform has been deprecated in v3.0.0. This feature will be removed in v6.0.0. See https://github.com/optuna/optuna/releases/tag/v3.0.0. Use suggest_float(..., log=True) instead.\n",
      "  'reg_alpha':        trial.suggest_loguniform('reg_alpha', 1e-8, 10.0),\n",
      "/var/folders/g6/kn9b03jj7fb6vtdn4q7l0_cm0000gn/T/ipykernel_73459/1710893890.py:12: FutureWarning: suggest_loguniform has been deprecated in v3.0.0. This feature will be removed in v6.0.0. See https://github.com/optuna/optuna/releases/tag/v3.0.0. Use suggest_float(..., log=True) instead.\n",
      "  'reg_lambda':       trial.suggest_loguniform('reg_lambda', 1e-8, 10.0),\n",
      "/var/folders/g6/kn9b03jj7fb6vtdn4q7l0_cm0000gn/T/ipykernel_73459/1710893890.py:6: FutureWarning: suggest_loguniform has been deprecated in v3.0.0. This feature will be removed in v6.0.0. See https://github.com/optuna/optuna/releases/tag/v3.0.0. Use suggest_float(..., log=True) instead.\n",
      "  'learning_rate':    trial.suggest_loguniform('learning_rate', 1e-3, 1e-1),\n",
      "/var/folders/g6/kn9b03jj7fb6vtdn4q7l0_cm0000gn/T/ipykernel_73459/1710893890.py:9: FutureWarning: suggest_uniform has been deprecated in v3.0.0. This feature will be removed in v6.0.0. See https://github.com/optuna/optuna/releases/tag/v3.0.0. Use suggest_float instead.\n",
      "  'subsample':        trial.suggest_uniform('subsample', 0.5, 1.0),\n",
      "/var/folders/g6/kn9b03jj7fb6vtdn4q7l0_cm0000gn/T/ipykernel_73459/1710893890.py:10: FutureWarning: suggest_uniform has been deprecated in v3.0.0. This feature will be removed in v6.0.0. See https://github.com/optuna/optuna/releases/tag/v3.0.0. Use suggest_float instead.\n",
      "  'colsample_bytree': trial.suggest_uniform('colsample_bytree', 0.5, 1.0),\n",
      "/var/folders/g6/kn9b03jj7fb6vtdn4q7l0_cm0000gn/T/ipykernel_73459/1710893890.py:11: FutureWarning: suggest_loguniform has been deprecated in v3.0.0. This feature will be removed in v6.0.0. See https://github.com/optuna/optuna/releases/tag/v3.0.0. Use suggest_float(..., log=True) instead.\n",
      "  'reg_alpha':        trial.suggest_loguniform('reg_alpha', 1e-8, 10.0),\n",
      "/var/folders/g6/kn9b03jj7fb6vtdn4q7l0_cm0000gn/T/ipykernel_73459/1710893890.py:12: FutureWarning: suggest_loguniform has been deprecated in v3.0.0. This feature will be removed in v6.0.0. See https://github.com/optuna/optuna/releases/tag/v3.0.0. Use suggest_float(..., log=True) instead.\n",
      "  'reg_lambda':       trial.suggest_loguniform('reg_lambda', 1e-8, 10.0),\n",
      "/var/folders/g6/kn9b03jj7fb6vtdn4q7l0_cm0000gn/T/ipykernel_73459/1710893890.py:12: FutureWarning: suggest_loguniform has been deprecated in v3.0.0. This feature will be removed in v6.0.0. See https://github.com/optuna/optuna/releases/tag/v3.0.0. Use suggest_float(..., log=True) instead.\n",
      "  'reg_lambda':       trial.suggest_loguniform('reg_lambda', 1e-8, 10.0),\n"
     ]
    },
    {
     "name": "stdout",
     "output_type": "stream",
     "text": [
      "Training until validation scores don't improve for 50 rounds\n",
      "Training until validation scores don't improve for 50 rounds\n",
      "Training until validation scores don't improve for 50 rounds\n",
      "Training until validation scores don't improve for 50 rounds\n",
      "Training until validation scores don't improve for 50 rounds\n",
      "Training until validation scores don't improve for 50 rounds\n",
      "Training until validation scores don't improve for 50 rounds\n",
      "Training until validation scores don't improve for 50 rounds\n",
      "Training until validation scores don't improve for 50 rounds\n",
      "Training until validation scores don't improve for 50 rounds\n",
      "Training until validation scores don't improve for 50 rounds\n",
      "Training until validation scores don't improve for 50 rounds\n",
      "Early stopping, best iteration is:\n",
      "[564]\tvalid_0's l2: 7.0614e+12\n"
     ]
    },
    {
     "name": "stderr",
     "output_type": "stream",
     "text": [
      "/Users/ilolss/anaconda3/envs/ml-project-2-course/lib/python3.10/site-packages/sklearn/utils/validation.py:2739: UserWarning: X does not have valid feature names, but LGBMRegressor was fitted with feature names\n",
      "  warnings.warn(\n",
      "Best trial: 2. Best value: 0.747859:   2%|▏         | 1/50 [22:04<18:01:55, 1324.81s/it]/var/folders/g6/kn9b03jj7fb6vtdn4q7l0_cm0000gn/T/ipykernel_73459/1710893890.py:6: FutureWarning: suggest_loguniform has been deprecated in v3.0.0. This feature will be removed in v6.0.0. See https://github.com/optuna/optuna/releases/tag/v3.0.0. Use suggest_float(..., log=True) instead.\n",
      "  'learning_rate':    trial.suggest_loguniform('learning_rate', 1e-3, 1e-1),\n",
      "/var/folders/g6/kn9b03jj7fb6vtdn4q7l0_cm0000gn/T/ipykernel_73459/1710893890.py:9: FutureWarning: suggest_uniform has been deprecated in v3.0.0. This feature will be removed in v6.0.0. See https://github.com/optuna/optuna/releases/tag/v3.0.0. Use suggest_float instead.\n",
      "  'subsample':        trial.suggest_uniform('subsample', 0.5, 1.0),\n",
      "/var/folders/g6/kn9b03jj7fb6vtdn4q7l0_cm0000gn/T/ipykernel_73459/1710893890.py:10: FutureWarning: suggest_uniform has been deprecated in v3.0.0. This feature will be removed in v6.0.0. See https://github.com/optuna/optuna/releases/tag/v3.0.0. Use suggest_float instead.\n",
      "  'colsample_bytree': trial.suggest_uniform('colsample_bytree', 0.5, 1.0),\n",
      "/var/folders/g6/kn9b03jj7fb6vtdn4q7l0_cm0000gn/T/ipykernel_73459/1710893890.py:11: FutureWarning: suggest_loguniform has been deprecated in v3.0.0. This feature will be removed in v6.0.0. See https://github.com/optuna/optuna/releases/tag/v3.0.0. Use suggest_float(..., log=True) instead.\n",
      "  'reg_alpha':        trial.suggest_loguniform('reg_alpha', 1e-8, 10.0),\n",
      "/var/folders/g6/kn9b03jj7fb6vtdn4q7l0_cm0000gn/T/ipykernel_73459/1710893890.py:12: FutureWarning: suggest_loguniform has been deprecated in v3.0.0. This feature will be removed in v6.0.0. See https://github.com/optuna/optuna/releases/tag/v3.0.0. Use suggest_float(..., log=True) instead.\n",
      "  'reg_lambda':       trial.suggest_loguniform('reg_lambda', 1e-8, 10.0),\n"
     ]
    },
    {
     "name": "stdout",
     "output_type": "stream",
     "text": [
      "[I 2025-06-10 10:05:18,118] Trial 2 finished with value: 0.7478592528022807 and parameters: {'n_estimators': 912, 'learning_rate': 0.06844899583344552, 'num_leaves': 181, 'max_depth': 5, 'subsample': 0.8942898882484294, 'colsample_bytree': 0.6031165535850378, 'reg_alpha': 0.2520936777453948, 'reg_lambda': 3.51357760339482e-06, 'min_child_weight': 31}. Best is trial 2 with value: 0.7478592528022807.\n",
      "Did not meet early stopping. Best iteration is:\n",
      "[481]\tvalid_0's l2: 8.56527e+12\n"
     ]
    },
    {
     "name": "stderr",
     "output_type": "stream",
     "text": [
      "/Users/ilolss/anaconda3/envs/ml-project-2-course/lib/python3.10/site-packages/sklearn/utils/validation.py:2739: UserWarning: X does not have valid feature names, but LGBMRegressor was fitted with feature names\n",
      "  warnings.warn(\n",
      "Best trial: 2. Best value: 0.747859:   4%|▍         | 2/50 [22:38<7:32:19, 565.41s/it]  /var/folders/g6/kn9b03jj7fb6vtdn4q7l0_cm0000gn/T/ipykernel_73459/1710893890.py:6: FutureWarning: suggest_loguniform has been deprecated in v3.0.0. This feature will be removed in v6.0.0. See https://github.com/optuna/optuna/releases/tag/v3.0.0. Use suggest_float(..., log=True) instead.\n",
      "  'learning_rate':    trial.suggest_loguniform('learning_rate', 1e-3, 1e-1),\n",
      "/var/folders/g6/kn9b03jj7fb6vtdn4q7l0_cm0000gn/T/ipykernel_73459/1710893890.py:9: FutureWarning: suggest_uniform has been deprecated in v3.0.0. This feature will be removed in v6.0.0. See https://github.com/optuna/optuna/releases/tag/v3.0.0. Use suggest_float instead.\n",
      "  'subsample':        trial.suggest_uniform('subsample', 0.5, 1.0),\n",
      "/var/folders/g6/kn9b03jj7fb6vtdn4q7l0_cm0000gn/T/ipykernel_73459/1710893890.py:10: FutureWarning: suggest_uniform has been deprecated in v3.0.0. This feature will be removed in v6.0.0. See https://github.com/optuna/optuna/releases/tag/v3.0.0. Use suggest_float instead.\n",
      "  'colsample_bytree': trial.suggest_uniform('colsample_bytree', 0.5, 1.0),\n",
      "/var/folders/g6/kn9b03jj7fb6vtdn4q7l0_cm0000gn/T/ipykernel_73459/1710893890.py:11: FutureWarning: suggest_loguniform has been deprecated in v3.0.0. This feature will be removed in v6.0.0. See https://github.com/optuna/optuna/releases/tag/v3.0.0. Use suggest_float(..., log=True) instead.\n",
      "  'reg_alpha':        trial.suggest_loguniform('reg_alpha', 1e-8, 10.0),\n",
      "/var/folders/g6/kn9b03jj7fb6vtdn4q7l0_cm0000gn/T/ipykernel_73459/1710893890.py:12: FutureWarning: suggest_loguniform has been deprecated in v3.0.0. This feature will be removed in v6.0.0. See https://github.com/optuna/optuna/releases/tag/v3.0.0. Use suggest_float(..., log=True) instead.\n",
      "  'reg_lambda':       trial.suggest_loguniform('reg_lambda', 1e-8, 10.0),\n"
     ]
    },
    {
     "name": "stdout",
     "output_type": "stream",
     "text": [
      "[I 2025-06-10 10:05:51,968] Trial 11 finished with value: 0.694160646548931 and parameters: {'n_estimators': 481, 'learning_rate': 0.007153171829912592, 'num_leaves': 109, 'max_depth': 6, 'subsample': 0.6552567454545344, 'colsample_bytree': 0.9854532651623256, 'reg_alpha': 0.010040831856806496, 'reg_lambda': 4.658574306014227e-07, 'min_child_weight': 24}. Best is trial 2 with value: 0.7478592528022807.\n",
      "Did not meet early stopping. Best iteration is:\n",
      "[298]\tvalid_0's l2: 8.91161e+12\n"
     ]
    },
    {
     "name": "stderr",
     "output_type": "stream",
     "text": [
      "/Users/ilolss/anaconda3/envs/ml-project-2-course/lib/python3.10/site-packages/sklearn/utils/validation.py:2739: UserWarning: X does not have valid feature names, but LGBMRegressor was fitted with feature names\n",
      "  warnings.warn(\n",
      "Best trial: 2. Best value: 0.747859:   6%|▌         | 3/50 [23:29<4:18:56, 330.57s/it]/var/folders/g6/kn9b03jj7fb6vtdn4q7l0_cm0000gn/T/ipykernel_73459/1710893890.py:6: FutureWarning: suggest_loguniform has been deprecated in v3.0.0. This feature will be removed in v6.0.0. See https://github.com/optuna/optuna/releases/tag/v3.0.0. Use suggest_float(..., log=True) instead.\n",
      "  'learning_rate':    trial.suggest_loguniform('learning_rate', 1e-3, 1e-1),\n",
      "/var/folders/g6/kn9b03jj7fb6vtdn4q7l0_cm0000gn/T/ipykernel_73459/1710893890.py:9: FutureWarning: suggest_uniform has been deprecated in v3.0.0. This feature will be removed in v6.0.0. See https://github.com/optuna/optuna/releases/tag/v3.0.0. Use suggest_float instead.\n",
      "  'subsample':        trial.suggest_uniform('subsample', 0.5, 1.0),\n",
      "/var/folders/g6/kn9b03jj7fb6vtdn4q7l0_cm0000gn/T/ipykernel_73459/1710893890.py:10: FutureWarning: suggest_uniform has been deprecated in v3.0.0. This feature will be removed in v6.0.0. See https://github.com/optuna/optuna/releases/tag/v3.0.0. Use suggest_float instead.\n",
      "  'colsample_bytree': trial.suggest_uniform('colsample_bytree', 0.5, 1.0),\n",
      "/var/folders/g6/kn9b03jj7fb6vtdn4q7l0_cm0000gn/T/ipykernel_73459/1710893890.py:11: FutureWarning: suggest_loguniform has been deprecated in v3.0.0. This feature will be removed in v6.0.0. See https://github.com/optuna/optuna/releases/tag/v3.0.0. Use suggest_float(..., log=True) instead.\n",
      "  'reg_alpha':        trial.suggest_loguniform('reg_alpha', 1e-8, 10.0),\n",
      "/var/folders/g6/kn9b03jj7fb6vtdn4q7l0_cm0000gn/T/ipykernel_73459/1710893890.py:12: FutureWarning: suggest_loguniform has been deprecated in v3.0.0. This feature will be removed in v6.0.0. See https://github.com/optuna/optuna/releases/tag/v3.0.0. Use suggest_float(..., log=True) instead.\n",
      "  'reg_lambda':       trial.suggest_loguniform('reg_lambda', 1e-8, 10.0),\n"
     ]
    },
    {
     "name": "stdout",
     "output_type": "stream",
     "text": [
      "[I 2025-06-10 10:06:43,080] Trial 5 finished with value: 0.6817940732858276 and parameters: {'n_estimators': 298, 'learning_rate': 0.008731674127486976, 'num_leaves': 73, 'max_depth': 17, 'subsample': 0.5962895051195349, 'colsample_bytree': 0.9138980464849036, 'reg_alpha': 0.006594515762454404, 'reg_lambda': 0.010361284469065608, 'min_child_weight': 29}. Best is trial 2 with value: 0.7478592528022807.\n",
      "Did not meet early stopping. Best iteration is:\n",
      "[199]\tvalid_0's l2: 1.85987e+13\n"
     ]
    },
    {
     "name": "stderr",
     "output_type": "stream",
     "text": [
      "/Users/ilolss/anaconda3/envs/ml-project-2-course/lib/python3.10/site-packages/sklearn/utils/validation.py:2739: UserWarning: X does not have valid feature names, but LGBMRegressor was fitted with feature names\n",
      "  warnings.warn(\n",
      "Best trial: 2. Best value: 0.747859:   8%|▊         | 4/50 [24:13<2:46:32, 217.23s/it]/var/folders/g6/kn9b03jj7fb6vtdn4q7l0_cm0000gn/T/ipykernel_73459/1710893890.py:6: FutureWarning: suggest_loguniform has been deprecated in v3.0.0. This feature will be removed in v6.0.0. See https://github.com/optuna/optuna/releases/tag/v3.0.0. Use suggest_float(..., log=True) instead.\n",
      "  'learning_rate':    trial.suggest_loguniform('learning_rate', 1e-3, 1e-1),\n",
      "/var/folders/g6/kn9b03jj7fb6vtdn4q7l0_cm0000gn/T/ipykernel_73459/1710893890.py:9: FutureWarning: suggest_uniform has been deprecated in v3.0.0. This feature will be removed in v6.0.0. See https://github.com/optuna/optuna/releases/tag/v3.0.0. Use suggest_float instead.\n",
      "  'subsample':        trial.suggest_uniform('subsample', 0.5, 1.0),\n",
      "/var/folders/g6/kn9b03jj7fb6vtdn4q7l0_cm0000gn/T/ipykernel_73459/1710893890.py:10: FutureWarning: suggest_uniform has been deprecated in v3.0.0. This feature will be removed in v6.0.0. See https://github.com/optuna/optuna/releases/tag/v3.0.0. Use suggest_float instead.\n",
      "  'colsample_bytree': trial.suggest_uniform('colsample_bytree', 0.5, 1.0),\n",
      "/var/folders/g6/kn9b03jj7fb6vtdn4q7l0_cm0000gn/T/ipykernel_73459/1710893890.py:11: FutureWarning: suggest_loguniform has been deprecated in v3.0.0. This feature will be removed in v6.0.0. See https://github.com/optuna/optuna/releases/tag/v3.0.0. Use suggest_float(..., log=True) instead.\n",
      "  'reg_alpha':        trial.suggest_loguniform('reg_alpha', 1e-8, 10.0),\n",
      "/var/folders/g6/kn9b03jj7fb6vtdn4q7l0_cm0000gn/T/ipykernel_73459/1710893890.py:12: FutureWarning: suggest_loguniform has been deprecated in v3.0.0. This feature will be removed in v6.0.0. See https://github.com/optuna/optuna/releases/tag/v3.0.0. Use suggest_float(..., log=True) instead.\n",
      "  'reg_lambda':       trial.suggest_loguniform('reg_lambda', 1e-8, 10.0),\n"
     ]
    },
    {
     "name": "stdout",
     "output_type": "stream",
     "text": [
      "[I 2025-06-10 10:07:26,539] Trial 4 finished with value: 0.33589968129758785 and parameters: {'n_estimators': 199, 'learning_rate': 0.0020443842698193997, 'num_leaves': 172, 'max_depth': 9, 'subsample': 0.6748807836393333, 'colsample_bytree': 0.7260009937856174, 'reg_alpha': 5.952550789519932e-07, 'reg_lambda': 0.004459797819419052, 'min_child_weight': 35}. Best is trial 2 with value: 0.7478592528022807.\n",
      "Training until validation scores don't improve for 50 rounds\n",
      "Training until validation scores don't improve for 50 rounds\n",
      "Did not meet early stopping. Best iteration is:\n",
      "[322]\tvalid_0's l2: 8.42572e+12\n"
     ]
    },
    {
     "name": "stderr",
     "output_type": "stream",
     "text": [
      "/Users/ilolss/anaconda3/envs/ml-project-2-course/lib/python3.10/site-packages/sklearn/utils/validation.py:2739: UserWarning: X does not have valid feature names, but LGBMRegressor was fitted with feature names\n",
      "  warnings.warn(\n"
     ]
    },
    {
     "name": "stdout",
     "output_type": "stream",
     "text": [
      "Early stopping, best iteration is:\n",
      "[352]\tvalid_0's l2: 6.62691e+12\n"
     ]
    },
    {
     "name": "stderr",
     "output_type": "stream",
     "text": [
      "/Users/ilolss/anaconda3/envs/ml-project-2-course/lib/python3.10/site-packages/sklearn/utils/validation.py:2739: UserWarning: X does not have valid feature names, but LGBMRegressor was fitted with feature names\n",
      "  warnings.warn(\n",
      "Best trial: 1. Best value: 0.763374:  10%|█         | 5/50 [27:43<2:41:03, 214.73s/it]/var/folders/g6/kn9b03jj7fb6vtdn4q7l0_cm0000gn/T/ipykernel_73459/1710893890.py:6: FutureWarning: suggest_loguniform has been deprecated in v3.0.0. This feature will be removed in v6.0.0. See https://github.com/optuna/optuna/releases/tag/v3.0.0. Use suggest_float(..., log=True) instead.\n",
      "  'learning_rate':    trial.suggest_loguniform('learning_rate', 1e-3, 1e-1),\n",
      "/var/folders/g6/kn9b03jj7fb6vtdn4q7l0_cm0000gn/T/ipykernel_73459/1710893890.py:9: FutureWarning: suggest_uniform has been deprecated in v3.0.0. This feature will be removed in v6.0.0. See https://github.com/optuna/optuna/releases/tag/v3.0.0. Use suggest_float instead.\n",
      "  'subsample':        trial.suggest_uniform('subsample', 0.5, 1.0),\n",
      "/var/folders/g6/kn9b03jj7fb6vtdn4q7l0_cm0000gn/T/ipykernel_73459/1710893890.py:10: FutureWarning: suggest_uniform has been deprecated in v3.0.0. This feature will be removed in v6.0.0. See https://github.com/optuna/optuna/releases/tag/v3.0.0. Use suggest_float instead.\n",
      "  'colsample_bytree': trial.suggest_uniform('colsample_bytree', 0.5, 1.0),\n",
      "/var/folders/g6/kn9b03jj7fb6vtdn4q7l0_cm0000gn/T/ipykernel_73459/1710893890.py:11: FutureWarning: suggest_loguniform has been deprecated in v3.0.0. This feature will be removed in v6.0.0. See https://github.com/optuna/optuna/releases/tag/v3.0.0. Use suggest_float(..., log=True) instead.\n",
      "  'reg_alpha':        trial.suggest_loguniform('reg_alpha', 1e-8, 10.0),\n",
      "/var/folders/g6/kn9b03jj7fb6vtdn4q7l0_cm0000gn/T/ipykernel_73459/1710893890.py:12: FutureWarning: suggest_loguniform has been deprecated in v3.0.0. This feature will be removed in v6.0.0. See https://github.com/optuna/optuna/releases/tag/v3.0.0. Use suggest_float(..., log=True) instead.\n",
      "  'reg_lambda':       trial.suggest_loguniform('reg_lambda', 1e-8, 10.0),\n"
     ]
    },
    {
     "name": "stdout",
     "output_type": "stream",
     "text": [
      "[I 2025-06-10 10:10:56,836] Trial 10 finished with value: 0.699143706821973 and parameters: {'n_estimators': 322, 'learning_rate': 0.008607769459454405, 'num_leaves': 152, 'max_depth': 23, 'subsample': 0.9644560496247303, 'colsample_bytree': 0.9293829220478151, 'reg_alpha': 2.619306495867171e-07, 'reg_lambda': 5.643587330603666e-08, 'min_child_weight': 22}. Best is trial 1 with value: 0.7633735937431443.\n",
      "[I 2025-06-10 10:10:56,839] Trial 1 finished with value: 0.7633735937431443 and parameters: {'n_estimators': 750, 'learning_rate': 0.06282204949878002, 'num_leaves': 255, 'max_depth': 17, 'subsample': 0.5545130740972319, 'colsample_bytree': 0.9990589471851096, 'reg_alpha': 5.036986190760829e-06, 'reg_lambda': 0.00029356916342483614, 'min_child_weight': 7}. Best is trial 1 with value: 0.7633735937431443.\n",
      "Did not meet early stopping. Best iteration is:\n",
      "[175]\tvalid_0's l2: 2.24716e+13\n",
      "Training until validation scores don't improve for 50 rounds\n"
     ]
    },
    {
     "name": "stderr",
     "output_type": "stream",
     "text": [
      "/Users/ilolss/anaconda3/envs/ml-project-2-course/lib/python3.10/site-packages/sklearn/utils/validation.py:2739: UserWarning: X does not have valid feature names, but LGBMRegressor was fitted with feature names\n",
      "  warnings.warn(\n",
      "Best trial: 1. Best value: 0.763374:  14%|█▍        | 7/50 [29:31<1:35:20, 133.04s/it]/var/folders/g6/kn9b03jj7fb6vtdn4q7l0_cm0000gn/T/ipykernel_73459/1710893890.py:6: FutureWarning: suggest_loguniform has been deprecated in v3.0.0. This feature will be removed in v6.0.0. See https://github.com/optuna/optuna/releases/tag/v3.0.0. Use suggest_float(..., log=True) instead.\n",
      "  'learning_rate':    trial.suggest_loguniform('learning_rate', 1e-3, 1e-1),\n",
      "/var/folders/g6/kn9b03jj7fb6vtdn4q7l0_cm0000gn/T/ipykernel_73459/1710893890.py:9: FutureWarning: suggest_uniform has been deprecated in v3.0.0. This feature will be removed in v6.0.0. See https://github.com/optuna/optuna/releases/tag/v3.0.0. Use suggest_float instead.\n",
      "  'subsample':        trial.suggest_uniform('subsample', 0.5, 1.0),\n",
      "/var/folders/g6/kn9b03jj7fb6vtdn4q7l0_cm0000gn/T/ipykernel_73459/1710893890.py:10: FutureWarning: suggest_uniform has been deprecated in v3.0.0. This feature will be removed in v6.0.0. See https://github.com/optuna/optuna/releases/tag/v3.0.0. Use suggest_float instead.\n",
      "  'colsample_bytree': trial.suggest_uniform('colsample_bytree', 0.5, 1.0),\n",
      "/var/folders/g6/kn9b03jj7fb6vtdn4q7l0_cm0000gn/T/ipykernel_73459/1710893890.py:11: FutureWarning: suggest_loguniform has been deprecated in v3.0.0. This feature will be removed in v6.0.0. See https://github.com/optuna/optuna/releases/tag/v3.0.0. Use suggest_float(..., log=True) instead.\n",
      "  'reg_alpha':        trial.suggest_loguniform('reg_alpha', 1e-8, 10.0),\n",
      "/var/folders/g6/kn9b03jj7fb6vtdn4q7l0_cm0000gn/T/ipykernel_73459/1710893890.py:12: FutureWarning: suggest_loguniform has been deprecated in v3.0.0. This feature will be removed in v6.0.0. See https://github.com/optuna/optuna/releases/tag/v3.0.0. Use suggest_float(..., log=True) instead.\n",
      "  'reg_lambda':       trial.suggest_loguniform('reg_lambda', 1e-8, 10.0),\n"
     ]
    },
    {
     "name": "stdout",
     "output_type": "stream",
     "text": [
      "[I 2025-06-10 10:12:44,363] Trial 12 finished with value: 0.19760742199840375 and parameters: {'n_estimators': 175, 'learning_rate': 0.0012719897608666276, 'num_leaves': 229, 'max_depth': 7, 'subsample': 0.9949293042479022, 'colsample_bytree': 0.6350039045882901, 'reg_alpha': 0.01828763754988252, 'reg_lambda': 0.0002791904756001193, 'min_child_weight': 50}. Best is trial 1 with value: 0.7633735937431443.\n",
      "Did not meet early stopping. Best iteration is:\n",
      "[1253]\tvalid_0's l2: 1.16026e+13\n"
     ]
    },
    {
     "name": "stderr",
     "output_type": "stream",
     "text": [
      "/Users/ilolss/anaconda3/envs/ml-project-2-course/lib/python3.10/site-packages/sklearn/utils/validation.py:2739: UserWarning: X does not have valid feature names, but LGBMRegressor was fitted with feature names\n",
      "  warnings.warn(\n"
     ]
    },
    {
     "name": "stdout",
     "output_type": "stream",
     "text": [
      "Training until validation scores don't improve for 50 rounds\n",
      "Did not meet early stopping. Best iteration is:\n",
      "[532]\tvalid_0's l2: 8.59615e+12\n"
     ]
    },
    {
     "name": "stderr",
     "output_type": "stream",
     "text": [
      "/Users/ilolss/anaconda3/envs/ml-project-2-course/lib/python3.10/site-packages/sklearn/utils/validation.py:2739: UserWarning: X does not have valid feature names, but LGBMRegressor was fitted with feature names\n",
      "  warnings.warn(\n",
      "Best trial: 1. Best value: 0.763374:  16%|█▌        | 8/50 [30:40<1:21:21, 116.23s/it]/var/folders/g6/kn9b03jj7fb6vtdn4q7l0_cm0000gn/T/ipykernel_73459/1710893890.py:6: FutureWarning: suggest_loguniform has been deprecated in v3.0.0. This feature will be removed in v6.0.0. See https://github.com/optuna/optuna/releases/tag/v3.0.0. Use suggest_float(..., log=True) instead.\n",
      "  'learning_rate':    trial.suggest_loguniform('learning_rate', 1e-3, 1e-1),\n",
      "/var/folders/g6/kn9b03jj7fb6vtdn4q7l0_cm0000gn/T/ipykernel_73459/1710893890.py:9: FutureWarning: suggest_uniform has been deprecated in v3.0.0. This feature will be removed in v6.0.0. See https://github.com/optuna/optuna/releases/tag/v3.0.0. Use suggest_float instead.\n",
      "  'subsample':        trial.suggest_uniform('subsample', 0.5, 1.0),\n",
      "/var/folders/g6/kn9b03jj7fb6vtdn4q7l0_cm0000gn/T/ipykernel_73459/1710893890.py:10: FutureWarning: suggest_uniform has been deprecated in v3.0.0. This feature will be removed in v6.0.0. See https://github.com/optuna/optuna/releases/tag/v3.0.0. Use suggest_float instead.\n",
      "  'colsample_bytree': trial.suggest_uniform('colsample_bytree', 0.5, 1.0),\n",
      "/var/folders/g6/kn9b03jj7fb6vtdn4q7l0_cm0000gn/T/ipykernel_73459/1710893890.py:11: FutureWarning: suggest_loguniform has been deprecated in v3.0.0. This feature will be removed in v6.0.0. See https://github.com/optuna/optuna/releases/tag/v3.0.0. Use suggest_float(..., log=True) instead.\n",
      "  'reg_alpha':        trial.suggest_loguniform('reg_alpha', 1e-8, 10.0),\n",
      "/var/folders/g6/kn9b03jj7fb6vtdn4q7l0_cm0000gn/T/ipykernel_73459/1710893890.py:12: FutureWarning: suggest_loguniform has been deprecated in v3.0.0. This feature will be removed in v6.0.0. See https://github.com/optuna/optuna/releases/tag/v3.0.0. Use suggest_float(..., log=True) instead.\n",
      "  'reg_lambda':       trial.suggest_loguniform('reg_lambda', 1e-8, 10.0),\n"
     ]
    },
    {
     "name": "stdout",
     "output_type": "stream",
     "text": [
      "[I 2025-06-10 10:13:54,192] Trial 8 finished with value: 0.6930579694701897 and parameters: {'n_estimators': 532, 'learning_rate': 0.007191916965314556, 'num_leaves': 125, 'max_depth': 15, 'subsample': 0.5173601299920085, 'colsample_bytree': 0.6293305735108923, 'reg_alpha': 2.2828835733305324e-06, 'reg_lambda': 0.0003371021221051116, 'min_child_weight': 49}. Best is trial 1 with value: 0.7633735937431443.\n",
      "[I 2025-06-10 10:13:54,204] Trial 3 finished with value: 0.5857087483195459 and parameters: {'n_estimators': 1253, 'learning_rate': 0.0011567790305289818, 'num_leaves': 38, 'max_depth': 21, 'subsample': 0.7676071348093482, 'colsample_bytree': 0.5618921653827519, 'reg_alpha': 0.004201043994919595, 'reg_lambda': 0.0003098209036801655, 'min_child_weight': 42}. Best is trial 1 with value: 0.7633735937431443.\n",
      "Did not meet early stopping. Best iteration is:\n",
      "[160]\tvalid_0's l2: 7.53395e+12\n"
     ]
    },
    {
     "name": "stderr",
     "output_type": "stream",
     "text": [
      "/Users/ilolss/anaconda3/envs/ml-project-2-course/lib/python3.10/site-packages/sklearn/utils/validation.py:2739: UserWarning: X does not have valid feature names, but LGBMRegressor was fitted with feature names\n",
      "  warnings.warn(\n",
      "Best trial: 1. Best value: 0.763374:  20%|██        | 10/50 [32:29<59:41, 89.53s/it]  "
     ]
    },
    {
     "name": "stdout",
     "output_type": "stream",
     "text": [
      "[I 2025-06-10 10:15:42,956] Trial 13 finished with value: 0.7309859582459326 and parameters: {'n_estimators': 160, 'learning_rate': 0.02508072135975103, 'num_leaves': 220, 'max_depth': 24, 'subsample': 0.7178804220744573, 'colsample_bytree': 0.8490830053850906, 'reg_alpha': 8.377271317448566e-08, 'reg_lambda': 2.2285103629510546e-06, 'min_child_weight': 3}. Best is trial 1 with value: 0.7633735937431443.\n"
     ]
    },
    {
     "name": "stderr",
     "output_type": "stream",
     "text": [
      "/var/folders/g6/kn9b03jj7fb6vtdn4q7l0_cm0000gn/T/ipykernel_73459/1710893890.py:6: FutureWarning: suggest_loguniform has been deprecated in v3.0.0. This feature will be removed in v6.0.0. See https://github.com/optuna/optuna/releases/tag/v3.0.0. Use suggest_float(..., log=True) instead.\n",
      "  'learning_rate':    trial.suggest_loguniform('learning_rate', 1e-3, 1e-1),\n",
      "/var/folders/g6/kn9b03jj7fb6vtdn4q7l0_cm0000gn/T/ipykernel_73459/1710893890.py:9: FutureWarning: suggest_uniform has been deprecated in v3.0.0. This feature will be removed in v6.0.0. See https://github.com/optuna/optuna/releases/tag/v3.0.0. Use suggest_float instead.\n",
      "  'subsample':        trial.suggest_uniform('subsample', 0.5, 1.0),\n",
      "/var/folders/g6/kn9b03jj7fb6vtdn4q7l0_cm0000gn/T/ipykernel_73459/1710893890.py:10: FutureWarning: suggest_uniform has been deprecated in v3.0.0. This feature will be removed in v6.0.0. See https://github.com/optuna/optuna/releases/tag/v3.0.0. Use suggest_float instead.\n",
      "  'colsample_bytree': trial.suggest_uniform('colsample_bytree', 0.5, 1.0),\n",
      "/var/folders/g6/kn9b03jj7fb6vtdn4q7l0_cm0000gn/T/ipykernel_73459/1710893890.py:11: FutureWarning: suggest_loguniform has been deprecated in v3.0.0. This feature will be removed in v6.0.0. See https://github.com/optuna/optuna/releases/tag/v3.0.0. Use suggest_float(..., log=True) instead.\n",
      "  'reg_alpha':        trial.suggest_loguniform('reg_alpha', 1e-8, 10.0),\n",
      "/var/folders/g6/kn9b03jj7fb6vtdn4q7l0_cm0000gn/T/ipykernel_73459/1710893890.py:12: FutureWarning: suggest_loguniform has been deprecated in v3.0.0. This feature will be removed in v6.0.0. See https://github.com/optuna/optuna/releases/tag/v3.0.0. Use suggest_float(..., log=True) instead.\n",
      "  'reg_lambda':       trial.suggest_loguniform('reg_lambda', 1e-8, 10.0),\n"
     ]
    },
    {
     "name": "stdout",
     "output_type": "stream",
     "text": [
      "Training until validation scores don't improve for 50 rounds\n",
      "Training until validation scores don't improve for 50 rounds\n",
      "Did not meet early stopping. Best iteration is:\n",
      "[1153]\tvalid_0's l2: 6.48367e+12\n"
     ]
    },
    {
     "name": "stderr",
     "output_type": "stream",
     "text": [
      "/Users/ilolss/anaconda3/envs/ml-project-2-course/lib/python3.10/site-packages/sklearn/utils/validation.py:2739: UserWarning: X does not have valid feature names, but LGBMRegressor was fitted with feature names\n",
      "  warnings.warn(\n",
      "Best trial: 9. Best value: 0.768488:  22%|██▏       | 11/50 [1:27:41<9:12:00, 849.24s/it]"
     ]
    },
    {
     "name": "stdout",
     "output_type": "stream",
     "text": [
      "[I 2025-06-10 11:10:54,938] Trial 9 finished with value: 0.7684880904375512 and parameters: {'n_estimators': 1165, 'learning_rate': 0.019125201080463873, 'num_leaves': 86, 'max_depth': 30, 'subsample': 0.7350943258461548, 'colsample_bytree': 0.7715755654612473, 'reg_alpha': 2.412594714489861e-06, 'reg_lambda': 5.97518398232865e-07, 'min_child_weight': 7}. Best is trial 9 with value: 0.7684880904375512.\n"
     ]
    },
    {
     "name": "stderr",
     "output_type": "stream",
     "text": [
      "/var/folders/g6/kn9b03jj7fb6vtdn4q7l0_cm0000gn/T/ipykernel_73459/1710893890.py:6: FutureWarning: suggest_loguniform has been deprecated in v3.0.0. This feature will be removed in v6.0.0. See https://github.com/optuna/optuna/releases/tag/v3.0.0. Use suggest_float(..., log=True) instead.\n",
      "  'learning_rate':    trial.suggest_loguniform('learning_rate', 1e-3, 1e-1),\n",
      "/var/folders/g6/kn9b03jj7fb6vtdn4q7l0_cm0000gn/T/ipykernel_73459/1710893890.py:9: FutureWarning: suggest_uniform has been deprecated in v3.0.0. This feature will be removed in v6.0.0. See https://github.com/optuna/optuna/releases/tag/v3.0.0. Use suggest_float instead.\n",
      "  'subsample':        trial.suggest_uniform('subsample', 0.5, 1.0),\n",
      "/var/folders/g6/kn9b03jj7fb6vtdn4q7l0_cm0000gn/T/ipykernel_73459/1710893890.py:10: FutureWarning: suggest_uniform has been deprecated in v3.0.0. This feature will be removed in v6.0.0. See https://github.com/optuna/optuna/releases/tag/v3.0.0. Use suggest_float instead.\n",
      "  'colsample_bytree': trial.suggest_uniform('colsample_bytree', 0.5, 1.0),\n",
      "/var/folders/g6/kn9b03jj7fb6vtdn4q7l0_cm0000gn/T/ipykernel_73459/1710893890.py:11: FutureWarning: suggest_loguniform has been deprecated in v3.0.0. This feature will be removed in v6.0.0. See https://github.com/optuna/optuna/releases/tag/v3.0.0. Use suggest_float(..., log=True) instead.\n",
      "  'reg_alpha':        trial.suggest_loguniform('reg_alpha', 1e-8, 10.0),\n",
      "/var/folders/g6/kn9b03jj7fb6vtdn4q7l0_cm0000gn/T/ipykernel_73459/1710893890.py:12: FutureWarning: suggest_loguniform has been deprecated in v3.0.0. This feature will be removed in v6.0.0. See https://github.com/optuna/optuna/releases/tag/v3.0.0. Use suggest_float(..., log=True) instead.\n",
      "  'reg_lambda':       trial.suggest_loguniform('reg_lambda', 1e-8, 10.0),\n"
     ]
    },
    {
     "name": "stdout",
     "output_type": "stream",
     "text": [
      "Training until validation scores don't improve for 50 rounds\n",
      "Training until validation scores don't improve for 50 rounds\n",
      "Training until validation scores don't improve for 50 rounds\n",
      "Did not meet early stopping. Best iteration is:\n",
      "[414]\tvalid_0's l2: 1.89079e+13\n"
     ]
    },
    {
     "name": "stderr",
     "output_type": "stream",
     "text": [
      "/Users/ilolss/anaconda3/envs/ml-project-2-course/lib/python3.10/site-packages/sklearn/utils/validation.py:2739: UserWarning: X does not have valid feature names, but LGBMRegressor was fitted with feature names\n",
      "  warnings.warn(\n",
      "Best trial: 9. Best value: 0.768488:  24%|██▍       | 12/50 [1:32:03<7:24:03, 701.15s/it]/var/folders/g6/kn9b03jj7fb6vtdn4q7l0_cm0000gn/T/ipykernel_73459/1710893890.py:6: FutureWarning: suggest_loguniform has been deprecated in v3.0.0. This feature will be removed in v6.0.0. See https://github.com/optuna/optuna/releases/tag/v3.0.0. Use suggest_float(..., log=True) instead.\n",
      "  'learning_rate':    trial.suggest_loguniform('learning_rate', 1e-3, 1e-1),\n"
     ]
    },
    {
     "name": "stdout",
     "output_type": "stream",
     "text": [
      "[I 2025-06-10 11:15:16,493] Trial 17 finished with value: 0.32485861249027104 and parameters: {'n_estimators': 414, 'learning_rate': 0.0010133005578156153, 'num_leaves': 220, 'max_depth': 6, 'subsample': 0.997552446413138, 'colsample_bytree': 0.6520366837014528, 'reg_alpha': 2.064188344460927e-06, 'reg_lambda': 3.5829838233353234e-08, 'min_child_weight': 5}. Best is trial 9 with value: 0.7684880904375512.\n"
     ]
    },
    {
     "name": "stderr",
     "output_type": "stream",
     "text": [
      "/var/folders/g6/kn9b03jj7fb6vtdn4q7l0_cm0000gn/T/ipykernel_73459/1710893890.py:9: FutureWarning: suggest_uniform has been deprecated in v3.0.0. This feature will be removed in v6.0.0. See https://github.com/optuna/optuna/releases/tag/v3.0.0. Use suggest_float instead.\n",
      "  'subsample':        trial.suggest_uniform('subsample', 0.5, 1.0),\n",
      "/var/folders/g6/kn9b03jj7fb6vtdn4q7l0_cm0000gn/T/ipykernel_73459/1710893890.py:10: FutureWarning: suggest_uniform has been deprecated in v3.0.0. This feature will be removed in v6.0.0. See https://github.com/optuna/optuna/releases/tag/v3.0.0. Use suggest_float instead.\n",
      "  'colsample_bytree': trial.suggest_uniform('colsample_bytree', 0.5, 1.0),\n",
      "/var/folders/g6/kn9b03jj7fb6vtdn4q7l0_cm0000gn/T/ipykernel_73459/1710893890.py:11: FutureWarning: suggest_loguniform has been deprecated in v3.0.0. This feature will be removed in v6.0.0. See https://github.com/optuna/optuna/releases/tag/v3.0.0. Use suggest_float(..., log=True) instead.\n",
      "  'reg_alpha':        trial.suggest_loguniform('reg_alpha', 1e-8, 10.0),\n",
      "/var/folders/g6/kn9b03jj7fb6vtdn4q7l0_cm0000gn/T/ipykernel_73459/1710893890.py:12: FutureWarning: suggest_loguniform has been deprecated in v3.0.0. This feature will be removed in v6.0.0. See https://github.com/optuna/optuna/releases/tag/v3.0.0. Use suggest_float(..., log=True) instead.\n",
      "  'reg_lambda':       trial.suggest_loguniform('reg_lambda', 1e-8, 10.0),\n"
     ]
    },
    {
     "name": "stdout",
     "output_type": "stream",
     "text": [
      "Training until validation scores don't improve for 50 rounds\n",
      "Early stopping, best iteration is:\n",
      "[167]\tvalid_0's l2: 6.60553e+12\n"
     ]
    },
    {
     "name": "stderr",
     "output_type": "stream",
     "text": [
      "/Users/ilolss/anaconda3/envs/ml-project-2-course/lib/python3.10/site-packages/sklearn/utils/validation.py:2739: UserWarning: X does not have valid feature names, but LGBMRegressor was fitted with feature names\n",
      "  warnings.warn(\n",
      "Best trial: 9. Best value: 0.768488:  26%|██▌       | 13/50 [1:34:03<5:37:30, 547.30s/it]"
     ]
    },
    {
     "name": "stdout",
     "output_type": "stream",
     "text": [
      "[I 2025-06-10 11:17:16,259] Trial 16 finished with value: 0.7641370874377332 and parameters: {'n_estimators': 907, 'learning_rate': 0.08254740947853166, 'num_leaves': 212, 'max_depth': 16, 'subsample': 0.6199952957226187, 'colsample_bytree': 0.5965075595808604, 'reg_alpha': 0.0051151187363833095, 'reg_lambda': 0.00560597253021469, 'min_child_weight': 15}. Best is trial 9 with value: 0.7684880904375512.\n"
     ]
    },
    {
     "name": "stderr",
     "output_type": "stream",
     "text": [
      "/var/folders/g6/kn9b03jj7fb6vtdn4q7l0_cm0000gn/T/ipykernel_73459/1710893890.py:6: FutureWarning: suggest_loguniform has been deprecated in v3.0.0. This feature will be removed in v6.0.0. See https://github.com/optuna/optuna/releases/tag/v3.0.0. Use suggest_float(..., log=True) instead.\n",
      "  'learning_rate':    trial.suggest_loguniform('learning_rate', 1e-3, 1e-1),\n",
      "/var/folders/g6/kn9b03jj7fb6vtdn4q7l0_cm0000gn/T/ipykernel_73459/1710893890.py:9: FutureWarning: suggest_uniform has been deprecated in v3.0.0. This feature will be removed in v6.0.0. See https://github.com/optuna/optuna/releases/tag/v3.0.0. Use suggest_float instead.\n",
      "  'subsample':        trial.suggest_uniform('subsample', 0.5, 1.0),\n",
      "/var/folders/g6/kn9b03jj7fb6vtdn4q7l0_cm0000gn/T/ipykernel_73459/1710893890.py:10: FutureWarning: suggest_uniform has been deprecated in v3.0.0. This feature will be removed in v6.0.0. See https://github.com/optuna/optuna/releases/tag/v3.0.0. Use suggest_float instead.\n",
      "  'colsample_bytree': trial.suggest_uniform('colsample_bytree', 0.5, 1.0),\n",
      "/var/folders/g6/kn9b03jj7fb6vtdn4q7l0_cm0000gn/T/ipykernel_73459/1710893890.py:11: FutureWarning: suggest_loguniform has been deprecated in v3.0.0. This feature will be removed in v6.0.0. See https://github.com/optuna/optuna/releases/tag/v3.0.0. Use suggest_float(..., log=True) instead.\n",
      "  'reg_alpha':        trial.suggest_loguniform('reg_alpha', 1e-8, 10.0),\n",
      "/var/folders/g6/kn9b03jj7fb6vtdn4q7l0_cm0000gn/T/ipykernel_73459/1710893890.py:12: FutureWarning: suggest_loguniform has been deprecated in v3.0.0. This feature will be removed in v6.0.0. See https://github.com/optuna/optuna/releases/tag/v3.0.0. Use suggest_float(..., log=True) instead.\n",
      "  'reg_lambda':       trial.suggest_loguniform('reg_lambda', 1e-8, 10.0),\n"
     ]
    },
    {
     "name": "stdout",
     "output_type": "stream",
     "text": [
      "Training until validation scores don't improve for 50 rounds\n",
      "Early stopping, best iteration is:\n",
      "[269]\tvalid_0's l2: 6.64128e+12\n"
     ]
    },
    {
     "name": "stderr",
     "output_type": "stream",
     "text": [
      "/Users/ilolss/anaconda3/envs/ml-project-2-course/lib/python3.10/site-packages/sklearn/utils/validation.py:2739: UserWarning: X does not have valid feature names, but LGBMRegressor was fitted with feature names\n",
      "  warnings.warn(\n"
     ]
    },
    {
     "name": "stdout",
     "output_type": "stream",
     "text": [
      "Did not meet early stopping. Best iteration is:\n",
      "[1531]\tvalid_0's l2: 1.06508e+13\n"
     ]
    },
    {
     "name": "stderr",
     "output_type": "stream",
     "text": [
      "/Users/ilolss/anaconda3/envs/ml-project-2-course/lib/python3.10/site-packages/sklearn/utils/validation.py:2739: UserWarning: X does not have valid feature names, but LGBMRegressor was fitted with feature names\n",
      "  warnings.warn(\n",
      "Best trial: 9. Best value: 0.768488:  28%|██▊       | 14/50 [1:36:32<4:22:55, 438.21s/it]"
     ]
    },
    {
     "name": "stdout",
     "output_type": "stream",
     "text": [
      "[I 2025-06-10 11:19:45,948] Trial 21 finished with value: 0.7628605178286624 and parameters: {'n_estimators': 1934, 'learning_rate': 0.09058084165613556, 'num_leaves': 256, 'max_depth': 12, 'subsample': 0.5320309989516921, 'colsample_bytree': 0.7935411581147781, 'reg_alpha': 3.4871901446199586e-05, 'reg_lambda': 0.7372265587167655, 'min_child_weight': 2}. Best is trial 9 with value: 0.7684880904375512.\n"
     ]
    },
    {
     "name": "stderr",
     "output_type": "stream",
     "text": [
      "/var/folders/g6/kn9b03jj7fb6vtdn4q7l0_cm0000gn/T/ipykernel_73459/1710893890.py:6: FutureWarning: suggest_loguniform has been deprecated in v3.0.0. This feature will be removed in v6.0.0. See https://github.com/optuna/optuna/releases/tag/v3.0.0. Use suggest_float(..., log=True) instead.\n",
      "  'learning_rate':    trial.suggest_loguniform('learning_rate', 1e-3, 1e-1),\n",
      "/var/folders/g6/kn9b03jj7fb6vtdn4q7l0_cm0000gn/T/ipykernel_73459/1710893890.py:9: FutureWarning: suggest_uniform has been deprecated in v3.0.0. This feature will be removed in v6.0.0. See https://github.com/optuna/optuna/releases/tag/v3.0.0. Use suggest_float instead.\n",
      "  'subsample':        trial.suggest_uniform('subsample', 0.5, 1.0),\n",
      "/var/folders/g6/kn9b03jj7fb6vtdn4q7l0_cm0000gn/T/ipykernel_73459/1710893890.py:10: FutureWarning: suggest_uniform has been deprecated in v3.0.0. This feature will be removed in v6.0.0. See https://github.com/optuna/optuna/releases/tag/v3.0.0. Use suggest_float instead.\n",
      "  'colsample_bytree': trial.suggest_uniform('colsample_bytree', 0.5, 1.0),\n",
      "/var/folders/g6/kn9b03jj7fb6vtdn4q7l0_cm0000gn/T/ipykernel_73459/1710893890.py:11: FutureWarning: suggest_loguniform has been deprecated in v3.0.0. This feature will be removed in v6.0.0. See https://github.com/optuna/optuna/releases/tag/v3.0.0. Use suggest_float(..., log=True) instead.\n",
      "  'reg_alpha':        trial.suggest_loguniform('reg_alpha', 1e-8, 10.0),\n",
      "/var/folders/g6/kn9b03jj7fb6vtdn4q7l0_cm0000gn/T/ipykernel_73459/1710893890.py:12: FutureWarning: suggest_loguniform has been deprecated in v3.0.0. This feature will be removed in v6.0.0. See https://github.com/optuna/optuna/releases/tag/v3.0.0. Use suggest_float(..., log=True) instead.\n",
      "  'reg_lambda':       trial.suggest_loguniform('reg_lambda', 1e-8, 10.0),\n",
      "Best trial: 9. Best value: 0.768488:  30%|███       | 15/50 [1:37:43<3:15:15, 334.72s/it]/var/folders/g6/kn9b03jj7fb6vtdn4q7l0_cm0000gn/T/ipykernel_73459/1710893890.py:6: FutureWarning: suggest_loguniform has been deprecated in v3.0.0. This feature will be removed in v6.0.0. See https://github.com/optuna/optuna/releases/tag/v3.0.0. Use suggest_float(..., log=True) instead.\n",
      "  'learning_rate':    trial.suggest_loguniform('learning_rate', 1e-3, 1e-1),\n"
     ]
    },
    {
     "name": "stdout",
     "output_type": "stream",
     "text": [
      "[I 2025-06-10 11:20:56,648] Trial 0 finished with value: 0.6196943494459659 and parameters: {'n_estimators': 1531, 'learning_rate': 0.0010750490844027387, 'num_leaves': 97, 'max_depth': 26, 'subsample': 0.9779295735109266, 'colsample_bytree': 0.8147836596813225, 'reg_alpha': 2.2455546937634212e-08, 'reg_lambda': 7.588969001539502e-05, 'min_child_weight': 44}. Best is trial 9 with value: 0.7684880904375512.\n"
     ]
    },
    {
     "name": "stderr",
     "output_type": "stream",
     "text": [
      "/var/folders/g6/kn9b03jj7fb6vtdn4q7l0_cm0000gn/T/ipykernel_73459/1710893890.py:9: FutureWarning: suggest_uniform has been deprecated in v3.0.0. This feature will be removed in v6.0.0. See https://github.com/optuna/optuna/releases/tag/v3.0.0. Use suggest_float instead.\n",
      "  'subsample':        trial.suggest_uniform('subsample', 0.5, 1.0),\n",
      "/var/folders/g6/kn9b03jj7fb6vtdn4q7l0_cm0000gn/T/ipykernel_73459/1710893890.py:10: FutureWarning: suggest_uniform has been deprecated in v3.0.0. This feature will be removed in v6.0.0. See https://github.com/optuna/optuna/releases/tag/v3.0.0. Use suggest_float instead.\n",
      "  'colsample_bytree': trial.suggest_uniform('colsample_bytree', 0.5, 1.0),\n",
      "/var/folders/g6/kn9b03jj7fb6vtdn4q7l0_cm0000gn/T/ipykernel_73459/1710893890.py:11: FutureWarning: suggest_loguniform has been deprecated in v3.0.0. This feature will be removed in v6.0.0. See https://github.com/optuna/optuna/releases/tag/v3.0.0. Use suggest_float(..., log=True) instead.\n",
      "  'reg_alpha':        trial.suggest_loguniform('reg_alpha', 1e-8, 10.0),\n",
      "/var/folders/g6/kn9b03jj7fb6vtdn4q7l0_cm0000gn/T/ipykernel_73459/1710893890.py:12: FutureWarning: suggest_loguniform has been deprecated in v3.0.0. This feature will be removed in v6.0.0. See https://github.com/optuna/optuna/releases/tag/v3.0.0. Use suggest_float(..., log=True) instead.\n",
      "  'reg_lambda':       trial.suggest_loguniform('reg_lambda', 1e-8, 10.0),\n"
     ]
    },
    {
     "name": "stdout",
     "output_type": "stream",
     "text": [
      "Training until validation scores don't improve for 50 rounds\n",
      "Early stopping, best iteration is:\n",
      "[285]\tvalid_0's l2: 6.59468e+12\n"
     ]
    },
    {
     "name": "stderr",
     "output_type": "stream",
     "text": [
      "/Users/ilolss/anaconda3/envs/ml-project-2-course/lib/python3.10/site-packages/sklearn/utils/validation.py:2739: UserWarning: X does not have valid feature names, but LGBMRegressor was fitted with feature names\n",
      "  warnings.warn(\n",
      "Best trial: 9. Best value: 0.768488:  32%|███▏      | 16/50 [1:39:47<2:35:24, 274.26s/it]/var/folders/g6/kn9b03jj7fb6vtdn4q7l0_cm0000gn/T/ipykernel_73459/1710893890.py:6: FutureWarning: suggest_loguniform has been deprecated in v3.0.0. This feature will be removed in v6.0.0. See https://github.com/optuna/optuna/releases/tag/v3.0.0. Use suggest_float(..., log=True) instead.\n",
      "  'learning_rate':    trial.suggest_loguniform('learning_rate', 1e-3, 1e-1),\n",
      "/var/folders/g6/kn9b03jj7fb6vtdn4q7l0_cm0000gn/T/ipykernel_73459/1710893890.py:9: FutureWarning: suggest_uniform has been deprecated in v3.0.0. This feature will be removed in v6.0.0. See https://github.com/optuna/optuna/releases/tag/v3.0.0. Use suggest_float instead.\n",
      "  'subsample':        trial.suggest_uniform('subsample', 0.5, 1.0),\n",
      "/var/folders/g6/kn9b03jj7fb6vtdn4q7l0_cm0000gn/T/ipykernel_73459/1710893890.py:10: FutureWarning: suggest_uniform has been deprecated in v3.0.0. This feature will be removed in v6.0.0. See https://github.com/optuna/optuna/releases/tag/v3.0.0. Use suggest_float instead.\n",
      "  'colsample_bytree': trial.suggest_uniform('colsample_bytree', 0.5, 1.0),\n"
     ]
    },
    {
     "name": "stdout",
     "output_type": "stream",
     "text": [
      "[I 2025-06-10 11:23:00,583] Trial 22 finished with value: 0.7645244559656967 and parameters: {'n_estimators': 1866, 'learning_rate': 0.0870978913912941, 'num_leaves': 76, 'max_depth': 29, 'subsample': 0.8046324020781959, 'colsample_bytree': 0.7932723799508875, 'reg_alpha': 3.307639336983905e-05, 'reg_lambda': 7.922472126346382, 'min_child_weight': 4}. Best is trial 9 with value: 0.7684880904375512.\n"
     ]
    },
    {
     "name": "stderr",
     "output_type": "stream",
     "text": [
      "/var/folders/g6/kn9b03jj7fb6vtdn4q7l0_cm0000gn/T/ipykernel_73459/1710893890.py:11: FutureWarning: suggest_loguniform has been deprecated in v3.0.0. This feature will be removed in v6.0.0. See https://github.com/optuna/optuna/releases/tag/v3.0.0. Use suggest_float(..., log=True) instead.\n",
      "  'reg_alpha':        trial.suggest_loguniform('reg_alpha', 1e-8, 10.0),\n",
      "/var/folders/g6/kn9b03jj7fb6vtdn4q7l0_cm0000gn/T/ipykernel_73459/1710893890.py:12: FutureWarning: suggest_loguniform has been deprecated in v3.0.0. This feature will be removed in v6.0.0. See https://github.com/optuna/optuna/releases/tag/v3.0.0. Use suggest_float(..., log=True) instead.\n",
      "  'reg_lambda':       trial.suggest_loguniform('reg_lambda', 1e-8, 10.0),\n"
     ]
    },
    {
     "name": "stdout",
     "output_type": "stream",
     "text": [
      "Training until validation scores don't improve for 50 rounds\n",
      "Did not meet early stopping. Best iteration is:\n",
      "[1301]\tvalid_0's l2: 6.52043e+12\n"
     ]
    },
    {
     "name": "stderr",
     "output_type": "stream",
     "text": [
      "/Users/ilolss/anaconda3/envs/ml-project-2-course/lib/python3.10/site-packages/sklearn/utils/validation.py:2739: UserWarning: X does not have valid feature names, but LGBMRegressor was fitted with feature names\n",
      "  warnings.warn(\n",
      "Best trial: 9. Best value: 0.768488:  34%|███▍      | 17/50 [1:41:58<2:07:55, 232.60s/it]"
     ]
    },
    {
     "name": "stdout",
     "output_type": "stream",
     "text": [
      "[I 2025-06-10 11:25:11,603] Trial 20 finished with value: 0.7671757661153945 and parameters: {'n_estimators': 1301, 'learning_rate': 0.014080482672486145, 'num_leaves': 144, 'max_depth': 10, 'subsample': 0.7196053886970883, 'colsample_bytree': 0.904417700707203, 'reg_alpha': 5.452535934228771e-07, 'reg_lambda': 3.227700583167892e-05, 'min_child_weight': 10}. Best is trial 9 with value: 0.7684880904375512.\n"
     ]
    },
    {
     "name": "stderr",
     "output_type": "stream",
     "text": [
      "/var/folders/g6/kn9b03jj7fb6vtdn4q7l0_cm0000gn/T/ipykernel_73459/1710893890.py:6: FutureWarning: suggest_loguniform has been deprecated in v3.0.0. This feature will be removed in v6.0.0. See https://github.com/optuna/optuna/releases/tag/v3.0.0. Use suggest_float(..., log=True) instead.\n",
      "  'learning_rate':    trial.suggest_loguniform('learning_rate', 1e-3, 1e-1),\n",
      "/var/folders/g6/kn9b03jj7fb6vtdn4q7l0_cm0000gn/T/ipykernel_73459/1710893890.py:9: FutureWarning: suggest_uniform has been deprecated in v3.0.0. This feature will be removed in v6.0.0. See https://github.com/optuna/optuna/releases/tag/v3.0.0. Use suggest_float instead.\n",
      "  'subsample':        trial.suggest_uniform('subsample', 0.5, 1.0),\n",
      "/var/folders/g6/kn9b03jj7fb6vtdn4q7l0_cm0000gn/T/ipykernel_73459/1710893890.py:10: FutureWarning: suggest_uniform has been deprecated in v3.0.0. This feature will be removed in v6.0.0. See https://github.com/optuna/optuna/releases/tag/v3.0.0. Use suggest_float instead.\n",
      "  'colsample_bytree': trial.suggest_uniform('colsample_bytree', 0.5, 1.0),\n",
      "/var/folders/g6/kn9b03jj7fb6vtdn4q7l0_cm0000gn/T/ipykernel_73459/1710893890.py:11: FutureWarning: suggest_loguniform has been deprecated in v3.0.0. This feature will be removed in v6.0.0. See https://github.com/optuna/optuna/releases/tag/v3.0.0. Use suggest_float(..., log=True) instead.\n",
      "  'reg_alpha':        trial.suggest_loguniform('reg_alpha', 1e-8, 10.0),\n",
      "/var/folders/g6/kn9b03jj7fb6vtdn4q7l0_cm0000gn/T/ipykernel_73459/1710893890.py:12: FutureWarning: suggest_loguniform has been deprecated in v3.0.0. This feature will be removed in v6.0.0. See https://github.com/optuna/optuna/releases/tag/v3.0.0. Use suggest_float(..., log=True) instead.\n",
      "  'reg_lambda':       trial.suggest_loguniform('reg_lambda', 1e-8, 10.0),\n"
     ]
    },
    {
     "name": "stdout",
     "output_type": "stream",
     "text": [
      "Early stopping, best iteration is:\n",
      "[287]\tvalid_0's l2: 6.66807e+12\n"
     ]
    },
    {
     "name": "stderr",
     "output_type": "stream",
     "text": [
      "/Users/ilolss/anaconda3/envs/ml-project-2-course/lib/python3.10/site-packages/sklearn/utils/validation.py:2739: UserWarning: X does not have valid feature names, but LGBMRegressor was fitted with feature names\n",
      "  warnings.warn(\n"
     ]
    },
    {
     "name": "stdout",
     "output_type": "stream",
     "text": [
      "Training until validation scores don't improve for 50 rounds\n",
      "Training until validation scores don't improve for 50 rounds\n"
     ]
    },
    {
     "name": "stderr",
     "output_type": "stream",
     "text": [
      "Best trial: 9. Best value: 0.768488:  36%|███▌      | 18/50 [1:43:53<1:45:44, 198.28s/it]"
     ]
    },
    {
     "name": "stdout",
     "output_type": "stream",
     "text": [
      "[I 2025-06-10 11:27:07,009] Trial 23 finished with value: 0.7619037855772276 and parameters: {'n_estimators': 1814, 'learning_rate': 0.08756798044846023, 'num_leaves': 84, 'max_depth': 29, 'subsample': 0.812003820740669, 'colsample_bytree': 0.7969459350281677, 'reg_alpha': 5.063748637597755e-05, 'reg_lambda': 1.5503961378179554, 'min_child_weight': 14}. Best is trial 9 with value: 0.7684880904375512.\n"
     ]
    },
    {
     "name": "stderr",
     "output_type": "stream",
     "text": [
      "/var/folders/g6/kn9b03jj7fb6vtdn4q7l0_cm0000gn/T/ipykernel_73459/1710893890.py:6: FutureWarning: suggest_loguniform has been deprecated in v3.0.0. This feature will be removed in v6.0.0. See https://github.com/optuna/optuna/releases/tag/v3.0.0. Use suggest_float(..., log=True) instead.\n",
      "  'learning_rate':    trial.suggest_loguniform('learning_rate', 1e-3, 1e-1),\n",
      "/var/folders/g6/kn9b03jj7fb6vtdn4q7l0_cm0000gn/T/ipykernel_73459/1710893890.py:9: FutureWarning: suggest_uniform has been deprecated in v3.0.0. This feature will be removed in v6.0.0. See https://github.com/optuna/optuna/releases/tag/v3.0.0. Use suggest_float instead.\n",
      "  'subsample':        trial.suggest_uniform('subsample', 0.5, 1.0),\n",
      "/var/folders/g6/kn9b03jj7fb6vtdn4q7l0_cm0000gn/T/ipykernel_73459/1710893890.py:10: FutureWarning: suggest_uniform has been deprecated in v3.0.0. This feature will be removed in v6.0.0. See https://github.com/optuna/optuna/releases/tag/v3.0.0. Use suggest_float instead.\n",
      "  'colsample_bytree': trial.suggest_uniform('colsample_bytree', 0.5, 1.0),\n",
      "/var/folders/g6/kn9b03jj7fb6vtdn4q7l0_cm0000gn/T/ipykernel_73459/1710893890.py:11: FutureWarning: suggest_loguniform has been deprecated in v3.0.0. This feature will be removed in v6.0.0. See https://github.com/optuna/optuna/releases/tag/v3.0.0. Use suggest_float(..., log=True) instead.\n",
      "  'reg_alpha':        trial.suggest_loguniform('reg_alpha', 1e-8, 10.0),\n",
      "/var/folders/g6/kn9b03jj7fb6vtdn4q7l0_cm0000gn/T/ipykernel_73459/1710893890.py:12: FutureWarning: suggest_loguniform has been deprecated in v3.0.0. This feature will be removed in v6.0.0. See https://github.com/optuna/optuna/releases/tag/v3.0.0. Use suggest_float(..., log=True) instead.\n",
      "  'reg_lambda':       trial.suggest_loguniform('reg_lambda', 1e-8, 10.0),\n"
     ]
    },
    {
     "name": "stdout",
     "output_type": "stream",
     "text": [
      "Training until validation scores don't improve for 50 rounds\n",
      "Training until validation scores don't improve for 50 rounds\n",
      "Did not meet early stopping. Best iteration is:\n",
      "[731]\tvalid_0's l2: 1.36652e+13\n"
     ]
    },
    {
     "name": "stderr",
     "output_type": "stream",
     "text": [
      "/Users/ilolss/anaconda3/envs/ml-project-2-course/lib/python3.10/site-packages/sklearn/utils/validation.py:2739: UserWarning: X does not have valid feature names, but LGBMRegressor was fitted with feature names\n",
      "  warnings.warn(\n"
     ]
    },
    {
     "name": "stdout",
     "output_type": "stream",
     "text": [
      "Training until validation scores don't improve for 50 rounds\n"
     ]
    },
    {
     "name": "stderr",
     "output_type": "stream",
     "text": [
      "Best trial: 9. Best value: 0.768488:  38%|███▊      | 19/50 [1:48:57<1:58:32, 229.44s/it]"
     ]
    },
    {
     "name": "stdout",
     "output_type": "stream",
     "text": [
      "[I 2025-06-10 11:32:10,963] Trial 14 finished with value: 0.5120577973735424 and parameters: {'n_estimators': 731, 'learning_rate': 0.0011418079672858299, 'num_leaves': 235, 'max_depth': 18, 'subsample': 0.9009483890160705, 'colsample_bytree': 0.9781049549840541, 'reg_alpha': 7.131153983599412, 'reg_lambda': 6.73796423787652e-07, 'min_child_weight': 50}. Best is trial 9 with value: 0.7684880904375512.\n"
     ]
    },
    {
     "name": "stderr",
     "output_type": "stream",
     "text": [
      "/var/folders/g6/kn9b03jj7fb6vtdn4q7l0_cm0000gn/T/ipykernel_73459/1710893890.py:6: FutureWarning: suggest_loguniform has been deprecated in v3.0.0. This feature will be removed in v6.0.0. See https://github.com/optuna/optuna/releases/tag/v3.0.0. Use suggest_float(..., log=True) instead.\n",
      "  'learning_rate':    trial.suggest_loguniform('learning_rate', 1e-3, 1e-1),\n",
      "/var/folders/g6/kn9b03jj7fb6vtdn4q7l0_cm0000gn/T/ipykernel_73459/1710893890.py:9: FutureWarning: suggest_uniform has been deprecated in v3.0.0. This feature will be removed in v6.0.0. See https://github.com/optuna/optuna/releases/tag/v3.0.0. Use suggest_float instead.\n",
      "  'subsample':        trial.suggest_uniform('subsample', 0.5, 1.0),\n",
      "/var/folders/g6/kn9b03jj7fb6vtdn4q7l0_cm0000gn/T/ipykernel_73459/1710893890.py:10: FutureWarning: suggest_uniform has been deprecated in v3.0.0. This feature will be removed in v6.0.0. See https://github.com/optuna/optuna/releases/tag/v3.0.0. Use suggest_float instead.\n",
      "  'colsample_bytree': trial.suggest_uniform('colsample_bytree', 0.5, 1.0),\n",
      "/var/folders/g6/kn9b03jj7fb6vtdn4q7l0_cm0000gn/T/ipykernel_73459/1710893890.py:11: FutureWarning: suggest_loguniform has been deprecated in v3.0.0. This feature will be removed in v6.0.0. See https://github.com/optuna/optuna/releases/tag/v3.0.0. Use suggest_float(..., log=True) instead.\n",
      "  'reg_alpha':        trial.suggest_loguniform('reg_alpha', 1e-8, 10.0),\n",
      "/var/folders/g6/kn9b03jj7fb6vtdn4q7l0_cm0000gn/T/ipykernel_73459/1710893890.py:12: FutureWarning: suggest_loguniform has been deprecated in v3.0.0. This feature will be removed in v6.0.0. See https://github.com/optuna/optuna/releases/tag/v3.0.0. Use suggest_float(..., log=True) instead.\n",
      "  'reg_lambda':       trial.suggest_loguniform('reg_lambda', 1e-8, 10.0),\n"
     ]
    },
    {
     "name": "stdout",
     "output_type": "stream",
     "text": [
      "Did not meet early stopping. Best iteration is:\n",
      "[1907]\tvalid_0's l2: 8.83797e+12\n"
     ]
    },
    {
     "name": "stderr",
     "output_type": "stream",
     "text": [
      "/Users/ilolss/anaconda3/envs/ml-project-2-course/lib/python3.10/site-packages/sklearn/utils/validation.py:2739: UserWarning: X does not have valid feature names, but LGBMRegressor was fitted with feature names\n",
      "  warnings.warn(\n",
      "Best trial: 9. Best value: 0.768488:  40%|████      | 20/50 [1:51:45<1:45:37, 211.26s/it]/var/folders/g6/kn9b03jj7fb6vtdn4q7l0_cm0000gn/T/ipykernel_73459/1710893890.py:6: FutureWarning: suggest_loguniform has been deprecated in v3.0.0. This feature will be removed in v6.0.0. See https://github.com/optuna/optuna/releases/tag/v3.0.0. Use suggest_float(..., log=True) instead.\n",
      "  'learning_rate':    trial.suggest_loguniform('learning_rate', 1e-3, 1e-1),\n",
      "/var/folders/g6/kn9b03jj7fb6vtdn4q7l0_cm0000gn/T/ipykernel_73459/1710893890.py:9: FutureWarning: suggest_uniform has been deprecated in v3.0.0. This feature will be removed in v6.0.0. See https://github.com/optuna/optuna/releases/tag/v3.0.0. Use suggest_float instead.\n",
      "  'subsample':        trial.suggest_uniform('subsample', 0.5, 1.0),\n"
     ]
    },
    {
     "name": "stdout",
     "output_type": "stream",
     "text": [
      "[I 2025-06-10 11:34:59,111] Trial 7 finished with value: 0.6844233887123341 and parameters: {'n_estimators': 1907, 'learning_rate': 0.0015513523420011693, 'num_leaves': 127, 'max_depth': 17, 'subsample': 0.9438205181175421, 'colsample_bytree': 0.7063241191274227, 'reg_alpha': 4.740413245659029e-06, 'reg_lambda': 0.004572600961170778, 'min_child_weight': 35}. Best is trial 9 with value: 0.7684880904375512.\n"
     ]
    },
    {
     "name": "stderr",
     "output_type": "stream",
     "text": [
      "/var/folders/g6/kn9b03jj7fb6vtdn4q7l0_cm0000gn/T/ipykernel_73459/1710893890.py:10: FutureWarning: suggest_uniform has been deprecated in v3.0.0. This feature will be removed in v6.0.0. See https://github.com/optuna/optuna/releases/tag/v3.0.0. Use suggest_float instead.\n",
      "  'colsample_bytree': trial.suggest_uniform('colsample_bytree', 0.5, 1.0),\n",
      "/var/folders/g6/kn9b03jj7fb6vtdn4q7l0_cm0000gn/T/ipykernel_73459/1710893890.py:11: FutureWarning: suggest_loguniform has been deprecated in v3.0.0. This feature will be removed in v6.0.0. See https://github.com/optuna/optuna/releases/tag/v3.0.0. Use suggest_float(..., log=True) instead.\n",
      "  'reg_alpha':        trial.suggest_loguniform('reg_alpha', 1e-8, 10.0),\n",
      "/var/folders/g6/kn9b03jj7fb6vtdn4q7l0_cm0000gn/T/ipykernel_73459/1710893890.py:12: FutureWarning: suggest_loguniform has been deprecated in v3.0.0. This feature will be removed in v6.0.0. See https://github.com/optuna/optuna/releases/tag/v3.0.0. Use suggest_float(..., log=True) instead.\n",
      "  'reg_lambda':       trial.suggest_loguniform('reg_lambda', 1e-8, 10.0),\n"
     ]
    },
    {
     "name": "stdout",
     "output_type": "stream",
     "text": [
      "Training until validation scores don't improve for 50 rounds\n",
      "Early stopping, best iteration is:\n",
      "[650]\tvalid_0's l2: 6.36083e+12\n"
     ]
    },
    {
     "name": "stderr",
     "output_type": "stream",
     "text": [
      "/Users/ilolss/anaconda3/envs/ml-project-2-course/lib/python3.10/site-packages/sklearn/utils/validation.py:2739: UserWarning: X does not have valid feature names, but LGBMRegressor was fitted with feature names\n",
      "  warnings.warn(\n",
      "Best trial: 24. Best value: 0.772875:  42%|████▏     | 21/50 [1:53:03<1:22:49, 171.35s/it]/var/folders/g6/kn9b03jj7fb6vtdn4q7l0_cm0000gn/T/ipykernel_73459/1710893890.py:6: FutureWarning: suggest_loguniform has been deprecated in v3.0.0. This feature will be removed in v6.0.0. See https://github.com/optuna/optuna/releases/tag/v3.0.0. Use suggest_float(..., log=True) instead.\n",
      "  'learning_rate':    trial.suggest_loguniform('learning_rate', 1e-3, 1e-1),\n"
     ]
    },
    {
     "name": "stdout",
     "output_type": "stream",
     "text": [
      "[I 2025-06-10 11:36:16,358] Trial 24 finished with value: 0.772874539578923 and parameters: {'n_estimators': 1786, 'learning_rate': 0.025564332963318472, 'num_leaves': 83, 'max_depth': 29, 'subsample': 0.8259772997763104, 'colsample_bytree': 0.5089082700589327, 'reg_alpha': 0.0001281458649912783, 'reg_lambda': 1.4509575467710583, 'min_child_weight': 15}. Best is trial 24 with value: 0.772874539578923.\n"
     ]
    },
    {
     "name": "stderr",
     "output_type": "stream",
     "text": [
      "/var/folders/g6/kn9b03jj7fb6vtdn4q7l0_cm0000gn/T/ipykernel_73459/1710893890.py:9: FutureWarning: suggest_uniform has been deprecated in v3.0.0. This feature will be removed in v6.0.0. See https://github.com/optuna/optuna/releases/tag/v3.0.0. Use suggest_float instead.\n",
      "  'subsample':        trial.suggest_uniform('subsample', 0.5, 1.0),\n",
      "/var/folders/g6/kn9b03jj7fb6vtdn4q7l0_cm0000gn/T/ipykernel_73459/1710893890.py:10: FutureWarning: suggest_uniform has been deprecated in v3.0.0. This feature will be removed in v6.0.0. See https://github.com/optuna/optuna/releases/tag/v3.0.0. Use suggest_float instead.\n",
      "  'colsample_bytree': trial.suggest_uniform('colsample_bytree', 0.5, 1.0),\n",
      "/var/folders/g6/kn9b03jj7fb6vtdn4q7l0_cm0000gn/T/ipykernel_73459/1710893890.py:11: FutureWarning: suggest_loguniform has been deprecated in v3.0.0. This feature will be removed in v6.0.0. See https://github.com/optuna/optuna/releases/tag/v3.0.0. Use suggest_float(..., log=True) instead.\n",
      "  'reg_alpha':        trial.suggest_loguniform('reg_alpha', 1e-8, 10.0),\n",
      "/var/folders/g6/kn9b03jj7fb6vtdn4q7l0_cm0000gn/T/ipykernel_73459/1710893890.py:12: FutureWarning: suggest_loguniform has been deprecated in v3.0.0. This feature will be removed in v6.0.0. See https://github.com/optuna/optuna/releases/tag/v3.0.0. Use suggest_float(..., log=True) instead.\n",
      "  'reg_lambda':       trial.suggest_loguniform('reg_lambda', 1e-8, 10.0),\n"
     ]
    },
    {
     "name": "stdout",
     "output_type": "stream",
     "text": [
      "Did not meet early stopping. Best iteration is:\n",
      "[1605]\tvalid_0's l2: 6.42505e+12\n"
     ]
    },
    {
     "name": "stderr",
     "output_type": "stream",
     "text": [
      "/Users/ilolss/anaconda3/envs/ml-project-2-course/lib/python3.10/site-packages/sklearn/utils/validation.py:2739: UserWarning: X does not have valid feature names, but LGBMRegressor was fitted with feature names\n",
      "  warnings.warn(\n"
     ]
    },
    {
     "name": "stdout",
     "output_type": "stream",
     "text": [
      "Early stopping, best iteration is:\n",
      "[915]\tvalid_0's l2: 6.48685e+12\n"
     ]
    },
    {
     "name": "stderr",
     "output_type": "stream",
     "text": [
      "/Users/ilolss/anaconda3/envs/ml-project-2-course/lib/python3.10/site-packages/sklearn/utils/validation.py:2739: UserWarning: X does not have valid feature names, but LGBMRegressor was fitted with feature names\n",
      "  warnings.warn(\n",
      "Best trial: 24. Best value: 0.772875:  44%|████▍     | 22/50 [1:54:38<1:09:27, 148.83s/it]/var/folders/g6/kn9b03jj7fb6vtdn4q7l0_cm0000gn/T/ipykernel_73459/1710893890.py:6: FutureWarning: suggest_loguniform has been deprecated in v3.0.0. This feature will be removed in v6.0.0. See https://github.com/optuna/optuna/releases/tag/v3.0.0. Use suggest_float(..., log=True) instead.\n",
      "  'learning_rate':    trial.suggest_loguniform('learning_rate', 1e-3, 1e-1),\n"
     ]
    },
    {
     "name": "stdout",
     "output_type": "stream",
     "text": [
      "[I 2025-06-10 11:37:52,274] Trial 6 finished with value: 0.7705815628653898 and parameters: {'n_estimators': 1605, 'learning_rate': 0.008768858075800112, 'num_leaves': 158, 'max_depth': 23, 'subsample': 0.8692281559507183, 'colsample_bytree': 0.6026883782018413, 'reg_alpha': 1.3965498569988246, 'reg_lambda': 3.8333678699173923, 'min_child_weight': 11}. Best is trial 24 with value: 0.772874539578923.\n"
     ]
    },
    {
     "name": "stderr",
     "output_type": "stream",
     "text": [
      "/var/folders/g6/kn9b03jj7fb6vtdn4q7l0_cm0000gn/T/ipykernel_73459/1710893890.py:9: FutureWarning: suggest_uniform has been deprecated in v3.0.0. This feature will be removed in v6.0.0. See https://github.com/optuna/optuna/releases/tag/v3.0.0. Use suggest_float instead.\n",
      "  'subsample':        trial.suggest_uniform('subsample', 0.5, 1.0),\n",
      "/var/folders/g6/kn9b03jj7fb6vtdn4q7l0_cm0000gn/T/ipykernel_73459/1710893890.py:10: FutureWarning: suggest_uniform has been deprecated in v3.0.0. This feature will be removed in v6.0.0. See https://github.com/optuna/optuna/releases/tag/v3.0.0. Use suggest_float instead.\n",
      "  'colsample_bytree': trial.suggest_uniform('colsample_bytree', 0.5, 1.0),\n",
      "/var/folders/g6/kn9b03jj7fb6vtdn4q7l0_cm0000gn/T/ipykernel_73459/1710893890.py:11: FutureWarning: suggest_loguniform has been deprecated in v3.0.0. This feature will be removed in v6.0.0. See https://github.com/optuna/optuna/releases/tag/v3.0.0. Use suggest_float(..., log=True) instead.\n",
      "  'reg_alpha':        trial.suggest_loguniform('reg_alpha', 1e-8, 10.0),\n",
      "/var/folders/g6/kn9b03jj7fb6vtdn4q7l0_cm0000gn/T/ipykernel_73459/1710893890.py:12: FutureWarning: suggest_loguniform has been deprecated in v3.0.0. This feature will be removed in v6.0.0. See https://github.com/optuna/optuna/releases/tag/v3.0.0. Use suggest_float(..., log=True) instead.\n",
      "  'reg_lambda':       trial.suggest_loguniform('reg_lambda', 1e-8, 10.0),\n",
      "Best trial: 24. Best value: 0.772875:  46%|████▌     | 23/50 [1:55:34<54:23, 120.86s/it]  /var/folders/g6/kn9b03jj7fb6vtdn4q7l0_cm0000gn/T/ipykernel_73459/1710893890.py:6: FutureWarning: suggest_loguniform has been deprecated in v3.0.0. This feature will be removed in v6.0.0. See https://github.com/optuna/optuna/releases/tag/v3.0.0. Use suggest_float(..., log=True) instead.\n",
      "  'learning_rate':    trial.suggest_loguniform('learning_rate', 1e-3, 1e-1),\n"
     ]
    },
    {
     "name": "stdout",
     "output_type": "stream",
     "text": [
      "[I 2025-06-10 11:38:47,429] Trial 27 finished with value: 0.7683747735600442 and parameters: {'n_estimators': 2000, 'learning_rate': 0.02944529711358971, 'num_leaves': 55, 'max_depth': 30, 'subsample': 0.807634735461208, 'colsample_bytree': 0.7009135485811593, 'reg_alpha': 0.00019831415511183695, 'reg_lambda': 8.847892287943662, 'min_child_weight': 12}. Best is trial 24 with value: 0.772874539578923.\n"
     ]
    },
    {
     "name": "stderr",
     "output_type": "stream",
     "text": [
      "/var/folders/g6/kn9b03jj7fb6vtdn4q7l0_cm0000gn/T/ipykernel_73459/1710893890.py:9: FutureWarning: suggest_uniform has been deprecated in v3.0.0. This feature will be removed in v6.0.0. See https://github.com/optuna/optuna/releases/tag/v3.0.0. Use suggest_float instead.\n",
      "  'subsample':        trial.suggest_uniform('subsample', 0.5, 1.0),\n",
      "/var/folders/g6/kn9b03jj7fb6vtdn4q7l0_cm0000gn/T/ipykernel_73459/1710893890.py:10: FutureWarning: suggest_uniform has been deprecated in v3.0.0. This feature will be removed in v6.0.0. See https://github.com/optuna/optuna/releases/tag/v3.0.0. Use suggest_float instead.\n",
      "  'colsample_bytree': trial.suggest_uniform('colsample_bytree', 0.5, 1.0),\n",
      "/var/folders/g6/kn9b03jj7fb6vtdn4q7l0_cm0000gn/T/ipykernel_73459/1710893890.py:11: FutureWarning: suggest_loguniform has been deprecated in v3.0.0. This feature will be removed in v6.0.0. See https://github.com/optuna/optuna/releases/tag/v3.0.0. Use suggest_float(..., log=True) instead.\n",
      "  'reg_alpha':        trial.suggest_loguniform('reg_alpha', 1e-8, 10.0),\n",
      "/var/folders/g6/kn9b03jj7fb6vtdn4q7l0_cm0000gn/T/ipykernel_73459/1710893890.py:12: FutureWarning: suggest_loguniform has been deprecated in v3.0.0. This feature will be removed in v6.0.0. See https://github.com/optuna/optuna/releases/tag/v3.0.0. Use suggest_float(..., log=True) instead.\n",
      "  'reg_lambda':       trial.suggest_loguniform('reg_lambda', 1e-8, 10.0),\n"
     ]
    },
    {
     "name": "stdout",
     "output_type": "stream",
     "text": [
      "Early stopping, best iteration is:\n",
      "[1306]\tvalid_0's l2: 6.51282e+12\n"
     ]
    },
    {
     "name": "stderr",
     "output_type": "stream",
     "text": [
      "/Users/ilolss/anaconda3/envs/ml-project-2-course/lib/python3.10/site-packages/sklearn/utils/validation.py:2739: UserWarning: X does not have valid feature names, but LGBMRegressor was fitted with feature names\n",
      "  warnings.warn(\n",
      "Best trial: 24. Best value: 0.772875:  48%|████▊     | 24/50 [1:57:07<48:47, 112.59s/it]/var/folders/g6/kn9b03jj7fb6vtdn4q7l0_cm0000gn/T/ipykernel_73459/1710893890.py:6: FutureWarning: suggest_loguniform has been deprecated in v3.0.0. This feature will be removed in v6.0.0. See https://github.com/optuna/optuna/releases/tag/v3.0.0. Use suggest_float(..., log=True) instead.\n",
      "  'learning_rate':    trial.suggest_loguniform('learning_rate', 1e-3, 1e-1),\n"
     ]
    },
    {
     "name": "stdout",
     "output_type": "stream",
     "text": [
      "[I 2025-06-10 11:40:20,693] Trial 19 finished with value: 0.7674473142582819 and parameters: {'n_estimators': 1978, 'learning_rate': 0.01676437657980308, 'num_leaves': 158, 'max_depth': 18, 'subsample': 0.5244397513972039, 'colsample_bytree': 0.841780898017594, 'reg_alpha': 0.0039617849632545355, 'reg_lambda': 3.889621672763634e-05, 'min_child_weight': 15}. Best is trial 24 with value: 0.772874539578923.\n"
     ]
    },
    {
     "name": "stderr",
     "output_type": "stream",
     "text": [
      "/var/folders/g6/kn9b03jj7fb6vtdn4q7l0_cm0000gn/T/ipykernel_73459/1710893890.py:9: FutureWarning: suggest_uniform has been deprecated in v3.0.0. This feature will be removed in v6.0.0. See https://github.com/optuna/optuna/releases/tag/v3.0.0. Use suggest_float instead.\n",
      "  'subsample':        trial.suggest_uniform('subsample', 0.5, 1.0),\n",
      "/var/folders/g6/kn9b03jj7fb6vtdn4q7l0_cm0000gn/T/ipykernel_73459/1710893890.py:10: FutureWarning: suggest_uniform has been deprecated in v3.0.0. This feature will be removed in v6.0.0. See https://github.com/optuna/optuna/releases/tag/v3.0.0. Use suggest_float instead.\n",
      "  'colsample_bytree': trial.suggest_uniform('colsample_bytree', 0.5, 1.0),\n",
      "/var/folders/g6/kn9b03jj7fb6vtdn4q7l0_cm0000gn/T/ipykernel_73459/1710893890.py:11: FutureWarning: suggest_loguniform has been deprecated in v3.0.0. This feature will be removed in v6.0.0. See https://github.com/optuna/optuna/releases/tag/v3.0.0. Use suggest_float(..., log=True) instead.\n",
      "  'reg_alpha':        trial.suggest_loguniform('reg_alpha', 1e-8, 10.0),\n",
      "/var/folders/g6/kn9b03jj7fb6vtdn4q7l0_cm0000gn/T/ipykernel_73459/1710893890.py:12: FutureWarning: suggest_loguniform has been deprecated in v3.0.0. This feature will be removed in v6.0.0. See https://github.com/optuna/optuna/releases/tag/v3.0.0. Use suggest_float(..., log=True) instead.\n",
      "  'reg_lambda':       trial.suggest_loguniform('reg_lambda', 1e-8, 10.0),\n"
     ]
    },
    {
     "name": "stdout",
     "output_type": "stream",
     "text": [
      "Training until validation scores don't improve for 50 rounds\n",
      "Early stopping, best iteration is:\n",
      "[1168]\tvalid_0's l2: 6.51346e+12\n"
     ]
    },
    {
     "name": "stderr",
     "output_type": "stream",
     "text": [
      "/Users/ilolss/anaconda3/envs/ml-project-2-course/lib/python3.10/site-packages/sklearn/utils/validation.py:2739: UserWarning: X does not have valid feature names, but LGBMRegressor was fitted with feature names\n",
      "  warnings.warn(\n"
     ]
    },
    {
     "name": "stdout",
     "output_type": "stream",
     "text": [
      "Early stopping, best iteration is:\n",
      "[744]\tvalid_0's l2: 6.36527e+12\n"
     ]
    },
    {
     "name": "stderr",
     "output_type": "stream",
     "text": [
      "/Users/ilolss/anaconda3/envs/ml-project-2-course/lib/python3.10/site-packages/sklearn/utils/validation.py:2739: UserWarning: X does not have valid feature names, but LGBMRegressor was fitted with feature names\n",
      "  warnings.warn(\n",
      "Best trial: 24. Best value: 0.772875:  50%|█████     | 25/50 [1:58:27<42:48, 102.74s/it]/var/folders/g6/kn9b03jj7fb6vtdn4q7l0_cm0000gn/T/ipykernel_73459/1710893890.py:6: FutureWarning: suggest_loguniform has been deprecated in v3.0.0. This feature will be removed in v6.0.0. See https://github.com/optuna/optuna/releases/tag/v3.0.0. Use suggest_float(..., log=True) instead.\n",
      "  'learning_rate':    trial.suggest_loguniform('learning_rate', 1e-3, 1e-1),\n"
     ]
    },
    {
     "name": "stdout",
     "output_type": "stream",
     "text": [
      "[I 2025-06-10 11:41:40,407] Trial 25 finished with value: 0.7727160889000249 and parameters: {'n_estimators': 1310, 'learning_rate': 0.028023172531255924, 'num_leaves': 85, 'max_depth': 29, 'subsample': 0.8098123025577627, 'colsample_bytree': 0.5005452248587219, 'reg_alpha': 9.696311324942695e-05, 'reg_lambda': 4.922205286849812, 'min_child_weight': 13}. Best is trial 24 with value: 0.772874539578923.\n",
      "[I 2025-06-10 11:41:40,432] Trial 29 finished with value: 0.7674244939476581 and parameters: {'n_estimators': 1333, 'learning_rate': 0.019223525220592733, 'num_leaves': 45, 'max_depth': 12, 'subsample': 0.8805979371656245, 'colsample_bytree': 0.6987190760648816, 'reg_alpha': 0.00021359007396614435, 'reg_lambda': 1.6640857548549888e-05, 'min_child_weight': 12}. Best is trial 24 with value: 0.772874539578923.\n"
     ]
    },
    {
     "name": "stderr",
     "output_type": "stream",
     "text": [
      "/var/folders/g6/kn9b03jj7fb6vtdn4q7l0_cm0000gn/T/ipykernel_73459/1710893890.py:9: FutureWarning: suggest_uniform has been deprecated in v3.0.0. This feature will be removed in v6.0.0. See https://github.com/optuna/optuna/releases/tag/v3.0.0. Use suggest_float instead.\n",
      "  'subsample':        trial.suggest_uniform('subsample', 0.5, 1.0),\n",
      "/var/folders/g6/kn9b03jj7fb6vtdn4q7l0_cm0000gn/T/ipykernel_73459/1710893890.py:10: FutureWarning: suggest_uniform has been deprecated in v3.0.0. This feature will be removed in v6.0.0. See https://github.com/optuna/optuna/releases/tag/v3.0.0. Use suggest_float instead.\n",
      "  'colsample_bytree': trial.suggest_uniform('colsample_bytree', 0.5, 1.0),\n",
      "/var/folders/g6/kn9b03jj7fb6vtdn4q7l0_cm0000gn/T/ipykernel_73459/1710893890.py:11: FutureWarning: suggest_loguniform has been deprecated in v3.0.0. This feature will be removed in v6.0.0. See https://github.com/optuna/optuna/releases/tag/v3.0.0. Use suggest_float(..., log=True) instead.\n",
      "  'reg_alpha':        trial.suggest_loguniform('reg_alpha', 1e-8, 10.0),\n",
      "/var/folders/g6/kn9b03jj7fb6vtdn4q7l0_cm0000gn/T/ipykernel_73459/1710893890.py:12: FutureWarning: suggest_loguniform has been deprecated in v3.0.0. This feature will be removed in v6.0.0. See https://github.com/optuna/optuna/releases/tag/v3.0.0. Use suggest_float(..., log=True) instead.\n",
      "  'reg_lambda':       trial.suggest_loguniform('reg_lambda', 1e-8, 10.0),\n"
     ]
    },
    {
     "name": "stdout",
     "output_type": "stream",
     "text": [
      "Did not meet early stopping. Best iteration is:\n",
      "[1905]\tvalid_0's l2: 7.67797e+12\n"
     ]
    },
    {
     "name": "stderr",
     "output_type": "stream",
     "text": [
      "/Users/ilolss/anaconda3/envs/ml-project-2-course/lib/python3.10/site-packages/sklearn/utils/validation.py:2739: UserWarning: X does not have valid feature names, but LGBMRegressor was fitted with feature names\n",
      "  warnings.warn(\n"
     ]
    },
    {
     "name": "stdout",
     "output_type": "stream",
     "text": [
      "Training until validation scores don't improve for 50 rounds\n"
     ]
    },
    {
     "name": "stderr",
     "output_type": "stream",
     "text": [
      "Best trial: 24. Best value: 0.772875:  54%|█████▍    | 27/50 [2:01:29<37:20, 97.43s/it] "
     ]
    },
    {
     "name": "stdout",
     "output_type": "stream",
     "text": [
      "[I 2025-06-10 11:44:42,729] Trial 18 finished with value: 0.7258436314350125 and parameters: {'n_estimators': 1905, 'learning_rate': 0.004217926068761126, 'num_leaves': 90, 'max_depth': 28, 'subsample': 0.6049225929321832, 'colsample_bytree': 0.8421979554897251, 'reg_alpha': 9.242263543679215e-06, 'reg_lambda': 1.8738784105881845e-08, 'min_child_weight': 45}. Best is trial 24 with value: 0.772874539578923.\n"
     ]
    },
    {
     "name": "stderr",
     "output_type": "stream",
     "text": [
      "/var/folders/g6/kn9b03jj7fb6vtdn4q7l0_cm0000gn/T/ipykernel_73459/1710893890.py:6: FutureWarning: suggest_loguniform has been deprecated in v3.0.0. This feature will be removed in v6.0.0. See https://github.com/optuna/optuna/releases/tag/v3.0.0. Use suggest_float(..., log=True) instead.\n",
      "  'learning_rate':    trial.suggest_loguniform('learning_rate', 1e-3, 1e-1),\n",
      "/var/folders/g6/kn9b03jj7fb6vtdn4q7l0_cm0000gn/T/ipykernel_73459/1710893890.py:9: FutureWarning: suggest_uniform has been deprecated in v3.0.0. This feature will be removed in v6.0.0. See https://github.com/optuna/optuna/releases/tag/v3.0.0. Use suggest_float instead.\n",
      "  'subsample':        trial.suggest_uniform('subsample', 0.5, 1.0),\n",
      "/var/folders/g6/kn9b03jj7fb6vtdn4q7l0_cm0000gn/T/ipykernel_73459/1710893890.py:10: FutureWarning: suggest_uniform has been deprecated in v3.0.0. This feature will be removed in v6.0.0. See https://github.com/optuna/optuna/releases/tag/v3.0.0. Use suggest_float instead.\n",
      "  'colsample_bytree': trial.suggest_uniform('colsample_bytree', 0.5, 1.0),\n",
      "/var/folders/g6/kn9b03jj7fb6vtdn4q7l0_cm0000gn/T/ipykernel_73459/1710893890.py:11: FutureWarning: suggest_loguniform has been deprecated in v3.0.0. This feature will be removed in v6.0.0. See https://github.com/optuna/optuna/releases/tag/v3.0.0. Use suggest_float(..., log=True) instead.\n",
      "  'reg_alpha':        trial.suggest_loguniform('reg_alpha', 1e-8, 10.0),\n",
      "/var/folders/g6/kn9b03jj7fb6vtdn4q7l0_cm0000gn/T/ipykernel_73459/1710893890.py:12: FutureWarning: suggest_loguniform has been deprecated in v3.0.0. This feature will be removed in v6.0.0. See https://github.com/optuna/optuna/releases/tag/v3.0.0. Use suggest_float(..., log=True) instead.\n",
      "  'reg_lambda':       trial.suggest_loguniform('reg_lambda', 1e-8, 10.0),\n"
     ]
    },
    {
     "name": "stdout",
     "output_type": "stream",
     "text": [
      "Did not meet early stopping. Best iteration is:\n",
      "[1188]\tvalid_0's l2: 6.34398e+12\n"
     ]
    },
    {
     "name": "stderr",
     "output_type": "stream",
     "text": [
      "/Users/ilolss/anaconda3/envs/ml-project-2-course/lib/python3.10/site-packages/sklearn/utils/validation.py:2739: UserWarning: X does not have valid feature names, but LGBMRegressor was fitted with feature names\n",
      "  warnings.warn(\n"
     ]
    },
    {
     "name": "stdout",
     "output_type": "stream",
     "text": [
      "Training until validation scores don't improve for 50 rounds\n",
      "Training until validation scores don't improve for 50 rounds\n"
     ]
    },
    {
     "name": "stderr",
     "output_type": "stream",
     "text": [
      "Best trial: 26. Best value: 0.773476:  56%|█████▌    | 28/50 [2:03:56<40:15, 109.78s/it]/var/folders/g6/kn9b03jj7fb6vtdn4q7l0_cm0000gn/T/ipykernel_73459/1710893890.py:6: FutureWarning: suggest_loguniform has been deprecated in v3.0.0. This feature will be removed in v6.0.0. See https://github.com/optuna/optuna/releases/tag/v3.0.0. Use suggest_float(..., log=True) instead.\n",
      "  'learning_rate':    trial.suggest_loguniform('learning_rate', 1e-3, 1e-1),\n",
      "/var/folders/g6/kn9b03jj7fb6vtdn4q7l0_cm0000gn/T/ipykernel_73459/1710893890.py:9: FutureWarning: suggest_uniform has been deprecated in v3.0.0. This feature will be removed in v6.0.0. See https://github.com/optuna/optuna/releases/tag/v3.0.0. Use suggest_float instead.\n",
      "  'subsample':        trial.suggest_uniform('subsample', 0.5, 1.0),\n"
     ]
    },
    {
     "name": "stdout",
     "output_type": "stream",
     "text": [
      "[I 2025-06-10 11:47:10,019] Trial 26 finished with value: 0.7734762814937777 and parameters: {'n_estimators': 1213, 'learning_rate': 0.024496439436048064, 'num_leaves': 63, 'max_depth': 30, 'subsample': 0.7875446509821259, 'colsample_bytree': 0.5020615944067544, 'reg_alpha': 4.509220298477112, 'reg_lambda': 6.926904100118654, 'min_child_weight': 14}. Best is trial 26 with value: 0.7734762814937777.\n"
     ]
    },
    {
     "name": "stderr",
     "output_type": "stream",
     "text": [
      "/var/folders/g6/kn9b03jj7fb6vtdn4q7l0_cm0000gn/T/ipykernel_73459/1710893890.py:10: FutureWarning: suggest_uniform has been deprecated in v3.0.0. This feature will be removed in v6.0.0. See https://github.com/optuna/optuna/releases/tag/v3.0.0. Use suggest_float instead.\n",
      "  'colsample_bytree': trial.suggest_uniform('colsample_bytree', 0.5, 1.0),\n",
      "/var/folders/g6/kn9b03jj7fb6vtdn4q7l0_cm0000gn/T/ipykernel_73459/1710893890.py:11: FutureWarning: suggest_loguniform has been deprecated in v3.0.0. This feature will be removed in v6.0.0. See https://github.com/optuna/optuna/releases/tag/v3.0.0. Use suggest_float(..., log=True) instead.\n",
      "  'reg_alpha':        trial.suggest_loguniform('reg_alpha', 1e-8, 10.0),\n",
      "/var/folders/g6/kn9b03jj7fb6vtdn4q7l0_cm0000gn/T/ipykernel_73459/1710893890.py:12: FutureWarning: suggest_loguniform has been deprecated in v3.0.0. This feature will be removed in v6.0.0. See https://github.com/optuna/optuna/releases/tag/v3.0.0. Use suggest_float(..., log=True) instead.\n",
      "  'reg_lambda':       trial.suggest_loguniform('reg_lambda', 1e-8, 10.0),\n"
     ]
    },
    {
     "name": "stdout",
     "output_type": "stream",
     "text": [
      "Did not meet early stopping. Best iteration is:\n",
      "[1271]\tvalid_0's l2: 6.58403e+12\n"
     ]
    },
    {
     "name": "stderr",
     "output_type": "stream",
     "text": [
      "/Users/ilolss/anaconda3/envs/ml-project-2-course/lib/python3.10/site-packages/sklearn/utils/validation.py:2739: UserWarning: X does not have valid feature names, but LGBMRegressor was fitted with feature names\n",
      "  warnings.warn(\n"
     ]
    },
    {
     "name": "stdout",
     "output_type": "stream",
     "text": [
      "Training until validation scores don't improve for 50 rounds\n",
      "Training until validation scores don't improve for 50 rounds\n",
      "Training until validation scores don't improve for 50 rounds\n"
     ]
    },
    {
     "name": "stderr",
     "output_type": "stream",
     "text": [
      "Best trial: 26. Best value: 0.773476:  58%|█████▊    | 29/50 [2:05:17<35:43, 102.07s/it]"
     ]
    },
    {
     "name": "stdout",
     "output_type": "stream",
     "text": [
      "[I 2025-06-10 11:48:30,366] Trial 30 finished with value: 0.7649048410168859 and parameters: {'n_estimators': 1302, 'learning_rate': 0.018630926377458022, 'num_leaves': 44, 'max_depth': 12, 'subsample': 0.7219953660145989, 'colsample_bytree': 0.7128047226849252, 'reg_alpha': 0.0003763991558961714, 'reg_lambda': 2.2413615409795623e-05, 'min_child_weight': 14}. Best is trial 26 with value: 0.7734762814937777.\n"
     ]
    },
    {
     "name": "stderr",
     "output_type": "stream",
     "text": [
      "/var/folders/g6/kn9b03jj7fb6vtdn4q7l0_cm0000gn/T/ipykernel_73459/1710893890.py:6: FutureWarning: suggest_loguniform has been deprecated in v3.0.0. This feature will be removed in v6.0.0. See https://github.com/optuna/optuna/releases/tag/v3.0.0. Use suggest_float(..., log=True) instead.\n",
      "  'learning_rate':    trial.suggest_loguniform('learning_rate', 1e-3, 1e-1),\n",
      "/var/folders/g6/kn9b03jj7fb6vtdn4q7l0_cm0000gn/T/ipykernel_73459/1710893890.py:9: FutureWarning: suggest_uniform has been deprecated in v3.0.0. This feature will be removed in v6.0.0. See https://github.com/optuna/optuna/releases/tag/v3.0.0. Use suggest_float instead.\n",
      "  'subsample':        trial.suggest_uniform('subsample', 0.5, 1.0),\n",
      "/var/folders/g6/kn9b03jj7fb6vtdn4q7l0_cm0000gn/T/ipykernel_73459/1710893890.py:10: FutureWarning: suggest_uniform has been deprecated in v3.0.0. This feature will be removed in v6.0.0. See https://github.com/optuna/optuna/releases/tag/v3.0.0. Use suggest_float instead.\n",
      "  'colsample_bytree': trial.suggest_uniform('colsample_bytree', 0.5, 1.0),\n",
      "/var/folders/g6/kn9b03jj7fb6vtdn4q7l0_cm0000gn/T/ipykernel_73459/1710893890.py:11: FutureWarning: suggest_loguniform has been deprecated in v3.0.0. This feature will be removed in v6.0.0. See https://github.com/optuna/optuna/releases/tag/v3.0.0. Use suggest_float(..., log=True) instead.\n",
      "  'reg_alpha':        trial.suggest_loguniform('reg_alpha', 1e-8, 10.0),\n",
      "/var/folders/g6/kn9b03jj7fb6vtdn4q7l0_cm0000gn/T/ipykernel_73459/1710893890.py:12: FutureWarning: suggest_loguniform has been deprecated in v3.0.0. This feature will be removed in v6.0.0. See https://github.com/optuna/optuna/releases/tag/v3.0.0. Use suggest_float(..., log=True) instead.\n",
      "  'reg_lambda':       trial.suggest_loguniform('reg_lambda', 1e-8, 10.0),\n"
     ]
    },
    {
     "name": "stdout",
     "output_type": "stream",
     "text": [
      "Early stopping, best iteration is:\n",
      "[1206]\tvalid_0's l2: 6.64302e+12\n"
     ]
    },
    {
     "name": "stderr",
     "output_type": "stream",
     "text": [
      "/Users/ilolss/anaconda3/envs/ml-project-2-course/lib/python3.10/site-packages/sklearn/utils/validation.py:2739: UserWarning: X does not have valid feature names, but LGBMRegressor was fitted with feature names\n",
      "  warnings.warn(\n"
     ]
    },
    {
     "name": "stdout",
     "output_type": "stream",
     "text": [
      "Training until validation scores don't improve for 50 rounds\n"
     ]
    },
    {
     "name": "stderr",
     "output_type": "stream",
     "text": [
      "Best trial: 26. Best value: 0.773476:  60%|██████    | 30/50 [2:09:16<46:30, 139.53s/it]"
     ]
    },
    {
     "name": "stdout",
     "output_type": "stream",
     "text": [
      "[I 2025-06-10 11:52:30,255] Trial 31 finished with value: 0.7627985370043929 and parameters: {'n_estimators': 1334, 'learning_rate': 0.019163560993567127, 'num_leaves': 33, 'max_depth': 12, 'subsample': 0.7533391804898018, 'colsample_bytree': 0.8766694156680578, 'reg_alpha': 0.0003928978466716268, 'reg_lambda': 2.18988923330997e-05, 'min_child_weight': 11}. Best is trial 26 with value: 0.7734762814937777.\n"
     ]
    },
    {
     "name": "stderr",
     "output_type": "stream",
     "text": [
      "/var/folders/g6/kn9b03jj7fb6vtdn4q7l0_cm0000gn/T/ipykernel_73459/1710893890.py:6: FutureWarning: suggest_loguniform has been deprecated in v3.0.0. This feature will be removed in v6.0.0. See https://github.com/optuna/optuna/releases/tag/v3.0.0. Use suggest_float(..., log=True) instead.\n",
      "  'learning_rate':    trial.suggest_loguniform('learning_rate', 1e-3, 1e-1),\n",
      "/var/folders/g6/kn9b03jj7fb6vtdn4q7l0_cm0000gn/T/ipykernel_73459/1710893890.py:9: FutureWarning: suggest_uniform has been deprecated in v3.0.0. This feature will be removed in v6.0.0. See https://github.com/optuna/optuna/releases/tag/v3.0.0. Use suggest_float instead.\n",
      "  'subsample':        trial.suggest_uniform('subsample', 0.5, 1.0),\n",
      "/var/folders/g6/kn9b03jj7fb6vtdn4q7l0_cm0000gn/T/ipykernel_73459/1710893890.py:10: FutureWarning: suggest_uniform has been deprecated in v3.0.0. This feature will be removed in v6.0.0. See https://github.com/optuna/optuna/releases/tag/v3.0.0. Use suggest_float instead.\n",
      "  'colsample_bytree': trial.suggest_uniform('colsample_bytree', 0.5, 1.0),\n",
      "/var/folders/g6/kn9b03jj7fb6vtdn4q7l0_cm0000gn/T/ipykernel_73459/1710893890.py:11: FutureWarning: suggest_loguniform has been deprecated in v3.0.0. This feature will be removed in v6.0.0. See https://github.com/optuna/optuna/releases/tag/v3.0.0. Use suggest_float(..., log=True) instead.\n",
      "  'reg_alpha':        trial.suggest_loguniform('reg_alpha', 1e-8, 10.0),\n",
      "/var/folders/g6/kn9b03jj7fb6vtdn4q7l0_cm0000gn/T/ipykernel_73459/1710893890.py:12: FutureWarning: suggest_loguniform has been deprecated in v3.0.0. This feature will be removed in v6.0.0. See https://github.com/optuna/optuna/releases/tag/v3.0.0. Use suggest_float(..., log=True) instead.\n",
      "  'reg_lambda':       trial.suggest_loguniform('reg_lambda', 1e-8, 10.0),\n"
     ]
    },
    {
     "name": "stdout",
     "output_type": "stream",
     "text": [
      "Training until validation scores don't improve for 50 rounds\n",
      "Training until validation scores don't improve for 50 rounds\n",
      "Training until validation scores don't improve for 50 rounds\n",
      "Early stopping, best iteration is:\n",
      "[1171]\tvalid_0's l2: 6.27708e+12\n",
      "Early stopping, best iteration is:\n",
      "[1059]\tvalid_0's l2: 6.46581e+12\n"
     ]
    },
    {
     "name": "stderr",
     "output_type": "stream",
     "text": [
      "/Users/ilolss/anaconda3/envs/ml-project-2-course/lib/python3.10/site-packages/sklearn/utils/validation.py:2739: UserWarning: X does not have valid feature names, but LGBMRegressor was fitted with feature names\n",
      "  warnings.warn(\n",
      "/Users/ilolss/anaconda3/envs/ml-project-2-course/lib/python3.10/site-packages/sklearn/utils/validation.py:2739: UserWarning: X does not have valid feature names, but LGBMRegressor was fitted with feature names\n",
      "  warnings.warn(\n",
      "Best trial: 32. Best value: 0.775865:  62%|██████▏   | 31/50 [2:19:12<1:24:33, 267.02s/it]"
     ]
    },
    {
     "name": "stdout",
     "output_type": "stream",
     "text": [
      "[I 2025-06-10 12:02:25,453] Trial 32 finished with value: 0.7758649506904582 and parameters: {'n_estimators': 1293, 'learning_rate': 0.018979006632263765, 'num_leaves': 52, 'max_depth': 30, 'subsample': 0.7308899210502896, 'colsample_bytree': 0.5048094059104028, 'reg_alpha': 0.0002724921985019624, 'reg_lambda': 1.3261732166212643e-05, 'min_child_weight': 12}. Best is trial 32 with value: 0.7758649506904582.\n"
     ]
    },
    {
     "name": "stderr",
     "output_type": "stream",
     "text": [
      "/var/folders/g6/kn9b03jj7fb6vtdn4q7l0_cm0000gn/T/ipykernel_73459/1710893890.py:6: FutureWarning: suggest_loguniform has been deprecated in v3.0.0. This feature will be removed in v6.0.0. See https://github.com/optuna/optuna/releases/tag/v3.0.0. Use suggest_float(..., log=True) instead.\n",
      "  'learning_rate':    trial.suggest_loguniform('learning_rate', 1e-3, 1e-1),\n",
      "Best trial: 32. Best value: 0.775865:  64%|██████▍   | 32/50 [2:19:12<57:15, 190.89s/it]  "
     ]
    },
    {
     "name": "stdout",
     "output_type": "stream",
     "text": [
      "[I 2025-06-10 12:02:25,746] Trial 28 finished with value: 0.76912611519222 and parameters: {'n_estimators': 1286, 'learning_rate': 0.019519056328355665, 'num_leaves': 141, 'max_depth': 30, 'subsample': 0.8095055672856472, 'colsample_bytree': 0.7164357336148057, 'reg_alpha': 7.11388928094855, 'reg_lambda': 1.0340627176411394e-05, 'min_child_weight': 13}. Best is trial 32 with value: 0.7758649506904582.\n"
     ]
    },
    {
     "name": "stderr",
     "output_type": "stream",
     "text": [
      "/var/folders/g6/kn9b03jj7fb6vtdn4q7l0_cm0000gn/T/ipykernel_73459/1710893890.py:9: FutureWarning: suggest_uniform has been deprecated in v3.0.0. This feature will be removed in v6.0.0. See https://github.com/optuna/optuna/releases/tag/v3.0.0. Use suggest_float instead.\n",
      "  'subsample':        trial.suggest_uniform('subsample', 0.5, 1.0),\n",
      "/var/folders/g6/kn9b03jj7fb6vtdn4q7l0_cm0000gn/T/ipykernel_73459/1710893890.py:10: FutureWarning: suggest_uniform has been deprecated in v3.0.0. This feature will be removed in v6.0.0. See https://github.com/optuna/optuna/releases/tag/v3.0.0. Use suggest_float instead.\n",
      "  'colsample_bytree': trial.suggest_uniform('colsample_bytree', 0.5, 1.0),\n",
      "/var/folders/g6/kn9b03jj7fb6vtdn4q7l0_cm0000gn/T/ipykernel_73459/1710893890.py:11: FutureWarning: suggest_loguniform has been deprecated in v3.0.0. This feature will be removed in v6.0.0. See https://github.com/optuna/optuna/releases/tag/v3.0.0. Use suggest_float(..., log=True) instead.\n",
      "  'reg_alpha':        trial.suggest_loguniform('reg_alpha', 1e-8, 10.0),\n",
      "/var/folders/g6/kn9b03jj7fb6vtdn4q7l0_cm0000gn/T/ipykernel_73459/1710893890.py:12: FutureWarning: suggest_loguniform has been deprecated in v3.0.0. This feature will be removed in v6.0.0. See https://github.com/optuna/optuna/releases/tag/v3.0.0. Use suggest_float(..., log=True) instead.\n",
      "  'reg_lambda':       trial.suggest_loguniform('reg_lambda', 1e-8, 10.0),\n"
     ]
    },
    {
     "name": "stdout",
     "output_type": "stream",
     "text": [
      "Did not meet early stopping. Best iteration is:\n",
      "[1613]\tvalid_0's l2: 7.12068e+12\n"
     ]
    },
    {
     "name": "stderr",
     "output_type": "stream",
     "text": [
      "/Users/ilolss/anaconda3/envs/ml-project-2-course/lib/python3.10/site-packages/sklearn/utils/validation.py:2739: UserWarning: X does not have valid feature names, but LGBMRegressor was fitted with feature names\n",
      "  warnings.warn(\n",
      "Best trial: 32. Best value: 0.775865:  66%|██████▌   | 33/50 [2:20:01<42:26, 149.77s/it]/var/folders/g6/kn9b03jj7fb6vtdn4q7l0_cm0000gn/T/ipykernel_73459/1710893890.py:6: FutureWarning: suggest_loguniform has been deprecated in v3.0.0. This feature will be removed in v6.0.0. See https://github.com/optuna/optuna/releases/tag/v3.0.0. Use suggest_float(..., log=True) instead.\n",
      "  'learning_rate':    trial.suggest_loguniform('learning_rate', 1e-3, 1e-1),\n",
      "/var/folders/g6/kn9b03jj7fb6vtdn4q7l0_cm0000gn/T/ipykernel_73459/1710893890.py:9: FutureWarning: suggest_uniform has been deprecated in v3.0.0. This feature will be removed in v6.0.0. See https://github.com/optuna/optuna/releases/tag/v3.0.0. Use suggest_float instead.\n",
      "  'subsample':        trial.suggest_uniform('subsample', 0.5, 1.0),\n",
      "/var/folders/g6/kn9b03jj7fb6vtdn4q7l0_cm0000gn/T/ipykernel_73459/1710893890.py:10: FutureWarning: suggest_uniform has been deprecated in v3.0.0. This feature will be removed in v6.0.0. See https://github.com/optuna/optuna/releases/tag/v3.0.0. Use suggest_float instead.\n",
      "  'colsample_bytree': trial.suggest_uniform('colsample_bytree', 0.5, 1.0),\n",
      "/var/folders/g6/kn9b03jj7fb6vtdn4q7l0_cm0000gn/T/ipykernel_73459/1710893890.py:11: FutureWarning: suggest_loguniform has been deprecated in v3.0.0. This feature will be removed in v6.0.0. See https://github.com/optuna/optuna/releases/tag/v3.0.0. Use suggest_float(..., log=True) instead.\n",
      "  'reg_alpha':        trial.suggest_loguniform('reg_alpha', 1e-8, 10.0),\n"
     ]
    },
    {
     "name": "stdout",
     "output_type": "stream",
     "text": [
      "[I 2025-06-10 12:03:14,862] Trial 34 finished with value: 0.7457425397306388 and parameters: {'n_estimators': 1614, 'learning_rate': 0.004341055611167815, 'num_leaves': 32, 'max_depth': 27, 'subsample': 0.8695497888991097, 'colsample_bytree': 0.5047996250932033, 'reg_alpha': 5.016047953257169, 'reg_lambda': 0.06454312863083596, 'min_child_weight': 18}. Best is trial 32 with value: 0.7758649506904582.\n"
     ]
    },
    {
     "name": "stderr",
     "output_type": "stream",
     "text": [
      "/var/folders/g6/kn9b03jj7fb6vtdn4q7l0_cm0000gn/T/ipykernel_73459/1710893890.py:12: FutureWarning: suggest_loguniform has been deprecated in v3.0.0. This feature will be removed in v6.0.0. See https://github.com/optuna/optuna/releases/tag/v3.0.0. Use suggest_float(..., log=True) instead.\n",
      "  'reg_lambda':       trial.suggest_loguniform('reg_lambda', 1e-8, 10.0),\n"
     ]
    },
    {
     "name": "stdout",
     "output_type": "stream",
     "text": [
      "Early stopping, best iteration is:\n",
      "[1271]\tvalid_0's l2: 6.31564e+12\n"
     ]
    },
    {
     "name": "stderr",
     "output_type": "stream",
     "text": [
      "/Users/ilolss/anaconda3/envs/ml-project-2-course/lib/python3.10/site-packages/sklearn/utils/validation.py:2739: UserWarning: X does not have valid feature names, but LGBMRegressor was fitted with feature names\n",
      "  warnings.warn(\n",
      "Best trial: 32. Best value: 0.775865:  68%|██████▊   | 34/50 [2:21:22<34:31, 129.48s/it]/var/folders/g6/kn9b03jj7fb6vtdn4q7l0_cm0000gn/T/ipykernel_73459/1710893890.py:6: FutureWarning: suggest_loguniform has been deprecated in v3.0.0. This feature will be removed in v6.0.0. See https://github.com/optuna/optuna/releases/tag/v3.0.0. Use suggest_float(..., log=True) instead.\n",
      "  'learning_rate':    trial.suggest_loguniform('learning_rate', 1e-3, 1e-1),\n"
     ]
    },
    {
     "name": "stdout",
     "output_type": "stream",
     "text": [
      "[I 2025-06-10 12:04:35,332] Trial 33 finished with value: 0.7744882480557582 and parameters: {'n_estimators': 1655, 'learning_rate': 0.02734829818013816, 'num_leaves': 49, 'max_depth': 27, 'subsample': 0.8497905111357599, 'colsample_bytree': 0.5364881443073006, 'reg_alpha': 0.0004489837283865065, 'reg_lambda': 0.08511764209514812, 'min_child_weight': 18}. Best is trial 32 with value: 0.7758649506904582.\n"
     ]
    },
    {
     "name": "stderr",
     "output_type": "stream",
     "text": [
      "/var/folders/g6/kn9b03jj7fb6vtdn4q7l0_cm0000gn/T/ipykernel_73459/1710893890.py:9: FutureWarning: suggest_uniform has been deprecated in v3.0.0. This feature will be removed in v6.0.0. See https://github.com/optuna/optuna/releases/tag/v3.0.0. Use suggest_float instead.\n",
      "  'subsample':        trial.suggest_uniform('subsample', 0.5, 1.0),\n",
      "/var/folders/g6/kn9b03jj7fb6vtdn4q7l0_cm0000gn/T/ipykernel_73459/1710893890.py:10: FutureWarning: suggest_uniform has been deprecated in v3.0.0. This feature will be removed in v6.0.0. See https://github.com/optuna/optuna/releases/tag/v3.0.0. Use suggest_float instead.\n",
      "  'colsample_bytree': trial.suggest_uniform('colsample_bytree', 0.5, 1.0),\n",
      "/var/folders/g6/kn9b03jj7fb6vtdn4q7l0_cm0000gn/T/ipykernel_73459/1710893890.py:11: FutureWarning: suggest_loguniform has been deprecated in v3.0.0. This feature will be removed in v6.0.0. See https://github.com/optuna/optuna/releases/tag/v3.0.0. Use suggest_float(..., log=True) instead.\n",
      "  'reg_alpha':        trial.suggest_loguniform('reg_alpha', 1e-8, 10.0),\n",
      "/var/folders/g6/kn9b03jj7fb6vtdn4q7l0_cm0000gn/T/ipykernel_73459/1710893890.py:12: FutureWarning: suggest_loguniform has been deprecated in v3.0.0. This feature will be removed in v6.0.0. See https://github.com/optuna/optuna/releases/tag/v3.0.0. Use suggest_float(..., log=True) instead.\n",
      "  'reg_lambda':       trial.suggest_loguniform('reg_lambda', 1e-8, 10.0),\n"
     ]
    },
    {
     "name": "stdout",
     "output_type": "stream",
     "text": [
      "Early stopping, best iteration is:\n",
      "[861]\tvalid_0's l2: 6.38551e+12\n"
     ]
    },
    {
     "name": "stderr",
     "output_type": "stream",
     "text": [
      "/Users/ilolss/anaconda3/envs/ml-project-2-course/lib/python3.10/site-packages/sklearn/utils/validation.py:2739: UserWarning: X does not have valid feature names, but LGBMRegressor was fitted with feature names\n",
      "  warnings.warn(\n",
      "Best trial: 32. Best value: 0.775865:  70%|███████   | 35/50 [2:24:08<35:07, 140.53s/it]"
     ]
    },
    {
     "name": "stdout",
     "output_type": "stream",
     "text": [
      "[I 2025-06-10 12:07:22,228] Trial 39 finished with value: 0.7719933377946379 and parameters: {'n_estimators': 1436, 'learning_rate': 0.04162617946093205, 'num_leaves': 57, 'max_depth': 26, 'subsample': 0.8524296896526506, 'colsample_bytree': 0.5078228137218741, 'reg_alpha': 0.0006503762012489656, 'reg_lambda': 0.18729065821335142, 'min_child_weight': 19}. Best is trial 32 with value: 0.7758649506904582.\n"
     ]
    },
    {
     "name": "stderr",
     "output_type": "stream",
     "text": [
      "/var/folders/g6/kn9b03jj7fb6vtdn4q7l0_cm0000gn/T/ipykernel_73459/1710893890.py:6: FutureWarning: suggest_loguniform has been deprecated in v3.0.0. This feature will be removed in v6.0.0. See https://github.com/optuna/optuna/releases/tag/v3.0.0. Use suggest_float(..., log=True) instead.\n",
      "  'learning_rate':    trial.suggest_loguniform('learning_rate', 1e-3, 1e-1),\n",
      "/var/folders/g6/kn9b03jj7fb6vtdn4q7l0_cm0000gn/T/ipykernel_73459/1710893890.py:9: FutureWarning: suggest_uniform has been deprecated in v3.0.0. This feature will be removed in v6.0.0. See https://github.com/optuna/optuna/releases/tag/v3.0.0. Use suggest_float instead.\n",
      "  'subsample':        trial.suggest_uniform('subsample', 0.5, 1.0),\n",
      "/var/folders/g6/kn9b03jj7fb6vtdn4q7l0_cm0000gn/T/ipykernel_73459/1710893890.py:10: FutureWarning: suggest_uniform has been deprecated in v3.0.0. This feature will be removed in v6.0.0. See https://github.com/optuna/optuna/releases/tag/v3.0.0. Use suggest_float instead.\n",
      "  'colsample_bytree': trial.suggest_uniform('colsample_bytree', 0.5, 1.0),\n",
      "/var/folders/g6/kn9b03jj7fb6vtdn4q7l0_cm0000gn/T/ipykernel_73459/1710893890.py:11: FutureWarning: suggest_loguniform has been deprecated in v3.0.0. This feature will be removed in v6.0.0. See https://github.com/optuna/optuna/releases/tag/v3.0.0. Use suggest_float(..., log=True) instead.\n",
      "  'reg_alpha':        trial.suggest_loguniform('reg_alpha', 1e-8, 10.0),\n",
      "/var/folders/g6/kn9b03jj7fb6vtdn4q7l0_cm0000gn/T/ipykernel_73459/1710893890.py:12: FutureWarning: suggest_loguniform has been deprecated in v3.0.0. This feature will be removed in v6.0.0. See https://github.com/optuna/optuna/releases/tag/v3.0.0. Use suggest_float(..., log=True) instead.\n",
      "  'reg_lambda':       trial.suggest_loguniform('reg_lambda', 1e-8, 10.0),\n"
     ]
    },
    {
     "name": "stdout",
     "output_type": "stream",
     "text": [
      "Training until validation scores don't improve for 50 rounds\n",
      "Training until validation scores don't improve for 50 rounds\n",
      "Did not meet early stopping. Best iteration is:\n",
      "[1874]\tvalid_0's l2: 8.14476e+12\n"
     ]
    },
    {
     "name": "stderr",
     "output_type": "stream",
     "text": [
      "/Users/ilolss/anaconda3/envs/ml-project-2-course/lib/python3.10/site-packages/sklearn/utils/validation.py:2739: UserWarning: X does not have valid feature names, but LGBMRegressor was fitted with feature names\n",
      "  warnings.warn(\n"
     ]
    },
    {
     "name": "stdout",
     "output_type": "stream",
     "text": [
      "Training until validation scores don't improve for 50 rounds\n"
     ]
    },
    {
     "name": "stderr",
     "output_type": "stream",
     "text": [
      "Best trial: 32. Best value: 0.775865:  72%|███████▏  | 36/50 [2:27:53<38:37, 165.52s/it]"
     ]
    },
    {
     "name": "stdout",
     "output_type": "stream",
     "text": [
      "[I 2025-06-10 12:11:07,060] Trial 15 finished with value: 0.7091757084074103 and parameters: {'n_estimators': 1874, 'learning_rate': 0.0014207088364904163, 'num_leaves': 155, 'max_depth': 26, 'subsample': 0.5125401354369957, 'colsample_bytree': 0.559332541904994, 'reg_alpha': 0.0400043095520283, 'reg_lambda': 0.013727168404130456, 'min_child_weight': 22}. Best is trial 32 with value: 0.7758649506904582.\n"
     ]
    },
    {
     "name": "stderr",
     "output_type": "stream",
     "text": [
      "/var/folders/g6/kn9b03jj7fb6vtdn4q7l0_cm0000gn/T/ipykernel_73459/1710893890.py:6: FutureWarning: suggest_loguniform has been deprecated in v3.0.0. This feature will be removed in v6.0.0. See https://github.com/optuna/optuna/releases/tag/v3.0.0. Use suggest_float(..., log=True) instead.\n",
      "  'learning_rate':    trial.suggest_loguniform('learning_rate', 1e-3, 1e-1),\n",
      "/var/folders/g6/kn9b03jj7fb6vtdn4q7l0_cm0000gn/T/ipykernel_73459/1710893890.py:9: FutureWarning: suggest_uniform has been deprecated in v3.0.0. This feature will be removed in v6.0.0. See https://github.com/optuna/optuna/releases/tag/v3.0.0. Use suggest_float instead.\n",
      "  'subsample':        trial.suggest_uniform('subsample', 0.5, 1.0),\n",
      "/var/folders/g6/kn9b03jj7fb6vtdn4q7l0_cm0000gn/T/ipykernel_73459/1710893890.py:10: FutureWarning: suggest_uniform has been deprecated in v3.0.0. This feature will be removed in v6.0.0. See https://github.com/optuna/optuna/releases/tag/v3.0.0. Use suggest_float instead.\n",
      "  'colsample_bytree': trial.suggest_uniform('colsample_bytree', 0.5, 1.0),\n",
      "/var/folders/g6/kn9b03jj7fb6vtdn4q7l0_cm0000gn/T/ipykernel_73459/1710893890.py:11: FutureWarning: suggest_loguniform has been deprecated in v3.0.0. This feature will be removed in v6.0.0. See https://github.com/optuna/optuna/releases/tag/v3.0.0. Use suggest_float(..., log=True) instead.\n",
      "  'reg_alpha':        trial.suggest_loguniform('reg_alpha', 1e-8, 10.0),\n",
      "/var/folders/g6/kn9b03jj7fb6vtdn4q7l0_cm0000gn/T/ipykernel_73459/1710893890.py:12: FutureWarning: suggest_loguniform has been deprecated in v3.0.0. This feature will be removed in v6.0.0. See https://github.com/optuna/optuna/releases/tag/v3.0.0. Use suggest_float(..., log=True) instead.\n",
      "  'reg_lambda':       trial.suggest_loguniform('reg_lambda', 1e-8, 10.0),\n"
     ]
    },
    {
     "name": "stdout",
     "output_type": "stream",
     "text": [
      "Training until validation scores don't improve for 50 rounds\n",
      "Training until validation scores don't improve for 50 rounds\n",
      "Early stopping, best iteration is:\n",
      "[384]\tvalid_0's l2: 6.46802e+12\n"
     ]
    },
    {
     "name": "stderr",
     "output_type": "stream",
     "text": [
      "/Users/ilolss/anaconda3/envs/ml-project-2-course/lib/python3.10/site-packages/sklearn/utils/validation.py:2739: UserWarning: X does not have valid feature names, but LGBMRegressor was fitted with feature names\n",
      "  warnings.warn(\n",
      "Best trial: 32. Best value: 0.775865:  74%|███████▍  | 37/50 [2:31:28<39:00, 180.02s/it]"
     ]
    },
    {
     "name": "stdout",
     "output_type": "stream",
     "text": [
      "[I 2025-06-10 12:14:41,303] Trial 38 finished with value: 0.7690471498448759 and parameters: {'n_estimators': 1603, 'learning_rate': 0.041310333239868394, 'num_leaves': 192, 'max_depth': 25, 'subsample': 0.8542866027931505, 'colsample_bytree': 0.5152483119404845, 'reg_alpha': 0.11673686916186878, 'reg_lambda': 0.18700134937223917, 'min_child_weight': 18}. Best is trial 32 with value: 0.7758649506904582.\n"
     ]
    },
    {
     "name": "stderr",
     "output_type": "stream",
     "text": [
      "/var/folders/g6/kn9b03jj7fb6vtdn4q7l0_cm0000gn/T/ipykernel_73459/1710893890.py:6: FutureWarning: suggest_loguniform has been deprecated in v3.0.0. This feature will be removed in v6.0.0. See https://github.com/optuna/optuna/releases/tag/v3.0.0. Use suggest_float(..., log=True) instead.\n",
      "  'learning_rate':    trial.suggest_loguniform('learning_rate', 1e-3, 1e-1),\n",
      "/var/folders/g6/kn9b03jj7fb6vtdn4q7l0_cm0000gn/T/ipykernel_73459/1710893890.py:9: FutureWarning: suggest_uniform has been deprecated in v3.0.0. This feature will be removed in v6.0.0. See https://github.com/optuna/optuna/releases/tag/v3.0.0. Use suggest_float instead.\n",
      "  'subsample':        trial.suggest_uniform('subsample', 0.5, 1.0),\n",
      "/var/folders/g6/kn9b03jj7fb6vtdn4q7l0_cm0000gn/T/ipykernel_73459/1710893890.py:10: FutureWarning: suggest_uniform has been deprecated in v3.0.0. This feature will be removed in v6.0.0. See https://github.com/optuna/optuna/releases/tag/v3.0.0. Use suggest_float instead.\n",
      "  'colsample_bytree': trial.suggest_uniform('colsample_bytree', 0.5, 1.0),\n",
      "/var/folders/g6/kn9b03jj7fb6vtdn4q7l0_cm0000gn/T/ipykernel_73459/1710893890.py:11: FutureWarning: suggest_loguniform has been deprecated in v3.0.0. This feature will be removed in v6.0.0. See https://github.com/optuna/optuna/releases/tag/v3.0.0. Use suggest_float(..., log=True) instead.\n",
      "  'reg_alpha':        trial.suggest_loguniform('reg_alpha', 1e-8, 10.0),\n",
      "/var/folders/g6/kn9b03jj7fb6vtdn4q7l0_cm0000gn/T/ipykernel_73459/1710893890.py:12: FutureWarning: suggest_loguniform has been deprecated in v3.0.0. This feature will be removed in v6.0.0. See https://github.com/optuna/optuna/releases/tag/v3.0.0. Use suggest_float(..., log=True) instead.\n",
      "  'reg_lambda':       trial.suggest_loguniform('reg_lambda', 1e-8, 10.0),\n"
     ]
    },
    {
     "name": "stdout",
     "output_type": "stream",
     "text": [
      "Early stopping, best iteration is:\n",
      "[649]\tvalid_0's l2: 6.22253e+12\n"
     ]
    },
    {
     "name": "stderr",
     "output_type": "stream",
     "text": [
      "/Users/ilolss/anaconda3/envs/ml-project-2-course/lib/python3.10/site-packages/sklearn/utils/validation.py:2739: UserWarning: X does not have valid feature names, but LGBMRegressor was fitted with feature names\n",
      "  warnings.warn(\n",
      "Best trial: 40. Best value: 0.777813:  76%|███████▌  | 38/50 [2:32:43<29:47, 148.92s/it]/var/folders/g6/kn9b03jj7fb6vtdn4q7l0_cm0000gn/T/ipykernel_73459/1710893890.py:6: FutureWarning: suggest_loguniform has been deprecated in v3.0.0. This feature will be removed in v6.0.0. See https://github.com/optuna/optuna/releases/tag/v3.0.0. Use suggest_float(..., log=True) instead.\n",
      "  'learning_rate':    trial.suggest_loguniform('learning_rate', 1e-3, 1e-1),\n"
     ]
    },
    {
     "name": "stdout",
     "output_type": "stream",
     "text": [
      "[I 2025-06-10 12:15:57,164] Trial 40 finished with value: 0.7778125884898708 and parameters: {'n_estimators': 1600, 'learning_rate': 0.04230796771458062, 'num_leaves': 109, 'max_depth': 26, 'subsample': 0.7744391789491678, 'colsample_bytree': 0.5013855637546327, 'reg_alpha': 0.08261606688965385, 'reg_lambda': 0.2539614097187018, 'min_child_weight': 18}. Best is trial 40 with value: 0.7778125884898708.\n"
     ]
    },
    {
     "name": "stderr",
     "output_type": "stream",
     "text": [
      "/var/folders/g6/kn9b03jj7fb6vtdn4q7l0_cm0000gn/T/ipykernel_73459/1710893890.py:9: FutureWarning: suggest_uniform has been deprecated in v3.0.0. This feature will be removed in v6.0.0. See https://github.com/optuna/optuna/releases/tag/v3.0.0. Use suggest_float instead.\n",
      "  'subsample':        trial.suggest_uniform('subsample', 0.5, 1.0),\n",
      "/var/folders/g6/kn9b03jj7fb6vtdn4q7l0_cm0000gn/T/ipykernel_73459/1710893890.py:10: FutureWarning: suggest_uniform has been deprecated in v3.0.0. This feature will be removed in v6.0.0. See https://github.com/optuna/optuna/releases/tag/v3.0.0. Use suggest_float instead.\n",
      "  'colsample_bytree': trial.suggest_uniform('colsample_bytree', 0.5, 1.0),\n",
      "/var/folders/g6/kn9b03jj7fb6vtdn4q7l0_cm0000gn/T/ipykernel_73459/1710893890.py:11: FutureWarning: suggest_loguniform has been deprecated in v3.0.0. This feature will be removed in v6.0.0. See https://github.com/optuna/optuna/releases/tag/v3.0.0. Use suggest_float(..., log=True) instead.\n",
      "  'reg_alpha':        trial.suggest_loguniform('reg_alpha', 1e-8, 10.0),\n",
      "/var/folders/g6/kn9b03jj7fb6vtdn4q7l0_cm0000gn/T/ipykernel_73459/1710893890.py:12: FutureWarning: suggest_loguniform has been deprecated in v3.0.0. This feature will be removed in v6.0.0. See https://github.com/optuna/optuna/releases/tag/v3.0.0. Use suggest_float(..., log=True) instead.\n",
      "  'reg_lambda':       trial.suggest_loguniform('reg_lambda', 1e-8, 10.0),\n"
     ]
    },
    {
     "name": "stdout",
     "output_type": "stream",
     "text": [
      "Training until validation scores don't improve for 50 rounds\n",
      "Early stopping, best iteration is:\n",
      "[383]\tvalid_0's l2: 6.49981e+12\n",
      "Early stopping, best iteration is:\n",
      "[383]\tvalid_0's l2: 6.47801e+12\n"
     ]
    },
    {
     "name": "stderr",
     "output_type": "stream",
     "text": [
      "/Users/ilolss/anaconda3/envs/ml-project-2-course/lib/python3.10/site-packages/sklearn/utils/validation.py:2739: UserWarning: X does not have valid feature names, but LGBMRegressor was fitted with feature names\n",
      "  warnings.warn(\n",
      "/Users/ilolss/anaconda3/envs/ml-project-2-course/lib/python3.10/site-packages/sklearn/utils/validation.py:2739: UserWarning: X does not have valid feature names, but LGBMRegressor was fitted with feature names\n",
      "  warnings.warn(\n",
      "Best trial: 40. Best value: 0.777813:  78%|███████▊  | 39/50 [2:36:08<30:22, 165.66s/it]"
     ]
    },
    {
     "name": "stdout",
     "output_type": "stream",
     "text": [
      "[I 2025-06-10 12:19:22,089] Trial 42 finished with value: 0.7679120536187543 and parameters: {'n_estimators': 1525, 'learning_rate': 0.04618472688111098, 'num_leaves': 64, 'max_depth': 26, 'subsample': 0.7828745453497874, 'colsample_bytree': 0.5086204849104204, 'reg_alpha': 0.05164314697485174, 'reg_lambda': 0.3923740192791511, 'min_child_weight': 19}. Best is trial 40 with value: 0.7778125884898708.\n",
      "[I 2025-06-10 12:19:22,093] Trial 44 finished with value: 0.7686901795952471 and parameters: {'n_estimators': 1518, 'learning_rate': 0.04269020052097826, 'num_leaves': 55, 'max_depth': 26, 'subsample': 0.839720866456937, 'colsample_bytree': 0.5068852399088224, 'reg_alpha': 0.0010669883295691583, 'reg_lambda': 0.22624620072026666, 'min_child_weight': 20}. Best is trial 40 with value: 0.7778125884898708.\n",
      "Early stopping, best iteration is:\n",
      "[1174]\tvalid_0's l2: 6.29252e+12\n"
     ]
    },
    {
     "name": "stderr",
     "output_type": "stream",
     "text": [
      "/Users/ilolss/anaconda3/envs/ml-project-2-course/lib/python3.10/site-packages/sklearn/utils/validation.py:2739: UserWarning: X does not have valid feature names, but LGBMRegressor was fitted with feature names\n",
      "  warnings.warn(\n"
     ]
    },
    {
     "name": "stdout",
     "output_type": "stream",
     "text": [
      "Training until validation scores don't improve for 50 rounds\n",
      "Training until validation scores don't improve for 50 rounds\n"
     ]
    },
    {
     "name": "stderr",
     "output_type": "stream",
     "text": [
      "Best trial: 40. Best value: 0.777813:  82%|████████▏ | 41/50 [2:36:52<14:55, 99.54s/it] "
     ]
    },
    {
     "name": "stdout",
     "output_type": "stream",
     "text": [
      "[I 2025-06-10 12:20:06,278] Trial 41 finished with value: 0.775313784587046 and parameters: {'n_estimators': 1534, 'learning_rate': 0.038668735023195, 'num_leaves': 59, 'max_depth': 26, 'subsample': 0.8430391937585485, 'colsample_bytree': 0.5068329036269448, 'reg_alpha': 0.07671638061460652, 'reg_lambda': 0.15446675394443224, 'min_child_weight': 19}. Best is trial 40 with value: 0.7778125884898708.\n",
      "Early stopping, best iteration is:\n",
      "[383]\tvalid_0's l2: 6.49469e+12\n"
     ]
    },
    {
     "name": "stderr",
     "output_type": "stream",
     "text": [
      "/Users/ilolss/anaconda3/envs/ml-project-2-course/lib/python3.10/site-packages/sklearn/utils/validation.py:2739: UserWarning: X does not have valid feature names, but LGBMRegressor was fitted with feature names\n",
      "  warnings.warn(\n"
     ]
    },
    {
     "name": "stdout",
     "output_type": "stream",
     "text": [
      "Early stopping, best iteration is:\n",
      "[514]\tvalid_0's l2: 6.58308e+12\n",
      "Early stopping, best iteration is:\n",
      "[299]\tvalid_0's l2: 6.50392e+12\n"
     ]
    },
    {
     "name": "stderr",
     "output_type": "stream",
     "text": [
      "/Users/ilolss/anaconda3/envs/ml-project-2-course/lib/python3.10/site-packages/sklearn/utils/validation.py:2739: UserWarning: X does not have valid feature names, but LGBMRegressor was fitted with feature names\n",
      "  warnings.warn(\n",
      "/Users/ilolss/anaconda3/envs/ml-project-2-course/lib/python3.10/site-packages/sklearn/utils/validation.py:2739: UserWarning: X does not have valid feature names, but LGBMRegressor was fitted with feature names\n",
      "  warnings.warn(\n",
      "Best trial: 40. Best value: 0.777813:  84%|████████▍ | 42/50 [2:38:01<12:14, 91.83s/it]"
     ]
    },
    {
     "name": "stdout",
     "output_type": "stream",
     "text": [
      "[I 2025-06-10 12:21:14,646] Trial 45 finished with value: 0.7680948402255096 and parameters: {'n_estimators': 1460, 'learning_rate': 0.04360271931749821, 'num_leaves': 62, 'max_depth': 26, 'subsample': 0.8411135708806825, 'colsample_bytree': 0.533604259979626, 'reg_alpha': 0.05335578264962451, 'reg_lambda': 0.22899010125441294, 'min_child_weight': 19}. Best is trial 40 with value: 0.7778125884898708.\n"
     ]
    },
    {
     "name": "stderr",
     "output_type": "stream",
     "text": [
      "Best trial: 40. Best value: 0.777813:  86%|████████▌ | 43/50 [2:38:12<08:15, 70.75s/it]"
     ]
    },
    {
     "name": "stdout",
     "output_type": "stream",
     "text": [
      "[I 2025-06-10 12:21:25,789] Trial 46 finished with value: 0.7677652776373887 and parameters: {'n_estimators': 1664, 'learning_rate': 0.04643376181074901, 'num_leaves': 63, 'max_depth': 26, 'subsample': 0.7740609259097677, 'colsample_bytree': 0.5400830350407335, 'reg_alpha': 0.10404305886690518, 'reg_lambda': 0.32082097133253223, 'min_child_weight': 19}. Best is trial 40 with value: 0.7778125884898708.\n"
     ]
    },
    {
     "name": "stderr",
     "output_type": "stream",
     "text": [
      "Best trial: 40. Best value: 0.777813:  88%|████████▊ | 44/50 [2:38:12<05:09, 51.63s/it]"
     ]
    },
    {
     "name": "stdout",
     "output_type": "stream",
     "text": [
      "[I 2025-06-10 12:21:26,189] Trial 43 finished with value: 0.7649385999470593 and parameters: {'n_estimators': 1516, 'learning_rate': 0.040443271028389266, 'num_leaves': 64, 'max_depth': 26, 'subsample': 0.861032207703214, 'colsample_bytree': 0.5199855231827348, 'reg_alpha': 0.06037030778469395, 'reg_lambda': 0.23882269665536499, 'min_child_weight': 18}. Best is trial 40 with value: 0.7778125884898708.\n",
      "Early stopping, best iteration is:\n",
      "[408]\tvalid_0's l2: 6.47265e+12\n"
     ]
    },
    {
     "name": "stderr",
     "output_type": "stream",
     "text": [
      "/Users/ilolss/anaconda3/envs/ml-project-2-course/lib/python3.10/site-packages/sklearn/utils/validation.py:2739: UserWarning: X does not have valid feature names, but LGBMRegressor was fitted with feature names\n",
      "  warnings.warn(\n",
      "Best trial: 40. Best value: 0.777813:  90%|█████████ | 45/50 [2:39:52<05:25, 65.18s/it]"
     ]
    },
    {
     "name": "stdout",
     "output_type": "stream",
     "text": [
      "[I 2025-06-10 12:23:06,251] Trial 47 finished with value: 0.768881850291976 and parameters: {'n_estimators': 1717, 'learning_rate': 0.04052495267129907, 'num_leaves': 66, 'max_depth': 25, 'subsample': 0.7729802187432796, 'colsample_bytree': 0.5455126072782969, 'reg_alpha': 0.12184133384898485, 'reg_lambda': 0.32375647575629546, 'min_child_weight': 18}. Best is trial 40 with value: 0.7778125884898708.\n",
      "Early stopping, best iteration is:\n",
      "[513]\tvalid_0's l2: 6.43423e+12\n"
     ]
    },
    {
     "name": "stderr",
     "output_type": "stream",
     "text": [
      "/Users/ilolss/anaconda3/envs/ml-project-2-course/lib/python3.10/site-packages/sklearn/utils/validation.py:2739: UserWarning: X does not have valid feature names, but LGBMRegressor was fitted with feature names\n",
      "  warnings.warn(\n",
      "Best trial: 40. Best value: 0.777813:  92%|█████████▏| 46/50 [2:40:50<04:11, 62.93s/it]"
     ]
    },
    {
     "name": "stdout",
     "output_type": "stream",
     "text": [
      "[I 2025-06-10 12:24:03,557] Trial 48 finished with value: 0.7702537143569905 and parameters: {'n_estimators': 1133, 'learning_rate': 0.04047031988711441, 'num_leaves': 65, 'max_depth': 21, 'subsample': 0.9151620901382381, 'colsample_bytree': 0.5503232541331031, 'reg_alpha': 0.0010137326501190227, 'reg_lambda': 1.567629279771473, 'min_child_weight': 8}. Best is trial 40 with value: 0.7778125884898708.\n",
      "Early stopping, best iteration is:\n",
      "[738]\tvalid_0's l2: 6.29026e+12\n"
     ]
    },
    {
     "name": "stderr",
     "output_type": "stream",
     "text": [
      "/Users/ilolss/anaconda3/envs/ml-project-2-course/lib/python3.10/site-packages/sklearn/utils/validation.py:2739: UserWarning: X does not have valid feature names, but LGBMRegressor was fitted with feature names\n",
      "  warnings.warn(\n",
      "Best trial: 40. Best value: 0.777813:  94%|█████████▍| 47/50 [2:41:49<03:05, 61.93s/it]"
     ]
    },
    {
     "name": "stdout",
     "output_type": "stream",
     "text": [
      "[I 2025-06-10 12:25:03,044] Trial 49 finished with value: 0.7753941796961696 and parameters: {'n_estimators': 1027, 'learning_rate': 0.05243223180046229, 'num_leaves': 64, 'max_depth': 21, 'subsample': 0.7774079142106206, 'colsample_bytree': 0.5444319687499145, 'reg_alpha': 0.21456603000344204, 'reg_lambda': 0.0014461090075524937, 'min_child_weight': 8}. Best is trial 40 with value: 0.7778125884898708.\n",
      "Did not meet early stopping. Best iteration is:\n",
      "[1596]\tvalid_0's l2: 6.74168e+12\n"
     ]
    },
    {
     "name": "stderr",
     "output_type": "stream",
     "text": [
      "/Users/ilolss/anaconda3/envs/ml-project-2-course/lib/python3.10/site-packages/sklearn/utils/validation.py:2739: UserWarning: X does not have valid feature names, but LGBMRegressor was fitted with feature names\n",
      "  warnings.warn(\n"
     ]
    },
    {
     "name": "stdout",
     "output_type": "stream",
     "text": [
      "Did not meet early stopping. Best iteration is:\n",
      "[1647]\tvalid_0's l2: 6.61988e+12\n"
     ]
    },
    {
     "name": "stderr",
     "output_type": "stream",
     "text": [
      "/Users/ilolss/anaconda3/envs/ml-project-2-course/lib/python3.10/site-packages/sklearn/utils/validation.py:2739: UserWarning: X does not have valid feature names, but LGBMRegressor was fitted with feature names\n",
      "  warnings.warn(\n",
      "Best trial: 40. Best value: 0.777813:  96%|█████████▌| 48/50 [2:43:35<02:29, 74.84s/it]"
     ]
    },
    {
     "name": "stdout",
     "output_type": "stream",
     "text": [
      "[I 2025-06-10 12:26:49,062] Trial 36 finished with value: 0.7592754069633155 and parameters: {'n_estimators': 1596, 'learning_rate': 0.004842247865373332, 'num_leaves': 107, 'max_depth': 27, 'subsample': 0.8467179252355471, 'colsample_bytree': 0.5115879279731358, 'reg_alpha': 0.10240305080763626, 'reg_lambda': 0.1371609257714269, 'min_child_weight': 19}. Best is trial 40 with value: 0.7778125884898708.\n"
     ]
    },
    {
     "name": "stderr",
     "output_type": "stream",
     "text": [
      "Best trial: 40. Best value: 0.777813:  98%|█████████▊| 49/50 [2:43:42<00:54, 54.77s/it]"
     ]
    },
    {
     "name": "stdout",
     "output_type": "stream",
     "text": [
      "[I 2025-06-10 12:26:55,844] Trial 37 finished with value: 0.7636245025078996 and parameters: {'n_estimators': 1647, 'learning_rate': 0.0048377350959822206, 'num_leaves': 128, 'max_depth': 27, 'subsample': 0.832995490079824, 'colsample_bytree': 0.5030219368974044, 'reg_alpha': 0.3134846652717163, 'reg_lambda': 0.07327730901442155, 'min_child_weight': 18}. Best is trial 40 with value: 0.7778125884898708.\n",
      "Did not meet early stopping. Best iteration is:\n",
      "[1670]\tvalid_0's l2: 6.7134e+12\n"
     ]
    },
    {
     "name": "stderr",
     "output_type": "stream",
     "text": [
      "/Users/ilolss/anaconda3/envs/ml-project-2-course/lib/python3.10/site-packages/sklearn/utils/validation.py:2739: UserWarning: X does not have valid feature names, but LGBMRegressor was fitted with feature names\n",
      "  warnings.warn(\n",
      "Best trial: 40. Best value: 0.777813: 100%|██████████| 50/50 [2:44:39<00:00, 197.59s/it]"
     ]
    },
    {
     "name": "stdout",
     "output_type": "stream",
     "text": [
      "[I 2025-06-10 12:27:52,699] Trial 35 finished with value: 0.7602852339333606 and parameters: {'n_estimators': 1670, 'learning_rate': 0.004113125424886741, 'num_leaves': 192, 'max_depth': 27, 'subsample': 0.8744357434867911, 'colsample_bytree': 0.515274665210104, 'reg_alpha': 7.6015414896103835, 'reg_lambda': 0.10782316486854308, 'min_child_weight': 19}. Best is trial 40 with value: 0.7778125884898708.\n",
      "Best R²: 0.7778125884898708\n",
      "Best params: {'n_estimators': 1600, 'learning_rate': 0.04230796771458062, 'num_leaves': 109, 'max_depth': 26, 'subsample': 0.7744391789491678, 'colsample_bytree': 0.5013855637546327, 'reg_alpha': 0.08261606688965385, 'reg_lambda': 0.2539614097187018, 'min_child_weight': 18}\n"
     ]
    },
    {
     "name": "stderr",
     "output_type": "stream",
     "text": [
      "\n"
     ]
    }
   ],
   "source": [
    "study = optuna.create_study(direction='maximize', study_name='lgbm_opt_r2')\n",
    "study.optimize(\n",
    "    objective,\n",
    "    n_trials=50,\n",
    "    n_jobs=-1,\n",
    "    show_progress_bar=True,\n",
    ")\n",
    "\n",
    "print(\"Best R²:\", study.best_value)\n",
    "print(\"Best params:\", study.best_params)"
   ]
  },
  {
   "cell_type": "code",
   "execution_count": 59,
   "metadata": {},
   "outputs": [
    {
     "name": "stdout",
     "output_type": "stream",
     "text": [
      "Best R²: 0.7778125884898708\n",
      "Best params: {'n_estimators': 1600, 'learning_rate': 0.04230796771458062, 'num_leaves': 109, 'max_depth': 26, 'subsample': 0.7744391789491678, 'colsample_bytree': 0.5013855637546327, 'reg_alpha': 0.08261606688965385, 'reg_lambda': 0.2539614097187018, 'min_child_weight': 18}\n"
     ]
    }
   ],
   "source": [
    "print(\"Best R²:\", study.best_value)\n",
    "print(\"Best params:\", study.best_params)"
   ]
  },
  {
   "cell_type": "code",
   "execution_count": 60,
   "metadata": {},
   "outputs": [],
   "source": [
    "final_model = LGBMRegressor(**study.best_params, random_state=RANDOM_STATE)"
   ]
  },
  {
   "cell_type": "code",
   "execution_count": 65,
   "metadata": {},
   "outputs": [
    {
     "name": "stdout",
     "output_type": "stream",
     "text": [
      "[LightGBM] [Info] Auto-choosing row-wise multi-threading, the overhead of testing was 1.508726 seconds.\n",
      "You can set `force_row_wise=true` to remove the overhead.\n",
      "And if memory is not enough, you can set `force_col_wise=true`.\n",
      "[LightGBM] [Info] Total Bins 6396\n",
      "[LightGBM] [Info] Number of data points in the train set: 483236, number of used features: 2692\n",
      "[LightGBM] [Info] Start training from score 2807543.358738\n",
      "[LightGBM] [Warning] No further splits with positive gain, best gain: -inf\n",
      "[LightGBM] [Warning] No further splits with positive gain, best gain: -inf\n",
      "Models saved to best_lightgbm_model.pkl and lightgbm_preprocessor.pkl\n"
     ]
    }
   ],
   "source": [
    "import joblib\n",
    "\n",
    "final_model.fit(X_train_proc, y_train)\n",
    "\n",
    "joblib.dump(final_model, 'best_lightgbm_model.pkl')\n",
    "joblib.dump(preprocessor, 'lightgbm_preprocessor.pkl')\n",
    "print(\"Models saved to best_lightgbm_model.pkl and lightgbm_preprocessor.pkl\")"
   ]
  },
  {
   "cell_type": "code",
   "execution_count": 66,
   "metadata": {},
   "outputs": [
    {
     "name": "stderr",
     "output_type": "stream",
     "text": [
      "/Users/ilolss/anaconda3/envs/ml-project-2-course/lib/python3.10/site-packages/sklearn/utils/validation.py:2739: UserWarning: X does not have valid feature names, but LGBMRegressor was fitted with feature names\n",
      "  warnings.warn(\n"
     ]
    }
   ],
   "source": [
    "y_pred = final_model.predict(X_valid_proc)"
   ]
  },
  {
   "cell_type": "code",
   "execution_count": 64,
   "metadata": {},
   "outputs": [
    {
     "name": "stdout",
     "output_type": "stream",
     "text": [
      "Test MAE: 283821.9014\n",
      "Test MSE: 6138210709233.8760\n",
      "Test R^2: 0.7808\n"
     ]
    }
   ],
   "source": [
    "from sklearn.metrics import mean_absolute_error, mean_squared_error, r2_score\n",
    "\n",
    "print(f\"Test MAE: {mean_absolute_error(y_valid, y_pred):.4f}\")\n",
    "print(f\"Test MSE: {mean_squared_error(y_valid, y_pred):.4f}\")\n",
    "print(f\"Test R^2: {r2_score(y_valid, y_pred):.4f}\")"
   ]
  },
  {
   "cell_type": "markdown",
   "metadata": {},
   "source": [
    "### Выводы"
   ]
  },
  {
   "cell_type": "markdown",
   "metadata": {},
   "source": [
    "$R^2 = 0.7808$"
   ]
  },
  {
   "cell_type": "code",
   "execution_count": null,
   "metadata": {},
   "outputs": [],
   "source": [
    "param = {\n",
    "    'n_estimators': 1600,\n",
    "    'learning_rate': 0.04230796771458062, \n",
    "    'num_leaves': 109, \n",
    "    'max_depth': 26, \n",
    "    'subsample': 0.7744391789491678, \n",
    "    'colsample_bytree': 0.5013855637546327, \n",
    "    'reg_alpha': 0.08261606688965385, \n",
    "    'reg_lambda': 0.2539614097187018, \n",
    "    'min_child_weight': 18\n",
    "}"
   ]
  }
 ],
 "metadata": {
  "kernelspec": {
   "display_name": "ml-project-2-course",
   "language": "python",
   "name": "python3"
  },
  "language_info": {
   "codemirror_mode": {
    "name": "ipython",
    "version": 3
   },
   "file_extension": ".py",
   "mimetype": "text/x-python",
   "name": "python",
   "nbconvert_exporter": "python",
   "pygments_lexer": "ipython3",
   "version": "3.10.16"
  }
 },
 "nbformat": 4,
 "nbformat_minor": 2
}
